{
 "cells": [
  {
   "cell_type": "code",
   "execution_count": 1,
   "metadata": {},
   "outputs": [],
   "source": [
    "from bs4 import BeautifulSoup\n",
    "import requests\n",
    "import os\n",
    "import wget\n",
    "import time\n",
    "base_path = \"C:\\\\Users\\\\10235555\\\\Documents\\\\Dataportal Data\\\\download_drr\"\n",
    "import urllib.request\n",
    "import logging\n",
    "import pandas as pd\n",
    "from re import search\n",
    "logging.basicConfig(handlers=[logging.FileHandler(\"C:\\\\Users\\\\10235555\\\\Documents\\\\Dataportal Data\\\\drr_out.log\"),\n",
    "                            logging.StreamHandler()], level=logging.INFO)"
   ]
  },
  {
   "cell_type": "code",
   "execution_count": 2,
   "metadata": {},
   "outputs": [],
   "source": [
    "from selenium import webdriver\n",
    "from selenium.webdriver.common.keys import Keys\n",
    "from selenium.webdriver.common.by import By\n",
    "from selenium.webdriver.support.ui import WebDriverWait\n",
    "from selenium.common.exceptions import ElementNotInteractableException, NoSuchElementException\n",
    "from selenium.common.exceptions import ElementClickInterceptedException\n",
    "from selenium.webdriver.support import expected_conditions as EC\n",
    "from selenium.webdriver.chrome.service import Service\n",
    "from webdriver_manager.chrome import ChromeDriverManager\n",
    "from webdriver_manager.firefox import GeckoDriverManager\n",
    "from selenium.webdriver.firefox.options import Options\n",
    "from bs4 import BeautifulSoup\n",
    "import shutil\n",
    "import time\n",
    "import os\n",
    "from pyshadow.main import Shadow\n",
    "from py7zr import unpack_7zarchive\n",
    "from RequestInferSchemaToJsonAPI.main import TriggerInferShemaToJsonAPI"
   ]
  },
  {
   "cell_type": "code",
   "execution_count": 3,
   "metadata": {},
   "outputs": [
    {
     "name": "stderr",
     "output_type": "stream",
     "text": [
      "INFO:WDM:====== WebDriver manager ======\n",
      "INFO:WDM:Get LATEST chromedriver version for google-chrome 109.0.5414\n",
      "INFO:WDM:Driver [C:\\Users\\10235555\\.wdm\\drivers\\chromedriver\\win32\\109.0.5414\\chromedriver.exe] found in cache\n"
     ]
    }
   ],
   "source": [
    "chrome_options = webdriver.ChromeOptions()\n",
    "base_path = f\"C:\\\\Users\\\\10235555\\\\Documents\\\\Dataportal Data\\\\download_drr\" # local, gets current working directory\n",
    "base_path\n",
    "prefs = {'download.default_directory' : base_path}#, \"profile.content_settings.exceptions.automatic_downloads.*.setting\" : 1}\n",
    "chrome_options.add_experimental_option('prefs', prefs)\n",
    "#chrome_options.add_argument('--user-agent=\"Mozilla/5.0 (Windows Phone 10.0; Android 4.2.1; Microsoft; Lumia 640 XL LTE) AppleWebKit/537.36 (KHTML, like Gecko) Chrome/42.0.2311.135 Mobile Safari/537.36 Edge/12.10166\"')\n",
    "driver = webdriver.Chrome(service=Service(ChromeDriverManager().install()), options=chrome_options)\n",
    "driver.maximize_window()"
   ]
  },
  {
   "cell_type": "code",
   "execution_count": 13,
   "metadata": {},
   "outputs": [
    {
     "name": "stdout",
     "output_type": "stream",
     "text": [
      "2019-05-08\n"
     ]
    }
   ],
   "source": [
    "import datetime\n",
    "driver.get('https://data-undrr.opendata.arcgis.com/datasets/undrr::sheet1-4/explore?location=49.540870%2C-30.397600%2C4.57')\n",
    "time.sleep(22)\n",
    "download=driver.find_element(By.CLASS_NAME,\"side-panel-ref\").find_element(By.CLASS_NAME,'btn.btn-default.btn-block')\n",
    "ul_publiched = driver.find_element(By.CLASS_NAME,'content-metadata-list')\n",
    "all_li = ul_publiched.find_elements(By.TAG_NAME,'li')\n",
    "publiched = all_li[3].find_element(By.TAG_NAME,'div').text\n",
    "publiched = publiched.replace(',','')\n",
    "created = datetime.datetime.strptime(publiched, '%B %d %Y').strftime('%Y-%m-%d')\n",
    "print(created)"
   ]
  },
  {
   "cell_type": "code",
   "execution_count": 5,
   "metadata": {},
   "outputs": [
    {
     "name": "stdout",
     "output_type": "stream",
     "text": [
      "\n",
      "\n",
      "\n",
      "\n"
     ]
    },
    {
     "ename": "StaleElementReferenceException",
     "evalue": "Message: stale element reference: element is not attached to the page document\n  (Session info: chrome=109.0.5414.120)\nStacktrace:\nBacktrace:\n\t(No symbol) [0x00626643]\n\t(No symbol) [0x005BBE21]\n\t(No symbol) [0x004BDA9D]\n\t(No symbol) [0x004C09E4]\n\t(No symbol) [0x004C08AD]\n\t(No symbol) [0x004C0B30]\n\t(No symbol) [0x004F0FAC]\n\t(No symbol) [0x004F147B]\n\t(No symbol) [0x004E6941]\n\t(No symbol) [0x0050FDC4]\n\t(No symbol) [0x004E641F]\n\t(No symbol) [0x005100D4]\n\t(No symbol) [0x00526B09]\n\t(No symbol) [0x0050FB76]\n\t(No symbol) [0x004E49C1]\n\t(No symbol) [0x004E5E5D]\n\tGetHandleVerifier [0x0089A142+2497106]\n\tGetHandleVerifier [0x008C85D3+2686691]\n\tGetHandleVerifier [0x008CBB9C+2700460]\n\tGetHandleVerifier [0x006D3B10+635936]\n\t(No symbol) [0x005C4A1F]\n\t(No symbol) [0x005CA418]\n\t(No symbol) [0x005CA505]\n\t(No symbol) [0x005D508B]\n\tBaseThreadInitThunk [0x772400F9+25]\n\tRtlGetAppContainerNamedObjectPath [0x77D17BBE+286]\n\tRtlGetAppContainerNamedObjectPath [0x77D17B8E+238]\n",
     "output_type": "error",
     "traceback": [
      "\u001b[1;31m---------------------------------------------------------------------------\u001b[0m",
      "\u001b[1;31mStaleElementReferenceException\u001b[0m            Traceback (most recent call last)",
      "Cell \u001b[1;32mIn [5], line 6\u001b[0m\n\u001b[0;32m      4\u001b[0m child_node \u001b[39m=\u001b[39m parent_node\u001b[39m.\u001b[39mfind_elements(By\u001b[39m.\u001b[39mTAG_NAME,\u001b[39m'\u001b[39m\u001b[39mul\u001b[39m\u001b[39m'\u001b[39m)\n\u001b[0;32m      5\u001b[0m \u001b[39mfor\u001b[39;00m ul \u001b[39min\u001b[39;00m child_node:\n\u001b[1;32m----> 6\u001b[0m     all_li \u001b[39m=\u001b[39m ul\u001b[39m.\u001b[39;49mfind_elements(By\u001b[39m.\u001b[39;49mTAG_NAME,\u001b[39m'\u001b[39;49m\u001b[39mli\u001b[39;49m\u001b[39m'\u001b[39;49m)\n\u001b[0;32m      7\u001b[0m     \u001b[39mtry\u001b[39;00m:\n\u001b[0;32m      8\u001b[0m         \u001b[39mfor\u001b[39;00m li \u001b[39min\u001b[39;00m all_li:\n",
      "File \u001b[1;32mc:\\Users\\10235555\\AppData\\Local\\Programs\\Python\\Python311\\Lib\\site-packages\\selenium\\webdriver\\remote\\webelement.py:456\u001b[0m, in \u001b[0;36mWebElement.find_elements\u001b[1;34m(self, by, value)\u001b[0m\n\u001b[0;32m    453\u001b[0m     by \u001b[39m=\u001b[39m By\u001b[39m.\u001b[39mCSS_SELECTOR\n\u001b[0;32m    454\u001b[0m     value \u001b[39m=\u001b[39m \u001b[39mf\u001b[39m\u001b[39m'\u001b[39m\u001b[39m[name=\u001b[39m\u001b[39m\"\u001b[39m\u001b[39m{\u001b[39;00mvalue\u001b[39m}\u001b[39;00m\u001b[39m\"\u001b[39m\u001b[39m]\u001b[39m\u001b[39m'\u001b[39m\n\u001b[1;32m--> 456\u001b[0m \u001b[39mreturn\u001b[39;00m \u001b[39mself\u001b[39;49m\u001b[39m.\u001b[39;49m_execute(Command\u001b[39m.\u001b[39;49mFIND_CHILD_ELEMENTS, {\u001b[39m\"\u001b[39;49m\u001b[39musing\u001b[39;49m\u001b[39m\"\u001b[39;49m: by, \u001b[39m\"\u001b[39;49m\u001b[39mvalue\u001b[39;49m\u001b[39m\"\u001b[39;49m: value})[\u001b[39m\"\u001b[39m\u001b[39mvalue\u001b[39m\u001b[39m\"\u001b[39m]\n",
      "File \u001b[1;32mc:\\Users\\10235555\\AppData\\Local\\Programs\\Python\\Python311\\Lib\\site-packages\\selenium\\webdriver\\remote\\webelement.py:410\u001b[0m, in \u001b[0;36mWebElement._execute\u001b[1;34m(self, command, params)\u001b[0m\n\u001b[0;32m    408\u001b[0m     params \u001b[39m=\u001b[39m {}\n\u001b[0;32m    409\u001b[0m params[\u001b[39m\"\u001b[39m\u001b[39mid\u001b[39m\u001b[39m\"\u001b[39m] \u001b[39m=\u001b[39m \u001b[39mself\u001b[39m\u001b[39m.\u001b[39m_id\n\u001b[1;32m--> 410\u001b[0m \u001b[39mreturn\u001b[39;00m \u001b[39mself\u001b[39;49m\u001b[39m.\u001b[39;49m_parent\u001b[39m.\u001b[39;49mexecute(command, params)\n",
      "File \u001b[1;32mc:\\Users\\10235555\\AppData\\Local\\Programs\\Python\\Python311\\Lib\\site-packages\\selenium\\webdriver\\remote\\webdriver.py:444\u001b[0m, in \u001b[0;36mWebDriver.execute\u001b[1;34m(self, driver_command, params)\u001b[0m\n\u001b[0;32m    442\u001b[0m response \u001b[39m=\u001b[39m \u001b[39mself\u001b[39m\u001b[39m.\u001b[39mcommand_executor\u001b[39m.\u001b[39mexecute(driver_command, params)\n\u001b[0;32m    443\u001b[0m \u001b[39mif\u001b[39;00m response:\n\u001b[1;32m--> 444\u001b[0m     \u001b[39mself\u001b[39;49m\u001b[39m.\u001b[39;49merror_handler\u001b[39m.\u001b[39;49mcheck_response(response)\n\u001b[0;32m    445\u001b[0m     response[\u001b[39m\"\u001b[39m\u001b[39mvalue\u001b[39m\u001b[39m\"\u001b[39m] \u001b[39m=\u001b[39m \u001b[39mself\u001b[39m\u001b[39m.\u001b[39m_unwrap_value(response\u001b[39m.\u001b[39mget(\u001b[39m\"\u001b[39m\u001b[39mvalue\u001b[39m\u001b[39m\"\u001b[39m, \u001b[39mNone\u001b[39;00m))\n\u001b[0;32m    446\u001b[0m     \u001b[39mreturn\u001b[39;00m response\n",
      "File \u001b[1;32mc:\\Users\\10235555\\AppData\\Local\\Programs\\Python\\Python311\\Lib\\site-packages\\selenium\\webdriver\\remote\\errorhandler.py:249\u001b[0m, in \u001b[0;36mErrorHandler.check_response\u001b[1;34m(self, response)\u001b[0m\n\u001b[0;32m    247\u001b[0m         alert_text \u001b[39m=\u001b[39m value[\u001b[39m\"\u001b[39m\u001b[39malert\u001b[39m\u001b[39m\"\u001b[39m]\u001b[39m.\u001b[39mget(\u001b[39m\"\u001b[39m\u001b[39mtext\u001b[39m\u001b[39m\"\u001b[39m)\n\u001b[0;32m    248\u001b[0m     \u001b[39mraise\u001b[39;00m exception_class(message, screen, stacktrace, alert_text)  \u001b[39m# type: ignore[call-arg]  # mypy is not smart enough here\u001b[39;00m\n\u001b[1;32m--> 249\u001b[0m \u001b[39mraise\u001b[39;00m exception_class(message, screen, stacktrace)\n",
      "\u001b[1;31mStaleElementReferenceException\u001b[0m: Message: stale element reference: element is not attached to the page document\n  (Session info: chrome=109.0.5414.120)\nStacktrace:\nBacktrace:\n\t(No symbol) [0x00626643]\n\t(No symbol) [0x005BBE21]\n\t(No symbol) [0x004BDA9D]\n\t(No symbol) [0x004C09E4]\n\t(No symbol) [0x004C08AD]\n\t(No symbol) [0x004C0B30]\n\t(No symbol) [0x004F0FAC]\n\t(No symbol) [0x004F147B]\n\t(No symbol) [0x004E6941]\n\t(No symbol) [0x0050FDC4]\n\t(No symbol) [0x004E641F]\n\t(No symbol) [0x005100D4]\n\t(No symbol) [0x00526B09]\n\t(No symbol) [0x0050FB76]\n\t(No symbol) [0x004E49C1]\n\t(No symbol) [0x004E5E5D]\n\tGetHandleVerifier [0x0089A142+2497106]\n\tGetHandleVerifier [0x008C85D3+2686691]\n\tGetHandleVerifier [0x008CBB9C+2700460]\n\tGetHandleVerifier [0x006D3B10+635936]\n\t(No symbol) [0x005C4A1F]\n\t(No symbol) [0x005CA418]\n\t(No symbol) [0x005CA505]\n\t(No symbol) [0x005D508B]\n\tBaseThreadInitThunk [0x772400F9+25]\n\tRtlGetAppContainerNamedObjectPath [0x77D17BBE+286]\n\tRtlGetAppContainerNamedObjectPath [0x77D17B8E+238]\n"
     ]
    }
   ],
   "source": [
    "driver.get('https://data-undrr.opendata.arcgis.com/search?collection=Dataset')\n",
    "time.sleep(5)\n",
    "parent_node=driver.find_element(By.XPATH,'/html/body/div[7]/div[2]/div/div[1]/div[3]/div/div/div/div[2]/div[2]')\n",
    "child_node = parent_node.find_elements(By.TAG_NAME,'ul')\n",
    "for ul in child_node:\n",
    "    all_li = ul.find_elements(By.TAG_NAME,'li')\n",
    "    try:\n",
    "        for li in all_li:\n",
    "            titles = li.find_elements(By.TAG_NAME,'h3')\n",
    "            for title in titles:\n",
    "                if title.text=='Sheet1':\n",
    "                    ul_2 = parent_node.find_element(By.CLASS_NAME,'metadata-list')\n",
    "                    all_li_2 = ul_2.find_elements(By.TAG_NAME,'li')\n",
    "                    limitation = all_li_2[0].text\n",
    "                    last_modified = all_li_2[1].text\n",
    "                    ul_3 = parent_node.find_element(By.CLASS_NAME,'metadata-list.metadata-list-2')\n",
    "                    all_li_3 = ul_3.find_elements(By.TAG_NAME,'li')\n",
    "                    tag = all_li_3[1].text\n",
    "                    topic = parent_node.find_element(By.CLASS_NAME,'owner-source').text\n",
    "                    link=title.find_element(By.TAG_NAME,'a').get_attribute('href')\n",
    "                    driver.get(link)\n",
    "                    time.sleep(22)\n",
    "                    download=driver.find_element(By.CLASS_NAME,\"side-panel-ref\").find_element(By.CLASS_NAME,'btn.btn-default.btn-block')\n",
    "                    print(download.text)\n",
    "                    driver.back()\n",
    "                    time.sleep(7)\n",
    "    except:\n",
    "        pass"
   ]
  },
  {
   "cell_type": "code",
   "execution_count": 42,
   "metadata": {},
   "outputs": [
    {
     "name": "stdout",
     "output_type": "stream",
     "text": [
      "Type: Feature Layer\n",
      "Last Updated: June 13, 2019\n",
      "Type: Feature Layer\n",
      "Last Updated: June 13, 2019\n",
      "Type: Feature Layer\n",
      "Last Updated: June 13, 2019\n",
      "Type: Feature Layer\n",
      "Last Updated: June 13, 2019\n",
      "Type: Feature Layer\n",
      "Last Updated: June 13, 2019\n",
      "Type: Feature Layer\n",
      "Last Updated: June 13, 2019\n",
      "Type: Feature Layer\n",
      "Last Updated: June 13, 2019\n",
      "Type: Feature Layer\n",
      "Last Updated: June 13, 2019\n",
      "Type: Feature Layer\n",
      "Last Updated: June 13, 2019\n",
      "Type: Feature Layer\n",
      "Last Updated: June 13, 2019\n",
      "Type: Feature Layer\n",
      "Last Updated: June 13, 2019\n",
      "Type: Feature Layer\n",
      "Last Updated: June 13, 2019\n",
      "Type: Feature Layer\n",
      "Last Updated: June 13, 2019\n",
      "Type: Feature Layer\n",
      "Last Updated: June 13, 2019\n",
      "Type: Feature Layer\n",
      "Last Updated: June 13, 2019\n",
      "Type: Feature Layer\n",
      "Last Updated: June 13, 2019\n",
      "Type: Feature Layer\n",
      "Last Updated: June 13, 2019\n",
      "Type: Feature Layer\n",
      "Last Updated: June 13, 2019\n",
      "Type: Feature Layer\n",
      "Last Updated: June 13, 2019\n",
      "Type: Feature Layer\n",
      "Last Updated: June 13, 2019\n",
      "Type: Feature Layer\n",
      "Last Updated: June 13, 2019\n",
      "Type: Feature Layer\n",
      "Last Updated: June 13, 2019\n",
      "Type: Feature Layer\n",
      "Last Updated: June 13, 2019\n",
      "Type: Feature Layer\n",
      "Last Updated: June 13, 2019\n",
      "Type: Feature Layer\n",
      "Last Updated: June 13, 2019\n",
      "Type: Feature Layer\n",
      "Last Updated: June 13, 2019\n",
      "Type: Feature Layer\n",
      "Last Updated: June 13, 2019\n",
      "Type: Feature Layer\n",
      "Last Updated: June 13, 2019\n",
      "Type: Feature Layer\n",
      "Last Updated: June 13, 2019\n",
      "Type: Feature Layer\n",
      "Last Updated: June 13, 2019\n",
      "Type: Feature Layer\n",
      "Last Updated: June 13, 2019\n",
      "Type: Feature Layer\n",
      "Last Updated: June 13, 2019\n",
      "Type: Feature Layer\n",
      "Last Updated: June 13, 2019\n",
      "Type: Feature Layer\n",
      "Last Updated: June 13, 2019\n",
      "Type: Feature Layer\n",
      "Last Updated: June 13, 2019\n",
      "Type: Feature Layer\n",
      "Last Updated: June 13, 2019\n",
      "Type: Feature Layer\n",
      "Last Updated: June 13, 2019\n",
      "Type: Feature Layer\n",
      "Last Updated: June 13, 2019\n",
      "Type: Feature Layer\n",
      "Last Updated: June 13, 2019\n",
      "Type: Feature Layer\n",
      "Last Updated: June 13, 2019\n",
      "Type: Feature Layer\n",
      "Last Updated: June 13, 2019\n",
      "Type: Feature Layer\n",
      "Last Updated: June 13, 2019\n",
      "Type: Feature Layer\n",
      "Last Updated: June 13, 2019\n",
      "Type: Feature Layer\n",
      "Last Updated: June 13, 2019\n",
      "Type: Feature Layer\n",
      "Last Updated: June 13, 2019\n",
      "Type: Feature Layer\n",
      "Last Updated: June 13, 2019\n",
      "Type: Feature Layer\n",
      "Last Updated: June 13, 2019\n",
      "Type: Feature Layer\n",
      "Last Updated: June 13, 2019\n",
      "Type: Feature Layer\n",
      "Last Updated: June 13, 2019\n",
      "Type: Feature Layer\n",
      "Last Updated: June 13, 2019\n",
      "Type: Feature Layer\n",
      "Last Updated: June 13, 2019\n",
      "Type: Feature Layer\n",
      "Last Updated: June 13, 2019\n",
      "Type: Feature Layer\n",
      "Last Updated: June 13, 2019\n",
      "Type: Feature Layer\n",
      "Last Updated: June 13, 2019\n",
      "Type: Feature Layer\n",
      "Last Updated: June 13, 2019\n",
      "Type: Feature Layer\n",
      "Last Updated: June 13, 2019\n",
      "Type: Feature Layer\n",
      "Last Updated: June 13, 2019\n",
      "Type: Feature Layer\n",
      "Last Updated: June 13, 2019\n",
      "Type: Feature Layer\n",
      "Last Updated: June 13, 2019\n",
      "Type: Feature Layer\n",
      "Last Updated: June 13, 2019\n",
      "Type: Feature Layer\n",
      "Last Updated: June 13, 2019\n",
      "Type: Feature Layer\n",
      "Last Updated: June 13, 2019\n",
      "Type: Feature Layer\n",
      "Last Updated: June 13, 2019\n",
      "Type: Feature Layer\n",
      "Last Updated: June 13, 2019\n",
      "Type: Feature Layer\n",
      "Last Updated: June 13, 2019\n",
      "Type: Feature Layer\n",
      "Last Updated: June 13, 2019\n",
      "Type: Feature Layer\n",
      "Last Updated: June 13, 2019\n",
      "Type: Feature Layer\n",
      "Last Updated: June 13, 2019\n",
      "Type: Feature Layer\n",
      "Last Updated: June 13, 2019\n",
      "Type: Feature Layer\n",
      "Last Updated: June 13, 2019\n",
      "Type: Feature Layer\n",
      "Last Updated: June 13, 2019\n",
      "Type: Feature Layer\n",
      "Last Updated: June 13, 2019\n",
      "Type: Feature Layer\n",
      "Last Updated: June 13, 2019\n",
      "Type: Feature Layer\n",
      "Last Updated: June 13, 2019\n",
      "Type: Feature Layer\n",
      "Last Updated: June 13, 2019\n",
      "Type: Feature Layer\n",
      "Last Updated: June 13, 2019\n",
      "Type: Feature Layer\n",
      "Last Updated: June 13, 2019\n",
      "Type: Feature Layer\n",
      "Last Updated: June 13, 2019\n",
      "Type: Feature Layer\n",
      "Last Updated: June 13, 2019\n",
      "Type: Feature Layer\n",
      "Last Updated: June 13, 2019\n",
      "Type: Feature Layer\n",
      "Last Updated: June 13, 2019\n",
      "Type: Feature Layer\n",
      "Last Updated: June 13, 2019\n",
      "Type: Feature Layer\n",
      "Last Updated: June 13, 2019\n",
      "Type: Feature Layer\n",
      "Last Updated: June 13, 2019\n",
      "Type: Feature Layer\n",
      "Last Updated: June 13, 2019\n",
      "Type: Feature Layer\n",
      "Last Updated: June 13, 2019\n",
      "Type: Feature Layer\n",
      "Last Updated: June 13, 2019\n",
      "Type: Feature Layer\n",
      "Last Updated: June 13, 2019\n",
      "Type: Feature Layer\n",
      "Last Updated: June 13, 2019\n",
      "Type: Feature Layer\n",
      "Last Updated: June 13, 2019\n",
      "Type: Feature Layer\n",
      "Last Updated: June 13, 2019\n",
      "Type: Feature Layer\n",
      "Last Updated: June 13, 2019\n",
      "Type: Feature Layer\n",
      "Last Updated: June 13, 2019\n",
      "Type: Feature Layer\n",
      "Last Updated: June 13, 2019\n",
      "Type: Feature Layer\n",
      "Last Updated: June 13, 2019\n",
      "Type: Feature Layer\n",
      "Last Updated: June 13, 2019\n",
      "Type: Feature Layer\n",
      "Last Updated: June 13, 2019\n",
      "Type: Feature Layer\n",
      "Last Updated: June 13, 2019\n",
      "Type: Feature Layer\n",
      "Last Updated: June 13, 2019\n",
      "Type: Feature Layer\n",
      "Last Updated: June 13, 2019\n",
      "Type: Feature Layer\n",
      "Last Updated: June 13, 2019\n",
      "Type: Feature Layer\n",
      "Last Updated: June 13, 2019\n",
      "Type: Feature Layer\n",
      "Last Updated: June 13, 2019\n",
      "Type: Feature Layer\n",
      "Last Updated: June 13, 2019\n",
      "Type: Feature Layer\n",
      "Last Updated: June 13, 2019\n",
      "Type: Feature Layer\n",
      "Last Updated: June 13, 2019\n",
      "Type: Feature Layer\n",
      "Last Updated: June 13, 2019\n",
      "Type: Feature Layer\n",
      "Last Updated: June 13, 2019\n",
      "Type: Feature Layer\n",
      "Last Updated: June 13, 2019\n",
      "Type: Feature Layer\n",
      "Last Updated: June 13, 2019\n",
      "Type: Feature Layer\n",
      "Last Updated: June 13, 2019\n",
      "Type: Feature Layer\n",
      "Last Updated: June 13, 2019\n",
      "Type: Feature Layer\n",
      "Last Updated: June 13, 2019\n",
      "Type: Feature Layer\n",
      "Last Updated: June 13, 2019\n",
      "Type: Feature Layer\n",
      "Last Updated: June 13, 2019\n",
      "Type: Feature Layer\n",
      "Last Updated: June 13, 2019\n",
      "Type: Feature Layer\n",
      "Last Updated: June 13, 2019\n",
      "Type: Feature Layer\n",
      "Last Updated: June 13, 2019\n",
      "Type: Feature Layer\n",
      "Last Updated: June 13, 2019\n",
      "Type: Feature Layer\n",
      "Last Updated: June 13, 2019\n",
      "Type: Feature Layer\n",
      "Last Updated: June 13, 2019\n",
      "Type: Feature Layer\n",
      "Last Updated: June 13, 2019\n",
      "Type: Feature Layer\n",
      "Last Updated: June 13, 2019\n",
      "Type: Feature Layer\n",
      "Last Updated: June 13, 2019\n",
      "Type: Feature Layer\n",
      "Last Updated: June 13, 2019\n",
      "Type: Feature Layer\n",
      "Last Updated: June 13, 2019\n",
      "Type: Feature Layer\n",
      "Last Updated: June 13, 2019\n",
      "Type: Feature Layer\n",
      "Last Updated: June 13, 2019\n",
      "Type: Feature Layer\n",
      "Last Updated: June 13, 2019\n",
      "Type: Feature Layer\n",
      "Last Updated: June 13, 2019\n",
      "Type: Feature Layer\n",
      "Last Updated: June 13, 2019\n",
      "Type: Feature Layer\n",
      "Last Updated: June 13, 2019\n",
      "Type: Feature Layer\n",
      "Last Updated: June 13, 2019\n",
      "Type: Feature Layer\n",
      "Last Updated: June 13, 2019\n"
     ]
    }
   ],
   "source": [
    "parent_node=driver.find_element(By.XPATH,'/html/body/div[7]/div[2]/div/div[1]/div[3]/div/div/div/div[2]/div[2]')\n",
    "child_node = parent_node.find_elements(By.TAG_NAME,'ul')\n",
    "for ul in child_node:\n",
    "    all_li = ul.find_elements(By.TAG_NAME,'li')\n",
    "    for li in all_li:\n",
    "        ul_2 = parent_node.find_element(By.CLASS_NAME,'metadata-list')\n",
    "        all_li_2 = ul_2.find_elements(By.TAG_NAME,'li')\n",
    "        Type = all_li_2[0].text\n",
    "        Last_Updated = all_li_2[1].text\n",
    "        print(Type)\n",
    "        print(Last_Updated)\n",
    "        # for li_2 in all_li_2:\n",
    "        #     print(li_2.text)\n",
    "        # titles = li.find_elements(By.TAG_NAME,'h3')\n",
    "        # for title in titles:\n",
    "        #     if title.text=='Sheet1':\n",
    "        #         link=title.find_element(By.TAG_NAME,'a').get_attribute('href')\n",
    "                # print(title.text)\n",
    "                # print(link)\n",
    "    # parnt_nod_li = li.find_element(By.CLASS_NAME,'row card-row metadata-row ')\n",
    "    # child_nod_li = parnt_nod_li.find_element(By.CLASS_NAME,'col-xs-12  col-sm-6')\n",
    "    # ul = li.find_element(By.TAG_NAME,'metadata-list')\n",
    "    # li_col1 = ul.find_elements(By.TAG_NAME,'li')\n",
    "    # for meta in li_col1:\n",
    "    #     print(meta.text)"
   ]
  },
  {
   "cell_type": "code",
   "execution_count": 53,
   "metadata": {},
   "outputs": [
    {
     "name": "stdout",
     "output_type": "stream",
     "text": [
      "UN Office for Disaster Risk Reduction | UN-DRR\n",
      "UN Office for Disaster Risk Reduction | UN-DRR\n",
      "UN Office for Disaster Risk Reduction | UN-DRR\n",
      "UN Office for Disaster Risk Reduction | UN-DRR\n",
      "UN Office for Disaster Risk Reduction | UN-DRR\n"
     ]
    }
   ],
   "source": [
    "parent_node=driver.find_element(By.XPATH,'/html/body/div[7]/div[2]/div/div[1]/div[3]/div/div/div/div[2]/div[2]')\n",
    "child_node = parent_node.find_elements(By.TAG_NAME,'ul')\n",
    "for ul in child_node:\n",
    "    all_li = ul.find_elements(By.TAG_NAME,'li')\n",
    "    try:\n",
    "        for li in all_li:\n",
    "            titles = li.find_elements(By.TAG_NAME,'h3')\n",
    "            for title in titles:\n",
    "                if title.text=='Sheet1':\n",
    "                    link=title.find_element(By.TAG_NAME,'a').get_attribute('href')\n",
    "                    # print(title.text)\n",
    "                    # print(link)\n",
    "                    ul_2 = parent_node.find_element(By.CLASS_NAME,'metadata-list')\n",
    "                    all_li_2 = ul_2.find_elements(By.TAG_NAME,'li')\n",
    "                    limitation = all_li_2[0].text\n",
    "                    last_modified = all_li_2[1].text\n",
    "                    ul_3 = parent_node.find_element(By.CLASS_NAME,'metadata-list.metadata-list-2')\n",
    "                    all_li_3 = ul_3.find_elements(By.TAG_NAME,'li')\n",
    "                    tag = all_li_3[1].text\n",
    "                    topic = parent_node.find_element(By.CLASS_NAME,'owner-source').text\n",
    "                    print(topic)\n",
    "    except:\n",
    "        pass"
   ]
  },
  {
   "cell_type": "code",
   "execution_count": 78,
   "metadata": {},
   "outputs": [],
   "source": [
    "driver.get('https://data-undrr.opendata.arcgis.com/search?collection=Dataset')"
   ]
  },
  {
   "cell_type": "code",
   "execution_count": 45,
   "metadata": {},
   "outputs": [
    {
     "data": {
      "text/plain": [
       "'June 13 2019'"
      ]
     },
     "execution_count": 45,
     "metadata": {},
     "output_type": "execute_result"
    }
   ],
   "source": [
    "import datetime\n",
    "last_modified = 'Last Updated: June 13, 2019'\n",
    "last_modified = last_modified.split(': ')[1].replace(',','')\n",
    "last_modified"
   ]
  },
  {
   "cell_type": "code",
   "execution_count": 41,
   "metadata": {},
   "outputs": [
    {
     "data": {
      "text/plain": [
       "'13-06-2019'"
      ]
     },
     "execution_count": 41,
     "metadata": {},
     "output_type": "execute_result"
    }
   ],
   "source": [
    "import datetime\n",
    "date = datetime.datetime.strptime('June 13 2019', '%B %d %Y').strftime('%d-%m-%Y')\n",
    "date"
   ]
  },
  {
   "cell_type": "code",
   "execution_count": 48,
   "metadata": {},
   "outputs": [
    {
     "data": {
      "text/plain": [
       "'2019-06-13'"
      ]
     },
     "execution_count": 48,
     "metadata": {},
     "output_type": "execute_result"
    }
   ],
   "source": [
    "import datetime\n",
    "last_modified = 'Last Updated: June 13, 2019'\n",
    "last_modified = last_modified.split(': ')[1].replace(',','')\n",
    "last_modified = datetime.datetime.strptime(last_modified, '%B %d %Y').strftime('%Y-%m-%d')\n",
    "last_modified"
   ]
  },
  {
   "cell_type": "code",
   "execution_count": 37,
   "metadata": {},
   "outputs": [
    {
     "data": {
      "text/plain": [
       "'15-02-2010'"
      ]
     },
     "execution_count": 37,
     "metadata": {},
     "output_type": "execute_result"
    }
   ],
   "source": [
    "import datetime\n",
    "date = datetime.datetime.strptime('Mon Feb 15 2010', '%a %b %d %Y').strftime('%d-%m-%Y')\n",
    "date"
   ]
  },
  {
   "cell_type": "code",
   "execution_count": 30,
   "metadata": {},
   "outputs": [
    {
     "name": "stderr",
     "output_type": "stream",
     "text": [
      "INFO:root:Conversion successful - Mortality%2C_2017.csv \n"
     ]
    },
    {
     "name": "stdout",
     "output_type": "stream",
     "text": [
      "{'JobPath': 'C:\\\\Users\\\\10235555\\\\Documents\\\\Dataportal Data\\\\download_drr//Mortality%2C_2017.csv', 'JsonDetails': {'organisation': 'un-agencies', 'source': 'DRR', 'source_description': \"This is the platform for exploring and downloading GIS data, discovering and building apps, and engaging others to solve important issues around disaster risk reduction. You can analyze and combine datasets using maps, as well as develop new web and mobile applications. Let's achieve our goals together.\", 'source_url': 'https://data-undrr.opendata.arcgis.com/search?collection=Dataset', 'table': 'Mortality%2C_2017', 'description': 'Mortality%2C_2017', 'JobType': 'JSON', 'CleanPush': True, 'Server': 'str', 'UseJsonFormatForSQL': False, 'CleanReplace': True, 'MergeSchema': False, 'tags': [{'name': 'Tags: GAR2019'}], 'additional_data_sources': [{'name': ''}], 'limitations': 'Type: Feature Layer', 'concept': '', 'periodicity': '', 'topic': 'UN Office for Disaster Risk Reduction | UN-DRR', 'created': '', 'last_modified': 'Last Updated: June 13, 2019', 'TriggerTalend': False, 'SavePathForJsonOutput': ''}}\n"
     ]
    },
    {
     "name": "stderr",
     "output_type": "stream",
     "text": [
      "INFO:root:Conversion successful - CompleteData_2017.csv \n"
     ]
    },
    {
     "name": "stdout",
     "output_type": "stream",
     "text": [
      "{'JobPath': 'C:\\\\Users\\\\10235555\\\\Documents\\\\Dataportal Data\\\\download_drr//CompleteData_2017.csv', 'JsonDetails': {'organisation': 'un-agencies', 'source': 'DRR', 'source_description': \"This is the platform for exploring and downloading GIS data, discovering and building apps, and engaging others to solve important issues around disaster risk reduction. You can analyze and combine datasets using maps, as well as develop new web and mobile applications. Let's achieve our goals together.\", 'source_url': 'https://data-undrr.opendata.arcgis.com/search?collection=Dataset', 'table': 'CompleteData_2017', 'description': 'CompleteData_2017', 'JobType': 'JSON', 'CleanPush': True, 'Server': 'str', 'UseJsonFormatForSQL': False, 'CleanReplace': True, 'MergeSchema': False, 'tags': [{'name': 'Tags: GAR2019'}], 'additional_data_sources': [{'name': ''}], 'limitations': 'Type: Feature Layer', 'concept': '', 'periodicity': '', 'topic': 'UN Office for Disaster Risk Reduction | UN-DRR', 'created': '', 'last_modified': 'Last Updated: June 13, 2019', 'TriggerTalend': False, 'SavePathForJsonOutput': ''}}\n"
     ]
    },
    {
     "name": "stderr",
     "output_type": "stream",
     "text": [
      "INFO:root:Conversion successful - Number_of_Deaths_2017.csv \n"
     ]
    },
    {
     "name": "stdout",
     "output_type": "stream",
     "text": [
      "{'JobPath': 'C:\\\\Users\\\\10235555\\\\Documents\\\\Dataportal Data\\\\download_drr//Number_of_Deaths_2017.csv', 'JsonDetails': {'organisation': 'un-agencies', 'source': 'DRR', 'source_description': \"This is the platform for exploring and downloading GIS data, discovering and building apps, and engaging others to solve important issues around disaster risk reduction. You can analyze and combine datasets using maps, as well as develop new web and mobile applications. Let's achieve our goals together.\", 'source_url': 'https://data-undrr.opendata.arcgis.com/search?collection=Dataset', 'table': 'Number_of_Deaths_2017', 'description': 'Number_of_Deaths_2017', 'JobType': 'JSON', 'CleanPush': True, 'Server': 'str', 'UseJsonFormatForSQL': False, 'CleanReplace': True, 'MergeSchema': False, 'tags': [{'name': 'Tags: GAR2019'}], 'additional_data_sources': [{'name': ''}], 'limitations': 'Type: Feature Layer', 'concept': '', 'periodicity': '', 'topic': 'UN Office for Disaster Risk Reduction | UN-DRR', 'created': '', 'last_modified': 'Last Updated: June 13, 2019', 'TriggerTalend': False, 'SavePathForJsonOutput': ''}}\n"
     ]
    },
    {
     "name": "stderr",
     "output_type": "stream",
     "text": [
      "INFO:root:Conversion successful - C1_total_economic_losses%2C_2017.csv \n"
     ]
    },
    {
     "name": "stdout",
     "output_type": "stream",
     "text": [
      "{'JobPath': 'C:\\\\Users\\\\10235555\\\\Documents\\\\Dataportal Data\\\\download_drr//C1_total_economic_losses%2C_2017.csv', 'JsonDetails': {'organisation': 'un-agencies', 'source': 'DRR', 'source_description': \"This is the platform for exploring and downloading GIS data, discovering and building apps, and engaging others to solve important issues around disaster risk reduction. You can analyze and combine datasets using maps, as well as develop new web and mobile applications. Let's achieve our goals together.\", 'source_url': 'https://data-undrr.opendata.arcgis.com/search?collection=Dataset', 'table': 'C1_total_economic_losses%2C_2017', 'description': 'C1_total_economic_losses%2C_2017', 'JobType': 'JSON', 'CleanPush': True, 'Server': 'str', 'UseJsonFormatForSQL': False, 'CleanReplace': True, 'MergeSchema': False, 'tags': [{'name': 'Tags: GAR2019'}], 'additional_data_sources': [{'name': ''}], 'limitations': 'Type: Feature Layer', 'concept': '', 'periodicity': '', 'topic': 'UN Office for Disaster Risk Reduction | UN-DRR', 'created': '', 'last_modified': 'Last Updated: June 13, 2019', 'TriggerTalend': False, 'SavePathForJsonOutput': ''}}\n"
     ]
    },
    {
     "name": "stderr",
     "output_type": "stream",
     "text": [
      "INFO:root:Conversion successful - Losses%2C_1%2C000_current_USD%2C_2017.csv \n"
     ]
    },
    {
     "name": "stdout",
     "output_type": "stream",
     "text": [
      "{'JobPath': 'C:\\\\Users\\\\10235555\\\\Documents\\\\Dataportal Data\\\\download_drr//Losses%2C_1%2C000_current_USD%2C_2017.csv', 'JsonDetails': {'organisation': 'un-agencies', 'source': 'DRR', 'source_description': \"This is the platform for exploring and downloading GIS data, discovering and building apps, and engaging others to solve important issues around disaster risk reduction. You can analyze and combine datasets using maps, as well as develop new web and mobile applications. Let's achieve our goals together.\", 'source_url': 'https://data-undrr.opendata.arcgis.com/search?collection=Dataset', 'table': 'Losses%2C_1%2C000_current_USD%2C_2017', 'description': 'Losses%2C_1%2C000_current_USD%2C_2017', 'JobType': 'JSON', 'CleanPush': True, 'Server': 'str', 'UseJsonFormatForSQL': False, 'CleanReplace': True, 'MergeSchema': False, 'tags': [{'name': 'Tags: GAR2019'}], 'additional_data_sources': [{'name': ''}], 'limitations': 'Type: Feature Layer', 'concept': '', 'periodicity': '', 'topic': 'UN Office for Disaster Risk Reduction | UN-DRR', 'created': '', 'last_modified': 'Last Updated: June 13, 2019', 'TriggerTalend': False, 'SavePathForJsonOutput': ''}}\n"
     ]
    },
    {
     "name": "stderr",
     "output_type": "stream",
     "text": [
      "INFO:root:Conversion successful - Number_of_missing_people%2C_2017.csv \n"
     ]
    },
    {
     "name": "stdout",
     "output_type": "stream",
     "text": [
      "{'JobPath': 'C:\\\\Users\\\\10235555\\\\Documents\\\\Dataportal Data\\\\download_drr//Number_of_missing_people%2C_2017.csv', 'JsonDetails': {'organisation': 'un-agencies', 'source': 'DRR', 'source_description': \"This is the platform for exploring and downloading GIS data, discovering and building apps, and engaging others to solve important issues around disaster risk reduction. You can analyze and combine datasets using maps, as well as develop new web and mobile applications. Let's achieve our goals together.\", 'source_url': 'https://data-undrr.opendata.arcgis.com/search?collection=Dataset', 'table': 'Number_of_missing_people%2C_2017', 'description': 'Number_of_missing_people%2C_2017', 'JobType': 'JSON', 'CleanPush': True, 'Server': 'str', 'UseJsonFormatForSQL': False, 'CleanReplace': True, 'MergeSchema': False, 'tags': [{'name': 'Tags: GAR2019'}], 'additional_data_sources': [{'name': ''}], 'limitations': 'Type: Feature Layer', 'concept': '', 'periodicity': '', 'topic': 'UN Office for Disaster Risk Reduction | UN-DRR', 'created': '', 'last_modified': 'Last Updated: June 13, 2019', 'TriggerTalend': False, 'SavePathForJsonOutput': ''}}\n"
     ]
    }
   ],
   "source": [
    "driver.get('https://data-undrr.opendata.arcgis.com/search?collection=Dataset')\n",
    "time.sleep(5)\n",
    "parent_node=driver.find_element(By.XPATH,'/html/body/div[7]/div[2]/div/div[1]/div[3]/div/div/div/div[2]/div[2]')\n",
    "child_node = parent_node.find_elements(By.TAG_NAME,'ul')\n",
    "for ul in child_node:\n",
    "    all_li = ul.find_elements(By.TAG_NAME,'li')\n",
    "    BodyDict = {\n",
    "        \"JobPath\":\"\", #* Point to downloaded data for conversion #\n",
    "        \"JsonDetails\":{\n",
    "                ## Required\n",
    "                \"organisation\": \"un-agencies\",\n",
    "                \"source\": \"DRR\",\n",
    "                \"source_description\" : \"This is the platform for exploring and downloading GIS data, discovering and building apps, and engaging others to solve important issues around disaster risk reduction. You can analyze and combine datasets using maps, as well as develop new web and mobile applications. Let's achieve our goals together.\",\n",
    "                \"source_url\" : \"https://data-undrr.opendata.arcgis.com/search?collection=Dataset\",\n",
    "                \"table\" : \"\",\n",
    "                \"description\" : \"\", \n",
    "                ## Optional\n",
    "                \"JobType\": \"JSON\",\n",
    "                \"CleanPush\": True,\n",
    "                \"Server\": \"str\",\n",
    "                \"UseJsonFormatForSQL\":  False,\n",
    "                \"CleanReplace\":True,\n",
    "                \"MergeSchema\": False,\n",
    "                \"tags\": [{\n",
    "                    \"name\": \"\"\n",
    "                }],\n",
    "                \"additional_data_sources\": [{\n",
    "                    \"name\": \"\"\n",
    "                }],\n",
    "                \"limitations\":\"\",\n",
    "                \"concept\":  \"\",\n",
    "                \"periodicity\":  \"\",\n",
    "                \"topic\":  \"\",\n",
    "                \"created\": \"\",                       #* this should follow the following formats %Y-%m-%dT%H:%M:%S\" or \"%Y-%m-%d\"\n",
    "                \"last_modified\": \"\",                #* \"\"               \"\"                  \"\"              \"\"\n",
    "                \"TriggerTalend\" :  False,    #* initialise to True for production\n",
    "                \"SavePathForJsonOutput\": \"\" #* initialise as empty string for production.\n",
    "            }\n",
    "        }\n",
    "    try:\n",
    "        for li in all_li:\n",
    "            titles = li.find_elements(By.TAG_NAME,'h3')\n",
    "            for title in titles:\n",
    "                if title.text=='Sheet1':\n",
    "                    ul_2 = parent_node.find_element(By.CLASS_NAME,'metadata-list')\n",
    "                    all_li_2 = ul_2.find_elements(By.TAG_NAME,'li')\n",
    "                    limitation = all_li_2[0].text\n",
    "                    last_modified = all_li_2[1].text\n",
    "                    ul_3 = parent_node.find_element(By.CLASS_NAME,'metadata-list.metadata-list-2')\n",
    "                    all_li_3 = ul_3.find_elements(By.TAG_NAME,'li')\n",
    "                    tag = all_li_3[1].text\n",
    "                    topic = parent_node.find_element(By.CLASS_NAME,'owner-source').text\n",
    "                    link=title.find_element(By.TAG_NAME,'a').get_attribute('href')\n",
    "                    driver.get(link)\n",
    "                    time.sleep(22)\n",
    "                    download=driver.find_element(By.CLASS_NAME,\"side-panel-ref\").find_element(By.CLASS_NAME,'btn.btn-default.btn-block')\n",
    "                    download.click()\n",
    "                    time.sleep(14)\n",
    "                    download_csv = driver.find_element(By.CLASS_NAME,'dataset-download-card')\n",
    "                    shadow = Shadow(driver)\n",
    "                    download_c = shadow.find_element(\"calcite-button\")\n",
    "                    download_c.click()\n",
    "                    time.sleep(3)\n",
    "                    # filename = max([f for f in os.listdir(base_path)])\n",
    "                    file = max([base_path + \"\\\\\" + f for f in os.listdir(base_path)],key=os.path.getctime)\n",
    "                    filename = os.path.split(file)[1]\n",
    "                    try :\n",
    "                        BodyDict[\"JobPath\"] = f'{base_path}\\\\{filename}'\n",
    "                        BodyDict[\"JsonDetails\"][\"table\"] = filename.split('.')[0]\n",
    "                        BodyDict[\"JsonDetails\"][\"description\"] = filename.split('.')[0]\n",
    "                        BodyDict[\"JsonDetails\"][\"limitations\"] = limitation\n",
    "                        BodyDict[\"JsonDetails\"][\"topic\"] =  topic\n",
    "                        BodyDict[\"JsonDetails\"][\"tags\"][0][\"name\"] = tag\n",
    "                        BodyDict[\"JsonDetails\"][\"last_modified\"] =  last_modified\n",
    "                        # TriggerInferShemaToJsonAPIClass = TriggerInferShemaToJsonAPI(BodyDict=BodyDict)\n",
    "                        # TriggerInferShemaToJsonAPIClass.TriggerAPI()\n",
    "                        logging.info(f\"Conversion successful - {filename} \")\n",
    "                        print(BodyDict)\n",
    "                    except  Exception as err:\n",
    "                        print(err)\n",
    "                    driver.back()\n",
    "                    time.sleep(7)\n",
    "                elif title.text=='CompleteData 2017':\n",
    "                    ul_2 = parent_node.find_element(By.CLASS_NAME,'metadata-list')\n",
    "                    all_li_2 = ul_2.find_elements(By.TAG_NAME,'li')\n",
    "                    limitation = all_li_2[0].text\n",
    "                    last_modified = all_li_2[1].text\n",
    "                    ul_3 = parent_node.find_element(By.CLASS_NAME,'metadata-list.metadata-list-2')\n",
    "                    all_li_3 = ul_3.find_elements(By.TAG_NAME,'li')\n",
    "                    tag = all_li_3[1].text\n",
    "                    topic = parent_node.find_element(By.CLASS_NAME,'owner-source').text\n",
    "                    link=title.find_element(By.TAG_NAME,'a').get_attribute('href')\n",
    "                    driver.get(link)\n",
    "                    time.sleep(22)\n",
    "                    download=driver.find_element(By.CLASS_NAME,\"side-panel-ref\").find_element(By.CLASS_NAME,'btn.btn-default.btn-block')\n",
    "                    download.click()\n",
    "                    time.sleep(14)\n",
    "                    download_csv = driver.find_element(By.CLASS_NAME,'dataset-download-card')\n",
    "                    shadow = Shadow(driver)\n",
    "                    download_c = shadow.find_element(\"calcite-button\")\n",
    "                    download_c.click()\n",
    "                    time.sleep(3)\n",
    "                    # filename = max([f for f in os.listdir(base_path)])\n",
    "                    file = max([base_path + \"\\\\\" + f for f in os.listdir(base_path)],key=os.path.getctime)\n",
    "                    filename = os.path.split(file)[1]\n",
    "                    try :\n",
    "                        BodyDict[\"JobPath\"] = f'{base_path}\\\\{filename}'\n",
    "                        BodyDict[\"JsonDetails\"][\"table\"] = filename.split('.')[0]\n",
    "                        BodyDict[\"JsonDetails\"][\"description\"] = filename.split('.')[0]\n",
    "                        BodyDict[\"JsonDetails\"][\"limitations\"] = limitation\n",
    "                        BodyDict[\"JsonDetails\"][\"topic\"] =  topic\n",
    "                        BodyDict[\"JsonDetails\"][\"tags\"][0][\"name\"] = tag\n",
    "                        BodyDict[\"JsonDetails\"][\"last_modified\"] =  last_modified\n",
    "                        # TriggerInferShemaToJsonAPIClass = TriggerInferShemaToJsonAPI(BodyDict=BodyDict)\n",
    "                        # TriggerInferShemaToJsonAPIClass.TriggerAPI()\n",
    "                        logging.info(f\"Conversion successful - {filename} \")\n",
    "                        print(BodyDict)\n",
    "                    except  Exception as err:\n",
    "                        print(err)\n",
    "                    driver.back()\n",
    "                    time.sleep(7)\n",
    "    except:\n",
    "        pass"
   ]
  },
  {
   "cell_type": "code",
   "execution_count": 25,
   "metadata": {},
   "outputs": [
    {
     "name": "stdout",
     "output_type": "stream",
     "text": [
      "C:\\Users\\10235555\\Documents\\Dataportal Data\\download_drr\\Number_of_missing_people%2C_2017.csv\n",
      "Number_of_missing_people%2C_2017.csv\n"
     ]
    }
   ],
   "source": [
    "file = max([base_path + \"\\\\\" + f for f in os.listdir(base_path)],key=os.path.getctime)\n",
    "print(file)\n",
    "filename = os.path.split(file)\n",
    "print(filename[1])"
   ]
  },
  {
   "cell_type": "code",
   "execution_count": 132,
   "metadata": {},
   "outputs": [],
   "source": [
    "driver.get('https://data-undrr.opendata.arcgis.com/search?collection=Dataset')"
   ]
  },
  {
   "cell_type": "code",
   "execution_count": 134,
   "metadata": {},
   "outputs": [],
   "source": [
    "\n",
    "parent_node=driver.find_element(By.XPATH,'/html/body/div[7]/div[2]/div/div[1]/div[3]/div/div/div/div[2]/div[2]')\n",
    "child_node = parent_node.find_element(By.TAG_NAME,'ul')\n",
    "\n",
    "all_li = child_node.find_elements(By.TAG_NAME,'li')\n",
    "\n",
    "for li in all_li:\n",
    "    title = li.find_element(By.TAG_NAME,'h3')\n",
    "    if title.text=='Sheet1':\n",
    "        link=title.find_element(By.TAG_NAME,'a').get_attribute('href')\n",
    "        # print(link)\n",
    "        driver.get(link)\n",
    "        time.sleep(20)\n",
    "        download=driver.find_element(By.CLASS_NAME,\"side-panel-ref\").find_element(By.CLASS_NAME,'btn.btn-default.btn-block')\n",
    "        download.click()\n",
    "        time.sleep(5)\n",
    "        download_csv = driver.find_element(By.CLASS_NAME,'dataset-download-card')\n",
    "        shadow = Shadow(driver)\n",
    "        download_c = shadow.find_element(\"calcite-button\")\n",
    "        download_c.click()\n",
    "        \n",
    "        time.sleep(7)\n",
    "        driver.back()\n",
    "    \n"
   ]
  },
  {
   "cell_type": "code",
   "execution_count": 124,
   "metadata": {},
   "outputs": [],
   "source": [
    "download_csv = driver.find_element(By.CLASS_NAME,'dataset-download-card')\n",
    "shadow = Shadow(driver)\n",
    "download_c = shadow.find_element(\"calcite-button\")\n",
    "download_c.click()\n",
    "\n",
    "# download_c.click()"
   ]
  }
 ],
 "metadata": {
  "kernelspec": {
   "display_name": "Python 3",
   "language": "python",
   "name": "python3"
  },
  "language_info": {
   "codemirror_mode": {
    "name": "ipython",
    "version": 3
   },
   "file_extension": ".py",
   "mimetype": "text/x-python",
   "name": "python",
   "nbconvert_exporter": "python",
   "pygments_lexer": "ipython3",
   "version": "3.11.0"
  },
  "orig_nbformat": 4,
  "vscode": {
   "interpreter": {
    "hash": "69e035e7e91c91f4a781d2e2d4ddd23f591a0aa5fdf41d28e15c78aec28956a8"
   }
  }
 },
 "nbformat": 4,
 "nbformat_minor": 2
}
