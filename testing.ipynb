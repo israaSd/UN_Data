{
 "cells": [
  {
   "cell_type": "code",
   "execution_count": 6,
   "metadata": {},
   "outputs": [],
   "source": [
    "import requests\n",
    "from bs4 import BeautifulSoup\n",
    "import wget\n",
    "import logging\n",
    "import shutil\n",
    "from RequestInferSchemaToJsonAPI.main import TriggerInferShemaToJsonAPI\n",
    "import os\n",
    "base_path='c:\\\\Users\\\\10235555\\\\Documents\\\\DataportalCrawlers\\\\UN_Data\\\\downloadfolder'\n",
    "dumpfolder='C:\\\\Users\\\\10235555\\\\Documents\\\\DataportalCrawlers\\\\UN_Data\\\\dump_folder'\n",
    "logging.basicConfig(handlers=[logging.FileHandler(\"out.log\"),\n",
    "                              logging.StreamHandler()], level=logging.INFO)\n",
    "from py7zr import unpack_7zarchive                              "
   ]
  },
  {
   "cell_type": "code",
   "execution_count": 7,
   "metadata": {},
   "outputs": [],
   "source": [
    "response = requests.get('https://unctadstat.unctad.org/EN/BulkDownload.html')"
   ]
  },
  {
   "cell_type": "code",
   "execution_count": 8,
   "metadata": {},
   "outputs": [],
   "source": [
    "soup = BeautifulSoup(response.content, 'html.parser')\n",
    "shutil.register_unpack_format('7zip', ['.7z'], unpack_7zarchive)\n"
   ]
  },
  {
   "cell_type": "code",
   "execution_count": 10,
   "metadata": {},
   "outputs": [
    {
     "name": "stdout",
     "output_type": "stream",
     "text": [
      "Total and urban population, annual (~1MB)\n",
      "https://unctadstat.unctad.org/7zip/US_PopTotal.csv.7z\n",
      "Total population growth rates, annual (~1MB)\n",
      "https://unctadstat.unctad.org/7zip/US_PopGR.csv.7z\n",
      "Population structure by gender and age-group, annual (~20MB)\n",
      "https://unctadstat.unctad.org/7zip/US_PopAgeStruct.csv.7z\n",
      "Total, child and old-age dependency ratios, annual (~1MB)\n",
      "https://unctadstat.unctad.org/7zip/US_PopDependency.csv.7z\n"
     ]
    },
    {
     "name": "stderr",
     "output_type": "stream",
     "text": [
      "INFO:root:\n",
      " Unzipping Total, child and old-age dependency ratios, annual (~1MB) ...\n",
      "ERROR:root:[WinError 3] The system cannot find the path specified: 'c:\\\\Users\\\\10235555\\\\Documents\\\\DataportalCrawlers\\\\UN_Data\\\\downloadfolder\\\\Total, child and old-age dependency ratios, annual (~1MB)'\n",
      "ERROR:root:[WinError 3] The system cannot find the path specified: 'c:\\\\Users\\\\10235555\\\\Documents\\\\DataportalCrawlers\\\\UN_Data\\\\downloadfolder\\\\Total, child and old-age dependency ratios, annual (~1MB)'\n"
     ]
    },
    {
     "ename": "FileNotFoundError",
     "evalue": "[WinError 3] The system cannot find the path specified: 'c:\\\\Users\\\\10235555\\\\Documents\\\\DataportalCrawlers\\\\UN_Data\\\\downloadfolder\\\\Total, child and old-age dependency ratios, annual (~1MB)'",
     "output_type": "error",
     "traceback": [
      "\u001b[1;31m---------------------------------------------------------------------------\u001b[0m",
      "\u001b[1;31mFileNotFoundError\u001b[0m                         Traceback (most recent call last)",
      "Cell \u001b[1;32mIn [10], line 36\u001b[0m\n\u001b[0;32m     32\u001b[0m \u001b[39mexcept\u001b[39;00m \u001b[39mException\u001b[39;00m \u001b[39mas\u001b[39;00m err:\n\u001b[0;32m     33\u001b[0m     logging\u001b[39m.\u001b[39merror(err)\n\u001b[1;32m---> 36\u001b[0m \u001b[39mfor\u001b[39;00m file \u001b[39min\u001b[39;00m os\u001b[39m.\u001b[39;49mlistdir(\u001b[39mf\u001b[39;49m\u001b[39m\"\u001b[39;49m\u001b[39m{\u001b[39;49;00mbase_path\u001b[39m}\u001b[39;49;00m\u001b[39m\\\\\u001b[39;49;00m\u001b[39m{\u001b[39;49;00mtitles\u001b[39m}\u001b[39;49;00m\u001b[39m\"\u001b[39;49m):\n\u001b[0;32m     37\u001b[0m         filepath \u001b[39m=\u001b[39m \u001b[39mf\u001b[39m\u001b[39m\"\u001b[39m\u001b[39m{\u001b[39;00mbase_path\u001b[39m}\u001b[39;00m\u001b[39m\\\\\u001b[39;00m\u001b[39m{\u001b[39;00mtitles\u001b[39m}\u001b[39;00m\u001b[39m\\\\\u001b[39;00m\u001b[39m{\u001b[39;00mfile\u001b[39m}\u001b[39;00m\u001b[39m\"\u001b[39m\n\u001b[0;32m     38\u001b[0m         size \u001b[39m=\u001b[39m os\u001b[39m.\u001b[39mpath\u001b[39m.\u001b[39mgetsize(filepath)\n",
      "\u001b[1;31mFileNotFoundError\u001b[0m: [WinError 3] The system cannot find the path specified: 'c:\\\\Users\\\\10235555\\\\Documents\\\\DataportalCrawlers\\\\UN_Data\\\\downloadfolder\\\\Total, child and old-age dependency ratios, annual (~1MB)'"
     ]
    }
   ],
   "source": [
    "#div=soup.find(\"div\",{\"class\":\"doc-row clear\"})\n",
    "#tag=div.find_all(\"h3\")\n",
    "#t = []\n",
    "#for i in range(len(tag)):\n",
    "#    t.append(tag[i].text)\n",
    "\n",
    "parent_node=soup.find_all(class_='doc-ref-list')\n",
    "for each in parent_node:\n",
    "    tag = soup.find_all(\"h3\")[parent_node.index(each)].text\n",
    "    datasets= each.find_all('li') #.find('a')['href']\n",
    "for i in datasets:\n",
    "    if len(i.get_text(strip=True)) == 0:\n",
    "        i.extract()\n",
    "    titles = i.text.replace(':', ' -')\n",
    "    print(titles)\n",
    "    links = i.find('a')['href'].replace('..', 'https://unctadstat.unctad.org')\n",
    "    print(links)\n",
    "wget.download(links, f\"{base_path}\\\\{titles}.7z\")\n",
    "#logging.info(f\"Downloaded {titles}\")     \n",
    "        #pass\n",
    "        # logging.info(f\"\\n Unzipping {titles} ...\")\n",
    "        # shutil.unpack_archive(f\"{base_path}\\\\{titles}.7z\", f\"{base_path}\")\n",
    "#wget.download(links, f'{base_path}\\\\{titles}.7z')\n",
    "logging.info(f\"\\n Unzipping {titles} ...\")\n",
    "shutil.unpack_archive(f\"{base_path}\\\\{titles}.7z\",f\"{dumpfolder}\")\n",
    "try:\n",
    "    os.listdir(f\"{base_path}\\\\{titles}\")\n",
    "except Exception as err:\n",
    "    logging.error(err)\n",
    "try:\n",
    "    os.listdir(f\"{base_path}\\\\{titles}\")\n",
    "except Exception as err:\n",
    "    logging.error(err)\n",
    "\n",
    "  \n",
    "for file in os.listdir(f\"{base_path}\\\\{titles}\"):\n",
    "        filepath = f\"{base_path}\\\\{titles}\\\\{file}\"\n",
    "        size = os.path.getsize(filepath)\n",
    "        if size < 150000000: #this is a restriction on 150MB csvs which can become up to 1GB after json conversion - 55 files under 150mb\n",
    "    # print(f\"{file} {tag}\")\n",
    "            logging.info(f\"Copying {file} - {size/1000000} MB\")\n",
    "            shutil.copy(filepath, dumpfolder)\n",
    "            try:\n",
    "                BodyDict = {\n",
    "                    \"JobPath\":f\"{base_path}/{file}\", ## Point to downloaded data for conversion\n",
    "                    \"JsonDetails\":{\n",
    "                        ## Required\n",
    "                        \"organisation\": \"un-agencies\",\n",
    "                        \"source\": \"UNCTAD\",\n",
    "                        \"source_description\" : \"The United Nations Conference on Trade and Development intends to promote the interests of developing states in world trade. UNCTAD is the part of the United Nations Secretariat dealing with trade, investment, and development issues.\",\n",
    "                        \"source_url\" : \"https://unctadstat.unctad.org\",\n",
    "                        \"table\" : file,\n",
    "                        \"description\" : titles,\n",
    "                        ## Optional\n",
    "                        \"JobType\": \"JSON\",\n",
    "                        \"CleanPush\": True,\n",
    "                        \"Server\": \"str\",\n",
    "                        \"UseJsonFormatForSQL\":  False,\n",
    "                        \"CleanReplace\":True,\n",
    "                        \"MergeSchema\": False,\n",
    "                        \"tags\": [{\n",
    "                        \"name\": tag\n",
    "                        }],\n",
    "                        \"limitations\":\"\",\n",
    "                        \"concept\":  \"\",\n",
    "                        \"periodicity\":  \"\",\n",
    "                        \"topic\":  tag,\n",
    "                        \"created\":\"\",                       ## this should follow the following formats %Y-%m-%dT%H:%M:%S\" or \"%Y-%m-%d\"\n",
    "                        \"last_modified\": \"\",                ## \"\"               \"\"                  \"\"              \"\"\n",
    "                        \"TriggerTalend\" :  False, ## initialise to True for production\n",
    "                        \"SavePathForJsonOutput\": \"\" # initialise as empty string for production.\n",
    "                    }\n",
    "            }\n",
    "                #TriggerInferShemaToJsonAPIClass = TriggerInferShemaToJsonAPI(BodyDict=BodyDict)\n",
    "                #TriggerInferShemaToJsonAPIClass.TriggerAPI()\n",
    "            except Exception as err:\n",
    "                logging.error(err)\n",
    "\n",
    "else:\n",
    "    pass\n",
    "    \n",
    "# if os.path.exists(f\"{base_path}\\\\Zipped Files\"):\n",
    "#     shutil.rmtree(f\"{base_path}\\\\Zipped Files\")\n",
    "logging.info(\"Finished!\" + \" - \" + str(len(os.listdir(f\"{base_path}\"))) + \" folders containing bulk data\")\n",
    "\n",
    "print(BodyDict)\n",
    "\n"
   ]
  },
  {
   "cell_type": "code",
   "execution_count": 180,
   "metadata": {},
   "outputs": [
    {
     "name": "stderr",
     "output_type": "stream",
     "text": [
      "ERROR:root:[WinError 3] The system cannot find the path specified: 'c:\\\\Users\\\\10235555\\\\Documents\\\\DataportalCrawlers\\\\UN_Data\\\\Total, child and old-age dependency ratios, annual (~1MB)'\n"
     ]
    },
    {
     "ename": "FileNotFoundError",
     "evalue": "[WinError 3] The system cannot find the path specified: 'c:\\\\Users\\\\10235555\\\\Documents\\\\DataportalCrawlers\\\\UN_Data\\\\Total, child and old-age dependency ratios, annual (~1MB)'",
     "output_type": "error",
     "traceback": [
      "\u001b[1;31m---------------------------------------------------------------------------\u001b[0m",
      "\u001b[1;31mFileNotFoundError\u001b[0m                         Traceback (most recent call last)",
      "Cell \u001b[1;32mIn [180], line 7\u001b[0m\n\u001b[0;32m      3\u001b[0m \u001b[39mexcept\u001b[39;00m \u001b[39mException\u001b[39;00m \u001b[39mas\u001b[39;00m err:\n\u001b[0;32m      4\u001b[0m     logging\u001b[39m.\u001b[39merror(err)\n\u001b[1;32m----> 7\u001b[0m \u001b[39mfor\u001b[39;00m file \u001b[39min\u001b[39;00m os\u001b[39m.\u001b[39;49mlistdir(\u001b[39mf\u001b[39;49m\u001b[39m\"\u001b[39;49m\u001b[39m{\u001b[39;49;00mbase_path\u001b[39m}\u001b[39;49;00m\u001b[39m\\\\\u001b[39;49;00m\u001b[39m{\u001b[39;49;00mtitles\u001b[39m}\u001b[39;49;00m\u001b[39m\"\u001b[39;49m):\n\u001b[0;32m      8\u001b[0m         filepath \u001b[39m=\u001b[39m \u001b[39mf\u001b[39m\u001b[39m\"\u001b[39m\u001b[39m{\u001b[39;00mbase_path\u001b[39m}\u001b[39;00m\u001b[39m\\\\\u001b[39;00m\u001b[39m{\u001b[39;00mtitles\u001b[39m}\u001b[39;00m\u001b[39m\\\\\u001b[39;00m\u001b[39m{\u001b[39;00mfile\u001b[39m}\u001b[39;00m\u001b[39m\"\u001b[39m\n\u001b[0;32m      9\u001b[0m         size \u001b[39m=\u001b[39m os\u001b[39m.\u001b[39mpath\u001b[39m.\u001b[39mgetsize(filepath)\n",
      "\u001b[1;31mFileNotFoundError\u001b[0m: [WinError 3] The system cannot find the path specified: 'c:\\\\Users\\\\10235555\\\\Documents\\\\DataportalCrawlers\\\\UN_Data\\\\Total, child and old-age dependency ratios, annual (~1MB)'"
     ]
    }
   ],
   "source": [
    "try:\n",
    "    os.listdir(f\"{base_path}\\\\{titles}\")\n",
    "except Exception as err:\n",
    "    logging.error(err)\n",
    "\n",
    "  \n",
    "for file in os.listdir(f\"{base_path}\\\\{titles}\"):\n",
    "        filepath = f\"{base_path}\\\\{titles}\\\\{file}\"\n",
    "        size = os.path.getsize(filepath)\n",
    "        if size < 150000000: #this is a restriction on 150MB csvs which can become up to 1GB after json conversion - 55 files under 150mb\n",
    "    # print(f\"{file} {tag}\")\n",
    "            logging.info(f\"Copying {file} - {size/1000000} MB\")\n",
    "            shutil.copy(filepath, dumpfolder)\n",
    "            try:\n",
    "                BodyDict = {\n",
    "                    \"JobPath\":f\"{base_path}/{file}\", ## Point to downloaded data for conversion\n",
    "                    \"JsonDetails\":{\n",
    "                        ## Required\n",
    "                        \"organisation\": \"un-agencies\",\n",
    "                        \"source\": \"UNCTAD\",\n",
    "                        \"source_description\" : \"The United Nations Conference on Trade and Development intends to promote the interests of developing states in world trade. UNCTAD is the part of the United Nations Secretariat dealing with trade, investment, and development issues.\",\n",
    "                        \"source_url\" : \"https://unctadstat.unctad.org\",\n",
    "                        \"table\" : file,\n",
    "                        \"description\" : titles,\n",
    "                        ## Optional\n",
    "                        \"JobType\": \"JSON\",\n",
    "                        \"CleanPush\": True,\n",
    "                        \"Server\": \"str\",\n",
    "                        \"UseJsonFormatForSQL\":  False,\n",
    "                        \"CleanReplace\":True,\n",
    "                        \"MergeSchema\": False,\n",
    "                        \"tags\": [{\n",
    "                        \"name\": tag\n",
    "                        }],\n",
    "                        \"limitations\":\"\",\n",
    "                        \"concept\":  \"\",\n",
    "                        \"periodicity\":  \"\",\n",
    "                        \"topic\":  tag,\n",
    "                        \"created\":\"\",                       ## this should follow the following formats %Y-%m-%dT%H:%M:%S\" or \"%Y-%m-%d\"\n",
    "                        \"last_modified\": \"\",                ## \"\"               \"\"                  \"\"              \"\"\n",
    "                        \"TriggerTalend\" :  False, ## initialise to True for production\n",
    "                        \"SavePathForJsonOutput\": \"\" # initialise as empty string for production.\n",
    "                    }\n",
    "            }\n",
    "                #TriggerInferShemaToJsonAPIClass = TriggerInferShemaToJsonAPI(BodyDict=BodyDict)\n",
    "        #TriggerInferShemaToJsonAPIClass.TriggerAPI()\n",
    "            except Exception as err:\n",
    "                logging.error(err)\n",
    "\n",
    "else:\n",
    "    pass\n",
    "    \n",
    "# if os.path.exists(f\"{base_path}\\\\Zipped Files\"):\n",
    "#     shutil.rmtree(f\"{base_path}\\\\Zipped Files\")\n",
    "logging.info(\"Finished!\" + \" - \" + str(len(os.listdir(f\"{base_path}\"))) + \" folders containing bulk data\")\n",
    "\n",
    "print(BodyDict)"
   ]
  },
  {
   "cell_type": "code",
   "execution_count": 26,
   "metadata": {},
   "outputs": [
    {
     "ename": "IndentationError",
     "evalue": "unexpected indent (313334767.py, line 3)",
     "output_type": "error",
     "traceback": [
      "\u001b[1;36m  Cell \u001b[1;32mIn [26], line 3\u001b[1;36m\u001b[0m\n\u001b[1;33m    shutil.unpack_archive(f\"{base_path}\\\\{title}.7z\", f\"{base_path}\")\u001b[0m\n\u001b[1;37m    ^\u001b[0m\n\u001b[1;31mIndentationError\u001b[0m\u001b[1;31m:\u001b[0m unexpected indent\n"
     ]
    }
   ],
   "source": [
    "from py7zr import unpack_7zarchive\n",
    "import shutil\n",
    " shutil.unpack_archive(f\"{base_path}\\\\{title}.7z\", f\"{base_path}\")\n",
    " shutil.register_unpack_format('7zip', ['.7z'], unpack_7zarchive)\n",
    "shutil.unpack_archive('filename.7z', '/unzip_path')\n"
   ]
  },
  {
   "cell_type": "code",
   "execution_count": 68,
   "metadata": {},
   "outputs": [],
   "source": [
    "from py7zr import unpack_7zarchive\n",
    "import shutil\n",
    "import logging\n",
    "logging.info(f\"\\n Unzipping {titles} ...\")\n",
    "shutil.unpack_archive(f\"c:\\\\Users\\\\10235555\\\\Documents\\\\DataportalCrawlers\\\\UN_Data\\\\{titles}.7z\",f\"c:\\\\Users\\\\10235555\\\\Documents\\\\DataportalCrawlers\\\\UN_Data\")"
   ]
  },
  {
   "cell_type": "code",
   "execution_count": 69,
   "metadata": {},
   "outputs": [
    {
     "name": "stdout",
     "output_type": "stream",
     "text": [
      "['datasets.csv', 'T.csv.7z', 'test.py', 'testing.ipynb', 'testscrp.ipynb', 'Total, child and old-age dependency ratios, annual (~1MB) (1).7z', 'Total, child and old-age dependency ratios, annual (~1MB).7z', 'Total, child and old-age dependency ratios, annual (~1MB).csv.7z', 'UN_Data.code-workspace', 'US_MerchVolumeQuarterly_ST202209231412_v1.csv', 'US_PopDependency_ST202210141521_v1.csv', 'Volume growth rates of merchandise exports and imports, quarterly (~1MB).csv.7z']\n"
     ]
    }
   ],
   "source": [
    "import os\n",
    "print(os.listdir())"
   ]
  },
  {
   "cell_type": "code",
   "execution_count": 81,
   "metadata": {},
   "outputs": [
    {
     "ename": "NameError",
     "evalue": "name 'file' is not defined",
     "output_type": "error",
     "traceback": [
      "\u001b[1;31m---------------------------------------------------------------------------\u001b[0m",
      "\u001b[1;31mNameError\u001b[0m                                 Traceback (most recent call last)",
      "Cell \u001b[1;32mIn [81], line 3\u001b[0m\n\u001b[0;32m      1\u001b[0m BodyDict \u001b[39m=\u001b[39m {\n\u001b[0;32m      2\u001b[0m \n\u001b[1;32m----> 3\u001b[0m                                 \u001b[39m\"\u001b[39m\u001b[39mJobPath\u001b[39m\u001b[39m\"\u001b[39m:\u001b[39mf\u001b[39m\u001b[39m\"\u001b[39m\u001b[39m//10.30.31.77/data_collection_dump/RawData/UNCTAD_Data/\u001b[39m\u001b[39m{\u001b[39;00mfile\u001b[39m}\u001b[39;00m\u001b[39m\"\u001b[39m, \u001b[39m## Point to downloaded data for conversion\u001b[39;00m\n\u001b[0;32m      4\u001b[0m                                 \u001b[39m\"\u001b[39m\u001b[39mJsonDetails\u001b[39m\u001b[39m\"\u001b[39m:{\n\u001b[0;32m      5\u001b[0m                                         \u001b[39m## Required\u001b[39;00m\n\u001b[0;32m      6\u001b[0m                                         \u001b[39m\"\u001b[39m\u001b[39morganisation\u001b[39m\u001b[39m\"\u001b[39m: \u001b[39m\"\u001b[39m\u001b[39mun-agencies\u001b[39m\u001b[39m\"\u001b[39m,\n\u001b[0;32m      7\u001b[0m                                         \u001b[39m\"\u001b[39m\u001b[39msource\u001b[39m\u001b[39m\"\u001b[39m: \u001b[39m\"\u001b[39m\u001b[39mUNCTAD\u001b[39m\u001b[39m\"\u001b[39m,\n\u001b[0;32m      8\u001b[0m                                         \u001b[39m\"\u001b[39m\u001b[39msource_description\u001b[39m\u001b[39m\"\u001b[39m : \u001b[39m\"\u001b[39m\u001b[39mThe United Nations Conference on Trade and Development intends to promote the interests of developing states in world trade. UNCTAD is the part of the United Nations Secretariat dealing with trade, investment, and development issues.\u001b[39m\u001b[39m\"\u001b[39m,\n\u001b[0;32m      9\u001b[0m                                         \u001b[39m\"\u001b[39m\u001b[39msource_url\u001b[39m\u001b[39m\"\u001b[39m : \u001b[39m\"\u001b[39m\u001b[39mhttps://unctadstat.unctad.org\u001b[39m\u001b[39m\"\u001b[39m,\n\u001b[0;32m     10\u001b[0m                                         \u001b[39m\"\u001b[39m\u001b[39mtable\u001b[39m\u001b[39m\"\u001b[39m : file,\n\u001b[0;32m     11\u001b[0m                                         \u001b[39m\"\u001b[39m\u001b[39mdescription\u001b[39m\u001b[39m\"\u001b[39m : titles,\n\u001b[0;32m     12\u001b[0m                                         \u001b[39m## Optional\u001b[39;00m\n\u001b[0;32m     13\u001b[0m                                         \u001b[39m\"\u001b[39m\u001b[39mJobType\u001b[39m\u001b[39m\"\u001b[39m: \u001b[39m\"\u001b[39m\u001b[39mJSON\u001b[39m\u001b[39m\"\u001b[39m,\n\u001b[0;32m     14\u001b[0m                                         \u001b[39m\"\u001b[39m\u001b[39mCleanPush\u001b[39m\u001b[39m\"\u001b[39m: \u001b[39mTrue\u001b[39;00m,\n\u001b[0;32m     15\u001b[0m                                         \u001b[39m\"\u001b[39m\u001b[39mServer\u001b[39m\u001b[39m\"\u001b[39m: \u001b[39m\"\u001b[39m\u001b[39mstr\u001b[39m\u001b[39m\"\u001b[39m,\n\u001b[0;32m     16\u001b[0m                                         \u001b[39m\"\u001b[39m\u001b[39mUseJsonFormatForSQL\u001b[39m\u001b[39m\"\u001b[39m:  \u001b[39mFalse\u001b[39;00m,\n\u001b[0;32m     17\u001b[0m                                         \u001b[39m\"\u001b[39m\u001b[39mCleanReplace\u001b[39m\u001b[39m\"\u001b[39m:\u001b[39mTrue\u001b[39;00m,\n\u001b[0;32m     18\u001b[0m                                         \u001b[39m\"\u001b[39m\u001b[39mMergeSchema\u001b[39m\u001b[39m\"\u001b[39m: \u001b[39mFalse\u001b[39;00m,\n\u001b[0;32m     19\u001b[0m                                         \u001b[39m\"\u001b[39m\u001b[39mtags\u001b[39m\u001b[39m\"\u001b[39m: [{\n\u001b[0;32m     20\u001b[0m                                             \u001b[39m\"\u001b[39m\u001b[39mname\u001b[39m\u001b[39m\"\u001b[39m: tag\n\u001b[0;32m     21\u001b[0m                                         }],\n\u001b[0;32m     22\u001b[0m                                         \u001b[39m\"\u001b[39m\u001b[39mlimitations\u001b[39m\u001b[39m\"\u001b[39m:\u001b[39m\"\u001b[39m\u001b[39m\"\u001b[39m,\n\u001b[0;32m     23\u001b[0m                                         \u001b[39m\"\u001b[39m\u001b[39mconcept\u001b[39m\u001b[39m\"\u001b[39m:  \u001b[39m\"\u001b[39m\u001b[39m\"\u001b[39m,\n\u001b[0;32m     24\u001b[0m                                         \u001b[39m\"\u001b[39m\u001b[39mperiodicity\u001b[39m\u001b[39m\"\u001b[39m:  \u001b[39m\"\u001b[39m\u001b[39m\"\u001b[39m,\n\u001b[0;32m     25\u001b[0m                                         \u001b[39m\"\u001b[39m\u001b[39mtopic\u001b[39m\u001b[39m\"\u001b[39m:  tag,\n\u001b[0;32m     26\u001b[0m                                         \u001b[39m\"\u001b[39m\u001b[39mcreated\u001b[39m\u001b[39m\"\u001b[39m:\u001b[39m\"\u001b[39m\u001b[39m\"\u001b[39m,                       \u001b[39m## this should follow the following formats %Y-%m-%dT%H:%M:%S\" or \"%Y-%m-%d\"\u001b[39;00m\n\u001b[0;32m     27\u001b[0m                                         \u001b[39m\"\u001b[39m\u001b[39mlast_modified\u001b[39m\u001b[39m\"\u001b[39m: \u001b[39m\"\u001b[39m\u001b[39m\"\u001b[39m,                \u001b[39m## \"\"               \"\"                  \"\"              \"\"\u001b[39;00m\n\u001b[0;32m     28\u001b[0m                                         \u001b[39m\"\u001b[39m\u001b[39mTriggerTalend\u001b[39m\u001b[39m\"\u001b[39m :  \u001b[39mFalse\u001b[39;00m, \u001b[39m## initialise to True for production\u001b[39;00m\n\u001b[0;32m     29\u001b[0m                                         \u001b[39m\"\u001b[39m\u001b[39mSavePathForJsonOutput\u001b[39m\u001b[39m\"\u001b[39m: \u001b[39m\"\u001b[39m\u001b[39m\"\u001b[39m \u001b[39m# initialise as empty string for production.\u001b[39;00m\n\u001b[0;32m     30\u001b[0m                                 }\n\u001b[0;32m     31\u001b[0m                             }\n",
      "\u001b[1;31mNameError\u001b[0m: name 'file' is not defined"
     ]
    }
   ],
   "source": [
    "BodyDict = {\n",
    "\n",
    "                                \"JobPath\":f\"//10.30.31.77/data_collection_dump/RawData/UNCTAD_Data/{file}\", ## Point to downloaded data for conversion\n",
    "                                \"JsonDetails\":{\n",
    "                                        ## Required\n",
    "                                        \"organisation\": \"un-agencies\",\n",
    "                                        \"source\": \"UNCTAD\",\n",
    "                                        \"source_description\" : \"The United Nations Conference on Trade and Development intends to promote the interests of developing states in world trade. UNCTAD is the part of the United Nations Secretariat dealing with trade, investment, and development issues.\",\n",
    "                                        \"source_url\" : \"https://unctadstat.unctad.org\",\n",
    "                                        \"table\" : file,\n",
    "                                        \"description\" : titles,\n",
    "                                        ## Optional\n",
    "                                        \"JobType\": \"JSON\",\n",
    "                                        \"CleanPush\": True,\n",
    "                                        \"Server\": \"str\",\n",
    "                                        \"UseJsonFormatForSQL\":  False,\n",
    "                                        \"CleanReplace\":True,\n",
    "                                        \"MergeSchema\": False,\n",
    "                                        \"tags\": [{\n",
    "                                            \"name\": tag\n",
    "                                        }],\n",
    "                                        \"limitations\":\"\",\n",
    "                                        \"concept\":  \"\",\n",
    "                                        \"periodicity\":  \"\",\n",
    "                                        \"topic\":  tag,\n",
    "                                        \"created\":\"\",                       ## this should follow the following formats %Y-%m-%dT%H:%M:%S\" or \"%Y-%m-%d\"\n",
    "                                        \"last_modified\": \"\",                ## \"\"               \"\"                  \"\"              \"\"\n",
    "                                        \"TriggerTalend\" :  False, ## initialise to True for production\n",
    "                                        \"SavePathForJsonOutput\": \"\" # initialise as empty string for production.\n",
    "                                }\n",
    "                            }"
   ]
  }
 ],
 "metadata": {
  "kernelspec": {
   "display_name": "Python 3.11.0 64-bit",
   "language": "python",
   "name": "python3"
  },
  "language_info": {
   "codemirror_mode": {
    "name": "ipython",
    "version": 3
   },
   "file_extension": ".py",
   "mimetype": "text/x-python",
   "name": "python",
   "nbconvert_exporter": "python",
   "pygments_lexer": "ipython3",
   "version": "3.11.0"
  },
  "orig_nbformat": 4,
  "vscode": {
   "interpreter": {
    "hash": "69e035e7e91c91f4a781d2e2d4ddd23f591a0aa5fdf41d28e15c78aec28956a8"
   }
  }
 },
 "nbformat": 4,
 "nbformat_minor": 2
}
