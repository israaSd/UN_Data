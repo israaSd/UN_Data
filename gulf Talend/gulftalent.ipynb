{
 "cells": [
  {
   "cell_type": "code",
   "execution_count": 304,
   "metadata": {},
   "outputs": [],
   "source": [
    "from selenium import webdriver\n",
    "from selenium.webdriver.common.keys import Keys\n",
    "from selenium.webdriver.common.by import By\n",
    "from selenium.webdriver.support.ui import WebDriverWait\n",
    "from selenium.common.exceptions import ElementNotInteractableException, NoSuchElementException\n",
    "from selenium.common.exceptions import ElementClickInterceptedException\n",
    "from selenium.webdriver.support import expected_conditions as EC\n",
    "from selenium.webdriver.chrome.service import Service\n",
    "from webdriver_manager.chrome import ChromeDriverManager\n",
    "from webdriver_manager.firefox import GeckoDriverManager\n",
    "from selenium.webdriver.firefox.options import Options\n",
    "from bs4 import BeautifulSoup\n",
    "import shutil\n",
    "import time\n",
    "import os\n",
    "import requests\n",
    "from bs4 import BeautifulSoup\n",
    "import logging"
   ]
  },
  {
   "cell_type": "code",
   "execution_count": 305,
   "metadata": {},
   "outputs": [],
   "source": [
    "url = 'https://www.gulftalent.com'\n",
    "#result = requests.get(url)\n",
    "#soup = BeautifulSoup(result.content,'html.parser')\n",
    "#soup"
   ]
  },
  {
   "cell_type": "code",
   "execution_count": 286,
   "metadata": {},
   "outputs": [],
   "source": [
    "#response = requests.get('https://www.gulftalent.com/jobs/country')\n",
    "#soup = BeautifulSoup(response.content,'html.parser')\n"
   ]
  },
  {
   "cell_type": "code",
   "execution_count": 306,
   "metadata": {},
   "outputs": [],
   "source": [
    "middleEast_countries = ['uae','saudia-arabia','qatar','kuwait','egypt','jordan','oman','bahrain','iraq','lebanon','libya'] "
   ]
  },
  {
   "cell_type": "code",
   "execution_count": 307,
   "metadata": {},
   "outputs": [
    {
     "data": {
      "text/plain": [
       "'https://www.gulftalent.com/uae/jobs'"
      ]
     },
     "execution_count": 307,
     "metadata": {},
     "output_type": "execute_result"
    }
   ],
   "source": [
    "url_middleEast = f'https://www.gulftalent.com/{middleEast_countries[0]}/jobs'\n",
    "url_middleEast"
   ]
  },
  {
   "cell_type": "code",
   "execution_count": 89,
   "metadata": {},
   "outputs": [],
   "source": [
    "#result = requests.get(url_middleEast)\n",
    "#soup = BeautifulSoup(result.content,'html.parser')\n",
    "#soup.find(class_='col-sm-18')"
   ]
  },
  {
   "cell_type": "code",
   "execution_count": 81,
   "metadata": {},
   "outputs": [
    {
     "data": {
      "text/plain": [
       "['\\n                            Inpatient Treatment Service Manager\\n                        ',\n",
       " '\\n                            Inpatient Service Manager\\n                        ',\n",
       " '\\n                            Sales Support Engineer\\n                        ',\n",
       " '\\n                            Senior Project Manager\\n                        ',\n",
       " '\\n                            Planning & Project Control Manager\\n                        ',\n",
       " '\\n                            Corporate Receptionist\\n                        ',\n",
       " '\\n                            HR Manager\\n                        ',\n",
       " '\\n                            Senior FM Engineer (HVAC / Refrigeration /Mechanical Field)\\n                        ',\n",
       " '\\n                            Purchasing Manager\\n                        ',\n",
       " '\\n                            FM Engineer (HVAC)\\n                        ']"
      ]
     },
     "execution_count": 81,
     "metadata": {},
     "output_type": "execute_result"
    }
   ],
   "source": [
    "#titles = []\n",
    "#html = BeautifulSoup(result.text)\n",
    "#title = html.find_all('h2')\n",
    "#for i in range(len(title)): \n",
    "#    titles.append(title[i].text.replace('/n',' '))\n",
    "\n",
    "#titles"
   ]
  },
  {
   "cell_type": "code",
   "execution_count": 70,
   "metadata": {},
   "outputs": [
    {
     "data": {
      "text/plain": [
       "<h2 class=\"title padding-all-none space-bottom-none space-top-none line-height-15 inline\">\n",
       "                            Inpatient Treatment Service Manager\n",
       "                        </h2>"
      ]
     },
     "execution_count": 70,
     "metadata": {},
     "output_type": "execute_result"
    }
   ],
   "source": [
    "#soup.h2"
   ]
  },
  {
   "cell_type": "code",
   "execution_count": 74,
   "metadata": {},
   "outputs": [
    {
     "name": "stdout",
     "output_type": "stream",
     "text": [
      "[<h2 class=\"title padding-all-none space-bottom-none space-top-none line-height-15 inline\">\n",
      "                            Inpatient Treatment Service Manager\n",
      "                        </h2>, <h2 class=\"title padding-all-none space-bottom-none space-top-none line-height-15 inline\">\n",
      "                            Inpatient Service Manager\n",
      "                        </h2>, <h2 class=\"title padding-all-none space-bottom-none space-top-none line-height-15 inline\">\n",
      "                            Sales Support Engineer\n",
      "                        </h2>, <h2 class=\"title padding-all-none space-bottom-none space-top-none line-height-15 inline\">\n",
      "                            Senior Project Manager\n",
      "                        </h2>, <h2 class=\"title padding-all-none space-bottom-none space-top-none line-height-15 inline\">\n",
      "                            Planning &amp; Project Control Manager\n",
      "                        </h2>, <h2 class=\"title padding-all-none space-bottom-none space-top-none line-height-15 inline\">\n",
      "                            Corporate Receptionist\n",
      "                        </h2>, <h2 class=\"title padding-all-none space-bottom-none space-top-none line-height-15 inline\">\n",
      "                            HR Manager\n",
      "                        </h2>, <h2 class=\"title padding-all-none space-bottom-none space-top-none line-height-15 inline\">\n",
      "                            Senior FM Engineer (HVAC / Refrigeration /Mechanical Field)\n",
      "                        </h2>, <h2 class=\"title padding-all-none space-bottom-none space-top-none line-height-15 inline\">\n",
      "                            Purchasing Manager\n",
      "                        </h2>, <h2 class=\"title padding-all-none space-bottom-none space-top-none line-height-15 inline\">\n",
      "                            FM Engineer (HVAC)\n",
      "                        </h2>]\n"
     ]
    }
   ],
   "source": [
    "#cont = soup.find_all('h2')\n",
    "#print(cont)"
   ]
  },
  {
   "cell_type": "code",
   "execution_count": 308,
   "metadata": {},
   "outputs": [],
   "source": [
    "from selenium import webdriver\n",
    "from selenium.webdriver.common.keys import Keys\n",
    "import pandas as pd"
   ]
  },
  {
   "cell_type": "code",
   "execution_count": 309,
   "metadata": {},
   "outputs": [],
   "source": [
    "chrome_options = webdriver.ChromeOptions()\n",
    "base_path = f\"{os.getcwd()}\\\\downloadfolder\" # local, gets current working directory\n",
    "base_path\n",
    "prefs = {'download.default_directory' : base_path}#, \"profile.content_settings.exceptions.automatic_downloads.*.setting\" : 1}\n",
    "chrome_options.add_experimental_option('prefs', prefs)\n",
    "#chrome_options.add_argument('--user-agent=\"Mozilla/5.0 (Windows Phone 10.0; Android 4.2.1; Microsoft; Lumia 640 XL LTE) AppleWebKit/537.36 (KHTML, like Gecko) Chrome/42.0.2311.135 Mobile Safari/537.36 Edge/12.10166\"')\n",
    "driver = webdriver.Chrome(service=Service(ChromeDriverManager().install()), options=chrome_options)\n",
    "driver.maximize_window()\n",
    "driver.get(url_middleEast)"
   ]
  },
  {
   "cell_type": "code",
   "execution_count": 48,
   "metadata": {},
   "outputs": [],
   "source": [
    "#titles = []\n",
    "#locations = []\n",
    "#title = driver.find_element(By.CLASS_NAME,'panel-body').find_elements(By.TAG_NAME,'strong')\n",
    "#location = driver.find_element(By.CLASS_NAME,'table table-section table-condensed table-hover table-fixed').find_elements(By.TAG_NAME,'span')\n",
    "#for i in range(len(title)):\n",
    "#    titles.append(title[i].text)\n",
    "#    locations.append(location[i].text)\n",
    "\n",
    "#locations\n",
    "#titles"
   ]
  },
  {
   "cell_type": "code",
   "execution_count": 20,
   "metadata": {},
   "outputs": [
    {
     "ename": "InvalidArgumentException",
     "evalue": "Message: invalid argument: 'using' must be a string\n  (Session info: chrome=108.0.5359.96)\nStacktrace:\nBacktrace:\n\t(No symbol) [0x00B2F243]\n\t(No symbol) [0x00AB7FD1]\n\t(No symbol) [0x009AD04D]\n\t(No symbol) [0x009DC1BE]\n\t(No symbol) [0x009DC22B]\n\t(No symbol) [0x009D30B1]\n\t(No symbol) [0x009F85D4]\n\t(No symbol) [0x009D2BFF]\n\t(No symbol) [0x009F8804]\n\t(No symbol) [0x00A0C9EB]\n\t(No symbol) [0x009F8386]\n\t(No symbol) [0x009D163C]\n\t(No symbol) [0x009D269D]\n\tGetHandleVerifier [0x00DC9A22+2655074]\n\tGetHandleVerifier [0x00DBCA24+2601828]\n\tGetHandleVerifier [0x00BD8C0A+619850]\n\tGetHandleVerifier [0x00BD7830+614768]\n\t(No symbol) [0x00AC05FC]\n\t(No symbol) [0x00AC5968]\n\t(No symbol) [0x00AC5A55]\n\t(No symbol) [0x00AD051B]\n\tBaseThreadInitThunk [0x76A1FEF9+25]\n\tRtlGetAppContainerNamedObjectPath [0x77D77BBE+286]\n\tRtlGetAppContainerNamedObjectPath [0x77D77B8E+238]\n",
     "output_type": "error",
     "traceback": [
      "\u001b[1;31m---------------------------------------------------------------------------\u001b[0m",
      "\u001b[1;31mInvalidArgumentException\u001b[0m                  Traceback (most recent call last)",
      "Cell \u001b[1;32mIn [20], line 8\u001b[0m\n\u001b[0;32m      3\u001b[0m \u001b[39m#for j in range(len(row)):\u001b[39;00m\n\u001b[0;32m      4\u001b[0m \u001b[39m#    rows.append(row[j].text)\u001b[39;00m\n\u001b[0;32m      5\u001b[0m \n\u001b[0;32m      6\u001b[0m \u001b[39m#rows\u001b[39;00m\n\u001b[0;32m      7\u001b[0m \u001b[39mfor\u001b[39;00m row \u001b[39min\u001b[39;00m rows[\u001b[39m1\u001b[39m:]:\n\u001b[1;32m----> 8\u001b[0m     cells \u001b[39m=\u001b[39m row\u001b[39m.\u001b[39;49mfind_elements([\u001b[39m'\u001b[39;49m\u001b[39mtd\u001b[39;49m\u001b[39m'\u001b[39;49m,\u001b[39m'\u001b[39;49m\u001b[39mth\u001b[39;49m\u001b[39m'\u001b[39;49m])\n",
      "File \u001b[1;32mc:\\Users\\10235555\\AppData\\Local\\Programs\\Python\\Python311\\Lib\\site-packages\\selenium\\webdriver\\remote\\webelement.py:456\u001b[0m, in \u001b[0;36mWebElement.find_elements\u001b[1;34m(self, by, value)\u001b[0m\n\u001b[0;32m    453\u001b[0m     by \u001b[39m=\u001b[39m By\u001b[39m.\u001b[39mCSS_SELECTOR\n\u001b[0;32m    454\u001b[0m     value \u001b[39m=\u001b[39m \u001b[39mf\u001b[39m\u001b[39m'\u001b[39m\u001b[39m[name=\u001b[39m\u001b[39m\"\u001b[39m\u001b[39m{\u001b[39;00mvalue\u001b[39m}\u001b[39;00m\u001b[39m\"\u001b[39m\u001b[39m]\u001b[39m\u001b[39m'\u001b[39m\n\u001b[1;32m--> 456\u001b[0m \u001b[39mreturn\u001b[39;00m \u001b[39mself\u001b[39;49m\u001b[39m.\u001b[39;49m_execute(Command\u001b[39m.\u001b[39;49mFIND_CHILD_ELEMENTS, {\u001b[39m\"\u001b[39;49m\u001b[39musing\u001b[39;49m\u001b[39m\"\u001b[39;49m: by, \u001b[39m\"\u001b[39;49m\u001b[39mvalue\u001b[39;49m\u001b[39m\"\u001b[39;49m: value})[\u001b[39m\"\u001b[39m\u001b[39mvalue\u001b[39m\u001b[39m\"\u001b[39m]\n",
      "File \u001b[1;32mc:\\Users\\10235555\\AppData\\Local\\Programs\\Python\\Python311\\Lib\\site-packages\\selenium\\webdriver\\remote\\webelement.py:410\u001b[0m, in \u001b[0;36mWebElement._execute\u001b[1;34m(self, command, params)\u001b[0m\n\u001b[0;32m    408\u001b[0m     params \u001b[39m=\u001b[39m {}\n\u001b[0;32m    409\u001b[0m params[\u001b[39m\"\u001b[39m\u001b[39mid\u001b[39m\u001b[39m\"\u001b[39m] \u001b[39m=\u001b[39m \u001b[39mself\u001b[39m\u001b[39m.\u001b[39m_id\n\u001b[1;32m--> 410\u001b[0m \u001b[39mreturn\u001b[39;00m \u001b[39mself\u001b[39;49m\u001b[39m.\u001b[39;49m_parent\u001b[39m.\u001b[39;49mexecute(command, params)\n",
      "File \u001b[1;32mc:\\Users\\10235555\\AppData\\Local\\Programs\\Python\\Python311\\Lib\\site-packages\\selenium\\webdriver\\remote\\webdriver.py:444\u001b[0m, in \u001b[0;36mWebDriver.execute\u001b[1;34m(self, driver_command, params)\u001b[0m\n\u001b[0;32m    442\u001b[0m response \u001b[39m=\u001b[39m \u001b[39mself\u001b[39m\u001b[39m.\u001b[39mcommand_executor\u001b[39m.\u001b[39mexecute(driver_command, params)\n\u001b[0;32m    443\u001b[0m \u001b[39mif\u001b[39;00m response:\n\u001b[1;32m--> 444\u001b[0m     \u001b[39mself\u001b[39;49m\u001b[39m.\u001b[39;49merror_handler\u001b[39m.\u001b[39;49mcheck_response(response)\n\u001b[0;32m    445\u001b[0m     response[\u001b[39m\"\u001b[39m\u001b[39mvalue\u001b[39m\u001b[39m\"\u001b[39m] \u001b[39m=\u001b[39m \u001b[39mself\u001b[39m\u001b[39m.\u001b[39m_unwrap_value(response\u001b[39m.\u001b[39mget(\u001b[39m\"\u001b[39m\u001b[39mvalue\u001b[39m\u001b[39m\"\u001b[39m, \u001b[39mNone\u001b[39;00m))\n\u001b[0;32m    446\u001b[0m     \u001b[39mreturn\u001b[39;00m response\n",
      "File \u001b[1;32mc:\\Users\\10235555\\AppData\\Local\\Programs\\Python\\Python311\\Lib\\site-packages\\selenium\\webdriver\\remote\\errorhandler.py:249\u001b[0m, in \u001b[0;36mErrorHandler.check_response\u001b[1;34m(self, response)\u001b[0m\n\u001b[0;32m    247\u001b[0m         alert_text \u001b[39m=\u001b[39m value[\u001b[39m\"\u001b[39m\u001b[39malert\u001b[39m\u001b[39m\"\u001b[39m]\u001b[39m.\u001b[39mget(\u001b[39m\"\u001b[39m\u001b[39mtext\u001b[39m\u001b[39m\"\u001b[39m)\n\u001b[0;32m    248\u001b[0m     \u001b[39mraise\u001b[39;00m exception_class(message, screen, stacktrace, alert_text)  \u001b[39m# type: ignore[call-arg]  # mypy is not smart enough here\u001b[39;00m\n\u001b[1;32m--> 249\u001b[0m \u001b[39mraise\u001b[39;00m exception_class(message, screen, stacktrace)\n",
      "\u001b[1;31mInvalidArgumentException\u001b[0m: Message: invalid argument: 'using' must be a string\n  (Session info: chrome=108.0.5359.96)\nStacktrace:\nBacktrace:\n\t(No symbol) [0x00B2F243]\n\t(No symbol) [0x00AB7FD1]\n\t(No symbol) [0x009AD04D]\n\t(No symbol) [0x009DC1BE]\n\t(No symbol) [0x009DC22B]\n\t(No symbol) [0x009D30B1]\n\t(No symbol) [0x009F85D4]\n\t(No symbol) [0x009D2BFF]\n\t(No symbol) [0x009F8804]\n\t(No symbol) [0x00A0C9EB]\n\t(No symbol) [0x009F8386]\n\t(No symbol) [0x009D163C]\n\t(No symbol) [0x009D269D]\n\tGetHandleVerifier [0x00DC9A22+2655074]\n\tGetHandleVerifier [0x00DBCA24+2601828]\n\tGetHandleVerifier [0x00BD8C0A+619850]\n\tGetHandleVerifier [0x00BD7830+614768]\n\t(No symbol) [0x00AC05FC]\n\t(No symbol) [0x00AC5968]\n\t(No symbol) [0x00AC5A55]\n\t(No symbol) [0x00AD051B]\n\tBaseThreadInitThunk [0x76A1FEF9+25]\n\tRtlGetAppContainerNamedObjectPath [0x77D77BBE+286]\n\tRtlGetAppContainerNamedObjectPath [0x77D77B8E+238]\n"
     ]
    }
   ],
   "source": [
    "#rows = []\n",
    "#rows = driver.find_element(By.TAG_NAME,'table').find_elements(By.TAG_NAME,'tr')\n",
    "#for j in range(len(row)):\n",
    "#    rows.append(row[j].text)\n",
    "\n",
    "#rows\n",
    "#for row in rows[1:]:\n",
    "#    cells = row.find_elements(['td','th'])"
   ]
  },
  {
   "cell_type": "code",
   "execution_count": 310,
   "metadata": {},
   "outputs": [],
   "source": [
    "page_source = driver.page_source                    # this is how to use beautifulsoup with selenium, you can get the hrefs or just click as shown above, up to you\n",
    "soup = BeautifulSoup(page_source, 'html.parser')"
   ]
  },
  {
   "cell_type": "code",
   "execution_count": 311,
   "metadata": {},
   "outputs": [
    {
     "data": {
      "text/plain": [
       "[<strong>Audit Manager</strong>,\n",
       " <strong>Senior Interior Designer</strong>,\n",
       " <strong>Senior Interior Designer</strong>,\n",
       " <strong>Technical Designer for Theming Contractor</strong>,\n",
       " <strong>CNC Machine Programmer /Operator for Theming Contractor</strong>,\n",
       " <strong>Design Studio Specialist</strong>,\n",
       " <strong>Store Manager</strong>,\n",
       " <strong>Barista</strong>,\n",
       " <strong>Technical Maintenance Training Manager - Hospitality</strong>,\n",
       " <strong>Coffee Technician</strong>,\n",
       " <strong>Store Manager</strong>,\n",
       " <strong>Sales Associate</strong>,\n",
       " <strong>Sales Associate</strong>,\n",
       " <strong>Senior Test Engineer - IT</strong>,\n",
       " <strong>CRM Automations Executive - Digital &amp; Marketing</strong>,\n",
       " <strong>Senior Merchandiser - Online Trading</strong>,\n",
       " <strong>Marketing Executive / Online</strong>,\n",
       " <strong>Online Marketing Executive</strong>,\n",
       " <strong>Senior Sales Associate</strong>,\n",
       " <strong>Project Lead - IT</strong>,\n",
       " <strong>Project Manager - IT</strong>,\n",
       " <strong>Senior Project Manager - IT</strong>,\n",
       " <strong>Senior Data Scientist - Data &amp; Analytics</strong>,\n",
       " <strong>Senior Accountant</strong>,\n",
       " <strong>Project Manager - Design / Construction</strong>]"
      ]
     },
     "execution_count": 311,
     "metadata": {},
     "output_type": "execute_result"
    }
   ],
   "source": [
    "title = soup.find(class_ ='panel-body').find_all('strong')\n",
    "title"
   ]
  },
  {
   "cell_type": "code",
   "execution_count": 312,
   "metadata": {},
   "outputs": [],
   "source": [
    "links = []\n",
    "import csv\n",
    "from itertools import zip_longest\n",
    "table = soup.find('table')\n",
    "rows = table.find_all('tr')\n",
    "with open('gulftilent.csv','w',encoding='utf8',newline = '') as f:\n",
    "    thewriter = csv.writer(f)\n",
    "    header = ['position','location','date','img','links']\n",
    "    thewriter.writerow(header)\n",
    "    for row in rows[1:]:\n",
    "        a = row.find('a')['href']\n",
    "        l = f'{url}{a}'\n",
    "        link = [f'{url}{a}']\n",
    "        links.append(l)\n",
    "        cells = row.find_all(['td','th'])\n",
    "        cells_text = [cell.get_text(strip=True) for cell in cells] + link\n",
    "        thewriter.writerow(cells_text)\n",
    "        #print(cells_text)\n",
    "\n",
    "chrome_options = webdriver.ChromeOptions()\n",
    "base_path = f\"{os.getcwd()}\\\\downloadfolder\" # local, gets current working directory\n",
    "base_path\n",
    "prefs = {'download.default_directory' : base_path}#, \"profile.content_settings.exceptions.automatic_downloads.*.setting\" : 1}\n",
    "chrome_options.add_experimental_option('prefs', prefs)\n",
    "#chrome_options.add_argument('--user-agent=\"Mozilla/5.0 (Windows Phone 10.0; Android 4.2.1; Microsoft; Lumia 640 XL LTE) AppleWebKit/537.36 (KHTML, like Gecko) Chrome/42.0.2311.135 Mobile Safari/537.36 Edge/12.10166\"')\n",
    "driver = webdriver.Chrome(service=Service(ChromeDriverManager().install()), options=chrome_options)\n",
    "driver.maximize_window()\n",
    "descriptions = []\n",
    "types = []\n",
    "try:\n",
    "    for k in links:\n",
    "        driver.get(k)\n",
    "        time.sleep(5)\n",
    "        page_source = driver.page_source                    # this is how to use beautifulsoup with selenium, you can get the hrefs or just click as shown above, up to you\n",
    "        soup = BeautifulSoup(page_source, 'html.parser')\n",
    "        Emp = soup.find(class_ = 'space-bottom-sm')\n",
    "        Employment = Emp.find('span').text\n",
    "        Employment = Employment.strip()\n",
    "        types.append(Employment)\n",
    "        cont = soup.find(class_= 'panel-body content-visibility-auto')\n",
    "        all = cont.find_all('p')#.text\n",
    "        description = ' '.join([str(elem) for elem in all])\n",
    "        #for d in description:\n",
    "        #    descriptions.append(d)\n",
    "        \n",
    "except:\n",
    "    print('error')\n",
    "#for d in range(len(all)):\n",
    "#    description.append(all[d].text.replace('\\n',' '))\n"
   ]
  },
  {
   "cell_type": "code",
   "execution_count": 317,
   "metadata": {},
   "outputs": [
    {
     "data": {
      "text/plain": [
       "'<p>Randstad is currently working with an award winning architecture and engineering consultancy as they are looking to recruit a Project Manager &amp; Assistant Project Manager to the team based in Dubai, UAE. The successful candidate will act as the \"lead consultant\" on large scale building projects across the Middle East, Africa and Asia.<br/>\\n<br/>\\nWe are keen to speak with candidates who have extensive project management experience leading multidisciplinary design projects (mechanical, electrical, structural, civil) OR candidates that have full spectrum life-cycle experience managing projects from design to construction supervision and handover to the client. <br/>\\n<br/>\\nKey responsibilities:<br/>\\n<br/>\\n- Act as the Client’s main contact with the Company and is responsible for maintaining an effective and professional<br/>\\nrelationship with the Client<br/>\\n- Attends meetings with the client and technical meetings chaired by the client’s project management team<br/>\\n- Responsible for defining the roles and responsibilities of different team members for all projects assigned to the incumbent.<br/>\\n- Manage and coordinate the design input of external design team members and sub-consultants.<br/>\\n- Prepares project progress reports and projects schedules<br/>\\n- Monitors resource and generates resource planning data</p> <p>To be considered for the opportunities, candidates must have:<br/>\\n<br/>\\n- 10 - 15 years experience<br/>\\n- Bachelor Degree in Architecture<br/>\\n- Previous experience with multidisciplinary consultants in the Middle East (5 years)<br/>\\n- Excellent communication and client facing skills<br/>\\n- Large scale building projects through design only OR design and delivery<br/>\\n<br/>\\nWe would also be interested in speaking with Assistant Project Manager candidates who are looking for opportunities in Dubai.</p> <p></p> <p>We’re experts in helping jobseekers, like you, find fulfilling and prosperous careers. Whether you’re looking for your first ever role or a more senior position, we can help you apply, interview and secure your dream job.</p> <p>Despite our size and global scope, we pride ourselves on our ability to make every jobseeker, client and employee feel valued.</p> <p>Our core specialisms (with offices based across the UK) include:</p> <p></p>'"
      ]
     },
     "execution_count": 317,
     "metadata": {},
     "output_type": "execute_result"
    }
   ],
   "source": [
    "description"
   ]
  },
  {
   "cell_type": "code",
   "execution_count": 245,
   "metadata": {},
   "outputs": [
    {
     "data": {
      "text/plain": [
       "['Adirondack Studios, an international thematic design and build contractor has an immediate need for a CNC Machine programmer and operator in our Dubai, UAE location.  ADKS has over 40 years of experience building themed attractions including some of the most popular rides at the world’s greatest theme parks and we are currently experiencing growth in all departments.   Responsibilities include, but are not limited to:  •\\tProgram and operate the CNC Machine mainly for the cutting of foams in varying densities so the shapes can be used for FRP mold production. As well as the programming for CNC cutting of wood material.  •\\tFollow training provided by the manufacturer of the machine to learn how to operate, maintain the machine, troubleshoot potential malfunctions and do basic repairs. •\\tRead/ analyze/ interpret drawings, sketches, specifications to fully understand the requirement •\\tTake measurements and calculate the size and number of raw materials needed and inform to the production manager the required quantity that needs to be ordered.  •\\tForecast the time required to execute the job and report this to the production manager. •\\tProgram the CNC Machine (Flexicam Gator 1830) to cut the material as descibed in the drawings (positive carve, negative carve, detailed cutting or rough cut, …) in the most efficient way to execute the task with the least amount of waste and as time efficient as possible. •\\tConduct physical quality inspection of the completed work in relation to drawings and other references prior to handing it over to the next team. •\\tDo corrective action where there is discrepancy prior to handing over to the next team. •\\tBring the training into practice and clean and maintain the equipment as prescribed in the manufacture instructions.  •\\tSchedule the manufacturer maintenance as prescribed, call manufacturer for repairs when needed, order spare parts when needed. •\\tPractice and always adhere to safety procedure and regulations, maintain cleanliness and orderliness. •\\tFollow company rules and regulation at all time and report violators.  •\\tMaintains and promotes harmony within the member of the organization. •\\tWhen asked conduct site related works as, lay out and measurements, cladding, assembly, installation, repairs, etc.  •\\tAid the FRP production departments in periods when there is less CNC work or whenever instructed by the production manager. •\\tOther task that maybe assigned from time to time by duly authorized company personnel forms part of this job description',\n",
       " 'University Qualifications: No University Degree is required Other certifications obtained: No specific certifications are required Nature and length of previous experience: Working experience in similar roles of minimum 5 years Specialist knowledge: Knows or is willing to learn to work with machine specific software Soft Skills and Personality traits: Ability to work in high-pressure environment Age Range: 20-60 Language Fluency: English Current Location: preferably already in UAE',\n",
       " '',\n",
       " 'For over 45 years, we have provided creative solutions for designers, artists, producers, and owners across the entire themed entertainment market. With our culture rooted in theatrical production, Adirondack Studios is a collaborative partner that focuses on story and guest experience by examining thoughtful design solutions, innovative methods and materials, and out-of-the-box thinking across the breadth of the project cycle.',\n",
       " 'We are a solutions provider, helping our clients bring their vision to life.',\n",
       " '']"
      ]
     },
     "execution_count": 245,
     "metadata": {},
     "output_type": "execute_result"
    }
   ],
   "source": [
    "b =description[6:12]\n",
    "b"
   ]
  },
  {
   "cell_type": "code",
   "execution_count": 251,
   "metadata": {},
   "outputs": [
    {
     "data": {
      "text/plain": [
       "['Design Studio Specialist - William Sonoma - UAE  The Role:   As a Design Studio Specialist, you will deliver exceptional levels of Customer Service to guests across all categories of product; from initial contact, through design consultation and estimate creation, to sales closure.   You will lead the Store \"Ground Game\" by executing high quality design consultations in the guest\\'s home/place of business. Additionally, you will take responsibility for mentoring Associates on how to build and maintain client relationships, as well as how to engage in active selling, Clienteling and creating design plans.   Other responsibilities include (but are not limited to):    - Driving add-on sales of accessory products.   - Actively collaborating with Management and Associate colleagues in Store, Head Office and other HFD Brands to optimize selling opportunities.   - Presenting compelling and professional decorating plans, communicating what is relevant and meaningful to the customer utilizing Mood Boards/ Space Plans/ and in-store collateral.   - Identifying, developing and driving business sales opportunities and overall business.   - Establishing and developing selling opportunities which arise from the \"Designer\" and \"New Movers\" programmes.   - \"Saving the Sale\" where quality or availability issues arise.   - Building Guest database and fostering Guest relationships while identifying key individuals, groups and organizations that present commercial opportunities.   - Delivering excellent service during VIP and In-Store promotional events.   - Maintaining accurate records of sales/returns log and ensuring approval to LOA is logged on weekly basis.   - Attending product knowledge/selling skills development activities, and taking proactive ownership of PDP to maintain high level of selling skills. ',\n",
       " 'You will have/be:    - At least 2 years retail visual merchandising experience.   - Good planning and organisational skills.   - Experience of providing a product presentation and consultation at the customers home.   - CAD experience would be advantageous but not a necessity.',\n",
       " '',\n",
       " 'As a leading international franchise operator, with nearly 90 of the world’s most recognised brands in its portfolio, Alshaya Group brings great shopping, dining, leisure and hospitality experiences to millions of customers across the Middle East & North Africa, Russia, Turkey, Europe and beyond.',\n",
       " 'Alshaya Group is a dynamic multinational business and family owned enterprise with a consistent record of growth and innovation.  For 35 years, Alshaya has been a pioneering force in brand franchising, using its exceptional knowledge and experience to expand at pace.',\n",
       " 'Our portfolio of well-loved international brands includes Starbucks, H&M, Mothercare, Debenhams, American Eagle Outfitters, P.F. Chang’s, The Cheesecake Factory, The Body Shop, M.A.C, Victoria’s Secret, Boots, Pottery Barn, KidZania and, coming soon, Hampton by Hilton.',\n",
       " 'From one retail franchise store opened in Kuwait in 1983, Alshaya Group has consistently grown and diversified and today offers customers an unparalleled choice of brands across multiple sectors; Fashion & Footwear, Health & Beauty, Food, Optics, Pharmacy, Home Furnishings, Leisure & Entertainment, and Hotels.  A diverse, skilled team of 53,000 people from 120 nationalities support more than 4,000 stores, cafes, restaurants and leisure destinations, a growing online business and a commitment to delivering great customer experiences.']"
      ]
     },
     "execution_count": 251,
     "metadata": {},
     "output_type": "execute_result"
    }
   ],
   "source": [
    "c=description[12:19]\n",
    "c"
   ]
  },
  {
   "cell_type": "code",
   "execution_count": 166,
   "metadata": {},
   "outputs": [
    {
     "data": {
      "text/plain": [
       "[\"Company Description   Why work for Accor?  We are far more than a worldwide leader. We welcome you as you are and you can find a job and brand that matches your personality. We support you to grow and learn every day, making sure that work brings purpose to your life, so that during your journey with us, you can continue to explore Accor's limitless possibilities.  By joining Accor, every chapter of your story is yours to write and together we can imagine tomorrow's hospitality. Discover the life that awaits you at Accor.  Do what you love, care for the world, dare to challenge the status quo!  Job Description   - The Accommodation Supervisor is responsible for maintaining the highest level of safety and standards of the Heartists accommodation. - Allocates rooms and accommodates all new Heartists as per their entitlement. - Maintains and keeps the necessary records related to the Heartists' accommodation plan and allocation of Heartists and furniture in each apartment/room. - Keeps and updates the inventory lists for each and every apartment, which should be signed by the occupants of the Heartists. - Obtains the new Heartists' signature for the inventory list and initials the clearance certificate in case of living out/separation. - Ensures that maintenance to all machines & equipment, building, pool and others are properly monitored and executed. - Coordinate and monitor the Heartists transportation with the contracted company. - Come up with new ideas and suggestions to improve the services at the Accommodation and increase the Heartists satisfaction. - Responsible for running of Heartists' Cafeteria in terms of food quality, quantity & selections. - To organize social events for the Heartists' in the Hotel and accommodation.\",\n",
       " \"Qualifications   - Degree in the hospitality field - 2-3 Years preferable experiences in a similar role in UAE - Heartists' relation skills - Strong organizational skills - Good working knowledge of computers - Fluency in English; additional languages are a plus \",\n",
       " '',\n",
       " 'A caring employer providing respect, training and career development for our employees. An attractive employer offering more than 100 professions across the 5 continents.',\n",
       " 'We are much more than a world leader. We are 250,000  hoteliers with the same shared passion for welcoming. We take care of millions of guests in our 4,300 addresses and on our digital platforms. As an operator and franchisor (HotelServices), owner and investor (HotelInvest), we invest all our energy into making \"Feel Welcome\" resonate as the finest hotel promise.',\n",
       " \"From luxury to economy and in every corner of the globe, AccorHotels'\\u200b more than 20 brands meet all the needs of business and leisure travelers seeking comfort, attention and high-quality services.\",\n",
       " '']"
      ]
     },
     "execution_count": 166,
     "metadata": {},
     "output_type": "execute_result"
    }
   ],
   "source": [
    "#description = []\n",
    "#cont = soup.find(class_= 'panel-body content-visibility-auto')\n",
    "#all = cont.find_all('p')#.text \n",
    "#for d in range(len(all)):\n",
    "#    description.append(all[d].text.replace('\\n',' '))\n",
    "#description = description.replace('\\n',' ')\n",
    "#description\n",
    "#description"
   ]
  },
  {
   "cell_type": "code",
   "execution_count": 178,
   "metadata": {},
   "outputs": [
    {
     "data": {
      "text/html": [
       "<div>\n",
       "<style scoped>\n",
       "    .dataframe tbody tr th:only-of-type {\n",
       "        vertical-align: middle;\n",
       "    }\n",
       "\n",
       "    .dataframe tbody tr th {\n",
       "        vertical-align: top;\n",
       "    }\n",
       "\n",
       "    .dataframe thead th {\n",
       "        text-align: right;\n",
       "    }\n",
       "</style>\n",
       "<table border=\"1\" class=\"dataframe\">\n",
       "  <thead>\n",
       "    <tr style=\"text-align: right;\">\n",
       "      <th></th>\n",
       "      <th>position</th>\n",
       "      <th>location</th>\n",
       "      <th>date</th>\n",
       "      <th>img</th>\n",
       "      <th>links</th>\n",
       "    </tr>\n",
       "  </thead>\n",
       "  <tbody>\n",
       "    <tr>\n",
       "      <th>0</th>\n",
       "      <td>CNC Machine programmer / operator for Theming ...</td>\n",
       "      <td>Dubai</td>\n",
       "      <td>9 Dec</td>\n",
       "      <td>NaN</td>\n",
       "      <td>https://www.gulftalent.com/uae/jobs/cnc-machin...</td>\n",
       "    </tr>\n",
       "    <tr>\n",
       "      <th>1</th>\n",
       "      <td>BaristaAlshaya</td>\n",
       "      <td>UAE</td>\n",
       "      <td>9 Dec</td>\n",
       "      <td>NaN</td>\n",
       "      <td>https://www.gulftalent.com/uae/jobs/barista-35...</td>\n",
       "    </tr>\n",
       "    <tr>\n",
       "      <th>2</th>\n",
       "      <td>Technical Maintenance Training Manager - Hospi...</td>\n",
       "      <td>UAE</td>\n",
       "      <td>9 Dec</td>\n",
       "      <td>NaN</td>\n",
       "      <td>https://www.gulftalent.com/uae/jobs/technical-...</td>\n",
       "    </tr>\n",
       "    <tr>\n",
       "      <th>3</th>\n",
       "      <td>Coffee TechnicianAlshaya</td>\n",
       "      <td>UAE</td>\n",
       "      <td>9 Dec</td>\n",
       "      <td>NaN</td>\n",
       "      <td>https://www.gulftalent.com/uae/jobs/coffee-tec...</td>\n",
       "    </tr>\n",
       "    <tr>\n",
       "      <th>4</th>\n",
       "      <td>Store ManagerAlshaya</td>\n",
       "      <td>UAE</td>\n",
       "      <td>9 Dec</td>\n",
       "      <td>NaN</td>\n",
       "      <td>https://www.gulftalent.com/uae/jobs/store-mana...</td>\n",
       "    </tr>\n",
       "    <tr>\n",
       "      <th>5</th>\n",
       "      <td>Sales AssociateAlshaya</td>\n",
       "      <td>UAE</td>\n",
       "      <td>9 Dec</td>\n",
       "      <td>NaN</td>\n",
       "      <td>https://www.gulftalent.com/uae/jobs/sales-asso...</td>\n",
       "    </tr>\n",
       "    <tr>\n",
       "      <th>6</th>\n",
       "      <td>Sales AssociateAlshaya</td>\n",
       "      <td>UAE</td>\n",
       "      <td>9 Dec</td>\n",
       "      <td>NaN</td>\n",
       "      <td>https://www.gulftalent.com/uae/jobs/sales-asso...</td>\n",
       "    </tr>\n",
       "    <tr>\n",
       "      <th>7</th>\n",
       "      <td>Senior Merchandiser - Online TradingAlshaya</td>\n",
       "      <td>UAE</td>\n",
       "      <td>9 Dec</td>\n",
       "      <td>NaN</td>\n",
       "      <td>https://www.gulftalent.com/uae/jobs/senior-mer...</td>\n",
       "    </tr>\n",
       "    <tr>\n",
       "      <th>8</th>\n",
       "      <td>Marketing Executive / OnlineAlshaya</td>\n",
       "      <td>UAE</td>\n",
       "      <td>9 Dec</td>\n",
       "      <td>NaN</td>\n",
       "      <td>https://www.gulftalent.com/uae/jobs/marketing-...</td>\n",
       "    </tr>\n",
       "    <tr>\n",
       "      <th>9</th>\n",
       "      <td>Online Marketing ExecutiveAlshaya</td>\n",
       "      <td>UAE</td>\n",
       "      <td>9 Dec</td>\n",
       "      <td>NaN</td>\n",
       "      <td>https://www.gulftalent.com/uae/jobs/online-mar...</td>\n",
       "    </tr>\n",
       "    <tr>\n",
       "      <th>10</th>\n",
       "      <td>Senior AccountantCharterhouse</td>\n",
       "      <td>Dubai</td>\n",
       "      <td>9 Dec</td>\n",
       "      <td>NaN</td>\n",
       "      <td>https://www.gulftalent.com/uae/jobs/senior-acc...</td>\n",
       "    </tr>\n",
       "    <tr>\n",
       "      <th>11</th>\n",
       "      <td>Project Manager - Design OR ConstructionRandst...</td>\n",
       "      <td>Dubai</td>\n",
       "      <td>9 Dec</td>\n",
       "      <td>NaN</td>\n",
       "      <td>https://www.gulftalent.com/uae/jobs/project-ma...</td>\n",
       "    </tr>\n",
       "    <tr>\n",
       "      <th>12</th>\n",
       "      <td>Subscriber Management ExecutiveManpower Middle...</td>\n",
       "      <td>Dubai</td>\n",
       "      <td>9 Dec</td>\n",
       "      <td>NaN</td>\n",
       "      <td>https://www.gulftalent.com/uae/jobs/subscriber...</td>\n",
       "    </tr>\n",
       "    <tr>\n",
       "      <th>13</th>\n",
       "      <td>Purchasing OfficerManpower Middle East</td>\n",
       "      <td>Dubai</td>\n",
       "      <td>9 Dec</td>\n",
       "      <td>NaN</td>\n",
       "      <td>https://www.gulftalent.com/uae/jobs/purchasing...</td>\n",
       "    </tr>\n",
       "    <tr>\n",
       "      <th>14</th>\n",
       "      <td>Business AnalystUltimate HR Solutions</td>\n",
       "      <td>Dubai</td>\n",
       "      <td>9 Dec</td>\n",
       "      <td>NaN</td>\n",
       "      <td>https://www.gulftalent.com/uae/jobs/business-a...</td>\n",
       "    </tr>\n",
       "    <tr>\n",
       "      <th>15</th>\n",
       "      <td>Senior Officer - Marketing and CommunicationsM...</td>\n",
       "      <td>Dubai</td>\n",
       "      <td>9 Dec</td>\n",
       "      <td>NaN</td>\n",
       "      <td>https://www.gulftalent.com/uae/jobs/senior-off...</td>\n",
       "    </tr>\n",
       "    <tr>\n",
       "      <th>16</th>\n",
       "      <td>Senior Manager - Data AnalyticsManpower Middle...</td>\n",
       "      <td>Dubai</td>\n",
       "      <td>9 Dec</td>\n",
       "      <td>NaN</td>\n",
       "      <td>https://www.gulftalent.com/uae/jobs/senior-man...</td>\n",
       "    </tr>\n",
       "    <tr>\n",
       "      <th>17</th>\n",
       "      <td>Senior Manager - EcommerceManpower Middle East</td>\n",
       "      <td>Dubai</td>\n",
       "      <td>9 Dec</td>\n",
       "      <td>NaN</td>\n",
       "      <td>https://www.gulftalent.com/uae/jobs/senior-man...</td>\n",
       "    </tr>\n",
       "    <tr>\n",
       "      <th>18</th>\n",
       "      <td>Interior Design EngineerWSP</td>\n",
       "      <td>Dubai</td>\n",
       "      <td>9 Dec</td>\n",
       "      <td>NaN</td>\n",
       "      <td>https://www.gulftalent.com/uae/jobs/interior-d...</td>\n",
       "    </tr>\n",
       "    <tr>\n",
       "      <th>19</th>\n",
       "      <td>Senior Manager - Product ManagementManpower Mi...</td>\n",
       "      <td>Dubai</td>\n",
       "      <td>9 Dec</td>\n",
       "      <td>NaN</td>\n",
       "      <td>https://www.gulftalent.com/uae/jobs/senior-man...</td>\n",
       "    </tr>\n",
       "    <tr>\n",
       "      <th>20</th>\n",
       "      <td>Data Entry Clerk (Call Center Executive)Ultima...</td>\n",
       "      <td>Dubai</td>\n",
       "      <td>9 Dec</td>\n",
       "      <td>NaN</td>\n",
       "      <td>https://www.gulftalent.com/uae/jobs/data-entry...</td>\n",
       "    </tr>\n",
       "    <tr>\n",
       "      <th>21</th>\n",
       "      <td>MEP Project EngineerTXM Recruit - Dubai (TXM L...</td>\n",
       "      <td>UAE</td>\n",
       "      <td>9 Dec</td>\n",
       "      <td>NaN</td>\n",
       "      <td>https://www.gulftalent.com/uae/jobs/mep-projec...</td>\n",
       "    </tr>\n",
       "    <tr>\n",
       "      <th>22</th>\n",
       "      <td>Relationship Manager (Arabic Speaker)Ultimate ...</td>\n",
       "      <td>Abu Dhabi</td>\n",
       "      <td>9 Dec</td>\n",
       "      <td>NaN</td>\n",
       "      <td>https://www.gulftalent.com/uae/jobs/relationsh...</td>\n",
       "    </tr>\n",
       "    <tr>\n",
       "      <th>23</th>\n",
       "      <td>Key Account Sales ManagerKingston Stanley</td>\n",
       "      <td>Dubai</td>\n",
       "      <td>9 Dec</td>\n",
       "      <td>NaN</td>\n",
       "      <td>https://www.gulftalent.com/uae/jobs/key-accoun...</td>\n",
       "    </tr>\n",
       "    <tr>\n",
       "      <th>24</th>\n",
       "      <td>Reservations AgentAccorHotels</td>\n",
       "      <td>Dubai</td>\n",
       "      <td>8 Dec</td>\n",
       "      <td>NaN</td>\n",
       "      <td>https://www.gulftalent.com/uae/jobs/reservatio...</td>\n",
       "    </tr>\n",
       "  </tbody>\n",
       "</table>\n",
       "</div>"
      ],
      "text/plain": [
       "                                             position   location   date  img  \\\n",
       "0   CNC Machine programmer / operator for Theming ...      Dubai  9 Dec  NaN   \n",
       "1                                      BaristaAlshaya        UAE  9 Dec  NaN   \n",
       "2   Technical Maintenance Training Manager - Hospi...        UAE  9 Dec  NaN   \n",
       "3                            Coffee TechnicianAlshaya        UAE  9 Dec  NaN   \n",
       "4                                Store ManagerAlshaya        UAE  9 Dec  NaN   \n",
       "5                              Sales AssociateAlshaya        UAE  9 Dec  NaN   \n",
       "6                              Sales AssociateAlshaya        UAE  9 Dec  NaN   \n",
       "7         Senior Merchandiser - Online TradingAlshaya        UAE  9 Dec  NaN   \n",
       "8                 Marketing Executive / OnlineAlshaya        UAE  9 Dec  NaN   \n",
       "9                   Online Marketing ExecutiveAlshaya        UAE  9 Dec  NaN   \n",
       "10                      Senior AccountantCharterhouse      Dubai  9 Dec  NaN   \n",
       "11  Project Manager - Design OR ConstructionRandst...      Dubai  9 Dec  NaN   \n",
       "12  Subscriber Management ExecutiveManpower Middle...      Dubai  9 Dec  NaN   \n",
       "13             Purchasing OfficerManpower Middle East      Dubai  9 Dec  NaN   \n",
       "14              Business AnalystUltimate HR Solutions      Dubai  9 Dec  NaN   \n",
       "15  Senior Officer - Marketing and CommunicationsM...      Dubai  9 Dec  NaN   \n",
       "16  Senior Manager - Data AnalyticsManpower Middle...      Dubai  9 Dec  NaN   \n",
       "17     Senior Manager - EcommerceManpower Middle East      Dubai  9 Dec  NaN   \n",
       "18                        Interior Design EngineerWSP      Dubai  9 Dec  NaN   \n",
       "19  Senior Manager - Product ManagementManpower Mi...      Dubai  9 Dec  NaN   \n",
       "20  Data Entry Clerk (Call Center Executive)Ultima...      Dubai  9 Dec  NaN   \n",
       "21  MEP Project EngineerTXM Recruit - Dubai (TXM L...        UAE  9 Dec  NaN   \n",
       "22  Relationship Manager (Arabic Speaker)Ultimate ...  Abu Dhabi  9 Dec  NaN   \n",
       "23          Key Account Sales ManagerKingston Stanley      Dubai  9 Dec  NaN   \n",
       "24                      Reservations AgentAccorHotels      Dubai  8 Dec  NaN   \n",
       "\n",
       "                                                links  \n",
       "0   https://www.gulftalent.com/uae/jobs/cnc-machin...  \n",
       "1   https://www.gulftalent.com/uae/jobs/barista-35...  \n",
       "2   https://www.gulftalent.com/uae/jobs/technical-...  \n",
       "3   https://www.gulftalent.com/uae/jobs/coffee-tec...  \n",
       "4   https://www.gulftalent.com/uae/jobs/store-mana...  \n",
       "5   https://www.gulftalent.com/uae/jobs/sales-asso...  \n",
       "6   https://www.gulftalent.com/uae/jobs/sales-asso...  \n",
       "7   https://www.gulftalent.com/uae/jobs/senior-mer...  \n",
       "8   https://www.gulftalent.com/uae/jobs/marketing-...  \n",
       "9   https://www.gulftalent.com/uae/jobs/online-mar...  \n",
       "10  https://www.gulftalent.com/uae/jobs/senior-acc...  \n",
       "11  https://www.gulftalent.com/uae/jobs/project-ma...  \n",
       "12  https://www.gulftalent.com/uae/jobs/subscriber...  \n",
       "13  https://www.gulftalent.com/uae/jobs/purchasing...  \n",
       "14  https://www.gulftalent.com/uae/jobs/business-a...  \n",
       "15  https://www.gulftalent.com/uae/jobs/senior-off...  \n",
       "16  https://www.gulftalent.com/uae/jobs/senior-man...  \n",
       "17  https://www.gulftalent.com/uae/jobs/senior-man...  \n",
       "18  https://www.gulftalent.com/uae/jobs/interior-d...  \n",
       "19  https://www.gulftalent.com/uae/jobs/senior-man...  \n",
       "20  https://www.gulftalent.com/uae/jobs/data-entry...  \n",
       "21  https://www.gulftalent.com/uae/jobs/mep-projec...  \n",
       "22  https://www.gulftalent.com/uae/jobs/relationsh...  \n",
       "23  https://www.gulftalent.com/uae/jobs/key-accoun...  \n",
       "24  https://www.gulftalent.com/uae/jobs/reservatio...  "
      ]
     },
     "execution_count": 178,
     "metadata": {},
     "output_type": "execute_result"
    }
   ],
   "source": [
    "import pandas as pd \n",
    "aa = pd.read_csv(\"gulftilent.csv\") \n",
    "aa"
   ]
  },
  {
   "cell_type": "code",
   "execution_count": 179,
   "metadata": {},
   "outputs": [
    {
     "ename": "ValueError",
     "evalue": "Length of values (179) does not match length of index (25)",
     "output_type": "error",
     "traceback": [
      "\u001b[1;31m---------------------------------------------------------------------------\u001b[0m",
      "\u001b[1;31mValueError\u001b[0m                                Traceback (most recent call last)",
      "Cell \u001b[1;32mIn [179], line 2\u001b[0m\n\u001b[0;32m      1\u001b[0m aa[\u001b[39m'\u001b[39m\u001b[39mtypes\u001b[39m\u001b[39m'\u001b[39m] \u001b[39m=\u001b[39m types\n\u001b[1;32m----> 2\u001b[0m aa[\u001b[39m'\u001b[39;49m\u001b[39mdescription\u001b[39;49m\u001b[39m'\u001b[39;49m] \u001b[39m=\u001b[39m description\n\u001b[0;32m      3\u001b[0m aa\n",
      "File \u001b[1;32mc:\\Users\\10235555\\AppData\\Local\\Programs\\Python\\Python311\\Lib\\site-packages\\pandas\\core\\frame.py:3977\u001b[0m, in \u001b[0;36mDataFrame.__setitem__\u001b[1;34m(self, key, value)\u001b[0m\n\u001b[0;32m   3974\u001b[0m     \u001b[39mself\u001b[39m\u001b[39m.\u001b[39m_setitem_array([key], value)\n\u001b[0;32m   3975\u001b[0m \u001b[39melse\u001b[39;00m:\n\u001b[0;32m   3976\u001b[0m     \u001b[39m# set column\u001b[39;00m\n\u001b[1;32m-> 3977\u001b[0m     \u001b[39mself\u001b[39;49m\u001b[39m.\u001b[39;49m_set_item(key, value)\n",
      "File \u001b[1;32mc:\\Users\\10235555\\AppData\\Local\\Programs\\Python\\Python311\\Lib\\site-packages\\pandas\\core\\frame.py:4171\u001b[0m, in \u001b[0;36mDataFrame._set_item\u001b[1;34m(self, key, value)\u001b[0m\n\u001b[0;32m   4161\u001b[0m \u001b[39mdef\u001b[39;00m \u001b[39m_set_item\u001b[39m(\u001b[39mself\u001b[39m, key, value) \u001b[39m-\u001b[39m\u001b[39m>\u001b[39m \u001b[39mNone\u001b[39;00m:\n\u001b[0;32m   4162\u001b[0m     \u001b[39m\"\"\"\u001b[39;00m\n\u001b[0;32m   4163\u001b[0m \u001b[39m    Add series to DataFrame in specified column.\u001b[39;00m\n\u001b[0;32m   4164\u001b[0m \n\u001b[1;32m   (...)\u001b[0m\n\u001b[0;32m   4169\u001b[0m \u001b[39m    ensure homogeneity.\u001b[39;00m\n\u001b[0;32m   4170\u001b[0m \u001b[39m    \"\"\"\u001b[39;00m\n\u001b[1;32m-> 4171\u001b[0m     value \u001b[39m=\u001b[39m \u001b[39mself\u001b[39;49m\u001b[39m.\u001b[39;49m_sanitize_column(value)\n\u001b[0;32m   4173\u001b[0m     \u001b[39mif\u001b[39;00m (\n\u001b[0;32m   4174\u001b[0m         key \u001b[39min\u001b[39;00m \u001b[39mself\u001b[39m\u001b[39m.\u001b[39mcolumns\n\u001b[0;32m   4175\u001b[0m         \u001b[39mand\u001b[39;00m value\u001b[39m.\u001b[39mndim \u001b[39m==\u001b[39m \u001b[39m1\u001b[39m\n\u001b[0;32m   4176\u001b[0m         \u001b[39mand\u001b[39;00m \u001b[39mnot\u001b[39;00m is_extension_array_dtype(value)\n\u001b[0;32m   4177\u001b[0m     ):\n\u001b[0;32m   4178\u001b[0m         \u001b[39m# broadcast across multiple columns if necessary\u001b[39;00m\n\u001b[0;32m   4179\u001b[0m         \u001b[39mif\u001b[39;00m \u001b[39mnot\u001b[39;00m \u001b[39mself\u001b[39m\u001b[39m.\u001b[39mcolumns\u001b[39m.\u001b[39mis_unique \u001b[39mor\u001b[39;00m \u001b[39misinstance\u001b[39m(\u001b[39mself\u001b[39m\u001b[39m.\u001b[39mcolumns, MultiIndex):\n",
      "File \u001b[1;32mc:\\Users\\10235555\\AppData\\Local\\Programs\\Python\\Python311\\Lib\\site-packages\\pandas\\core\\frame.py:4904\u001b[0m, in \u001b[0;36mDataFrame._sanitize_column\u001b[1;34m(self, value)\u001b[0m\n\u001b[0;32m   4901\u001b[0m     \u001b[39mreturn\u001b[39;00m _reindex_for_setitem(Series(value), \u001b[39mself\u001b[39m\u001b[39m.\u001b[39mindex)\n\u001b[0;32m   4903\u001b[0m \u001b[39mif\u001b[39;00m is_list_like(value):\n\u001b[1;32m-> 4904\u001b[0m     com\u001b[39m.\u001b[39;49mrequire_length_match(value, \u001b[39mself\u001b[39;49m\u001b[39m.\u001b[39;49mindex)\n\u001b[0;32m   4905\u001b[0m \u001b[39mreturn\u001b[39;00m sanitize_array(value, \u001b[39mself\u001b[39m\u001b[39m.\u001b[39mindex, copy\u001b[39m=\u001b[39m\u001b[39mTrue\u001b[39;00m, allow_2d\u001b[39m=\u001b[39m\u001b[39mTrue\u001b[39;00m)\n",
      "File \u001b[1;32mc:\\Users\\10235555\\AppData\\Local\\Programs\\Python\\Python311\\Lib\\site-packages\\pandas\\core\\common.py:561\u001b[0m, in \u001b[0;36mrequire_length_match\u001b[1;34m(data, index)\u001b[0m\n\u001b[0;32m    557\u001b[0m \u001b[39m\"\"\"\u001b[39;00m\n\u001b[0;32m    558\u001b[0m \u001b[39mCheck the length of data matches the length of the index.\u001b[39;00m\n\u001b[0;32m    559\u001b[0m \u001b[39m\"\"\"\u001b[39;00m\n\u001b[0;32m    560\u001b[0m \u001b[39mif\u001b[39;00m \u001b[39mlen\u001b[39m(data) \u001b[39m!=\u001b[39m \u001b[39mlen\u001b[39m(index):\n\u001b[1;32m--> 561\u001b[0m     \u001b[39mraise\u001b[39;00m \u001b[39mValueError\u001b[39;00m(\n\u001b[0;32m    562\u001b[0m         \u001b[39m\"\u001b[39m\u001b[39mLength of values \u001b[39m\u001b[39m\"\u001b[39m\n\u001b[0;32m    563\u001b[0m         \u001b[39mf\u001b[39m\u001b[39m\"\u001b[39m\u001b[39m(\u001b[39m\u001b[39m{\u001b[39;00m\u001b[39mlen\u001b[39m(data)\u001b[39m}\u001b[39;00m\u001b[39m) \u001b[39m\u001b[39m\"\u001b[39m\n\u001b[0;32m    564\u001b[0m         \u001b[39m\"\u001b[39m\u001b[39mdoes not match length of index \u001b[39m\u001b[39m\"\u001b[39m\n\u001b[0;32m    565\u001b[0m         \u001b[39mf\u001b[39m\u001b[39m\"\u001b[39m\u001b[39m(\u001b[39m\u001b[39m{\u001b[39;00m\u001b[39mlen\u001b[39m(index)\u001b[39m}\u001b[39;00m\u001b[39m)\u001b[39m\u001b[39m\"\u001b[39m\n\u001b[0;32m    566\u001b[0m     )\n",
      "\u001b[1;31mValueError\u001b[0m: Length of values (179) does not match length of index (25)"
     ]
    }
   ],
   "source": [
    "aa['types'] = types\n",
    "aa['description'] = description\n",
    "aa"
   ]
  },
  {
   "cell_type": "code",
   "execution_count": 164,
   "metadata": {},
   "outputs": [],
   "source": [
    "aa.to_csv('gulftalent.csv', index=False)"
   ]
  },
  {
   "cell_type": "code",
   "execution_count": 55,
   "metadata": {},
   "outputs": [
    {
     "name": "stdout",
     "output_type": "stream",
     "text": [
      "https://www.gulftalent.com/uae/jobs/sales-representative-356491\n",
      "https://www.gulftalent.com/uae/jobs/executive-secretary-356490\n",
      "https://www.gulftalent.com/uae/jobs/project-manager-design-356488\n",
      "https://www.gulftalent.com/uae/jobs/inpatient-treatment-service-manager-356484\n",
      "https://www.gulftalent.com/uae/jobs/inpatient-service-manager-356483\n",
      "https://www.gulftalent.com/uae/jobs/sales-support-engineer-356479\n",
      "https://www.gulftalent.com/uae/jobs/senior-project-manager-356478\n",
      "https://www.gulftalent.com/uae/jobs/planning-project-control-manager-356477\n",
      "https://www.gulftalent.com/uae/jobs/corporate-receptionist-356476\n",
      "https://www.gulftalent.com/uae/jobs/hr-manager-356475\n",
      "https://www.gulftalent.com/uae/jobs/senior-fm-engineer-hvac-refrigeration-mechanical-field-356474\n",
      "https://www.gulftalent.com/uae/jobs/purchasing-manager-356473\n",
      "https://www.gulftalent.com/uae/jobs/fm-engineer-hvac-356472\n",
      "https://www.gulftalent.com/uae/jobs/legal-counsel-english-arabic-356471\n",
      "https://www.gulftalent.com/uae/jobs/planning-engineer-356469\n",
      "https://www.gulftalent.com/uae/jobs/accounts-manager-356468\n",
      "https://www.gulftalent.com/uae/jobs/project-manager-luxury-retail-fixtures-356467\n",
      "https://www.gulftalent.com/uae/jobs/cluster-director-of-revenue-356236\n",
      "https://www.gulftalent.com/uae/jobs/commis-i-italian-cuisine-355681\n",
      "https://www.gulftalent.com/uae/jobs/f-b-supervisor-355627\n",
      "https://www.gulftalent.com/uae/jobs/senior-intelligence-manager-355402\n",
      "https://www.gulftalent.com/uae/jobs/front-office-intern-uae-national-355051\n",
      "https://www.gulftalent.com/uae/jobs/commis-2-354743\n",
      "https://www.gulftalent.com/uae/jobs/cctv-operator-354678\n",
      "https://www.gulftalent.com/uae/jobs/bellman-354642\n"
     ]
    }
   ],
   "source": [
    "for row in rows[1:]:\n",
    "    a = row.find('a')['href']\n",
    "    link = f'{url}{a}'\n",
    "    print(link)\n"
   ]
  },
  {
   "cell_type": "code",
   "execution_count": 142,
   "metadata": {},
   "outputs": [],
   "source": [
    "chrome_options = webdriver.ChromeOptions()\n",
    "base_path = f\"{os.getcwd()}\\\\downloadfolder\" # local, gets current working directory\n",
    "base_path\n",
    "prefs = {'download.default_directory' : base_path}#, \"profile.content_settings.exceptions.automatic_downloads.*.setting\" : 1}\n",
    "chrome_options.add_experimental_option('prefs', prefs)\n",
    "#chrome_options.add_argument('--user-agent=\"Mozilla/5.0 (Windows Phone 10.0; Android 4.2.1; Microsoft; Lumia 640 XL LTE) AppleWebKit/537.36 (KHTML, like Gecko) Chrome/42.0.2311.135 Mobile Safari/537.36 Edge/12.10166\"')\n",
    "driver = webdriver.Chrome(service=Service(ChromeDriverManager().install()), options=chrome_options)\n",
    "driver.maximize_window()\n",
    "\n",
    "#for k in links[0]:\n",
    "driver.get(links[0])\n"
   ]
  },
  {
   "cell_type": "code",
   "execution_count": 143,
   "metadata": {},
   "outputs": [
    {
     "data": {
      "text/plain": [
       "'Full Time'"
      ]
     },
     "execution_count": 143,
     "metadata": {},
     "output_type": "execute_result"
    }
   ],
   "source": [
    "page_source = driver.page_source                    # this is how to use beautifulsoup with selenium, you can get the hrefs or just click as shown above, up to you\n",
    "soup = BeautifulSoup(page_source, 'html.parser')\n",
    "Emp = soup.find(class_ = 'space-bottom-sm')\n",
    "Employment = Emp.find('span').text\n",
    "Employment.strip()"
   ]
  },
  {
   "cell_type": "code",
   "execution_count": 145,
   "metadata": {},
   "outputs": [],
   "source": [
    "#import csv\n",
    "#with open('gulftilent.csv','r') as csvinput:\n",
    "#    with open('gulftilent.csv', 'w') as csvoutput:\n",
    "#        writer = csv.writer(csvoutput)\n",
    "#        for row in csv.reader(csvinput):\n",
    "#            writer.writerow(row+all)"
   ]
  },
  {
   "cell_type": "code",
   "execution_count": 130,
   "metadata": {},
   "outputs": [
    {
     "ename": "TypeError",
     "evalue": "'str' object is not callable",
     "output_type": "error",
     "traceback": [
      "\u001b[1;31m---------------------------------------------------------------------------\u001b[0m",
      "\u001b[1;31mTypeError\u001b[0m                                 Traceback (most recent call last)",
      "Cell \u001b[1;32mIn [130], line 13\u001b[0m\n\u001b[0;32m     11\u001b[0m driver\u001b[39m.\u001b[39mget(links[\u001b[39m0\u001b[39m])\n\u001b[0;32m     12\u001b[0m \u001b[39m#driver.find_element('row content-visibility-auto')\u001b[39;00m\n\u001b[1;32m---> 13\u001b[0m driver\u001b[39m.\u001b[39mfind_element(By\u001b[39m.\u001b[39;49mCSS_SELECTOR(\u001b[39m\"\u001b[39;49m\u001b[39m.btn btn-primary btn-block btn-lg ng-scope\u001b[39;49m\u001b[39m\"\u001b[39;49m))\u001b[39m.\u001b[39mclick()\n",
      "\u001b[1;31mTypeError\u001b[0m: 'str' object is not callable"
     ]
    }
   ],
   "source": [
    "chrome_options = webdriver.ChromeOptions()\n",
    "base_path = f\"{os.getcwd()}\\\\downloadfolder\" # local, gets current working directory\n",
    "base_path\n",
    "prefs = {'download.default_directory' : base_path}#, \"profile.content_settings.exceptions.automatic_downloads.*.setting\" : 1}\n",
    "chrome_options.add_experimental_option('prefs', prefs)\n",
    "#chrome_options.add_argument('--user-agent=\"Mozilla/5.0 (Windows Phone 10.0; Android 4.2.1; Microsoft; Lumia 640 XL LTE) AppleWebKit/537.36 (KHTML, like Gecko) Chrome/42.0.2311.135 Mobile Safari/537.36 Edge/12.10166\"')\n",
    "driver = webdriver.Chrome(service=Service(ChromeDriverManager().install()), options=chrome_options)\n",
    "driver.maximize_window()\n",
    "\n",
    "#for k in links[0]:\n",
    "driver.get(links[0])\n",
    "#driver.find_element('row content-visibility-auto')\n",
    "driver.find_element(By.CSS_SELECTOR(\".btn btn-primary btn-block btn-lg ng-scope\")).click()\n"
   ]
  }
 ],
 "metadata": {
  "kernelspec": {
   "display_name": "Python 3.11.0 64-bit",
   "language": "python",
   "name": "python3"
  },
  "language_info": {
   "codemirror_mode": {
    "name": "ipython",
    "version": 3
   },
   "file_extension": ".py",
   "mimetype": "text/x-python",
   "name": "python",
   "nbconvert_exporter": "python",
   "pygments_lexer": "ipython3",
   "version": "3.11.0 (main, Oct 24 2022, 18:26:48) [MSC v.1933 64 bit (AMD64)]"
  },
  "orig_nbformat": 4,
  "vscode": {
   "interpreter": {
    "hash": "69e035e7e91c91f4a781d2e2d4ddd23f591a0aa5fdf41d28e15c78aec28956a8"
   }
  }
 },
 "nbformat": 4,
 "nbformat_minor": 2
}
