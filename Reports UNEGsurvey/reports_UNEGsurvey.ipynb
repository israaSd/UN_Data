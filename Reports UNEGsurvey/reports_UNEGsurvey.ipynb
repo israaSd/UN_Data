{
 "cells": [
  {
   "cell_type": "code",
   "execution_count": 12,
   "metadata": {},
   "outputs": [],
   "source": [
    "from bs4 import BeautifulSoup\n",
    "import requests\n",
    "import os\n",
    "import wget\n",
    "import time\n",
    "base_path = \"C:\\\\Users\\\\10235555\\\\Documents\\\\Dataportal Data\\\\reports EG survey\"\n",
    "import urllib.request\n",
    "import logging\n",
    "import pandas as pd\n",
    "from selenium.webdriver.support.ui import Select\n",
    "from re import search\n",
    "# logging.basicConfig(handlers=[logging.FileHandler(\"C:\\\\Users\\\\10235555\\\\Documents\\\\Dataportal Data\\\\IPU_out.log\"),\n",
    "#                             logging.StreamHandler()], level=logging.INFO)\n",
    "\n",
    "from selenium import webdriver\n",
    "from selenium.webdriver.common.keys import Keys\n",
    "from selenium.webdriver.common.by import By\n",
    "from selenium.webdriver.support.ui import WebDriverWait\n",
    "from selenium.common.exceptions import ElementNotInteractableException, NoSuchElementException\n",
    "from selenium.common.exceptions import ElementClickInterceptedException\n",
    "from selenium.webdriver.support import expected_conditions as EC\n",
    "from selenium.webdriver.chrome.service import Service\n",
    "from webdriver_manager.chrome import ChromeDriverManager\n",
    "from webdriver_manager.firefox import GeckoDriverManager\n",
    "from selenium.webdriver.firefox.options import Options\n",
    "from bs4 import BeautifulSoup\n",
    "import shutil\n",
    "import time\n",
    "import os\n",
    "from pyshadow.main import Shadow\n",
    "from py7zr import unpack_7zarchive\n",
    "from RequestInferSchemaToJsonAPI.main import TriggerInferShemaToJsonAPI\n",
    "\n",
    "chrome_options = webdriver.ChromeOptions()\n",
    "base_path = \"C:\\\\Users\\\\10235555\\\\Documents\\\\Dataportal Data\\\\reports EG survey\" # local, gets current working directory\n",
    "prefs = {'download.default_directory' : base_path}#, \"profile.content_settings.exceptions.automatic_downloads.*.setting\" : 1}\n",
    "chrome_options.add_experimental_option('prefs', prefs)\n",
    "# chrome_options.add_argument('--user-agent=\"Mozilla/5.0 (Windows Phone 10.0; Android 4.2.1; Microsoft; Lumia 640 XL LTE) AppleWebKit/537.36 (KHTML, like Gecko) Chrome/42.0.2311.135 Mobile Safari/537.36 Edge/12.10166\"')\n",
    "driver = webdriver.Chrome(service=Service(ChromeDriverManager().install()), options=chrome_options)\n",
    "driver.maximize_window()"
   ]
  },
  {
   "cell_type": "code",
   "execution_count": 13,
   "metadata": {},
   "outputs": [],
   "source": [
    "url = 'https://publicadministration.un.org/egovkb/en-us/Reports'\n",
    "driver.get(url)"
   ]
  },
  {
   "cell_type": "code",
   "execution_count": null,
   "metadata": {},
   "outputs": [],
   "source": [
    "header = driver.find_element(By.ID,'navdttg')\n",
    "ul_header = header.find_element(By.CLASS_NAME,'nav.nav-pills')\n",
    "list_header = ul_header.find_elements(By.CLASS_NAME,'dropdown ')\n",
    "reports = list_header[4]#.find_element(By.TAG_NAME,'a').get_attribute('href')\n",
    "# driver.get(reports)\n",
    "survey_2020 = reports.find_element(By.CLASS_NAME,'dropdown-menu').find_elements(By.TAG_NAME,'li')[1].find_element(By.TAG_NAME,'a').get_attribute('href')\n",
    "driver.get(survey_2020)\n"
   ]
  },
  {
   "cell_type": "code",
   "execution_count": 33,
   "metadata": {},
   "outputs": [
    {
     "data": {
      "text/plain": [
       "('C:\\\\Users\\\\10235555\\\\Documents\\\\Dataportal Data\\\\reports EG survey\\\\UN E-Government Survey 2020.pdf',\n",
       " <http.client.HTTPMessage at 0x1f28ab1b210>)"
      ]
     },
     "execution_count": 33,
     "metadata": {},
     "output_type": "execute_result"
    }
   ],
   "source": [
    "content = driver.find_element(By.ID,'dnn_ctr1445_ContentPane')\n",
    "title = driver.find_element(By.TAG_NAME,'h2').text\n",
    "publication = content.find_element(By.TAG_NAME,'a').get_attribute('href')\n",
    "urllib.request.urlretrieve(publication,f\"{base_path}\\\\{title}.pdf\")"
   ]
  },
  {
   "cell_type": "code",
   "execution_count": 106,
   "metadata": {},
   "outputs": [],
   "source": [
    "import camelot\n",
    "tables = camelot.read_pdf(f\"{base_path}\\\\{title}.pdf\", pages='349,350,351,352,353')\n",
    "df_0 = tables[0].df.replace('\\n','', regex=True)\n",
    "df_0.columns = df_0.iloc[0]\n",
    "df_0 = df_0.iloc[1:]\n",
    "df_1 = tables[1].df.replace('\\n','', regex=True)\n",
    "df_1.columns = df_1.iloc[0]\n",
    "df_1 = df_1.iloc[1:]\n",
    "df_2 = tables[2].df.replace('\\n','', regex=True)\n",
    "df_2.columns = df_2.iloc[0]\n",
    "df_2 = df_2.iloc[1:]\n",
    "df_3 = tables[3].df.replace('\\n','', regex=True)\n",
    "df_3.columns = df_3.iloc[0]\n",
    "df_3 = df_3.iloc[1:]\n",
    "df_4 = tables[4].df.replace('\\n','', regex=True)\n",
    "df_4.columns = df_4.iloc[0]\n",
    "df_4 = df_4.iloc[1:]\n"
   ]
  },
  {
   "cell_type": "code",
   "execution_count": 107,
   "metadata": {},
   "outputs": [],
   "source": [
    "df = pd.concat([df_0,df_1,df_2,df_3,df_4], ignore_index=True)\n",
    "df.to_csv(f'{base_path}\\\\E-Participation Index (EPI) and its utilisation by stages 2020.csv',index=False)"
   ]
  },
  {
   "cell_type": "code",
   "execution_count": 94,
   "metadata": {},
   "outputs": [
    {
     "ename": "AttributeError",
     "evalue": "'DataFrame' object has no attribute 'export'",
     "output_type": "error",
     "traceback": [
      "\u001b[1;31m---------------------------------------------------------------------------\u001b[0m",
      "\u001b[1;31mAttributeError\u001b[0m                            Traceback (most recent call last)",
      "Cell \u001b[1;32mIn [94], line 3\u001b[0m\n\u001b[0;32m      1\u001b[0m \u001b[39mimport\u001b[39;00m \u001b[39mcamelot\u001b[39;00m\n\u001b[0;32m      2\u001b[0m tables \u001b[39m=\u001b[39m camelot\u001b[39m.\u001b[39mread_pdf(\u001b[39mf\u001b[39m\u001b[39m\"\u001b[39m\u001b[39m{\u001b[39;00mbase_path\u001b[39m}\u001b[39;00m\u001b[39m\\\\\u001b[39;00m\u001b[39m{\u001b[39;00mtitle\u001b[39m}\u001b[39;00m\u001b[39m.pdf\u001b[39m\u001b[39m\"\u001b[39m, pages\u001b[39m=\u001b[39m\u001b[39m'\u001b[39m\u001b[39m349,350,351,352,353\u001b[39m\u001b[39m'\u001b[39m)\n\u001b[1;32m----> 3\u001b[0m tables[\u001b[39m0\u001b[39;49m]\u001b[39m.\u001b[39;49mdf\u001b[39m.\u001b[39;49mreplace(\u001b[39m'\u001b[39;49m\u001b[39m\\n\u001b[39;49;00m\u001b[39m'\u001b[39;49m,\u001b[39m'\u001b[39;49m\u001b[39m'\u001b[39;49m, regex\u001b[39m=\u001b[39;49m\u001b[39mTrue\u001b[39;49;00m)\u001b[39m.\u001b[39;49mexport(\u001b[39mf\u001b[39m\u001b[39m'\u001b[39m\u001b[39m{\u001b[39;00mbase_path\u001b[39m}\u001b[39;00m\u001b[39m\\\\\u001b[39;00m\u001b[39mE-Participation Index (EPI) and its utilisation by stages 2020.csv\u001b[39m\u001b[39m'\u001b[39m, f\u001b[39m=\u001b[39m\u001b[39m'\u001b[39m\u001b[39mcsv\u001b[39m\u001b[39m'\u001b[39m)\n\u001b[0;32m      4\u001b[0m \u001b[39m# tables\u001b[39;00m\n",
      "File \u001b[1;32mc:\\Users\\10235555\\AppData\\Local\\Programs\\Python\\Python311\\Lib\\site-packages\\pandas\\core\\generic.py:5902\u001b[0m, in \u001b[0;36mNDFrame.__getattr__\u001b[1;34m(self, name)\u001b[0m\n\u001b[0;32m   5895\u001b[0m \u001b[39mif\u001b[39;00m (\n\u001b[0;32m   5896\u001b[0m     name \u001b[39mnot\u001b[39;00m \u001b[39min\u001b[39;00m \u001b[39mself\u001b[39m\u001b[39m.\u001b[39m_internal_names_set\n\u001b[0;32m   5897\u001b[0m     \u001b[39mand\u001b[39;00m name \u001b[39mnot\u001b[39;00m \u001b[39min\u001b[39;00m \u001b[39mself\u001b[39m\u001b[39m.\u001b[39m_metadata\n\u001b[0;32m   5898\u001b[0m     \u001b[39mand\u001b[39;00m name \u001b[39mnot\u001b[39;00m \u001b[39min\u001b[39;00m \u001b[39mself\u001b[39m\u001b[39m.\u001b[39m_accessors\n\u001b[0;32m   5899\u001b[0m     \u001b[39mand\u001b[39;00m \u001b[39mself\u001b[39m\u001b[39m.\u001b[39m_info_axis\u001b[39m.\u001b[39m_can_hold_identifiers_and_holds_name(name)\n\u001b[0;32m   5900\u001b[0m ):\n\u001b[0;32m   5901\u001b[0m     \u001b[39mreturn\u001b[39;00m \u001b[39mself\u001b[39m[name]\n\u001b[1;32m-> 5902\u001b[0m \u001b[39mreturn\u001b[39;00m \u001b[39mobject\u001b[39;49m\u001b[39m.\u001b[39;49m\u001b[39m__getattribute__\u001b[39;49m(\u001b[39mself\u001b[39;49m, name)\n",
      "\u001b[1;31mAttributeError\u001b[0m: 'DataFrame' object has no attribute 'export'"
     ]
    }
   ],
   "source": [
    "import camelot\n",
    "tables = camelot.read_pdf(f\"{base_path}\\\\{title}.pdf\", pages='349,350,351,352,353')\n",
    "tables[0].df.replace('\\n','', regex=True)\n",
    "tables.export(f'{base_path}\\\\E-Participation Index (EPI) and its utilisation by stages 2020.csv', f='csv')"
   ]
  },
  {
   "cell_type": "code",
   "execution_count": 3,
   "metadata": {},
   "outputs": [],
   "source": [
    "header = driver.find_element(By.ID,'navdttg')\n",
    "ul_header = header.find_element(By.CLASS_NAME,'nav.nav-pills')\n",
    "list_header = ul_header.find_elements(By.CLASS_NAME,'dropdown ')\n",
    "reports = list_header[4]#.find_element(By.TAG_NAME,'a').get_attribute('href')\n",
    "# driver.get(reports)\n",
    "survey_2018 = reports.find_element(By.CLASS_NAME,'dropdown-menu').find_elements(By.TAG_NAME,'li')[2].find_element(By.TAG_NAME,'a').get_attribute('href')\n",
    "driver.get(survey_2018)"
   ]
  },
  {
   "cell_type": "code",
   "execution_count": 7,
   "metadata": {},
   "outputs": [
    {
     "data": {
      "text/plain": [
       "('C:\\\\Users\\\\10235555\\\\Documents\\\\Dataportal Data\\\\reports EG survey\\\\UN E-Government Survey 2018.pdf',\n",
       " <http.client.HTTPMessage at 0x1dcff15eb90>)"
      ]
     },
     "execution_count": 7,
     "metadata": {},
     "output_type": "execute_result"
    }
   ],
   "source": [
    "content = driver.find_element(By.CLASS_NAME,'Normal')\n",
    "title = driver.find_element(By.TAG_NAME,'h2').text\n",
    "publication = content.find_element(By.XPATH,\"//*[contains(text(), 'English')]\").get_attribute('href')\n",
    "urllib.request.urlretrieve(publication,f\"{base_path}\\\\{title}.pdf\")"
   ]
  },
  {
   "cell_type": "code",
   "execution_count": 98,
   "metadata": {},
   "outputs": [],
   "source": [
    "import camelot\n",
    "tables = camelot.read_pdf(\"C:\\\\Users\\\\10235555\\\\Documents\\\\Dataportal Data\\\\reports EG survey\\\\UN E-Government Survey 2018.pdf\", flavor='stream', pages='275,276,277,278,279')\n",
    "# tables[0].parsing_report\n",
    "df_0 = tables[0].df.replace('\\n','', regex=True)\n",
    "df_0.columns = df_0.iloc[1]\n",
    "df_0 = df_0.iloc[2:]\n",
    "# tables[1].parsing_report\n",
    "df_1 = tables[2].df.replace('\\n','', regex=True)\n",
    "df_1.columns = df_1.iloc[1]\n",
    "df_1 = df_1.iloc[2:]\n",
    "# tables[2].parsing_report\n",
    "df_2 = tables[4].df.replace('\\n','', regex=True)\n",
    "df_2.columns = df_2.iloc[1]\n",
    "df_2 = df_2.iloc[2:]\n",
    "# tables[3].parsing_report\n",
    "df_3 = tables[5].df.replace('\\n','', regex=True)\n",
    "df_3.columns = df_3.iloc[1]\n",
    "df_3 = df_3.iloc[2:]\n",
    "# tables[4].parsing_report\n",
    "df_4 = tables[7].df.replace('\\n','', regex=True)\n",
    "df_4.columns = df_4.iloc[1]\n",
    "df_4 = df_4.iloc[2:]"
   ]
  },
  {
   "cell_type": "code",
   "execution_count": 99,
   "metadata": {},
   "outputs": [],
   "source": [
    "import pandas as pd\n",
    "df = pd.concat([df_0,df_1,df_2,df_3,df_4], ignore_index=True)\n",
    "df.to_csv(f'C:\\\\Users\\\\10235555\\\\Documents\\\\Dataportal Data\\\\reports EG survey\\\\E-Participation Index (EPI) and its utilisation by stages 2018.csv',index=False)"
   ]
  },
  {
   "cell_type": "code",
   "execution_count": 102,
   "metadata": {},
   "outputs": [],
   "source": [
    "header = driver.find_element(By.ID,'navdttg')\n",
    "ul_header = header.find_element(By.CLASS_NAME,'nav.nav-pills')\n",
    "list_header = ul_header.find_elements(By.CLASS_NAME,'dropdown ')\n",
    "reports = list_header[4]#.find_element(By.TAG_NAME,'a').get_attribute('href')\n",
    "# driver.get(reports)\n",
    "survey_2016 = reports.find_element(By.CLASS_NAME,'dropdown-menu').find_elements(By.TAG_NAME,'li')[3].find_element(By.TAG_NAME,'a').get_attribute('href')\n",
    "driver.get(survey_2016)"
   ]
  },
  {
   "cell_type": "code",
   "execution_count": 104,
   "metadata": {},
   "outputs": [
    {
     "data": {
      "text/plain": [
       "('C:\\\\Users\\\\10235555\\\\Documents\\\\Dataportal Data\\\\reports EG survey\\\\UN E-Government Survey 2016.pdf',\n",
       " <http.client.HTTPMessage at 0x245bc496a90>)"
      ]
     },
     "execution_count": 104,
     "metadata": {},
     "output_type": "execute_result"
    }
   ],
   "source": [
    "content = driver.find_element(By.CLASS_NAME,'Normal')\n",
    "title = driver.find_element(By.TAG_NAME,'h2').text\n",
    "publication = content.find_element(By.XPATH,\"//*[contains(text(), 'English')]\").get_attribute('href')\n",
    "urllib.request.urlretrieve(publication,f\"{base_path}\\\\{title}.pdf\")"
   ]
  },
  {
   "cell_type": "code",
   "execution_count": 110,
   "metadata": {},
   "outputs": [],
   "source": [
    "import camelot\n",
    "tables = camelot.read_pdf(f\"C:\\\\Users\\\\10235555\\\\Documents\\\\Dataportal Data\\\\reports EG survey\\\\{title}.pdf\", flavor='stream', pages='191,192,193,194,195')\n",
    "# tables[0].parsing_report\n",
    "df_0 = tables[0].df.replace('\\n','', regex=True)\n",
    "df_0.columns = df_0.iloc[1]\n",
    "df_0 = df_0.iloc[2:]\n",
    "# tables[1].parsing_report\n",
    "df_1 = tables[1].df.replace('\\n','', regex=True)\n",
    "df_1.columns = df_1.iloc[1]\n",
    "df_1 = df_1.iloc[2:]\n",
    "# tables[2].parsing_report\n",
    "df_2 = tables[2].df.replace('\\n','', regex=True)\n",
    "df_2.columns = df_2.iloc[1]\n",
    "df_2 = df_2.iloc[2:]\n",
    "# tables[3].parsing_report\n",
    "df_3 = tables[3].df.replace('\\n','', regex=True)\n",
    "df_3.columns = df_3.iloc[1]\n",
    "df_3 = df_3.iloc[2:]\n",
    "# tables[4].parsing_report\n",
    "df_4 = tables[4].df.replace('\\n','', regex=True)\n",
    "df_4.columns = df_4.iloc[1]\n",
    "df_4 = df_4.iloc[2:]"
   ]
  },
  {
   "cell_type": "code",
   "execution_count": 112,
   "metadata": {},
   "outputs": [],
   "source": [
    "import pandas as pd\n",
    "df = pd.concat([df_0,df_1,df_2,df_3,df_4], ignore_index=True)\n",
    "df.to_csv(f'C:\\\\Users\\\\10235555\\\\Documents\\\\Dataportal Data\\\\reports EG survey\\\\E-Participation Index (EPI) and its utilisation by stages 2016.csv',index=False)"
   ]
  },
  {
   "cell_type": "code",
   "execution_count": 115,
   "metadata": {},
   "outputs": [],
   "source": [
    "driver.get(url)\n",
    "header = driver.find_element(By.ID,'navdttg')\n",
    "ul_header = header.find_element(By.CLASS_NAME,'nav.nav-pills')\n",
    "list_header = ul_header.find_elements(By.CLASS_NAME,'dropdown ')\n",
    "reports = list_header[4]#.find_element(By.TAG_NAME,'a').get_attribute('href')\n",
    "# driver.get(reports)\n",
    "survey_2014 = reports.find_element(By.CLASS_NAME,'dropdown-menu').find_elements(By.TAG_NAME,'li')[4].find_element(By.TAG_NAME,'a').get_attribute('href')\n",
    "driver.get(survey_2014)"
   ]
  },
  {
   "cell_type": "code",
   "execution_count": 116,
   "metadata": {},
   "outputs": [
    {
     "data": {
      "text/plain": [
       "('C:\\\\Users\\\\10235555\\\\Documents\\\\Dataportal Data\\\\reports EG survey\\\\UN E-Government Survey 2014.pdf',\n",
       " <http.client.HTTPMessage at 0x245bc4dcc10>)"
      ]
     },
     "execution_count": 116,
     "metadata": {},
     "output_type": "execute_result"
    }
   ],
   "source": [
    "content = driver.find_element(By.CLASS_NAME,'Normal')\n",
    "title = driver.find_element(By.TAG_NAME,'h2').text\n",
    "publication = content.find_element(By.XPATH,\"//*[contains(text(), 'English')]\").get_attribute('href')\n",
    "urllib.request.urlretrieve(publication,f\"{base_path}\\\\{title}.pdf\")"
   ]
  },
  {
   "cell_type": "code",
   "execution_count": 124,
   "metadata": {},
   "outputs": [],
   "source": [
    "import camelot\n",
    "tables = camelot.read_pdf(f\"C:\\\\Users\\\\10235555\\\\Documents\\\\Dataportal Data\\\\reports EG survey\\\\{title}.pdf\", flavor='stream', pages='257,258,259,260,261')\n",
    "# tables[0].parsing_report\n",
    "df_0 = tables[0].df.replace('\\n','', regex=True)\n",
    "df_0.columns = df_0.iloc[1]\n",
    "df_0 = df_0.iloc[2:]\n",
    "# tables[1].parsing_report\n",
    "df_1 = tables[1].df.replace('\\n','', regex=True)\n",
    "df_1.columns = df_1.iloc[1]\n",
    "df_1 = df_1.iloc[2:]\n",
    "# tables[2].parsing_report\n",
    "df_2 = tables[2].df.replace('\\n','', regex=True)\n",
    "df_2.columns = df_2.iloc[1]\n",
    "df_2 = df_2.iloc[2:]\n",
    "# tables[3].parsing_report\n",
    "df_3 = tables[3].df.replace('\\n','', regex=True)\n",
    "df_3.columns = df_3.iloc[1]\n",
    "df_3 = df_3.iloc[2:]\n",
    "# tables[4].parsing_report\n",
    "df_4 = tables[4].df.replace('\\n','', regex=True)\n",
    "df_4.columns = df_4.iloc[1]\n",
    "df_4 = df_4.iloc[2:]"
   ]
  },
  {
   "cell_type": "code",
   "execution_count": 125,
   "metadata": {},
   "outputs": [],
   "source": [
    "import pandas as pd\n",
    "df = pd.concat([df_0,df_1,df_2,df_3,df_4], ignore_index=True)\n",
    "df.columns.values[0] = \"Rank\"\n",
    "df.to_csv(f'C:\\\\Users\\\\10235555\\\\Documents\\\\Dataportal Data\\\\reports EG survey\\\\E-Participation Index and its utilisation by stages 2014.csv',index=False)"
   ]
  },
  {
   "cell_type": "code",
   "execution_count": 246,
   "metadata": {},
   "outputs": [],
   "source": [
    "driver.get(url)\n",
    "header = driver.find_element(By.ID,'navdttg')\n",
    "ul_header = header.find_element(By.CLASS_NAME,'nav.nav-pills')\n",
    "list_header = ul_header.find_elements(By.CLASS_NAME,'dropdown ')\n",
    "reports = list_header[4]#.find_element(By.TAG_NAME,'a').get_attribute('href')\n",
    "# driver.get(reports)\n",
    "survey_2010 = reports.find_element(By.CLASS_NAME,'dropdown-menu').find_elements(By.TAG_NAME,'li')[6].find_element(By.TAG_NAME,'a').get_attribute('href')\n",
    "driver.get(survey_2010)"
   ]
  },
  {
   "cell_type": "code",
   "execution_count": 247,
   "metadata": {},
   "outputs": [
    {
     "data": {
      "text/plain": [
       "('C:\\\\Users\\\\10235555\\\\Documents\\\\Dataportal Data\\\\reports EG survey\\\\United Nations E-Government Survey 2010.pdf',\n",
       " <http.client.HTTPMessage at 0x245c0239f90>)"
      ]
     },
     "execution_count": 247,
     "metadata": {},
     "output_type": "execute_result"
    }
   ],
   "source": [
    "content = driver.find_element(By.CLASS_NAME,'Normal')\n",
    "title = driver.find_element(By.TAG_NAME,'h2').text\n",
    "publication = content.find_element(By.XPATH,\"//*[contains(text(), 'Download Publication')]\").get_attribute('href')\n",
    "urllib.request.urlretrieve(publication,f\"{base_path}\\\\{title}.pdf\")"
   ]
  },
  {
   "cell_type": "code",
   "execution_count": 248,
   "metadata": {},
   "outputs": [],
   "source": [
    "import camelot\n",
    "tables = camelot.read_pdf(f\"C:\\\\Users\\\\10235555\\\\Documents\\\\Dataportal Data\\\\reports EG survey\\\\{title}.pdf\", flavor='stream', pages='101')\n"
   ]
  },
  {
   "cell_type": "code",
   "execution_count": 249,
   "metadata": {},
   "outputs": [],
   "source": [
    "df_10 = tables[0].df\n",
    "df_10.columns = df_10.iloc[3]\n",
    "df_10.iloc[5:,3:].to_csv('C:\\\\Users\\\\10235555\\\\Documents\\\\Dataportal Data\\\\reports EG survey\\\\Quality of e-participation websites of selected countries 2010.csv',index=False )"
   ]
  },
  {
   "cell_type": "code",
   "execution_count": 145,
   "metadata": {},
   "outputs": [],
   "source": [
    "driver.get(url)\n",
    "header = driver.find_element(By.ID,'navdttg')\n",
    "ul_header = header.find_element(By.CLASS_NAME,'nav.nav-pills')\n",
    "list_header = ul_header.find_elements(By.CLASS_NAME,'dropdown ')\n",
    "reports = list_header[4]#.find_element(By.TAG_NAME,'a').get_attribute('href')\n",
    "# driver.get(reports)\n",
    "survey_2008 = reports.find_element(By.CLASS_NAME,'dropdown-menu').find_elements(By.TAG_NAME,'li')[7].find_element(By.TAG_NAME,'a').get_attribute('href')\n",
    "driver.get(survey_2008)"
   ]
  },
  {
   "cell_type": "code",
   "execution_count": 146,
   "metadata": {},
   "outputs": [
    {
     "data": {
      "text/plain": [
       "('C:\\\\Users\\\\10235555\\\\Documents\\\\Dataportal Data\\\\reports EG survey\\\\Global E-Government Survey 2008.pdf',\n",
       " <http.client.HTTPMessage at 0x245c193b850>)"
      ]
     },
     "execution_count": 146,
     "metadata": {},
     "output_type": "execute_result"
    }
   ],
   "source": [
    "content = driver.find_element(By.CLASS_NAME,'Normal')\n",
    "title = driver.find_element(By.TAG_NAME,'h2').text\n",
    "publication = content.find_element(By.XPATH,\"//*[contains(text(), 'Download Publication')]\").get_attribute('href')\n",
    "urllib.request.urlretrieve(publication,f\"{base_path}\\\\{title}.pdf\")"
   ]
  },
  {
   "cell_type": "code",
   "execution_count": 239,
   "metadata": {},
   "outputs": [],
   "source": [
    "import camelot\n",
    "tables = camelot.read_pdf(f\"C:\\\\Users\\\\10235555\\\\Documents\\\\Dataportal Data\\\\reports EG survey\\\\{title}.pdf\", flavor='stream', pages='81,82')"
   ]
  },
  {
   "cell_type": "code",
   "execution_count": 240,
   "metadata": {},
   "outputs": [],
   "source": [
    "df_0 = tables[0].df"
   ]
  },
  {
   "cell_type": "code",
   "execution_count": 241,
   "metadata": {},
   "outputs": [],
   "source": [
    "df_0 = df_0.iloc[2:]\n",
    "df_0.columns = df_0.iloc[1]\n",
    "df_0.columns.values[4] = df_0.iloc[0,4] + ' ' + df_0.iloc[2,4]\n",
    "# df_0[2:].to_csv(f'{base_path}\\\\test.csv')\n",
    "df_0 = df_0[3:]"
   ]
  },
  {
   "cell_type": "code",
   "execution_count": 242,
   "metadata": {},
   "outputs": [],
   "source": [
    "df_1 = tables[1].df"
   ]
  },
  {
   "cell_type": "code",
   "execution_count": 243,
   "metadata": {},
   "outputs": [],
   "source": [
    "\n",
    "df_1.columns = df_1.iloc[1]\n",
    "df_1.columns.values[4] = df_1.columns[4] + ' ' + df_1.iloc[2,4]\n",
    "df_1 = df_1[3:]"
   ]
  },
  {
   "cell_type": "code",
   "execution_count": 245,
   "metadata": {},
   "outputs": [],
   "source": [
    "import pandas as pd\n",
    "df = pd.concat([df_0,df_1], ignore_index=True)\n",
    "df = df.iloc[:,1:]\n",
    "df.to_csv(f'C:\\\\Users\\\\10235555\\\\Documents\\\\Dataportal Data\\\\reports EG survey\\\\Quality and Relevance of e-Participation Initiative, Selected Countries 2008.csv',index=False)"
   ]
  },
  {
   "cell_type": "code",
   "execution_count": 250,
   "metadata": {},
   "outputs": [],
   "source": [
    "driver.get(url)\n",
    "header = driver.find_element(By.ID,'navdttg')\n",
    "ul_header = header.find_element(By.CLASS_NAME,'nav.nav-pills')\n",
    "list_header = ul_header.find_elements(By.CLASS_NAME,'dropdown ')\n",
    "reports = list_header[4]#.find_element(By.TAG_NAME,'a').get_attribute('href')\n",
    "# driver.get(reports)\n",
    "survey_2005 = reports.find_element(By.CLASS_NAME,'dropdown-menu').find_elements(By.TAG_NAME,'li')[8].find_element(By.TAG_NAME,'a').get_attribute('href')\n",
    "driver.get(survey_2005)"
   ]
  },
  {
   "cell_type": "code",
   "execution_count": 251,
   "metadata": {},
   "outputs": [
    {
     "data": {
      "text/plain": [
       "('C:\\\\Users\\\\10235555\\\\Documents\\\\Dataportal Data\\\\reports EG survey\\\\Global E-Government Development Report 2005.pdf',\n",
       " <http.client.HTTPMessage at 0x245bc62eb10>)"
      ]
     },
     "execution_count": 251,
     "metadata": {},
     "output_type": "execute_result"
    }
   ],
   "source": [
    "content = driver.find_element(By.CLASS_NAME,'Normal')\n",
    "title = driver.find_element(By.TAG_NAME,'h2').text\n",
    "publication = content.find_element(By.XPATH,\"//*[contains(text(), 'Download Publication')]\").get_attribute('href')\n",
    "urllib.request.urlretrieve(publication,f\"{base_path}\\\\{title}.pdf\")"
   ]
  },
  {
   "cell_type": "code",
   "execution_count": 252,
   "metadata": {},
   "outputs": [],
   "source": [
    "import camelot\n",
    "tables = camelot.read_pdf(f\"C:\\\\Users\\\\10235555\\\\Documents\\\\Dataportal Data\\\\reports EG survey\\\\{title}.pdf\", flavor='stream', pages='114')"
   ]
  },
  {
   "cell_type": "code",
   "execution_count": 263,
   "metadata": {},
   "outputs": [],
   "source": [
    "df = tables[0].df\n",
    "df.columns = df.iloc[1]\n",
    "df.columns.values[0] = 'country'\n",
    "df = df[2:]\n",
    "df.to_csv(f'{base_path}\\\\ Quality and relevance of e-participation initiatives, selected countries 2005.csv',index=False)"
   ]
  },
  {
   "cell_type": "code",
   "execution_count": 266,
   "metadata": {},
   "outputs": [
    {
     "name": "stderr",
     "output_type": "stream",
     "text": [
      "C:\\Users\\10235555\\AppData\\Local\\Temp\\ipykernel_2680\\2678283302.py:1: SettingWithCopyWarning: \n",
      "A value is trying to be set on a copy of a slice from a DataFrame\n",
      "\n",
      "See the caveats in the documentation: https://pandas.pydata.org/pandas-docs/stable/user_guide/indexing.html#returning-a-view-versus-a-copy\n",
      "  df.iloc[38:41] = df.iloc[38:41].fillna(method='ffill', axis=1)\n",
      "C:\\Users\\10235555\\AppData\\Local\\Temp\\ipykernel_2680\\2678283302.py:2: SettingWithCopyWarning: \n",
      "A value is trying to be set on a copy of a slice from a DataFrame\n",
      "\n",
      "See the caveats in the documentation: https://pandas.pydata.org/pandas-docs/stable/user_guide/indexing.html#returning-a-view-versus-a-copy\n",
      "  df.iloc[38:41] = df.iloc[38:41].fillna('')\n",
      "C:\\Users\\10235555\\AppData\\Local\\Temp\\ipykernel_2680\\2678283302.py:3: SettingWithCopyWarning: \n",
      "A value is trying to be set on a copy of a slice from a DataFrame\n",
      "\n",
      "See the caveats in the documentation: https://pandas.pydata.org/pandas-docs/stable/user_guide/indexing.html#returning-a-view-versus-a-copy\n",
      "  df.iloc[38] = df.iloc[38:41].apply(lambda x: ' - '.join(map(str,[y for y in x if y])), axis=0)\n"
     ]
    }
   ],
   "source": [
    "df.iloc[38:41] = df.iloc[38:41].fillna(method='ffill', axis=1)\n",
    "df.iloc[38:41] = df.iloc[38:41].fillna('')\n",
    "df.iloc[38] = df.iloc[38:41].apply(lambda x: ' - '.join(map(str,[y for y in x if y])), axis=0)"
   ]
  },
  {
   "cell_type": "code",
   "execution_count": 268,
   "metadata": {},
   "outputs": [],
   "source": [
    "driver.get(url)\n",
    "header = driver.find_element(By.ID,'navdttg')\n",
    "ul_header = header.find_element(By.CLASS_NAME,'nav.nav-pills')\n",
    "list_header = ul_header.find_elements(By.CLASS_NAME,'dropdown ')\n",
    "reports = list_header[4]#.find_element(By.TAG_NAME,'a').get_attribute('href')\n",
    "# driver.get(reports)\n",
    "survey_2004 = reports.find_element(By.CLASS_NAME,'dropdown-menu').find_elements(By.TAG_NAME,'li')[9].find_element(By.TAG_NAME,'a').get_attribute('href')\n",
    "driver.get(survey_2004)"
   ]
  },
  {
   "cell_type": "code",
   "execution_count": 269,
   "metadata": {},
   "outputs": [
    {
     "data": {
      "text/plain": [
       "('C:\\\\Users\\\\10235555\\\\Documents\\\\Dataportal Data\\\\reports EG survey\\\\Global E-Government Development Report 2004.pdf',\n",
       " <http.client.HTTPMessage at 0x245c0942510>)"
      ]
     },
     "execution_count": 269,
     "metadata": {},
     "output_type": "execute_result"
    }
   ],
   "source": [
    "content = driver.find_element(By.CLASS_NAME,'Normal')\n",
    "title = driver.find_element(By.TAG_NAME,'h2').text\n",
    "publication = content.find_element(By.XPATH,\"//*[contains(text(), 'Download Publication')]\").get_attribute('href')\n",
    "urllib.request.urlretrieve(publication,f\"{base_path}\\\\{title}.pdf\")"
   ]
  },
  {
   "cell_type": "code",
   "execution_count": 276,
   "metadata": {},
   "outputs": [],
   "source": [
    "import camelot\n",
    "tables = camelot.read_pdf(f\"C:\\\\Users\\\\10235555\\\\Documents\\\\Dataportal Data\\\\reports EG survey\\\\{title}.pdf\", flavor='stream', pages='84')"
   ]
  },
  {
   "cell_type": "code",
   "execution_count": 293,
   "metadata": {},
   "outputs": [],
   "source": [
    "df = tables[1].df\n",
    "df = df[4:]"
   ]
  },
  {
   "cell_type": "code",
   "execution_count": 294,
   "metadata": {},
   "outputs": [],
   "source": [
    "df.columns = df.iloc[1]\n",
    "df.columns.values[0] = 'country'"
   ]
  },
  {
   "cell_type": "code",
   "execution_count": 295,
   "metadata": {},
   "outputs": [],
   "source": [
    "df = df[2:]\n",
    "df.to_csv(f'{base_path}\\\\Quality and Relevance of e-participation, selected countries 2004.csv',index=False)"
   ]
  },
  {
   "cell_type": "code",
   "execution_count": 14,
   "metadata": {},
   "outputs": [],
   "source": [
    "driver.get(url)\n",
    "header = driver.find_element(By.ID,'navdttg')\n",
    "ul_header = header.find_element(By.CLASS_NAME,'nav.nav-pills')\n",
    "list_header = ul_header.find_elements(By.CLASS_NAME,'dropdown ')\n",
    "reports = list_header[4]#.find_element(By.TAG_NAME,'a').get_attribute('href')\n",
    "# driver.get(reports)\n",
    "survey_2012 = reports.find_element(By.CLASS_NAME,'dropdown-menu').find_elements(By.TAG_NAME,'li')[5].find_element(By.TAG_NAME,'a').get_attribute('href')\n",
    "driver.get(survey_2012)"
   ]
  },
  {
   "cell_type": "code",
   "execution_count": 17,
   "metadata": {},
   "outputs": [],
   "source": [
    "l = []\n",
    "content = driver.find_element(By.CLASS_NAME,'c_DNN6.c_DNN6_Header.ModuleSpacing ')\n",
    "title = driver.find_element(By.TAG_NAME,'h2').text\n",
    "parent_table = content.find_element(By.TAG_NAME,'table')\n",
    "tables = parent_table.find_elements(By.TAG_NAME,'table')\n",
    "table_1 = tables[1]\n",
    "rows = table_1.find_elements(By.TAG_NAME,'tr')\n",
    "for row in rows[1:]:\n",
    "    cells = row.find_elements(By.TAG_NAME,'td')\n",
    "    cells_text = [cell.text for cell in cells]\n",
    "    l.append(cells_text)\n",
    "df = pd.DataFrame(l)"
   ]
  },
  {
   "cell_type": "code",
   "execution_count": 19,
   "metadata": {},
   "outputs": [
    {
     "data": {
      "text/html": [
       "<div>\n",
       "<style scoped>\n",
       "    .dataframe tbody tr th:only-of-type {\n",
       "        vertical-align: middle;\n",
       "    }\n",
       "\n",
       "    .dataframe tbody tr th {\n",
       "        vertical-align: top;\n",
       "    }\n",
       "\n",
       "    .dataframe thead th {\n",
       "        text-align: right;\n",
       "    }\n",
       "</style>\n",
       "<table border=\"1\" class=\"dataframe\">\n",
       "  <thead>\n",
       "    <tr style=\"text-align: right;\">\n",
       "      <th></th>\n",
       "      <th>Country</th>\n",
       "      <th>Index</th>\n",
       "    </tr>\n",
       "  </thead>\n",
       "  <tbody>\n",
       "    <tr>\n",
       "      <th>1</th>\n",
       "      <td>Netherlands</td>\n",
       "      <td>1.0000</td>\n",
       "    </tr>\n",
       "    <tr>\n",
       "      <th>2</th>\n",
       "      <td>Republic of Korea</td>\n",
       "      <td>1.0000</td>\n",
       "    </tr>\n",
       "    <tr>\n",
       "      <th>3</th>\n",
       "      <td>Kazakhstan</td>\n",
       "      <td>0.9474</td>\n",
       "    </tr>\n",
       "    <tr>\n",
       "      <th>4</th>\n",
       "      <td>Singapore</td>\n",
       "      <td>0.9474</td>\n",
       "    </tr>\n",
       "    <tr>\n",
       "      <th>5</th>\n",
       "      <td>UK and Northern Ireland</td>\n",
       "      <td>0.9211</td>\n",
       "    </tr>\n",
       "    <tr>\n",
       "      <th>6</th>\n",
       "      <td>United States</td>\n",
       "      <td>0.9211</td>\n",
       "    </tr>\n",
       "    <tr>\n",
       "      <th>7</th>\n",
       "      <td>Israel</td>\n",
       "      <td>0.8947</td>\n",
       "    </tr>\n",
       "    <tr>\n",
       "      <th>8</th>\n",
       "      <td>Australia</td>\n",
       "      <td>0.7632</td>\n",
       "    </tr>\n",
       "    <tr>\n",
       "      <th>9</th>\n",
       "      <td>Estonia</td>\n",
       "      <td>0.7632</td>\n",
       "    </tr>\n",
       "    <tr>\n",
       "      <th>10</th>\n",
       "      <td>Germany</td>\n",
       "      <td>0.7632</td>\n",
       "    </tr>\n",
       "  </tbody>\n",
       "</table>\n",
       "</div>"
      ],
      "text/plain": [
       "0                   Country   Index\n",
       "1               Netherlands  1.0000\n",
       "2         Republic of Korea  1.0000\n",
       "3                Kazakhstan  0.9474\n",
       "4                 Singapore  0.9474\n",
       "5   UK and Northern Ireland  0.9211\n",
       "6             United States  0.9211\n",
       "7                    Israel  0.8947\n",
       "8                 Australia  0.7632\n",
       "9                   Estonia  0.7632\n",
       "10                  Germany  0.7632"
      ]
     },
     "execution_count": 19,
     "metadata": {},
     "output_type": "execute_result"
    }
   ],
   "source": [
    "df.columns = df.iloc[0]\n",
    "df = df[1:]\n",
    "df"
   ]
  },
  {
   "cell_type": "code",
   "execution_count": 20,
   "metadata": {},
   "outputs": [],
   "source": [
    "df.to_csv(f'{base_path}\\\\E-Participation Index Top 10 Countries 2012.csv',index= False)"
   ]
  },
  {
   "cell_type": "code",
   "execution_count": 6,
   "metadata": {},
   "outputs": [
    {
     "data": {
      "text/plain": [
       "('C:\\\\Users\\\\10235555\\\\Documents\\\\Dataportal Data\\\\reports EG survey T\\\\United Nations E-Government Survey 2012.pdf',\n",
       " <http.client.HTTPMessage at 0x1e2b1f78a90>)"
      ]
     },
     "execution_count": 6,
     "metadata": {},
     "output_type": "execute_result"
    }
   ],
   "source": [
    "from bs4 import BeautifulSoup\n",
    "import requests\n",
    "import os\n",
    "import wget\n",
    "import time\n",
    "base_path = \"C:\\\\Users\\\\10235555\\\\Documents\\\\Dataportal Data\\\\reports EG survey T\"\n",
    "import urllib.request\n",
    "import logging\n",
    "import pandas as pd\n",
    "from selenium.webdriver.support.ui import Select\n",
    "from re import search\n",
    "# logging.basicConfig(handlers=[logging.FileHandler(\"C:\\\\Users\\\\10235555\\\\Documents\\\\Dataportal Data\\\\IPU_out.log\"),\n",
    "#                             logging.StreamHandler()], level=logging.INFO)\n",
    "\n",
    "from selenium import webdriver\n",
    "from selenium.webdriver.common.keys import Keys\n",
    "from selenium.webdriver.common.by import By\n",
    "from selenium.webdriver.support.ui import WebDriverWait\n",
    "from selenium.common.exceptions import ElementNotInteractableException, NoSuchElementException\n",
    "from selenium.common.exceptions import ElementClickInterceptedException\n",
    "from selenium.webdriver.support import expected_conditions as EC\n",
    "from selenium.webdriver.chrome.service import Service\n",
    "from webdriver_manager.chrome import ChromeDriverManager\n",
    "from webdriver_manager.firefox import GeckoDriverManager\n",
    "from selenium.webdriver.firefox.options import Options\n",
    "from bs4 import BeautifulSoup\n",
    "import shutil\n",
    "import time\n",
    "import os\n",
    "from pyshadow.main import Shadow\n",
    "from py7zr import unpack_7zarchive\n",
    "from RequestInferSchemaToJsonAPI.main import TriggerInferShemaToJsonAPI\n",
    "\n",
    "chrome_options = webdriver.ChromeOptions()\n",
    "base_path = \"C:\\\\Users\\\\10235555\\\\Documents\\\\Dataportal Data\\\\reports EG survey T\" # local, gets current working directory\n",
    "prefs = {'download.default_directory' : base_path}#, \"profile.content_settings.exceptions.automatic_downloads.*.setting\" : 1}\n",
    "chrome_options.add_experimental_option('prefs', prefs)\n",
    "# chrome_options.add_argument('--user-agent=\"Mozilla/5.0 (Windows Phone 10.0; Android 4.2.1; Microsoft; Lumia 640 XL LTE) AppleWebKit/537.36 (KHTML, like Gecko) Chrome/42.0.2311.135 Mobile Safari/537.36 Edge/12.10166\"')\n",
    "driver = webdriver.Chrome(service=Service(ChromeDriverManager().install()), options=chrome_options)\n",
    "driver.maximize_window()\n",
    "\n",
    "\n",
    "url = 'https://publicadministration.un.org/egovkb/en-us/Reports'\n",
    "driver.get(url)\n",
    "\n",
    "    \n",
    "header = driver.find_element(By.ID,'navdttg')\n",
    "ul_header = header.find_element(By.CLASS_NAME,'nav.nav-pills')\n",
    "list_header = ul_header.find_elements(By.CLASS_NAME,'dropdown ')\n",
    "reports = list_header[4]\n",
    "survey_2012 = reports.find_element(By.CLASS_NAME,'dropdown-menu').find_elements(By.TAG_NAME,'li')[5].find_element(By.TAG_NAME,'a').get_attribute('href')\n",
    "driver.get(survey_2012)\n",
    "content = driver.find_element(By.CLASS_NAME,'Normal')\n",
    "title = driver.find_element(By.TAG_NAME,'h2').text\n",
    "publication = content.find_element(By.XPATH,\"//*[contains(text(), 'Download Publication')]\").get_attribute('href')\n",
    "urllib.request.urlretrieve(publication,f\"{base_path}\\\\{title}.pdf\")"
   ]
  },
  {
   "cell_type": "code",
   "execution_count": 62,
   "metadata": {},
   "outputs": [],
   "source": [
    "import camelot\n",
    "tables = camelot.read_pdf(f\"C:\\\\Users\\\\10235555\\\\Documents\\\\Dataportal Data\\\\reports EG survey T\\\\{title}.pdf\", flavor='stream', pages='60')"
   ]
  },
  {
   "cell_type": "code",
   "execution_count": 63,
   "metadata": {},
   "outputs": [],
   "source": [
    "df = tables[0].df"
   ]
  },
  {
   "cell_type": "code",
   "execution_count": 64,
   "metadata": {},
   "outputs": [],
   "source": [
    "df.head(4)\n",
    "df.iloc[1:3] = df.iloc[1:3].fillna(method='ffill', axis=1)\n",
    "df.iloc[1:3] = df.iloc[1:3].fillna('')\n",
    "df.columns = df.iloc[1:3].apply(lambda x: ' '.join(map(str,[y for y in x if y])), axis=0)"
   ]
  },
  {
   "cell_type": "code",
   "execution_count": 65,
   "metadata": {},
   "outputs": [],
   "source": [
    "df = df.iloc[3:,3:]"
   ]
  },
  {
   "cell_type": "code",
   "execution_count": 66,
   "metadata": {},
   "outputs": [],
   "source": [
    "# df.iloc[66:69] = df.iloc[66:69].fillna(method='ffill', axis=1)\n",
    "df.iloc[66:69] = df.iloc[66:69].fillna('')\n",
    "df.iloc[66] = df.iloc[66:69].apply(lambda x: ' '.join(map(str,[y for y in x if y])), axis=0)\n"
   ]
  },
  {
   "cell_type": "code",
   "execution_count": 67,
   "metadata": {},
   "outputs": [],
   "source": [
    "# df.iloc[86:89] = df.iloc[86:89].fillna(method='ffill', axis=1)\n",
    "df.iloc[86:89] = df.iloc[86:89].fillna('')\n",
    "df.iloc[86] = df.iloc[86:89].apply(lambda x: ' '.join(map(str,[y for y in x if y])), axis=0)\n"
   ]
  },
  {
   "cell_type": "code",
   "execution_count": 78,
   "metadata": {},
   "outputs": [],
   "source": [
    "df = df.drop([df.index[67], df.index[68] , df.index[87], df.index[88] ])\n",
    "df.to_csv(f'{base_path}\\\\report 2012.csv',index=False)"
   ]
  },
  {
   "cell_type": "code",
   "execution_count": 80,
   "metadata": {},
   "outputs": [
    {
     "data": {
      "text/html": [
       "<div>\n",
       "<style scoped>\n",
       "    .dataframe tbody tr th:only-of-type {\n",
       "        vertical-align: middle;\n",
       "    }\n",
       "\n",
       "    .dataframe tbody tr th {\n",
       "        vertical-align: top;\n",
       "    }\n",
       "\n",
       "    .dataframe thead th {\n",
       "        text-align: right;\n",
       "    }\n",
       "</style>\n",
       "<table border=\"1\" class=\"dataframe\">\n",
       "  <thead>\n",
       "    <tr style=\"text-align: right;\">\n",
       "      <th></th>\n",
       "      <th>Rank</th>\n",
       "      <th>Country</th>\n",
       "      <th>EPI</th>\n",
       "      <th>Total %</th>\n",
       "      <th>Stage 1%</th>\n",
       "      <th>Stage 2%</th>\n",
       "      <th>Stage 3%</th>\n",
       "    </tr>\n",
       "  </thead>\n",
       "  <tbody>\n",
       "    <tr>\n",
       "      <th>182</th>\n",
       "      <td>5.0</td>\n",
       "      <td>United Kingoom of Great Britain and Northern I...</td>\n",
       "      <td>0.9831</td>\n",
       "      <td>98.37%</td>\n",
       "      <td>100.00%</td>\n",
       "      <td>95.65%</td>\n",
       "      <td>100.00%</td>\n",
       "    </tr>\n",
       "    <tr>\n",
       "      <th>184</th>\n",
       "      <td>92.0</td>\n",
       "      <td>United Republic of Tanzania</td>\n",
       "      <td>0.618</td>\n",
       "      <td>63.04%</td>\n",
       "      <td>83.33%</td>\n",
       "      <td>73.91%</td>\n",
       "      <td>27.27%</td>\n",
       "    </tr>\n",
       "    <tr>\n",
       "      <th>185</th>\n",
       "      <td>5.0</td>\n",
       "      <td>United States of America</td>\n",
       "      <td>0.9831</td>\n",
       "      <td>98.37%</td>\n",
       "      <td>100.00%</td>\n",
       "      <td>95.65%</td>\n",
       "      <td>100.00%</td>\n",
       "    </tr>\n",
       "    <tr>\n",
       "      <th>186</th>\n",
       "      <td>26.0</td>\n",
       "      <td>Uruguay</td>\n",
       "      <td>0.9157</td>\n",
       "      <td>91.85%</td>\n",
       "      <td>93.33%</td>\n",
       "      <td>91.30%</td>\n",
       "      <td>90.91%</td>\n",
       "    </tr>\n",
       "    <tr>\n",
       "      <th>187</th>\n",
       "      <td>59.0</td>\n",
       "      <td>Uzbekistan</td>\n",
       "      <td>0.7584</td>\n",
       "      <td>76.63%</td>\n",
       "      <td>93.33%</td>\n",
       "      <td>86.96%</td>\n",
       "      <td>45.45%</td>\n",
       "    </tr>\n",
       "    <tr>\n",
       "      <th>188</th>\n",
       "      <td>124.0</td>\n",
       "      <td>Vanuatu</td>\n",
       "      <td>0.4382</td>\n",
       "      <td>45.65%</td>\n",
       "      <td>60.00%</td>\n",
       "      <td>47.83%</td>\n",
       "      <td>27.27%</td>\n",
       "    </tr>\n",
       "    <tr>\n",
       "      <th>189</th>\n",
       "      <td>131.0</td>\n",
       "      <td>Venuzuela (Bolivian Republic of)</td>\n",
       "      <td>0.4045</td>\n",
       "      <td>42.39%</td>\n",
       "      <td>46.67%</td>\n",
       "      <td>43.48%</td>\n",
       "      <td>36.36%</td>\n",
       "    </tr>\n",
       "    <tr>\n",
       "      <th>190</th>\n",
       "      <td>72.0</td>\n",
       "      <td>Viet Nam</td>\n",
       "      <td>0.691</td>\n",
       "      <td>70.11%</td>\n",
       "      <td>83.33%</td>\n",
       "      <td>56.52%</td>\n",
       "      <td>72.73%</td>\n",
       "    </tr>\n",
       "    <tr>\n",
       "      <th>191</th>\n",
       "      <td>185.0</td>\n",
       "      <td>Yemen</td>\n",
       "      <td>0.118</td>\n",
       "      <td>14.67%</td>\n",
       "      <td>26.67%</td>\n",
       "      <td>8.70%</td>\n",
       "      <td>9.09%</td>\n",
       "    </tr>\n",
       "    <tr>\n",
       "      <th>192</th>\n",
       "      <td>132.0</td>\n",
       "      <td>Zambia</td>\n",
       "      <td>0.3989</td>\n",
       "      <td>41.85%</td>\n",
       "      <td>56.67%</td>\n",
       "      <td>47.83%</td>\n",
       "      <td>18.18%</td>\n",
       "    </tr>\n",
       "    <tr>\n",
       "      <th>193</th>\n",
       "      <td>151.0</td>\n",
       "      <td>Zimbabwe</td>\n",
       "      <td>0.2753</td>\n",
       "      <td>29.89%</td>\n",
       "      <td>53.33%</td>\n",
       "      <td>26.09%</td>\n",
       "      <td>9.09%</td>\n",
       "    </tr>\n",
       "  </tbody>\n",
       "</table>\n",
       "</div>"
      ],
      "text/plain": [
       "      Rank                                            Country     EPI Total %  \\\n",
       "182    5.0  United Kingoom of Great Britain and Northern I...  0.9831  98.37%   \n",
       "184   92.0                        United Republic of Tanzania   0.618  63.04%   \n",
       "185    5.0                           United States of America  0.9831  98.37%   \n",
       "186   26.0                                            Uruguay  0.9157  91.85%   \n",
       "187   59.0                                         Uzbekistan  0.7584  76.63%   \n",
       "188  124.0                                            Vanuatu  0.4382  45.65%   \n",
       "189  131.0                   Venuzuela (Bolivian Republic of)  0.4045  42.39%   \n",
       "190   72.0                                           Viet Nam   0.691  70.11%   \n",
       "191  185.0                                              Yemen   0.118  14.67%   \n",
       "192  132.0                                             Zambia  0.3989  41.85%   \n",
       "193  151.0                                           Zimbabwe  0.2753  29.89%   \n",
       "\n",
       "    Stage 1% Stage 2% Stage 3%  \n",
       "182  100.00%   95.65%  100.00%  \n",
       "184   83.33%   73.91%   27.27%  \n",
       "185  100.00%   95.65%  100.00%  \n",
       "186   93.33%   91.30%   90.91%  \n",
       "187   93.33%   86.96%   45.45%  \n",
       "188   60.00%   47.83%   27.27%  \n",
       "189   46.67%   43.48%   36.36%  \n",
       "190   83.33%   56.52%   72.73%  \n",
       "191   26.67%    8.70%    9.09%  \n",
       "192   56.67%   47.83%   18.18%  \n",
       "193   53.33%   26.09%    9.09%  "
      ]
     },
     "execution_count": 80,
     "metadata": {},
     "output_type": "execute_result"
    }
   ],
   "source": [
    "df_18 = pd.read_csv(f'{base_path}\\\\E-Participation Index (EPI) and its utilisation by stages 2018.csv')\n",
    "df_18.iloc[182:184] = df_18.iloc[182:184].fillna('')\n",
    "df_18.iloc[182] = df_18.iloc[182:184].apply(lambda x: ' '.join(map(str,[y for y in x if y])), axis=0)\n",
    "df_18= df_18.drop([df_18.index[183]])"
   ]
  },
  {
   "cell_type": "code",
   "execution_count": 87,
   "metadata": {},
   "outputs": [],
   "source": [
    "df_5 = pd.read_csv(f'{base_path}\\\\ Quality and relevance of e-participation initiatives, selected countries 2005.csv')\n",
    "df_5.iloc[6:9] = df_5.iloc[6:9].fillna('')\n",
    "df_5.iloc[6] = df_5.iloc[6:9].apply(lambda x: ' '.join(map(str,[y for y in x if y])), axis=0)\n",
    "df_5.iloc[38:41] = df_5.iloc[38:41].fillna('')\n",
    "df_5.iloc[38] = df_5.iloc[38:41].apply(lambda x: ' '.join(map(str,[y for y in x if y])), axis=0)\n",
    "df_5= df_5.drop([df_5.index[7],df_5.index[8],df_5.index[39],df_5.index[40]])"
   ]
  },
  {
   "cell_type": "code",
   "execution_count": 93,
   "metadata": {},
   "outputs": [
    {
     "data": {
      "text/html": [
       "<div>\n",
       "<style scoped>\n",
       "    .dataframe tbody tr th:only-of-type {\n",
       "        vertical-align: middle;\n",
       "    }\n",
       "\n",
       "    .dataframe tbody tr th {\n",
       "        vertical-align: top;\n",
       "    }\n",
       "\n",
       "    .dataframe thead th {\n",
       "        text-align: right;\n",
       "    }\n",
       "</style>\n",
       "<table border=\"1\" class=\"dataframe\">\n",
       "  <thead>\n",
       "    <tr style=\"text-align: right;\">\n",
       "      <th></th>\n",
       "      <th>country</th>\n",
       "      <th>E-information</th>\n",
       "      <th>E-consultation</th>\n",
       "      <th>E-decision-making</th>\n",
       "      <th>Total</th>\n",
       "    </tr>\n",
       "  </thead>\n",
       "  <tbody>\n",
       "    <tr>\n",
       "      <th>32</th>\n",
       "      <td>China</td>\n",
       "      <td>35.0</td>\n",
       "      <td>8</td>\n",
       "      <td>8.0</td>\n",
       "      <td>14.0</td>\n",
       "    </tr>\n",
       "    <tr>\n",
       "      <th>33</th>\n",
       "      <td>Slovakia</td>\n",
       "      <td>30.0</td>\n",
       "      <td>10</td>\n",
       "      <td>4.0</td>\n",
       "      <td>13.0</td>\n",
       "    </tr>\n",
       "    <tr>\n",
       "      <th>34</th>\n",
       "      <td>El Salvador</td>\n",
       "      <td>40.0</td>\n",
       "      <td>0</td>\n",
       "      <td>8.0</td>\n",
       "      <td>12.0</td>\n",
       "    </tr>\n",
       "    <tr>\n",
       "      <th>35</th>\n",
       "      <td>Greece</td>\n",
       "      <td>25.0</td>\n",
       "      <td>8</td>\n",
       "      <td>8.0</td>\n",
       "      <td>12.0</td>\n",
       "    </tr>\n",
       "    <tr>\n",
       "      <th>36</th>\n",
       "      <td>India</td>\n",
       "      <td>30.0</td>\n",
       "      <td>3</td>\n",
       "      <td>13.0</td>\n",
       "      <td>12.0</td>\n",
       "    </tr>\n",
       "    <tr>\n",
       "      <th>37</th>\n",
       "      <td>Kyrgyzstan</td>\n",
       "      <td>15.0</td>\n",
       "      <td>10</td>\n",
       "      <td>13.0</td>\n",
       "      <td>12.0</td>\n",
       "    </tr>\n",
       "    <tr>\n",
       "      <th>38</th>\n",
       "      <td>Russian Federation</td>\n",
       "      <td>25.0</td>\n",
       "      <td>0</td>\n",
       "      <td>17.0</td>\n",
       "      <td>11.0</td>\n",
       "    </tr>\n",
       "  </tbody>\n",
       "</table>\n",
       "</div>"
      ],
      "text/plain": [
       "               country E-information E-consultation E-decision-making Total\n",
       "32               China          35.0              8               8.0  14.0\n",
       "33            Slovakia          30.0             10               4.0  13.0\n",
       "34         El Salvador          40.0              0               8.0  12.0\n",
       "35              Greece          25.0              8               8.0  12.0\n",
       "36               India          30.0              3              13.0  12.0\n",
       "37          Kyrgyzstan          15.0             10              13.0  12.0\n",
       "38  Russian Federation          25.0              0              17.0  11.0"
      ]
     },
     "execution_count": 93,
     "metadata": {},
     "output_type": "execute_result"
    }
   ],
   "source": [
    "df_5.iloc[30:]"
   ]
  }
 ],
 "metadata": {
  "kernelspec": {
   "display_name": "Python 3",
   "language": "python",
   "name": "python3"
  },
  "language_info": {
   "codemirror_mode": {
    "name": "ipython",
    "version": 3
   },
   "file_extension": ".py",
   "mimetype": "text/x-python",
   "name": "python",
   "nbconvert_exporter": "python",
   "pygments_lexer": "ipython3",
   "version": "3.11.0"
  },
  "orig_nbformat": 4,
  "vscode": {
   "interpreter": {
    "hash": "69e035e7e91c91f4a781d2e2d4ddd23f591a0aa5fdf41d28e15c78aec28956a8"
   }
  }
 },
 "nbformat": 4,
 "nbformat_minor": 2
}
