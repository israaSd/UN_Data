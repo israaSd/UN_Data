{
 "cells": [
  {
   "cell_type": "code",
   "execution_count": 3,
   "metadata": {},
   "outputs": [],
   "source": [
    "from selenium import webdriver\n",
    "from selenium.webdriver.common.keys import Keys\n",
    "from selenium.webdriver.common.by import By\n",
    "from selenium.webdriver.support.ui import WebDriverWait\n",
    "from selenium.common.exceptions import ElementNotInteractableException, NoSuchElementException\n",
    "from selenium.common.exceptions import ElementClickInterceptedException\n",
    "from selenium.webdriver.support import expected_conditions as EC\n",
    "from selenium.webdriver.chrome.service import Service\n",
    "from webdriver_manager.chrome import ChromeDriverManager\n",
    "from webdriver_manager.firefox import GeckoDriverManager\n",
    "from selenium.webdriver.firefox.options import Options\n",
    "from bs4 import BeautifulSoup\n",
    "import shutil\n",
    "import time\n",
    "import os\n",
    "from pyshadow.main import Shadow\n",
    "from py7zr import unpack_7zarchive\n",
    "from RequestInferSchemaToJsonAPI.main import TriggerInferShemaToJsonAPI\n",
    "base_path = 'C:\\\\Users\\\\10235555\\\\Documents\\\\Dataportal Data\\\\UNODC'"
   ]
  },
  {
   "cell_type": "code",
   "execution_count": 4,
   "metadata": {},
   "outputs": [],
   "source": [
    "chrome_options = webdriver.ChromeOptions()\n",
    "base_path = 'C:\\\\Users\\\\10235555\\\\Documents\\\\Dataportal Data\\\\UNODC' # local, gets current working directory\n",
    "prefs = {'download.default_directory' : base_path}#, \"profile.content_settings.exceptions.automatic_downloads.*.setting\" : 1}\n",
    "chrome_options.add_experimental_option('prefs', prefs)\n",
    "chrome_options.add_argument('--user-agent=\"Mozilla/5.0 (Windows Phone 10.0; Android 4.2.1; Microsoft; Lumia 640 XL LTE) AppleWebKit/537.36 (KHTML, like Gecko) Chrome/42.0.2311.135 Mobile Safari/537.36 Edge/12.10166\"')\n",
    "driver = webdriver.Chrome(service=Service(ChromeDriverManager().install()), options=chrome_options)\n",
    "driver.maximize_window()"
   ]
  },
  {
   "cell_type": "code",
   "execution_count": 25,
   "metadata": {},
   "outputs": [],
   "source": [
    "url = 'https://dataunodc.un.org/'\n",
    "driver.get(url)"
   ]
  },
  {
   "cell_type": "code",
   "execution_count": 22,
   "metadata": {},
   "outputs": [],
   "source": [
    "content = driver.find_element(By.ID,'wrapper')\n",
    "theme = content.find_elements(By.CLASS_NAME,'theme')[11]\n",
    "click = theme.find_element(By.TAG_NAME,'a')\n",
    "theme.click()\n",
    "time.sleep(2)"
   ]
  },
  {
   "cell_type": "code",
   "execution_count": 24,
   "metadata": {},
   "outputs": [
    {
     "name": "stdout",
     "output_type": "stream",
     "text": [
      "C:\\Users\\10235555\\Documents\\Dataportal Data\\UNODC\\COVID-19 Intentional homicide.xlsx\n",
      "C:\\Users\\10235555\\Documents\\Dataportal Data\\UNODC\\COVID-19 Domestic violence.xlsx\n",
      "C:\\Users\\10235555\\Documents\\Dataportal Data\\UNODC\\COVID-19 Sexual and physical violence.xlsx\n",
      "C:\\Users\\10235555\\Documents\\Dataportal Data\\UNODC\\COVID-19 Property crime.xlsx\n",
      "C:\\Users\\10235555\\Documents\\Dataportal Data\\UNODC\\COVID-19 Prison.xlsx\n",
      "C:\\Users\\10235555\\Documents\\Dataportal Data\\UNODC\\COVID-19 Cybercrime.xlsx\n",
      "C:\\Users\\10235555\\Documents\\Dataportal Data\\UNODC\\COVID-19 Criminal justice system.xlsx\n"
     ]
    }
   ],
   "source": [
    "topics = driver.find_elements(By.CLASS_NAME,'rtecenter')\n",
    "topics = [topics[0]] + topics[2:]\n",
    "for topic in topics:\n",
    "    title = topic.text\n",
    "    link = topic.find_element(By.TAG_NAME,'a').get_attribute('href')\n",
    "    driver.get(link)\n",
    "    time.sleep(2)\n",
    "    note = driver.find_elements(By.CLASS_NAME,'field-items')[2].text.replace('\\n','')\n",
    "    import urllib.request\n",
    "    download = driver.find_element(By.CLASS_NAME,'panel-panel-inner').find_element(By.TAG_NAME,'a').get_attribute('href')\n",
    "    urllib.request.urlretrieve(download,f\"{base_path}\\\\COVID-19 {title}.xlsx\")\n",
    "    def latest_download_file():\n",
    "        path = base_path\n",
    "        os.chdir(path)\n",
    "        files = sorted(os.listdir(os.getcwd()), key=os.path.getmtime)\n",
    "        newest = files[-1]\n",
    "\n",
    "        return newest\n",
    "\n",
    "    fileends = \"crdownload\"\n",
    "    while \"crdownload\" == fileends:\n",
    "        time.sleep(3) \n",
    "        newest_file = latest_download_file()\n",
    "        if \"crdownload\" in newest_file:\n",
    "            fileends = \"crdownload\"\n",
    "            # time.sleep(5)\n",
    "        else:\n",
    "            fileends = \"None\"\n",
    "    latest_download_file() \n",
    "    file = max([base_path + \"\\\\\" + f for f in os.listdir(base_path)],key=os.path.getctime)\n",
    "    print(file)\n",
    "    driver.back()\n",
    "    time.sleep(2)"
   ]
  },
  {
   "cell_type": "code",
   "execution_count": 94,
   "metadata": {},
   "outputs": [
    {
     "data": {
      "text/plain": [
       "('C:\\\\Users\\\\10235555\\\\Documents\\\\Dataportal Data\\\\UNODC\\\\covid-19.xlsx',\n",
       " <http.client.HTTPMessage at 0x2878d195810>)"
      ]
     },
     "execution_count": 94,
     "metadata": {},
     "output_type": "execute_result"
    }
   ],
   "source": [
    "import urllib.request\n",
    "download = driver.find_element(By.CLASS_NAME,'panel-panel-inner').find_element(By.TAG_NAME,'a').get_attribute('href')\n",
    "urllib.request.urlretrieve(download,f\"{base_path}\\\\covid-19.xlsx\")"
   ]
  },
  {
   "cell_type": "code",
   "execution_count": 8,
   "metadata": {},
   "outputs": [],
   "source": [
    "content = driver.find_element(By.ID,'wrapper')\n",
    "theme = content.find_element(By.CLASS_NAME,'theme')\n",
    "click = theme.find_element(By.TAG_NAME,'a')\n",
    "theme.click()\n",
    "time.sleep(2)"
   ]
  },
  {
   "cell_type": "code",
   "execution_count": 9,
   "metadata": {},
   "outputs": [],
   "source": [
    "title = driver.find_element(By.CLASS_NAME,'title').text\n",
    "dataset = driver.find_element(By.CLASS_NAME,'rteright')\n",
    "link_data = dataset.find_element(By.TAG_NAME,'a')\n",
    "link_metadata = dataset.find_elements(By.TAG_NAME,'a')[1].get_attribute('href')\n",
    "link_data.click()"
   ]
  },
  {
   "cell_type": "code",
   "execution_count": 12,
   "metadata": {},
   "outputs": [
    {
     "name": "stdout",
     "output_type": "stream",
     "text": [
      "C:\\Users\\10235555\\Documents\\Dataportal Data\\UNODC\\10.1_-_Drug_related_crimes (1).xlsx\n"
     ]
    }
   ],
   "source": [
    "topics = driver.find_elements(By.CLASS_NAME,'col-lg-12')\n",
    "datasets  = topics[11].find_elements(By.TAG_NAME,'a')\n",
    "for title in datasets:\n",
    "    # print(title.text)\n",
    "    title.click()\n",
    "    def latest_download_file():\n",
    "        path = base_path\n",
    "        os.chdir(path)\n",
    "        files = sorted(os.listdir(os.getcwd()), key=os.path.getmtime)\n",
    "        newest = files[-1]\n",
    "\n",
    "        return newest\n",
    "\n",
    "    fileends = \"crdownload\"\n",
    "    while \"crdownload\" == fileends:\n",
    "        time.sleep(3) \n",
    "        newest_file = latest_download_file()\n",
    "        if \"crdownload\" in newest_file:\n",
    "            fileends = \"crdownload\"\n",
    "            # time.sleep(5)\n",
    "        else:\n",
    "            fileends = \"None\"\n",
    "    latest_download_file() \n",
    "    file = max([base_path + \"\\\\\" + f for f in os.listdir(base_path)],key=os.path.getctime)\n",
    "    print(file)"
   ]
  },
  {
   "cell_type": "code",
   "execution_count": 19,
   "metadata": {},
   "outputs": [
    {
     "name": "stdout",
     "output_type": "stream",
     "text": [
      "C:\\Users\\10235555\\Documents\\Dataportal Data\\UNODC\\7.1_-_Drug_seizures_2016-2020.xlsx\n"
     ]
    }
   ],
   "source": [
    "# topic 7\n",
    "topics = driver.find_elements(By.CLASS_NAME,'col-lg-12')\n",
    "datasets  = topics[8].find_element(By.TAG_NAME,'a')\n",
    "# print(title.text)\n",
    "datasets.click()\n",
    "def latest_download_file():\n",
    "    path = base_path\n",
    "    os.chdir(path)\n",
    "    files = sorted(os.listdir(os.getcwd()), key=os.path.getmtime)\n",
    "    newest = files[-1]\n",
    "\n",
    "    return newest\n",
    "\n",
    "fileends = \"crdownload\"\n",
    "while \"crdownload\" == fileends:\n",
    "    time.sleep(3) \n",
    "    newest_file = latest_download_file()\n",
    "    if \"crdownload\" in newest_file:\n",
    "        fileends = \"crdownload\"\n",
    "        # time.sleep(5)\n",
    "    else:\n",
    "        fileends = \"None\"\n",
    "latest_download_file() \n",
    "file = max([base_path + \"\\\\\" + f for f in os.listdir(base_path)],key=os.path.getctime)\n",
    "print(file)"
   ]
  },
  {
   "cell_type": "code",
   "execution_count": 13,
   "metadata": {},
   "outputs": [
    {
     "name": "stdout",
     "output_type": "stream",
     "text": [
      "C:\\Users\\10235555\\Documents\\Dataportal Data\\UNODC\\8.1_-_Prices_and_purities_of_drugs.xlsx\n",
      "C:\\Users\\10235555\\Documents\\Dataportal Data\\UNODC\\8.3_-_Price_time_series_in_Western_Europe_and_United_States.xlsx\n"
     ]
    }
   ],
   "source": [
    "# topic 8\n",
    "topics = driver.find_elements(By.CLASS_NAME,'col-lg-12')\n",
    "datasets  = topics[9].find_elements(By.TAG_NAME,'a')\n",
    "datasets = [datasets[0]]  + [datasets[2]]\n",
    "for title in datasets:\n",
    "    # print(title.text)\n",
    "    title.click()\n",
    "    def latest_download_file():\n",
    "        path = base_path\n",
    "        os.chdir(path)\n",
    "        files = sorted(os.listdir(os.getcwd()), key=os.path.getmtime)\n",
    "        newest = files[-1]\n",
    "\n",
    "        return newest\n",
    "\n",
    "    fileends = \"crdownload\"\n",
    "    while \"crdownload\" == fileends:\n",
    "        time.sleep(3) \n",
    "        newest_file = latest_download_file()\n",
    "        if \"crdownload\" in newest_file:\n",
    "            fileends = \"crdownload\"\n",
    "            # time.sleep(5)\n",
    "        else:\n",
    "            fileends = \"None\"\n",
    "    latest_download_file() \n",
    "    file = max([base_path + \"\\\\\" + f for f in os.listdir(base_path)],key=os.path.getctime)\n",
    "    print(file)"
   ]
  },
  {
   "cell_type": "code",
   "execution_count": null,
   "metadata": {},
   "outputs": [],
   "source": [
    "content = driver.find_element(By.ID,'wrapper')\n",
    "themes = content.find_elements(By.CLASS_NAME,'theme')[0:2]\n",
    "for theme in themes:\n",
    "    click = theme.find_element(By.TAG_NAME,'a')\n",
    "    theme.click()\n",
    "    time.sleep(2)"
   ]
  },
  {
   "cell_type": "code",
   "execution_count": 29,
   "metadata": {},
   "outputs": [
    {
     "name": "stdout",
     "output_type": "stream",
     "text": [
      "C:\\Users\\10235555\\Documents\\Dataportal Data\\UNODC\\Intentional homicide.xlsx\n",
      " Intentional Homicide The tables on intentional homicide include figures on victims of intentional homicide at city, national, regional, and global levels, and figures on persons arrested/suspected or convicted for intentional homicide. National data are submitted by Member States to UNODC through the United Nations Survey of Crime Trends and Operations of Criminal Justice Systems (UN-CTS) or other means. Regional and global estimates are produced by UNODC based on national data. \n",
      "C:\\Users\\10235555\\Documents\\Dataportal Data\\UNODC\\Violent & Sexual Crime.xlsx\n",
      " Violent and Sexual Crime The tables on violent and sexual crime include national figures on offences for and victims of selected crimes recorded by the police or other law enforcement agencies. These data are submitted by Member States through the United Nations Survey of Crime Trends and Operations of Criminal Justice Systems (UN-CTS) or other means. \n"
     ]
    },
    {
     "ename": "KeyboardInterrupt",
     "evalue": "",
     "output_type": "error",
     "traceback": [
      "\u001b[1;31m---------------------------------------------------------------------------\u001b[0m",
      "\u001b[1;31mKeyboardInterrupt\u001b[0m                         Traceback (most recent call last)",
      "\u001b[1;32mc:\\Users\\10235555\\Documents\\DataportalCrawlers\\UN_Data\\UNODC.ipynb Cell 13\u001b[0m in \u001b[0;36m1\n\u001b[0;32m     <a href='vscode-notebook-cell:/c%3A/Users/10235555/Documents/DataportalCrawlers/UN_Data/UNODC.ipynb#X13sZmlsZQ%3D%3D?line=11'>12</a>\u001b[0m dataset \u001b[39m=\u001b[39m driver\u001b[39m.\u001b[39mfind_element(By\u001b[39m.\u001b[39mCLASS_NAME,\u001b[39m'\u001b[39m\u001b[39mrteright\u001b[39m\u001b[39m'\u001b[39m)\n\u001b[0;32m     <a href='vscode-notebook-cell:/c%3A/Users/10235555/Documents/DataportalCrawlers/UN_Data/UNODC.ipynb#X13sZmlsZQ%3D%3D?line=12'>13</a>\u001b[0m link_data \u001b[39m=\u001b[39m dataset\u001b[39m.\u001b[39mfind_element(By\u001b[39m.\u001b[39mTAG_NAME,\u001b[39m'\u001b[39m\u001b[39ma\u001b[39m\u001b[39m'\u001b[39m)\u001b[39m.\u001b[39mget_attribute(\u001b[39m'\u001b[39m\u001b[39mhref\u001b[39m\u001b[39m'\u001b[39m)\n\u001b[1;32m---> <a href='vscode-notebook-cell:/c%3A/Users/10235555/Documents/DataportalCrawlers/UN_Data/UNODC.ipynb#X13sZmlsZQ%3D%3D?line=13'>14</a>\u001b[0m urllib\u001b[39m.\u001b[39;49mrequest\u001b[39m.\u001b[39;49murlretrieve(link_data,\u001b[39mf\u001b[39;49m\u001b[39m\"\u001b[39;49m\u001b[39m{\u001b[39;49;00mbase_path\u001b[39m}\u001b[39;49;00m\u001b[39m\\\\\u001b[39;49;00m\u001b[39m{\u001b[39;49;00mtitle\u001b[39m}\u001b[39;49;00m\u001b[39m.xlsx\u001b[39;49m\u001b[39m\"\u001b[39;49m)\n\u001b[0;32m     <a href='vscode-notebook-cell:/c%3A/Users/10235555/Documents/DataportalCrawlers/UN_Data/UNODC.ipynb#X13sZmlsZQ%3D%3D?line=14'>15</a>\u001b[0m \u001b[39mdef\u001b[39;00m \u001b[39mlatest_download_file\u001b[39m():\n\u001b[0;32m     <a href='vscode-notebook-cell:/c%3A/Users/10235555/Documents/DataportalCrawlers/UN_Data/UNODC.ipynb#X13sZmlsZQ%3D%3D?line=15'>16</a>\u001b[0m     path \u001b[39m=\u001b[39m base_path\n",
      "File \u001b[1;32mc:\\Users\\10235555\\AppData\\Local\\Programs\\Python\\Python311\\Lib\\urllib\\request.py:241\u001b[0m, in \u001b[0;36murlretrieve\u001b[1;34m(url, filename, reporthook, data)\u001b[0m\n\u001b[0;32m    224\u001b[0m \u001b[39m\"\"\"\u001b[39;00m\n\u001b[0;32m    225\u001b[0m \u001b[39mRetrieve a URL into a temporary location on disk.\u001b[39;00m\n\u001b[0;32m    226\u001b[0m \n\u001b[1;32m   (...)\u001b[0m\n\u001b[0;32m    237\u001b[0m \u001b[39mdata file as well as the resulting HTTPMessage object.\u001b[39;00m\n\u001b[0;32m    238\u001b[0m \u001b[39m\"\"\"\u001b[39;00m\n\u001b[0;32m    239\u001b[0m url_type, path \u001b[39m=\u001b[39m _splittype(url)\n\u001b[1;32m--> 241\u001b[0m \u001b[39mwith\u001b[39;00m contextlib\u001b[39m.\u001b[39mclosing(urlopen(url, data)) \u001b[39mas\u001b[39;00m fp:\n\u001b[0;32m    242\u001b[0m     headers \u001b[39m=\u001b[39m fp\u001b[39m.\u001b[39minfo()\n\u001b[0;32m    244\u001b[0m     \u001b[39m# Just return the local path and the \"headers\" for file://\u001b[39;00m\n\u001b[0;32m    245\u001b[0m     \u001b[39m# URLs. No sense in performing a copy unless requested.\u001b[39;00m\n",
      "File \u001b[1;32mc:\\Users\\10235555\\AppData\\Local\\Programs\\Python\\Python311\\Lib\\urllib\\request.py:216\u001b[0m, in \u001b[0;36murlopen\u001b[1;34m(url, data, timeout, cafile, capath, cadefault, context)\u001b[0m\n\u001b[0;32m    214\u001b[0m \u001b[39melse\u001b[39;00m:\n\u001b[0;32m    215\u001b[0m     opener \u001b[39m=\u001b[39m _opener\n\u001b[1;32m--> 216\u001b[0m \u001b[39mreturn\u001b[39;00m opener\u001b[39m.\u001b[39;49mopen(url, data, timeout)\n",
      "File \u001b[1;32mc:\\Users\\10235555\\AppData\\Local\\Programs\\Python\\Python311\\Lib\\urllib\\request.py:519\u001b[0m, in \u001b[0;36mOpenerDirector.open\u001b[1;34m(self, fullurl, data, timeout)\u001b[0m\n\u001b[0;32m    516\u001b[0m     req \u001b[39m=\u001b[39m meth(req)\n\u001b[0;32m    518\u001b[0m sys\u001b[39m.\u001b[39maudit(\u001b[39m'\u001b[39m\u001b[39murllib.Request\u001b[39m\u001b[39m'\u001b[39m, req\u001b[39m.\u001b[39mfull_url, req\u001b[39m.\u001b[39mdata, req\u001b[39m.\u001b[39mheaders, req\u001b[39m.\u001b[39mget_method())\n\u001b[1;32m--> 519\u001b[0m response \u001b[39m=\u001b[39m \u001b[39mself\u001b[39;49m\u001b[39m.\u001b[39;49m_open(req, data)\n\u001b[0;32m    521\u001b[0m \u001b[39m# post-process response\u001b[39;00m\n\u001b[0;32m    522\u001b[0m meth_name \u001b[39m=\u001b[39m protocol\u001b[39m+\u001b[39m\u001b[39m\"\u001b[39m\u001b[39m_response\u001b[39m\u001b[39m\"\u001b[39m\n",
      "File \u001b[1;32mc:\\Users\\10235555\\AppData\\Local\\Programs\\Python\\Python311\\Lib\\urllib\\request.py:536\u001b[0m, in \u001b[0;36mOpenerDirector._open\u001b[1;34m(self, req, data)\u001b[0m\n\u001b[0;32m    533\u001b[0m     \u001b[39mreturn\u001b[39;00m result\n\u001b[0;32m    535\u001b[0m protocol \u001b[39m=\u001b[39m req\u001b[39m.\u001b[39mtype\n\u001b[1;32m--> 536\u001b[0m result \u001b[39m=\u001b[39m \u001b[39mself\u001b[39;49m\u001b[39m.\u001b[39;49m_call_chain(\u001b[39mself\u001b[39;49m\u001b[39m.\u001b[39;49mhandle_open, protocol, protocol \u001b[39m+\u001b[39;49m\n\u001b[0;32m    537\u001b[0m                           \u001b[39m'\u001b[39;49m\u001b[39m_open\u001b[39;49m\u001b[39m'\u001b[39;49m, req)\n\u001b[0;32m    538\u001b[0m \u001b[39mif\u001b[39;00m result:\n\u001b[0;32m    539\u001b[0m     \u001b[39mreturn\u001b[39;00m result\n",
      "File \u001b[1;32mc:\\Users\\10235555\\AppData\\Local\\Programs\\Python\\Python311\\Lib\\urllib\\request.py:496\u001b[0m, in \u001b[0;36mOpenerDirector._call_chain\u001b[1;34m(self, chain, kind, meth_name, *args)\u001b[0m\n\u001b[0;32m    494\u001b[0m \u001b[39mfor\u001b[39;00m handler \u001b[39min\u001b[39;00m handlers:\n\u001b[0;32m    495\u001b[0m     func \u001b[39m=\u001b[39m \u001b[39mgetattr\u001b[39m(handler, meth_name)\n\u001b[1;32m--> 496\u001b[0m     result \u001b[39m=\u001b[39m func(\u001b[39m*\u001b[39;49margs)\n\u001b[0;32m    497\u001b[0m     \u001b[39mif\u001b[39;00m result \u001b[39mis\u001b[39;00m \u001b[39mnot\u001b[39;00m \u001b[39mNone\u001b[39;00m:\n\u001b[0;32m    498\u001b[0m         \u001b[39mreturn\u001b[39;00m result\n",
      "File \u001b[1;32mc:\\Users\\10235555\\AppData\\Local\\Programs\\Python\\Python311\\Lib\\urllib\\request.py:1391\u001b[0m, in \u001b[0;36mHTTPSHandler.https_open\u001b[1;34m(self, req)\u001b[0m\n\u001b[0;32m   1390\u001b[0m \u001b[39mdef\u001b[39;00m \u001b[39mhttps_open\u001b[39m(\u001b[39mself\u001b[39m, req):\n\u001b[1;32m-> 1391\u001b[0m     \u001b[39mreturn\u001b[39;00m \u001b[39mself\u001b[39;49m\u001b[39m.\u001b[39;49mdo_open(http\u001b[39m.\u001b[39;49mclient\u001b[39m.\u001b[39;49mHTTPSConnection, req,\n\u001b[0;32m   1392\u001b[0m         context\u001b[39m=\u001b[39;49m\u001b[39mself\u001b[39;49m\u001b[39m.\u001b[39;49m_context, check_hostname\u001b[39m=\u001b[39;49m\u001b[39mself\u001b[39;49m\u001b[39m.\u001b[39;49m_check_hostname)\n",
      "File \u001b[1;32mc:\\Users\\10235555\\AppData\\Local\\Programs\\Python\\Python311\\Lib\\urllib\\request.py:1352\u001b[0m, in \u001b[0;36mAbstractHTTPHandler.do_open\u001b[1;34m(self, http_class, req, **http_conn_args)\u001b[0m\n\u001b[0;32m   1350\u001b[0m     \u001b[39mexcept\u001b[39;00m \u001b[39mOSError\u001b[39;00m \u001b[39mas\u001b[39;00m err: \u001b[39m# timeout error\u001b[39;00m\n\u001b[0;32m   1351\u001b[0m         \u001b[39mraise\u001b[39;00m URLError(err)\n\u001b[1;32m-> 1352\u001b[0m     r \u001b[39m=\u001b[39m h\u001b[39m.\u001b[39;49mgetresponse()\n\u001b[0;32m   1353\u001b[0m \u001b[39mexcept\u001b[39;00m:\n\u001b[0;32m   1354\u001b[0m     h\u001b[39m.\u001b[39mclose()\n",
      "File \u001b[1;32mc:\\Users\\10235555\\AppData\\Local\\Programs\\Python\\Python311\\Lib\\http\\client.py:1374\u001b[0m, in \u001b[0;36mHTTPConnection.getresponse\u001b[1;34m(self)\u001b[0m\n\u001b[0;32m   1372\u001b[0m \u001b[39mtry\u001b[39;00m:\n\u001b[0;32m   1373\u001b[0m     \u001b[39mtry\u001b[39;00m:\n\u001b[1;32m-> 1374\u001b[0m         response\u001b[39m.\u001b[39;49mbegin()\n\u001b[0;32m   1375\u001b[0m     \u001b[39mexcept\u001b[39;00m \u001b[39mConnectionError\u001b[39;00m:\n\u001b[0;32m   1376\u001b[0m         \u001b[39mself\u001b[39m\u001b[39m.\u001b[39mclose()\n",
      "File \u001b[1;32mc:\\Users\\10235555\\AppData\\Local\\Programs\\Python\\Python311\\Lib\\http\\client.py:318\u001b[0m, in \u001b[0;36mHTTPResponse.begin\u001b[1;34m(self)\u001b[0m\n\u001b[0;32m    316\u001b[0m \u001b[39m# read until we get a non-100 response\u001b[39;00m\n\u001b[0;32m    317\u001b[0m \u001b[39mwhile\u001b[39;00m \u001b[39mTrue\u001b[39;00m:\n\u001b[1;32m--> 318\u001b[0m     version, status, reason \u001b[39m=\u001b[39m \u001b[39mself\u001b[39;49m\u001b[39m.\u001b[39;49m_read_status()\n\u001b[0;32m    319\u001b[0m     \u001b[39mif\u001b[39;00m status \u001b[39m!=\u001b[39m CONTINUE:\n\u001b[0;32m    320\u001b[0m         \u001b[39mbreak\u001b[39;00m\n",
      "File \u001b[1;32mc:\\Users\\10235555\\AppData\\Local\\Programs\\Python\\Python311\\Lib\\http\\client.py:279\u001b[0m, in \u001b[0;36mHTTPResponse._read_status\u001b[1;34m(self)\u001b[0m\n\u001b[0;32m    278\u001b[0m \u001b[39mdef\u001b[39;00m \u001b[39m_read_status\u001b[39m(\u001b[39mself\u001b[39m):\n\u001b[1;32m--> 279\u001b[0m     line \u001b[39m=\u001b[39m \u001b[39mstr\u001b[39m(\u001b[39mself\u001b[39m\u001b[39m.\u001b[39mfp\u001b[39m.\u001b[39mreadline(_MAXLINE \u001b[39m+\u001b[39m \u001b[39m1\u001b[39m), \u001b[39m\"\u001b[39m\u001b[39miso-8859-1\u001b[39m\u001b[39m\"\u001b[39m)\n\u001b[0;32m    280\u001b[0m     \u001b[39mif\u001b[39;00m \u001b[39mlen\u001b[39m(line) \u001b[39m>\u001b[39m _MAXLINE:\n\u001b[0;32m    281\u001b[0m         \u001b[39mraise\u001b[39;00m LineTooLong(\u001b[39m\"\u001b[39m\u001b[39mstatus line\u001b[39m\u001b[39m\"\u001b[39m)\n",
      "File \u001b[1;32mc:\\Users\\10235555\\AppData\\Local\\Programs\\Python\\Python311\\Lib\\socket.py:705\u001b[0m, in \u001b[0;36mSocketIO.readinto\u001b[1;34m(self, b)\u001b[0m\n\u001b[0;32m    703\u001b[0m \u001b[39mwhile\u001b[39;00m \u001b[39mTrue\u001b[39;00m:\n\u001b[0;32m    704\u001b[0m     \u001b[39mtry\u001b[39;00m:\n\u001b[1;32m--> 705\u001b[0m         \u001b[39mreturn\u001b[39;00m \u001b[39mself\u001b[39;49m\u001b[39m.\u001b[39;49m_sock\u001b[39m.\u001b[39;49mrecv_into(b)\n\u001b[0;32m    706\u001b[0m     \u001b[39mexcept\u001b[39;00m timeout:\n\u001b[0;32m    707\u001b[0m         \u001b[39mself\u001b[39m\u001b[39m.\u001b[39m_timeout_occurred \u001b[39m=\u001b[39m \u001b[39mTrue\u001b[39;00m\n",
      "File \u001b[1;32mc:\\Users\\10235555\\AppData\\Local\\Programs\\Python\\Python311\\Lib\\ssl.py:1278\u001b[0m, in \u001b[0;36mSSLSocket.recv_into\u001b[1;34m(self, buffer, nbytes, flags)\u001b[0m\n\u001b[0;32m   1274\u001b[0m     \u001b[39mif\u001b[39;00m flags \u001b[39m!=\u001b[39m \u001b[39m0\u001b[39m:\n\u001b[0;32m   1275\u001b[0m         \u001b[39mraise\u001b[39;00m \u001b[39mValueError\u001b[39;00m(\n\u001b[0;32m   1276\u001b[0m           \u001b[39m\"\u001b[39m\u001b[39mnon-zero flags not allowed in calls to recv_into() on \u001b[39m\u001b[39m%s\u001b[39;00m\u001b[39m\"\u001b[39m \u001b[39m%\u001b[39m\n\u001b[0;32m   1277\u001b[0m           \u001b[39mself\u001b[39m\u001b[39m.\u001b[39m\u001b[39m__class__\u001b[39m)\n\u001b[1;32m-> 1278\u001b[0m     \u001b[39mreturn\u001b[39;00m \u001b[39mself\u001b[39;49m\u001b[39m.\u001b[39;49mread(nbytes, buffer)\n\u001b[0;32m   1279\u001b[0m \u001b[39melse\u001b[39;00m:\n\u001b[0;32m   1280\u001b[0m     \u001b[39mreturn\u001b[39;00m \u001b[39msuper\u001b[39m()\u001b[39m.\u001b[39mrecv_into(buffer, nbytes, flags)\n",
      "File \u001b[1;32mc:\\Users\\10235555\\AppData\\Local\\Programs\\Python\\Python311\\Lib\\ssl.py:1134\u001b[0m, in \u001b[0;36mSSLSocket.read\u001b[1;34m(self, len, buffer)\u001b[0m\n\u001b[0;32m   1132\u001b[0m \u001b[39mtry\u001b[39;00m:\n\u001b[0;32m   1133\u001b[0m     \u001b[39mif\u001b[39;00m buffer \u001b[39mis\u001b[39;00m \u001b[39mnot\u001b[39;00m \u001b[39mNone\u001b[39;00m:\n\u001b[1;32m-> 1134\u001b[0m         \u001b[39mreturn\u001b[39;00m \u001b[39mself\u001b[39;49m\u001b[39m.\u001b[39;49m_sslobj\u001b[39m.\u001b[39;49mread(\u001b[39mlen\u001b[39;49m, buffer)\n\u001b[0;32m   1135\u001b[0m     \u001b[39melse\u001b[39;00m:\n\u001b[0;32m   1136\u001b[0m         \u001b[39mreturn\u001b[39;00m \u001b[39mself\u001b[39m\u001b[39m.\u001b[39m_sslobj\u001b[39m.\u001b[39mread(\u001b[39mlen\u001b[39m)\n",
      "\u001b[1;31mKeyboardInterrupt\u001b[0m: "
     ]
    }
   ],
   "source": [
    "content = driver.find_element(By.ID,'wrapper')\n",
    "themes = content.find_elements(By.CLASS_NAME,'theme')[2:11]\n",
    "for theme in themes:\n",
    "    click = theme.find_element(By.TAG_NAME,'a')\n",
    "    theme.click()\n",
    "    time.sleep(2)\n",
    "    import urllib.request\n",
    "    try:\n",
    "        title = driver.find_element(By.CLASS_NAME,'title').text\n",
    "    except:\n",
    "        title = driver.find_element(By.CLASS_NAME,'last.active').text\n",
    "    dataset = driver.find_element(By.CLASS_NAME,'rteright')\n",
    "    link_data = dataset.find_element(By.TAG_NAME,'a').get_attribute('href')\n",
    "    urllib.request.urlretrieve(link_data,f\"{base_path}\\\\{title}.xlsx\")\n",
    "    def latest_download_file():\n",
    "        path = base_path\n",
    "        os.chdir(path)\n",
    "        files = sorted(os.listdir(os.getcwd()), key=os.path.getmtime)\n",
    "        newest = files[-1]\n",
    "\n",
    "        return newest\n",
    "\n",
    "    fileends = \"crdownload\"\n",
    "    while \"crdownload\" == fileends:\n",
    "        time.sleep(3) \n",
    "        newest_file = latest_download_file()\n",
    "        if \"crdownload\" in newest_file:\n",
    "            fileends = \"crdownload\"\n",
    "            # time.sleep(5)\n",
    "        else:\n",
    "            fileends = \"None\"\n",
    "    latest_download_file() \n",
    "    file = max([base_path + \"\\\\\" + f for f in os.listdir(base_path)],key=os.path.getctime)\n",
    "    print(file)\n",
    "    try:\n",
    "        link_metadata = dataset.find_elements(By.TAG_NAME,'a')[1].get_attribute('href')\n",
    "        urllib.request.urlretrieve(link_metadata,f\"{base_path}\\\\{title}.pdf\")\n",
    "        def latest_download_file():\n",
    "            path = base_path\n",
    "            os.chdir(path)\n",
    "            files = sorted(os.listdir(os.getcwd()), key=os.path.getmtime)\n",
    "            newest = files[-1]\n",
    "\n",
    "            return newest\n",
    "\n",
    "        fileends = \"crdownload\"\n",
    "        while \"crdownload\" == fileends:\n",
    "            time.sleep(3) \n",
    "            newest_file = latest_download_file()\n",
    "            if \"crdownload\" in newest_file:\n",
    "                fileends = \"crdownload\"\n",
    "                # time.sleep(5)\n",
    "            else:\n",
    "                fileends = \"None\"\n",
    "        latest_download_file() \n",
    "        file_pdf = max([base_path + \"\\\\\" + f for f in os.listdir(base_path)],key=os.path.getctime)\n",
    "        import pdfplumber\n",
    "        import datetime\n",
    "        conten=[]\n",
    "        with pdfplumber.open(file_pdf) as pdf:\n",
    "            text = pdf.pages\n",
    "            for te in text:\n",
    "                content = te.extract_text()\n",
    "                conten.append(content)\n",
    "        content_all = ' '.join([str(elem) for elem in conten])\n",
    "        concept = content_all.split('Metadata Information')[1].split('Dataset characteristics')[0].replace('\\n','')\n",
    "        last_update = content_all.split('Last update: ')[1].split('Base period: ')[0].replace(' \\n','')\n",
    "        last_update = datetime.datetime.strptime(last_update, \"%d/%m/%Y\").strftime('%Y-%m-%d')\n",
    "        source = content_all.split('Data source(s): ')[1].split('Contact')[0].replace(' \\n','')\n",
    "        defin = content_all.split('Statistical concepts and definitions')[1].split('Data sources and method of collection')[0].replace(' \\n','')\n",
    "        print(concept)\n",
    "    except:\n",
    "        pass\n",
    "    driver.back()\n",
    "    time.sleep(2)"
   ]
  },
  {
   "cell_type": "code",
   "execution_count": 17,
   "metadata": {},
   "outputs": [],
   "source": [
    "import pdfplumber\n",
    "conten=[]\n",
    "with pdfplumber.open(f\"{base_path}\\\\{title}.pdf\") as pdf:\n",
    "    text = pdf.pages\n",
    "    for te in text:\n",
    "        content = te.extract_text()\n",
    "        conten.append(content)\n",
    "content_all = ' '.join([str(elem) for elem in conten])"
   ]
  }
 ],
 "metadata": {
  "kernelspec": {
   "display_name": "Python 3",
   "language": "python",
   "name": "python3"
  },
  "language_info": {
   "codemirror_mode": {
    "name": "ipython",
    "version": 3
   },
   "file_extension": ".py",
   "mimetype": "text/x-python",
   "name": "python",
   "nbconvert_exporter": "python",
   "pygments_lexer": "ipython3",
   "version": "3.11.0"
  },
  "orig_nbformat": 4
 },
 "nbformat": 4,
 "nbformat_minor": 2
}
