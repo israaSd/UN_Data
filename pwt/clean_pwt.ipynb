{
 "cells": [
  {
   "cell_type": "code",
   "execution_count": 2,
   "metadata": {},
   "outputs": [
    {
     "data": {
      "text/plain": [
       "'Identifier variables : nan \\n\\n countrycode : 3-letter ISO country code \\n\\n country : Country name \\n\\n currency_unit : Currency unit \\n\\n year : Year \\n\\n nan : nan \\n\\n Real GDP, employment and population levels : nan \\n\\n rgdpe : Expenditure-side real GDP at chained PPPs (in mil. 2017US$) \\n\\n rgdpo : Output-side real GDP at chained PPPs (in mil. 2017US$) \\n\\n pop : Population (in millions) \\n\\n emp : Number of persons engaged (in millions) \\n\\n avh : Average annual hours worked by persons engaged \\n\\n hc : Human capital index, based on years of schooling and returns to education; see Human capital in PWT9. \\n\\n nan : nan \\n\\n Current price GDP, capital and TFP : nan \\n\\n ccon : Real consumption of households and government, at current PPPs (in mil. 2017US$) \\n\\n cda : Real domestic absorption, (real consumption plus investment), at current PPPs (in mil. 2017US$) \\n\\n cgdpe : Expenditure-side real GDP at current PPPs (in mil. 2017US$) \\n\\n cgdpo : Output-side real GDP at current PPPs (in mil. 2017US$) \\n\\n cn : Capital stock at current PPPs (in mil. 2017US$) \\n\\n ck : Capital services levels at current PPPs (USA=1) \\n\\n ctfp : TFP level at current PPPs (USA=1) \\n\\n cwtfp : Welfare-relevant TFP levels at current PPPs (USA=1) \\n\\n nan : nan \\n\\n National accounts-based variables : nan \\n\\n rgdpna : Real GDP at constant 2017 national prices (in mil. 2017US$) \\n\\n rconna : Real consumption at constant 2017 national prices (in mil. 2017US$) \\n\\n rdana : Real domestic absorption at constant 2017 national prices (in mil. 2017US$) \\n\\n rnna : Capital stock at constant 2017 national prices (in mil. 2017US$) \\n\\n rkna : Capital services at constant 2017 national prices (2017=1) \\n\\n rtfpna : TFP at constant national prices (2017=1) \\n\\n rwtfpna : Welfare-relevant TFP at constant national prices (2017=1) \\n\\n labsh : Share of labour compensation in GDP at current national prices \\n\\n irr : Real internal rate of return \\n\\n delta : Average depreciation rate of the capital stock \\n\\n nan : nan \\n\\n Exchange rates and GDP price levels : nan \\n\\n xr : Exchange rate, national currency/USD (market+estimated) \\n\\n pl_con : Price level of CCON (PPP/XR), price level of USA GDPo in 2017=1 \\n\\n pl_da : Price level of CDA (PPP/XR), price level of USA GDPo in 2017=1 \\n\\n pl_gdpo : Price level of CGDPo (PPP/XR), price level of USA GDPo in 2017=1 \\n\\n nan : nan \\n\\n Data information variables : nan \\n\\n i_cig : 0/1/2/3/4: relative price data for consumption, investment and government is extrapolated (0), benchmark (1), interpolated (2), ICP PPP timeseries: benchmark or interpolated (3) or  ICP PPP timeseries: extrapolated (4) \\n\\n i_xm : 0/1/2: relative price data for exports and imports is extrapolated (0), benchmark (1) or interpolated (2) \\n\\n i_xr : 0/1: the exchange rate is market-based (0) or estimated (1) \\n\\n i_outlier : 0/1: the observation on pl_gdpe or pl_gdpo is not an outlier (0) or an outlier (1) \\n\\n i_irr : 0/1/2/3: the observation for irr is not an outlier (0), may be biased due to a low capital share (1), hit the lower bound of 1 percent (2), or is an outlier (3) \\n\\n cor_exp : Correlation between expenditure shares of the country and the US (benchmark observations only) \\n\\n statcap : Statistical capacity indicator (source: World Bank, developing countries only) \\n\\n nan : nan \\n\\n Shares in CGDPo : nan \\n\\n csh_c : Share of household consumption at current PPPs \\n\\n csh_i : Share of gross capital formation at current PPPs \\n\\n csh_g : Share of government consumption at current PPPs \\n\\n csh_x : Share of merchandise exports at current PPPs \\n\\n csh_m : Share of merchandise imports at current PPPs \\n\\n csh_r : Share of residual trade and GDP statistical discrepancy at current PPPs \\n\\n nan : nan \\n\\n Price levels, expenditure categories and capital : nan \\n\\n pl_c : Price level of household consumption,  price level of USA GDPo in 2017=1 \\n\\n pl_i : Price level of capital formation,  price level of USA GDPo in 2017=1 \\n\\n pl_g : Price level of government consumption,  price level of USA GDPo in 2017=1 \\n\\n pl_x : Price level of exports, price level of USA GDPo in 2017=1 \\n\\n pl_m : Price level of imports, price level of USA GDPo in 2017=1 \\n\\n pl_n : Price level of the capital stock, price level of USA in 2017=1 \\n\\n pl_k : Price level of the capital services, price level of USA=1'"
      ]
     },
     "execution_count": 2,
     "metadata": {},
     "output_type": "execute_result"
    }
   ],
   "source": [
    "# pwt1001.xlsx , pwt1001_na_data.xlsx , pwt1001_capital_detail.xlsx , pwt100.xlsx , pwt100-na-data.xlsx , pwt100-capital-detail.xlsx , pwt91.xlsx , pwt91_na_data.xlsx , pwt90.xlsx\n",
    "\n",
    "# na_data.xlsx (9.0) , pwt81.xlsx , na_data8.1.xlsx , pwt80.xlsx , na_data-pwt8.0.xlsx , pwt62_data.xlsx , pwt61_data.xlsx \n",
    "import pandas as pd\n",
    "definitions = []\n",
    "xls = pd.ExcelFile(r'C:\\Users\\10235555\\Documents\\Dataportal Data\\PWT\\pwt1001.xlsx')\n",
    "sheets = xls.sheet_names\n",
    "df_data = pd.read_excel(r'C:\\Users\\10235555\\Documents\\Dataportal Data\\PWT\\pwt1001.xlsx',sheets[-1])\n",
    "df_data.to_csv('C:\\\\Users\\\\10235555\\\\Documents\\\\Dataportal Data\\\\PWT\\\\pwt10 01.csv',index=False)\n",
    "df_desc = pd.read_excel(r'C:\\Users\\10235555\\Documents\\Dataportal Data\\PWT\\pwt1001.xlsx',sheets[-2])\n",
    "for i in range(len(df_desc.index)):\n",
    "    f = df_desc.iloc[i].to_list()\n",
    "    f = [' : '.join(map(str,f))]\n",
    "    definitions.append(f[0])\n",
    "data_def = [' \\n\\n '.join(map(str,definitions))][0]\n",
    "data_def"
   ]
  },
  {
   "cell_type": "code",
   "execution_count": null,
   "metadata": {},
   "outputs": [],
   "source": [
    "# no need clean : na71_wo_source(1).xls , about_na_variables_11302012.xls ( 7.1 ) , na70_v2_wo_sources.xls , about_na_variables_06032011.xls , na63_wo_source_v2.xls \n",
    "# about_na_variables_04232010.xls , final_na62_all_no_source.xls , about_na_variables__pwt6.2_04232010.xls , na61.xls , about_na_variables_04232010_pwt6.1.xls , pwt56_forweb.xls"
   ]
  },
  {
   "cell_type": "code",
   "execution_count": null,
   "metadata": {},
   "outputs": [],
   "source": [
    "# icp1970.xls , icp1975.xls , icp1980.xls , icp1985.xls\n",
    "xls = pd.ExcelFile(r'C:\\Users\\10235555\\Documents\\Dataportal Data\\PWT\\icp1970.xls')\n",
    "sheets = xls.sheet_names\n",
    "df_1 = pd.read_excel(r'C:\\Users\\10235555\\Documents\\Dataportal Data\\PWT\\icp1970.xls',sheets[0])\n",
    "df_1.to_csv(f'C:\\\\Users\\\\10235555\\\\Documents\\\\Dataportal Data\\\\PWT\\\\icp1970 {sheets}.csv',index=False)\n",
    "df_2 = pd.read_excel(r'C:\\Users\\10235555\\Documents\\Dataportal Data\\PWT\\icp1970.xls',sheets[1])\n",
    "title = df_2.columns[0]\n",
    "df_2.columns = df_2.iloc[0,:]\n",
    "df_2 = df_2[1:]\n",
    "df_3 = pd.read_excel(r'C:\\Users\\10235555\\Documents\\Dataportal Data\\PWT\\icp1970.xls',sheets[2])\n",
    "title = df_3.columns[0]\n",
    "df_3.columns = df_3.iloc[0,:]\n",
    "df_3 = df_3[1:]\n",
    "df_4 = pd.read_excel(r'C:\\Users\\10235555\\Documents\\Dataportal Data\\PWT\\icp1970.xls',sheets[3])\n",
    "title = df_4.columns[0]\n",
    "df_4.columns = df_4.iloc[0,:]\n",
    "df_4 = df_4[1:]\n",
    "df_5 = pd.read_excel(r'C:\\Users\\10235555\\Documents\\Dataportal Data\\PWT\\icp1970.xls',sheets[4])\n",
    "df_5.to_csv(f'C:\\\\Users\\\\10235555\\\\Documents\\\\Dataportal Data\\\\PWT\\\\icp1970 {sheets[4]}.csv',index=False)"
   ]
  },
  {
   "cell_type": "code",
   "execution_count": null,
   "metadata": {},
   "outputs": [],
   "source": [
    "# icp1996.xls\n",
    "xls = pd.ExcelFile(r'C:\\Users\\10235555\\Documents\\Dataportal Data\\PWT\\icp1996.xls')\n",
    "sheets = xls.sheet_names\n",
    "df_1 = pd.read_excel(r'C:\\Users\\10235555\\Documents\\Dataportal Data\\PWT\\icp1996.xls',sheets[0])\n",
    "topic = df_1.columns[0]\n",
    "df_1.columns = df_1.iloc[1,:]\n",
    "df_1 = df_1[2:]\n",
    "title = topic.split('(')[0]\n",
    "df_1.to_csv(f'C:\\\\Users\\\\10235555\\\\Documents\\\\Dataportal Data\\\\PWT\\\\icp1996 {title}.csv',index=False)\n",
    "df_2 = pd.read_excel(r'C:\\Users\\10235555\\Documents\\Dataportal Data\\PWT\\icp1996.xls',sheets[1])\n",
    "topic = df_2.columns[0]\n",
    "df_2.columns = df_2.iloc[1,:]\n",
    "df_2 = df_2[2:]\n",
    "title = topic.split('(')[0]\n",
    "df_2.to_csv(f'C:\\\\Users\\\\10235555\\\\Documents\\\\Dataportal Data\\\\PWT\\\\icp1996 {title}.csv',index=False)\n",
    "df_3 = pd.read_excel(r'C:\\Users\\10235555\\Documents\\Dataportal Data\\PWT\\icp1996.xls',sheets[2])\n",
    "df_3.to_csv(f'C:\\\\Users\\\\10235555\\\\Documents\\\\Dataportal Data\\\\PWT\\\\icp1996 {sheets[2]}.csv',index=False)\n",
    "df_4 = pd.read_excel(r'C:\\Users\\10235555\\Documents\\Dataportal Data\\PWT\\icp1996.xls',sheets[3])\n",
    "df_4.to_csv(f'C:\\\\Users\\\\10235555\\\\Documents\\\\Dataportal Data\\\\PWT\\\\icp1996 {sheets[3]}.csv',index=False)"
   ]
  },
  {
   "cell_type": "code",
   "execution_count": 7,
   "metadata": {},
   "outputs": [
    {
     "data": {
      "text/plain": [
       "'rgdpe : Expenditure-side real GDP at chained PPPs (in mil. 2017US$) \\n\\n rgdpo : Output-side real GDP at chained PPPs (in mil. 2017US$) \\n\\n pop : Population (in millions) \\n\\n emp : Number of persons engaged (in millions) \\n\\n avh : Average annual hours worked by persons engaged \\n\\n hc : Index of human capital per person, based on years of schooling and returns to education \\n\\n cgdpe : Expenditure-side real GDP at current PPPs (in mil. 2017US$) \\n\\n cgdpo : Output-side real GDP at current PPPs (in mil. 2017US$) \\n\\n ck : Capital services levels at current PPPs (USA=1) \\n\\n ctfp : TFP level at current PPPs (USA=1) \\n\\n rgdpna : Real GDP at constant national prices (in mil. 2017US$) \\n\\n rkna : Capital services at constant 2017 national prices (2017=1) \\n\\n rtfpna : TFP at constant national prices (2017=1) \\n\\n labsh : Share of labour compensation in GDP at current national prices \\n\\n xr : Exchange rate, national currency/USD (market+estimated) \\n\\n pl_gdpo : Price level of CGDPo (PPP/XR),  price level of USA GDPo in 2017=1 \\n\\n i_cig : 0/1/2/3/4: relative price data for consumption, investment and government is extrapolated (0), benchmark (1), interpolated (2), ICP PPP timeseries: benchmark or interpolated (3) or  ICP PPP timeseries: extrapolated (4) \\n\\n i_xm : 0/1/2: relative price data for exports and imports is extrapolated (0), benchmark (1) or interpolated (2) \\n\\n i_xr : 0/1: the exchange rate is market-based (0) or estimated (1) \\n\\n i_outlier : 0/1: the observation on pl_gdpe or pl_gdpo is not an outlier (0) or an outlier (1) \\n\\n cor_exp : Correlation between expenditure shares of the country and the US (benchmark observations only) \\n\\n statcap : Statistical capacity indicator (source: World Bank, developing countries only) \\n\\n csh_c : Share of household consumption at current PPPs \\n\\n csh_i : Share of gross capital formation at current PPPs \\n\\n csh_g : Share of government consumption at current PPPs \\n\\n csh_x : Share of merchandise exports at current PPPs \\n\\n csh_m : Share of merchandise imports at current PPPs \\n\\n csh_r : Share of residual trade and GDP statistical discrepancy at current PPPs \\n\\n pl_c : Price level of household consumption,  price level of USA GDPo in 2017=1 \\n\\n pl_i : Price level of capital formation, price level of USA GDPo in 2017=1 \\n\\n pl_g : Price level of government consumption, price level of USA GDPo in 2017=1 \\n\\n pl_x : Price level of exports, price level of USA GDPo in 2017=1 \\n\\n pl_m : Price level of imports, price level of USA GDPo in 2017=1 \\n\\n pl_k : Price level of the capital services, price level of USA=1 \\n\\n ccon : Real consumption of households and government, at current PPPs (in mil. 2017US$) \\n\\n cda : Real domestic absorption, (real consumption plus investment), at current PPPs (in mil. 2017US$) \\n\\n cwtfp : Welfare-relevant TFP levels at current PPPs (USA=1) \\n\\n rconna : Real consumption at constant national prices (in mil. 2017US$) \\n\\n rdana : Real domestic absorption at constant national prices (in mil. 2017US$) \\n\\n rwtfpna : Welfare-relevant TFP at constant national prices (2017=1) \\n\\n delta : Average depreciation rate of the capital stock \\n\\n pl_con : Price level of CCON (PPP/XR), price level of USA GDPo in 2017=1 \\n\\n pl_da : Price level of CDA (PPP/XR), price level of USA GDPo in 2017=1 \\n\\n cn : Capital stock at current PPPs (in mil. 2017US$) \\n\\n rnna : Capital stock at constant 2017 national prices (in mil. 2017US$) \\n\\n irr : Real internal rate of return \\n\\n i_irr : 0/1/2/3: the observation for irr is not an outlier (0), may be biased due to a low capital share (1), hit the lower bound of 1 percent (2), or is an outlier (3) \\n\\n pl_n : Price level of the capital stock, price level of USA in 2017=1'"
      ]
     },
     "execution_count": 7,
     "metadata": {},
     "output_type": "execute_result"
    }
   ],
   "source": [
    "# FebPwtExport3302\n",
    "import pandas as pd\n",
    "definitions = []\n",
    "base_path = 'C:\\\\Users\\\\10235555\\\\Downloads'\n",
    "xls = pd.ExcelFile(f'{base_path}\\\\FebPwtExport3302023.xlsx')\n",
    "sheets = xls.sheet_names\n",
    "df_data = pd.read_excel(f'{base_path}\\\\FebPwtExport3302023.xlsx',sheets[1])\n",
    "# df_data.to_csv(f'{base_path}\\\\{title_f}.csv',index=False,encoding=\"utf-8\")\n",
    "df_desc = pd.read_excel(f'{base_path}\\\\FebPwtExport3302023.xlsx',sheets[2])\n",
    "df_desc.dropna(axis='columns', how='all')\n",
    "df_desc = df_desc.dropna(how='all', axis=1)\n",
    "for i in range(len(df_desc.index)):\n",
    "    f = df_desc.iloc[i].to_list()\n",
    "    f = [' : '.join(map(str,f))]\n",
    "    definitions.append(f[0])\n",
    "data_def = [' \\n\\n '.join(map(str,definitions))][0]\n",
    "\n",
    "data_def\n"
   ]
  }
 ],
 "metadata": {
  "kernelspec": {
   "display_name": "Python 3",
   "language": "python",
   "name": "python3"
  },
  "language_info": {
   "codemirror_mode": {
    "name": "ipython",
    "version": 3
   },
   "file_extension": ".py",
   "mimetype": "text/x-python",
   "name": "python",
   "nbconvert_exporter": "python",
   "pygments_lexer": "ipython3",
   "version": "3.11.0"
  },
  "orig_nbformat": 4
 },
 "nbformat": 4,
 "nbformat_minor": 2
}
