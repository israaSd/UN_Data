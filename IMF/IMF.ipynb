{
 "cells": [
  {
   "cell_type": "code",
   "execution_count": 1,
   "metadata": {},
   "outputs": [],
   "source": [
    "path = 'C:\\\\Users\\\\10235555\\\\Documents\\\\Dataportal Data\\\\IMF'"
   ]
  },
  {
   "cell_type": "code",
   "execution_count": null,
   "metadata": {},
   "outputs": [],
   "source": [
    "with ZipFile('modules\\\\stuff.zip', 'r') as zipObject:\n",
    "    listOfFileNames = zipObject.namelist()\n",
    "    for fileName in listOfFileNames:\n",
    "        if fileName.endswith('.py'):\n",
    "            # Extract a single file from zip\n",
    "            zipObject.extract(fileName, 'temp_py')\n",
    "            print('All the python files are extracted')"
   ]
  },
  {
   "cell_type": "code",
   "execution_count": null,
   "metadata": {},
   "outputs": [],
   "source": [
    "with zipfile.ZipFile('/path/to/my_file.apk') as z:\n",
    "    with z.open('/res/drawable/icon.png') as zf, open('temp/icon.png', 'wb') as f:\n",
    "        shutil.copyfileobj(zf, f)"
   ]
  },
  {
   "cell_type": "code",
   "execution_count": 5,
   "metadata": {},
   "outputs": [
    {
     "name": "stdout",
     "output_type": "stream",
     "text": [
      "the data file is extracted\n",
      "the data file is extracted\n",
      "the data file is extracted\n"
     ]
    },
    {
     "name": "stderr",
     "output_type": "stream",
     "text": [
      "C:\\Users\\10235555\\AppData\\Local\\Temp\\ipykernel_14212\\3158158482.py:15: DtypeWarning: Columns (2) have mixed types. Specify dtype option on import or set low_memory=False.\n",
      "  df = pd.read_csv(f)\n"
     ]
    },
    {
     "name": "stdout",
     "output_type": "stream",
     "text": [
      "the data file is extracted\n",
      "the data file is extracted\n",
      "the data file is extracted\n",
      "the data file is extracted\n",
      "the data file is extracted\n",
      "the data file is extracted\n",
      "the data file is extracted\n",
      "the data file is extracted\n",
      "the data file is extracted\n",
      "the data file is extracted\n",
      "the data file is extracted\n",
      "the data file is extracted\n",
      "the data file is extracted\n",
      "the data file is extracted\n",
      "the data file is extracted\n",
      "the data file is extracted\n",
      "the data file is extracted\n",
      "the data file is extracted\n",
      "the data file is extracted\n",
      "the data file is extracted\n",
      "the data file is extracted\n",
      "the data file is extracted\n",
      "the data file is extracted\n",
      "the data file is extracted\n",
      "the data file is extracted\n",
      "the data file is extracted\n",
      "the data file is extracted\n",
      "the data file is extracted\n",
      "the data file is extracted\n",
      "the data file is extracted\n",
      "the data file is extracted\n"
     ]
    }
   ],
   "source": [
    "import os\n",
    "import shutil\n",
    "import zipfile\n",
    "from zipfile import ZipFile\n",
    "import pandas as pd\n",
    "metadata_files = []\n",
    "data_files = []\n",
    "base_path = 'C:\\\\Users\\\\10235555\\\\Documents\\\\Dataportal Data\\\\IMF'\n",
    "for zipfiles in os.listdir(base_path):\n",
    "    if zipfiles.endswith('zip'):\n",
    "        zip = zipfile.ZipFile(f'{base_path}\\\\{zipfiles}')\n",
    "        # with ZipFile(f'{base_path}\\\\{zipfiles}', 'r') as zipObject:\n",
    "        files = zip.namelist()\n",
    "        f = zip.open(files[1])\n",
    "        df = pd.read_csv(f)\n",
    "        title = df.iloc[1,-2]\n",
    "        description = df.iloc[2,-2]\n",
    "        periodicity = df.iloc[3,-2]\n",
    "        last_modified = df.iloc[5,-2]\n",
    "        created = df.iloc[5,-2]\n",
    "        concept = df.iloc[6,-2]\n",
    "        topic = df.iloc[11,-2]\n",
    "        new_name = files[0].split('.')[0].split('_')[0]\n",
    "        with zipfile.ZipFile(f'{base_path}\\\\{zipfiles}') as z:\n",
    "            with z.open(files[0]) as zf, open(f'{base_path}\\\\{files[0]}', 'wb') as f:\n",
    "                shutil.copyfileobj(zf, f)\n",
    "                        # Extract a single file from zip\n",
    "                # zipObject.extract(files[0], base_path)\n",
    "                print('the data file is extracted')\n"
   ]
  },
  {
   "cell_type": "code",
   "execution_count": 2,
   "metadata": {},
   "outputs": [
    {
     "data": {
      "text/plain": [
       "'2000-07-20'"
      ]
     },
     "execution_count": 2,
     "metadata": {},
     "output_type": "execute_result"
    }
   ],
   "source": [
    "import datetime\n",
    "datetime.datetime.strptime(\"7/20/2000\", \"%m/%d/%Y\").strftime('%Y-%m-%d')"
   ]
  },
  {
   "cell_type": "code",
   "execution_count": 3,
   "metadata": {},
   "outputs": [
    {
     "name": "stdout",
     "output_type": "stream",
     "text": [
      " title : AFR Regional Economic Outlook (AFRREO)  , description : AFR Regional Economic Outlook (REO) provides information on recent economic developments and prospects for countries in Sub-Saharan Africa. Data for the REO for Sub-Saharan Africa is prepared in conjunction with the semi-annual World Economic Outlook (WEO) exercises, spring and fall. Data are consistent with the projections underlying the WEO. REO aggregate data may differ from WEO aggregates due to differences in group membership. Composite data for country groups are weighted averages of data for individual countries. Arithmetic weighted averages are used for all concepts except for inflation and broad money, for which geometric averages are used. PPP GDP weights from the WEO database are used for the aggregation of real GDP growth, real non-oil GDP growth, real per capita GDP growth, investment, national savings, broad money, claims on the nonfinancial private sector, and real and nominal effective exchange rates. Aggregates for other concepts are weighted by GDP in U.S. dollars at market exchange rates., periodicity : Annual, lase modified : 10/14/2022, created : AFR REO follows WEO methodology. The AFR REO publication contains additional information on assumptions, conventions, and country groupings. See Documents tab. ,concept: AFR REO follows WEO methodology. The AFR REO publication contains additional information on assumptions, conventions, and country groupings. See Documents tab., topic: Semi-annual\n",
      " title : APD Regional Economic Outlook (APDREO)  , description : APD Regional Economic Outlook (REO) provides information on recent economic developments and prospects for countries in Asia and Pacific. Data for the REO for Asia and Pacific is prepared in conjunction with the semi-annual World Economic Outlook (WEO) exercises, spring and fall. Data are consistent with the projections underlying the WEO. REO aggregate data may differ from WEO aggregates due to differences in group membership. Composite data for country groups are weighted averages of data for individual countries. Arithmetic weighted averages are used for all concepts except for inflation and broad money, for which geometric averages are used. PPP GDP weights from the WEO database are used for the aggregation of real GDP growth, real non-oil GDP growth, real per capita GDP growth, investment, national savings, broad money, claims on the nonfinancial private sector, and real and nominal effective exchange rates. Aggregates for other concepts are weighted by GDP in U.S. dollars at market exchange rates., periodicity : Annual, lase modified : 10/27/2022, created : APD REO follows WEO methodology. ,concept: APD REO follows WEO methodology., topic: External Sector,Financial Sector,Fiscal Sector,Real Sector\n",
      " title : Balance of Payments (BOP)  , description : BOPSY Global Tables aggregate country data by major balance of payments components and by international investment position (IIP) data for (i) Net IIP and (ii) Total Assets and Total Liabilities.  Data for countries, country groups, and the world are provided. In addition to data reported by countries as shown in BOPSY, balance of payments data are provided for international organizations in BOPSY Global Tables.  The BOPSY Global Tables include, in addition to reported data, data derived in a few instances indirectly from published sources., periodicity : Annual, lase modified : 11/22/2022, created : <a href=\"http://www.imf.org/external/pubs/ft/bop/2007/bopman6.htm\" target = \"_blank\">Sixth Edition of the IMF's Balance of Payments and International investment Postion Manual</a> ,concept: <a href=\"http://www.imf.org/external/pubs/ft/bop/2007/bopman6.htm\" target = \"_blank\">Sixth Edition of the IMF's Balance of Payments and International investment Postion Manual</a>, topic: External Sector\n"
     ]
    },
    {
     "name": "stderr",
     "output_type": "stream",
     "text": [
      "C:\\Users\\10235555\\AppData\\Local\\Temp\\ipykernel_17536\\2242067399.py:14: DtypeWarning: Columns (2) have mixed types. Specify dtype option on import or set low_memory=False.\n",
      "  df = pd.read_csv(f)\n"
     ]
    },
    {
     "name": "stdout",
     "output_type": "stream",
     "text": [
      " title : Balance of Payments (BOP)  , description : Contains balance of payments and international investment position (IIP) data of individual countries, jurisdictions, and other reporting entities, and regional and world totals for major components of the balance of payments. Both balance of payments and IIP data are presented in accordance with the standard components of the sixth edition of the <i>Balance of Payments and International Investment Position Manual, BPM6</i>., periodicity : Annual,Quarterly, lase modified : 01/25/2023, created : <a href=\"http://www.imf.org/external/pubs/ft/bop/2007/bopman6.htm\" target = \"_blank\">Sixth edition of the IMF's <i>Balance of Payments and International investment Postion Manual</i></a> ,concept: <a href=\"http://www.imf.org/external/pubs/ft/bop/2007/bopman6.htm\" target = \"_blank\">Sixth edition of the IMF's <i>Balance of Payments and International investment Postion Manual</i></a>, topic: External Sector\n",
      " title : Coordinated Direct Investment Survey (CDIS)  , description : The CDIS database presents detailed data on \"inward\" direct investment positions (i.e., direct investment into the reporting economy) cross-classified by economy of immediate investor, and data on \"outward\" direct investment positions (i.e., direct investment abroad by the reporting economy) cross-classified by economy of immediate investment. The CDIS database contains breakdowns of direct investment position data, including, in most instances, separate data on net equity and net debt positions, as well as tables that present \"mirror\" data (i.e., tables in which data from the reporting economy are shown side-by-side with the data obtained from all other counterpart reporting economies)., periodicity : Annual, lase modified : 12/07/2022, created : <a href=\"http://www.imf.org/external/np/sta/di/index.htm\">Direct Investment Methdology</a> ,concept: <a href=\"http://www.imf.org/external/np/sta/di/index.htm\">Direct Investment Methdology</a>, topic: Semi-annual\n",
      " title : Currency Composition of Official Foreign Exchange Reserves (COFER)  , description : The Currency Composition ofOfficial Foreign Exchange Reserves(COFER) database is managed by the Statistics Department of the International Monetary Fund (IMF). The COFER website disseminates end-of-period quarterly data on COFER in the format of statistical aggregates. The currencies identified in COFER are: U.S. dollar, Pound sterling, Japanese yen, Swiss francs, Canadian dollar, Australian dollar, and Euro.All other currencies are indistinguishably included in the category of “other currencies.”Prior to the introduction of Euro in 1999,several European currencieswere separately identified in COFER. COFER data are reported to the IMF on a voluntary and confidential basis. COFER data for individual countries are strictly confidential. The data published on this website are aggregates for each currency for three groupings of countries (total,advanced economies, andemerging and developing economies)., periodicity : Annual,Quarterly, lase modified : <p><a href=\"http://www.imf.org/external/np/sec/pr/2016/pr1690.htm\" target = \"_blank\" STYLE=\"TEXT-DECORATION: NONE\"><font color=\"#787878\">Press Release: Chinese Renminbi to be Identified in the IMF’s Currency Composition of Foreign Exchange Reserves, No. 16/90, March 4, 2016</font></a></p><p><a href=\"http://www.imf.org/external/np/sec/pr/2013/pr13236.htm\" target = \"_blank\" STYLE=\"TEXT-DECORATION: NONE\"><font color=\"#787878\">IMF Releases Data on the Currency Composition of Foreign Exchange Reserves with Additional Data on Australian and Canadian Dollar Reserves,  No. 13/236, June 28, 2013</font></a></p> <p><a href=\"http://www.imf.org/external/np/sec/pr/2013/pr13211.htm\" target = \"_blank\" STYLE=\"TEXT-DECORATION: NONE\"><font color=\"#787878\">IMF to Release Currency Composition of Foreign Exchange Reserves with Expanded Currency Range, No. 13/211, June 17, 2013</font></a></p> <p><a href=\"http://www.imf.org/external/np/sec/pn/2012/pn12125.htm\" target = \"_blank\" STYLE=\"TEXT-DECORATION: NONE\"><font color=\"#787878\">IMF Executive Board Reviews Progress in Members' Provision of Data to the Fund for Surveillance Purposes, No. 12/125, November 14, 2012</font></a></p> <p><a href=\"http://www.imf.org/external/np/sec/pn/2011/pn1161.htm\" target = \"_blank\" STYLE=\"TEXT-DECORATION: NONE\"><font color=\"#787878\">IMF Executive Board Discusses Monitoring Financial Interconnectedness, Including the Data Template for Global Systemically Important Financial Institutions, No. 11/61, May 25, 2011</font></a></p> <p><a href=\"http://www.imf.org/external/np/sec/pn/2010/pn10149.htm\" target = \"_blank\" STYLE=\"TEXT-DECORATION: NONE\"><font color=\"#787878\">IMF Executive Board Completes the 2010 Review of SDR Valuation, No. 10/149, November 17, 2010</font></a></p> <p><a href=\"http://www.imf.org/external/np/sec/pn/2008/pn0860.htm\" target = \"_blank\" STYLE=\"TEXT-DECORATION: NONE\"><font color=\"#787878\">IMF Executive Board Reviews Progress in Members' Provision of Data to the Fund for Surveillance Purposes, No. 08/60, May 27, 2008</font></a></p> <p><a href=\"http://www.imf.org/external/np/sec/pr/2005/pr05284.htm\" target = \"_blank\" STYLE=\"TEXT-DECORATION: NONE\"><font color=\"#787878\">IMF Launches Quarterly Publication of Data on the Currency Composition of Official Foreign Exchange Reserves , No. 05/284, December 21, 2005</font></a></p>, created : 12/23/2022 ,concept: 12/23/2022, topic: Home Page\n",
      " title : Coordinated Portfolio Investment Survey (CPIS)  , description : The Coordinated Portfolio Investment Survey (CPIS) is a voluntary data collection exercise conducted under the auspices of the IMF. An economy provides data on its holdings of portfolio investment securities (data are separately requested for equity and investment fund shares, long-term debt instruments, and short-term debt instruments)., periodicity : Semi-annual, lase modified : 09/14/2022, created : <a href=\"http://www.imf.org/external/pubs/ft/cpis/2002/pdf/cpis_index.pdf\">CPIS Guide, second edition</a> ,concept: <a href=\"http://www.imf.org/external/pubs/ft/cpis/2002/pdf/cpis_index.pdf\">CPIS Guide, second edition</a>, topic: 512\n",
      " title : Consumer Price Index (CPI)  , description : Consumer price indexes (CPIs) are index numbers that measure changes in the prices of goods and services purchased or otherwise acquired by households, which households use directly, or indirectly, to satisfy their own needs and wants. In practice, most CPIs are calculated as weighted averages of the percentage price changes for a speciﬁed set, or ‘‘basket’’, of consumer products, the weights reﬂecting their relative importance in household consumption in some period. CPIs are widely used to index pensions and social security benefits. CPIs are also used to index other payments, such as interest payments or rents, or the prices of bonds. CPIs are also commonly used as a proxy for the general rate of inﬂation, even though they measure only consumer inﬂation. They are used by some governments or central banks to set inﬂation targets for purposes of monetary policy. The price data collected for CPI purposes can also be used to compile other indices, such as the price indices used to deﬂate household consumption expenditures in national accounts, or the purchasing power parities used to compare real levels of consumption in different countries.  In an effort to further coordinate and harmonize the collection of CPI data, the international organizations agreed that the International Monetary Fund (IMF) and the Organisation for Economic Cooperation and Development (OECD) would assume responsibility for the international collection and dissemination of national CPI data. Under this data collection initiative, countries are reporting the aggregate all items index; more detailed indexes and weights for 12 subgroups of consumption expenditure (according to the so-called COICOP-classification), and detailed metadata. These detailed data represent a valuable resource for data users throughout the world and this portal would not be possible without the ongoing cooperation of all reporting countries. In this effort, the OECD collects and validates the data for their member countries, including accession and key partner countries, whereas the IMF takes care of the collection of data for all other countries., periodicity : Annual,Monthly,Quarterly, lase modified : 02/16/2023, created : <a href=\"http://www.ilo.org/public/english/bureau/stat/guides/cpi/index.htm#manual\" target = \"_blank\">Consumer Price Index Manual</i></a> ,concept: <a href=\"http://www.ilo.org/public/english/bureau/stat/guides/cpi/index.htm#manual\" target = \"_blank\">Consumer Price Index Manual</i></a>, topic: 512\n",
      " title : Direction of Trade (DOT)  , description : The <B>Direction of Trade Statistics (DOTS)</B> presents the value of merchandise exports and imports disaggregated according to a country's primary trading partners. Area and world aggregates are included in the display of trade flows between major areas of the world. Reported data is supplemented by estimates whenever such data is not available or current. Imports are reported on a cost, insurance and freight (CIF) basis and exports are reported on a free on board (FOB) basis, with the exception of a few countries for which imports are also available FOB. Time series data includes estimates derived from reports of partner countries for non-reporting and slow-reporting countries., periodicity : Annual,Monthly,Quarterly, lase modified : 02/03/2023, created : Guide to Direction of Trade Statistics, 1993. See Documents tab. ,concept: Guide to Direction of Trade Statistics, 1993. See Documents tab., topic: 512\n",
      " title : Export Diversification and Quality  , description : Covers 200 countries with data from 1962 to 2014. It has three main indicators: the Export Diversification Index, which can be disaggregated into sub-indices covering the Extensive Margin and the Intensive Margin. As these are Theil indices, higher values for all three correspond to lower export diversification., periodicity : Annual, lase modified : 07/07/2017, created : <a href=\"http://www.imf.org/en/Publications/WP/Issues/2016/12/31/Export-Quality-in-Developing-Countries-40536f\" target = \"_blank\" STYLE=\"TEXT-DECORATION: NONE\"><font color=\"#5D9F98\">Henn, C., C. Papageorgiou, N. Spatafora, 2013. “Export Quality in Developing Countries”, IMF Working Paper 13/108</a> ,concept: <a href=\"http://www.imf.org/en/Publications/WP/Issues/2016/12/31/Export-Quality-in-Developing-Countries-40536f\" target = \"_blank\" STYLE=\"TEXT-DECORATION: NONE\"><font color=\"#5D9F98\">Henn, C., C. Papageorgiou, N. Spatafora, 2013. “Export Quality in Developing Countries”, IMF Working Paper 13/108</a>, topic: 512\n",
      " title : Financial Access Survey (FAS)  , description : Contains 180 time series and 65 indicators that are expressed as ratios to GDP, land area, or adult population to facilitate cross-economy comparisons. Provision of FAS data is voluntary., periodicity : Annual, lase modified : <p><a href=\"http://www.imf.org/external/np/sec/pr/2015/pr15455.htm\" target = \"_blank\"STYLE=\"TEXT-DECORATION: NONE\"><font color=\"#5D9F98\">Press Release No. 15/455</font></a></p><p><a href=\"http://www.cgdev.org/blog/new-imf-database-financial-access-indicators\" target = \"_blank\"STYLE=\"TEXT-DECORATION: NONE\"><font color=\"#5D9F98\">Center for Global Development</font></a></p><p><a href=\"http://www.imf.org/external/np/sec/pr/2014/pr14425.htm\" target = \"_blank\"STYLE=\"TEXT-DECORATION: NONE\"><font color=\"#5D9F98\">Press Release No. 14/425</font></a></p><p><a href=\"http://www.imf.org/external/np/sec/pr/2013/pr13345.htm\" target = \"_blank\"STYLE=\"TEXT-DECORATION: NONE\"><font color=\"#5D9F98\">Press Release No. 13/345</font></a></p><p><a href=\"http://www.imf.org/external/np/sec/pr/2012/pr12320.htm\" target = \"_blank\"STYLE=\"TEXT-DECORATION: NONE\"><font color=\"#5D9F98\">Press Release No. 12/320</font></a></p><p><a href=\"http://www.imf.org/external/np/sec/pr/2011/pr11274.htm\" target = \"_blank\"STYLE=\"TEXT-DECORATION: NONE\"><font color=\"#5D9F98\">Press Release No. 11/274</font></a></p><p><a href=\"http://www.imf.org/external/np/sec/pr/2010/pr10270.htm\" target = \"_blank\"STYLE=\"TEXT-DECORATION: NONE\"><font color=\"#5D9F98\">Press Release No. 10/270</font></a></p><p><a href=\"http://www.imf.org/external/np/sec/pr/2009/pr09351.htm\" target = \"_blank\"STYLE=\"TEXT-DECORATION: NONE\"><font color=\"#5D9F98\">Press Release No. 09/351</font></a></p>, created : 02/11/2023 ,concept: 02/11/2023, topic: Annual data and metadata starting from 2004 onwards.\n",
      " title : Financial Development (FD)  , description : The dataset contains nine indices that summarize how developed financial institutions and financial marketsare in terms of their depth, access, and efficiency. These indices are aggregated into anoverall index of financial development. With the coverage of over 180 countries on annual frequencyfrom 1980 onwards, the database should offer a useful analytical tool for researchers andpolicy makers., periodicity : Annual, lase modified : 07/08/2022, created : The financial development index is constructed using a standard three-step approach on reducing multidimensional data into one summary index: (i) normalization of variables; (ii) aggregation of normalized variables into the sub-indices representing a particular functional dimension; and (iii) aggregation of the sub-indices into the final index (OECD Handbook on Constructing Composite Indicators, 2008). For details, please refer to the <a href=\"http://www.imf.org/external/pubs/ft/wp/2016/wp1605.pdf\" target = \"_blank\"><i> IMF Working Paper 1605 </i></a> ,concept: The financial development index is constructed using a standard three-step approach on reducing multidimensional data into one summary index: (i) normalization of variables; (ii) aggregation of normalized variables into the sub-indices representing a particular functional dimension; and (iii) aggregation of the sub-indices into the final index (OECD Handbook on Constructing Composite Indicators, 2008). For details, please refer to the <a href=\"http://www.imf.org/external/pubs/ft/wp/2016/wp1605.pdf\" target = \"_blank\"><i> IMF Working Paper 1605 </i></a>, topic: Annual\n",
      " title : Fiscal Decentralization  , description : The IMF’s Fiscal Decentralization Dataset compiles indicators widely used by academics and policymakers to assess recent trends, conduct benchmark analysis, and identify the causes, and consequences of fiscal decentralization for a global sample of IMF members., periodicity : Annual, lase modified : 08/26/2022, created : Fiscal decentralization indicators are computed using fiscal data on flows and stocks of the general government sector disaggregated between central and subnational government subsectors (state/provincial/regional, and local) measured within the framework of the Government Finance Statistics Manual, 2014.     Please refer to the methodological note  \"The IMF’s Fiscal Decentralization Dataset: A Primer to the 2018 Vintage\" by Victor Lledo, Clement Ncuti, Moses Kabanda, Christina Hu and Yuan Xiang for a detailed description of the formulas used to compute each fiscal decentralization indicator. ,concept: Fiscal decentralization indicators are computed using fiscal data on flows and stocks of the general government sector disaggregated between central and subnational government subsectors (state/provincial/regional, and local) measured within the framework of the Government Finance Statistics Manual, 2014.     Please refer to the methodological note  \"The IMF’s Fiscal Decentralization Dataset: A Primer to the 2018 Vintage\" by Victor Lledo, Clement Ncuti, Moses Kabanda, Christina Hu and Yuan Xiang for a detailed description of the formulas used to compute each fiscal decentralization indicator., topic: 512\n",
      " title : Fiscal Monitor (FM)  , description : The Fiscal Monitor surveys and analyzes the latest public finance developments, it updates fiscal implications of the crisis and medium-term fiscal projections, and assesses policies to put public finances on a sustainable footing., periodicity : Annual, lase modified : <p><a href=\"https://blogs.imf.org/2018/04/18/bringing-down-high-debt/\" target = \"_blank\">Bringing Down High Debt</a></p><p><a href=\"https://blogs.imf.org/2018/04/12/the-digital-gamble-new-technology-transforms-fiscal-policy/\" target = \"_blank\">The Digital Gamble: New Technology Transforms Fiscal Policy</a></p><p><a href=\"https://blog-imfdirect.imf.org/2016/10/05/big-bad-actors-a-global-view-of-debt/\" target = \"_blank\">Big Bad Actors: A Global View of Debt</a></p><p><a href=\"http://www.imf.org/en/News/Articles/2016/10/04/AM16NAFISCALMONITOR100416\" target = \"_blank\">Low Growth, Inflation Hamper Debt Reduction</a></p><p><a href=\"https://blog-imfdirect.imf.org/2016/04/13/act-now-act-together/\" target = \"_blank\">Act Now, Act Together</a></p><p><a href=\"https://blog-imfdirect.imf.org/2016/03/31/imagine-what-fiscal-policy-could-do-for-innovation/\" target = \"_blank\">Imagine What Fiscal Policy Could Do For Innovation</a></p><p><a href=\"http://blog-imfdirect.imf.org/2015/04/08/growth-dividend-from-stabilizing-fiscal-policies/\" target = \"_blank\">Growth Dividend from Stabilizing Fiscal Policies</a></p><p><a href=\"http://blog-imfdirect.imf.org/2014/10/08/smart-fiscal-policy-will-help-jobs/\" target = \"_blank\">Smart Fiscal Policy Will Help Jobs</a></p>, created : 10/12/2022 ,concept: 10/12/2022, topic: Home Page\n",
      " title : Financial Soundness Indicators (FSI)  , description : The Reporting entities dataset provides information on the structure, size, and coverage of the financial institutions that are used for compiling financial soundness indicators. It provides a better understanding of the structure of the reporting entities in terms of the type of institution, number of entities, size of assets, and type of control., periodicity : Annual, lase modified : 02/17/2023, created : Reporting entities are domestically incorporated entities but are divided into two: domestically controlled and foreign controlled. The concepts of residency criterion and control are determined based on FSI Guide methodology which is in line with international best practices such as Systems of National Accounts. ,concept: Reporting entities are domestically incorporated entities but are divided into two: domestically controlled and foreign controlled. The concepts of residency criterion and control are determined based on FSI Guide methodology which is in line with international best practices such as Systems of National Accounts., topic: Daily\n",
      " title : Financial Soundness Indicators (FSI)  , description : The Financial Soundness Indicators (FSIs), developed by the IMF together with the international community, are aimed at supporting macroprudential analysis—the surveillance and assessment of the strengths and vulnerabilities of financial systems. FSIs are macroprudential statistics aimed at filling the gap between macroeconomic statistics and micro-prudential data., periodicity : Annual,Monthly,Quarterly, lase modified : 02/17/2023, created : FSIs are compiled based on the <i>FSI Compilation Guide</i> (available on the Documents tab). Please see also the Concepts and Definitions document. The<i> FSI Compilation Guide</i> is revised periodically to reflect new developments in the regulatory and accounting frameworks and in response to additional data need. ,concept: FSIs are compiled based on the <i>FSI Compilation Guide</i> (available on the Documents tab). Please see also the Concepts and Definitions document. The<i> FSI Compilation Guide</i> is revised periodically to reflect new developments in the regulatory and accounting frameworks and in response to additional data need., topic: Daily\n",
      " title : Gender  , description : Access data, visualizations, and stories that portray results of the IMF's research on gender and economics or create your own charts and analysis. This dataset includes gender inequality and development indices., periodicity : Annual, lase modified : 01/16/2017, created : Home Page ,concept: Home Page, topic: AF\n",
      " title : Government Finance Statistics (GFS)  , description : This dataset provides a comprehensive view of  the functions, or socioeconomic objectives, that government aims to achieve through various kinds of expenditure, comprising detailed classifications of general public service, defense, public order and safety, economic affairs, environment protection, housing and community services, health, recreation, culture and religion, education, and social protection services., periodicity : Annual, lase modified : 02/11/2023, created : Government Finance Statistics Manual 2014 (GFSM 2014) ,concept: Government Finance Statistics Manual 2014 (GFSM 2014), topic: Fiscal Sector\n",
      " title : Government Finance Statistics (GFS)  , description : This dataset provides a comprehensive view of government expense, including detailed classifications of compensation of employees, use of goods and services, consumption of fixed capital, interest payable, subsidies payable, grants payable, social benefits, and other expense., periodicity : Annual, lase modified : 02/11/2023, created : Government Finance Statistics Manual 2014 (GFSM 2014) ,concept: Government Finance Statistics Manual 2014 (GFSM 2014), topic: Fiscal Sector\n",
      " title : Government Finance Statistics (GFS)  , description : This dataset provides an overview of total financial assets and liabilities classified by the sector to which the counterparty claim belongs. The counterpart sectors include nonfinancial corporations, the central bank, deposit taking corporations, other financial corporation sectors, government sectors, international organizations, external financial corporations, external general government, and other external sectors., periodicity : Annual, lase modified : 02/11/2023, created : Government Finance Statistics Manual 2014 (GFSM 2014) ,concept: Government Finance Statistics Manual 2014 (GFSM 2014), topic: Fiscal Sector\n",
      " title : Government Finance Statistics (GFS)  , description : This dataset provides a comprehensive view of the integrated balance sheet. In other words, changes between the opening and closing stock positions in assets and liabilities are explained through transactions, holding gains/losses, and other changes in the volume of assets and liabilities. Data on net investment in nonfinancial assets – a component of total expenditure – on its components and related stock positions are provided., periodicity : Annual, lase modified : 02/11/2023, created : Government Finance Statistics Manual 2014 (GFSM 2014) ,concept: Government Finance Statistics Manual 2014 (GFSM 2014), topic: Fiscal Sector\n",
      " title : Government Finance Statistics (GFS)  , description : This dataset provides an overview of government operations and stock positions, as well as several derived balances. The Statement of Government Operations shows revenue and expense, with their main components, the operating balance and net lending/net borrowing, as well as financing. The Balance sheet shows stock positions in assets and liabilities, with their main components, as well as net worth and net financial worth. In addition, data on gross debt and net debt are included., periodicity : Annual, lase modified : 02/11/2023, created : Government Finance Statistics Manual 2014 (GFSM 2014) ,concept: Government Finance Statistics Manual 2014 (GFSM 2014), topic: Fiscal Sector\n",
      " title : Government Finance Statistics (GFS)  , description : This dataset provides a comprehensive view of government revenue, including detailed classifications of taxes, social contributions, grants receivable, and other revenue., periodicity : Annual, lase modified : 02/11/2023, created : Government Finance Statistics Manual 2014 (GFSM 2014) ,concept: Government Finance Statistics Manual 2014 (GFSM 2014), topic: Fiscal Sector\n",
      " title : Government Finance Statistics (GFS)  , description : This dataset provides an overview of government’s cash flows, as summarized in the Statement of Sources and Uses of Cash, for those countries  compiling GFS on a noncash basis (for example, an accrual basis) and are also including a cash flow statement., periodicity : Annual, lase modified : 02/11/2023, created : Government Finance Statistics Manual 2014 (GFSM 2014) ,concept: Government Finance Statistics Manual 2014 (GFSM 2014), topic: Fiscal Sector\n",
      " title : Historical Public Debt (HPDD)  , description : The Historical Public Debt Database contains unbalanced panel data on Gross Domestic Product, Gross Government Debt, and Gross Government Debt-to-GDP Ratio for 187 countries. The series spans the years 1800 through 2015 although each country’s data depends on its date of independence and data availability. The database was constructed by bringing together a number of other datasets and information from original sources. For the most recent years, the data are linked to the IMF World Economic Outlook (WEO) database to facilitate regular updates., periodicity : 187 countries, lase modified : The dataset is comprised of spliced data taken from the WEO and IMF Staff Reports., created : Fiscal ,concept: Fiscal, topic: AF\n",
      " title : International Financial Statistics (IFS)  , description : The International Financial Statistics database covers about 200 countries and areas, with some aggregates calculated for selected regions, plus some world totals. Topics covered include balance of payments, commodity prices, exchange rates,  fund position, government finance, industrial production, interest rates, international investment position, international liquidity, international transactions, labor statistics, money and banking, national accounts, population, prices, and real effective exchange rates., periodicity : Annual,Monthly,Quarterly, lase modified : 02/13/2023, created : The International Financial Statistics is based on various IMF data collections. It includes exchange rates series for all Fund member countries plus Anguilla, Aruba, China, P.R.: Hong Kong, China, P.R.: Macao, Montserrat, and the Netherlands Antilles. It also includes major Fund accounts series, real effective exchange rates, and other world, area, and country series. Data are available for most IMF member countries with some aggregates calculated for select regions, plus some world totals. ,concept: The International Financial Statistics is based on various IMF data collections. It includes exchange rates series for all Fund member countries plus Anguilla, Aruba, China, P.R.: Hong Kong, China, P.R.: Macao, Montserrat, and the Netherlands Antilles. It also includes major Fund accounts series, real effective exchange rates, and other world, area, and country series. Data are available for most IMF member countries with some aggregates calculated for select regions, plus some world totals., topic: Monthly\n",
      " title : International Reserves and Foreign Currency Liquidity (IRFCL)  , description : The Data Template on International Reserves and Foreign Currency Liquidity is an innovative single framework that integrates the concept of international reserves and foreign currency liquidity by covering data on on-balance-sheet and off-balance-sheet international financial activities of country authorities as well as supplementary information. It aims to provide a comprehensive account of official foreign currency assets and drains on such resources arising from various foreign/domestic currency liabilities and commitments of the authorities., periodicity : Monthly,Weekly, lase modified : 02/16/2023, created : Please see the Guidelines for a Data Template on International Reserves and Foreign Currency Liquidity on the Documents Tab. ,concept: Please see the Guidelines for a Data Template on International Reserves and Foreign Currency Liquidity on the Documents Tab., topic: Daily\n",
      " title : MCD Regional Economic Outlook (MCDREO)  , description : Economic developments in the Middle East, North Africa, Afghanistan, and Pakistan (MENAP) continue to reflect the diversity of conditions prevailing across the region. Most high-income oil exporters, primarily in the GCC, continue to record steady growth and solid economic and financial fundamentals, albeit with medium-term challenges that need to be addressed. In contrast, other countries --Iraq, Libya, Syria -- mired in conflicts with not just humanitarian but also economic consequences. And yet other countries, mostly oil importers, are making continued but uneven progress in advancing their economic agenda, often in tandem with political transitions and amidst difficult social conditions. In most of these countries, without extensive economic and structural reforms, economic prospects for the medium term remain insufficient to reduce high unemployment and improve living standards. Economic activity in the Caucasus and Central Asia (CCA) region is weakening, mainly because of the near-term slowdown and rising regional tensions affecting Russia, a key trading partner and sources of remittance and investment inflows, as well as weaker domestic demand in a number of CCA countries. Near-term risks are to the downside and tied to the fortunes of large trading partners. Policies need to focus on bolstering economic stability and, where needed, short-term support to ailing economic growth. In addition, a new model for high, sustained, diversified, and inclusive growth is needed to set the direction for economic policies for the next decade., periodicity : Annual,Quarterly, lase modified : <p><a href=\"http://www.imf.org/external/np/speeches/2016/032216.htm\" target = \"_blank\" STYLE=\"TEXT-DECORATION: NONE\"><font color=\"#989898\">Introductory Remarks for Long-Term Growth Prospects in the Middle East and Central Asia</font></a></p><p><a href=\"http://blog-imfdirect.imf.org/2014/08/01/links-and-levers-how-the-caucasus-and-central-asia-are-tied-to-russia/\" target = \"_blank\" STYLE=\"TEXT-DECORATION: NONE\"><font color=\"#989898\">Links and Levers: How the Caucasus and Central Asia Are Tied to Russia</font></a></p><p><a href=\"http://blog-imfdirect.imf.org/2014/04/11/arab-economic-transformation-amid-political-transitions/\" target = \"_blank\" STYLE=\"TEXT-DECORATION: NONE\"><font color=\"#989898\">Arab Economic Transformation amid Political Transitions</font></a></p><p><a href=\"http://blog-imfdirect.imf.org/2013/03/27/support-the-people-not-energy-in-the-middle-east-and-north-africa/\" target = \"_blank\" STYLE=\"TEXT-DECORATION: NONE\"><font color=\"#989898\">Support the People, Not Energy, in the Middle East and North Africa</font></a></p><p><a href=\"http://blog-imfdirect.imf.org/2013/03/27/support-the-people-not-energy-in-the-middle-east-and-north-africa/\" target = \"_blank\" STYLE=\"TEXT-DECORATION: NONE\"><font color=\"#989898\">Financial Support for Arab Countries in Transition</font></a></p><p><a href=\"http://blog-imfdirect.imf.org/2013/02/28/moving-beyond-crisis-management-in-the-west-bank-and-gaza/\" target = \"_blank\" STYLE=\"TEXT-DECORATION: NONE\"><font color=\"#989898\">Moving Beyond Crisis Management in the West Bank and Gaza</font></a></p><p><a href=\"http://blog-imfdirect.imf.org/2013/12/19/pakistan-the-realities-of-economic-reform/\" target = \"_blank\" STYLE=\"TEXT-DECORATION: NONE\"><font color=\"#989898\">Pakistan: The Realities of Economic Reform</font></a></p><p><a href=\"http://www.imf.org/external/np/vc/2014/050514.htm\" target = \"_blank\" STYLE=\"TEXT-DECORATION: NONE\"><font color=\"#989898\">Time for More Jobs and Growth in the Arab Countries in Transition (Masood Ahmed)</font></a></p><p><a href=\"http://www.imf.org/external/np/vc/2013/053013.htm\" target = \"_blank\" STYLE=\"TEXT-DECORATION: NONE\"><font color=\"#989898\">New Rules Needed for Setting Energy Prices in the Middle East (Masood Ahmed)</font></a></p><p><a href=\"http://www.imf.org/external/np/vc/2013/051913.htm\" target = \"_blank\" STYLE=\"TEXT-DECORATION: NONE\"><font color=\"#989898\">Growth and Jobs to Meet the Aspirations of the Arab Countries in Transition (Masood Ahmed)</font></a></p>, created : 10/30/2022 ,concept: 10/30/2022, topic: Annual data.\n",
      " title : Primary Commodity Prices  , description : Indices in terms of dollars or sdrs, indices of market prices for non-fuel commodities and petroleum, actual market prices for non-fuel commodities and petroleum, and average weekly prices for non-fuel commodities and petroleum., periodicity : Annual,Monthly,Quarterly, lase modified : 02/09/2023, created : <p>Prices are period averages in nominal U.S. dollars. </p><p>The current and the previous weights are provided in the comparison table on the website. The weights are calculated about every 5 years. The weights in the commodity basket reflect the structure of trade in 2014-2016. The choice of years reflects the desire of getting the most updated weights possible but still having sufficient data to improve accuracy. As part of the update, a thorough research into the basket of commodities was conducted to see whether the items included earlier are still representative in global commodities trade. The rule of thumb is that their share in total commodities trade has to be 1 percent or more of total commodities trade, in value terms. </p><p>Also, commodity descriptions, sources and weights are available as part of the dataset.</p><p>Price indices are based in 2016 (average of 2016 = 100). First individual commodity price indices are calculate in U.S. dollar and SDR terms, basing the price series in those currencies in 2016. Group indices are weighted averages of individual commodity price indices, with respective commodity weights derived from their relative trade values compared to the total world trade as reported in the UN Comtrade database.</p><p>Price indices are based in 2005 (average of 2005 = 100). First individual commodity price indices are calculate in U.S. dollar and SDR terms, basing the price series in those currencies in 2005. Group indices are weighted averages of individual commodity price indices, with respective commodity weights derived from their relative trade values compared to the total world trade as reported in the UN Comtrade database.</p> ,concept: <p>Prices are period averages in nominal U.S. dollars. </p><p>The current and the previous weights are provided in the comparison table on the website. The weights are calculated about every 5 years. The weights in the commodity basket reflect the structure of trade in 2014-2016. The choice of years reflects the desire of getting the most updated weights possible but still having sufficient data to improve accuracy. As part of the update, a thorough research into the basket of commodities was conducted to see whether the items included earlier are still representative in global commodities trade. The rule of thumb is that their share in total commodities trade has to be 1 percent or more of total commodities trade, in value terms. </p><p>Also, commodity descriptions, sources and weights are available as part of the dataset.</p><p>Price indices are based in 2016 (average of 2016 = 100). First individual commodity price indices are calculate in U.S. dollar and SDR terms, basing the price series in those currencies in 2016. Group indices are weighted averages of individual commodity price indices, with respective commodity weights derived from their relative trade values compared to the total world trade as reported in the UN Comtrade database.</p><p>Price indices are based in 2005 (average of 2005 = 100). First individual commodity price indices are calculate in U.S. dollar and SDR terms, basing the price series in those currencies in 2005. Group indices are weighted averages of individual commodity price indices, with respective commodity weights derived from their relative trade values compared to the total world trade as reported in the UN Comtrade database.</p>, topic: Monthly data are updated in the first full week of each month, typically by Wednesday.\n",
      " title : Primary Commodity Prices  , description : Country-specific commodity price indices, including export, import, and terms-of-trade indices. For each country, the change in the international price of up to 45 individual commodities is weighted using commodity-level trade data. See <b><i><a href=\"https://www.imf.org/en/Publications/WP/Issues/2019/01/24/Commodity-Terms-of-Trade-A-New-Database-46522\" target = \"_blank\">“Commodity Terms of Trade: A New Database,”</a></b></i> by Bertrand Gruss and Suhaib Kebhaj, for further details., periodicity : Annual,Monthly, lase modified : 01/31/2023, created : The country-specific indices are constructed using, alternatively, time-varying weights (using average trade flows over the precedingthree years) and fixed weights (based on average trade flows over several decades). ,concept: The country-specific indices are constructed using, alternatively, time-varying weights (using average trade flows over the precedingthree years) and fixed weights (based on average trade flows over several decades)., topic: Real Sector\n",
      " title : Public Sector Balance Sheet (PSBS)(FAD)  , description : Annual, periodicity : 06/17/2020, lase modified : Fiscal Sector, created : 512 ,concept: 512, topic: Albania\n",
      " title : Main  , description : Revenue Administration Fiscal Information Tool (RA-FIT), periodicity : This database contains summary statistics of the country data collected during the second round of RA-FIT., lase modified : 5 regions: Sub-Saharan Africa (AFR), Asia & Pacific (APD), Europe (EUR), Middle East & Central Asia (MCD), Western Hemisphere (WHD)4 income groups: Low income countries (LIC), Lower middle income countries (LMIC), Upper middle income countries (UMIC), High income countries (HIC), created : 02/22/2017 ,concept: 02/22/2017, topic: 2011-2013\n",
      " title : WHD Regional Economic Outlook (WHDREO)  , description : The WHD Regional Economic Outlook (REO) provides information on recent economic developments and prospects for countries in the Western Hemisphere. Data for the Western Hemisphere REO are prepared in conjunction and are consistent with the semi-annual World Economic Outlook (WEO) exercises. REO aggregate data may differ from WEO aggregates due to differences in group membership. Composite data for country groups are weighted averages of data for individual countries. Arithmetic weighted averages are used for all concepts except for inflation and broad money, for which geometric averages are used. PPP GDP weights from the WEO database are used for the aggregation of real GDP growth, real non-oil GDP growth, real per capita GDP growth, investment, national savings, broad money, claims on the nonfinancial private sector, and real and nominal effective exchange rates. Aggregates for other concepts are weighted by GDP in U.S. dollars at market exchange rates., periodicity : Anguilla; Antigua and Barbuda; Argentina; Bahamas, The; Barbados; Belize; Bolivia; Brazil; Canada; Chile; Colombia; Costa Rica; Dominica; Dominican Republic; Eastern Caribbean Currency Union; Ecuador; El Salvador; Grenada; Guatemala; Guyana; Haiti; Honduras; Jamaica; Mexico; Montserrat; Nicaragua; Panama; Paraguay; Peru; St. Kitts and Nevis; St. Lucia; St. Vincent and the Grenadines; Suriname; Trinidad and Tobago; United States; Uruguay; Venezuela., lase modified : WHD REO follows WEO methodology. The WHD REO publication contains additional information on assumptions, conventions, and country groupings. See Documents tab., created : National Accounts, Prices, Government and Public Sector Finance, and Balance of Payments. ,concept: National Accounts, Prices, Government and Public Sector Finance, and Balance of Payments., topic: nan\n",
      " title : World Revenue Longitudinal Data (WoRLD)  , description : The IMF’s World Revenue Longitudinal Data set (WoRLD) is a compilation of government tax and non-tax revenues from the IMF’s Government Finance Statistics and World Economic Outlook, and drawing on the OECD Revenue Statistics and Revenue Statistics in Latin American and the Caribbean., periodicity : 189 countries., lase modified : The dataset comprises of spliced revenue data taken from the following sources: WEO, GFS, OECD and various IMF Staff Reports., created : Fiscal ,concept: Fiscal, topic: nan\n"
     ]
    }
   ],
   "source": [
    "import os\n",
    "import shutil\n",
    "import zipfile\n",
    "import pandas as pd\n",
    "metadata_files = []\n",
    "data_files = []\n",
    "base_path = 'C:\\\\Users\\\\10235555\\\\Documents\\\\Dataportal Data\\\\IMF'\n",
    "for zipfiles in os.listdir(base_path):\n",
    "    if zipfiles.endswith('zip'):\n",
    "        zip = zipfile.ZipFile(f'{base_path}\\\\{zipfiles}')\n",
    "        # print(zip.namelist())\n",
    "        files = zip.namelist()\n",
    "        f = zip.open(files[1])\n",
    "        df = pd.read_csv(f)\n",
    "        title = df.iloc[1,-2]\n",
    "        description = df.iloc[2,-2]\n",
    "        periodicity = df.iloc[3,-2]\n",
    "        last_modified = df.iloc[5,-2]\n",
    "        created = df.iloc[5,-2]\n",
    "        concept = df.iloc[6,-2]\n",
    "        topic = df.iloc[11,-2]\n",
    "        \n",
    "        # shutil.unpack_archive(f\"{base_path}\\\\{zipfiles}\", base_path)\n",
    "        # if 'Metadata' in zipfiles:\n"
   ]
  }
 ],
 "metadata": {
  "kernelspec": {
   "display_name": "Python 3",
   "language": "python",
   "name": "python3"
  },
  "language_info": {
   "codemirror_mode": {
    "name": "ipython",
    "version": 3
   },
   "file_extension": ".py",
   "mimetype": "text/x-python",
   "name": "python",
   "nbconvert_exporter": "python",
   "pygments_lexer": "ipython3",
   "version": "3.11.0"
  },
  "orig_nbformat": 4,
  "vscode": {
   "interpreter": {
    "hash": "69e035e7e91c91f4a781d2e2d4ddd23f591a0aa5fdf41d28e15c78aec28956a8"
   }
  }
 },
 "nbformat": 4,
 "nbformat_minor": 2
}
