{
 "cells": [
  {
   "cell_type": "code",
   "execution_count": 6,
   "metadata": {},
   "outputs": [],
   "source": [
    "from selenium import webdriver\n",
    "from selenium.webdriver.common.keys import Keys\n",
    "from selenium.webdriver.common.by import By\n",
    "from selenium.webdriver.support.ui import WebDriverWait\n",
    "from selenium.common.exceptions import ElementNotInteractableException, NoSuchElementException\n",
    "from selenium.common.exceptions import ElementClickInterceptedException\n",
    "from selenium.webdriver.support import expected_conditions as EC\n",
    "from selenium.webdriver.chrome.service import Service\n",
    "from webdriver_manager.chrome import ChromeDriverManager\n",
    "from webdriver_manager.firefox import GeckoDriverManager\n",
    "from selenium.webdriver.firefox.options import Options\n",
    "from bs4 import BeautifulSoup\n",
    "import shutil\n",
    "import time\n",
    "import os\n",
    "from pyshadow.main import Shadow\n",
    "from py7zr import unpack_7zarchive\n",
    "from RequestInferSchemaToJsonAPI.main import TriggerInferShemaToJsonAPI\n",
    "base_path = 'C:\\\\Users\\\\10235555\\\\Documents\\\\Dataportal Data\\\\ITU SDG indicators'"
   ]
  },
  {
   "cell_type": "code",
   "execution_count": 7,
   "metadata": {},
   "outputs": [],
   "source": [
    "chrome_options = webdriver.ChromeOptions()\n",
    "base_path = \"C:\\\\Users\\\\10235555\\\\Documents\\\\Dataportal Data\\\\ITU SDG indicators\" # local, gets current working directory\n",
    "prefs = {'download.default_directory' : base_path}#, \"profile.content_settings.exceptions.automatic_downloads.*.setting\" : 1}\n",
    "# prefs = {\"download.default_directory\": base_path , # pass the variable\n",
    "#                    \"download.prompt_for_download\": False,\n",
    "#                    \"directory_upgrade\": True,\n",
    "#                    \"safebrowsing.enabled\": True }\n",
    "chrome_options.add_experimental_option('prefs', prefs)\n",
    "chrome_options.add_argument('--user-agent=\"Mozilla/5.0 (Windows Phone 10.0; Android 4.2.1; Microsoft; Lumia 640 XL LTE) AppleWebKit/537.36 (KHTML, like Gecko) Chrome/42.0.2311.135 Mobile Safari/537.36 Edge/12.10166\"')\n",
    "driver = webdriver.Chrome(service=Service(ChromeDriverManager().install()), options=chrome_options)\n",
    "# driver = webdriver.Chrome(service=Service(ChromeDriverManager().install()))\n",
    "driver.maximize_window()"
   ]
  },
  {
   "cell_type": "code",
   "execution_count": 8,
   "metadata": {},
   "outputs": [],
   "source": [
    "driver.get('https://www.itu.int/en/ITU-D/Statistics/Pages/SDGs-ITU-ICT-indicators.aspx')\n"
   ]
  },
  {
   "cell_type": "code",
   "execution_count": 9,
   "metadata": {},
   "outputs": [
    {
     "name": "stdout",
     "output_type": "stream",
     "text": [
      "Indicator 4.4.1, Proportion of youth and adults with ICT skills, by type of skills\n",
      "2022_4.4.1_SE_ADT_ACTS_mn.xlsx\n",
      "Indicator 5.b.1, Proportion of individuals who own a mobile telephone, by sex\n",
      "2022_5.b.1.xlsx\n",
      "Indicator 9.c.1, Proportion of population covered by a mobile network, by technology\n",
      "2022_9.c.1_all_combined.xlsx\n",
      "Indicator 17.6.1, Fixed Internet broadband subscriptions per 100 inhabitants, by speed\n",
      "2022_17.6.1-BBP.xlsx\n",
      "Indicator 17.8.1, Proportion of individuals using the Internet\n",
      "2022_17.8.1_IT_USE_ii99.xlsx\n"
     ]
    }
   ],
   "source": [
    "datasets = driver.find_element(By.CLASS_NAME,'contentNew._invisibleIfEmpty')\n",
    "list_datasets = datasets.find_element(By.TAG_NAME,'ul').find_elements(By.TAG_NAME,'li')\n",
    "for elem in list_datasets:\n",
    "    dataset = elem.text.replace(':',',')\n",
    "    download = elem.find_element(By.TAG_NAME,'a')\n",
    "    download.click()\n",
    "    time.sleep(1)\n",
    "    def latest_download_file():\n",
    "        path = base_path\n",
    "        os.chdir(path)\n",
    "        files = sorted(os.listdir(os.getcwd()), key=os.path.getmtime)\n",
    "        newest = files[-1]\n",
    "\n",
    "        return newest\n",
    "\n",
    "    fileends = \"crdownload\"\n",
    "    while \"crdownload\" == fileends:\n",
    "        time.sleep(5) \n",
    "        newest_file = latest_download_file()\n",
    "        if \"crdownload\" in newest_file:\n",
    "            fileends = \"crdownload\"\n",
    "            # time.sleep(5)\n",
    "        else:\n",
    "            fileends = \"None\"\n",
    "    latest_download_file() \n",
    "    file = max([base_path + \"\\\\\" + f for f in os.listdir(base_path)],key=os.path.getctime)\n",
    "    filename = os.path.split(file)[1]\n",
    "    print(dataset)\n",
    "    print(filename)"
   ]
  },
  {
   "cell_type": "code",
   "execution_count": 15,
   "metadata": {},
   "outputs": [
    {
     "name": "stdout",
     "output_type": "stream",
     "text": [
      "The data can be found in the World Telecommunication/ICT Indicators Database  and in the UN SDG Indicators Database. The metadata are also available on the UN website. For more SDG analysis, visit the UN Sustainable Developments Report 2021 or the Extended Report for SDG Goal 4.\n",
      "The data can be found in the World Telecommunication/ICT Indicators Database and in the UN SDG Indicators Database. The metadata are also available on the UN website. For more SDG analysis, visit the UN Sustainable Developments Report 2021 or the Extended Report for SDG Goal 5.\n",
      "The data can be found in the World Telecommunication/ICT Indicators Database  and in the UN SDG Indicators Database. The metadata are also available on the UN website. For more SDG analysis, visit the UN Sustainable Developments Report 2021 or the Extended Report for SDG Goal 9.\n",
      "The data can be found in the World Telecommunication/ICT Indicators Database  and in the UN SDG Indicators Database. The metadata are also available on the UN website. For more SDG analysis, visit the UN Sustainable Developments Report 2021 or the Extended Report for SDG Goal 17.\n",
      "The data can be found in the World Telecommunication/ICT Indicators Database  and in the UN SDG Indicators Database. The metadata are also available on the UN website. For more SDG analysis, visit the UN Sustainable Developments Report 2021 or the Extended Report for SDG Goal 17.\n"
     ]
    }
   ],
   "source": [
    "notes = driver.find_elements(By.CLASS_NAME,'ms-rteTableEvenCol-3')\n",
    "for note in notes:\n",
    "    descr = note.text.split('The data can be found')[0]\n",
    "    source = note.text.split('The data can be found')[1]\n",
    "    source = 'The data can be found' + source\n",
    "    # print(descr)\n",
    "    print(source)"
   ]
  },
  {
   "cell_type": "code",
   "execution_count": 28,
   "metadata": {},
   "outputs": [],
   "source": [
    "import urllib.request\n",
    "notes = driver.find_elements(By.CLASS_NAME,'ms-rteTableEvenCol-3')\n",
    "for note in notes:\n",
    "    links = note.find_elements(By.TAG_NAME,'a')\n",
    "    for link in links:\n",
    "        link_note = link.get_attribute('href')\n",
    "        if link_note.endswith('.pdf'):\n",
    "            if 'Metadata' in link_note:\n",
    "                pdf = link_note\n",
    "                pdf_name = pdf.split('files/')[1]\n",
    "                urllib.request.urlretrieve(pdf,f\"{base_path}\\\\{pdf_name}\")\n",
    "# links = driver.find_element(By.XPATH,\"//*[contains(text(), 'metadata ')]\")"
   ]
  },
  {
   "cell_type": "code",
   "execution_count": 29,
   "metadata": {},
   "outputs": [],
   "source": [
    "conten=[]\n",
    "import pdfplumber\n",
    "with pdfplumber.open(f\"{base_path}\\\\{pdf_name}\") as pdf:\n",
    "\n",
    "    text = pdf.pages\n",
    "    for te in text:\n",
    "        content = te.extract_text()\n",
    "        conten.append(content)\n",
    "content_all = ' '.join([str(elem) for elem in conten])"
   ]
  },
  {
   "cell_type": "code",
   "execution_count": 30,
   "metadata": {},
   "outputs": [
    {
     "data": {
      "text/plain": [
       "\"Last updated: 2021-08-20 \\nSDG indicator metadata\\n \\n(Harmonized metadata template - format version 1.1) \\n \\n0. Indicator information (SDG_INDICATOR_INFO) \\n0.a. Goal (SDG_GOAL) \\nGoal 17: Strengthen the means of implementation and revitalize the Global Partnership for Sustainable \\nDevelopment \\n0.b. Target (SDG_TARGET) \\nTarget 17.8: Fully operationalize the technology bank and science, technology and innovation capacity-\\nbuilding mechanism for least developed countries by 2017 and enhance the use of enabling technology, \\nin particular information and communications technology \\n0.c. Indicator (SDG_INDICATOR) \\nIndicator 17.8.1: Proportion of individuals using the Internet \\n0.d. Series (SDG_SERIES_DESCR) \\nNot Applicable \\n0.e. Metadata update (META_LAST_UPDATE) \\n2021-08-20 \\n0.f. Related indicators (SDG_RELATED_INDICATORS) \\n1.4, 2.c, 4.3, 4.4, 5.b, 9.c, 10.3, 12.8, 16.10, 16.6, 16.7, 16.10, 17.6 \\n0.g. International organisations(s) responsible for global monitoring \\n(SDG_CUSTODIAN_AGENCIES) \\nInternational Telecommunication Union (ITU) \\n \\n1. Data reporter (CONTACT) \\n1.a. Organisation (CONTACT_ORGANISATION) \\nInternational Telecommunication Union (ITU) \\n \\n2. Definition, concepts, and classifications (IND_DEF_CON_CLASS) \\n2.a. Definition and concepts (STAT_CONC_DEF) \\nDefinition: \\nThe indicator proportion of individuals using the Internet is defined as the proportion of individuals who \\nused the Internet from any location in the last three months. \\n \\nConcepts: \\nThe Internet is a worldwide public computer network. It provides access to a number of communication \\nservices including the World Wide Web and carries e-mail, news, entertainment and data files, \\nirrespective of the device used (not assumed to be only via a computer - it may also be by mobile \\ntelephone, tablet, PDA, games machine, digital TV etc.). Access can be via a fixed or mobile network. \\n  Last updated: 2021-08-20 \\n2.b. Unit of measure (UNIT_MEASURE) \\nPercentage of individuals \\n \\n2.c. Classifications (CLASS_SYSTEM) \\nFor countries that collect this data on the proportion of individuals using the Internet through an official \\nsurvey, and if data allow breakdown and disaggregation, the indicator can be broken down by region \\n(urban/rural), by sex, by age group, by educational level (ISCED), by labour force status (ILO), and by \\noccupation (ISCO). ITU collects data for all of these breakdowns from countries. \\n \\n3. Data source type and data collection method \\n(SRC_TYPE_COLL_METHOD) \\n3.a. Data sources (SOURCE_TYPE) \\nThe indicator proportion of individuals using the Internet is based on an internationally agreed definition \\nand methodology, which have been developed under the coordination of ITU, through its Expert Groups \\nand following an extensive consultation process with countries. It is also a core indicator of the \\nPartnership on Measuring ICT for Development's Core List of Indicators, which has been endorsed by the \\nUN Statistical Commission (last time in 2014). Data on individuals using the Internet are collected through \\nan annual questionnaire that ITU sends to national statistical offices (NSO). In this questionnaire ITU \\ncollects absolute values. The percentages are calculated a-posteriori. The survey methodology is verified \\nto ensure that it meets adequate statistical standards. The data are verified to ensure consistency with \\nprevious years’ data and situation of the country for other related indicators (ICT and economic). \\n \\nFor most developed and an increasing number of developing countries, the percentage of individuals \\nusing the Internet data are based on methodologically sound household surveys conducted by national \\nstatistical agencies. If the NSO has not collected Internet user statistics, then ITU estimates the \\npercentage of individuals using the Internet. \\n \\nData are usually not adjusted, but discrepancies in the definition, age scope of individuals, reference \\nperiod or the break in comparability between years are noted in a data note. For this reason, data are not \\nalways strictly comparable. \\n \\nSome countries conduct a household survey where the question on Internet use is included every year. \\nFor others, the frequency is every two or three years.  \\n \\nITU makes the indicator available for each year for 200 economies by using survey data and estimates for \\nalmost all countries of the world. \\n \\n3.b. Data collection method (COLL_METHOD) \\nData on individuals using the Internet are collected through an annual questionnaire that ITU sends to \\nnational statistical offices (NSO). In this questionnaire ITU collects absolute values. The percentages are \\ncalculated a-posteriori. The survey methodology is verified to ensure that it meets adequate statistical \\nstandards. The data are verified to ensure consistency with previous years’ data and situation of the \\ncountry for other related indicators (ICT and economic).  Last updated: 2021-08-20 \\n \\n3.c. Data collection calendar (FREQ_COLL) \\nVarious. Each survey has its own data collection cycle. ITU collects data twice a year from Member States, \\nin Q1 and in Q3. \\n \\n3.d. Data release calendar (REL_CAL_POLICY) \\nData are released twice a year, In July and December, in the World Telecommunication/ICT Indicators \\nDatabase. \\n \\n3.e. Data providers (DATA_SOURCE) \\nNational Statistical Office (NSO). \\n \\n3.f. Data compilers (COMPILING_ORG) \\nITU \\n \\n3.g. Institutional mandate (INST_MANDATE) \\nAs the UN specialized agency for ICTs, ITU is the official source for global ICT statistics, collecting ICT data \\nfrom its Member States.  \\n \\n4. Other methodological considerations (OTHER_METHOD) \\n4.a. Rationale (RATIONALE) \\nThe Internet has become an increasingly important tool to access public information, which is a relevant \\nmeans to protect fundamental freedoms. The number of Internet users has increased substantially over \\nthe last decade and access to the Internet has changed the way people live, communicate, work and do \\nbusiness. Internet uptake is a key indicator tracked by policy makers and others to measure the \\ndevelopment of the information society and the growth of Internet content – including user-generated \\ncontent – provides access to increasing amounts of information and services. \\n \\nDespite growth in networks, services and applications, information and communication technology (ICT) \\naccess and use is still far from equally distributed, and many people cannot yet benefit from the potential \\nof the Internet. This indicator highlights the importance of Internet use as a development enabler and \\nhelps to measure the digital divide, which, if not properly addressed, will aggravate inequalities in all \\ndevelopment domains. Classificatory variables for individuals using the Internet –such as age, sex, \\neducation level or labour force status – can help identify digital divides in individuals using the Internet. \\nThis information can contribute to the design of targeted policies to overcome those divides. \\n \\n4.b. Comment and limitations (REC_USE_LIM) \\nWhile the data on the percentage of individuals using the Internet are very reliable for countries that \\nhave collected the data through official household surveys, they are less reliable in cases where the \\nnumber of Internet users is estimated by ITU. ITU is encouraging all countries to collect data on this  Last updated: 2021-08-20 \\nindicator through official surveys and the number of countries with official data for this indicator is \\nincreasing. \\n \\n4.c. Method of computation (DATA_COMP) \\nFor countries that collect data on this indicator through an official survey, this indicator is calculated by \\ndividing the total number of in-scope individuals using the Internet (from any location) in the last 3 \\nmonths by the total number of in-scope individuals. For countries that have not carried out a survey, data \\nare estimated (by ITU) based on the number of Internet subscriptions and other socioeconomic indicators \\n(GNI per capita) and on the time series data. \\n \\n4.d. Validation (DATA_VALIDATION) \\nData are submitted by Member States to ITU. ITU checks and validates the data, in consultation with the \\nMember States.  \\n \\n4.e. Adjustments (ADJUSTMENT) \\nNo adjustments are made to the data submitted by countries. \\n \\n4.f. Treatment of missing values (i) at country level and (ii) at regional level \\n(IMPUTATION) \\n•  At country level \\n \\nIn the absence of official household surveys, ITU estimates the percentage of individuals using the \\nInternet (Internet users as a percentage of total population) using various techniques, such as hot-deck \\nimputation, regression models and time series forecast, using data such as income, education and other \\nICT indicators. \\n \\n•  At regional and global levels \\n \\nIn the absence of official household surveys, ITU estimates the percentage of individuals using the \\nInternet (Internet users as a percentage of total population) using various techniques, such as hot-deck \\nimputation, regression models and time series forecast, using data such as income, education and other \\nICT indicators. \\n \\n4.g. Regional aggregations (REG_AGG) \\nCountry-level data on the percentage of individuals using the Internet (Internet users as a percentage of \\ntotal population) are first estimated using various techniques, such as hot-deck imputation, regression \\nmodels and time series forecast. Hot-deck imputation uses data from countries with “similar” \\ncharacteristics, such as GNI per capita and geographic location. In cases when it is not possible to find an \\nadequate imputation based on similar cases, regression models based on a set of countries with relatively \\nsimilar characteristics are applied. \\n \\nOnce the country-level percentages are available for all countries, the number of Internet users are \\ncalculated by multiplying the percentages to the population of the country. The regional and world total  Last updated: 2021-08-20 \\nInternet users were calculated by summing the country-level data. The aggregate percentages were \\ncalculated by dividing the regional totals by the population of respective groups. \\n \\n4.h. Methods and guidance available to countries for the compilation of the data at \\nthe national level (DOC_METHOD) \\nITU Manual for Measuring ICT Access and Use by Households and Individuals 2020: \\nhttps://www.itu.int/en/ITU-D/Statistics/Pages/publications/manual.aspx  \\n \\n4.i. Quality management (QUALITY_MGMNT) \\nData are checked and validated by the ICT Data and Analytics (IDA) Division of the ITU. Countries are \\ncontacted to clarify and correct their submissions. \\n \\n4.j Quality assurance (QUALITY_ASSURE) \\nThe guidelines of the Manual for Measuring ICT Access and Use by Households and Individuals 2020 are \\nfollowed. \\n \\n4.k Quality assessment (QUALITY_ASSMNT) \\nThe guidelines of the Manual for Measuring ICT Access and Use by Households and Individuals 2020 are \\nfollowed. \\n \\n5. Data availability and disaggregation (COVERAGE) \\nData availability: \\nOverall, the indicator is available for more than 130 countries at least from one survey. \\n \\nITU makes the indicator available for each year for 200 economies by using survey data and estimates for \\nalmost all countries of the world. \\n \\nTime series: \\n2000 onwards \\n \\nDisaggregation: \\nFor countries that collect this data on the proportion of individuals using the Internet through an official \\nsurvey, and if data allow breakdown and disaggregation, the indicator can be broken down by region \\n(geographic and/or urban/rural), by sex, by age group, by educational level, by labour force status, and by \\noccupation. ITU collects data for all of these breakdowns from countries. \\n \\n6. Comparability / deviation from international standards \\n(COMPARABILITY) \\nSources of discrepancies: \\nDifferences between global and national figures may arise when countries use a different definition than \\nthe one agreed internationally and used by ITU. Discrepancies may also arise in cases where the age  Last updated: 2021-08-20 \\nscope of the surveys differs, or when the country only provides data for a certain age group and not the \\ntotal population. \\n \\n7. References and Documentation (OTHER_DOC) \\nURL: \\nhttp://www.itu.int/en/ITU-D/Statistics/Pages/default.aspx \\n \\nReferences: \\nITU Manual for Measuring ICT Access and Use by Households and Individuals 2020: \\nhttps://www.itu.int/en/ITU-D/Statistics/Pages/publications/manual.aspx  \\n \""
      ]
     },
     "execution_count": 30,
     "metadata": {},
     "output_type": "execute_result"
    }
   ],
   "source": [
    "content_all"
   ]
  },
  {
   "cell_type": "code",
   "execution_count": 55,
   "metadata": {},
   "outputs": [
    {
     "data": {
      "text/plain": [
       "' Unit of measure (UNIT_MEASURE) : Percentage of individuals :  : '"
      ]
     },
     "execution_count": 55,
     "metadata": {},
     "output_type": "execute_result"
    }
   ],
   "source": [
    "goal = content_all.split('0.a. Goal (SDG_GOAL) \\n')[1].split('0.b. Target (SDG_TARGET) \\n')[0].replace(' \\n',' ')\n",
    "target = content_all.split('0.b. Target (SDG_TARGET) \\n')[1].split('0.c. Indicator (SDG_INDICATOR) \\n')[0].replace(' \\n',' ')\n",
    "indicator = content_all.split('0.c. Indicator (SDG_INDICATOR) \\n')[1].split('0.d. Series (SDG_SERIES_DESCR) \\n')[0].replace(' \\n',' ')\n",
    "last_update = content_all.split('0.e. Metadata update (META_LAST_UPDATE) \\n')[1].split('0.f. Related indicators (SDG_RELATED_INDICATORS) \\n')[0].replace(' \\n',' ')\n",
    "definition = content_all.split('Definition: \\n')[1].split('Concepts: \\n')[0].replace(' \\n',' ')\n",
    "concept = content_all.split('Concepts: \\n')[1].split('2.b. Unit of measure (UNIT_MEASURE) \\n')[0].replace(' \\n',' ').split('   Last updated: 2021-08-20 ')[0]\n",
    "unit_measure = content_all.split('2.b.')[1].split('2.c.')[0].replace(' \\n',' : ')\n",
    "classification = content_all.split('2.c. Classifications (CLASS_SYSTEM) \\n')[1].split('3. Data source type and data collection method \\n')[0].replace(' \\n',' ')\n",
    "source = content_all.split('(SRC_TYPE_COLL_METHOD) \\n')[1].split('4. Other methodological considerations (OTHER_METHOD) \\n')[0].replace(' \\n',' ')\n",
    "coverage = content_all.split('5. Data availability and disaggregation (COVERAGE) \\n')[1].split('6. Comparability / deviation from international standards \\n')[0].replace(' \\n',' ')"
   ]
  },
  {
   "cell_type": "code",
   "execution_count": 5,
   "metadata": {},
   "outputs": [
    {
     "name": "stdout",
     "output_type": "stream",
     "text": [
      "Indicator 4.4.1, Proportion of youth and adults with ICT skills, by type of skills\n",
      "Indicator 4.4.1\n",
      "https://unstats.un.org/sdgs/metadata/files/Metadata-04-04-01.pdf\n",
      "https://unstats.un.org/sdgs/metadata/files/Metadata-04-04-01.pdf\n",
      "Indicator 5.b.1, Proportion of individuals who own a mobile telephone, by sex\n",
      "Indicator 5.b.1\n",
      "https://unstats.un.org/sdgs/metadata/files/Metadata-05-0b-01.pdf\n",
      "Indicator 9.c.1, Proportion of population covered by a mobile network, by technology\n",
      "Indicator 9.c.1\n",
      "https://unstats.un.org/sdgs/metadata/files/Metadata-09-0c-01.pdf\n",
      "Indicator 17.6.1, Fixed Internet broadband subscriptions per 100 inhabitants, by speed\n",
      "Indicator 17.6.1\n",
      "https://unstats.un.org/sdgs/metadata/files/Metadata-17-06-01.pdf\n",
      "Indicator 17.8.1, Proportion of individuals using the Internet\n",
      "Indicator 17.8.1\n",
      "https://unstats.un.org/sdgs/metadata/files/Metadata-17-08-01.pdf\n"
     ]
    }
   ],
   "source": [
    "from selenium import webdriver\n",
    "from selenium.webdriver.common.keys import Keys\n",
    "from selenium.webdriver.common.by import By\n",
    "from selenium.webdriver.support.ui import WebDriverWait\n",
    "from selenium.common.exceptions import ElementNotInteractableException, NoSuchElementException\n",
    "from selenium.common.exceptions import ElementClickInterceptedException\n",
    "from selenium.webdriver.support import expected_conditions as EC\n",
    "from selenium.webdriver.chrome.service import Service\n",
    "from webdriver_manager.chrome import ChromeDriverManager\n",
    "from webdriver_manager.firefox import GeckoDriverManager\n",
    "from selenium.webdriver.firefox.options import Options\n",
    "import urllib.request\n",
    "from bs4 import BeautifulSoup\n",
    "import shutil\n",
    "import time\n",
    "import os\n",
    "import pdfplumber\n",
    "from pyshadow.main import Shadow\n",
    "from py7zr import unpack_7zarchive\n",
    "from RequestInferSchemaToJsonAPI.main import TriggerInferShemaToJsonAPI\n",
    "base_path = 'C:\\\\Users\\\\10235555\\\\Documents\\\\Dataportal Data\\\\ITU SDG indicators'\n",
    "\n",
    "chrome_options = webdriver.ChromeOptions()\n",
    "base_path = \"C:\\\\Users\\\\10235555\\\\Documents\\\\Dataportal Data\\\\ITU SDG indicators\" # local, gets current working directory\n",
    "prefs = {'download.default_directory' : base_path}#, \"profile.content_settings.exceptions.automatic_downloads.*.setting\" : 1}\n",
    "# prefs = {\"download.default_directory\": base_path , # pass the variable\n",
    "#                    \"download.prompt_for_download\": False,\n",
    "#                    \"directory_upgrade\": True,\n",
    "#                    \"safebrowsing.enabled\": True }\n",
    "chrome_options.add_experimental_option('prefs', prefs)\n",
    "chrome_options.add_argument('--user-agent=\"Mozilla/5.0 (Windows Phone 10.0; Android 4.2.1; Microsoft; Lumia 640 XL LTE) AppleWebKit/537.36 (KHTML, like Gecko) Chrome/42.0.2311.135 Mobile Safari/537.36 Edge/12.10166\"')\n",
    "driver = webdriver.Chrome(service=Service(ChromeDriverManager().install()), options=chrome_options)\n",
    "# driver = webdriver.Chrome(service=Service(ChromeDriverManager().install()))\n",
    "driver.maximize_window()\n",
    "\n",
    "driver.get('https://www.itu.int/en/ITU-D/Statistics/Pages/SDGs-ITU-ICT-indicators.aspx')\n",
    "time.sleep(3)\n",
    "\n",
    "datasets = driver.find_element(By.CLASS_NAME,'contentNew._invisibleIfEmpty')\n",
    "list_datasets = datasets.find_element(By.TAG_NAME,'ul').find_elements(By.TAG_NAME,'li')\n",
    "for elem in list_datasets:\n",
    "    dataset = elem.text.replace(':',',')\n",
    "    indicator_report = elem.text.split(':')[0]\n",
    "    download = elem.find_element(By.TAG_NAME,'a')\n",
    "    # download.click()\n",
    "    time.sleep(1)\n",
    "    def latest_download_file():\n",
    "        path = base_path\n",
    "        os.chdir(path)\n",
    "        files = sorted(os.listdir(os.getcwd()), key=os.path.getmtime)\n",
    "        newest = files[-1]\n",
    "\n",
    "        return newest\n",
    "\n",
    "    fileends = \"crdownload\"\n",
    "    while \"crdownload\" == fileends:\n",
    "        time.sleep(5) \n",
    "        newest_file = latest_download_file()\n",
    "        if \"crdownload\" in newest_file:\n",
    "            fileends = \"crdownload\"\n",
    "            # time.sleep(5)\n",
    "        else:\n",
    "            fileends = \"None\"\n",
    "    latest_download_file() \n",
    "    file = max([base_path + \"\\\\\" + f for f in os.listdir(base_path)],key=os.path.getctime)\n",
    "    filename = os.path.split(file)[1]\n",
    "\n",
    "    notes = driver.find_elements(By.CLASS_NAME,'ms-rteTableEvenCol-3')\n",
    "    for note in notes:\n",
    "        if indicator_report in note.text:\n",
    "            links = note.find_elements(By.TAG_NAME,'a')\n",
    "            for link in links:\n",
    "                link_note = link.get_attribute('href')\n",
    "                if link_note.endswith('.pdf'):\n",
    "                    if 'Metadata' in link_note:\n",
    "                        pdf = link_note\n",
    "                        pdf_name = pdf.split('files/')[1]\n",
    "                        urllib.request.urlretrieve(pdf,f\"{base_path}\\\\{pdf_name}\")\n",
    "                        def latest_download_file():\n",
    "                            path = base_path\n",
    "                            os.chdir(path)\n",
    "                            files = sorted(os.listdir(os.getcwd()), key=os.path.getmtime)\n",
    "                            newest = files[-1]\n",
    "\n",
    "                            return newest\n",
    "\n",
    "                        fileends = \"crdownload\"\n",
    "                        while \"crdownload\" == fileends:\n",
    "                            time.sleep(5) \n",
    "                            newest_file = latest_download_file()\n",
    "                            if \"crdownload\" in newest_file:\n",
    "                                fileends = \"crdownload\"\n",
    "                                # time.sleep(5)\n",
    "                            else:\n",
    "                                fileends = \"None\"\n",
    "                        latest_download_file() \n",
    "                        conten=[]\n",
    "                        with pdfplumber.open(f\"{base_path}\\\\{pdf_name}\") as pdf:\n",
    "                            text = pdf.pages\n",
    "                            for te in text:\n",
    "                                content = te.extract_text()\n",
    "                                conten.append(content)\n",
    "                        content_all = ' '.join([str(elem) for elem in conten])\n",
    "                        goal = content_all.split('0.a. Goal (SDG_GOAL) \\n')[1].split('0.b. Target (SDG_TARGET) \\n')[0].replace(' \\n',' ')\n",
    "                        target = content_all.split('0.b. Target (SDG_TARGET) \\n')[1].split('0.c. Indicator (SDG_INDICATOR) \\n')[0].replace(' \\n',' ')\n",
    "                        indicator = content_all.split('0.c. Indicator (SDG_INDICATOR) \\n')[1].split('0.d. Series (SDG_SERIES_DESCR) \\n')[0].replace(' \\n',' ')\n",
    "                        last_update = content_all.split('0.e. Metadata update (META_LAST_UPDATE) \\n')[1].split('0.f. Related indicators (SDG_RELATED_INDICATORS) \\n')[0].replace(' \\n',' ')\n",
    "                        try:\n",
    "                            definition = content_all.split('Definition: \\n')[1].split('Concepts: \\n')[0].replace(' \\n',' ')\n",
    "                        except:\n",
    "                            definition = content_all.split('Definitions: \\n')[1].split('Concepts: \\n')[0].replace(' \\n',' ')\n",
    "                        concept = content_all.split('Concepts: \\n')[1].split('2.b. Unit of measure (UNIT_MEASURE) \\n')[0].replace(' \\n',' ').split('   Last updated: 2021-08-20 ')[0]\n",
    "                        unit_measure = content_all.split('2.b.')[1].split('2.c.')[0].replace(' \\n',' : ')\n",
    "                        classification = content_all.split('2.c. Classifications (CLASS_SYSTEM) \\n')[1].split('3. Data source type and data collection method \\n')[0].replace(' \\n',' ')\n",
    "                        source = content_all.split('(SRC_TYPE_COLL_METHOD) \\n')[1].split('4. Other methodological considerations (OTHER_METHOD) \\n')[0].replace(' \\n',' ')\n",
    "                        coverage = content_all.split('5. Data availability and disaggregation (COVERAGE) \\n')[1].split('6. Comparability / deviation from international standards \\n')[0].replace(' \\n',' ')\n",
    "                        print(f'{dataset} : {goal} , {target} , {indicator} , {last_update} , {definition} , {concept} , {unit_measure} , {classification} , {source} , {coverage}')"
   ]
  }
 ],
 "metadata": {
  "kernelspec": {
   "display_name": "Python 3",
   "language": "python",
   "name": "python3"
  },
  "language_info": {
   "codemirror_mode": {
    "name": "ipython",
    "version": 3
   },
   "file_extension": ".py",
   "mimetype": "text/x-python",
   "name": "python",
   "nbconvert_exporter": "python",
   "pygments_lexer": "ipython3",
   "version": "3.11.0"
  },
  "orig_nbformat": 4
 },
 "nbformat": 4,
 "nbformat_minor": 2
}
