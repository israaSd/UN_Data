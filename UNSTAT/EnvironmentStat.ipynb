{
 "cells": [
  {
   "cell_type": "code",
   "execution_count": 1,
   "metadata": {},
   "outputs": [],
   "source": [
    "from bs4 import BeautifulSoup\n",
    "import requests\n",
    "import os\n",
    "import wget\n",
    "import time\n",
    "base_path = f\"{os.getcwd()}\\\\test_env\"\n",
    "import urllib.request\n",
    "import logging\n",
    "import pandas as pd\n",
    "from re import search\n",
    "logging.basicConfig(handlers=[logging.FileHandler(\"out.log\"),\n",
    "                            logging.StreamHandler()], level=logging.INFO)"
   ]
  },
  {
   "cell_type": "code",
   "execution_count": 3,
   "metadata": {},
   "outputs": [],
   "source": [
    "# response = requests.get('https://unstats.un.org/unsd/environment/Proportion_Population_CoastalZones.htm')\n",
    "# soup_pop = BeautifulSoup(response.content,'html.parser')\n",
    "# content = soup_pop.find(valign='middle')\n",
    "# title_pop = content.find('strong').text\n",
    "# title_pop\n",
    "# url_pop = content.find('a')['href']\n",
    "# url_pop = f'https://unstats.un.org/unsd/environment/{url_pop}'\n",
    "# urllib.request.urlretrieve(url_pop,f\"{base_path}\\\\{title_pop}.xlsx\")"
   ]
  },
  {
   "cell_type": "code",
   "execution_count": 2,
   "metadata": {},
   "outputs": [],
   "source": [
    "url='https://unstats.un.org/unsd/envstats/qindicators'\n",
    "result = requests.get(url)\n",
    "soup = BeautifulSoup(result.content,'html.parser')"
   ]
  },
  {
   "cell_type": "code",
   "execution_count": 3,
   "metadata": {},
   "outputs": [
    {
     "ename": "KeyboardInterrupt",
     "evalue": "",
     "output_type": "error",
     "traceback": [
      "\u001b[1;31m---------------------------------------------------------------------------\u001b[0m",
      "\u001b[1;31mKeyboardInterrupt\u001b[0m                         Traceback (most recent call last)",
      "Cell \u001b[1;32mIn [3], line 51\u001b[0m\n\u001b[0;32m     47\u001b[0m \u001b[39mif\u001b[39;00m title\u001b[39m.\u001b[39mendswith(\u001b[39m'\u001b[39m\u001b[39mXLS\u001b[39m\u001b[39m'\u001b[39m) :\n\u001b[0;32m     48\u001b[0m     \u001b[39m# if title != 'Agricultural land XLS':\u001b[39;00m\n\u001b[0;32m     49\u001b[0m     link\u001b[39m=\u001b[39mi[\u001b[39m'\u001b[39m\u001b[39mhref\u001b[39m\u001b[39m'\u001b[39m]\u001b[39m.\u001b[39mreplace(\u001b[39m'\u001b[39m\u001b[39m \u001b[39m\u001b[39m'\u001b[39m,\u001b[39m'\u001b[39m\u001b[39m%\u001b[39m\u001b[39m20\u001b[39m\u001b[39m'\u001b[39m)\n\u001b[1;32m---> 51\u001b[0m     urllib\u001b[39m.\u001b[39;49mrequest\u001b[39m.\u001b[39;49murlretrieve(link,\u001b[39mf\u001b[39;49m\u001b[39m\"\u001b[39;49m\u001b[39m{\u001b[39;49;00mbase_path\u001b[39m}\u001b[39;49;00m\u001b[39m\\\\\u001b[39;49;00m\u001b[39m{\u001b[39;49;00mtitle\u001b[39m}\u001b[39;49;00m\u001b[39m.xlsx\u001b[39;49m\u001b[39m\"\u001b[39;49m)\n\u001b[0;32m     52\u001b[0m     \u001b[39mif\u001b[39;00m \u001b[39mlen\u001b[39m(pd\u001b[39m.\u001b[39mread_excel(\u001b[39mrf\u001b[39m\u001b[39m\"\u001b[39m\u001b[39m{\u001b[39;00mbase_path\u001b[39m}\u001b[39;00m\u001b[39m\\\u001b[39m\u001b[39m{\u001b[39;00mtitle\u001b[39m}\u001b[39;00m\u001b[39m.xlsx\u001b[39m\u001b[39m\"\u001b[39m,sheet_name\u001b[39m=\u001b[39m\u001b[39mNone\u001b[39;00m))\u001b[39m==\u001b[39m\u001b[39m1\u001b[39m:\n\u001b[0;32m     53\u001b[0m         dff \u001b[39m=\u001b[39m pd\u001b[39m.\u001b[39mread_excel(\u001b[39mf\u001b[39m\u001b[39m'\u001b[39m\u001b[39m{\u001b[39;00mbase_path\u001b[39m}\u001b[39;00m\u001b[39m\\\\\u001b[39;00m\u001b[39m{\u001b[39;00mtitle\u001b[39m}\u001b[39;00m\u001b[39m.xlsx\u001b[39m\u001b[39m'\u001b[39m)\n",
      "File \u001b[1;32mc:\\Users\\10235555\\AppData\\Local\\Programs\\Python\\Python311\\Lib\\urllib\\request.py:241\u001b[0m, in \u001b[0;36murlretrieve\u001b[1;34m(url, filename, reporthook, data)\u001b[0m\n\u001b[0;32m    224\u001b[0m \u001b[39m\"\"\"\u001b[39;00m\n\u001b[0;32m    225\u001b[0m \u001b[39mRetrieve a URL into a temporary location on disk.\u001b[39;00m\n\u001b[0;32m    226\u001b[0m \n\u001b[1;32m   (...)\u001b[0m\n\u001b[0;32m    237\u001b[0m \u001b[39mdata file as well as the resulting HTTPMessage object.\u001b[39;00m\n\u001b[0;32m    238\u001b[0m \u001b[39m\"\"\"\u001b[39;00m\n\u001b[0;32m    239\u001b[0m url_type, path \u001b[39m=\u001b[39m _splittype(url)\n\u001b[1;32m--> 241\u001b[0m \u001b[39mwith\u001b[39;00m contextlib\u001b[39m.\u001b[39mclosing(urlopen(url, data)) \u001b[39mas\u001b[39;00m fp:\n\u001b[0;32m    242\u001b[0m     headers \u001b[39m=\u001b[39m fp\u001b[39m.\u001b[39minfo()\n\u001b[0;32m    244\u001b[0m     \u001b[39m# Just return the local path and the \"headers\" for file://\u001b[39;00m\n\u001b[0;32m    245\u001b[0m     \u001b[39m# URLs. No sense in performing a copy unless requested.\u001b[39;00m\n",
      "File \u001b[1;32mc:\\Users\\10235555\\AppData\\Local\\Programs\\Python\\Python311\\Lib\\urllib\\request.py:216\u001b[0m, in \u001b[0;36murlopen\u001b[1;34m(url, data, timeout, cafile, capath, cadefault, context)\u001b[0m\n\u001b[0;32m    214\u001b[0m \u001b[39melse\u001b[39;00m:\n\u001b[0;32m    215\u001b[0m     opener \u001b[39m=\u001b[39m _opener\n\u001b[1;32m--> 216\u001b[0m \u001b[39mreturn\u001b[39;00m opener\u001b[39m.\u001b[39;49mopen(url, data, timeout)\n",
      "File \u001b[1;32mc:\\Users\\10235555\\AppData\\Local\\Programs\\Python\\Python311\\Lib\\urllib\\request.py:519\u001b[0m, in \u001b[0;36mOpenerDirector.open\u001b[1;34m(self, fullurl, data, timeout)\u001b[0m\n\u001b[0;32m    516\u001b[0m     req \u001b[39m=\u001b[39m meth(req)\n\u001b[0;32m    518\u001b[0m sys\u001b[39m.\u001b[39maudit(\u001b[39m'\u001b[39m\u001b[39murllib.Request\u001b[39m\u001b[39m'\u001b[39m, req\u001b[39m.\u001b[39mfull_url, req\u001b[39m.\u001b[39mdata, req\u001b[39m.\u001b[39mheaders, req\u001b[39m.\u001b[39mget_method())\n\u001b[1;32m--> 519\u001b[0m response \u001b[39m=\u001b[39m \u001b[39mself\u001b[39;49m\u001b[39m.\u001b[39;49m_open(req, data)\n\u001b[0;32m    521\u001b[0m \u001b[39m# post-process response\u001b[39;00m\n\u001b[0;32m    522\u001b[0m meth_name \u001b[39m=\u001b[39m protocol\u001b[39m+\u001b[39m\u001b[39m\"\u001b[39m\u001b[39m_response\u001b[39m\u001b[39m\"\u001b[39m\n",
      "File \u001b[1;32mc:\\Users\\10235555\\AppData\\Local\\Programs\\Python\\Python311\\Lib\\urllib\\request.py:536\u001b[0m, in \u001b[0;36mOpenerDirector._open\u001b[1;34m(self, req, data)\u001b[0m\n\u001b[0;32m    533\u001b[0m     \u001b[39mreturn\u001b[39;00m result\n\u001b[0;32m    535\u001b[0m protocol \u001b[39m=\u001b[39m req\u001b[39m.\u001b[39mtype\n\u001b[1;32m--> 536\u001b[0m result \u001b[39m=\u001b[39m \u001b[39mself\u001b[39;49m\u001b[39m.\u001b[39;49m_call_chain(\u001b[39mself\u001b[39;49m\u001b[39m.\u001b[39;49mhandle_open, protocol, protocol \u001b[39m+\u001b[39;49m\n\u001b[0;32m    537\u001b[0m                           \u001b[39m'\u001b[39;49m\u001b[39m_open\u001b[39;49m\u001b[39m'\u001b[39;49m, req)\n\u001b[0;32m    538\u001b[0m \u001b[39mif\u001b[39;00m result:\n\u001b[0;32m    539\u001b[0m     \u001b[39mreturn\u001b[39;00m result\n",
      "File \u001b[1;32mc:\\Users\\10235555\\AppData\\Local\\Programs\\Python\\Python311\\Lib\\urllib\\request.py:496\u001b[0m, in \u001b[0;36mOpenerDirector._call_chain\u001b[1;34m(self, chain, kind, meth_name, *args)\u001b[0m\n\u001b[0;32m    494\u001b[0m \u001b[39mfor\u001b[39;00m handler \u001b[39min\u001b[39;00m handlers:\n\u001b[0;32m    495\u001b[0m     func \u001b[39m=\u001b[39m \u001b[39mgetattr\u001b[39m(handler, meth_name)\n\u001b[1;32m--> 496\u001b[0m     result \u001b[39m=\u001b[39m func(\u001b[39m*\u001b[39;49margs)\n\u001b[0;32m    497\u001b[0m     \u001b[39mif\u001b[39;00m result \u001b[39mis\u001b[39;00m \u001b[39mnot\u001b[39;00m \u001b[39mNone\u001b[39;00m:\n\u001b[0;32m    498\u001b[0m         \u001b[39mreturn\u001b[39;00m result\n",
      "File \u001b[1;32mc:\\Users\\10235555\\AppData\\Local\\Programs\\Python\\Python311\\Lib\\urllib\\request.py:1391\u001b[0m, in \u001b[0;36mHTTPSHandler.https_open\u001b[1;34m(self, req)\u001b[0m\n\u001b[0;32m   1390\u001b[0m \u001b[39mdef\u001b[39;00m \u001b[39mhttps_open\u001b[39m(\u001b[39mself\u001b[39m, req):\n\u001b[1;32m-> 1391\u001b[0m     \u001b[39mreturn\u001b[39;00m \u001b[39mself\u001b[39;49m\u001b[39m.\u001b[39;49mdo_open(http\u001b[39m.\u001b[39;49mclient\u001b[39m.\u001b[39;49mHTTPSConnection, req,\n\u001b[0;32m   1392\u001b[0m         context\u001b[39m=\u001b[39;49m\u001b[39mself\u001b[39;49m\u001b[39m.\u001b[39;49m_context, check_hostname\u001b[39m=\u001b[39;49m\u001b[39mself\u001b[39;49m\u001b[39m.\u001b[39;49m_check_hostname)\n",
      "File \u001b[1;32mc:\\Users\\10235555\\AppData\\Local\\Programs\\Python\\Python311\\Lib\\urllib\\request.py:1348\u001b[0m, in \u001b[0;36mAbstractHTTPHandler.do_open\u001b[1;34m(self, http_class, req, **http_conn_args)\u001b[0m\n\u001b[0;32m   1346\u001b[0m \u001b[39mtry\u001b[39;00m:\n\u001b[0;32m   1347\u001b[0m     \u001b[39mtry\u001b[39;00m:\n\u001b[1;32m-> 1348\u001b[0m         h\u001b[39m.\u001b[39;49mrequest(req\u001b[39m.\u001b[39;49mget_method(), req\u001b[39m.\u001b[39;49mselector, req\u001b[39m.\u001b[39;49mdata, headers,\n\u001b[0;32m   1349\u001b[0m                   encode_chunked\u001b[39m=\u001b[39;49mreq\u001b[39m.\u001b[39;49mhas_header(\u001b[39m'\u001b[39;49m\u001b[39mTransfer-encoding\u001b[39;49m\u001b[39m'\u001b[39;49m))\n\u001b[0;32m   1350\u001b[0m     \u001b[39mexcept\u001b[39;00m \u001b[39mOSError\u001b[39;00m \u001b[39mas\u001b[39;00m err: \u001b[39m# timeout error\u001b[39;00m\n\u001b[0;32m   1351\u001b[0m         \u001b[39mraise\u001b[39;00m URLError(err)\n",
      "File \u001b[1;32mc:\\Users\\10235555\\AppData\\Local\\Programs\\Python\\Python311\\Lib\\http\\client.py:1282\u001b[0m, in \u001b[0;36mHTTPConnection.request\u001b[1;34m(self, method, url, body, headers, encode_chunked)\u001b[0m\n\u001b[0;32m   1279\u001b[0m \u001b[39mdef\u001b[39;00m \u001b[39mrequest\u001b[39m(\u001b[39mself\u001b[39m, method, url, body\u001b[39m=\u001b[39m\u001b[39mNone\u001b[39;00m, headers\u001b[39m=\u001b[39m{}, \u001b[39m*\u001b[39m,\n\u001b[0;32m   1280\u001b[0m             encode_chunked\u001b[39m=\u001b[39m\u001b[39mFalse\u001b[39;00m):\n\u001b[0;32m   1281\u001b[0m     \u001b[39m\"\"\"Send a complete request to the server.\"\"\"\u001b[39;00m\n\u001b[1;32m-> 1282\u001b[0m     \u001b[39mself\u001b[39;49m\u001b[39m.\u001b[39;49m_send_request(method, url, body, headers, encode_chunked)\n",
      "File \u001b[1;32mc:\\Users\\10235555\\AppData\\Local\\Programs\\Python\\Python311\\Lib\\http\\client.py:1328\u001b[0m, in \u001b[0;36mHTTPConnection._send_request\u001b[1;34m(self, method, url, body, headers, encode_chunked)\u001b[0m\n\u001b[0;32m   1324\u001b[0m \u001b[39mif\u001b[39;00m \u001b[39misinstance\u001b[39m(body, \u001b[39mstr\u001b[39m):\n\u001b[0;32m   1325\u001b[0m     \u001b[39m# RFC 2616 Section 3.7.1 says that text default has a\u001b[39;00m\n\u001b[0;32m   1326\u001b[0m     \u001b[39m# default charset of iso-8859-1.\u001b[39;00m\n\u001b[0;32m   1327\u001b[0m     body \u001b[39m=\u001b[39m _encode(body, \u001b[39m'\u001b[39m\u001b[39mbody\u001b[39m\u001b[39m'\u001b[39m)\n\u001b[1;32m-> 1328\u001b[0m \u001b[39mself\u001b[39;49m\u001b[39m.\u001b[39;49mendheaders(body, encode_chunked\u001b[39m=\u001b[39;49mencode_chunked)\n",
      "File \u001b[1;32mc:\\Users\\10235555\\AppData\\Local\\Programs\\Python\\Python311\\Lib\\http\\client.py:1277\u001b[0m, in \u001b[0;36mHTTPConnection.endheaders\u001b[1;34m(self, message_body, encode_chunked)\u001b[0m\n\u001b[0;32m   1275\u001b[0m \u001b[39melse\u001b[39;00m:\n\u001b[0;32m   1276\u001b[0m     \u001b[39mraise\u001b[39;00m CannotSendHeader()\n\u001b[1;32m-> 1277\u001b[0m \u001b[39mself\u001b[39;49m\u001b[39m.\u001b[39;49m_send_output(message_body, encode_chunked\u001b[39m=\u001b[39;49mencode_chunked)\n",
      "File \u001b[1;32mc:\\Users\\10235555\\AppData\\Local\\Programs\\Python\\Python311\\Lib\\http\\client.py:1037\u001b[0m, in \u001b[0;36mHTTPConnection._send_output\u001b[1;34m(self, message_body, encode_chunked)\u001b[0m\n\u001b[0;32m   1035\u001b[0m msg \u001b[39m=\u001b[39m \u001b[39mb\u001b[39m\u001b[39m\"\u001b[39m\u001b[39m\\r\u001b[39;00m\u001b[39m\\n\u001b[39;00m\u001b[39m\"\u001b[39m\u001b[39m.\u001b[39mjoin(\u001b[39mself\u001b[39m\u001b[39m.\u001b[39m_buffer)\n\u001b[0;32m   1036\u001b[0m \u001b[39mdel\u001b[39;00m \u001b[39mself\u001b[39m\u001b[39m.\u001b[39m_buffer[:]\n\u001b[1;32m-> 1037\u001b[0m \u001b[39mself\u001b[39;49m\u001b[39m.\u001b[39;49msend(msg)\n\u001b[0;32m   1039\u001b[0m \u001b[39mif\u001b[39;00m message_body \u001b[39mis\u001b[39;00m \u001b[39mnot\u001b[39;00m \u001b[39mNone\u001b[39;00m:\n\u001b[0;32m   1040\u001b[0m \n\u001b[0;32m   1041\u001b[0m     \u001b[39m# create a consistent interface to message_body\u001b[39;00m\n\u001b[0;32m   1042\u001b[0m     \u001b[39mif\u001b[39;00m \u001b[39mhasattr\u001b[39m(message_body, \u001b[39m'\u001b[39m\u001b[39mread\u001b[39m\u001b[39m'\u001b[39m):\n\u001b[0;32m   1043\u001b[0m         \u001b[39m# Let file-like take precedence over byte-like.  This\u001b[39;00m\n\u001b[0;32m   1044\u001b[0m         \u001b[39m# is needed to allow the current position of mmap'ed\u001b[39;00m\n\u001b[0;32m   1045\u001b[0m         \u001b[39m# files to be taken into account.\u001b[39;00m\n",
      "File \u001b[1;32mc:\\Users\\10235555\\AppData\\Local\\Programs\\Python\\Python311\\Lib\\http\\client.py:975\u001b[0m, in \u001b[0;36mHTTPConnection.send\u001b[1;34m(self, data)\u001b[0m\n\u001b[0;32m    973\u001b[0m \u001b[39mif\u001b[39;00m \u001b[39mself\u001b[39m\u001b[39m.\u001b[39msock \u001b[39mis\u001b[39;00m \u001b[39mNone\u001b[39;00m:\n\u001b[0;32m    974\u001b[0m     \u001b[39mif\u001b[39;00m \u001b[39mself\u001b[39m\u001b[39m.\u001b[39mauto_open:\n\u001b[1;32m--> 975\u001b[0m         \u001b[39mself\u001b[39;49m\u001b[39m.\u001b[39;49mconnect()\n\u001b[0;32m    976\u001b[0m     \u001b[39melse\u001b[39;00m:\n\u001b[0;32m    977\u001b[0m         \u001b[39mraise\u001b[39;00m NotConnected()\n",
      "File \u001b[1;32mc:\\Users\\10235555\\AppData\\Local\\Programs\\Python\\Python311\\Lib\\http\\client.py:1454\u001b[0m, in \u001b[0;36mHTTPSConnection.connect\u001b[1;34m(self)\u001b[0m\n\u001b[0;32m   1451\u001b[0m \u001b[39melse\u001b[39;00m:\n\u001b[0;32m   1452\u001b[0m     server_hostname \u001b[39m=\u001b[39m \u001b[39mself\u001b[39m\u001b[39m.\u001b[39mhost\n\u001b[1;32m-> 1454\u001b[0m \u001b[39mself\u001b[39m\u001b[39m.\u001b[39msock \u001b[39m=\u001b[39m \u001b[39mself\u001b[39;49m\u001b[39m.\u001b[39;49m_context\u001b[39m.\u001b[39;49mwrap_socket(\u001b[39mself\u001b[39;49m\u001b[39m.\u001b[39;49msock,\n\u001b[0;32m   1455\u001b[0m                                       server_hostname\u001b[39m=\u001b[39;49mserver_hostname)\n",
      "File \u001b[1;32mc:\\Users\\10235555\\AppData\\Local\\Programs\\Python\\Python311\\Lib\\ssl.py:517\u001b[0m, in \u001b[0;36mSSLContext.wrap_socket\u001b[1;34m(self, sock, server_side, do_handshake_on_connect, suppress_ragged_eofs, server_hostname, session)\u001b[0m\n\u001b[0;32m    511\u001b[0m \u001b[39mdef\u001b[39;00m \u001b[39mwrap_socket\u001b[39m(\u001b[39mself\u001b[39m, sock, server_side\u001b[39m=\u001b[39m\u001b[39mFalse\u001b[39;00m,\n\u001b[0;32m    512\u001b[0m                 do_handshake_on_connect\u001b[39m=\u001b[39m\u001b[39mTrue\u001b[39;00m,\n\u001b[0;32m    513\u001b[0m                 suppress_ragged_eofs\u001b[39m=\u001b[39m\u001b[39mTrue\u001b[39;00m,\n\u001b[0;32m    514\u001b[0m                 server_hostname\u001b[39m=\u001b[39m\u001b[39mNone\u001b[39;00m, session\u001b[39m=\u001b[39m\u001b[39mNone\u001b[39;00m):\n\u001b[0;32m    515\u001b[0m     \u001b[39m# SSLSocket class handles server_hostname encoding before it calls\u001b[39;00m\n\u001b[0;32m    516\u001b[0m     \u001b[39m# ctx._wrap_socket()\u001b[39;00m\n\u001b[1;32m--> 517\u001b[0m     \u001b[39mreturn\u001b[39;00m \u001b[39mself\u001b[39;49m\u001b[39m.\u001b[39;49msslsocket_class\u001b[39m.\u001b[39;49m_create(\n\u001b[0;32m    518\u001b[0m         sock\u001b[39m=\u001b[39;49msock,\n\u001b[0;32m    519\u001b[0m         server_side\u001b[39m=\u001b[39;49mserver_side,\n\u001b[0;32m    520\u001b[0m         do_handshake_on_connect\u001b[39m=\u001b[39;49mdo_handshake_on_connect,\n\u001b[0;32m    521\u001b[0m         suppress_ragged_eofs\u001b[39m=\u001b[39;49msuppress_ragged_eofs,\n\u001b[0;32m    522\u001b[0m         server_hostname\u001b[39m=\u001b[39;49mserver_hostname,\n\u001b[0;32m    523\u001b[0m         context\u001b[39m=\u001b[39;49m\u001b[39mself\u001b[39;49m,\n\u001b[0;32m    524\u001b[0m         session\u001b[39m=\u001b[39;49msession\n\u001b[0;32m    525\u001b[0m     )\n",
      "File \u001b[1;32mc:\\Users\\10235555\\AppData\\Local\\Programs\\Python\\Python311\\Lib\\ssl.py:1075\u001b[0m, in \u001b[0;36mSSLSocket._create\u001b[1;34m(cls, sock, server_side, do_handshake_on_connect, suppress_ragged_eofs, server_hostname, context, session)\u001b[0m\n\u001b[0;32m   1072\u001b[0m         \u001b[39mif\u001b[39;00m timeout \u001b[39m==\u001b[39m \u001b[39m0.0\u001b[39m:\n\u001b[0;32m   1073\u001b[0m             \u001b[39m# non-blocking\u001b[39;00m\n\u001b[0;32m   1074\u001b[0m             \u001b[39mraise\u001b[39;00m \u001b[39mValueError\u001b[39;00m(\u001b[39m\"\u001b[39m\u001b[39mdo_handshake_on_connect should not be specified for non-blocking sockets\u001b[39m\u001b[39m\"\u001b[39m)\n\u001b[1;32m-> 1075\u001b[0m         \u001b[39mself\u001b[39;49m\u001b[39m.\u001b[39;49mdo_handshake()\n\u001b[0;32m   1076\u001b[0m \u001b[39mexcept\u001b[39;00m (\u001b[39mOSError\u001b[39;00m, \u001b[39mValueError\u001b[39;00m):\n\u001b[0;32m   1077\u001b[0m     \u001b[39mself\u001b[39m\u001b[39m.\u001b[39mclose()\n",
      "File \u001b[1;32mc:\\Users\\10235555\\AppData\\Local\\Programs\\Python\\Python311\\Lib\\ssl.py:1346\u001b[0m, in \u001b[0;36mSSLSocket.do_handshake\u001b[1;34m(self, block)\u001b[0m\n\u001b[0;32m   1344\u001b[0m     \u001b[39mif\u001b[39;00m timeout \u001b[39m==\u001b[39m \u001b[39m0.0\u001b[39m \u001b[39mand\u001b[39;00m block:\n\u001b[0;32m   1345\u001b[0m         \u001b[39mself\u001b[39m\u001b[39m.\u001b[39msettimeout(\u001b[39mNone\u001b[39;00m)\n\u001b[1;32m-> 1346\u001b[0m     \u001b[39mself\u001b[39m\u001b[39m.\u001b[39m_sslobj\u001b[39m.\u001b[39mdo_handshake()\n\u001b[0;32m   1347\u001b[0m \u001b[39mfinally\u001b[39;00m:\n\u001b[0;32m   1348\u001b[0m     \u001b[39mself\u001b[39m\u001b[39m.\u001b[39msettimeout(timeout)\n",
      "\u001b[1;31mKeyboardInterrupt\u001b[0m: "
     ]
    }
   ],
   "source": [
    "parent_node = soup.find(class_ = 'row tab-v3')\n",
    "child_node = parent_node.find_all(class_ = 'list-unstyled margin-bottom-15')\n",
    "for each in child_node:\n",
    "    tag = soup.find_all(\"h4\")[child_node.index(each)].text\n",
    "    #print(tag)\n",
    "    descandents = each.find_all('a')\n",
    "    #print(descandents)\n",
    "    for i in descandents:\n",
    "\n",
    "        title = i.text.strip()\n",
    "\n",
    "        BodyDict = {\n",
    "                    \"JobPath\":f\"{base_path}\\\\{title}.xlsx\", #* Point to downloaded data for conversion #\n",
    "                    \"JsonDetails\":{\n",
    "                            ## Required\n",
    "                            \"organisation\": \"un-agencies\",\n",
    "                            \"source\": \"UNSTATS\",\n",
    "                            \"source_description\" : \"The Environment Statistics Section of the United Nations Statistics Division (UNSD) is engaged in the development of methodology, data collection, capacity development, and coordination in the fields of environmental statistics and indicators.\",\n",
    "                            \"source_url\" : \"https://unstats.un.org/unsd/envstats/qindicators\",\n",
    "                            \"table\" : title,\n",
    "                            \"description\" : title,\n",
    "                            ## Optional\n",
    "                            \"JobType\": \"JSON\",\n",
    "                            \"CleanPush\": True,\n",
    "                            \"Server\": \"str\",\n",
    "                            \"UseJsonFormatForSQL\":  False,\n",
    "                            \"CleanReplace\":True,\n",
    "                            \"MergeSchema\": False,\n",
    "                            \"tags\": [{\n",
    "                                \"name\": tag\n",
    "                            }],\n",
    "                            \"additional_data_sources\": [{\n",
    "                                \"name\": \"\",\n",
    "                                \"url\" : \"\"\n",
    "                            }],\n",
    "                            \"limitations\":\"\",\n",
    "                            \"concept\":  \"\",\n",
    "                            \"periodicity\":  \"\",\n",
    "                            \"topic\":  tag,\n",
    "                            \"created\": \"\",                       #* this should follow the following formats %Y-%m-%dT%H:%M:%S\" or \"%Y-%m-%d\"\n",
    "                            \"last_modified\": \"\",                #* \"\"               \"\"                  \"\"              \"\"\n",
    "                            \"TriggerTalend\" :  False,    #* initialise to True for production\n",
    "                            \"SavePathForJsonOutput\": \"\" #* initialise as empty string for production.\n",
    "                        }\n",
    "                    }\n",
    "\n",
    "        if title.endswith('XLS') :\n",
    "            # if title != 'Agricultural land XLS':\n",
    "            link=i['href'].replace(' ','%20')\n",
    "            \n",
    "            urllib.request.urlretrieve(link,f\"{base_path}\\\\{title}.xlsx\")\n",
    "            if len(pd.read_excel(rf\"{base_path}\\{title}.xlsx\",sheet_name=None))==1:\n",
    "                dff = pd.read_excel(f'{base_path}\\\\{title}.xlsx')\n",
    "                index1 = dff.iloc[:,0].index[dff.iloc[:,0] == 'Definitions & Technical notes:'].tolist()\n",
    "                description1 = dff.iloc[(indx+2 for indx in index1),0].tolist()\n",
    "                description2 = dff.iloc[(indx+3 for indx in index1),0].tolist()\n",
    "                description3 = dff.iloc[(indx+4 for indx in index1),0].tolist()\n",
    "                description4 = dff.iloc[(indx+5 for indx in index1),0].tolist()\n",
    "                description = str(description1[0]) + str(description2[0]) + str(description3[0])  + str(description4[0])\n",
    "                BodyDict[\"JsonDetails\"][\"description\"] = description\n",
    "                ind = dff.iloc[:,1].index[dff.iloc[:,1]== 'Country'].to_list()\n",
    "                if dff.iloc[:,0].str.contains('Data Quality: ').any():\n",
    "                    index2 = dff.iloc[:,0].index[dff.iloc[:,0] == 'Data Quality: '].tolist()\n",
    "                    limitations = dff.iloc[(ind+2 for ind in index2),0].tolist()\n",
    "                    BodyDict[\"JsonDetails\"][\"limitations\"] = limitations[0]\n",
    "                if dff.iloc[:,0].str.contains('Sources:').any():\n",
    "                    index3 = dff.iloc[:,0].index[dff.iloc[:,0] == 'Sources:'].tolist()\n",
    "                    source1 = dff.iloc[(indx+2 for indx in index3),0].tolist()\n",
    "                    source2 = dff.iloc[(indx+3 for indx in index3),0].tolist()\n",
    "                    source3 = dff.iloc[(indx+4 for indx in index3),0].tolist()\n",
    "                    source4 = dff.iloc[(indx+5 for indx in index3),0].tolist()\n",
    "                    source = str(source1[0]) + str(source2[0]) + str(source3[0]) + str(source4[0])\n",
    "                    url_source = source.split(': ')[1]\n",
    "                    name = source.split(': ')[0]\n",
    "                    # source = [' '.join(source)]\n",
    "                    BodyDict[\"JsonDetails\"][\"additional_data_sources\"][0][\"name\"] = name\n",
    "                    BodyDict[\"JsonDetails\"][\"additional_data_sources\"][0][\"url\"] = url_source\n",
    "                    k = index3[0]\n",
    "                    dff = dff[:k]\n",
    "                    # ind = dff.iloc[:,1].index[dff.iloc[:,1]== 'Country'].to_list()\n",
    "                    if len(ind)==1:\n",
    "                        # print(ind)\n",
    "                        if title == 'Consumption of ozone-depleting substances XLS' :\n",
    "                            ta = dff.iloc[ind[0]:,1:]\n",
    "                            ta.iloc[0:3] = ta.iloc[0:3].fillna(method='ffill', axis=1)\n",
    "                            ta.iloc[0:3] = ta.iloc[0:3].fillna('')\n",
    "                            ta.columns = ta.iloc[0:3].apply(lambda x: ' - '.join(map(str,[y for y in x if y])), axis=0)\n",
    "                            ta = ta.iloc[3:]\n",
    "                            ta = ta.loc[:,~ta.columns.duplicated()].copy()\n",
    "                            ta = ta.loc[:, ~ta.columns.str.contains('^Unnamed',na=False)]\n",
    "                            # df.drop(df.columns[df.columns.str.contains('Footnotes')], axis=1)\n",
    "                            ta = ta.loc[:, ~ta.columns.str.contains('Footnotes_',na=False)]\n",
    "                            ta.to_excel(f'{base_path}\\\\{title}.xlsx',index=False)\n",
    "                        if title ==  'Greenhouse gas emissions by sector (percentage)  XLS':\n",
    "                            ta = dff.iloc[ind[0]:,1:]\n",
    "                            ta.iloc[0:2] = ta.iloc[0:2].fillna(method='ffill', axis=1)\n",
    "                            ta.iloc[0:2] = ta.iloc[0:2].fillna('')\n",
    "                            ta.columns = ta.iloc[0:2].apply(lambda x: ' - '.join(map(str,[y for y in x if y])), axis=0)\n",
    "                            ta = ta.iloc[2:]\n",
    "                            ta = ta.loc[:,~ta.columns.duplicated()].copy()\n",
    "                            ta = ta.loc[:, ~ta.columns.str.contains('^Unnamed',na=False)]\n",
    "                            # df.drop(df.columns[df.columns.str.contains('Footnotes')], axis=1)\n",
    "                            ta = ta.loc[:, ~ta.columns.str.contains('Footnotes_',na=False)]\n",
    "                            ta = ta.iloc[:,:8]\n",
    "                            ta.to_excel(f'{base_path}\\\\{title}.xlsx',index=False)"
   ]
  },
  {
   "cell_type": "code",
   "execution_count": null,
   "metadata": {},
   "outputs": [],
   "source": [
    "                        ta = dff.iloc[ind[0]:,1:]\n",
    "                        column = ta.iloc[0].to_list()\n",
    "                        ta.set_axis(column, axis=1,inplace=True)\n",
    "                        ta = ta.iloc[1:]\n",
    "                        ta.to_excel(f'{base_path}\\\\{title}.xlsx',index=False)\n",
    "                        df = pd.read_excel(f'{base_path}\\\\{title}.xlsx')\n",
    "                        nan_value = float(\"NaN\")\n",
    "                        df.replace(\"\", nan_value, inplace=True)\n",
    "                        df.dropna(how='all', axis=1, inplace=True)\n",
    "                        header2 = df.loc[0, :].values.tolist()\n",
    "                        header2 = [str(elem).replace('nan',' ') for elem in header2]\n",
    "                        header = zip(df.columns,header2)\n",
    "                        df.set_axis(header, axis=1,inplace=True)\n",
    "                        df = df.iloc[1:,:]\n",
    "                        df.columns = [' '.join(df.columns[i]) for i in range(len(df.columns))]\n",
    "                        df = df.loc[:, ~df.columns.str.contains('^Unnamed',na=False)]\n",
    "                        # df.drop(df.columns[df.columns.str.contains('Footnotes')], axis=1)\n",
    "                        df = df.loc[:, ~df.columns.str.contains('Footnotes_',na=False)]\n",
    "                        df.to_excel(f'{base_path}\\\\{title}.xlsx',index=False)"
   ]
  },
  {
   "cell_type": "code",
   "execution_count": 4,
   "metadata": {},
   "outputs": [
    {
     "name": "stderr",
     "output_type": "stream",
     "text": [
      "INFO:root:Conversion successful - \n"
     ]
    },
    {
     "name": "stdout",
     "output_type": "stream",
     "text": [
      "{'JobPath': 'c:\\\\Users\\\\10235555\\\\Documents\\\\DataportalCrawlers\\\\UN_Data\\\\test_env\\\\Consumption of ozone-depleting substances XLS.xlsx', 'JsonDetails': {'organisation': 'un-agencies', 'source': 'UNSTATS', 'source_description': 'The Environment Statistics Section of the United Nations Statistics Division (UNSD) is engaged in the development of methodology, data collection, capacity development, and coordination in the fields of environmental statistics and indicators.', 'source_url': 'https://unstats.un.org/unsd/envstats/qindicators', 'table': 'Consumption of ozone-depleting substances XLS', 'description': 'Ozone-depleting substances (ODS) are substances containing chlorine or bromine, which destroy the stratospheric ozone layer that absorbs most of the biologically damaging ultraviolet radiation. The phasing out of ODS, and their substitution by less harmful substances or new processes, are aimed at the recovery of the ozone layer. The indicators signify progress made towards meeting the commitments to phase out the use of ODS in countries which have ratified the 1987 Montreal Protocol on Substances that Deplete the Ozone Layer and its Amendments of London (1990), Copenhagen (1992), Montreal (1997) and Beijing (1999). Substances controlled by the Montreal Protocol are categorised into annexes, with different groups in each annex. These include chlorofluorocarbons (CFCs) (Annex A, group I), halons (Annex A, group II), methyl bromide (Annex E, group I) among others. In the table, All ODS refers to the aggregate consumption, in ODP tonnes, for all of the controlled substance categories that have data available.The consumption data in this table are used to monitor the reduction in the usage of ODS as a result of the Montreal Protocol. Therefore only substances controlled under the Montreal Protocol are covered. Consumption data are calculated by the Ozone Secretariat using data reported in tonnes by the parties. Consumption is calculated as production plus imports minus exports, destroyed quantities, and feedstock uses of a controlled substance. Destruction and feedstock uses both take ODS out of the system (opposite of production), hence the reason for subtracting them when calculating consumption. The protocol also specifies that consumption shall not include the amounts used for quarantine and pre-shipment applications of methyl bromide, and further specifies that exports to non-Parties will count as consumption in the exporting Party.The formula for calculating consumption is: consumption = total production - destroyed - production for internal feedstock use - production for internal quarantine use (for methyl bromide only) + total new imports - import for feedstock - import for quarantine use – total new exports + export to non-parties. Reducing consumption ultimately leads to reductions in emissions since most uses of ODS finally lead to the substances being emitted into the atmosphere. The unit of measurement is metric tonnes of ODS weighted by their Ozone Depletion Potential (ODP), known as ODP tonnes. ODP refers to the amount of ozone depletion caused by a substance. It is the ratio of the impact on ozone of a chemical substance compared to the impact of a similar mass of CFC-11. The ODP of CFC-11 is defined to be 1. CFCs have ODPs that range from 0.6 to 1 while hydrochlorofluorocarbons (HCFCs) have ODPs that range from 0.001 to 0.52. The halons have ODPs of up to 10 while methyl bromide has an ODP of 0.6.', 'JobType': 'JSON', 'CleanPush': True, 'Server': 'str', 'UseJsonFormatForSQL': False, 'CleanReplace': True, 'MergeSchema': False, 'tags': [{'name': 'Air Pollution'}], 'additional_data_sources': [{'name': 'UNSD Millennium Development Goals Database.', 'url': 'http://mdgs.un.org/unsd/mdg/Default.aspx.'}], 'limitations': 'Countries that are Party to the Montreal protocol report data annually to the Secretariat using data reporting formats agreed by the Parties.', 'concept': '', 'periodicity': '', 'topic': 'Air Pollution', 'created': '', 'last_modified': '', 'TriggerTalend': False, 'SavePathForJsonOutput': ''}}\n"
     ]
    },
    {
     "name": "stderr",
     "output_type": "stream",
     "text": [
      "C:\\Users\\10235555\\AppData\\Local\\Temp\\ipykernel_11476\\117362994.py:109: FutureWarning: DataFrame.set_axis 'inplace' keyword is deprecated and will be removed in a future version. Use `obj = obj.set_axis(..., copy=False)` instead\n",
      "  ta.set_axis(column, axis=1,inplace=True)\n",
      "C:\\Users\\10235555\\AppData\\Local\\Temp\\ipykernel_11476\\117362994.py:119: FutureWarning: DataFrame.set_axis 'inplace' keyword is deprecated and will be removed in a future version. Use `obj = obj.set_axis(..., copy=False)` instead\n",
      "  df.set_axis(header, axis=1,inplace=True)\n",
      "INFO:root:Conversion successful - \n"
     ]
    },
    {
     "name": "stdout",
     "output_type": "stream",
     "text": [
      "{'JobPath': 'c:\\\\Users\\\\10235555\\\\Documents\\\\DataportalCrawlers\\\\UN_Data\\\\test_env\\\\NOx emissions XLS.xlsx', 'JsonDetails': {'organisation': 'un-agencies', 'source': 'UNSTATS', 'source_description': 'The Environment Statistics Section of the United Nations Statistics Division (UNSD) is engaged in the development of methodology, data collection, capacity development, and coordination in the fields of environmental statistics and indicators.', 'source_url': 'https://unstats.un.org/unsd/envstats/qindicators', 'table': 'NOx emissions XLS', 'description': 'Data on emissions of NOx are usually estimated according to international methodologies on the basis of national statistics on energy, industrial and agricultural production, waste management and land use, etc. The most widely used methodologies are the 1996 Guidelines of the Intergovernmental Panel for Climate Change (IPCC) which is the basis for reporting to the UNFCCC.See:  http://www.ipcc-nggip.iges.or.jp/public/gl/invs1.html .The latest revision and update of this guideline is 2006 IPCC Guidelines for National Greenhouse Gas Inventories.  In earlier years the guidelines produced for the UNECE Convention on Long Range Transboundary Air Pollution were widely used in Europe, and are still used in some countries.  ', 'JobType': 'JSON', 'CleanPush': True, 'Server': 'str', 'UseJsonFormatForSQL': False, 'CleanReplace': True, 'MergeSchema': False, 'tags': [{'name': 'Air Pollution'}], 'additional_data_sources': [{'name': 'UN Framework Convention on Climate Change (UNFCCC) Secretariat.', 'url': 'http://unfccc.int'}], 'limitations': 'Although standardised methods for calculating NOx emissions have been available for many years, calculating emissions of NOx is more difficult than for SO2, as many more parameters need to be taken into account. Therefore the quality of data on NOx emissions is considered to be only fair.', 'concept': '', 'periodicity': '', 'topic': 'Air Pollution', 'created': '', 'last_modified': '', 'TriggerTalend': False, 'SavePathForJsonOutput': ''}}\n"
     ]
    },
    {
     "name": "stderr",
     "output_type": "stream",
     "text": [
      "C:\\Users\\10235555\\AppData\\Local\\Temp\\ipykernel_11476\\117362994.py:109: FutureWarning: DataFrame.set_axis 'inplace' keyword is deprecated and will be removed in a future version. Use `obj = obj.set_axis(..., copy=False)` instead\n",
      "  ta.set_axis(column, axis=1,inplace=True)\n",
      "C:\\Users\\10235555\\AppData\\Local\\Temp\\ipykernel_11476\\117362994.py:119: FutureWarning: DataFrame.set_axis 'inplace' keyword is deprecated and will be removed in a future version. Use `obj = obj.set_axis(..., copy=False)` instead\n",
      "  df.set_axis(header, axis=1,inplace=True)\n",
      "INFO:root:Conversion successful - \n"
     ]
    },
    {
     "name": "stdout",
     "output_type": "stream",
     "text": [
      "{'JobPath': 'c:\\\\Users\\\\10235555\\\\Documents\\\\DataportalCrawlers\\\\UN_Data\\\\test_env\\\\SO2 emissions XLS.xlsx', 'JsonDetails': {'organisation': 'un-agencies', 'source': 'UNSTATS', 'source_description': 'The Environment Statistics Section of the United Nations Statistics Division (UNSD) is engaged in the development of methodology, data collection, capacity development, and coordination in the fields of environmental statistics and indicators.', 'source_url': 'https://unstats.un.org/unsd/envstats/qindicators', 'table': 'SO2 emissions XLS', 'description': 'Data on emissions of SO2 are usually estimated according to international methodologies on the basis of national statistics on energy, industrial and agricultural production, waste management, etc. The most widely used methodologies are the 1996 Guidelines of the Intergovernmental Panel for Climate Change (IPCC) which is the basis for reporting to the UNFCCC.See:  http://www.ipcc-nggip.iges.or.jp/public/gl/invs1.html.The latest revision and update of this guideline is 2006 IPCC Guidelines for National Greenhouse Gas Inventories.   In earlier years the guidelines produced for the UNECE Convention on Long Range Transboundary Air Pollution were widely used in Europe, and are still used in some countries.  The main source of SO2 is burning of fuels, including biomass. ', 'JobType': 'JSON', 'CleanPush': True, 'Server': 'str', 'UseJsonFormatForSQL': False, 'CleanReplace': True, 'MergeSchema': False, 'tags': [{'name': 'Air Pollution'}], 'additional_data_sources': [{'name': 'UN Framework Convention on Climate Change (UNFCCC) Secretariat.', 'url': 'http://unfccc.int'}], 'limitations': 'Standardised methods for calculating SO2 emissions from fuel combustion have been available for many years. The amount of SO2 emitted is directly related to the sulphur content of the fossil fuels consumed in the country, and the desulphurisation techniques used, if any.  Data on emissions from fuel combustion are considered to be reasonable.', 'concept': '', 'periodicity': '', 'topic': 'Air Pollution', 'created': '', 'last_modified': '', 'TriggerTalend': False, 'SavePathForJsonOutput': ''}}\n"
     ]
    },
    {
     "name": "stderr",
     "output_type": "stream",
     "text": [
      "C:\\Users\\10235555\\AppData\\Local\\Temp\\ipykernel_11476\\117362994.py:109: FutureWarning: DataFrame.set_axis 'inplace' keyword is deprecated and will be removed in a future version. Use `obj = obj.set_axis(..., copy=False)` instead\n",
      "  ta.set_axis(column, axis=1,inplace=True)\n",
      "C:\\Users\\10235555\\AppData\\Local\\Temp\\ipykernel_11476\\117362994.py:119: FutureWarning: DataFrame.set_axis 'inplace' keyword is deprecated and will be removed in a future version. Use `obj = obj.set_axis(..., copy=False)` instead\n",
      "  df.set_axis(header, axis=1,inplace=True)\n",
      "INFO:root:Conversion successful - \n"
     ]
    },
    {
     "name": "stdout",
     "output_type": "stream",
     "text": [
      "{'JobPath': 'c:\\\\Users\\\\10235555\\\\Documents\\\\DataportalCrawlers\\\\UN_Data\\\\test_env\\\\CO2 emissions XLS.xlsx', 'JsonDetails': {'organisation': 'un-agencies', 'source': 'UNSTATS', 'source_description': 'The Environment Statistics Section of the United Nations Statistics Division (UNSD) is engaged in the development of methodology, data collection, capacity development, and coordination in the fields of environmental statistics and indicators.', 'source_url': 'https://unstats.un.org/unsd/envstats/qindicators', 'table': 'CO2 emissions XLS', 'description': 'Total CO2 emission:Estimates of total carbon dioxide (CO2) emissions include anthropogenic emissions, less removal by sinks, of carbon dioxide (CO2). The term “total” implies that emissions from all national activities are considered. The typical sectors for which CO2 emissions/removals are estimated are energy, industrial processes, agriculture, waste, and the sector of land use, land-use change and forestry (LULUCF).\\nNational reporting to the United Nations Framework Convention on Climate Change that follows the Intergovernmental Panel on Climate Change guidelines is based on national emission inventories and covers all sources of anthropogenic carbon dioxide emissions as well as carbon sinks (such as forests).\\nCO2 emissions/removals by land use, land-use change and forestry are often known with much less certainty than emissions from the other sectors, or emissions/removals estimates for LULUCF may not be available at all. In such cases, “total” emissions can be calculated as the sum of emissions for the sectors of energy, industrial processes, agriculture, and waste.CO2 emissions per capita and CO2 emissions per km2 are calculated by UNSD.… denotes no data available.nan', 'JobType': 'JSON', 'CleanPush': True, 'Server': 'str', 'UseJsonFormatForSQL': False, 'CleanReplace': True, 'MergeSchema': False, 'tags': [{'name': 'Greenhouse Gases'}], 'additional_data_sources': [{'name': 'UNSD Millennium Development Goals Indicators database.', 'url': 'http://mdgs.un.org/unsd/mdg/Data.aspx'}], 'limitations': 'See: http://cdiac.ornl.gov/ .', 'concept': '', 'periodicity': '', 'topic': 'Greenhouse Gases', 'created': '', 'last_modified': '', 'TriggerTalend': False, 'SavePathForJsonOutput': ''}}\n"
     ]
    },
    {
     "name": "stderr",
     "output_type": "stream",
     "text": [
      "C:\\Users\\10235555\\AppData\\Local\\Temp\\ipykernel_11476\\117362994.py:109: FutureWarning: DataFrame.set_axis 'inplace' keyword is deprecated and will be removed in a future version. Use `obj = obj.set_axis(..., copy=False)` instead\n",
      "  ta.set_axis(column, axis=1,inplace=True)\n",
      "C:\\Users\\10235555\\AppData\\Local\\Temp\\ipykernel_11476\\117362994.py:119: FutureWarning: DataFrame.set_axis 'inplace' keyword is deprecated and will be removed in a future version. Use `obj = obj.set_axis(..., copy=False)` instead\n",
      "  df.set_axis(header, axis=1,inplace=True)\n",
      "INFO:root:Conversion successful - \n"
     ]
    },
    {
     "name": "stdout",
     "output_type": "stream",
     "text": [
      "{'JobPath': 'c:\\\\Users\\\\10235555\\\\Documents\\\\DataportalCrawlers\\\\UN_Data\\\\test_env\\\\Greenhouse gas emissions XLS.xlsx', 'JsonDetails': {'organisation': 'un-agencies', 'source': 'UNSTATS', 'source_description': 'The Environment Statistics Section of the United Nations Statistics Division (UNSD) is engaged in the development of methodology, data collection, capacity development, and coordination in the fields of environmental statistics and indicators.', 'source_url': 'https://unstats.un.org/unsd/envstats/qindicators', 'table': 'Greenhouse gas emissions XLS', 'description': 'Greenhouse gases (GHG) are those gaseous constituents of the atmosphere, both natural and anthropogenic, that absorb and emit radiation at specific wavelengths within the spectrum of thermal infrared radiation emitted by the Earth’s surface, the atmosphere itself, and by clouds. This property causes the greenhouse effect. Water vapour (H2O), carbon dioxide (CO2), nitrous oxide (N2O), methane (CH4) and ozone (O3) are the primary greenhouse gases in the Earth’s atmosphere. Moreover, there are a number of entirely human-made greenhouse gases in the atmosphere, such as the halocarbons and other chlorine- and bromine-containing substances, dealt with under the Montreal Protocol. Beside CO2, N2O and CH4, the Kyoto Protocol deals with the greenhouse gases sulphur hexafluoride (SF6), hydrofluorocarbons (HFCs) and perfluorocarbons (PFCs). Total GHG emissions including LULUCF/LUCF refer to greenhouse gases emissions including emissions/removals from the forestry sector. The definition is different for Annex I and non-Annex I Parties. For Annex I Parties, the sector is called Land Use, Land-use Change and Forestry (LULUCF) whereas for non-Annex I Parties, it is called Land-use Change and Forestry (LUCF). These two definitions are close but not equivalent. Land use, land use change and forest may have an impact on the surface albedo, evapotranspiration, sources and sinks of greenhouse gases, or other properties of the climate system and may thus have a radioactive forcing and/or other impacts on climate, locally or globally. Data on greenhouse gas emissions are usually estimated according to international methodologies on the basis of national statistics on energy, industrial and agricultural production, waste management and land use, etc. The best known and most widely used methodology is the 1996 Guidelines of the Intergovernmental Panel for Climate Change (IPCC) which is the basis for reporting to the UNFCCC.  ', 'JobType': 'JSON', 'CleanPush': True, 'Server': 'str', 'UseJsonFormatForSQL': False, 'CleanReplace': True, 'MergeSchema': False, 'tags': [{'name': 'Greenhouse Gases'}], 'additional_data_sources': [{'name': 'UN Framework Convention on Climate Change (UNFCCC) Secretariat.', 'url': 'http://unfccc.int.'}], 'limitations': 'Countries report their greenhouse gas emissions to UNFCCC according to the IPCC Guidelines. The quality of data is regularly checked through the UNFCCC review process for the Annex I Parties to the Convention that report the data annually. Non-Annex I countries do not report the data annually and their data are not subject to the same review procedures. Data quality depends on the quality of statistics underlying the calculations or estimates and is usually the best for energy related emissions; because of differences in completeness and quality of the estimates, the data should be used with caution when comparing countries.', 'concept': '', 'periodicity': '', 'topic': 'Greenhouse Gases', 'created': '', 'last_modified': '', 'TriggerTalend': False, 'SavePathForJsonOutput': ''}}\n"
     ]
    },
    {
     "name": "stderr",
     "output_type": "stream",
     "text": [
      "C:\\Users\\10235555\\AppData\\Local\\Temp\\ipykernel_11476\\117362994.py:109: FutureWarning: DataFrame.set_axis 'inplace' keyword is deprecated and will be removed in a future version. Use `obj = obj.set_axis(..., copy=False)` instead\n",
      "  ta.set_axis(column, axis=1,inplace=True)\n",
      "C:\\Users\\10235555\\AppData\\Local\\Temp\\ipykernel_11476\\117362994.py:119: FutureWarning: DataFrame.set_axis 'inplace' keyword is deprecated and will be removed in a future version. Use `obj = obj.set_axis(..., copy=False)` instead\n",
      "  df.set_axis(header, axis=1,inplace=True)\n",
      "INFO:root:Conversion successful - \n"
     ]
    },
    {
     "name": "stdout",
     "output_type": "stream",
     "text": [
      "{'JobPath': 'c:\\\\Users\\\\10235555\\\\Documents\\\\DataportalCrawlers\\\\UN_Data\\\\test_env\\\\Greenhouse gas emissions by sector (absolute values) XLS.xlsx', 'JsonDetails': {'organisation': 'un-agencies', 'source': 'UNSTATS', 'source_description': 'The Environment Statistics Section of the United Nations Statistics Division (UNSD) is engaged in the development of methodology, data collection, capacity development, and coordination in the fields of environmental statistics and indicators.', 'source_url': 'https://unstats.un.org/unsd/envstats/qindicators', 'table': 'Greenhouse gas emissions by sector (absolute values) XLS', 'description': 'GHG from Energy: all emissions related to the production and use of energy in any sectors of the economy and households. It includes emissions from fuel combustion as well as fugitive fuels.  This variable corresponds to IPCC category 1.GHG from Energy, of which: from Transport: emissions from the combustion and evaporation of fuel for all transport activity, regardless of the sector, specified by subsectors as civil aviation, road transportation, railways, navigation and other transportation.  This variable corresponds to IPCC category 1A3.GHG from Industrial Processes: emissions from processes such as chemical industry, metal industry, production and use of mineral products and other industries. This variable corresponds to IPCC category 2.GHG from Agriculture: all emissions from enteric fermentation, manure management, rice cultivation, agricultural soils, field burning of agricultural residues, prescribed burning of savannas and other agricultural activities. This variable corresponds to IPCC category 4.', 'JobType': 'JSON', 'CleanPush': True, 'Server': 'str', 'UseJsonFormatForSQL': False, 'CleanReplace': True, 'MergeSchema': False, 'tags': [{'name': 'Greenhouse Gases'}], 'additional_data_sources': [{'name': 'UN Framework Convention on Climate Change (UNFCCC) Secretariat.', 'url': 'http://unfccc.int .'}], 'limitations': 'Countries report their greenhouse gas emissions to UNFCCC according to the IPCC Guidelines. The quality of data is regularly checked through the UNFCCC review process for the Annex I Parties to the Convention that report the data annually. Non-Annex I countries do not report the data annually and their data are not subject to the same review procedures. Data quality depends on the quality of statistics underlying the calculations or estimates and is usually the best for energy related emissions; because of differences in completeness and quality of the estimates, the data should be used with caution when comparing countries.', 'concept': '', 'periodicity': '', 'topic': 'Greenhouse Gases', 'created': '', 'last_modified': '', 'TriggerTalend': False, 'SavePathForJsonOutput': ''}}\n"
     ]
    },
    {
     "name": "stderr",
     "output_type": "stream",
     "text": [
      "INFO:root:Conversion successful - \n"
     ]
    },
    {
     "name": "stdout",
     "output_type": "stream",
     "text": [
      "{'JobPath': 'c:\\\\Users\\\\10235555\\\\Documents\\\\DataportalCrawlers\\\\UN_Data\\\\test_env\\\\Greenhouse gas emissions by sector (percentage)  XLS.xlsx', 'JsonDetails': {'organisation': 'un-agencies', 'source': 'UNSTATS', 'source_description': 'The Environment Statistics Section of the United Nations Statistics Division (UNSD) is engaged in the development of methodology, data collection, capacity development, and coordination in the fields of environmental statistics and indicators.', 'source_url': 'https://unstats.un.org/unsd/envstats/qindicators', 'table': 'Greenhouse gas emissions by sector (percentage)  XLS', 'description': 'GHG from Energy: all emissions related to the production and use of energy in any sectors of the economy and households. It includes emissions from fuel combustion as well as fugitive fuels.  This variable corresponds to IPCC category 1.GHG from Energy, of which: from Transport: emissions from the combustion and evaporation of fuel for all transport activity, regardless of the sector, specified by subsectors as civil aviation, road transportation, railways, navigation and other transportation.  This variable corresponds to IPCC category 1A3.GHG from Industrial Processes: emissions from processes such as chemical industry, metal industry, production and use of mineral products and other industries. This variable corresponds to IPCC category 2.GHG from Agriculture: all emissions from enteric fermentation, manure management, rice cultivation, agricultural soils,  field burning of agricultural residues, prescribed burning of savannas and other agricultural activities. This variable corresponds to IPCC category 4.', 'JobType': 'JSON', 'CleanPush': True, 'Server': 'str', 'UseJsonFormatForSQL': False, 'CleanReplace': True, 'MergeSchema': False, 'tags': [{'name': 'Greenhouse Gases'}], 'additional_data_sources': [{'name': 'UN Framework Convention on Climate Change (UNFCCC) Secretariat.', 'url': ' http://unfccc.int .'}], 'limitations': 'Countries report their greenhouse gas emissions to UNFCCC according to the IPCC Guidelines. The quality of data is regularly checked through the UNFCCC review process for the Annex I Parties to the Convention that report the data annually. Non-Annex I countries do not report the data annually and their data are not subject to the same review procedures. Data quality depends on the quality of statistics underlying the calculations or estimates and is usually the best for energy related emissions; because of differences in completeness and quality of the estimates, the data should be used with caution when comparing countries.', 'concept': '', 'periodicity': '', 'topic': 'Greenhouse Gases', 'created': '', 'last_modified': '', 'TriggerTalend': False, 'SavePathForJsonOutput': ''}}\n"
     ]
    },
    {
     "name": "stderr",
     "output_type": "stream",
     "text": [
      "C:\\Users\\10235555\\AppData\\Local\\Temp\\ipykernel_11476\\117362994.py:109: FutureWarning: DataFrame.set_axis 'inplace' keyword is deprecated and will be removed in a future version. Use `obj = obj.set_axis(..., copy=False)` instead\n",
      "  ta.set_axis(column, axis=1,inplace=True)\n",
      "C:\\Users\\10235555\\AppData\\Local\\Temp\\ipykernel_11476\\117362994.py:119: FutureWarning: DataFrame.set_axis 'inplace' keyword is deprecated and will be removed in a future version. Use `obj = obj.set_axis(..., copy=False)` instead\n",
      "  df.set_axis(header, axis=1,inplace=True)\n",
      "INFO:root:Conversion successful - \n"
     ]
    },
    {
     "name": "stdout",
     "output_type": "stream",
     "text": [
      "{'JobPath': 'c:\\\\Users\\\\10235555\\\\Documents\\\\DataportalCrawlers\\\\UN_Data\\\\test_env\\\\CH4 and N2O emissions XLS.xlsx', 'JsonDetails': {'organisation': 'un-agencies', 'source': 'UNSTATS', 'source_description': 'The Environment Statistics Section of the United Nations Statistics Division (UNSD) is engaged in the development of methodology, data collection, capacity development, and coordination in the fields of environmental statistics and indicators.', 'source_url': 'https://unstats.un.org/unsd/envstats/qindicators', 'table': 'CH4 and N2O emissions XLS', 'description': 'CH4 emissions: the major sources of CH4 are leakages during the production and transportation of natural gas and coal mining, livestock rearing, rice cultivation, and decomposition of waste in landfills. N2O emissions: the major sources of N2O are agriculture and industrial processes.   CH4 emissions per capita and N2O emissions per capita are calculated by UNSD.For some non-Annex I countries, the GHG emissions data may be incomplete because they include only emissions from a few available sources and therefore do not represent the absolute total emissions of the country. For detailed information on emissions data and their completeness, please check the official submissions of GHG emissions/removals data by countries to the Climate Change Convention', 'JobType': 'JSON', 'CleanPush': True, 'Server': 'str', 'UseJsonFormatForSQL': False, 'CleanReplace': True, 'MergeSchema': False, 'tags': [{'name': 'Greenhouse Gases'}], 'additional_data_sources': [{'name': 'UN Framework Convention on Climate Change (UNFCCC) Secretariat ', 'url': 'http://unfccc.int'}], 'limitations': 'Countries report their greenhouse gas emissions to UNFCCC according to the Intergovernmental Panel on Climate Change (IPCC) Guidelines. The quality of data is regularly checked through the UNFCCC review process for the Annex I Parties to the Convention that report the data annually. Non-Annex I countries do not report the data annually and their data are not subject to the same review procedures. Data quality depends on the quality of statistics underlying the calculations or estimates and is usually the best for energy related emissions; because of differences in completeness and quality of the estimates, the data should be used with caution when comparing countries.', 'concept': '', 'periodicity': '', 'topic': 'Greenhouse Gases', 'created': '', 'last_modified': '', 'TriggerTalend': False, 'SavePathForJsonOutput': ''}}\n"
     ]
    },
    {
     "name": "stderr",
     "output_type": "stream",
     "text": [
      "INFO:root:Conversion successful - \n"
     ]
    },
    {
     "name": "stdout",
     "output_type": "stream",
     "text": [
      "{'JobPath': 'c:\\\\Users\\\\10235555\\\\Documents\\\\DataportalCrawlers\\\\UN_Data\\\\test_env\\\\Marine and terrestrial protected areas XLS.xlsx', 'JsonDetails': {'organisation': 'un-agencies', 'source': 'UNSTATS', 'source_description': 'The Environment Statistics Section of the United Nations Statistics Division (UNSD) is engaged in the development of methodology, data collection, capacity development, and coordination in the fields of environmental statistics and indicators.', 'source_url': 'https://unstats.un.org/unsd/envstats/qindicators', 'table': 'Marine and terrestrial protected areas XLS', 'description': 'Terrestrial protected areas are defined as totally or partially protected areas of at least 1,000 hectares that are designated by national authorities as scientific reserves with limited public access, national parks, natural monuments, nature reserves or wildlife sanctuaries, protected landscapes, and areas managed mainly for sustainable use. Unclassified areas, littoral (intertidal) areas, and sites protected under local or provincial law are excluded.\\nMarine protected areas are areas of intertidal or subtidal terrain - and overlying water and associated flora and fauna and historical and cultural features - that have been reserved by law or other effective means to protect part or all of the enclosed environment.\\nThe units of measure in this indicator are terrestrial protected areas, and marine protected areas in territorial waters (up to 12 nautical miles from the coast). The International Union for Conservation of Nature (IUCN) defines a protected area as “a clearly defined geographical space, recognized, dedicated and managed, through legal or other effective means, to achieve the long-term conservation of nature with associated ecosystem services and cultural values.”\\t Protected areas has the strongest direct links to Sustainable Development Goals (SDG) 14 (Life below water) and 15 (Life on land), as well as to Goals 3 (Good health and well-being), 6 (Clean water and sanitation), 11 (Sustainable cities and communities), 5 (Gender equality) and 13 (Climate action).\\nThis indicator is calculated using all protected areas recorded in the World Database on Protected Areas (WDPA) whose location and extent is known. The WDPA stores information about protected areas such as their name, type and date of designation, documented area, geographic location (point) and/or boundary (polygon). A global protected area layer is created by combining the polygons and points recorded in the WDPA. \\nThe marine category includes waters from the country coastline to 200 nautical miles. The total area of a country’s/territory’s terrestrial protected areas and marine protected areas in territorial waters is divided by the total area of its land areas (including inland waters) and territorial waters to obtain the relative coverage (percentage) of protected areas.', 'JobType': 'JSON', 'CleanPush': True, 'Server': 'str', 'UseJsonFormatForSQL': False, 'CleanReplace': True, 'MergeSchema': False, 'tags': [{'name': 'Biodiversity'}], 'additional_data_sources': [{'name': '', 'url': ''}], 'limitations': 'Quality control criteria are applied to ensure consistency and comparability of the data in the WDPA. New data are validated at UNEP-WCMC through a number of tools and translated into the standard data structure of the WDPA. Discrepancies between the data in the WDPA and new data are resolved in communication with data providers. Processed data is fully integrated into the published WDPA which is available at: www.protectedplanet.net.\\t\\t\\t\\t\\t\\nThe extent to which the land areas, including inland waters, and territorial waters of a country/territory are protected is a useful indicator of Government’s will to protect biodiversity. However, it is neither an indication of how well managed the terrestrial and marine protected areas are, nor confirmation that protection measures are effectively enforced. Further, the indicator does not provide information on non-designated protected areas that may also be important for conserving biodiversity.\\nThere are known data and knowledge gaps for some countries/regions due to difficulties in reporting national protected area data to the WDPA and/or determining whether a site conforms to the IUCN definition of a protected area.\\nUNEP-WCMC aggregates the global and regional figures for this indicator from the national figures calculated through GIS analysis. The global, regional and national figures provided by UNEP-WCMC are therefore consistent. Gaps and/or time lags in reporting national protected area data to the WDPA can however result in discrepancies between the national figures provided by UNEP-WCMC and national figures available from national agencies.', 'concept': '', 'periodicity': '', 'topic': 'Biodiversity', 'created': '', 'last_modified': '', 'TriggerTalend': False, 'SavePathForJsonOutput': ''}}\n"
     ]
    },
    {
     "name": "stderr",
     "output_type": "stream",
     "text": [
      "INFO:root:Conversion successful - \n"
     ]
    },
    {
     "name": "stdout",
     "output_type": "stream",
     "text": [
      "{'JobPath': 'c:\\\\Users\\\\10235555\\\\Documents\\\\DataportalCrawlers\\\\UN_Data\\\\test_env\\\\Contribution of mining to value added XLS.xlsx', 'JsonDetails': {'organisation': 'un-agencies', 'source': 'UNSTATS', 'source_description': 'The Environment Statistics Section of the United Nations Statistics Division (UNSD) is engaged in the development of methodology, data collection, capacity development, and coordination in the fields of environmental statistics and indicators.', 'source_url': 'https://unstats.un.org/unsd/envstats/qindicators', 'table': 'Contribution of mining to value added XLS', 'description': 'Contribution of mining to total value added is calculated as the value added by the mining and quarrying sector as percentage of total value added for all industries in the country or area. According to the System of National Accounts (SNA) 2008 gross value added is \"the value of output less the value of intermediate consumption\". Value added is a measurement of output used for aggregating production without double counting intermediate consumption and processes. ', 'JobType': 'JSON', 'CleanPush': True, 'Server': 'str', 'UseJsonFormatForSQL': False, 'CleanReplace': True, 'MergeSchema': False, 'tags': [{'name': 'Energy and Minerals'}], 'additional_data_sources': [{'name': '', 'url': ''}], 'limitations': 'Values in this table were calculated based on the data from the UNSD National Accounts Section received from their annual collections of official national accounts. Production data at the level of detail in this table were not available for all United Nations member states and estimates were made for those cases.  ', 'concept': '', 'periodicity': '', 'topic': 'Energy and Minerals', 'created': '', 'last_modified': '', 'TriggerTalend': False, 'SavePathForJsonOutput': ''}}\n"
     ]
    },
    {
     "name": "stderr",
     "output_type": "stream",
     "text": [
      "INFO:root:Conversion successful - \n"
     ]
    },
    {
     "name": "stdout",
     "output_type": "stream",
     "text": [
      "{'JobPath': 'c:\\\\Users\\\\10235555\\\\Documents\\\\DataportalCrawlers\\\\UN_Data\\\\test_env\\\\Energy intensity measured in terms of primary energy and GDPXLS.xlsx', 'JsonDetails': {'organisation': 'un-agencies', 'source': 'UNSTATS', 'source_description': 'The Environment Statistics Section of the United Nations Statistics Division (UNSD) is engaged in the development of methodology, data collection, capacity development, and coordination in the fields of environmental statistics and indicators.', 'source_url': 'https://unstats.un.org/unsd/envstats/qindicators', 'table': 'Energy intensity measured in terms of primary energy and GDPXLS', 'description': 'Energy intensity is defined as the energy supplied to the economy pet unit value of economic output.', 'JobType': 'JSON', 'CleanPush': True, 'Server': 'str', 'UseJsonFormatForSQL': False, 'CleanReplace': True, 'MergeSchema': False, 'tags': [{'name': 'Energy and Minerals'}], 'additional_data_sources': [{'name': '', 'url': ''}], 'limitations': '', 'concept': '', 'periodicity': '', 'topic': 'Energy and Minerals', 'created': '', 'last_modified': '', 'TriggerTalend': False, 'SavePathForJsonOutput': ''}}\n"
     ]
    },
    {
     "name": "stderr",
     "output_type": "stream",
     "text": [
      "INFO:root:Conversion successful - \n"
     ]
    },
    {
     "name": "stdout",
     "output_type": "stream",
     "text": [
      "{'JobPath': 'c:\\\\Users\\\\10235555\\\\Documents\\\\DataportalCrawlers\\\\UN_Data\\\\test_env\\\\Energy supply XLS.xlsx', 'JsonDetails': {'organisation': 'un-agencies', 'source': 'UNSTATS', 'source_description': 'The Environment Statistics Section of the United Nations Statistics Division (UNSD) is engaged in the development of methodology, data collection, capacity development, and coordination in the fields of environmental statistics and indicators.', 'source_url': 'https://unstats.un.org/unsd/envstats/qindicators', 'table': 'Energy supply XLS', 'description': 'Energy supply data were compiled by the UNSD Energy Statistics Section for the Energy Statistics Yearbook. For more detailed information on this indicator please refer to the publication.', 'JobType': 'JSON', 'CleanPush': True, 'Server': 'str', 'UseJsonFormatForSQL': False, 'CleanReplace': True, 'MergeSchema': False, 'tags': [{'name': 'Energy and Minerals'}], 'additional_data_sources': [{'name': '', 'url': ''}], 'limitations': 'Energy supply data are compiled primarily from the annual energy questionnaire distributed by the United Nations Statistics Division and supplemented by official national statistical publications, as well as publications from international and regional organizations. Where official data are not available or are inconsistent, estimates are made by the Statistics Division based on governmental, professional or commercial materials. Estimates include, but are not limited to, extrapolated data based on partial year information, use of annual trends, trade data based on partner country reports, breakdowns of aggregated data and analysis of current energy events.', 'concept': '', 'periodicity': '', 'topic': 'Energy and Minerals', 'created': '', 'last_modified': '', 'TriggerTalend': False, 'SavePathForJsonOutput': ''}}\n"
     ]
    },
    {
     "name": "stderr",
     "output_type": "stream",
     "text": [
      "INFO:root:Conversion successful - \n"
     ]
    },
    {
     "name": "stdout",
     "output_type": "stream",
     "text": [
      "{'JobPath': 'c:\\\\Users\\\\10235555\\\\Documents\\\\DataportalCrawlers\\\\UN_Data\\\\test_env\\\\Energy supply and renewable electricity production in 2017 XLS.xlsx', 'JsonDetails': {'organisation': 'un-agencies', 'source': 'UNSTATS', 'source_description': 'The Environment Statistics Section of the United Nations Statistics Division (UNSD) is engaged in the development of methodology, data collection, capacity development, and coordination in the fields of environmental statistics and indicators.', 'source_url': 'https://unstats.un.org/unsd/envstats/qindicators', 'table': 'Energy supply and renewable electricity production in 2017 XLS', 'description': 'Energy supply data were compiled by the UNSD Energy Statistics Section for the Energy Statistics Yearbook. For more detailed information on this indicator please refer to the publication.', 'JobType': 'JSON', 'CleanPush': True, 'Server': 'str', 'UseJsonFormatForSQL': False, 'CleanReplace': True, 'MergeSchema': False, 'tags': [{'name': 'Energy and Minerals'}], 'additional_data_sources': [{'name': '', 'url': ''}], 'limitations': 'Energy supply data are compiled primarily from the annual energy questionnaire distributed by the United Nations Statistics Division and supplemented by official national statistical publications, as well as publications from international and regional organizations. Where official data are not available or are inconsistent, estimates are made by the Statistics Division based on governmental, professional or commercial materials. Estimates include, but are not limited to, extrapolated data based on partial year information, use of annual trends, trade data based on partner country reports, breakdowns of aggregated data and analysis of current energy events.', 'concept': '', 'periodicity': '', 'topic': 'Energy and Minerals', 'created': '', 'last_modified': '', 'TriggerTalend': False, 'SavePathForJsonOutput': ''}}\n"
     ]
    },
    {
     "name": "stderr",
     "output_type": "stream",
     "text": [
      "INFO:root:Conversion successful - \n"
     ]
    },
    {
     "name": "stdout",
     "output_type": "stream",
     "text": [
      "{'JobPath': 'c:\\\\Users\\\\10235555\\\\Documents\\\\DataportalCrawlers\\\\UN_Data\\\\test_env\\\\Energy supply per capita XLS.xlsx', 'JsonDetails': {'organisation': 'un-agencies', 'source': 'UNSTATS', 'source_description': 'The Environment Statistics Section of the United Nations Statistics Division (UNSD) is engaged in the development of methodology, data collection, capacity development, and coordination in the fields of environmental statistics and indicators.', 'source_url': 'https://unstats.un.org/unsd/envstats/qindicators', 'table': 'Energy supply per capita XLS', 'description': 'Energy supply data were compiled by the UNSD Energy Statistics Section for the Energy Statistics Yearbook. For more detailed information on this indicator please refer to the publication.', 'JobType': 'JSON', 'CleanPush': True, 'Server': 'str', 'UseJsonFormatForSQL': False, 'CleanReplace': True, 'MergeSchema': False, 'tags': [{'name': 'Energy and Minerals'}], 'additional_data_sources': [{'name': '', 'url': ''}], 'limitations': 'Energy supply data are compiled primarily from the annual energy questionnaire distributed by the United Nations Statistics Division and supplemented by official national statistical publications, as well as publications from international and regional organizations. Where official data are not available or are inconsistent, estimates are made by the Statistics Division based on governmental, professional or commercial materials. Estimates include, but are not limited to, extrapolated data based on partial year information, use of annual trends, trade data based on partner country reports, breakdowns of aggregated data and analysis of current energy events.', 'concept': '', 'periodicity': '', 'topic': 'Energy and Minerals', 'created': '', 'last_modified': '', 'TriggerTalend': False, 'SavePathForJsonOutput': ''}}\n"
     ]
    },
    {
     "name": "stderr",
     "output_type": "stream",
     "text": [
      "INFO:root:Conversion successful - \n"
     ]
    },
    {
     "name": "stdout",
     "output_type": "stream",
     "text": [
      "{'JobPath': 'c:\\\\Users\\\\10235555\\\\Documents\\\\DataportalCrawlers\\\\UN_Data\\\\test_env\\\\Renewable electricity production XLS.xlsx', 'JsonDetails': {'organisation': 'un-agencies', 'source': 'UNSTATS', 'source_description': 'The Environment Statistics Section of the United Nations Statistics Division (UNSD) is engaged in the development of methodology, data collection, capacity development, and coordination in the fields of environmental statistics and indicators.', 'source_url': 'https://unstats.un.org/unsd/envstats/qindicators', 'table': 'Renewable electricity production XLS', 'description': 'Electricity production refers to gross production, which is the sum of the electrical energy production by all the generating units/installations concerned (including pumped storage) measured at the output terminals of the main generators.', 'JobType': 'JSON', 'CleanPush': True, 'Server': 'str', 'UseJsonFormatForSQL': False, 'CleanReplace': True, 'MergeSchema': False, 'tags': [{'name': 'Energy and Minerals'}], 'additional_data_sources': [{'name': '', 'url': ''}], 'limitations': 'Renewable electricity production data are compiled primarily from the UNSD Annual Questionnaire on Energy Statistics and supplemented with data from official national statistical publications and specialized and intergovernmental agencies. Where official data are not available, estimates are made by UNSD based on governmental, professional or commercial materials. Estimates include, but are not limited to, extrapolated data based on partial year information, use of annual trends, trade data based on partner country reports, breakdowns of aggregated data as well as analysis of current energy events and activities.', 'concept': '', 'periodicity': '', 'topic': 'Energy and Minerals', 'created': '', 'last_modified': '', 'TriggerTalend': False, 'SavePathForJsonOutput': ''}}\n"
     ]
    },
    {
     "name": "stderr",
     "output_type": "stream",
     "text": [
      "INFO:root:Conversion successful - \n"
     ]
    },
    {
     "name": "stdout",
     "output_type": "stream",
     "text": [
      "{'JobPath': 'c:\\\\Users\\\\10235555\\\\Documents\\\\DataportalCrawlers\\\\UN_Data\\\\test_env\\\\Forest area XLS.xlsx', 'JsonDetails': {'organisation': 'un-agencies', 'source': 'UNSTATS', 'source_description': 'The Environment Statistics Section of the United Nations Statistics Division (UNSD) is engaged in the development of methodology, data collection, capacity development, and coordination in the fields of environmental statistics and indicators.', 'source_url': 'https://unstats.un.org/unsd/envstats/qindicators', 'table': 'Forest area XLS', 'description': 'Forest is defined as land spanning more than 0.5 hectares with trees higher than 5 meters and a canopy cover of more than 10 percent, or trees able to reach these thresholds in situ. It does not include land that is predominantly under agricultural or urban land use. \\n• Forest is determined both by the presence of trees and the absence of other predominant land uses. The trees should be able to reach a minimum height of 5 meters. \\n• It includes areas with young trees that have not yet reached but which are expected to reach a canopy cover of at least 10 percent and tree height of 5 meters or more. It also includes areas that are temporarily unstocked due to clear-cutting as part of a forest management practice or natural disasters, and which are expected to be regenerated within 5 years. Local conditions may, in exceptional cases, justify that a longer time frame is used. \\n• It includes forest roads, firebreaks and other small open areas; forest in national parks, nature reserves and other protected areas such as those of specific environmental, scientific, historical, cultural or spiritual interest. \\n• It includes windbreaks, shelterbelts and corridors of trees with an area of more than 0.5 hectares and width of more than 20 meters. \\n• It includes abandoned shifting cultivation land with a regeneration of trees that have, or are expected to reach, a canopy cover of at least 10 percent and tree height of at least 5 meters. \\n• It includes areas with mangroves in tidal zones, regardless whether this area is classified as land area or not. \\n• It includes rubberwood, cork oak and Christmas tree plantations. \\n• It includes areas with bamboo and palms provided that land use, height and canopy cover criteria are met. \\n• It excludes tree stands in agricultural production systems, such as fruit tree plantations, oil palm plantations, olive orchards and agroforestry systems when crops are grown under tree cover. Note: Some agroforestry systems such as the “Taungya” system where crops are grown only during the first years of the forest rotation should be classified as forest.\\n\\nTotal Land Area is the total surface area of a country less the area covered by inland waters, like major rivers and lakes.\\nDeforestation is the conversion of forest to another land use or the long-term reduction of tree canopy cover below the 10% threshold.', 'JobType': 'JSON', 'CleanPush': True, 'Server': 'str', 'UseJsonFormatForSQL': False, 'CleanReplace': True, 'MergeSchema': False, 'tags': [{'name': 'Forests'}], 'additional_data_sources': [{'name': '', 'url': ''}], 'limitations': '', 'concept': '', 'periodicity': '', 'topic': 'Forests', 'created': '', 'last_modified': '', 'TriggerTalend': False, 'SavePathForJsonOutput': ''}}\n"
     ]
    },
    {
     "name": "stderr",
     "output_type": "stream",
     "text": [
      "INFO:root:Conversion successful - \n"
     ]
    },
    {
     "name": "stdout",
     "output_type": "stream",
     "text": [
      "{'JobPath': 'c:\\\\Users\\\\10235555\\\\Documents\\\\DataportalCrawlers\\\\UN_Data\\\\test_env\\\\Participation in selected international environmental agreements XLS.xlsx', 'JsonDetails': {'organisation': 'un-agencies', 'source': 'UNSTATS', 'source_description': 'The Environment Statistics Section of the United Nations Statistics Division (UNSD) is engaged in the development of methodology, data collection, capacity development, and coordination in the fields of environmental statistics and indicators.', 'source_url': 'https://unstats.un.org/unsd/envstats/qindicators', 'table': 'Participation in selected international environmental agreements XLS', 'description': 'The table presents the years of formalization of participation in a selection of international environmental treaties and conventions for the 194 United Nations member states only. Participation, in this table, means the country or area has become party to the agreements under the treaty or convention, which is achieved through a variety of means depending on country circumstances, namely: accession, acceptance, approval, formal confirmation, ratification, and succession. Countries or areas who have signed but not become party to the agreements under a given convention or treaty are thus indicated as non-participants.\\t\\t\\t\\t\\t\\t\\t\\t\\t\\t\\t\\nThe years refer to the date that participation was formalized. Participation can have special or country-specific provisions depending on the nature of the agreement and national circumstances. For more detailed country-specific information on participation under each agreement please visit the website of the secretariat for the convention/treaty.\\t\\t\\t\\t\\t\\t\\t\\t\\t\\t\\t\\nBelow are the complete titles and secretariat websites for each of the selected environmental agreements in the table:', 'JobType': 'JSON', 'CleanPush': True, 'Server': 'str', 'UseJsonFormatForSQL': False, 'CleanReplace': True, 'MergeSchema': False, 'tags': [{'name': 'Governance'}], 'additional_data_sources': [{'name': '', 'url': ''}], 'limitations': '', 'concept': '', 'periodicity': '', 'topic': 'Governance', 'created': '', 'last_modified': '', 'TriggerTalend': False, 'SavePathForJsonOutput': ''}}\n"
     ]
    },
    {
     "name": "stderr",
     "output_type": "stream",
     "text": [
      "INFO:root:Conversion successful - \n"
     ]
    },
    {
     "name": "stdout",
     "output_type": "stream",
     "text": [
      "{'JobPath': 'c:\\\\Users\\\\10235555\\\\Documents\\\\DataportalCrawlers\\\\UN_Data\\\\test_env\\\\Actual evapotranspiration XLS.xlsx', 'JsonDetails': {'organisation': 'un-agencies', 'source': 'UNSTATS', 'source_description': 'The Environment Statistics Section of the United Nations Statistics Division (UNSD) is engaged in the development of methodology, data collection, capacity development, and coordination in the fields of environmental statistics and indicators.', 'source_url': 'https://unstats.un.org/unsd/envstats/qindicators', 'table': 'Actual evapotranspiration XLS', 'description': \"Actual evapotranspiration: Total actual volume of evaporation from the ground, wetlands and natural water bodies and transpiration of plants. According to the definition of this concept in Hydrology, the evapotranspiration generated by all human interventions is excluded, except unirrigated agriculture and forestry.  The 'actual evapotranspiration' is calculated using different types of mathematical models, ranging from very simple algorithms (Budyko, Turn Pyke, etc.) to schemes that represent the hydrological cycle in detail.\", 'JobType': 'JSON', 'CleanPush': True, 'Server': 'str', 'UseJsonFormatForSQL': False, 'CleanReplace': True, 'MergeSchema': False, 'tags': [{'name': 'Inland Water Resources'}], 'additional_data_sources': [{'name': '', 'url': ''}], 'limitations': 'When interpreting these tables, it should be borne in mind that the definitions and estimation methods employed by member countries may vary considerably, which may be mentioned in the footnotes.', 'concept': '', 'periodicity': '', 'topic': 'Inland Water Resources', 'created': '', 'last_modified': '', 'TriggerTalend': False, 'SavePathForJsonOutput': ''}}\n"
     ]
    },
    {
     "name": "stderr",
     "output_type": "stream",
     "text": [
      "INFO:root:Conversion successful - \n"
     ]
    },
    {
     "name": "stdout",
     "output_type": "stream",
     "text": [
      "{'JobPath': 'c:\\\\Users\\\\10235555\\\\Documents\\\\DataportalCrawlers\\\\UN_Data\\\\test_env\\\\Fresh groundwater abstracted XLS.xlsx', 'JsonDetails': {'organisation': 'un-agencies', 'source': 'UNSTATS', 'source_description': 'The Environment Statistics Section of the United Nations Statistics Division (UNSD) is engaged in the development of methodology, data collection, capacity development, and coordination in the fields of environmental statistics and indicators.', 'source_url': 'https://unstats.un.org/unsd/envstats/qindicators', 'table': 'Fresh groundwater abstracted XLS', 'description': 'Fresh groundwater refers to freshwater which is being held in, and can usually be recovered from, or via, an underground formation. All permanent and temporary deposits of water, both artificially charged and naturally, in the subsoil, of sufficient quality for at least seasonal use. This category includes phreatic water-bearing strata, as well as deep strata under pressure or not, contained in porous or fracture soils. For purposes of the UNSD/UNEP questionnaire on environment statistics (water section), groundwater includes springs, both concentrated and diffused, which may be subaqueous.\\n\\nFresh groundwater abstracted is fresh groundwater removed from any groundwater source, either permanently or temporarily.', 'JobType': 'JSON', 'CleanPush': True, 'Server': 'str', 'UseJsonFormatForSQL': False, 'CleanReplace': True, 'MergeSchema': False, 'tags': [{'name': 'Inland Water Resources'}], 'additional_data_sources': [{'name': '', 'url': ''}], 'limitations': 'When interpreting these tables, it should be borne in mind that the definitions and estimation methods employed by member countries may vary considerably, which may be mentioned in the footnotes.', 'concept': '', 'periodicity': '', 'topic': 'Inland Water Resources', 'created': '', 'last_modified': '', 'TriggerTalend': False, 'SavePathForJsonOutput': ''}}\n"
     ]
    },
    {
     "name": "stderr",
     "output_type": "stream",
     "text": [
      "INFO:root:Conversion successful - \n"
     ]
    },
    {
     "name": "stdout",
     "output_type": "stream",
     "text": [
      "{'JobPath': 'c:\\\\Users\\\\10235555\\\\Documents\\\\DataportalCrawlers\\\\UN_Data\\\\test_env\\\\Fresh surface water abstracted XLS.xlsx', 'JsonDetails': {'organisation': 'un-agencies', 'source': 'UNSTATS', 'source_description': 'The Environment Statistics Section of the United Nations Statistics Division (UNSD) is engaged in the development of methodology, data collection, capacity development, and coordination in the fields of environmental statistics and indicators.', 'source_url': 'https://unstats.un.org/unsd/envstats/qindicators', 'table': 'Fresh surface water abstracted XLS', 'description': 'Fresh surface water is water which flows over, or rests on, the surface of a land mass; natural watercourses such as rivers, streams, brooks, lakes, etc., as well as artificial watercourses such as irrigation, industrial and navigation canals, drainage systems and artificial reservoirs. For purposes of the UNSD questionnaire on environment statistics (water section), water obtained through bank filtration is included under (fresh) surface water.  Sea-water, and transitional waters, such as brackish swamps, lagoons and estuarine areas are not considered fresh surface water.\\n\\nFresh surface water abstracted is water removed from any surface water sources, such as rivers, lakes, reservoirs or rainwater, either permanently or temporarily. ', 'JobType': 'JSON', 'CleanPush': True, 'Server': 'str', 'UseJsonFormatForSQL': False, 'CleanReplace': True, 'MergeSchema': False, 'tags': [{'name': 'Inland Water Resources'}], 'additional_data_sources': [{'name': '', 'url': ''}], 'limitations': 'When interpreting these tables, it should be borne in mind that the definitions and estimation methods employed by member countries may vary considerably, which may be mentioned in the footnotes.', 'concept': '', 'periodicity': '', 'topic': 'Inland Water Resources', 'created': '', 'last_modified': '', 'TriggerTalend': False, 'SavePathForJsonOutput': ''}}\n"
     ]
    },
    {
     "name": "stderr",
     "output_type": "stream",
     "text": [
      "INFO:root:Conversion successful - \n"
     ]
    },
    {
     "name": "stdout",
     "output_type": "stream",
     "text": [
      "{'JobPath': 'c:\\\\Users\\\\10235555\\\\Documents\\\\DataportalCrawlers\\\\UN_Data\\\\test_env\\\\Freshwater abstracted XLS.xlsx', 'JsonDetails': {'organisation': 'un-agencies', 'source': 'UNSTATS', 'source_description': 'The Environment Statistics Section of the United Nations Statistics Division (UNSD) is engaged in the development of methodology, data collection, capacity development, and coordination in the fields of environmental statistics and indicators.', 'source_url': 'https://unstats.un.org/unsd/envstats/qindicators', 'table': 'Freshwater abstracted XLS', 'description': 'Freshwater abstracted is water removed from any water source (surface water sources, such as rivers, lakes, reservoirs or rainwater; and groundwater sources) either permanently or temporarily.  It includes abstraction by the water supply industry for distribution and direct abstraction by other activities for own use.', 'JobType': 'JSON', 'CleanPush': True, 'Server': 'str', 'UseJsonFormatForSQL': False, 'CleanReplace': True, 'MergeSchema': False, 'tags': [{'name': 'Inland Water Resources'}], 'additional_data_sources': [{'name': '', 'url': ''}], 'limitations': 'When interpreting these tables, it should be borne in mind that the definitions and estimation methods employed by member countries may vary considerably, which may be mentioned in the footnotes.', 'concept': '', 'periodicity': '', 'topic': 'Inland Water Resources', 'created': '', 'last_modified': '', 'TriggerTalend': False, 'SavePathForJsonOutput': ''}}\n"
     ]
    },
    {
     "name": "stderr",
     "output_type": "stream",
     "text": [
      "INFO:root:Conversion successful - \n"
     ]
    },
    {
     "name": "stdout",
     "output_type": "stream",
     "text": [
      "{'JobPath': 'c:\\\\Users\\\\10235555\\\\Documents\\\\DataportalCrawlers\\\\UN_Data\\\\test_env\\\\Freshwater abstracted as proportion of renewable freshwater resources XLS.xlsx', 'JsonDetails': {'organisation': 'un-agencies', 'source': 'UNSTATS', 'source_description': 'The Environment Statistics Section of the United Nations Statistics Division (UNSD) is engaged in the development of methodology, data collection, capacity development, and coordination in the fields of environmental statistics and indicators.', 'source_url': 'https://unstats.un.org/unsd/envstats/qindicators', 'table': 'Freshwater abstracted as proportion of renewable freshwater resources XLS', 'description': 'Freshwater abstracted: Water removed from any water source (surface water sources, such as rivers, lakes, reservoirs or rainwater; and groundwater sources) either permanently or temporarily. Includes abstraction by the water supply industry for distribution and direct abstraction by other activities for own use. The volume of water abstracted is broken down by main groups of economic activity of the abstractors (according to ISIC Rev.4) and households.\\n\\nRenewable freshwater resources: = Internal flow + Inflow of surface and groundwaters from neighbouring countries.\\n\\nInternal flow is the total volume of river run-off and groundwater generated in natural conditions, exclusively by precipitation within the country. The internal flow is equal to precipitation less actual evapotranspiration and can be calculated or measured.\\n\\nInflow of surface and groundwaters from neighbouring countries: Total volume of actual external inflow of rivers and groundwater, coming from neighbouring countries. Boundary waters should be divided 50/50 between the two riparian countries, unless other water sharing agreements exist.\\n', 'JobType': 'JSON', 'CleanPush': True, 'Server': 'str', 'UseJsonFormatForSQL': False, 'CleanReplace': True, 'MergeSchema': False, 'tags': [{'name': 'Inland Water Resources'}], 'additional_data_sources': [{'name': '', 'url': ''}], 'limitations': 'When interpreting these tables, it should be borne in mind that the definitions and estimation methods employed by member countries may vary considerably, which may be mentioned in the footnotes.', 'concept': '', 'periodicity': '', 'topic': 'Inland Water Resources', 'created': '', 'last_modified': '', 'TriggerTalend': False, 'SavePathForJsonOutput': ''}}\n"
     ]
    },
    {
     "name": "stderr",
     "output_type": "stream",
     "text": [
      "INFO:root:Conversion successful - \n"
     ]
    },
    {
     "name": "stdout",
     "output_type": "stream",
     "text": [
      "{'JobPath': 'c:\\\\Users\\\\10235555\\\\Documents\\\\DataportalCrawlers\\\\UN_Data\\\\test_env\\\\Inflow of surface and groundwaters from neighbouring countries XLS.xlsx', 'JsonDetails': {'organisation': 'un-agencies', 'source': 'UNSTATS', 'source_description': 'The Environment Statistics Section of the United Nations Statistics Division (UNSD) is engaged in the development of methodology, data collection, capacity development, and coordination in the fields of environmental statistics and indicators.', 'source_url': 'https://unstats.un.org/unsd/envstats/qindicators', 'table': 'Inflow of surface and groundwaters from neighbouring countries XLS', 'description': 'Inflow of surface and groundwaters from neighbouring countries: Total volume of actual external inflow of rivers and groundwater, coming from neighbouring countries. Boundary waters should be divided 50/50 between the two riparian countries, unless other water sharing agreements exist.', 'JobType': 'JSON', 'CleanPush': True, 'Server': 'str', 'UseJsonFormatForSQL': False, 'CleanReplace': True, 'MergeSchema': False, 'tags': [{'name': 'Inland Water Resources'}], 'additional_data_sources': [{'name': '', 'url': ''}], 'limitations': 'When interpreting these tables, it should be borne in mind that the definitions and estimation methods employed by member countries may vary considerably, which may be mentioned in the footnotes.', 'concept': '', 'periodicity': '', 'topic': 'Inland Water Resources', 'created': '', 'last_modified': '', 'TriggerTalend': False, 'SavePathForJsonOutput': ''}}\n"
     ]
    },
    {
     "name": "stderr",
     "output_type": "stream",
     "text": [
      "INFO:root:Conversion successful - \n"
     ]
    },
    {
     "name": "stdout",
     "output_type": "stream",
     "text": [
      "{'JobPath': 'c:\\\\Users\\\\10235555\\\\Documents\\\\DataportalCrawlers\\\\UN_Data\\\\test_env\\\\Internal flow  XLS.xlsx', 'JsonDetails': {'organisation': 'un-agencies', 'source': 'UNSTATS', 'source_description': 'The Environment Statistics Section of the United Nations Statistics Division (UNSD) is engaged in the development of methodology, data collection, capacity development, and coordination in the fields of environmental statistics and indicators.', 'source_url': 'https://unstats.un.org/unsd/envstats/qindicators', 'table': 'Internal flow  XLS', 'description': 'Internal flow: Total volume of river run-off and groundwater generated over the period of a year, in natural conditions, exclusively by precipitation into a country. The internal flow is equal to precipitation less actual evapotranspiration and can be calculated or measured. If the river runoff and groundwater generation are measured separately, transfers between surface and groundwater should be netted out to avoid double counting.', 'JobType': 'JSON', 'CleanPush': True, 'Server': 'str', 'UseJsonFormatForSQL': False, 'CleanReplace': True, 'MergeSchema': False, 'tags': [{'name': 'Inland Water Resources'}], 'additional_data_sources': [{'name': '', 'url': ''}], 'limitations': 'When interpreting these tables, it should be borne in mind that the definitions and estimation methods employed by member countries may vary considerably, which may be mentioned in the footnotes.', 'concept': '', 'periodicity': '', 'topic': 'Inland Water Resources', 'created': '', 'last_modified': '', 'TriggerTalend': False, 'SavePathForJsonOutput': ''}}\n"
     ]
    },
    {
     "name": "stderr",
     "output_type": "stream",
     "text": [
      "INFO:root:Conversion successful - \n"
     ]
    },
    {
     "name": "stdout",
     "output_type": "stream",
     "text": [
      "{'JobPath': 'c:\\\\Users\\\\10235555\\\\Documents\\\\DataportalCrawlers\\\\UN_Data\\\\test_env\\\\Net freshwater supplied by water supply industry  XLS.xlsx', 'JsonDetails': {'organisation': 'un-agencies', 'source': 'UNSTATS', 'source_description': 'The Environment Statistics Section of the United Nations Statistics Division (UNSD) is engaged in the development of methodology, data collection, capacity development, and coordination in the fields of environmental statistics and indicators.', 'source_url': 'https://unstats.un.org/unsd/envstats/qindicators', 'table': 'Net freshwater supplied by water supply industry  XLS', 'description': 'Water supply industry: It corresponds to ISIC division 36 (the International Standard Industrial Classification of All Economic Activities, ISIC Rev. 4). The water collection, treatment and supply industry includes water collection, treatment and distribution activities for domestic and industrial needs. Collection of water from various sources, as well as distribution by various means is included.\\nFor Eurostat countries, data provided refer to \"Water use by supply category and economical sector\". Supply category corresponds here to  \"Public water supply\" and  economical sector to \"Households\". Public Water Supply is water supplied by economic units engaged in collection, purification and distribution of water (including desalting of sea water to produce water as the principal product of interest, and excluding treatment of wastewater solely in order to prevent pollution). It corresponds to division 36 (NACE/ISIC) independently of the sector involved, but excluding systems operation for agricultural irrigation such as irrigation canals, which should be reported under \"Other supply\". Deliveries of water from one public supply undertaking to another are excluded.\\nNet freshwater supplied by water supply industry refers to gross freshwater supplied by water supply industry minus freshwater losses during transport. The net volume of freshwater supplied by the water supply industry to final users is broken down by households and by main groups of the economic activity of the final users (according to ISIC Rev. 4).\\n', 'JobType': 'JSON', 'CleanPush': True, 'Server': 'str', 'UseJsonFormatForSQL': False, 'CleanReplace': True, 'MergeSchema': False, 'tags': [{'name': 'Inland Water Resources'}], 'additional_data_sources': [{'name': '', 'url': ''}], 'limitations': 'When interpreting these tables, it should be borne in mind that the definitions and estimation methods employed by member countries may vary considerably, which may be mentioned in the footnotes.', 'concept': '', 'periodicity': '', 'topic': 'Inland Water Resources', 'created': '', 'last_modified': '', 'TriggerTalend': False, 'SavePathForJsonOutput': ''}}\n"
     ]
    },
    {
     "name": "stderr",
     "output_type": "stream",
     "text": [
      "INFO:root:Conversion successful - \n"
     ]
    },
    {
     "name": "stdout",
     "output_type": "stream",
     "text": [
      "{'JobPath': 'c:\\\\Users\\\\10235555\\\\Documents\\\\DataportalCrawlers\\\\UN_Data\\\\test_env\\\\Net freshwater supplied by water supply industry to households   XLS.xlsx', 'JsonDetails': {'organisation': 'un-agencies', 'source': 'UNSTATS', 'source_description': 'The Environment Statistics Section of the United Nations Statistics Division (UNSD) is engaged in the development of methodology, data collection, capacity development, and coordination in the fields of environmental statistics and indicators.', 'source_url': 'https://unstats.un.org/unsd/envstats/qindicators', 'table': 'Net freshwater supplied by water supply industry to households   XLS', 'description': 'Water supply industry: It corresponds to ISIC division 36 (the International Standard Industrial Classification of All Economic Activities, ISIC Rev. 4). The water collection, treatment and supply industry includes water collection, treatment and distribution activities for domestic and industrial needs. Collection of water from various sources, as well as distribution by various means is included.', 'JobType': 'JSON', 'CleanPush': True, 'Server': 'str', 'UseJsonFormatForSQL': False, 'CleanReplace': True, 'MergeSchema': False, 'tags': [{'name': 'Inland Water Resources'}], 'additional_data_sources': [{'name': '', 'url': ''}], 'limitations': 'When interpreting these tables, it should be borne in mind that the definitions and estimation methods employed by member countries may vary considerably, which may be mentioned in the footnotes.', 'concept': '', 'periodicity': '', 'topic': 'Inland Water Resources', 'created': '', 'last_modified': '', 'TriggerTalend': False, 'SavePathForJsonOutput': ''}}\n"
     ]
    },
    {
     "name": "stderr",
     "output_type": "stream",
     "text": [
      "INFO:root:Conversion successful - \n"
     ]
    },
    {
     "name": "stdout",
     "output_type": "stream",
     "text": [
      "{'JobPath': 'c:\\\\Users\\\\10235555\\\\Documents\\\\DataportalCrawlers\\\\UN_Data\\\\test_env\\\\Non-treated wastewater  XLS.xlsx', 'JsonDetails': {'organisation': 'un-agencies', 'source': 'UNSTATS', 'source_description': 'The Environment Statistics Section of the United Nations Statistics Division (UNSD) is engaged in the development of methodology, data collection, capacity development, and coordination in the fields of environmental statistics and indicators.', 'source_url': 'https://unstats.un.org/unsd/envstats/qindicators', 'table': 'Non-treated wastewater  XLS', 'description': 'Wastewater is water which is of no further value to the purpose for which it was used because of its quality, quantity or time of occurrence.  Total wastewater generated is the total volume of wastewater generated by economic activities (agriculture, forestry and fishing; manufacturing; electricity industry; and other economic activities) and households.  Cooling water is excluded.\\nNon-treated wastewater corresponds to the wastewater that is not treated in urban wastewater treatment plants, other treatment plants or independent treatment facilities. ', 'JobType': 'JSON', 'CleanPush': True, 'Server': 'str', 'UseJsonFormatForSQL': False, 'CleanReplace': True, 'MergeSchema': False, 'tags': [{'name': 'Inland Water Resources'}], 'additional_data_sources': [{'name': '', 'url': ''}], 'limitations': 'When interpreting these tables, it should be borne in mind that the definitions and estimation methods employed by member countries may vary considerably, which may be mentioned in the footnotes.', 'concept': '', 'periodicity': '', 'topic': 'Inland Water Resources', 'created': '', 'last_modified': '', 'TriggerTalend': False, 'SavePathForJsonOutput': ''}}\n"
     ]
    },
    {
     "name": "stderr",
     "output_type": "stream",
     "text": [
      "INFO:root:Conversion successful - \n"
     ]
    },
    {
     "name": "stdout",
     "output_type": "stream",
     "text": [
      "{'JobPath': 'c:\\\\Users\\\\10235555\\\\Documents\\\\DataportalCrawlers\\\\UN_Data\\\\test_env\\\\Population connected to wastewater collecting system  XLS.xlsx', 'JsonDetails': {'organisation': 'un-agencies', 'source': 'UNSTATS', 'source_description': 'The Environment Statistics Section of the United Nations Statistics Division (UNSD) is engaged in the development of methodology, data collection, capacity development, and coordination in the fields of environmental statistics and indicators.', 'source_url': 'https://unstats.un.org/unsd/envstats/qindicators', 'table': 'Population connected to wastewater collecting system  XLS', 'description': 'Wastewater refers to water which is of no further value to the purpose for which it was used because of its quality, quantity or time of occurrence.  Cooling water is excluded.\\nWastewater collecting system may deliver wastewater to treatment plants or may discharge it without treatment to the environment.\\nPopulation connected to wastewater collecting system is the percentage of the resident population connected to the wastewater collecting systems (sewerage).  Wastewater collecting systems may deliver wastewater to treatment plants or may discharge it without treatment to the environment.', 'JobType': 'JSON', 'CleanPush': True, 'Server': 'str', 'UseJsonFormatForSQL': False, 'CleanReplace': True, 'MergeSchema': False, 'tags': [{'name': 'Inland Water Resources'}], 'additional_data_sources': [{'name': '', 'url': ''}], 'limitations': 'When interpreting these tables, it should be borne in mind that the definitions and estimation methods employed by member countries may vary considerably, which may be mentioned in the footnotes.', 'concept': '', 'periodicity': '', 'topic': 'Inland Water Resources', 'created': '', 'last_modified': '', 'TriggerTalend': False, 'SavePathForJsonOutput': ''}}\n"
     ]
    },
    {
     "name": "stderr",
     "output_type": "stream",
     "text": [
      "INFO:root:Conversion successful - \n"
     ]
    },
    {
     "name": "stdout",
     "output_type": "stream",
     "text": [
      "{'JobPath': 'c:\\\\Users\\\\10235555\\\\Documents\\\\DataportalCrawlers\\\\UN_Data\\\\test_env\\\\Population connected to wastewater treatment  XLS.xlsx', 'JsonDetails': {'organisation': 'un-agencies', 'source': 'UNSTATS', 'source_description': 'The Environment Statistics Section of the United Nations Statistics Division (UNSD) is engaged in the development of methodology, data collection, capacity development, and coordination in the fields of environmental statistics and indicators.', 'source_url': 'https://unstats.un.org/unsd/envstats/qindicators', 'table': 'Population connected to wastewater treatment  XLS', 'description': 'Wastewater refers to water which is of no further value to the purpose for which it was used because of its quality, quantity or time of occurrence.  Cooling water is excluded.\\nWastewater treatment is all treatment of wastewater in wastewater treatment plants. Wastewater treatment plants are usually operated by public authorities or by private companies working by order of public authorities. They correspond to urban wastewater treatment  plants and other wastewater treatment plants. Independent wastewater treatment facilities are not included in this definition of wastewater treatment plants. Includes wastewater delivered to treatment plants by trucks.\\nPopulation connected to wastewater treatment refers to the percentage of the resident population whose wastewater is treated at wastewater treatment plants.\\n', 'JobType': 'JSON', 'CleanPush': True, 'Server': 'str', 'UseJsonFormatForSQL': False, 'CleanReplace': True, 'MergeSchema': False, 'tags': [{'name': 'Inland Water Resources'}], 'additional_data_sources': [{'name': '', 'url': ''}], 'limitations': 'When interpreting these tables, it should be borne in mind that the definitions and estimation methods employed by member countries may vary considerably, which may be mentioned in the footnotes.', 'concept': '', 'periodicity': '', 'topic': 'Inland Water Resources', 'created': '', 'last_modified': '', 'TriggerTalend': False, 'SavePathForJsonOutput': ''}}\n"
     ]
    },
    {
     "name": "stderr",
     "output_type": "stream",
     "text": [
      "INFO:root:Conversion successful - \n"
     ]
    },
    {
     "name": "stdout",
     "output_type": "stream",
     "text": [
      "{'JobPath': 'c:\\\\Users\\\\10235555\\\\Documents\\\\DataportalCrawlers\\\\UN_Data\\\\test_env\\\\Population connected to at least secondary wastewater treatment  XLS.xlsx', 'JsonDetails': {'organisation': 'un-agencies', 'source': 'UNSTATS', 'source_description': 'The Environment Statistics Section of the United Nations Statistics Division (UNSD) is engaged in the development of methodology, data collection, capacity development, and coordination in the fields of environmental statistics and indicators.', 'source_url': 'https://unstats.un.org/unsd/envstats/qindicators', 'table': 'Population connected to at least secondary wastewater treatment  XLS', 'description': 'Wastewater is water which is of no further value to the purpose for which it was used because of its quality, quantity or time of occurrence.\\nTotal wastewater generated is the total volume of wastewater generated by economic activities (agriculture, forestry and fishing; manufacturing; electricity industry; and other economic activities) and households.  Cooling water is excluded.\\nFor the variable, \"total wastewater generated\", data are sourced from Eurostat and the source variable is: \"Generation of wastewater - all sources\".\\n\\nUrban wastewater treatment is all treatment of wastewater in urban wastewater treatment plants (UWWTP’s). UWWTP’s are usually operated by public authorities or by private companies working by order of public authorities. Includes wastewater delivered to treatment plants by trucks.  UWWTP\\'s are classified under ISIC 37 (Sewerage).  For the variable, \"Wastewater treated in urban wastewater treatment plants\",  data are sourced from Eurostat and the source variable is: \"Urban wastewater treatment - total inflow\".\\n\\nOther wastewater treatment corresponds to treatment of wastewater in any non-public treatment plant, i.e., industrial wastewater treatment plants (IWWTP). Excluded from \"other wastewater treatment\" is the treatment in septic tanks.  IWWTPs may also be classified under ISIC 37 (Sewerage) or under the main activity class of the industrial establishment they belong to.\\n\\nIndependent wastewater treatment corresponds to the collection, preliminary treatment, treatment, infiltration or discharge of domestic wastewater from dwellings generally between 1 and 50 population equivalents, not connected to a wastewater collection system. An example is septic tanks. Excluded from here are systems with storage tanks from which the wastewater is transported periodically by trucks to a wastewater treatment plant which are part of urban wastewater treatment.', 'JobType': 'JSON', 'CleanPush': True, 'Server': 'str', 'UseJsonFormatForSQL': False, 'CleanReplace': True, 'MergeSchema': False, 'tags': [{'name': 'Inland Water Resources'}], 'additional_data_sources': [{'name': '', 'url': ''}], 'limitations': 'When interpreting these tables, it should be borne in mind that the definitions and estimation methods employed by member countries may vary considerably, which may be mentioned in the footnotes.', 'concept': '', 'periodicity': '', 'topic': 'Inland Water Resources', 'created': '', 'last_modified': '', 'TriggerTalend': False, 'SavePathForJsonOutput': ''}}\n"
     ]
    },
    {
     "name": "stderr",
     "output_type": "stream",
     "text": [
      "INFO:root:Conversion successful - \n"
     ]
    },
    {
     "name": "stdout",
     "output_type": "stream",
     "text": [
      "{'JobPath': 'c:\\\\Users\\\\10235555\\\\Documents\\\\DataportalCrawlers\\\\UN_Data\\\\test_env\\\\Precipitation  XLS.xlsx', 'JsonDetails': {'organisation': 'un-agencies', 'source': 'UNSTATS', 'source_description': 'The Environment Statistics Section of the United Nations Statistics Division (UNSD) is engaged in the development of methodology, data collection, capacity development, and coordination in the fields of environmental statistics and indicators.', 'source_url': 'https://unstats.un.org/unsd/envstats/qindicators', 'table': 'Precipitation  XLS', 'description': 'Precipitation: Total volume of atmospheric wet precipitation (rain, snow, hail, dew, etc.) falling on the territory of the country over one year, in millions of cubic metres.', 'JobType': 'JSON', 'CleanPush': True, 'Server': 'str', 'UseJsonFormatForSQL': False, 'CleanReplace': True, 'MergeSchema': False, 'tags': [{'name': 'Inland Water Resources'}], 'additional_data_sources': [{'name': '', 'url': ''}], 'limitations': 'When interpreting these tables, it should be borne in mind that the definitions and estimation methods employed by member countries may vary considerably, which may be mentioned in the footnotes.', 'concept': '', 'periodicity': '', 'topic': 'Inland Water Resources', 'created': '', 'last_modified': '', 'TriggerTalend': False, 'SavePathForJsonOutput': ''}}\n"
     ]
    },
    {
     "name": "stderr",
     "output_type": "stream",
     "text": [
      "INFO:root:Conversion successful - \n"
     ]
    },
    {
     "name": "stdout",
     "output_type": "stream",
     "text": [
      "{'JobPath': 'c:\\\\Users\\\\10235555\\\\Documents\\\\DataportalCrawlers\\\\UN_Data\\\\test_env\\\\Renewable freshwater resources  XLS.xlsx', 'JsonDetails': {'organisation': 'un-agencies', 'source': 'UNSTATS', 'source_description': 'The Environment Statistics Section of the United Nations Statistics Division (UNSD) is engaged in the development of methodology, data collection, capacity development, and coordination in the fields of environmental statistics and indicators.', 'source_url': 'https://unstats.un.org/unsd/envstats/qindicators', 'table': 'Renewable freshwater resources  XLS', 'description': 'Water supply industry: It corresponds to ISIC division 36 (the International Standard Industrial Classification of All Economic Activities, ISIC Rev. 4). The water collection, treatment and supply industry includes water collection, treatment and distribution activities for domestic and industrial needs. Collection of water from various sources, as well as distribution by various means is included.', 'JobType': 'JSON', 'CleanPush': True, 'Server': 'str', 'UseJsonFormatForSQL': False, 'CleanReplace': True, 'MergeSchema': False, 'tags': [{'name': 'Inland Water Resources'}], 'additional_data_sources': [{'name': '', 'url': ''}], 'limitations': 'When interpreting these tables, it should be borne in mind that the definitions and estimation methods employed by member countries may vary considerably, which may be mentioned in the footnotes.', 'concept': '', 'periodicity': '', 'topic': 'Inland Water Resources', 'created': '', 'last_modified': '', 'TriggerTalend': False, 'SavePathForJsonOutput': ''}}\n"
     ]
    },
    {
     "name": "stderr",
     "output_type": "stream",
     "text": [
      "INFO:root:Conversion successful - \n"
     ]
    },
    {
     "name": "stdout",
     "output_type": "stream",
     "text": [
      "{'JobPath': 'c:\\\\Users\\\\10235555\\\\Documents\\\\DataportalCrawlers\\\\UN_Data\\\\test_env\\\\Renewable freshwater resources per capita   XLS.xlsx', 'JsonDetails': {'organisation': 'un-agencies', 'source': 'UNSTATS', 'source_description': 'The Environment Statistics Section of the United Nations Statistics Division (UNSD) is engaged in the development of methodology, data collection, capacity development, and coordination in the fields of environmental statistics and indicators.', 'source_url': 'https://unstats.un.org/unsd/envstats/qindicators', 'table': 'Renewable freshwater resources per capita   XLS', 'description': 'Renewable freshwater resources: = Internal flow + Inflow of surface and groundwaters from neighbouring countries.\\n\\nInternal flow is the total volume of river run-off and groundwater generated in natural conditions, exclusively by precipitation within the country. The internal flow is equal to precipitation less actual evapotranspiration and can be calculated or measured.\\n\\nInflow of surface and groundwaters from neighbouring countries: Total volume of actual external inflow of rivers and groundwater, coming from neighbouring countries. Boundary waters should be divided 50/50 between the two riparian countries, unless other water sharing agreements exist.\\n', 'JobType': 'JSON', 'CleanPush': True, 'Server': 'str', 'UseJsonFormatForSQL': False, 'CleanReplace': True, 'MergeSchema': False, 'tags': [{'name': 'Inland Water Resources'}], 'additional_data_sources': [{'name': '', 'url': ''}], 'limitations': 'When interpreting these tables, it should be borne in mind that the definitions and estimation methods employed by member countries may vary considerably, which may be mentioned in the footnotes.', 'concept': '', 'periodicity': '', 'topic': 'Inland Water Resources', 'created': '', 'last_modified': '', 'TriggerTalend': False, 'SavePathForJsonOutput': ''}}\n"
     ]
    },
    {
     "name": "stderr",
     "output_type": "stream",
     "text": [
      "INFO:root:Conversion successful - \n"
     ]
    },
    {
     "name": "stdout",
     "output_type": "stream",
     "text": [
      "{'JobPath': 'c:\\\\Users\\\\10235555\\\\Documents\\\\DataportalCrawlers\\\\UN_Data\\\\test_env\\\\Total population supplied by water supply industry  XLS.xlsx', 'JsonDetails': {'organisation': 'un-agencies', 'source': 'UNSTATS', 'source_description': 'The Environment Statistics Section of the United Nations Statistics Division (UNSD) is engaged in the development of methodology, data collection, capacity development, and coordination in the fields of environmental statistics and indicators.', 'source_url': 'https://unstats.un.org/unsd/envstats/qindicators', 'table': 'Total population supplied by water supply industry  XLS', 'description': 'Water supply industry: Water collection, treatment and supply includes water collection, treatment and distribution activities for domestic and industrial needs. Collection of water from various sources, as well as distribution by various means is included.\\n\\nFor Eurostat countries, data provided refer to \"population connected to public water supply\". Public Water Supply is water supplied by economic units engaged in collection, purification and distribution of water (including desalting of sea water to produce water as the principal product of interest, and excluding treatment of wastewater solely in order to prevent pollution). It corresponds to division 36 (NACE/ISIC) independently of the sector involved, but excluding systems operation for agricultural irrigation such as irrigation canals, which should be reported under \\'other supply\\'. Deliveries of water from one public supply undertaking to another are excluded.\\n\\nTotal population supplied by water supply industry is the percentage of the total resident population using water supplied by the water supply industry (ISIC 36).', 'JobType': 'JSON', 'CleanPush': True, 'Server': 'str', 'UseJsonFormatForSQL': False, 'CleanReplace': True, 'MergeSchema': False, 'tags': [{'name': 'Inland Water Resources'}], 'additional_data_sources': [{'name': '', 'url': ''}], 'limitations': 'When interpreting these tables, it should be borne in mind that the definitions and estimation methods employed by member countries may vary considerably, which may be mentioned in the footnotes.', 'concept': '', 'periodicity': '', 'topic': 'Inland Water Resources', 'created': '', 'last_modified': '', 'TriggerTalend': False, 'SavePathForJsonOutput': ''}}\n"
     ]
    },
    {
     "name": "stderr",
     "output_type": "stream",
     "text": [
      "INFO:root:Conversion successful - \n"
     ]
    },
    {
     "name": "stdout",
     "output_type": "stream",
     "text": [
      "{'JobPath': 'c:\\\\Users\\\\10235555\\\\Documents\\\\DataportalCrawlers\\\\UN_Data\\\\test_env\\\\Wastewater generated XLS.xlsx', 'JsonDetails': {'organisation': 'un-agencies', 'source': 'UNSTATS', 'source_description': 'The Environment Statistics Section of the United Nations Statistics Division (UNSD) is engaged in the development of methodology, data collection, capacity development, and coordination in the fields of environmental statistics and indicators.', 'source_url': 'https://unstats.un.org/unsd/envstats/qindicators', 'table': 'Wastewater generated XLS', 'description': 'Wastewater is water which is of no further value to the purpose for which it was used because of its quality, quantity or time of occurrence.  Total wastewater generated is the total volume of wastewater generated by economic activities (agriculture, forestry and fishing; manufacturing; electricity industry; and other economic activities) and households.  Cooling water is excluded. For data sourced from Eurostat, the source variable is: Generation of wastewater - all sources.', 'JobType': 'JSON', 'CleanPush': True, 'Server': 'str', 'UseJsonFormatForSQL': False, 'CleanReplace': True, 'MergeSchema': False, 'tags': [{'name': 'Inland Water Resources'}], 'additional_data_sources': [{'name': '', 'url': ''}], 'limitations': 'When interpreting these tables, it should be borne in mind that the definitions and estimation methods employed by member countries may vary considerably, which may be mentioned in the footnotes.', 'concept': '', 'periodicity': '', 'topic': 'Inland Water Resources', 'created': '', 'last_modified': '', 'TriggerTalend': False, 'SavePathForJsonOutput': ''}}\n"
     ]
    },
    {
     "name": "stderr",
     "output_type": "stream",
     "text": [
      "INFO:root:Conversion successful - \n"
     ]
    },
    {
     "name": "stdout",
     "output_type": "stream",
     "text": [
      "{'JobPath': 'c:\\\\Users\\\\10235555\\\\Documents\\\\DataportalCrawlers\\\\UN_Data\\\\test_env\\\\Wastewater generation and treatment (latest year) XLS.xlsx', 'JsonDetails': {'organisation': 'un-agencies', 'source': 'UNSTATS', 'source_description': 'The Environment Statistics Section of the United Nations Statistics Division (UNSD) is engaged in the development of methodology, data collection, capacity development, and coordination in the fields of environmental statistics and indicators.', 'source_url': 'https://unstats.un.org/unsd/envstats/qindicators', 'table': 'Wastewater generation and treatment (latest year) XLS', 'description': 'Wastewater is water which is of no further value to the purpose for which it was used because of its quality, quantity or time of occurrence.\\nTotal wastewater generated is the total volume of wastewater generated by economic activities (agriculture, forestry and fishing; manufacturing; electricity industry; and other economic activities) and households.  Cooling water is excluded.\\nFor the variable, \"total wastewater generated\", data are sourced from Eurostat and the source variable is: \"Generation of wastewater - all sources\".\\n\\nUrban wastewater treatment is all treatment of wastewater in urban wastewater treatment plants (UWWTP’s). UWWTP’s are usually operated by public authorities or by private companies working by order of public authorities. Includes wastewater delivered to treatment plants by trucks.  UWWTP\\'s are classified under ISIC 37 (Sewerage).  For the variable, \"Wastewater treated in urban wastewater treatment plants\",  data are sourced from Eurostat and the source variable is: \"Urban wastewater treatment - total inflow\".\\n\\nOther wastewater treatment corresponds to treatment of wastewater in any non-public treatment plant, i.e., industrial wastewater treatment plants (IWWTP). Excluded from \"other wastewater treatment\" is the treatment in septic tanks.  IWWTPs may also be classified under ISIC 37 (Sewerage) or under the main activity class of the industrial establishment they belong to.\\n\\nIndependent wastewater treatment corresponds to the collection, preliminary treatment, treatment, infiltration or discharge of domestic wastewater from dwellings generally between 1 and 50 population equivalents, not connected to a wastewater collection system. An example is septic tanks. Excluded from here are systems with storage tanks from which the wastewater is transported periodically by trucks to a wastewater treatment plant which are part of urban wastewater treatment.\\n\\nProportion of total wastewater generated which is treated refers to the summation of the volume of water treated in (i) urban wastewater treatment plants; (ii) other wastewater treatment plants; and (iii) via independent wastewater treatment divided by total wastewater generated. In most cases, countries do not have data for all three variables required in the numerator. Such cases are defined and noted below with asterisks (* or ** or ***).\\n* denotes that percentage is wastewater treated in urban wastewater treatment plants only divided by total wastewater generated.\\n** denotes that percentage is wastewater treated in urban wastewater treatment plants and in other wastewater treatment plants only divided by total wastewater generated.\\n*** denotes that percentage is wastewater treated in other wastewater treatment plants only divided by total wastewater generated.\\n**** Denotes that percentage is wastewater treated in urban wastewater treatment plants and in independent wastewater treatment plants only divided by total wastewater generated.', 'JobType': 'JSON', 'CleanPush': True, 'Server': 'str', 'UseJsonFormatForSQL': False, 'CleanReplace': True, 'MergeSchema': False, 'tags': [{'name': 'Inland Water Resources'}], 'additional_data_sources': [{'name': '', 'url': ''}], 'limitations': 'When interpreting these tables, it should be borne in mind that the definitions and estimation methods employed by member countries may vary considerably, which may be mentioned in the footnotes.', 'concept': '', 'periodicity': '', 'topic': 'Inland Water Resources', 'created': '', 'last_modified': '', 'TriggerTalend': False, 'SavePathForJsonOutput': ''}}\n"
     ]
    },
    {
     "name": "stderr",
     "output_type": "stream",
     "text": [
      "INFO:root:Conversion successful - \n"
     ]
    },
    {
     "name": "stdout",
     "output_type": "stream",
     "text": [
      "{'JobPath': 'c:\\\\Users\\\\10235555\\\\Documents\\\\DataportalCrawlers\\\\UN_Data\\\\test_env\\\\Wastewater treated in independent treatment facilities  XLS.xlsx', 'JsonDetails': {'organisation': 'un-agencies', 'source': 'UNSTATS', 'source_description': 'The Environment Statistics Section of the United Nations Statistics Division (UNSD) is engaged in the development of methodology, data collection, capacity development, and coordination in the fields of environmental statistics and indicators.', 'source_url': 'https://unstats.un.org/unsd/envstats/qindicators', 'table': 'Wastewater treated in independent treatment facilities  XLS', 'description': 'Wastewater is water which is of no further value to the purpose for which it was used because of its quality, quantity or time of occurrence.  Total wastewater generated is the total volume of wastewater generated by economic activities (agriculture, forestry and fishing; manufacturing; electricity industry; and other economic activities) and households.  Cooling water is excluded.\\nIndependent wastewater treatment means the collection, preliminary treatment, treatment, infiltration or discharge of domestic wastewater from dwellings generally between 1 and 50 population equivalents, not connected to a wastewater collection system. An example is septic tanks. Excluded from here are systems with storage tanks from which the wastewater is transported periodically by trucks to a wastewater treatment plant which are part of urban wastewater treatment.', 'JobType': 'JSON', 'CleanPush': True, 'Server': 'str', 'UseJsonFormatForSQL': False, 'CleanReplace': True, 'MergeSchema': False, 'tags': [{'name': 'Inland Water Resources'}], 'additional_data_sources': [{'name': '', 'url': ''}], 'limitations': 'When interpreting these tables, it should be borne in mind that the definitions and estimation methods employed by member countries may vary considerably, which may be mentioned in the footnotes.', 'concept': '', 'periodicity': '', 'topic': 'Inland Water Resources', 'created': '', 'last_modified': '', 'TriggerTalend': False, 'SavePathForJsonOutput': ''}}\n"
     ]
    },
    {
     "name": "stderr",
     "output_type": "stream",
     "text": [
      "INFO:root:Conversion successful - \n"
     ]
    },
    {
     "name": "stdout",
     "output_type": "stream",
     "text": [
      "{'JobPath': 'c:\\\\Users\\\\10235555\\\\Documents\\\\DataportalCrawlers\\\\UN_Data\\\\test_env\\\\Wastewater treated in other treatment plants  XLS.xlsx', 'JsonDetails': {'organisation': 'un-agencies', 'source': 'UNSTATS', 'source_description': 'The Environment Statistics Section of the United Nations Statistics Division (UNSD) is engaged in the development of methodology, data collection, capacity development, and coordination in the fields of environmental statistics and indicators.', 'source_url': 'https://unstats.un.org/unsd/envstats/qindicators', 'table': 'Wastewater treated in other treatment plants  XLS', 'description': 'Wastewater is water which is of no further value to the purpose for which it was used because of its quality, quantity or time of occurrence.  Total wastewater generated is the total volume of wastewater generated by economic activities (agriculture, forestry and fishing; manufacturing; electricity industry; and other economic activities) and households.  Cooling water is excluded.\\n\\nOther wastewater treatment means the treatment of wastewater in any non-public treatment plant, i.e., industrial wastewater treatment plants (IWWTP). Excluded from \"other wastewater treatment\" is the treatment in septic tanks. IWWTPs may also be classified under ISIC 37 (Sewerage) or under the main activity class of the industrial establishment they belong to. Other wastewater treatment excludes independent treatment facilities.', 'JobType': 'JSON', 'CleanPush': True, 'Server': 'str', 'UseJsonFormatForSQL': False, 'CleanReplace': True, 'MergeSchema': False, 'tags': [{'name': 'Inland Water Resources'}], 'additional_data_sources': [{'name': '', 'url': ''}], 'limitations': 'When interpreting these tables, it should be borne in mind that the definitions and estimation methods employed by member countries may vary considerably, which may be mentioned in the footnotes.', 'concept': '', 'periodicity': '', 'topic': 'Inland Water Resources', 'created': '', 'last_modified': '', 'TriggerTalend': False, 'SavePathForJsonOutput': ''}}\n"
     ]
    },
    {
     "name": "stderr",
     "output_type": "stream",
     "text": [
      "INFO:root:Conversion successful - \n"
     ]
    },
    {
     "name": "stdout",
     "output_type": "stream",
     "text": [
      "{'JobPath': 'c:\\\\Users\\\\10235555\\\\Documents\\\\DataportalCrawlers\\\\UN_Data\\\\test_env\\\\Wastewater treated in urban wastewater treatment plants  XLS.xlsx', 'JsonDetails': {'organisation': 'un-agencies', 'source': 'UNSTATS', 'source_description': 'The Environment Statistics Section of the United Nations Statistics Division (UNSD) is engaged in the development of methodology, data collection, capacity development, and coordination in the fields of environmental statistics and indicators.', 'source_url': 'https://unstats.un.org/unsd/envstats/qindicators', 'table': 'Wastewater treated in urban wastewater treatment plants  XLS', 'description': 'Wastewater is water which is of no further value to the purpose for which it was used because of its quality, quantity or time of occurrence.  Total wastewater generated is the total volume of wastewater generated by economic activities (agriculture, forestry and fishing; manufacturing; electricity industry; and other economic activities) and households.  Cooling water is excluded.\\n\\nUrban wastewater treatment is all treatment of wastewater in urban wastewater treatment plants (UWWTPs). UWWTPs are usually operated by public authorities or by private companies working by order of public authorities. Includes wastewater delivered to treatment plants by trucks. UWWTPs are classified under ISIC 37 (Sewerage). For data sourced from Eurostat, the source variable is: Urban wastewater treatment - total inflow.', 'JobType': 'JSON', 'CleanPush': True, 'Server': 'str', 'UseJsonFormatForSQL': False, 'CleanReplace': True, 'MergeSchema': False, 'tags': [{'name': 'Inland Water Resources'}], 'additional_data_sources': [{'name': '', 'url': ''}], 'limitations': 'When interpreting these tables, it should be borne in mind that the definitions and estimation methods employed by member countries may vary considerably, which may be mentioned in the footnotes.', 'concept': '', 'periodicity': '', 'topic': 'Inland Water Resources', 'created': '', 'last_modified': '', 'TriggerTalend': False, 'SavePathForJsonOutput': ''}}\n"
     ]
    },
    {
     "name": "stderr",
     "output_type": "stream",
     "text": [
      "INFO:root:Conversion successful - \n"
     ]
    },
    {
     "name": "stdout",
     "output_type": "stream",
     "text": [
      "{'JobPath': 'c:\\\\Users\\\\10235555\\\\Documents\\\\DataportalCrawlers\\\\UN_Data\\\\test_env\\\\Water resources (latest year) XLS.xlsx', 'JsonDetails': {'organisation': 'un-agencies', 'source': 'UNSTATS', 'source_description': 'The Environment Statistics Section of the United Nations Statistics Division (UNSD) is engaged in the development of methodology, data collection, capacity development, and coordination in the fields of environmental statistics and indicators.', 'source_url': 'https://unstats.un.org/unsd/envstats/qindicators', 'table': 'Water resources (latest year) XLS', 'description': \"Precipitation: Total volume of atmospheric wet precipitation (rain, snow, hail, dew, etc.) falling on the territory of the country over one year, in millions of cubic metres.\\nActual evapotranspiration is total actual volume of evaporation from the ground, wetlands and natural water bodies and transpiration of plants. According the definition of this concept in Hydrology, the evapotranspiration generated by all human interventions is excluded, except unirrigated agriculture and forestry.  The 'actual evapotranspiration' is calculated using different types of mathematical models, ranging from very simple algorithms (Budyko, Turn Pyke, etc.) to schemes that represent the hydrological cycle in detail.\\nInternal flow is the total volume of river run-off and groundwater generated in natural conditions, exclusively by precipitation within the country. The internal flow is equal to precipitation less actual evapotranspiration and can be calculated or measured.\\nInflow of surface and ground waters from neighbouring countries refers to the total volume of actual flow of rivers and groundwater, coming from neighbouring countries. Boundary waters should be divided 50/50 between the two riparian countries, unless other water sharing agreements exist.\\nRenewable fresh water resources  = Internal flow + Inflow of surface and groundwaters.\\nRenewable fresh water resources per capita is calculated by UNSD by dividing the total renewable fresh water resources by the total population of the country for the year indicated in that country's row.\\n\\n\\n\", 'JobType': 'JSON', 'CleanPush': True, 'Server': 'str', 'UseJsonFormatForSQL': False, 'CleanReplace': True, 'MergeSchema': False, 'tags': [{'name': 'Inland Water Resources'}], 'additional_data_sources': [{'name': '', 'url': ''}], 'limitations': 'When interpreting these tables, it should be borne in mind that the definitions and estimation methods employed by member countries may vary considerably, which may be mentioned in the footnotes.', 'concept': '', 'periodicity': '', 'topic': 'Inland Water Resources', 'created': '', 'last_modified': '', 'TriggerTalend': False, 'SavePathForJsonOutput': ''}}\n"
     ]
    },
    {
     "name": "stderr",
     "output_type": "stream",
     "text": [
      "INFO:root:Conversion successful - \n"
     ]
    },
    {
     "name": "stdout",
     "output_type": "stream",
     "text": [
      "{'JobPath': 'c:\\\\Users\\\\10235555\\\\Documents\\\\DataportalCrawlers\\\\UN_Data\\\\test_env\\\\Water supply industry (latest year) XLS.xlsx', 'JsonDetails': {'organisation': 'un-agencies', 'source': 'UNSTATS', 'source_description': 'The Environment Statistics Section of the United Nations Statistics Division (UNSD) is engaged in the development of methodology, data collection, capacity development, and coordination in the fields of environmental statistics and indicators.', 'source_url': 'https://unstats.un.org/unsd/envstats/qindicators', 'table': 'Water supply industry (latest year) XLS', 'description': 'Water supply industry: Water collection, treatment and supply includes water collection, treatment and distribution activities for domestic and industrial needs.  Collection of water from various sources, as well as distribution by various means is included.\\nFor OECD/Eurostat countries, data provided for the first and third variables refer to \"use of water from public water supply\" and \"population connected to public water supply\". Public Water Supply is water supplied by economic units engaged in collection, purification and distribution of water (including desalting of sea water to produce water as the principal product of interest, and excluding system operation for agricultural purposes and treatment of wastewater solely in order to prevent pollution). It corresponds to division 36 (ISIC Rev. 4/NACE) independently of the sector involved. It excludes system operation for agriculture irrigation which are not individual irrigation systems, e.g. irrigation canals. Deliveries of water from one public supply undertaking to another are excluded.\\nNet freshwater supplied by water supply industry (ISIC 36): Gross freshwater supplied by water supply industry minus freshwater losses during transport.  The net volume of freshwater supplied by the water supply industry to final users is broken down by households and by main groups of the economic activity of the final users (according to ISIC Rev. 4).\\nNet freshwater supplied by water supply industry per capita is calculated by dividing the net freshwater supplied by water supply industry by the total population of the country.\\nTotal population supplied by water supply industry (ISIC 36): Percentage of the total resident population using water supplied by the water supply industry (ISIC 36).\\nNet freshwater supplied by water supply industry per capita connected is calculated by dividing the net freshwater supplied by water supply industry by the number of people connected to the water supply industry.', 'JobType': 'JSON', 'CleanPush': True, 'Server': 'str', 'UseJsonFormatForSQL': False, 'CleanReplace': True, 'MergeSchema': False, 'tags': [{'name': 'Inland Water Resources'}], 'additional_data_sources': [{'name': '', 'url': ''}], 'limitations': 'When interpreting these tables, it should be borne in mind that the definitions and estimation methods employed by member countries may vary considerably, which may be mentioned in the footnotes.', 'concept': '', 'periodicity': '', 'topic': 'Inland Water Resources', 'created': '', 'last_modified': '', 'TriggerTalend': False, 'SavePathForJsonOutput': ''}}\n"
     ]
    },
    {
     "name": "stderr",
     "output_type": "stream",
     "text": [
      "C:\\Users\\10235555\\AppData\\Local\\Temp\\ipykernel_11476\\117362994.py:109: FutureWarning: DataFrame.set_axis 'inplace' keyword is deprecated and will be removed in a future version. Use `obj = obj.set_axis(..., copy=False)` instead\n",
      "  ta.set_axis(column, axis=1,inplace=True)\n",
      "C:\\Users\\10235555\\AppData\\Local\\Temp\\ipykernel_11476\\117362994.py:119: FutureWarning: DataFrame.set_axis 'inplace' keyword is deprecated and will be removed in a future version. Use `obj = obj.set_axis(..., copy=False)` instead\n",
      "  df.set_axis(header, axis=1,inplace=True)\n",
      "INFO:root:Conversion successful - \n"
     ]
    },
    {
     "name": "stdout",
     "output_type": "stream",
     "text": [
      "{'JobPath': 'c:\\\\Users\\\\10235555\\\\Documents\\\\DataportalCrawlers\\\\UN_Data\\\\test_env\\\\Agricultural land XLS.xlsx', 'JsonDetails': {'organisation': 'un-agencies', 'source': 'UNSTATS', 'source_description': 'The Environment Statistics Section of the United Nations Statistics Division (UNSD) is engaged in the development of methodology, data collection, capacity development, and coordination in the fields of environmental statistics and indicators.', 'source_url': 'https://unstats.un.org/unsd/envstats/qindicators', 'table': 'Agricultural land XLS', 'description': 'Agricultural area is the sum of areas under (a) arable land - land under temporary agricultural crops (multiple-cropped areas are counted only once), temporary meadows for mowing or pasture, land under market and kitchen gardens and land temporarily fallow (less than five years). The abandoned land resulting from shifting cultivation is not included in this category. Data for “Arable land” are not meant to indicate the amount of land that is potentially cultivable; (b) permanent crops - land cultivated with long-term crops which do not have to be replanted for several years (such as cocoa and coffee); land under trees and shrubs producing flowers, such as roses and jasmine; and nurseries (except those for forest trees, which should be classified under \"forest\"); and (c) permanent meadows and pastures - land used permanently (five years or more) to grow herbaceous forage crops, either cultivated or growing wild (wild prairie or grazing land). Data are expressed in 1000 hectares.Arable land is the land under temporary agricultural crops (multiple-cropped areas are counted only once), temporary meadows for mowing or pasture, land under market and kitchen gardens and land temporarily fallow (less than five years). The abandoned land resulting from shifting cultivation is not included in this category. Data for “Arable land” are not meant to indicate the amount of land that is potentially cultivable.Crops are divided into temporary and permanent crops. Permanent crops are sown or planted once, and then occupy the land for some years and need not be replanted after each annual harvest, such as cocoa, coffee and rubber. This category includes flowering shrubs, fruit trees, nut trees and vines, but excludes trees grown for wood or timber.Permanent meadows and pastures is the land used permanently (for a period of five years or more) for herbaceous forage crops, either cultivated or naturally growing. A period of five years or more is used to differentiate between permanent and temporary meadows.', 'JobType': 'JSON', 'CleanPush': True, 'Server': 'str', 'UseJsonFormatForSQL': False, 'CleanReplace': True, 'MergeSchema': False, 'tags': [{'name': 'Land and Agriculture'}], 'additional_data_sources': [{'name': '', 'url': ''}], 'limitations': '', 'concept': '', 'periodicity': '', 'topic': 'Land and Agriculture', 'created': '', 'last_modified': '', 'TriggerTalend': False, 'SavePathForJsonOutput': ''}}\n"
     ]
    },
    {
     "name": "stderr",
     "output_type": "stream",
     "text": [
      "INFO:root:Conversion successful - \n"
     ]
    },
    {
     "name": "stdout",
     "output_type": "stream",
     "text": [
      "{'JobPath': 'c:\\\\Users\\\\10235555\\\\Documents\\\\DataportalCrawlers\\\\UN_Data\\\\test_env\\\\Terrestrial protected areas XLS.xlsx', 'JsonDetails': {'organisation': 'un-agencies', 'source': 'UNSTATS', 'source_description': 'The Environment Statistics Section of the United Nations Statistics Division (UNSD) is engaged in the development of methodology, data collection, capacity development, and coordination in the fields of environmental statistics and indicators.', 'source_url': 'https://unstats.un.org/unsd/envstats/qindicators', 'table': 'Terrestrial protected areas XLS', 'description': 'Terrestrial protected areas are defined as totally or partially protected areas of at least 1,000 hectares that are designated by national authorities as scientific reserves with limited public access, national parks, natural monuments, nature reserves or wildlife sanctuaries, protected landscapes, and areas managed mainly for sustainable use. Unclassified areas, littoral (intertidal) areas, and sites protected under local or provincial law are excluded.\\nThe units of measure in this indicator are terrestrial protected areas, and marine protected areas in territorial waters (up to 12 nautical miles from the coast). The International Union for Conservation of Nature (IUCN) defines a protected area as “a clearly defined geographical space, recognized, dedicated and managed, through legal or other effective means, to achieve the long-term conservation of nature with associated ecosystem services and cultural values.”\\t Protected areas has the strongest direct links to Sustainable Development Goals (SDG) 15 (Life on land), as well as to Goals 3 (Good health and well-being), 6 (Clean water and sanitation), 11 (Sustainable cities and communities), 5 (Gender equality) and 13 (Climate action).\\nThis indicator is calculated using all protected areas recorded in the World Database on Protected Areas (WDPA) whose location and extent is known. The WDPA stores information about protected areas such as their name, type and date of designation, documented area, geographic location (point) and/or boundary (polygon). A global protected area layer is created by combining the polygons and points recorded in the WDPA. \\nThe total area of a country’s/territory’s terrestrial protected areas and marine protected areas in territorial waters is divided by the total area of its land areas (including inland waters) and territorial waters to obtain the relative coverage (percentage) of protected areas.', 'JobType': 'JSON', 'CleanPush': True, 'Server': 'str', 'UseJsonFormatForSQL': False, 'CleanReplace': True, 'MergeSchema': False, 'tags': [{'name': 'Land and Agriculture'}], 'additional_data_sources': [{'name': '', 'url': ''}], 'limitations': 'Quality control criteria are applied to ensure consistency and comparability of the data in the WDPA. New data are validated at UNEP-WCMC through a number of tools and translated into the standard data structure of the WDPA. Discrepancies between the data in the WDPA and new data are resolved in communication with data providers. Processed data is fully integrated into the published WDPA which is available at: www.protectedplanet.net.\\t\\t\\t\\t\\t\\nThe extent to which the land areas, including inland waters, and territorial waters of a country/territory are protected is a useful indicator of Government’s will to protect biodiversity. However, it is neither an indication of how well managed the terrestrial and marine protected areas are, nor confirmation that protection measures are effectively enforced. Further, the indicator does not provide information on non-designated protected areas that may also be important for conserving biodiversity.\\nThere are known data and knowledge gaps for some countries/regions due to difficulties in reporting national protected area data to the WDPA and/or determining whether a site conforms to the IUCN definition of a protected area.\\nUNEP-WCMC aggregates the global and regional figures for this indicator from the national figures calculated through GIS analysis. The global, regional and national figures provided by UNEP-WCMC are therefore consistent. Gaps and/or time lags in reporting national protected area data to the WDPA can however result in discrepancies between the national figures provided by UNEP-WCMC and national figures available from national agencies.', 'concept': '', 'periodicity': '', 'topic': 'Land and Agriculture', 'created': '', 'last_modified': '', 'TriggerTalend': False, 'SavePathForJsonOutput': ''}}\n"
     ]
    },
    {
     "name": "stderr",
     "output_type": "stream",
     "text": [
      "C:\\Users\\10235555\\AppData\\Local\\Temp\\ipykernel_11476\\117362994.py:109: FutureWarning: DataFrame.set_axis 'inplace' keyword is deprecated and will be removed in a future version. Use `obj = obj.set_axis(..., copy=False)` instead\n",
      "  ta.set_axis(column, axis=1,inplace=True)\n",
      "C:\\Users\\10235555\\AppData\\Local\\Temp\\ipykernel_11476\\117362994.py:119: FutureWarning: DataFrame.set_axis 'inplace' keyword is deprecated and will be removed in a future version. Use `obj = obj.set_axis(..., copy=False)` instead\n",
      "  df.set_axis(header, axis=1,inplace=True)\n",
      "INFO:root:Conversion successful - \n"
     ]
    },
    {
     "name": "stdout",
     "output_type": "stream",
     "text": [
      "{'JobPath': 'c:\\\\Users\\\\10235555\\\\Documents\\\\DataportalCrawlers\\\\UN_Data\\\\test_env\\\\Consumption of fertilizers per unit of agricultural land area XLS.xlsx', 'JsonDetails': {'organisation': 'un-agencies', 'source': 'UNSTATS', 'source_description': 'The Environment Statistics Section of the United Nations Statistics Division (UNSD) is engaged in the development of methodology, data collection, capacity development, and coordination in the fields of environmental statistics and indicators.', 'source_url': 'https://unstats.un.org/unsd/envstats/qindicators', 'table': 'Consumption of fertilizers per unit of agricultural land area XLS', 'description': 'Proportions of consumption of fertilizers (by nutrient group) per unit of agricultural land area are calculated by UNSD using available consumption and land use data from FAOSTAT. The indicator units are tonnes of nutrients per 1000 hectares (or 10 km2) of agricultural land area for each country or area.Definitions for land areas can vary across countries. For more information on the country/area calculations for agricultural area visit the FAOSTAT website.Mineral fertilizers made their appearance with the Industrial revolution and had an important role in sustaining the growing population of earth: half the population of earth are now estimated to be fed with crops grown using synthetic fertilizers (Erisman et al. 2008). \\nFertilizers can have a negative impact on the environment, leading to eutrophication and poisoning of water, and pollution of soil (e.g. heavy metals, soil acidification, POP-Persistent Organic Pollutants). Also, the production of fertilizers is energy intensive and mineable phosphorus reserves are finite.In some cases, a portion of fertilizer consumption may be for purposes unrelated to agricultural land. Therefore, the proportions should be treated as estimations.', 'JobType': 'JSON', 'CleanPush': True, 'Server': 'str', 'UseJsonFormatForSQL': False, 'CleanReplace': True, 'MergeSchema': False, 'tags': [{'name': 'Land and Agriculture'}], 'additional_data_sources': [{'name': 'FAOSTAT, Food and Agriculture Organization of the United Nations; proportions calculated by UNSD Environment Statistics Section.', 'url': 'http://faostat.fao.org/home/E'}], 'limitations': 'For more information visit the FAOSTAT ResourceSTAT website:', 'concept': '', 'periodicity': '', 'topic': 'Land and Agriculture', 'created': '', 'last_modified': '', 'TriggerTalend': False, 'SavePathForJsonOutput': ''}}\n"
     ]
    },
    {
     "name": "stderr",
     "output_type": "stream",
     "text": [
      "INFO:root:Conversion successful - \n"
     ]
    },
    {
     "name": "stdout",
     "output_type": "stream",
     "text": [
      "{'JobPath': 'c:\\\\Users\\\\10235555\\\\Documents\\\\DataportalCrawlers\\\\UN_Data\\\\test_env\\\\Marine areas protected XLS.xlsx', 'JsonDetails': {'organisation': 'un-agencies', 'source': 'UNSTATS', 'source_description': 'The Environment Statistics Section of the United Nations Statistics Division (UNSD) is engaged in the development of methodology, data collection, capacity development, and coordination in the fields of environmental statistics and indicators.', 'source_url': 'https://unstats.un.org/unsd/envstats/qindicators', 'table': 'Marine areas protected XLS', 'description': 'Marine protected areas are areas of intertidal or subtidal terrain - and overlying water and associated flora and fauna and historical and cultural features - that have been reserved by law or other effective means to protect part or all of the enclosed environment.\\nThe units of measure in this indicator is marine protected areas in territorial waters (up to 12 nautical miles from the coast). The International Union for Conservation of Nature (IUCN) defines a protected area as “a clearly defined geographical space, recognized, dedicated and managed, through legal or other effective means, to achieve the long-term conservation of nature with associated ecosystem services and cultural values.”\\t Protected areas has the strongest direct links to Sustainable Development Goals (SDG) 14 (Life below water), as well as to Goals 3 (Good health and well-being), 6 (Clean water and sanitation), 11 (Sustainable cities and communities), 5 (Gender equality) and 13 (Climate action).\\nThe marine category includes waters from the country coastline to 200 nautical miles. The total area of a country’s/territory’s terrestrial protected areas and marine protected areas in territorial waters is divided by the total area of its land areas (including inland waters) and territorial waters to obtain the relative coverage (percentage) of protected areas.', 'JobType': 'JSON', 'CleanPush': True, 'Server': 'str', 'UseJsonFormatForSQL': False, 'CleanReplace': True, 'MergeSchema': False, 'tags': [{'name': 'Marine and Coastal Areas'}], 'additional_data_sources': [{'name': '', 'url': ''}], 'limitations': 'Quality control criteria are applied to ensure consistency and comparability of the data in the WDPA. New data are validated at UNEP-WCMC through a number of tools and translated into the standard data structure of the WDPA. Discrepancies between the data in the WDPA and new data are resolved in communication with data providers. Processed data is fully integrated into the published WDPA which is available at: www.protectedplanet.net.\\t\\t\\t\\t\\t\\nThe extent to which the land areas, including inland waters, and territorial waters of a country/territory are protected is a useful indicator of Government’s will to protect biodiversity. However, it is neither an indication of how well managed the terrestrial and marine protected areas are, nor confirmation that protection measures are effectively enforced. Further, the indicator does not provide information on non-designated protected areas that may also be important for conserving biodiversity.\\nThere are known data and knowledge gaps for some countries/regions due to difficulties in reporting national protected area data to the WDPA and/or determining whether a site conforms to the IUCN definition of a protected area.\\nUNEP-WCMC aggregates the global and regional figures for this indicator from the national figures calculated through GIS analysis. The global, regional and national figures provided by UNEP-WCMC are therefore consistent. Gaps and/or time lags in reporting national protected area data to the WDPA can however result in discrepancies between the national figures provided by UNEP-WCMC and national figures available from national agencies.', 'concept': '', 'periodicity': '', 'topic': 'Marine and Coastal Areas', 'created': '', 'last_modified': '', 'TriggerTalend': False, 'SavePathForJsonOutput': ''}}\n"
     ]
    },
    {
     "name": "stderr",
     "output_type": "stream",
     "text": [
      "C:\\Users\\10235555\\AppData\\Local\\Temp\\ipykernel_11476\\117362994.py:261: FutureWarning: DataFrame.set_axis 'inplace' keyword is deprecated and will be removed in a future version. Use `obj = obj.set_axis(..., copy=False)` instead\n",
      "  b.set_axis(column, axis=1,inplace=True)\n",
      "INFO:root:Conversion successful - \n"
     ]
    },
    {
     "name": "stdout",
     "output_type": "stream",
     "text": [
      "{'JobPath': 'c:\\\\Users\\\\10235555\\\\Documents\\\\DataportalCrawlers\\\\UN_Data\\\\test_env\\\\Proportion of population in coastal zones (LECZ).xlsx', 'JsonDetails': {'organisation': 'un-agencies', 'source': 'UNSTATS', 'source_description': 'The Environment Statistics Section of the United Nations Statistics Division (UNSD) is engaged in the development of methodology, data collection, capacity development, and coordination in the fields of environmental statistics and indicators.', 'source_url': 'https://unstats.un.org/unsd/envstats/qindicators', 'table': 'Proportion of population in coastal zones (LECZ)', 'description': 'The proportions of populations (urban, rural and total) in low elevation coastal zones (LECZ) are calculated for each country or area by UNSD using total and LECZ population figures available from CIESIN/SEDAC.Low Elevation Coastal Zone (LECZ) is defined in this table as the contiguous area along the coast that is less than 10 metres above sea level.Country-level estimates of urban, rural and total population and land area in a low elevation coastal zone (LECZ) were generated globally using Global Rural-Urban Mapping Project (GRUMP) alpha population and land area data products and a Digital Elevation Model (DEM) derived from Shuttle Radar Topographic Mission (SRTM) remote sensing data.The zone was derived from the DEM by selecting all land contiguous with the coast that was 10 metres or less in elevation. Zonal statistics were generated for urban, rural and total population and land area for the country as a whole and within the LECZ.', 'JobType': 'JSON', 'CleanPush': True, 'Server': 'str', 'UseJsonFormatForSQL': False, 'CleanReplace': True, 'MergeSchema': False, 'tags': [{'name': 'Marine and Coastal Areas'}], 'additional_data_sources': [{'name': 'The proportions of populations (urban, rural and total) in low elevation coastal zones (LECZ) are calculated for each country or area by UNSD using total and LECZ population figures available from CIESIN/SEDAC.Low Elevation Coastal Zone (LECZ) is defined in this table as the contiguous area along the coast that is less than 10 metres above sea level.Country-level estimates of urban, rural and total population and land area in a low elevation coastal zone (LECZ) were generated globally using Global Rural-Urban Mapping Project (GRUMP) alpha population and land area data products and a Digital Elevation Model (DEM) derived from Shuttle Radar Topographic Mission (SRTM) remote sensing data.The zone was derived from the DEM by selecting all land contiguous with the coast that was 10 metres or less in elevation. Zonal statistics were generated for urban, rural and total population and land area for the country as a whole and within the LECZ.', 'url': ''}], 'limitations': 'The spatial detail of census data varied greatly between countries and 1km resolution was considered the highest resolution that could be supported globally. The SRTM data utilized was at a resolution of 1km to facilitate a 1 to 1 spatial match with the population data. By degrading the resolution of the SRTM data to 1km, the estimates shown likely underestimate the population counts in the zone. The 10 metre elevation ceiling was chosen in part because of the SRTM data precision globally.', 'concept': '', 'periodicity': '', 'topic': 'Marine and Coastal Areas', 'created': '', 'last_modified': '', 'TriggerTalend': False, 'SavePathForJsonOutput': ''}}\n"
     ]
    },
    {
     "name": "stderr",
     "output_type": "stream",
     "text": [
      "INFO:root:Conversion successful - \n"
     ]
    },
    {
     "name": "stdout",
     "output_type": "stream",
     "text": [
      "{'JobPath': 'c:\\\\Users\\\\10235555\\\\Documents\\\\DataportalCrawlers\\\\UN_Data\\\\test_env\\\\Climatological disasters XLS.xlsx', 'JsonDetails': {'organisation': 'un-agencies', 'source': 'UNSTATS', 'source_description': 'The Environment Statistics Section of the United Nations Statistics Division (UNSD) is engaged in the development of methodology, data collection, capacity development, and coordination in the fields of environmental statistics and indicators.', 'source_url': 'https://unstats.un.org/unsd/envstats/qindicators', 'table': 'Climatological disasters XLS', 'description': 'Climatological hazards are defined as hazards caused by long-lived, meso- to macro-scale atmospheric processes ranging from intra-seasonal to multi-decadal climate variability. Such hazards are sub-classified as: Drought; Glacial Lake Outburst; Wildfire.', 'JobType': 'JSON', 'CleanPush': True, 'Server': 'str', 'UseJsonFormatForSQL': False, 'CleanReplace': True, 'MergeSchema': False, 'tags': [{'name': 'Natural Disasters'}], 'additional_data_sources': [{'name': '', 'url': ''}], 'limitations': 'The EM-DAT database is compiled from various sources, including UN agencies, non-governmental organizations, insurance companies, research institutes and press agencies. Priority is given to data from UN agencies, governments and the International Federation of Red Cross and Red Crescent Societies. This prioritization is not only a reflection of the quality or value of the data, it also reflects the fact that most reporting sources do not cover all disasters or have political limitations that could affect the figures. The entries are constantly reviewed for redundancy, inconsistencies and incompleteness. CRED consolidates and updates data on a daily basis. A further check is made at monthly intervals. Revisions are made annually at the end of each calendar year.', 'concept': '', 'periodicity': '', 'topic': 'Natural Disasters', 'created': '', 'last_modified': '', 'TriggerTalend': False, 'SavePathForJsonOutput': ''}}\n"
     ]
    },
    {
     "name": "stderr",
     "output_type": "stream",
     "text": [
      "INFO:root:Conversion successful - \n"
     ]
    },
    {
     "name": "stdout",
     "output_type": "stream",
     "text": [
      "{'JobPath': 'c:\\\\Users\\\\10235555\\\\Documents\\\\DataportalCrawlers\\\\UN_Data\\\\test_env\\\\Geophysical disasters XLS.xlsx', 'JsonDetails': {'organisation': 'un-agencies', 'source': 'UNSTATS', 'source_description': 'The Environment Statistics Section of the United Nations Statistics Division (UNSD) is engaged in the development of methodology, data collection, capacity development, and coordination in the fields of environmental statistics and indicators.', 'source_url': 'https://unstats.un.org/unsd/envstats/qindicators', 'table': 'Geophysical disasters XLS', 'description': 'Geophysical disasters are defined as hazards originating from solid earth. This term is used interchangeably with the term geological hazard. They are classified as: Earthquakes, Mass Movements and Volcanic Activities. Such hazards are sub-classified as: Drought; Glacial Lake Outburst; Wildfire.', 'JobType': 'JSON', 'CleanPush': True, 'Server': 'str', 'UseJsonFormatForSQL': False, 'CleanReplace': True, 'MergeSchema': False, 'tags': [{'name': 'Natural Disasters'}], 'additional_data_sources': [{'name': '', 'url': ''}], 'limitations': 'The EM-DAT database is compiled from various sources, including UN agencies, non-governmental organizations, insurance companies, research institutes and press agencies. Priority is given to data from UN agencies, governments and the International Federation of Red Cross and Red Crescent Societies. This prioritization is not only a reflection of the quality or value of the data, it also reflects the fact that most reporting sources do not cover all disasters or have political limitations that could affect the figures. The entries are constantly reviewed for redundancy, inconsistencies and incompleteness. CRED consolidates and updates data on a daily basis. A further check is made at monthly intervals. Revisions are made annually at the end of each calendar year.', 'concept': '', 'periodicity': '', 'topic': 'Natural Disasters', 'created': '', 'last_modified': '', 'TriggerTalend': False, 'SavePathForJsonOutput': ''}}\n"
     ]
    },
    {
     "name": "stderr",
     "output_type": "stream",
     "text": [
      "INFO:root:Conversion successful - \n"
     ]
    },
    {
     "name": "stdout",
     "output_type": "stream",
     "text": [
      "{'JobPath': 'c:\\\\Users\\\\10235555\\\\Documents\\\\DataportalCrawlers\\\\UN_Data\\\\test_env\\\\Hydrological disasters XLS.xlsx', 'JsonDetails': {'organisation': 'un-agencies', 'source': 'UNSTATS', 'source_description': 'The Environment Statistics Section of the United Nations Statistics Division (UNSD) is engaged in the development of methodology, data collection, capacity development, and coordination in the fields of environmental statistics and indicators.', 'source_url': 'https://unstats.un.org/unsd/envstats/qindicators', 'table': 'Hydrological disasters XLS', 'description': 'Hydrological disasters are defined as a hazard caused by the occurrence, movement, and distribution of surface and subsurface freshwater and saltwater. Such hazards are further classified as: Flood , Landslide and Wave Action.', 'JobType': 'JSON', 'CleanPush': True, 'Server': 'str', 'UseJsonFormatForSQL': False, 'CleanReplace': True, 'MergeSchema': False, 'tags': [{'name': 'Natural Disasters'}], 'additional_data_sources': [{'name': '', 'url': ''}], 'limitations': 'The EM-DAT database is compiled from various sources, including UN agencies, non-governmental organizations, insurance companies, research institutes and press agencies. Priority is given to data from UN agencies, governments and the International Federation of Red Cross and Red Crescent Societies. This prioritization is not only a reflection of the quality or value of the data, it also reflects the fact that most reporting sources do not cover all disasters or have political limitations that could affect the figures. The entries are constantly reviewed for redundancy, inconsistencies and incompleteness. CRED consolidates and updates data on a daily basis. A further check is made at monthly intervals. Revisions are made annually at the end of each calendar year.', 'concept': '', 'periodicity': '', 'topic': 'Natural Disasters', 'created': '', 'last_modified': '', 'TriggerTalend': False, 'SavePathForJsonOutput': ''}}\n"
     ]
    },
    {
     "name": "stderr",
     "output_type": "stream",
     "text": [
      "INFO:root:Conversion successful - \n"
     ]
    },
    {
     "name": "stdout",
     "output_type": "stream",
     "text": [
      "{'JobPath': 'c:\\\\Users\\\\10235555\\\\Documents\\\\DataportalCrawlers\\\\UN_Data\\\\test_env\\\\Meteorological disasters XLS.xlsx', 'JsonDetails': {'organisation': 'un-agencies', 'source': 'UNSTATS', 'source_description': 'The Environment Statistics Section of the United Nations Statistics Division (UNSD) is engaged in the development of methodology, data collection, capacity development, and coordination in the fields of environmental statistics and indicators.', 'source_url': 'https://unstats.un.org/unsd/envstats/qindicators', 'table': 'Meteorological disasters XLS', 'description': 'Meteorological disasters are defined as hazards caused by short-lived, micro- to meso-scale extreme weather and atmospheric conditions that last from minutes to days. They include extreme temperature, fog, and storm.', 'JobType': 'JSON', 'CleanPush': True, 'Server': 'str', 'UseJsonFormatForSQL': False, 'CleanReplace': True, 'MergeSchema': False, 'tags': [{'name': 'Natural Disasters'}], 'additional_data_sources': [{'name': '', 'url': ''}], 'limitations': 'The EM-DAT database is compiled from various sources, including UN agencies, non-governmental organizations, insurance companies, research institutes and press agencies. Priority is given to data from UN agencies, governments and the International Federation of Red Cross and Red Crescent Societies. This prioritization is not only a reflection of the quality or value of the data, it also reflects the fact that most reporting sources do not cover all disasters or have political limitations that could affect the figures. The entries are constantly reviewed for redundancy, inconsistencies and incompleteness. CRED consolidates and updates data on a daily basis. A further check is made at monthly intervals. Revisions are made annually at the end of each calendar year.', 'concept': '', 'periodicity': '', 'topic': 'Natural Disasters', 'created': '', 'last_modified': '', 'TriggerTalend': False, 'SavePathForJsonOutput': ''}}\n"
     ]
    },
    {
     "name": "stderr",
     "output_type": "stream",
     "text": [
      "INFO:root:Conversion successful - \n"
     ]
    },
    {
     "name": "stdout",
     "output_type": "stream",
     "text": [
      "{'JobPath': 'c:\\\\Users\\\\10235555\\\\Documents\\\\DataportalCrawlers\\\\UN_Data\\\\test_env\\\\Composition of municipal waste (latest year) XLS.xlsx', 'JsonDetails': {'organisation': 'un-agencies', 'source': 'UNSTATS', 'source_description': 'The Environment Statistics Section of the United Nations Statistics Division (UNSD) is engaged in the development of methodology, data collection, capacity development, and coordination in the fields of environmental statistics and indicators.', 'source_url': 'https://unstats.un.org/unsd/envstats/qindicators', 'table': 'Composition of municipal waste (latest year) XLS', 'description': 'Municipal waste collected by or on behalf of municipalities, as well as municipal waste collected by the private sector. It includes mixed waste, and fractions collected separately for recovery operations (through door-to-door collection and/or through voluntary deposits). ', 'JobType': 'JSON', 'CleanPush': True, 'Server': 'str', 'UseJsonFormatForSQL': False, 'CleanReplace': True, 'MergeSchema': False, 'tags': [{'name': 'Waste'}], 'additional_data_sources': [{'name': '', 'url': ''}], 'limitations': 'When interpreting these tables, it should be borne in mind that the definitions and estimation methods employed by member countries may vary considerably, which may be mentioned in the footnotes.', 'concept': '', 'periodicity': '', 'topic': 'Waste', 'created': '', 'last_modified': '', 'TriggerTalend': False, 'SavePathForJsonOutput': ''}}\n"
     ]
    },
    {
     "name": "stderr",
     "output_type": "stream",
     "text": [
      "INFO:root:Conversion successful - \n"
     ]
    },
    {
     "name": "stdout",
     "output_type": "stream",
     "text": [
      "{'JobPath': 'c:\\\\Users\\\\10235555\\\\Documents\\\\DataportalCrawlers\\\\UN_Data\\\\test_env\\\\Hazardous waste generated  XLS.xlsx', 'JsonDetails': {'organisation': 'un-agencies', 'source': 'UNSTATS', 'source_description': 'The Environment Statistics Section of the United Nations Statistics Division (UNSD) is engaged in the development of methodology, data collection, capacity development, and coordination in the fields of environmental statistics and indicators.', 'source_url': 'https://unstats.un.org/unsd/envstats/qindicators', 'table': 'Hazardous waste generated  XLS', 'description': \"In the 1989 Basel Convention on the Control of Transboundary Movements of Hazardous Wastes and their Disposal (http://www.basel.int/), 164 countries agreed to minimize the generation of hazardous waste, to assure sound management of hazardous wastes, to control transboundary movement of hazardous wastes; and to improve institutional and technical capabilities especially for developing countries and countries with economies in transition. At later meetings, Parties agreed to a ban on the export of hazardous wastes from OECD to non-OECD countries ('Basel ban').\\nHazardous waste is waste that owing to its toxic, infectious, radioactive or flammable properties poses an actual or potential hazard to the health of humans, other living organisms, or the environment.  Hazardous waste here refers to categories of waste to be controlled according to the Basel Convention on the Control of Transboundary Movements of Hazardous Wastes and Their Disposal (Article 1 and Annex I).  If data are not available according to the Basel Convention, amounts can be given according to national definitions.\", 'JobType': 'JSON', 'CleanPush': True, 'Server': 'str', 'UseJsonFormatForSQL': False, 'CleanReplace': True, 'MergeSchema': False, 'tags': [{'name': 'Waste'}], 'additional_data_sources': [{'name': '', 'url': ''}], 'limitations': 'When interpreting these tables, it should be borne in mind that the definitions and estimation methods employed by member countries may vary considerably, which may be mentioned in the footnotes.', 'concept': '', 'periodicity': '', 'topic': 'Waste', 'created': '', 'last_modified': '', 'TriggerTalend': False, 'SavePathForJsonOutput': ''}}\n"
     ]
    },
    {
     "name": "stderr",
     "output_type": "stream",
     "text": [
      "INFO:root:Conversion successful - \n"
     ]
    },
    {
     "name": "stdout",
     "output_type": "stream",
     "text": [
      "{'JobPath': 'c:\\\\Users\\\\10235555\\\\Documents\\\\DataportalCrawlers\\\\UN_Data\\\\test_env\\\\Hazardous waste generated per capita XLS.xlsx', 'JsonDetails': {'organisation': 'un-agencies', 'source': 'UNSTATS', 'source_description': 'The Environment Statistics Section of the United Nations Statistics Division (UNSD) is engaged in the development of methodology, data collection, capacity development, and coordination in the fields of environmental statistics and indicators.', 'source_url': 'https://unstats.un.org/unsd/envstats/qindicators', 'table': 'Hazardous waste generated per capita XLS', 'description': \"In the 1989 Basel Convention on the Control of Transboundary Movements of Hazardous Wastes and their Disposal (http://www.basel.int/), 164 countries agreed to minimize the generation of hazardous waste, to assure sound management of hazardous wastes, to control transboundary movement of hazardous wastes; and to improve institutional and technical capabilities especially for developing countries and countries with economies in transition. At later meetings, Parties agreed to a ban on the export of hazardous wastes from OECD to non-OECD countries ('Basel ban').\\nHazardous waste is waste that owing to its toxic, infectious, radioactive or flammable properties poses an actual or potential hazard to the health of humans, other living organisms, or the environment.  Hazardous waste here refers to categories of waste to be controlled according to the Basel Convention on the Control of Transboundary Movements of Hazardous Wastes and Their Disposal (Article 1 and Annex I).  If data are not available according to the Basel Convention, amounts can be given according to national definitions.\", 'JobType': 'JSON', 'CleanPush': True, 'Server': 'str', 'UseJsonFormatForSQL': False, 'CleanReplace': True, 'MergeSchema': False, 'tags': [{'name': 'Waste'}], 'additional_data_sources': [{'name': '', 'url': ''}], 'limitations': 'When interpreting these tables, it should be borne in mind that the definitions and estimation methods employed by member countries may vary considerably, which may be mentioned in the footnotes.', 'concept': '', 'periodicity': '', 'topic': 'Waste', 'created': '', 'last_modified': '', 'TriggerTalend': False, 'SavePathForJsonOutput': ''}}\n"
     ]
    },
    {
     "name": "stderr",
     "output_type": "stream",
     "text": [
      "INFO:root:Conversion successful - \n"
     ]
    },
    {
     "name": "stdout",
     "output_type": "stream",
     "text": [
      "{'JobPath': 'c:\\\\Users\\\\10235555\\\\Documents\\\\DataportalCrawlers\\\\UN_Data\\\\test_env\\\\Hazardous waste incinerated  XLS.xlsx', 'JsonDetails': {'organisation': 'un-agencies', 'source': 'UNSTATS', 'source_description': 'The Environment Statistics Section of the United Nations Statistics Division (UNSD) is engaged in the development of methodology, data collection, capacity development, and coordination in the fields of environmental statistics and indicators.', 'source_url': 'https://unstats.un.org/unsd/envstats/qindicators', 'table': 'Hazardous waste incinerated  XLS', 'description': 'In the 1989 Basel Convention on the Control of Transboundary Movements of Hazardous Wastes and their Disposal (http://www.basel.int/), 164 countries agreed to minimize the generation of hazardous waste, to assure sound management of hazardous wastes, to control transboundary movement of hazardous wastes; and to improve institutional and technical capabilities especially for developing countries and countries with economies in transition. At later meetings, Parties agreed to a ban on the export of hazardous wastes from OECD to non-OECD countries (\\'Basel ban\\').\\nHazardous waste is waste that owing to its toxic, infectious, radioactive or flammable properties poses an actual or potential hazard to the health of humans, other living organisms, or the environment.  Hazardous waste here refers to categories of waste to be controlled according to the Basel Convention on the Control of Transboundary Movements of Hazardous Wastes and Their Disposal (Article 1 and Annex I).  If data are not available according to the Basel Convention, amounts can be given according to national definitions.\\nIncineration corresponds to the controlled combustion of waste with or without energy recovery. For all data sourced from Eurostat, hazardous waste incinerated is a summation of the variables \"Incineration / disposal\" and \"Incineration / energy resources\".\\n', 'JobType': 'JSON', 'CleanPush': True, 'Server': 'str', 'UseJsonFormatForSQL': False, 'CleanReplace': True, 'MergeSchema': False, 'tags': [{'name': 'Waste'}], 'additional_data_sources': [{'name': '', 'url': ''}], 'limitations': 'When interpreting these tables, it should be borne in mind that the definitions and estimation methods employed by member countries may vary considerably, which may be mentioned in the footnotes.', 'concept': '', 'periodicity': '', 'topic': 'Waste', 'created': '', 'last_modified': '', 'TriggerTalend': False, 'SavePathForJsonOutput': ''}}\n"
     ]
    },
    {
     "name": "stderr",
     "output_type": "stream",
     "text": [
      "INFO:root:Conversion successful - \n"
     ]
    },
    {
     "name": "stdout",
     "output_type": "stream",
     "text": [
      "{'JobPath': 'c:\\\\Users\\\\10235555\\\\Documents\\\\DataportalCrawlers\\\\UN_Data\\\\test_env\\\\Hazardous waste landfilled  XLS.xlsx', 'JsonDetails': {'organisation': 'un-agencies', 'source': 'UNSTATS', 'source_description': 'The Environment Statistics Section of the United Nations Statistics Division (UNSD) is engaged in the development of methodology, data collection, capacity development, and coordination in the fields of environmental statistics and indicators.', 'source_url': 'https://unstats.un.org/unsd/envstats/qindicators', 'table': 'Hazardous waste landfilled  XLS', 'description': 'In the 1989 Basel Convention on the Control of Transboundary Movements of Hazardous Wastes and their Disposal (http://www.basel.int/), 164 countries agreed to minimize the generation of hazardous waste, to assure sound management of hazardous wastes, to control transboundary movement of hazardous wastes; and to improve institutional and technical capabilities especially for developing countries and countries with economies in transition. At later meetings, Parties agreed to a ban on the export of hazardous wastes from OECD to non-OECD countries (\\'Basel ban\\').\\nHazardous waste is waste that owing to its toxic, infectious, radioactive or flammable properties poses an actual or potential hazard to the health of humans, other living organisms, or the environment.  Hazardous waste here refers to categories of waste to be controlled according to the Basel Convention on the Control of Transboundary Movements of Hazardous Wastes and Their Disposal (Article 1 and Annex I).  If data are not available according to the Basel Convention, amounts can be given according to national definitions.\\nLandfilling refers to the final placement of waste into or onto the land in a controlled or uncontrolled way. The definition covers both landfilling in internal sites (i.e., where a generator of waste is carrying out its own waste disposal at the place of generation) and in external sites. In Eurostat it corresponds to the variable \"Landfill / Disposal (D1-D7, D12).\\n\\n', 'JobType': 'JSON', 'CleanPush': True, 'Server': 'str', 'UseJsonFormatForSQL': False, 'CleanReplace': True, 'MergeSchema': False, 'tags': [{'name': 'Waste'}], 'additional_data_sources': [{'name': '', 'url': ''}], 'limitations': 'When interpreting these tables, it should be borne in mind that the definitions and estimation methods employed by member countries may vary considerably, which may be mentioned in the footnotes.', 'concept': '', 'periodicity': '', 'topic': 'Waste', 'created': '', 'last_modified': '', 'TriggerTalend': False, 'SavePathForJsonOutput': ''}}\n"
     ]
    },
    {
     "name": "stderr",
     "output_type": "stream",
     "text": [
      "INFO:root:Conversion successful - \n"
     ]
    },
    {
     "name": "stdout",
     "output_type": "stream",
     "text": [
      "{'JobPath': 'c:\\\\Users\\\\10235555\\\\Documents\\\\DataportalCrawlers\\\\UN_Data\\\\test_env\\\\Hazardous waste recycled  XLS.xlsx', 'JsonDetails': {'organisation': 'un-agencies', 'source': 'UNSTATS', 'source_description': 'The Environment Statistics Section of the United Nations Statistics Division (UNSD) is engaged in the development of methodology, data collection, capacity development, and coordination in the fields of environmental statistics and indicators.', 'source_url': 'https://unstats.un.org/unsd/envstats/qindicators', 'table': 'Hazardous waste recycled  XLS', 'description': 'In the 1989 Basel Convention on the Control of Transboundary Movements of Hazardous Wastes and their Disposal (http://www.basel.int/), 164 countries agreed to minimize the generation of hazardous waste, to assure sound management of hazardous wastes, to control transboundary movement of hazardous wastes; and to improve institutional and technical capabilities especially for developing countries and countries with economies in transition. At later meetings, Parties agreed to a ban on the export of hazardous wastes from OECD to non-OECD countries (\\'Basel ban\\').\\nHazardous waste is waste that owing to its toxic, infectious, radioactive or flammable properties poses an actual or potential hazard to the health of humans, other living organisms, or the environment.  Hazardous waste here refers to categories of waste to be controlled according to the Basel Convention on the Control of Transboundary Movements of Hazardous Wastes and Their Disposal (Article 1 and Annex I).  If data are not available according to the Basel Convention, amounts can be given according to national definitions.\\nRecycling corresponds to any reprocessing of waste material in a production process that diverts it from the waste stream, except reuse as fuel.  Both reprocessing as the same type of product, and for different purposes should be included. Recycling within industrial plants i.e., at the place of generation should be excluded. According to the European regulation and for all data sourced from Eurostat, this corresponds to what went through a process of \"Recovery other than energy resources - except backfilling\".', 'JobType': 'JSON', 'CleanPush': True, 'Server': 'str', 'UseJsonFormatForSQL': False, 'CleanReplace': True, 'MergeSchema': False, 'tags': [{'name': 'Waste'}], 'additional_data_sources': [{'name': '', 'url': ''}], 'limitations': 'When interpreting these tables, it should be borne in mind that the definitions and estimation methods employed by member countries may vary considerably, which may be mentioned in the footnotes.', 'concept': '', 'periodicity': '', 'topic': 'Waste', 'created': '', 'last_modified': '', 'TriggerTalend': False, 'SavePathForJsonOutput': ''}}\n"
     ]
    },
    {
     "name": "stderr",
     "output_type": "stream",
     "text": [
      "INFO:root:Conversion successful - \n"
     ]
    },
    {
     "name": "stdout",
     "output_type": "stream",
     "text": [
      "{'JobPath': 'c:\\\\Users\\\\10235555\\\\Documents\\\\DataportalCrawlers\\\\UN_Data\\\\test_env\\\\Hazardous waste treated or disposed  XLS.xlsx', 'JsonDetails': {'organisation': 'un-agencies', 'source': 'UNSTATS', 'source_description': 'The Environment Statistics Section of the United Nations Statistics Division (UNSD) is engaged in the development of methodology, data collection, capacity development, and coordination in the fields of environmental statistics and indicators.', 'source_url': 'https://unstats.un.org/unsd/envstats/qindicators', 'table': 'Hazardous waste treated or disposed  XLS', 'description': 'In the 1989 Basel Convention on the Control of Transboundary Movements of Hazardous Wastes and their Disposal (http://www.basel.int/), 164 countries agreed to minimize the generation of hazardous waste, to assure sound management of hazardous wastes, to control transboundary movement of hazardous wastes; and to improve institutional and technical capabilities especially for developing countries and countries with economies in transition. At later meetings, Parties agreed to a ban on the export of hazardous wastes from OECD to non-OECD countries (\\'Basel ban\\').\\nHazardous waste is waste that owing to its toxic, infectious, radioactive or flammable properties poses an actual or potential hazard to the health of humans, other living organisms, or the environment.  Hazardous waste here refers to categories of waste to be controlled according to the Basel Convention on the Control of Transboundary Movements of Hazardous Wastes and Their Disposal (Article 1 and Annex I).  If data are not available according to the Basel Convention, amounts can be given according to national definitions.\\nHazardous waste treated or disposed corresponds to the hazardous waste that was either recycled, incinerated, landfilled or other. For all data sourced from Eurostat, it is referred to as \"Total waste treatment\".\\nRecycling corresponds to any reprocessing of waste material in a production process that diverts it from the waste stream, except reuse as fuel.  Both reprocessing as the same type of product, and for different purposes should be included. Recycling within industrial plants i.e., at the place of generation should be excluded. According to the European regulation, and for all data sourced from Eurostat, this corresponds to what went through a process of \"Recovery other than energy resources - except backfilling\".\\nIncineration corresponds to the controlled combustion of waste with or without energy recovery. For all data sourced from Eurostat, hazardous waste incinerated refers to the variables \"Incineration / disposal\" + \"Incineration / energy recovery\".\\nLandfilling refers to the final placement of waste into or onto the land in a controlled or uncontrolled way. The definition covers both landfilling in internal sites (i.e., where a generator of waste is carrying out its own waste disposal at the place of generation) and in external sites. For all data sourced from Eurostat, it corresponds to the variable \"Landfill / Disposal (D1-D7, D12)\".\\nOther corresponds to any final treatment or disposal different from recycling, incineration and landfilling.  Examples include releasing into water bodies and permanent storage.', 'JobType': 'JSON', 'CleanPush': True, 'Server': 'str', 'UseJsonFormatForSQL': False, 'CleanReplace': True, 'MergeSchema': False, 'tags': [{'name': 'Waste'}], 'additional_data_sources': [{'name': '', 'url': ''}], 'limitations': 'When interpreting these tables, it should be borne in mind that the definitions and estimation methods employed by member countries may vary considerably, which may be mentioned in the footnotes.', 'concept': '', 'periodicity': '', 'topic': 'Waste', 'created': '', 'last_modified': '', 'TriggerTalend': False, 'SavePathForJsonOutput': ''}}\n"
     ]
    },
    {
     "name": "stderr",
     "output_type": "stream",
     "text": [
      "INFO:root:Conversion successful - \n"
     ]
    },
    {
     "name": "stdout",
     "output_type": "stream",
     "text": [
      "{'JobPath': 'c:\\\\Users\\\\10235555\\\\Documents\\\\DataportalCrawlers\\\\UN_Data\\\\test_env\\\\Municipal waste collected  XLS.xlsx', 'JsonDetails': {'organisation': 'un-agencies', 'source': 'UNSTATS', 'source_description': 'The Environment Statistics Section of the United Nations Statistics Division (UNSD) is engaged in the development of methodology, data collection, capacity development, and coordination in the fields of environmental statistics and indicators.', 'source_url': 'https://unstats.un.org/unsd/envstats/qindicators', 'table': 'Municipal waste collected  XLS', 'description': 'Municipal waste, collected by or on behalf of municipalities, by public or private enterprises, includes waste originating from: households, commerce and trade, small businesses, office buildings and institutions (schools, hospitals, government buildings).  It also includes bulky waste (e.g., white goods, old furniture, mattresses) and waste from selected municipal services, e.g., waste from park and garden maintenance, waste from street cleaning services (street sweepings, the content of litter containers, market cleansing waste), if managed as waste.  The definition excludes waste from municipal sewage network and treatment, municipal construction and demolition waste.\\n\\nMunicipal waste collected refers to waste collected by or on behalf of municipalities, as well as municipal waste collected by the private sector. It includes mixed waste, and fractions collected separately for recovery operations (through door-to-door collection and/or through voluntary deposits).  For data sourced from OECD and Eurostat, values correspond to municipal waste generated.', 'JobType': 'JSON', 'CleanPush': True, 'Server': 'str', 'UseJsonFormatForSQL': False, 'CleanReplace': True, 'MergeSchema': False, 'tags': [{'name': 'Waste'}], 'additional_data_sources': [{'name': '', 'url': ''}], 'limitations': 'When interpreting these tables, it should be borne in mind that the definitions and estimation methods employed by member countries may vary considerably, which may be mentioned in the footnotes.', 'concept': '', 'periodicity': '', 'topic': 'Waste', 'created': '', 'last_modified': '', 'TriggerTalend': False, 'SavePathForJsonOutput': ''}}\n"
     ]
    },
    {
     "name": "stderr",
     "output_type": "stream",
     "text": [
      "INFO:root:Conversion successful - \n"
     ]
    },
    {
     "name": "stdout",
     "output_type": "stream",
     "text": [
      "{'JobPath': 'c:\\\\Users\\\\10235555\\\\Documents\\\\DataportalCrawlers\\\\UN_Data\\\\test_env\\\\Municipal waste collection (latest year) XLS.xlsx', 'JsonDetails': {'organisation': 'un-agencies', 'source': 'UNSTATS', 'source_description': 'The Environment Statistics Section of the United Nations Statistics Division (UNSD) is engaged in the development of methodology, data collection, capacity development, and coordination in the fields of environmental statistics and indicators.', 'source_url': 'https://unstats.un.org/unsd/envstats/qindicators', 'table': 'Municipal waste collection (latest year) XLS', 'description': 'Municipal waste, collected by or on behalf of municipalities, by public or private enterprises, includes waste originating from: households, commerce and trade, small businesses, office buildings and institutions (schools, hospitals, government buildings). It also includes bulky waste (e.g., white goods, old furniture, mattresses) and waste from selected municipal services, e.g., waste from park and garden maintenance, waste from street cleaning services (street sweepings, the content of litter containers, market cleansing waste), if managed as waste. The definition excludes waste from municipal sewage network and treatment, municipal construction and demolition waste.\\n\\nMunicipal waste collected by or on behalf of municipalities, as well as municipal waste collected by the private sector. It includes mixed waste, and fractions collected separately for recovery operations (through door-to-door collection and/or through voluntary deposits). For data sourced from OECD and Eurostat, values correspond to municipal waste generated.\\n\\nTotal population served by municipal waste collection is the proportion of the total population covered by regular municipal waste removal service in relation to the total population of the country.\\n\\nMunicipal waste collected per capita served is calculated by UNSD by dividing the municipal waste collected by the number of people served by the waste collection system. The number of people served is the total population multiplied by the percentage of the total population served by municipal waste collection. This calculation is not made for countries for which data are sourced from the OECD or Eurostat.', 'JobType': 'JSON', 'CleanPush': True, 'Server': 'str', 'UseJsonFormatForSQL': False, 'CleanReplace': True, 'MergeSchema': False, 'tags': [{'name': 'Waste'}], 'additional_data_sources': [{'name': '', 'url': ''}], 'limitations': 'When interpreting these tables, it should be borne in mind that the definitions and estimation methods employed by member countries may vary considerably, which may be mentioned in the footnotes.', 'concept': '', 'periodicity': '', 'topic': 'Waste', 'created': '', 'last_modified': '', 'TriggerTalend': False, 'SavePathForJsonOutput': ''}}\n"
     ]
    },
    {
     "name": "stderr",
     "output_type": "stream",
     "text": [
      "INFO:root:Conversion successful - \n"
     ]
    },
    {
     "name": "stdout",
     "output_type": "stream",
     "text": [
      "{'JobPath': 'c:\\\\Users\\\\10235555\\\\Documents\\\\DataportalCrawlers\\\\UN_Data\\\\test_env\\\\Municipal waste collection at city level in selected cities (latest year) XLS.xlsx', 'JsonDetails': {'organisation': 'un-agencies', 'source': 'UNSTATS', 'source_description': 'The Environment Statistics Section of the United Nations Statistics Division (UNSD) is engaged in the development of methodology, data collection, capacity development, and coordination in the fields of environmental statistics and indicators.', 'source_url': 'https://unstats.un.org/unsd/envstats/qindicators', 'table': 'Municipal waste collection at city level in selected cities (latest year) XLS', 'description': 'Municipal waste, collected by or on behalf of municipalities, by public or private enterprises, includes waste originating from: households, commerce and trade, small businesses, office buildings and institutions (schools, hospitals, government buildings). It also includes bulky waste (e.g., white goods, old furniture, mattresses) and waste from selected municipal services, e.g., waste from park and garden maintenance, waste from street cleaning services (street sweepings, the content of litter containers, market cleansing waste), if managed as waste. The definition excludes waste from municipal sewage network and treatment, municipal construction and demolition waste.\\nMunicipal waste collected by or on behalf of municipalities, as well as municipal waste collected by the private sector. It includes mixed waste, and fractions collected separately for recovery operations (through door-to-door collection and/or through voluntary deposits).\\nPopulation served by municipal waste collection refers to the proportion of the city population covered by regular municipal waste removal service.', 'JobType': 'JSON', 'CleanPush': True, 'Server': 'str', 'UseJsonFormatForSQL': False, 'CleanReplace': True, 'MergeSchema': False, 'tags': [{'name': 'Waste'}], 'additional_data_sources': [{'name': '', 'url': ''}], 'limitations': 'When interpreting these tables, it should be borne in mind that the definitions and estimation methods employed by member countries may vary considerably, which may be mentioned in the footnotes.', 'concept': '', 'periodicity': '', 'topic': 'Waste', 'created': '', 'last_modified': '', 'TriggerTalend': False, 'SavePathForJsonOutput': ''}}\n"
     ]
    },
    {
     "name": "stderr",
     "output_type": "stream",
     "text": [
      "INFO:root:Conversion successful - \n"
     ]
    },
    {
     "name": "stdout",
     "output_type": "stream",
     "text": [
      "{'JobPath': 'c:\\\\Users\\\\10235555\\\\Documents\\\\DataportalCrawlers\\\\UN_Data\\\\test_env\\\\Municipal waste treatment (latest year) XLS.xlsx', 'JsonDetails': {'organisation': 'un-agencies', 'source': 'UNSTATS', 'source_description': 'The Environment Statistics Section of the United Nations Statistics Division (UNSD) is engaged in the development of methodology, data collection, capacity development, and coordination in the fields of environmental statistics and indicators.', 'source_url': 'https://unstats.un.org/unsd/envstats/qindicators', 'table': 'Municipal waste treatment (latest year) XLS', 'description': 'Municipal waste, collected by or on behalf of municipalities, by public or private enterprises, includes waste originating from: households, commerce and trade, small businesses, office buildings and institutions (schools, hospitals, government buildings). It also includes bulky waste (e.g., white goods, old furniture, mattresses) and waste from selected municipal services, e.g., waste from park and garden maintenance, waste from street cleaning services (street sweepings, the content of litter containers, market cleansing waste), if managed as waste. The definition excludes waste from municipal sewage network and treatment, municipal construction and demolition waste.\\nMunicipal waste collected by or on behalf of municipalities, as well as municipal waste collected by the private sector. It includes mixed waste, and fractions collected separately for recovery operations (through door-to-door collection and/or through voluntary deposits). For data sourced from OECD and Eurostat, values correspond to municipal waste generated.\\nLandfilling is final placement of waste into or onto the land in a controlled or uncontrolled way. The definition covers both landfilling in internal sites (i.e., where a generator of waste is carrying out its own waste disposal at the place of generation) and in external sites. For data sourced from Eurostat, values correspond to \"landfill and other\". For data sourced from OECD, values correspond to \"landfill\".\\nMunicipal waste landfilled includes all amounts going to landfill, either directly, or after sorting and/or treatment, as well as residues from recovery and disposal operations going to landfill. The definition covers both landfill in internal sites (i.e. where a generator of waste is carrying out its own waste disposal at the place of generation) and in external sites.\\nIncineration is the controlled combustion of waste with or without energy recovery.  For data sourced from OECD and Eurostat, values correspond to \"incineration (D10) and recovery - energy recovery (R1).\"\\nRecycling is defined as any reprocessing of waste material in a production process that diverts it from the waste stream, except reuse as fuel.  Both reprocessing as the same type of product, and for different purposes should be included. Recycling within industrial plants i.e. at the place of generation should be excluded. For data sourced from OECD and Eurostat, values correspond to \"recycling - material.\"\\nComposting is a biological process that submits biodegradable waste to anaerobic or aerobic decomposition, and that results in a product that is recovered and can be used to increase soil fertility. For data sourced from OECD and Eurostat, values correspond to \"recycling - composting and digestion.\"\\nOther refers to any final treatment or disposal different from recycling, composting, incineration and landfilling.  Examples include releasing into water bodies and permanent storage.\\n\\n\\n', 'JobType': 'JSON', 'CleanPush': True, 'Server': 'str', 'UseJsonFormatForSQL': False, 'CleanReplace': True, 'MergeSchema': False, 'tags': [{'name': 'Waste'}], 'additional_data_sources': [{'name': '', 'url': ''}], 'limitations': 'When interpreting these tables, it should be borne in mind that the definitions and estimation methods employed by member countries may vary considerably, which may be mentioned in the footnotes.', 'concept': '', 'periodicity': '', 'topic': 'Waste', 'created': '', 'last_modified': '', 'TriggerTalend': False, 'SavePathForJsonOutput': ''}}\n"
     ]
    },
    {
     "name": "stderr",
     "output_type": "stream",
     "text": [
      "INFO:root:Conversion successful - \n"
     ]
    },
    {
     "name": "stdout",
     "output_type": "stream",
     "text": [
      "{'JobPath': 'c:\\\\Users\\\\10235555\\\\Documents\\\\DataportalCrawlers\\\\UN_Data\\\\test_env\\\\Municipal waste treatment at city level in selected cities (latest year) XLS.xlsx', 'JsonDetails': {'organisation': 'un-agencies', 'source': 'UNSTATS', 'source_description': 'The Environment Statistics Section of the United Nations Statistics Division (UNSD) is engaged in the development of methodology, data collection, capacity development, and coordination in the fields of environmental statistics and indicators.', 'source_url': 'https://unstats.un.org/unsd/envstats/qindicators', 'table': 'Municipal waste treatment at city level in selected cities (latest year) XLS', 'description': 'Municipal waste, collected by or on behalf of municipalities, by public or private enterprises, includes waste originating from: households, commerce and trade, small businesses, office buildings and institutions (schools, hospitals, government buildings). It also includes bulky waste (e.g., white goods, old furniture, mattresses) and waste from selected municipal services, e.g., waste from park and garden maintenance, waste from street cleaning services (street sweepings, the content of litter containers, market cleansing waste), if managed as waste. The definition excludes waste from municipal sewage network and treatment, municipal construction and demolition waste.\\nMunicipal waste collected by or on behalf of municipalities, as well as municipal waste collected by the private sector. It includes mixed waste, and fractions collected separately for recovery operations (through door-to-door collection and/or through voluntary deposits). For data sourced from OECD and Eurostat, values correspond to municipal waste generated.\\nLandfilling is final placement of waste into or onto the land in a controlled or uncontrolled way. The definition covers both landfilling in internal sites (i.e., where a generator of waste is carrying out its own waste disposal at the place of generation) and in external sites.\\nMunicipal waste landfilled includes all amounts going to landfill, either directly, or after sorting and/or treatment, as well as residues from recovery and disposal operations going to landfill. The definition covers both landfill in internal sites (i.e. where a generator of waste is carrying out its own waste disposal at the place of generation) and in external sites.\\nIncineration is the controlled combustion of waste with or without energy recovery.\\nRecycling is defined as any reprocessing of waste material in a production process that diverts it from the waste stream, except reuse as fuel.  Both reprocessing as the same type of product, and for different purposes should be included. Recycling within industrial plants i.e. at the place of generation should be excluded.\\nComposting is a biological process that submits biodegradable waste to anaerobic or aerobic decomposition, and that results in a product that is recovered and can be used to increase soil fertility.\\nOther refers to any final treatment or disposal different from recycling, composting, incineration and landfilling.  Examples include releasing into water bodies and permanent storage.\\nThe sum of the different types of waste disposal may be greater than the total amount of municipal waste collected, as these facilities may be used for other types of waste, or because of double counting due to the landfilling of the residues of incineration, or to the incineration of residues from composting.', 'JobType': 'JSON', 'CleanPush': True, 'Server': 'str', 'UseJsonFormatForSQL': False, 'CleanReplace': True, 'MergeSchema': False, 'tags': [{'name': 'Waste'}], 'additional_data_sources': [{'name': '', 'url': ''}], 'limitations': 'When interpreting these tables, it should be borne in mind that the definitions and estimation methods employed by member countries may vary considerably, which may be mentioned in the footnotes.', 'concept': '', 'periodicity': '', 'topic': 'Waste', 'created': '', 'last_modified': '', 'TriggerTalend': False, 'SavePathForJsonOutput': ''}}\n"
     ]
    },
    {
     "name": "stderr",
     "output_type": "stream",
     "text": [
      "INFO:root:Conversion successful - \n"
     ]
    },
    {
     "name": "stdout",
     "output_type": "stream",
     "text": [
      "{'JobPath': 'c:\\\\Users\\\\10235555\\\\Documents\\\\DataportalCrawlers\\\\UN_Data\\\\test_env\\\\Percentage of hazardous waste treated or disposed relative to hazardous waste generated  XLS.xlsx', 'JsonDetails': {'organisation': 'un-agencies', 'source': 'UNSTATS', 'source_description': 'The Environment Statistics Section of the United Nations Statistics Division (UNSD) is engaged in the development of methodology, data collection, capacity development, and coordination in the fields of environmental statistics and indicators.', 'source_url': 'https://unstats.un.org/unsd/envstats/qindicators', 'table': 'Percentage of hazardous waste treated or disposed relative to hazardous waste generated  XLS', 'description': 'UNSD has calculated the percentage of hazardous waste treated or disposed relative to hazardous waste generated based on data sourced from either Eurostat or the UNSD. Instances of hazardous waste treated or disposed being greater than hazardous waste generated (e.g. a figure greater than 100%) are possible, because, aside from generating hazardous waste, a country may import or export it, and may also have an existing stock of hazardous waste at the beginning of a given year.\\nIn the 1989 Basel Convention on the Control of Transboundary Movements of Hazardous Wastes and their Disposal (http://www.basel.int/), 164 countries agreed to minimize the generation of hazardous waste, to assure sound management of hazardous wastes, to control transboundary movement of hazardous wastes; and to improve institutional and technical capabilities especially for developing countries and countries with economies in transition. At later meetings, Parties agreed to a ban on the export of hazardous wastes from OECD to non-OECD countries (\\'Basel ban\\').\\nHazardous waste is waste that owing to its toxic, infectious, radioactive or flammable properties poses an actual or potential hazard to the health of humans, other living organisms, or the environment.  Hazardous waste here refers to categories of waste to be controlled according to the Basel Convention on the Control of Transboundary Movements of Hazardous Wastes and Their Disposal (Article 1 and Annex I).  If data are not available according to the Basel Convention, amounts can be given according to national definitions.\\nHazardous waste treated or disposed corresponds to the hazardous waste that was either recycled, incinerated, landfilled or other. For all data sourced from Eurostat, it is referred to as \"Total waste treatment\".\\nRecycling corresponds to any reprocessing of waste material in a production process that diverts it from the waste stream, except reuse as fuel.  Both reprocessing as the same type of product, and for different purposes should be included. Recycling within industrial plants i.e., at the place of generation should be excluded. According to the European regulation, and for all data sourced from Eurostat, this corresponds to what went through a process of \"Recovery other than energy resources - except backfilling\".\\nIncineration corresponds to the controlled combustion of waste with or without energy recovery. For all data sourced from Eurostat, hazardous waste incinerated refers to the variables \"Incineration / disposal\" + \"Incineration / energy recovery\".\\nLandfilling refers to the final placement of waste into or onto the land in a controlled or uncontrolled way. The definition covers both landfilling in internal sites (i.e., where a generator of waste is carrying out its own waste disposal at the place of generation) and in external sites. For all data sourced from Eurostat, it corresponds to the variable \"Landfill / Disposal (D1-D7, D12)\".\\nOther corresponds to any final treatment or disposal different from recycling, incineration and landfilling.  Examples include releasing into water bodies and permanent storage.', 'JobType': 'JSON', 'CleanPush': True, 'Server': 'str', 'UseJsonFormatForSQL': False, 'CleanReplace': True, 'MergeSchema': False, 'tags': [{'name': 'Waste'}], 'additional_data_sources': [{'name': '', 'url': ''}], 'limitations': 'When interpreting these tables, it should be borne in mind that the definitions and estimation methods employed by member countries may vary considerably, which may be mentioned in the footnotes.', 'concept': '', 'periodicity': '', 'topic': 'Waste', 'created': '', 'last_modified': '', 'TriggerTalend': False, 'SavePathForJsonOutput': ''}}\n"
     ]
    },
    {
     "name": "stderr",
     "output_type": "stream",
     "text": [
      "INFO:root:Conversion successful - \n"
     ]
    },
    {
     "name": "stdout",
     "output_type": "stream",
     "text": [
      "{'JobPath': 'c:\\\\Users\\\\10235555\\\\Documents\\\\DataportalCrawlers\\\\UN_Data\\\\test_env\\\\Percentage of municipal waste collected which is recycled XLS.xlsx', 'JsonDetails': {'organisation': 'un-agencies', 'source': 'UNSTATS', 'source_description': 'The Environment Statistics Section of the United Nations Statistics Division (UNSD) is engaged in the development of methodology, data collection, capacity development, and coordination in the fields of environmental statistics and indicators.', 'source_url': 'https://unstats.un.org/unsd/envstats/qindicators', 'table': 'Percentage of municipal waste collected which is recycled XLS', 'description': 'UNSD has calculated the percentage of municipal waste collected which is recycled based on data from either Eurostat, OECD or UNSD.\\nMunicipal waste, collected by or on behalf of municipalities, by public or private enterprises, includes waste originating from: households, commerce and trade, small businesses, office buildings and institutions (schools, hospitals, government buildings).  It also includes bulky waste (e.g., white goods, old furniture, mattresses) and waste from selected municipal services, e.g., waste from park and garden maintenance, waste from street cleaning services (street sweepings, the content of litter containers, market cleansing waste), if managed as waste.  The definition excludes waste from municipal sewage network and treatment, municipal construction and demolition waste.\\nMunicipal waste collected refers to waste collected by or on behalf of municipalities, as well as municipal waste collected by the private sector. It includes mixed waste, and fractions collected separately for recovery operations (through door-to-door collection and/or through voluntary deposits).  For data sourced from OECD and Eurostat, values correspond to municipal waste generated.\\nRecycling corresponds to any reprocessing of waste material in a production process that diverts it from the waste stream, except reuse as fuel.  Both reprocessing as the same type of product, and for different purposes should be included. Recycling within industrial plants i.e., at the place of generation should be excluded. According to the European regulation, and for all data sourced from Eurostat, this corresponds to what went through a process of \"Recovery other than energy resources - except backfilling\". \\n', 'JobType': 'JSON', 'CleanPush': True, 'Server': 'str', 'UseJsonFormatForSQL': False, 'CleanReplace': True, 'MergeSchema': False, 'tags': [{'name': 'Waste'}], 'additional_data_sources': [{'name': '', 'url': ''}], 'limitations': 'When interpreting these tables, it should be borne in mind that the definitions and estimation methods employed by member countries may vary considerably, which may be mentioned in the footnotes.', 'concept': '', 'periodicity': '', 'topic': 'Waste', 'created': '', 'last_modified': '', 'TriggerTalend': False, 'SavePathForJsonOutput': ''}}\n"
     ]
    },
    {
     "name": "stderr",
     "output_type": "stream",
     "text": [
      "INFO:root:Conversion successful - \n"
     ]
    },
    {
     "name": "stdout",
     "output_type": "stream",
     "text": [
      "{'JobPath': 'c:\\\\Users\\\\10235555\\\\Documents\\\\DataportalCrawlers\\\\UN_Data\\\\test_env\\\\Total ewaste collected  XLS.xlsx', 'JsonDetails': {'organisation': 'un-agencies', 'source': 'UNSTATS', 'source_description': 'The Environment Statistics Section of the United Nations Statistics Division (UNSD) is engaged in the development of methodology, data collection, capacity development, and coordination in the fields of environmental statistics and indicators.', 'source_url': 'https://unstats.un.org/unsd/envstats/qindicators', 'table': 'Total ewaste collected  XLS', 'description': 'Electronic waste, or e-waste, refers to all items of electrical and electronic equipment (EEE) and its parts that have been discarded by its owner as waste without the intent of re-use.', 'JobType': 'JSON', 'CleanPush': True, 'Server': 'str', 'UseJsonFormatForSQL': False, 'CleanReplace': True, 'MergeSchema': False, 'tags': [{'name': 'Waste'}], 'additional_data_sources': [{'name': '', 'url': ''}], 'limitations': 'The UNSD/UNEP Questionnaire on Environment Statistics only commenced collecting data on electronic waste in 2018. As such, data availability for electronic waste variables are relatively sparse, but are expected to increase in future.', 'concept': '', 'periodicity': '', 'topic': 'Waste', 'created': '', 'last_modified': '', 'TriggerTalend': False, 'SavePathForJsonOutput': ''}}\n"
     ]
    },
    {
     "name": "stderr",
     "output_type": "stream",
     "text": [
      "INFO:root:Conversion successful - \n"
     ]
    },
    {
     "name": "stdout",
     "output_type": "stream",
     "text": [
      "{'JobPath': 'c:\\\\Users\\\\10235555\\\\Documents\\\\DataportalCrawlers\\\\UN_Data\\\\test_env\\\\Total ewaste generated  XLS.xlsx', 'JsonDetails': {'organisation': 'un-agencies', 'source': 'UNSTATS', 'source_description': 'The Environment Statistics Section of the United Nations Statistics Division (UNSD) is engaged in the development of methodology, data collection, capacity development, and coordination in the fields of environmental statistics and indicators.', 'source_url': 'https://unstats.un.org/unsd/envstats/qindicators', 'table': 'Total ewaste generated  XLS', 'description': 'Electronic waste, or e-waste, refers to all items of electrical and electronic equipment (EEE) and its parts that have been discarded by its owner as waste without the intent of re-use.', 'JobType': 'JSON', 'CleanPush': True, 'Server': 'str', 'UseJsonFormatForSQL': False, 'CleanReplace': True, 'MergeSchema': False, 'tags': [{'name': 'Waste'}], 'additional_data_sources': [{'name': '', 'url': ''}], 'limitations': 'The UNSD/UNEP Questionnaire on Environment Statistics only commenced collecting data on electronic waste in 2018. As such, data availability for electronic waste variables are relatively sparse, but are expected to increase in future.', 'concept': '', 'periodicity': '', 'topic': 'Waste', 'created': '', 'last_modified': '', 'TriggerTalend': False, 'SavePathForJsonOutput': ''}}\n"
     ]
    },
    {
     "name": "stderr",
     "output_type": "stream",
     "text": [
      "INFO:root:Conversion successful - \n"
     ]
    },
    {
     "name": "stdout",
     "output_type": "stream",
     "text": [
      "{'JobPath': 'c:\\\\Users\\\\10235555\\\\Documents\\\\DataportalCrawlers\\\\UN_Data\\\\test_env\\\\Total population served by municipal waste collection  XLS.xlsx', 'JsonDetails': {'organisation': 'un-agencies', 'source': 'UNSTATS', 'source_description': 'The Environment Statistics Section of the United Nations Statistics Division (UNSD) is engaged in the development of methodology, data collection, capacity development, and coordination in the fields of environmental statistics and indicators.', 'source_url': 'https://unstats.un.org/unsd/envstats/qindicators', 'table': 'Total population served by municipal waste collection  XLS', 'description': 'Municipal waste, collected by or on behalf of municipalities, by public or private enterprises, includes waste originating from: households, commerce and trade, small businesses, office buildings and institutions (schools, hospitals, government buildings).  It also includes bulky waste (e.g., white goods, old furniture, mattresses) and waste from selected municipal services, e.g., waste from park and garden maintenance, waste from street cleaning services (street sweepings, the content of litter containers, market cleansing waste), if managed as waste.  The definition excludes waste from municipal sewage network and treatment, municipal construction and demolition waste.\\nMunicipal waste collected refers to waste collected by or on behalf of municipalities, as well as municipal waste collected by the private sector. It includes mixed waste, and fractions collected separately for recovery operations (through door-to-door collection and/or through voluntary deposits).  For data sourced from OECD and Eurostat, values correspond to municipal waste generated.\\nTotal population served by municipal waste collection is the proportion of the total population covered by regular municipal waste removal service in relation to the total population of the country.', 'JobType': 'JSON', 'CleanPush': True, 'Server': 'str', 'UseJsonFormatForSQL': False, 'CleanReplace': True, 'MergeSchema': False, 'tags': [{'name': 'Waste'}], 'additional_data_sources': [{'name': '', 'url': ''}], 'limitations': 'When interpreting these tables, it should be borne in mind that the definitions and estimation methods employed by member countries may vary considerably, which may be mentioned in the footnotes.', 'concept': '', 'periodicity': '', 'topic': 'Waste', 'created': '', 'last_modified': '', 'TriggerTalend': False, 'SavePathForJsonOutput': ''}}\n"
     ]
    }
   ],
   "source": [
    "\n",
    "parent_node = soup.find(class_ = 'row tab-v3')\n",
    "child_node = parent_node.find_all(class_ = 'list-unstyled margin-bottom-15')\n",
    "for each in child_node:\n",
    "    tag = soup.find_all(\"h4\")[child_node.index(each)].text\n",
    "    #print(tag)\n",
    "    descandents = each.find_all('a')\n",
    "    #print(descandents)\n",
    "    for i in descandents:\n",
    "\n",
    "        title = i.text.strip()\n",
    "\n",
    "        BodyDict = {\n",
    "                    \"JobPath\":f\"{base_path}\\\\{title}.xlsx\", #* Point to downloaded data for conversion #\n",
    "                    \"JsonDetails\":{\n",
    "                            ## Required\n",
    "                            \"organisation\": \"un-agencies\",\n",
    "                            \"source\": \"UNSTATS\",\n",
    "                            \"source_description\" : \"The Environment Statistics Section of the United Nations Statistics Division (UNSD) is engaged in the development of methodology, data collection, capacity development, and coordination in the fields of environmental statistics and indicators.\",\n",
    "                            \"source_url\" : \"https://unstats.un.org/unsd/envstats/qindicators\",\n",
    "                            \"table\" : title,\n",
    "                            \"description\" : title,\n",
    "                            ## Optional\n",
    "                            \"JobType\": \"JSON\",\n",
    "                            \"CleanPush\": True,\n",
    "                            \"Server\": \"str\",\n",
    "                            \"UseJsonFormatForSQL\":  False,\n",
    "                            \"CleanReplace\":True,\n",
    "                            \"MergeSchema\": False,\n",
    "                            \"tags\": [{\n",
    "                                \"name\": tag\n",
    "                            }],\n",
    "                            \"additional_data_sources\": [{\n",
    "                                \"name\": \"\",\n",
    "                                \"url\" : \"\"\n",
    "                            }],\n",
    "                            \"limitations\":\"\",\n",
    "                            \"concept\":  \"\",\n",
    "                            \"periodicity\":  \"\",\n",
    "                            \"topic\":  tag,\n",
    "                            \"created\": \"\",                       #* this should follow the following formats %Y-%m-%dT%H:%M:%S\" or \"%Y-%m-%d\"\n",
    "                            \"last_modified\": \"\",                #* \"\"               \"\"                  \"\"              \"\"\n",
    "                            \"TriggerTalend\" :  False,    #* initialise to True for production\n",
    "                            \"SavePathForJsonOutput\": \"\" #* initialise as empty string for production.\n",
    "                        }\n",
    "                    }\n",
    "\n",
    "        if title.endswith('XLS') :\n",
    "            # if title != 'Agricultural land XLS':\n",
    "            link=i['href'].replace(' ','%20')\n",
    "            \n",
    "            urllib.request.urlretrieve(link,f\"{base_path}\\\\{title}.xlsx\")\n",
    "            if len(pd.read_excel(rf\"{base_path}\\{title}.xlsx\",sheet_name=None))==1:\n",
    "                dff = pd.read_excel(f'{base_path}\\\\{title}.xlsx')\n",
    "                index1 = dff.iloc[:,0].index[dff.iloc[:,0] == 'Definitions & Technical notes:'].tolist()\n",
    "                description1 = dff.iloc[(indx+2 for indx in index1),0].tolist()\n",
    "                description2 = dff.iloc[(indx+3 for indx in index1),0].tolist()\n",
    "                description3 = dff.iloc[(indx+4 for indx in index1),0].tolist()\n",
    "                description4 = dff.iloc[(indx+5 for indx in index1),0].tolist()\n",
    "                description = str(description1[0]) + str(description2[0]) + str(description3[0])  + str(description4[0])\n",
    "                BodyDict[\"JsonDetails\"][\"description\"] = description\n",
    "                ind = dff.iloc[:,1].index[dff.iloc[:,1]== 'Country'].to_list()\n",
    "                if dff.iloc[:,0].str.contains('Data Quality: ').any():\n",
    "                    index2 = dff.iloc[:,0].index[dff.iloc[:,0] == 'Data Quality: '].tolist()\n",
    "                    limitations = dff.iloc[(ind+2 for ind in index2),0].tolist()\n",
    "                    BodyDict[\"JsonDetails\"][\"limitations\"] = limitations[0]\n",
    "                if dff.iloc[:,0].str.contains('Sources:').any():\n",
    "                    index3 = dff.iloc[:,0].index[dff.iloc[:,0] == 'Sources:'].tolist()\n",
    "                    source1 = dff.iloc[(indx+2 for indx in index3),0].tolist()\n",
    "                    source2 = dff.iloc[(indx+3 for indx in index3),0].tolist()\n",
    "                    source3 = dff.iloc[(indx+4 for indx in index3),0].tolist()\n",
    "                    source4 = dff.iloc[(indx+5 for indx in index3),0].tolist()\n",
    "                    # source = str(source1[0]) + str(source2[0]) + str(source3[0]) + str(source4[0])\n",
    "                    url_source = source2[0].split(': ')[1]\n",
    "                    name = source1[0]\n",
    "                    # source = [' '.join(source)]\n",
    "                    BodyDict[\"JsonDetails\"][\"additional_data_sources\"][0][\"name\"] = name\n",
    "                    BodyDict[\"JsonDetails\"][\"additional_data_sources\"][0][\"url\"] = url_source\n",
    "                    k = index3[0]\n",
    "                    dff = dff[:k]\n",
    "                    # ind = dff.iloc[:,1].index[dff.iloc[:,1]== 'Country'].to_list()\n",
    "                if len(ind)==1:\n",
    "                    if title == 'Consumption of ozone-depleting substances XLS' :\n",
    "                        ta = dff.iloc[ind[0]:,1:]\n",
    "                        ta.iloc[0:3] = ta.iloc[0:3].fillna(method='ffill', axis=1)\n",
    "                        ta.iloc[0:3] = ta.iloc[0:3].fillna('')\n",
    "                        ta.columns = ta.iloc[0:3].apply(lambda x: ' - '.join(map(str,[y for y in x if y])), axis=0)\n",
    "                        ta = ta.iloc[3:]\n",
    "                        ta = ta.loc[:,~ta.columns.duplicated()].copy()\n",
    "                        ta = ta.loc[:, ~ta.columns.str.contains('^Unnamed',na=False)]\n",
    "                        # df.drop(df.columns[df.columns.str.contains('Footnotes')], axis=1)\n",
    "                        ta = ta.loc[:, ~ta.columns.str.contains('Footnotes_',na=False)]\n",
    "                        ta.to_excel(f'{base_path}\\\\{title}.xlsx',index=False)\n",
    "                    if title ==  'Greenhouse gas emissions by sector (percentage)  XLS':\n",
    "                        ta = dff.iloc[ind[0]:,1:]\n",
    "                        ta.iloc[0:2] = ta.iloc[0:2].fillna(method='ffill', axis=1)\n",
    "                        ta.iloc[0:2] = ta.iloc[0:2].fillna('')\n",
    "                        ta.columns = ta.iloc[0:2].apply(lambda x: ' - '.join(map(str,[y for y in x if y])), axis=0)\n",
    "                        ta = ta.iloc[2:]\n",
    "                        ta = ta.loc[:,~ta.columns.duplicated()].copy()\n",
    "                        ta = ta.loc[:, ~ta.columns.str.contains('^Unnamed',na=False)]\n",
    "                        # df.drop(df.columns[df.columns.str.contains('Footnotes')], axis=1)\n",
    "                        ta = ta.loc[:, ~ta.columns.str.contains('Footnotes_',na=False)]\n",
    "                        ta = ta.iloc[:,:8]\n",
    "                        ta.to_excel(f'{base_path}\\\\{title}.xlsx',index=False)\n",
    "\n",
    "                elif len(ind)>1:\n",
    "                    ta = dff.iloc[ind[1]:,1:]\n",
    "                    column = ta.iloc[0].to_list()\n",
    "                    ta.set_axis(column, axis=1,inplace=True)\n",
    "                    ta = ta.iloc[1:]\n",
    "                    ta.to_excel(f'{base_path}\\\\{title}.xlsx',index=False)\n",
    "                    df = pd.read_excel(f'{base_path}\\\\{title}.xlsx')\n",
    "                    nan_value = float(\"NaN\")\n",
    "                    df.replace(\"\", nan_value, inplace=True)\n",
    "                    df.dropna(how='all', axis=1, inplace=True)\n",
    "                    header2 = df.loc[0, :].values.tolist()\n",
    "                    header2 = [str(elem).replace('nan',' ') for elem in header2]\n",
    "                    header = zip(df.columns,header2)\n",
    "                    df.set_axis(header, axis=1,inplace=True)\n",
    "                    df = df.iloc[1:,:]\n",
    "                    df.columns = [' '.join(map(str,df.columns[i])) for i in range(len(df.columns))]\n",
    "                    df = df.loc[:, ~df.columns.str.contains('^Unnamed',na=False)]\n",
    "                    df = df.loc[:, ~df.columns.str.contains('Footnotes',na=False)]\n",
    "                    # df.drop(df.columns[df.columns.str.contains('Footnotes')], axis=1)\n",
    "                    df.to_excel(f'{base_path}\\\\{title}.xlsx',index=False)\n",
    "                # else:\n",
    "                #     ta = dff.iloc[ind[0]:,1:]\n",
    "                #     column = ta.iloc[0].to_list()\n",
    "                #     ta.set_axis(column, axis=1,inplace=True)\n",
    "                #     ta = ta.iloc[1:]\n",
    "                #     ta.to_excel(f'{base_path}\\\\{title}.xlsx',index=False)\n",
    "                #     df = pd.read_excel(f'{base_path}\\\\{title}.xlsx')\n",
    "                #     nan_value = float(\"NaN\")\n",
    "                #     df.replace(\"\", nan_value, inplace=True)\n",
    "                #     df.dropna(how='all', axis=1, inplace=True)\n",
    "                #     header2 = df.loc[0, :].values.tolist()\n",
    "                #     header2 = [str(elem).replace('nan',' ') for elem in header2]\n",
    "                #     header = zip(df.columns,header2)\n",
    "                #     df.set_axis(header, axis=1,inplace=True)\n",
    "                #     df = df.iloc[1:,:]\n",
    "                #     df.columns = [' '.join(df.columns[i]) for i in range(len(df.columns))]\n",
    "                #     df = df.loc[:, ~df.columns.str.contains('^Unnamed',na=False)]\n",
    "                #     df = df.loc[:, ~df.columns.str.contains('Footnotes',na=False)]\n",
    "                #     # df.drop(df.columns[df.columns.str.contains('Footnotes')], axis=1)\n",
    "                #     df.to_excel(f'{base_path}\\\\{title}.xlsx',index=False)\n",
    "\n",
    "                # if len(ind)>1:\n",
    "                #     ta = dff.iloc[ind[1]:,1:]\n",
    "                #     column = ta.iloc[0].to_list()\n",
    "                #     ta.set_axis(column, axis=1,inplace=True)\n",
    "                #     ta = ta.iloc[1:]\n",
    "                #     ta.to_excel(f'{base_path}\\\\{title}.xlsx',index=False)\n",
    "                #     df = pd.read_excel(f'{base_path}\\\\{title}.xlsx')\n",
    "                #     nan_value = float(\"NaN\")\n",
    "                #     df.replace(\"\", nan_value, inplace=True)\n",
    "                #     df.dropna(how='all', axis=1, inplace=True)\n",
    "                #     header2 = df.loc[0, :].values.tolist()\n",
    "                #     header2 = [str(elem).replace('nan',' ') for elem in header2]\n",
    "                #     header = zip(df.columns,header2)\n",
    "                #     df.set_axis(header, axis=1,inplace=True)\n",
    "                #     df = df.iloc[1:,:]\n",
    "                #     df.columns = [' '.join(map(str,df.columns[i])) for i in range(len(df.columns))]\n",
    "                #     df = df.loc[:, ~df.columns.str.contains('^Unnamed',na=False)]\n",
    "                #     df = df.loc[:, ~df.columns.str.contains('Footnotes',na=False)]\n",
    "                #     # df.drop(df.columns[df.columns.str.contains('Footnotes')], axis=1)\n",
    "                #     df.to_excel(f'{base_path}\\\\{title}.xlsx',index=False)\n",
    "\n",
    "                try:\n",
    "                    BodyDict[\"JobPath\"] = f\"{base_path}\\\\{title}.xlsx\"\n",
    "                    # TriggerInferShemaToJsonAPIClass = TriggerInferShemaToJsonAPI(BodyDict=BodyDict)\n",
    "                    # TriggerInferShemaToJsonAPIClass.TriggerAPI()\n",
    "                    logging.info(f\"Conversion successful - \")\n",
    "                    print(BodyDict)\n",
    "                except  Exception as err:\n",
    "                    print('error')\n",
    "                    \n",
    "            elif len(pd.read_excel(rf\"{base_path}\\{title}.xlsx\",sheet_name=None))==2:\n",
    "                xls = pd.ExcelFile(f'{base_path}\\\\{title}.xlsx')\n",
    "                sheets = xls.sheet_names\n",
    "                df = pd.read_excel(f'{base_path}\\\\{title}.xlsx',sheets[1])\n",
    "                dfdesc = pd.read_excel(f'{base_path}\\\\{title}.xlsx',sheets[0])\n",
    "                index1 = dfdesc['Unnamed: 0'].index[dfdesc['Unnamed: 0'] == 'Definitions & Technical notes:'].tolist()\n",
    "                description = dfdesc.iloc[(indx+1 for indx in index1),0].tolist()\n",
    "                BodyDict[\"JsonDetails\"][\"description\"] = description[0]\n",
    "                if dfdesc['Unnamed: 0'].str.contains('Data Quality:').any():\n",
    "                    index = dfdesc['Unnamed: 0'].index[dfdesc['Unnamed: 0'] == 'Data Quality: '].tolist()\n",
    "                    limitations = dfdesc.iloc[(ind+1 for ind in index),0].tolist()\n",
    "                    BodyDict[\"JsonDetails\"][\"limitations\"] = limitations[0]\n",
    "                if df.iloc[:,1].str.contains('Footnote').any():\n",
    "                    index3 = df.iloc[:,1].index[df.iloc[:,1] == 'Footnote'].tolist()\n",
    "                    k = index3[0]\n",
    "                    df = df.iloc[:k]\n",
    "                    nan_value = float(\"NaN\")\n",
    "                    df.replace(\"\", nan_value, inplace=True)\n",
    "                    df.dropna(how='all', axis=1, inplace=True)\n",
    "                    df = df.loc[:, ~df.columns.str.contains('Footnotes',na=False)]\n",
    "                    # df.drop(df.columns[df.columns.str.contains('Footnotes')], axis=1)\n",
    "                    df = df.loc[:, ~df.columns.str.contains('^Unnamed',na=False)]\n",
    "                    df.to_excel(f'{base_path}\\\\{title}.xlsx',index=False)\n",
    "                else:\n",
    "                    nan_value = float(\"NaN\")\n",
    "                    df.replace(\"\", nan_value, inplace=True)\n",
    "                    df.dropna(how='all', axis=1, inplace=True)\n",
    "                    df = df.loc[:, ~df.columns.str.contains('Footnotes',na=False)]\n",
    "                    # df.drop(df.columns[df.columns.str.contains('Footnotes')], axis=1)\n",
    "                    df.to_excel(f'{base_path}\\\\{title}.xlsx',index=False)\n",
    "\n",
    "                if 'disasters' in title:\n",
    "                    header2 = df.loc[0, :].values.tolist()\n",
    "                    df.columns = [df.columns[i-1] if 'Unnamed' in df.columns[i] else df.columns[i] for i in range(len(df.columns)) ]\n",
    "                    df.columns = [df.columns[i-2] if 'Unnamed' in df.columns[i] else df.columns[i] for i in range(len(df.columns)) ]\n",
    "                    df.columns = zip(['' if 'Unnamed' in df.columns[i] else df.columns[i] for i in range(len(df.columns)) ],header2)\n",
    "                    df = df.iloc[1:]#.reset_index(drop=True)\n",
    "                    df.columns = [' '.join(df.columns[i]) for i in range(len(df.columns))]\n",
    "                    df.rename(columns={df.columns[0]: 'CountryID'},inplace=True)\n",
    "                    df = df.loc[:, ~df.columns.str.contains('Footnotes',na=False)]\n",
    "                    # df.drop(df.columns[df.columns.str.contains('Footnotes')], axis=1)\n",
    "                    df = df.loc[:, ~df.columns.str.contains('^Unnamed',na=False)]\n",
    "                    df.to_excel(f'{base_path}\\\\{title}.xlsx',index=False)\n",
    "\n",
    "                try:\n",
    "                    BodyDict[\"JobPath\"] = f\"{base_path}\\\\{title}.xlsx\"\n",
    "                    # TriggerInferShemaToJsonAPIClass = TriggerInferShemaToJsonAPI(BodyDict=BodyDict)\n",
    "                    # TriggerInferShemaToJsonAPIClass.TriggerAPI()\n",
    "                    logging.info(f\"Conversion successful - \")\n",
    "                    print(BodyDict)\n",
    "                except  Exception as err:\n",
    "                    print('error')\n",
    "\n",
    "        elif title == 'Proportion of population in coastal zones (LECZ)':\n",
    "            link_pop=i['href']\n",
    "            if link_pop.endswith('.htm'):\n",
    "                response = requests.get(link_pop)\n",
    "                soup_pop = BeautifulSoup(response.content,'html.parser')\n",
    "                content = soup_pop.find(valign='middle')\n",
    "                url_pop = content.find('a')['href']\n",
    "                url_pop = f'https://unstats.un.org/unsd/environment/{url_pop}'\n",
    "                urllib.request.urlretrieve(url_pop,f\"{base_path}\\\\{title}.xls\")\n",
    "                df = pd.read_excel(f\"{base_path}\\\\{title}.xls\")\n",
    "                index1 = df.iloc[:,0].index[df.iloc[:,0] == 'Definitions & Technical notes:'].tolist()\n",
    "                description1 = df.iloc[(indx+2 for indx in index1),0].tolist()\n",
    "                description2 = df.iloc[(indx+3 for indx in index1),0].tolist()\n",
    "                description3 = df.iloc[(indx+4 for indx in index1),0].tolist()\n",
    "                description4 = df.iloc[(indx+5 for indx in index1),0].tolist()\n",
    "                description = str(description1[0]) + str(description2[0])  + str(description3[0])  + str(description4[0])\n",
    "                index3 = df.iloc[:,0].index[df.iloc[:,0] == 'Sources:'].tolist()\n",
    "                source1 = df.iloc[(indx+2 for indx in index1),0].tolist()\n",
    "                source2 = df.iloc[(indx+3 for indx in index1),0].tolist()\n",
    "                source3 = df.iloc[(indx+4 for indx in index1),0].tolist()\n",
    "                source4 = df.iloc[(indx+5 for indx in index1),0].tolist()\n",
    "                source = str(source1[0]) + str(source2[0]) + str(source3[0]) + str(source4[0])\n",
    "                \n",
    "                BodyDict[\"JsonDetails\"][\"description\"] = description\n",
    "                BodyDict[\"JsonDetails\"][\"additional_data_sources\"][0][\"name\"] = source\n",
    "                # if dff.iloc[:,0].str.contains('Data Quality:').any():\n",
    "                index2 = df.iloc[:,0].index[df.iloc[:,0] == 'Data Quality: '].tolist()\n",
    "                limitations = df.iloc[(ind+2 for ind in index2),0].tolist()\n",
    "                BodyDict[\"JsonDetails\"][\"limitations\"] = limitations[0]\n",
    "                b = df.iloc[35:,1:]\n",
    "                column = ['Country', 'Urban (%) - 1990', 'Rural (%) - 1990',' Total (%) - 1990', 'Urban (%) - 1995','Rural (%) - 1995',' Total (%) - 1995','Urban (%) - 2000','Rural (%) - 2000',' Total (%) - 2000']\n",
    "                b.set_axis(column, axis=1,inplace=True)\n",
    "                b = b.iloc[:220]\n",
    "                b = b.loc[:, ~b.columns.str.contains('Footnotes',na=False)]\n",
    "                b = b.loc[:, ~b.columns.str.contains('^Unnamed',na=False)]\n",
    "                # b.drop(b.columns[b.columns.str.contains('Footnotes')], axis=1)\n",
    "                b.to_excel(f\"{base_path}\\\\{title}.xlsx\",index = False)\n",
    "\n",
    "                try:\n",
    "                    BodyDict[\"JobPath\"] = f\"{base_path}\\\\{title}.xlsx\"\n",
    "                    BodyDict[\"JsonDetails\"][\"table\"] = title\n",
    "                    # TriggerInferShemaToJsonAPIClass = TriggerInferShemaToJsonAPI(BodyDict=BodyDict)\n",
    "                    # TriggerInferShemaToJsonAPIClass.TriggerAPI()\n",
    "                    logging.info(f\"Conversion successful - \")\n",
    "                    print(BodyDict)\n",
    "                except  Exception as err:\n",
    "                    print('error')  \n"
   ]
  },
  {
   "cell_type": "code",
   "execution_count": 23,
   "metadata": {},
   "outputs": [
    {
     "name": "stdout",
     "output_type": "stream",
     "text": [
      "18    When interpreting these tables, it should be b...\n",
      "19    The EM-DAT database is compiled from various s...\n",
      "16    When interpreting these tables, it should be b...\n",
      "20    Values in this table were calculated based on ...\n",
      "16    Energy supply data are compiled primarily from...\n",
      "18    Energy supply data are compiled primarily from...\n",
      "18    Energy supply data are compiled primarily from...\n",
      "18    When interpreting these tables, it should be b...\n",
      "18    When interpreting these tables, it should be b...\n",
      "16    When interpreting these tables, it should be b...\n",
      "18    When interpreting these tables, it should be b...\n",
      "20    The EM-DAT database is compiled from various s...\n",
      "18    When interpreting these tables, it should be b...\n",
      "18    When interpreting these tables, it should be b...\n",
      "18    When interpreting these tables, it should be b...\n",
      "18    When interpreting these tables, it should be b...\n",
      "18    When interpreting these tables, it should be b...\n",
      "18    When interpreting these tables, it should be b...\n",
      "20    The EM-DAT database is compiled from various s...\n",
      "18    When interpreting these tables, it should be b...\n",
      "18    When interpreting these tables, it should be b...\n",
      "15    Quality control criteria are applied to ensure...\n",
      "15    Quality control criteria are applied to ensure...\n"
     ]
    },
    {
     "ename": "KeyboardInterrupt",
     "evalue": "",
     "output_type": "error",
     "traceback": [
      "\u001b[1;31m---------------------------------------------------------------------------\u001b[0m",
      "\u001b[1;31mKeyboardInterrupt\u001b[0m                         Traceback (most recent call last)",
      "Cell \u001b[1;32mIn [23], line 6\u001b[0m\n\u001b[0;32m      4\u001b[0m sheets \u001b[39m=\u001b[39m xls\u001b[39m.\u001b[39msheet_names\n\u001b[0;32m      5\u001b[0m \u001b[39m#df = pd.read_excel(f'{base_path}\\\\{file}',sheets[1])\u001b[39;00m\n\u001b[1;32m----> 6\u001b[0m dfdesc \u001b[39m=\u001b[39m pd\u001b[39m.\u001b[39;49mread_excel(\u001b[39mf\u001b[39;49m\u001b[39m'\u001b[39;49m\u001b[39m{\u001b[39;49;00mbase_path\u001b[39m}\u001b[39;49;00m\u001b[39m\\\\\u001b[39;49;00m\u001b[39m{\u001b[39;49;00mfile\u001b[39m}\u001b[39;49;00m\u001b[39m'\u001b[39;49m,sheets[\u001b[39m0\u001b[39;49m])\n\u001b[0;32m      7\u001b[0m \u001b[39mif\u001b[39;00m dfdesc[\u001b[39m'\u001b[39m\u001b[39mUnnamed: 0\u001b[39m\u001b[39m'\u001b[39m]\u001b[39m.\u001b[39mstr\u001b[39m.\u001b[39mcontains(\u001b[39m'\u001b[39m\u001b[39mData Quality:\u001b[39m\u001b[39m'\u001b[39m)\u001b[39m.\u001b[39many():\n\u001b[0;32m      8\u001b[0m     \u001b[39m#print(dfdesc)\u001b[39;00m\n\u001b[0;32m      9\u001b[0m     index \u001b[39m=\u001b[39m dfdesc[\u001b[39m'\u001b[39m\u001b[39mUnnamed: 0\u001b[39m\u001b[39m'\u001b[39m]\u001b[39m.\u001b[39mindex[dfdesc[\u001b[39m'\u001b[39m\u001b[39mUnnamed: 0\u001b[39m\u001b[39m'\u001b[39m] \u001b[39m==\u001b[39m \u001b[39m'\u001b[39m\u001b[39mData Quality: \u001b[39m\u001b[39m'\u001b[39m]\u001b[39m.\u001b[39mtolist()\n",
      "File \u001b[1;32mc:\\Users\\10235555\\AppData\\Local\\Programs\\Python\\Python311\\Lib\\site-packages\\pandas\\util\\_decorators.py:211\u001b[0m, in \u001b[0;36mdeprecate_kwarg.<locals>._deprecate_kwarg.<locals>.wrapper\u001b[1;34m(*args, **kwargs)\u001b[0m\n\u001b[0;32m    209\u001b[0m     \u001b[39melse\u001b[39;00m:\n\u001b[0;32m    210\u001b[0m         kwargs[new_arg_name] \u001b[39m=\u001b[39m new_arg_value\n\u001b[1;32m--> 211\u001b[0m \u001b[39mreturn\u001b[39;00m func(\u001b[39m*\u001b[39;49margs, \u001b[39m*\u001b[39;49m\u001b[39m*\u001b[39;49mkwargs)\n",
      "File \u001b[1;32mc:\\Users\\10235555\\AppData\\Local\\Programs\\Python\\Python311\\Lib\\site-packages\\pandas\\util\\_decorators.py:331\u001b[0m, in \u001b[0;36mdeprecate_nonkeyword_arguments.<locals>.decorate.<locals>.wrapper\u001b[1;34m(*args, **kwargs)\u001b[0m\n\u001b[0;32m    325\u001b[0m \u001b[39mif\u001b[39;00m \u001b[39mlen\u001b[39m(args) \u001b[39m>\u001b[39m num_allow_args:\n\u001b[0;32m    326\u001b[0m     warnings\u001b[39m.\u001b[39mwarn(\n\u001b[0;32m    327\u001b[0m         msg\u001b[39m.\u001b[39mformat(arguments\u001b[39m=\u001b[39m_format_argument_list(allow_args)),\n\u001b[0;32m    328\u001b[0m         \u001b[39mFutureWarning\u001b[39;00m,\n\u001b[0;32m    329\u001b[0m         stacklevel\u001b[39m=\u001b[39mfind_stack_level(),\n\u001b[0;32m    330\u001b[0m     )\n\u001b[1;32m--> 331\u001b[0m \u001b[39mreturn\u001b[39;00m func(\u001b[39m*\u001b[39;49margs, \u001b[39m*\u001b[39;49m\u001b[39m*\u001b[39;49mkwargs)\n",
      "File \u001b[1;32mc:\\Users\\10235555\\AppData\\Local\\Programs\\Python\\Python311\\Lib\\site-packages\\pandas\\io\\excel\\_base.py:490\u001b[0m, in \u001b[0;36mread_excel\u001b[1;34m(io, sheet_name, header, names, index_col, usecols, squeeze, dtype, engine, converters, true_values, false_values, skiprows, nrows, na_values, keep_default_na, na_filter, verbose, parse_dates, date_parser, thousands, decimal, comment, skipfooter, convert_float, mangle_dupe_cols, storage_options)\u001b[0m\n\u001b[0;32m    484\u001b[0m     \u001b[39mraise\u001b[39;00m \u001b[39mValueError\u001b[39;00m(\n\u001b[0;32m    485\u001b[0m         \u001b[39m\"\u001b[39m\u001b[39mEngine should not be specified when passing \u001b[39m\u001b[39m\"\u001b[39m\n\u001b[0;32m    486\u001b[0m         \u001b[39m\"\u001b[39m\u001b[39man ExcelFile - ExcelFile already has the engine set\u001b[39m\u001b[39m\"\u001b[39m\n\u001b[0;32m    487\u001b[0m     )\n\u001b[0;32m    489\u001b[0m \u001b[39mtry\u001b[39;00m:\n\u001b[1;32m--> 490\u001b[0m     data \u001b[39m=\u001b[39m io\u001b[39m.\u001b[39;49mparse(\n\u001b[0;32m    491\u001b[0m         sheet_name\u001b[39m=\u001b[39;49msheet_name,\n\u001b[0;32m    492\u001b[0m         header\u001b[39m=\u001b[39;49mheader,\n\u001b[0;32m    493\u001b[0m         names\u001b[39m=\u001b[39;49mnames,\n\u001b[0;32m    494\u001b[0m         index_col\u001b[39m=\u001b[39;49mindex_col,\n\u001b[0;32m    495\u001b[0m         usecols\u001b[39m=\u001b[39;49musecols,\n\u001b[0;32m    496\u001b[0m         squeeze\u001b[39m=\u001b[39;49msqueeze,\n\u001b[0;32m    497\u001b[0m         dtype\u001b[39m=\u001b[39;49mdtype,\n\u001b[0;32m    498\u001b[0m         converters\u001b[39m=\u001b[39;49mconverters,\n\u001b[0;32m    499\u001b[0m         true_values\u001b[39m=\u001b[39;49mtrue_values,\n\u001b[0;32m    500\u001b[0m         false_values\u001b[39m=\u001b[39;49mfalse_values,\n\u001b[0;32m    501\u001b[0m         skiprows\u001b[39m=\u001b[39;49mskiprows,\n\u001b[0;32m    502\u001b[0m         nrows\u001b[39m=\u001b[39;49mnrows,\n\u001b[0;32m    503\u001b[0m         na_values\u001b[39m=\u001b[39;49mna_values,\n\u001b[0;32m    504\u001b[0m         keep_default_na\u001b[39m=\u001b[39;49mkeep_default_na,\n\u001b[0;32m    505\u001b[0m         na_filter\u001b[39m=\u001b[39;49mna_filter,\n\u001b[0;32m    506\u001b[0m         verbose\u001b[39m=\u001b[39;49mverbose,\n\u001b[0;32m    507\u001b[0m         parse_dates\u001b[39m=\u001b[39;49mparse_dates,\n\u001b[0;32m    508\u001b[0m         date_parser\u001b[39m=\u001b[39;49mdate_parser,\n\u001b[0;32m    509\u001b[0m         thousands\u001b[39m=\u001b[39;49mthousands,\n\u001b[0;32m    510\u001b[0m         decimal\u001b[39m=\u001b[39;49mdecimal,\n\u001b[0;32m    511\u001b[0m         comment\u001b[39m=\u001b[39;49mcomment,\n\u001b[0;32m    512\u001b[0m         skipfooter\u001b[39m=\u001b[39;49mskipfooter,\n\u001b[0;32m    513\u001b[0m         convert_float\u001b[39m=\u001b[39;49mconvert_float,\n\u001b[0;32m    514\u001b[0m         mangle_dupe_cols\u001b[39m=\u001b[39;49mmangle_dupe_cols,\n\u001b[0;32m    515\u001b[0m     )\n\u001b[0;32m    516\u001b[0m \u001b[39mfinally\u001b[39;00m:\n\u001b[0;32m    517\u001b[0m     \u001b[39m# make sure to close opened file handles\u001b[39;00m\n\u001b[0;32m    518\u001b[0m     \u001b[39mif\u001b[39;00m should_close:\n",
      "File \u001b[1;32mc:\\Users\\10235555\\AppData\\Local\\Programs\\Python\\Python311\\Lib\\site-packages\\pandas\\io\\excel\\_base.py:1734\u001b[0m, in \u001b[0;36mExcelFile.parse\u001b[1;34m(self, sheet_name, header, names, index_col, usecols, squeeze, converters, true_values, false_values, skiprows, nrows, na_values, parse_dates, date_parser, thousands, comment, skipfooter, convert_float, mangle_dupe_cols, **kwds)\u001b[0m\n\u001b[0;32m   1700\u001b[0m \u001b[39mdef\u001b[39;00m \u001b[39mparse\u001b[39m(\n\u001b[0;32m   1701\u001b[0m     \u001b[39mself\u001b[39m,\n\u001b[0;32m   1702\u001b[0m     sheet_name: \u001b[39mstr\u001b[39m \u001b[39m|\u001b[39m \u001b[39mint\u001b[39m \u001b[39m|\u001b[39m \u001b[39mlist\u001b[39m[\u001b[39mint\u001b[39m] \u001b[39m|\u001b[39m \u001b[39mlist\u001b[39m[\u001b[39mstr\u001b[39m] \u001b[39m|\u001b[39m \u001b[39mNone\u001b[39;00m \u001b[39m=\u001b[39m \u001b[39m0\u001b[39m,\n\u001b[1;32m   (...)\u001b[0m\n\u001b[0;32m   1721\u001b[0m     \u001b[39m*\u001b[39m\u001b[39m*\u001b[39mkwds,\n\u001b[0;32m   1722\u001b[0m ) \u001b[39m-\u001b[39m\u001b[39m>\u001b[39m DataFrame \u001b[39m|\u001b[39m \u001b[39mdict\u001b[39m[\u001b[39mstr\u001b[39m, DataFrame] \u001b[39m|\u001b[39m \u001b[39mdict\u001b[39m[\u001b[39mint\u001b[39m, DataFrame]:\n\u001b[0;32m   1723\u001b[0m     \u001b[39m\"\"\"\u001b[39;00m\n\u001b[0;32m   1724\u001b[0m \u001b[39m    Parse specified sheet(s) into a DataFrame.\u001b[39;00m\n\u001b[0;32m   1725\u001b[0m \n\u001b[1;32m   (...)\u001b[0m\n\u001b[0;32m   1732\u001b[0m \u001b[39m        DataFrame from the passed in Excel file.\u001b[39;00m\n\u001b[0;32m   1733\u001b[0m \u001b[39m    \"\"\"\u001b[39;00m\n\u001b[1;32m-> 1734\u001b[0m     \u001b[39mreturn\u001b[39;00m \u001b[39mself\u001b[39;49m\u001b[39m.\u001b[39;49m_reader\u001b[39m.\u001b[39;49mparse(\n\u001b[0;32m   1735\u001b[0m         sheet_name\u001b[39m=\u001b[39;49msheet_name,\n\u001b[0;32m   1736\u001b[0m         header\u001b[39m=\u001b[39;49mheader,\n\u001b[0;32m   1737\u001b[0m         names\u001b[39m=\u001b[39;49mnames,\n\u001b[0;32m   1738\u001b[0m         index_col\u001b[39m=\u001b[39;49mindex_col,\n\u001b[0;32m   1739\u001b[0m         usecols\u001b[39m=\u001b[39;49musecols,\n\u001b[0;32m   1740\u001b[0m         squeeze\u001b[39m=\u001b[39;49msqueeze,\n\u001b[0;32m   1741\u001b[0m         converters\u001b[39m=\u001b[39;49mconverters,\n\u001b[0;32m   1742\u001b[0m         true_values\u001b[39m=\u001b[39;49mtrue_values,\n\u001b[0;32m   1743\u001b[0m         false_values\u001b[39m=\u001b[39;49mfalse_values,\n\u001b[0;32m   1744\u001b[0m         skiprows\u001b[39m=\u001b[39;49mskiprows,\n\u001b[0;32m   1745\u001b[0m         nrows\u001b[39m=\u001b[39;49mnrows,\n\u001b[0;32m   1746\u001b[0m         na_values\u001b[39m=\u001b[39;49mna_values,\n\u001b[0;32m   1747\u001b[0m         parse_dates\u001b[39m=\u001b[39;49mparse_dates,\n\u001b[0;32m   1748\u001b[0m         date_parser\u001b[39m=\u001b[39;49mdate_parser,\n\u001b[0;32m   1749\u001b[0m         thousands\u001b[39m=\u001b[39;49mthousands,\n\u001b[0;32m   1750\u001b[0m         comment\u001b[39m=\u001b[39;49mcomment,\n\u001b[0;32m   1751\u001b[0m         skipfooter\u001b[39m=\u001b[39;49mskipfooter,\n\u001b[0;32m   1752\u001b[0m         convert_float\u001b[39m=\u001b[39;49mconvert_float,\n\u001b[0;32m   1753\u001b[0m         mangle_dupe_cols\u001b[39m=\u001b[39;49mmangle_dupe_cols,\n\u001b[0;32m   1754\u001b[0m         \u001b[39m*\u001b[39;49m\u001b[39m*\u001b[39;49mkwds,\n\u001b[0;32m   1755\u001b[0m     )\n",
      "File \u001b[1;32mc:\\Users\\10235555\\AppData\\Local\\Programs\\Python\\Python311\\Lib\\site-packages\\pandas\\io\\excel\\_base.py:765\u001b[0m, in \u001b[0;36mBaseExcelReader.parse\u001b[1;34m(self, sheet_name, header, names, index_col, usecols, squeeze, dtype, true_values, false_values, skiprows, nrows, na_values, verbose, parse_dates, date_parser, thousands, decimal, comment, skipfooter, convert_float, mangle_dupe_cols, **kwds)\u001b[0m\n\u001b[0;32m    762\u001b[0m     sheet \u001b[39m=\u001b[39m \u001b[39mself\u001b[39m\u001b[39m.\u001b[39mget_sheet_by_index(asheetname)\n\u001b[0;32m    764\u001b[0m file_rows_needed \u001b[39m=\u001b[39m \u001b[39mself\u001b[39m\u001b[39m.\u001b[39m_calc_rows(header, index_col, skiprows, nrows)\n\u001b[1;32m--> 765\u001b[0m data \u001b[39m=\u001b[39m \u001b[39mself\u001b[39;49m\u001b[39m.\u001b[39;49mget_sheet_data(sheet, convert_float, file_rows_needed)\n\u001b[0;32m    766\u001b[0m \u001b[39mif\u001b[39;00m \u001b[39mhasattr\u001b[39m(sheet, \u001b[39m\"\u001b[39m\u001b[39mclose\u001b[39m\u001b[39m\"\u001b[39m):\n\u001b[0;32m    767\u001b[0m     \u001b[39m# pyxlsb opens two TemporaryFiles\u001b[39;00m\n\u001b[0;32m    768\u001b[0m     sheet\u001b[39m.\u001b[39mclose()\n",
      "File \u001b[1;32mc:\\Users\\10235555\\AppData\\Local\\Programs\\Python\\Python311\\Lib\\site-packages\\pandas\\io\\excel\\_openpyxl.py:615\u001b[0m, in \u001b[0;36mOpenpyxlReader.get_sheet_data\u001b[1;34m(self, sheet, convert_float, file_rows_needed)\u001b[0m\n\u001b[0;32m    613\u001b[0m data: \u001b[39mlist\u001b[39m[\u001b[39mlist\u001b[39m[Scalar]] \u001b[39m=\u001b[39m []\n\u001b[0;32m    614\u001b[0m last_row_with_data \u001b[39m=\u001b[39m \u001b[39m-\u001b[39m\u001b[39m1\u001b[39m\n\u001b[1;32m--> 615\u001b[0m \u001b[39mfor\u001b[39;00m row_number, row \u001b[39min\u001b[39;00m \u001b[39menumerate\u001b[39m(sheet\u001b[39m.\u001b[39mrows):\n\u001b[0;32m    616\u001b[0m     converted_row \u001b[39m=\u001b[39m [\u001b[39mself\u001b[39m\u001b[39m.\u001b[39m_convert_cell(cell, convert_float) \u001b[39mfor\u001b[39;00m cell \u001b[39min\u001b[39;00m row]\n\u001b[0;32m    617\u001b[0m     \u001b[39mwhile\u001b[39;00m converted_row \u001b[39mand\u001b[39;00m converted_row[\u001b[39m-\u001b[39m\u001b[39m1\u001b[39m] \u001b[39m==\u001b[39m \u001b[39m\"\u001b[39m\u001b[39m\"\u001b[39m:\n\u001b[0;32m    618\u001b[0m         \u001b[39m# trim trailing empty elements\u001b[39;00m\n",
      "File \u001b[1;32mc:\\Users\\10235555\\AppData\\Local\\Programs\\Python\\Python311\\Lib\\site-packages\\openpyxl\\worksheet\\_read_only.py:79\u001b[0m, in \u001b[0;36mReadOnlyWorksheet._cells_by_row\u001b[1;34m(self, min_col, min_row, max_col, max_row, values_only)\u001b[0m\n\u001b[0;32m     75\u001b[0m src \u001b[39m=\u001b[39m \u001b[39mself\u001b[39m\u001b[39m.\u001b[39m_get_source()\n\u001b[0;32m     76\u001b[0m parser \u001b[39m=\u001b[39m WorkSheetParser(src, \u001b[39mself\u001b[39m\u001b[39m.\u001b[39m_shared_strings,\n\u001b[0;32m     77\u001b[0m                          data_only\u001b[39m=\u001b[39m\u001b[39mself\u001b[39m\u001b[39m.\u001b[39mparent\u001b[39m.\u001b[39mdata_only, epoch\u001b[39m=\u001b[39m\u001b[39mself\u001b[39m\u001b[39m.\u001b[39mparent\u001b[39m.\u001b[39mepoch,\n\u001b[0;32m     78\u001b[0m                          date_formats\u001b[39m=\u001b[39m\u001b[39mself\u001b[39m\u001b[39m.\u001b[39mparent\u001b[39m.\u001b[39m_date_formats)\n\u001b[1;32m---> 79\u001b[0m \u001b[39mfor\u001b[39;00m idx, row \u001b[39min\u001b[39;00m parser\u001b[39m.\u001b[39mparse():\n\u001b[0;32m     80\u001b[0m     \u001b[39mif\u001b[39;00m max_row \u001b[39mis\u001b[39;00m \u001b[39mnot\u001b[39;00m \u001b[39mNone\u001b[39;00m \u001b[39mand\u001b[39;00m idx \u001b[39m>\u001b[39m max_row:\n\u001b[0;32m     81\u001b[0m         \u001b[39mbreak\u001b[39;00m\n",
      "File \u001b[1;32mc:\\Users\\10235555\\AppData\\Local\\Programs\\Python\\Python311\\Lib\\site-packages\\openpyxl\\worksheet\\_reader.py:144\u001b[0m, in \u001b[0;36mWorkSheetParser.parse\u001b[1;34m(self)\u001b[0m\n\u001b[0;32m    125\u001b[0m properties \u001b[39m=\u001b[39m {\n\u001b[0;32m    126\u001b[0m     PRINT_TAG: (\u001b[39m'\u001b[39m\u001b[39mprint_options\u001b[39m\u001b[39m'\u001b[39m, PrintOptions),\n\u001b[0;32m    127\u001b[0m     MARGINS_TAG: (\u001b[39m'\u001b[39m\u001b[39mpage_margins\u001b[39m\u001b[39m'\u001b[39m, PageMargins),\n\u001b[1;32m   (...)\u001b[0m\n\u001b[0;32m    139\u001b[0m \n\u001b[0;32m    140\u001b[0m }\n\u001b[0;32m    142\u001b[0m it \u001b[39m=\u001b[39m iterparse(\u001b[39mself\u001b[39m\u001b[39m.\u001b[39msource) \u001b[39m# add a finaliser to close the source when this becomes possible\u001b[39;00m\n\u001b[1;32m--> 144\u001b[0m \u001b[39mfor\u001b[39;00m _, element \u001b[39min\u001b[39;00m it:\n\u001b[0;32m    145\u001b[0m     tag_name \u001b[39m=\u001b[39m element\u001b[39m.\u001b[39mtag\n\u001b[0;32m    146\u001b[0m     \u001b[39mif\u001b[39;00m tag_name \u001b[39min\u001b[39;00m dispatcher:\n",
      "File \u001b[1;32mc:\\Users\\10235555\\AppData\\Local\\Programs\\Python\\Python311\\Lib\\xml\\etree\\ElementTree.py:1251\u001b[0m, in \u001b[0;36miterparse.<locals>.iterator\u001b[1;34m(source)\u001b[0m\n\u001b[0;32m   1249\u001b[0m \u001b[39myield from\u001b[39;00m pullparser\u001b[39m.\u001b[39mread_events()\n\u001b[0;32m   1250\u001b[0m \u001b[39m# load event buffer\u001b[39;00m\n\u001b[1;32m-> 1251\u001b[0m data \u001b[39m=\u001b[39m source\u001b[39m.\u001b[39;49mread(\u001b[39m16\u001b[39;49m \u001b[39m*\u001b[39;49m \u001b[39m1024\u001b[39;49m)\n\u001b[0;32m   1252\u001b[0m \u001b[39mif\u001b[39;00m \u001b[39mnot\u001b[39;00m data:\n\u001b[0;32m   1253\u001b[0m     \u001b[39mbreak\u001b[39;00m\n",
      "File \u001b[1;32mc:\\Users\\10235555\\AppData\\Local\\Programs\\Python\\Python311\\Lib\\zipfile.py:951\u001b[0m, in \u001b[0;36mZipExtFile.read\u001b[1;34m(self, n)\u001b[0m\n\u001b[0;32m    949\u001b[0m \u001b[39mself\u001b[39m\u001b[39m.\u001b[39m_offset \u001b[39m=\u001b[39m \u001b[39m0\u001b[39m\n\u001b[0;32m    950\u001b[0m \u001b[39mwhile\u001b[39;00m n \u001b[39m>\u001b[39m \u001b[39m0\u001b[39m \u001b[39mand\u001b[39;00m \u001b[39mnot\u001b[39;00m \u001b[39mself\u001b[39m\u001b[39m.\u001b[39m_eof:\n\u001b[1;32m--> 951\u001b[0m     data \u001b[39m=\u001b[39m \u001b[39mself\u001b[39;49m\u001b[39m.\u001b[39;49m_read1(n)\n\u001b[0;32m    952\u001b[0m     \u001b[39mif\u001b[39;00m n \u001b[39m<\u001b[39m \u001b[39mlen\u001b[39m(data):\n\u001b[0;32m    953\u001b[0m         \u001b[39mself\u001b[39m\u001b[39m.\u001b[39m_readbuffer \u001b[39m=\u001b[39m data\n",
      "File \u001b[1;32mc:\\Users\\10235555\\AppData\\Local\\Programs\\Python\\Python311\\Lib\\zipfile.py:1027\u001b[0m, in \u001b[0;36mZipExtFile._read1\u001b[1;34m(self, n)\u001b[0m\n\u001b[0;32m   1025\u001b[0m \u001b[39melif\u001b[39;00m \u001b[39mself\u001b[39m\u001b[39m.\u001b[39m_compress_type \u001b[39m==\u001b[39m ZIP_DEFLATED:\n\u001b[0;32m   1026\u001b[0m     n \u001b[39m=\u001b[39m \u001b[39mmax\u001b[39m(n, \u001b[39mself\u001b[39m\u001b[39m.\u001b[39mMIN_READ_SIZE)\n\u001b[1;32m-> 1027\u001b[0m     data \u001b[39m=\u001b[39m \u001b[39mself\u001b[39;49m\u001b[39m.\u001b[39;49m_decompressor\u001b[39m.\u001b[39;49mdecompress(data, n)\n\u001b[0;32m   1028\u001b[0m     \u001b[39mself\u001b[39m\u001b[39m.\u001b[39m_eof \u001b[39m=\u001b[39m (\u001b[39mself\u001b[39m\u001b[39m.\u001b[39m_decompressor\u001b[39m.\u001b[39meof \u001b[39mor\u001b[39;00m\n\u001b[0;32m   1029\u001b[0m                  \u001b[39mself\u001b[39m\u001b[39m.\u001b[39m_compress_left \u001b[39m<\u001b[39m\u001b[39m=\u001b[39m \u001b[39m0\u001b[39m \u001b[39mand\u001b[39;00m\n\u001b[0;32m   1030\u001b[0m                  \u001b[39mnot\u001b[39;00m \u001b[39mself\u001b[39m\u001b[39m.\u001b[39m_decompressor\u001b[39m.\u001b[39munconsumed_tail)\n\u001b[0;32m   1031\u001b[0m     \u001b[39mif\u001b[39;00m \u001b[39mself\u001b[39m\u001b[39m.\u001b[39m_eof:\n",
      "\u001b[1;31mKeyboardInterrupt\u001b[0m: "
     ]
    }
   ],
   "source": [
    "for file in os.listdir(base_path):\n",
    "    if len(pd.read_excel(rf\"{base_path}\\\\{file}\",sheet_name=None))==2:\n",
    "        xls = pd.ExcelFile(f'{base_path}\\\\{file}')\n",
    "        sheets = xls.sheet_names\n",
    "        #df = pd.read_excel(f'{base_path}\\\\{file}',sheets[1])\n",
    "        dfdesc = pd.read_excel(f'{base_path}\\\\{file}',sheets[0])\n",
    "        if dfdesc['Unnamed: 0'].str.contains('Data Quality:').any():\n",
    "            index = dfdesc['Unnamed: 0'].index[dfdesc['Unnamed: 0'] == 'Data Quality: '].tolist()\n",
    "            limitations = dfdesc.iloc[(ind+1 for ind in index),0]\n",
    "            print(limitations.to_string())\n",
    "\n",
    "        #index = dfdesc['if dfdesc['Unnamed: 0'].str.contains('Data Quality:').all():Unnamed: 0'].index[dfdesc['Unnamed: 0'] == 'Definitions & Technical notes:'].tolist()\n",
    "        #print(index)"
   ]
  }
 ],
 "metadata": {
  "kernelspec": {
   "display_name": "Python 3",
   "language": "python",
   "name": "python3"
  },
  "language_info": {
   "codemirror_mode": {
    "name": "ipython",
    "version": 3
   },
   "file_extension": ".py",
   "mimetype": "text/x-python",
   "name": "python",
   "nbconvert_exporter": "python",
   "pygments_lexer": "ipython3",
   "version": "3.11.0"
  },
  "orig_nbformat": 4,
  "vscode": {
   "interpreter": {
    "hash": "69e035e7e91c91f4a781d2e2d4ddd23f591a0aa5fdf41d28e15c78aec28956a8"
   }
  }
 },
 "nbformat": 4,
 "nbformat_minor": 2
}
