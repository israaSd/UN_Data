{
 "cells": [
  {
   "cell_type": "code",
   "execution_count": 1,
   "metadata": {},
   "outputs": [
    {
     "data": {
      "text/plain": [
       "'c:\\\\Users\\\\10235555\\\\Documents\\\\DataportalCrawlers\\\\UN_Data'"
      ]
     },
     "execution_count": 1,
     "metadata": {},
     "output_type": "execute_result"
    }
   ],
   "source": [
    "import requests\n",
    "from bs4 import BeautifulSoup\n",
    "import wget\n",
    "import logging\n",
    "from RequestInferSchemaToJsonAPI.main import TriggerInferShemaToJsonAPI\n",
    "import os\n",
    "import urllib.request\n",
    "from urllib import request\n",
    "import pdfplumber\n",
    "import tabula \n",
    "import csv\n",
    "import pandas as pd\n",
    "from unidecode import unidecode\n",
    "import pandas as pd\n",
    "base_path='c:\\\\Users\\\\10235555\\\\Documents\\\\DataportalCrawlers\\\\UN_Data\\\\test_demobook'\n",
    "logging.basicConfig(handlers=[logging.FileHandler(\"out.log\"),\n",
    "                              logging.StreamHandler()], level=logging.INFO)\n",
    "os.getcwd()"
   ]
  },
  {
   "cell_type": "code",
   "execution_count": 2,
   "metadata": {},
   "outputs": [],
   "source": [
    "result = requests.get('https://unstats.un.org/unsd/demographic-social/products/dyb/dyb_2021/')\n",
    "soup = BeautifulSoup(result.content,'html.parser')"
   ]
  },
  {
   "cell_type": "code",
   "execution_count": 3,
   "metadata": {},
   "outputs": [],
   "source": [
    "index=[0,6,11,15,19,23,29,32]\n",
    "#pdf_index = [34,37]"
   ]
  },
  {
   "cell_type": "code",
   "execution_count": 6,
   "metadata": {},
   "outputs": [
    {
     "name": "stderr",
     "output_type": "stream",
     "text": [
      "INFO:root:Conversion successful - Table 1 - Population, rate of increase, birth and death rates, surface area and density for the world, major areas and regions selected years \n"
     ]
    },
    {
     "name": "stdout",
     "output_type": "stream",
     "text": [
      "{'JobPath': 'c:\\\\Users\\\\10235555\\\\Documents\\\\DataportalCrawlers\\\\UN_Data\\\\test_demobook\\\\Table 1 - Population, rate of increase, birth and death rates, surface area and density for the world, major areas and regions selected years.xlsx', 'JsonDetails': {'organisation': 'un-agencies', 'source': 'UNSTATS', 'source_description': 'The Demographic Yearbook 2021 is the seventy-second issue in a series published by the United Nations since 1948. It contains tables on a wide range of demographic statistics, including a world summary of selected demographic statistics, statistics on the size, distribution and trends in national populations,fertility, foetal mortality, infant and maternal mortality, general mortality, nuptiality and divorce. Data are shown by urban/rural residence, as available. The volume provides Technical Notes, a synoptic table, a historical index and a listing of the issues of the Demographic Yearbook published to date. This issue of Demographic Yearbook contains data as available including reference year 2021.', 'source_url': 'https://unstats.un.org/unsd/demographic-social/products/dyb/dyb_2021/', 'table': 'Table 1 - Population, rate of increase, birth and death rates, surface area and density for the world, major areas and regions selected years', 'description': '  Estimates of world population by major areas and by regions are presented for 1970, 1980, 1990, 2000, 2010,2020 and 2021. Average annual percentage rates of population growth, crude birth and crude death rates are shown for the period from 2020 to 2025. Land area in square kilometers and population density estimates relate to 2021. All population estimates and rates presented in this table were prepared by the Population Division of the United Nations Department of Economic and Social Affairs and have been published in the 2019 Revision of World Population Prospects1.   The scheme of regionalization used for these estimates is described below. Although some continental totals are given, this table presents six major areas that are so drawn as to obtain greater homogeneity in sizes of population, types of demographic circumstances and accuracy of demographic statistics. Five of the major areas are subdivided into a total of 20 regions, which are arranged within the major areas; these regions together with Northern America, which is not subdivided, make a total of 21 regions.    The major areas of Northern America and Latin America and the Caribbean are distinguished, rather than the conventional continents of North America and South America, because population trends in the middle American mainland and the Caribbean region more closely resemble those of South America than those of America north of Mexico. Data for the traditional continents of North and South America can be obtained by adding Central America and Caribbean region to Northern America and deducting from Latin America.  Latin America, as defined here, has somewhat wider limits than it would be if defined only to include the Spanish-speaking, French-speaking and Portuguese-speaking countries. The average annual percentage rates of population growth are calculated by the Population Division of the United Nations using an exponential rate of increase. Crude birth and crude death rates are expressed in terms of the average annual number of births and deaths, respectively, per 1 000 mid-year population. These rates are estimated. The land areas of regions are estimated by the Population Division of the United Nations. Computation Density, calculated by the Statistics Division of the United Nations, is the number of persons in the total population of 2021 per square kilometer of the respective land area.  ', 'JobType': 'JSON', 'CleanPush': True, 'Server': 'str', 'UseJsonFormatForSQL': False, 'CleanReplace': True, 'MergeSchema': False, 'tags': [{'name': 'WORLD SUMMARY'}], 'additional_data_sources': [{'name': ''}], 'limitations': ' The estimated orders of magnitude of population and land area are subject to all the basic limitations set forth in connection with table 3, and to the same qualifications set forth for population and surface area statistics in sections 3 and 2.4 of the Technical Notes, respectively. Likewise, rates of population increase and population density are affected by the limitations of the original figures. However, it may be noted that, in compiling data for regional and major areas totals, errors in the components may tend to compensate each other and the resulting aggregates may be more reliable than the quality of the individual components would imply. Because of their estimated character, many of the birth and death rates shown should also be considered only as orders of magnitude, and not as measures of the true level of fertility or mortality.    In interpreting the population densities, one should consider that some of the regions include large segments of land that are uninhabitable or barely habitable, and density values calculated as described make no allowance for this, nor for differences in patterns of land settlement. 40  ', 'concept': ' With the exception of land area, all data are set in italic type to indicate their conjectural quality. ', 'periodicity': '', 'topic': 'Table 1 – Demographic Yearbook 2021 Table 1 presents for the world and major areas and regions estimates of the order of magnitude of population size, rates of population increase, crude birth and death rates, land area as well as population density. ', 'created': '', 'last_modified': '', 'TriggerTalend': False, 'SavePathForJsonOutput': ''}}\n"
     ]
    },
    {
     "name": "stderr",
     "output_type": "stream",
     "text": [
      "INFO:root:Conversion successful - Table 2 - Estimates of population and its percentage distribution, by age and sex and sex ratio for all ages for the world, major areas and regions 2021 \n"
     ]
    },
    {
     "name": "stdout",
     "output_type": "stream",
     "text": [
      "{'JobPath': 'c:\\\\Users\\\\10235555\\\\Documents\\\\DataportalCrawlers\\\\UN_Data\\\\test_demobook\\\\Table 2 - Estimates of population and its percentage distribution, by age and sex and sex ratio for all ages for the world, major areas and regions 2021.xlsx', 'JsonDetails': {'organisation': 'un-agencies', 'source': 'UNSTATS', 'source_description': 'The Demographic Yearbook 2021 is the seventy-second issue in a series published by the United Nations since 1948. It contains tables on a wide range of demographic statistics, including a world summary of selected demographic statistics, statistics on the size, distribution and trends in national populations,fertility, foetal mortality, infant and maternal mortality, general mortality, nuptiality and divorce. Data are shown by urban/rural residence, as available. The volume provides Technical Notes, a synoptic table, a historical index and a listing of the issues of the Demographic Yearbook published to date. This issue of Demographic Yearbook contains data as available including reference year 2021.', 'source_url': 'https://unstats.un.org/unsd/demographic-social/products/dyb/dyb_2021/', 'table': 'Table 2 - Estimates of population and its percentage distribution, by age and sex and sex ratio for all ages for the world, major areas and regions 2021', 'description': '  All  population  estimates  presented  in this  table  are prepared  by the Population Division of the United Nations Department of Economic and Social Affairs. These estimates are published (using more detailed age groups) in the 2019 Revision of World Population Prospects1.   The scheme of regionalization used for these estimates is discussed in detail in the technical notes for table 1. Age groups presented in this table are 0-14 years, 15-64 years, and 65 years or over.  Sex ratio refers to the number of males per 100 females of all ages.  The percentage distributions and the sex ratios that appear in this table were calculated by the Statistics Division of the United Nations Department of Economic and Social Affairs using the estimates prepared by the Population Division of the United Nations Department of Economic and Social Affairs.    ', 'JobType': 'JSON', 'CleanPush': True, 'Server': 'str', 'UseJsonFormatForSQL': False, 'CleanReplace': True, 'MergeSchema': False, 'tags': [{'name': 'WORLD SUMMARY'}], 'additional_data_sources': [{'name': ''}], 'limitations': ' The data presented in this table are from the same series of estimates, prepared by the Population Division of the United Nations, presented in table 1. The estimated orders of magnitude of population are subject to all the basic limitations set forth for population statistics in section 3 of the Technical Notes. In brief, because they are estimates, these distributions by broad age groups and sex should be considered only as orders of magnitude. However, in compiling data for regional and major areas’ totals, errors in the components tend to compensate each other and the resulting aggregates may be somewhat more reliable than the quality of the individual components would imply.  In addition, data in this table are limited by factors affecting data by age. These factors are described in the technical notes for table 7. Because the age groups presented in this table are broad, these problems are minimized.    ', 'concept': ' All data are set in italic type to indicate their conjectural quality.  ', 'periodicity': '', 'topic': 'Table 2 - Demographic Yearbook 2021 ,Table 2 presents estimates of population and the percentage distribution by age group and sex as well as the sex ratio for all ages; data are presented for the world, the six major areas and the twenty regions for 2021.  ', 'created': '', 'last_modified': '', 'TriggerTalend': False, 'SavePathForJsonOutput': ''}}\n"
     ]
    },
    {
     "name": "stderr",
     "output_type": "stream",
     "text": [
      "INFO:root:Conversion successful - Table 3 - Population by sex, annual rate of population increase, surface area and density \n"
     ]
    },
    {
     "name": "stdout",
     "output_type": "stream",
     "text": [
      "{'JobPath': 'c:\\\\Users\\\\10235555\\\\Documents\\\\DataportalCrawlers\\\\UN_Data\\\\test_demobook\\\\Table 3 - Population by sex, annual rate of population increase, surface area and density.xlsx', 'JsonDetails': {'organisation': 'un-agencies', 'source': 'UNSTATS', 'source_description': 'The Demographic Yearbook 2021 is the seventy-second issue in a series published by the United Nations since 1948. It contains tables on a wide range of demographic statistics, including a world summary of selected demographic statistics, statistics on the size, distribution and trends in national populations,fertility, foetal mortality, infant and maternal mortality, general mortality, nuptiality and divorce. Data are shown by urban/rural residence, as available. The volume provides Technical Notes, a synoptic table, a historical index and a listing of the issues of the Demographic Yearbook published to date. This issue of Demographic Yearbook contains data as available including reference year 2021.', 'source_url': 'https://unstats.un.org/unsd/demographic-social/products/dyb/dyb_2021/', 'table': 'Table 3 - Population by sex, annual rate of population increase, surface area and density', 'description': ' The total, male and female population is the population enumerated at the most recent census for which data are available.  The date of this census is given.  Population census data are usually the results of a nation-wide gathering of individual information through full field enumeration. Alternatively, other approaches for generating reliable statistics on population and housing can be used by countries, such as the use of population registers. Data that are the result of such an alternative approach are also coded as census and are footnoted accordingly. Also, the results of sample surveys, essentially national in character, may be presented showing the appropriate code.   Mid-year population estimates refer to the population on 1 July. Otherwise, a footnote is appended. Mid-year estimates of the total population are those provided by national statistical offices.  Surface area, expressed in square kilometres, refers to the total surface area, comprising land area and inland waters (assumed to consist of major rivers and lakes) and excluding polar regions as well as uninhabited islands.  Exceptions to this are noted.  Surface areas, originally reported in square miles by the country or area, have been converted to square kilometres using a conversion factor of 2.589988. Computation The annual rate of population increase is the average annual exponential rate of population growth between 2015 and 2021, computed by the Statistics Division of the United Nations Department of Economic and Social Affairs using the unrounded mid-year estimates of 2015 and 2021. This rate is expressed as percentage. Density is the number of persons in the 2021 total population per square kilometre of total surface area. ', 'JobType': 'JSON', 'CleanPush': True, 'Server': 'str', 'UseJsonFormatForSQL': False, 'CleanReplace': True, 'MergeSchema': False, 'tags': [{'name': 'WORLD SUMMARY'}], 'additional_data_sources': [{'name': ''}], 'limitations': \" Statistics on the total population enumerated at the time of the census, surface area data and estimates of the mid-year total population are subject to the same qualifications as have been set forth for surface area and population data in sections 2.4 and 3 of the Technical Notes, respectively. Regarding the limitations of census data, it should be noted that although census data are considered reliable, and therefore appear in roman type, the actual quality of census data varies widely from one country or area to another.  When known, an estimate of the extent of over-enumeration or under-enumeration is given in footnotes.   Rates of population increase are subject to all the qualifications of the population estimates mentioned above.  In some cases, they simply reflect the rate calculated or assumed in constructing the estimates themselves when adequate measures of natural increase and net migration were not available. Despite their shortcomings, these rates provide a useful index for studying population change and can be also useful in evaluating the accuracy of vital and migration statistics. 51 Population density data as shown in this table give only an indication of actual population density as they do not take account of the dispersion or concentration of population within countries or areas nor the proportion of habitable land. They should not be interpreted as reflecting density in the urban sense or as indicating the supporting power of a territory's land and resources. 52\", 'concept': ' Reliable mid-year population estimates are those that are based on a complete census (or a sample survey) and have been adjusted by a continuous population register or on the basis of the calculated balance of births, deaths and migration. Mid-year estimates of this type are considered reliable and appear in roman type.  Mid-year estimates not calculated on this basis are considered less reliable and are shown in italics.   Census data and sample survey results are considered reliable and, therefore, appear in roman type. Rates of population increase that were calculated using population estimates considered less reliable, as described above, are set in italics rather than roman type. All surface area data are assumed to be reliable and therefore appear in roman type.   Population density data, however, are considered reliable or less reliable on the basis of the reliability of the 2021 population estimates used as the numerator. ', 'periodicity': '', 'topic': 'Table 3 - Demographic Yearbook 2021 Table  3  presents  for  each  country  or  area  of  the  world  the  total,  male  and  female  population enumerated at the latest population census, estimates of the mid-year total population for 2015 and 2021, the average annual exponential rate of population increase (or decrease) for the period 2015 to 2021, the surface area and the population density for 2021. ', 'created': '', 'last_modified': '', 'TriggerTalend': False, 'SavePathForJsonOutput': ''}}\n"
     ]
    },
    {
     "name": "stderr",
     "output_type": "stream",
     "text": [
      "INFO:root:Conversion successful - Table 3a - Whipple s Index by sex and urban or rural residence, 1985-2021 \n"
     ]
    },
    {
     "name": "stdout",
     "output_type": "stream",
     "text": [
      "{'JobPath': 'c:\\\\Users\\\\10235555\\\\Documents\\\\DataportalCrawlers\\\\UN_Data\\\\test_demobook\\\\Table 3a - Whipple s Index by sex and urban or rural residence, 1985-2021.xlsx', 'JsonDetails': {'organisation': 'un-agencies', 'source': 'UNSTATS', 'source_description': 'The Demographic Yearbook 2021 is the seventy-second issue in a series published by the United Nations since 1948. It contains tables on a wide range of demographic statistics, including a world summary of selected demographic statistics, statistics on the size, distribution and trends in national populations,fertility, foetal mortality, infant and maternal mortality, general mortality, nuptiality and divorce. Data are shown by urban/rural residence, as available. The volume provides Technical Notes, a synoptic table, a historical index and a listing of the issues of the Demographic Yearbook published to date. This issue of Demographic Yearbook contains data as available including reference year 2021.', 'source_url': 'https://unstats.un.org/unsd/demographic-social/products/dyb/dyb_2021/', 'table': 'Table 3a - Whipple s Index by sex and urban or rural residence, 1985-2021', 'description': 'Table 3a - Whipple s Index by sex and urban or rural residence, 1985-2021', 'JobType': 'JSON', 'CleanPush': True, 'Server': 'str', 'UseJsonFormatForSQL': False, 'CleanReplace': True, 'MergeSchema': False, 'tags': [{'name': 'WORLD SUMMARY'}], 'additional_data_sources': [{'name': ''}], 'limitations': '', 'concept': '', 'periodicity': '', 'topic': '', 'created': '', 'last_modified': '', 'TriggerTalend': False, 'SavePathForJsonOutput': ''}}\n"
     ]
    },
    {
     "name": "stderr",
     "output_type": "stream",
     "text": [
      "INFO:root:Conversion successful - Table 4 - Vital statistics summary and life expectancy at birth 2017-2021 \n"
     ]
    },
    {
     "name": "stdout",
     "output_type": "stream",
     "text": [
      "{'JobPath': 'c:\\\\Users\\\\10235555\\\\Documents\\\\DataportalCrawlers\\\\UN_Data\\\\test_demobook\\\\Table 4 - Vital statistics summary and life expectancy at birth 2017-2021.xlsx', 'JsonDetails': {'organisation': 'un-agencies', 'source': 'UNSTATS', 'source_description': 'The Demographic Yearbook 2021 is the seventy-second issue in a series published by the United Nations since 1948. It contains tables on a wide range of demographic statistics, including a world summary of selected demographic statistics, statistics on the size, distribution and trends in national populations,fertility, foetal mortality, infant and maternal mortality, general mortality, nuptiality and divorce. Data are shown by urban/rural residence, as available. The volume provides Technical Notes, a synoptic table, a historical index and a listing of the issues of the Demographic Yearbook published to date. This issue of Demographic Yearbook contains data as available including reference year 2021.', 'source_url': 'https://unstats.un.org/unsd/demographic-social/products/dyb/dyb_2021/', 'table': 'Table 4 - Vital statistics summary and life expectancy at birth 2017-2021', 'description': ' The vital events and rates shown in this table are defined as follows1   Live birth is the complete expulsion or extraction from its mother of a product of conception, irrespective of the duration of pregnancy, which after such separation breathes or shows any other evidence of life such as beating of the heart, pulsation of the umbilical cord, definite movement of voluntary muscles, whether or not the umbilical cord has been cut or the placenta is attached; each product of such a birth is considered live born.  Death is the permanent disappearance of all evidence of life at any time after live birth has taken place (post-natal cessation of vital functions without capability of resuscitation).    Infant deaths are deaths of live born infants under one year of age.  Life expectancy at birth is defined as the average number of years of life for males and females if they continued to be subject to the same mortality experienced in the year(s) to which these life expectancies refer.  The total fertility rate is the average number of children that would be born alive to a hypothetical cohort of women if, throughout their reproductive years, the age-specific fertility rates remained unchanged.  The standard method of calculating the total fertility rate is the sum of the age-specific fertility rates.  Crude birth rates and crude death rates presented in this table are calculated using the number of live births and the number of deaths obtained from civil registers.  These civil registration data are used only if they are considered reliable (estimated completeness of 90 per cent or more).  Similarly, infant mortality rates presented in this table are calculated using the number of live births and the number of infant deaths obtained from civil registers. If, however, the registration of births or infant deaths for any given country or area is estimated to be less than 90 per cent complete, the rates are not calculated.  For some countries, the data and rates presented in this table are based on vital statistics data sourced from censuses or demographic surveys.    Rate computation  The crude birth and death rates are the annual number of each of these vital events per 1 000 mid-year population. Infant mortality rate is the annual number of deaths of infants under one year of age per 1 000 live births in the same year.  Rates of natural increase are the difference between the crude birth rate and the crude death rate. It should be noted that the rates of natural increase presented here may differ from the population growth rates presented in table 3 as rates of natural increase do not take net international migration into account while the population growth rates do.  Crude birth rates, crude death rates and infant mortality rates that appear in this table have been calculated by the United Nations Statistics Division, unless otherwise noted.  Exceptions include official estimated rates for India, which were based on the sample registration system. Rates calculated by the United Nations Statistics Division presented in this table have been limited to those countries or areas having a minimum number of 30 events (for live births, deaths or infant deaths) in a given year.   ', 'JobType': 'JSON', 'CleanPush': True, 'Server': 'str', 'UseJsonFormatForSQL': False, 'CleanReplace': True, 'MergeSchema': False, 'tags': [{'name': 'WORLD SUMMARY'}], 'additional_data_sources': [{'name': ''}], 'limitations': ' Statistics on births, deaths and infant deaths are subject to the same qualifications as have been set forth for vital statistics, in general, in section 4 of the Technical Notes and in the technical notes for individual tables presenting detailed data on these events (table 9, live births; table 15, infant deaths; table 18, deaths).  In assessing comparability, it is important to take into account the reliability of the data used to calculate the rates, as discussed above.  The  problem  of  obtaining  precise  correspondence  between  numerator  (births  and  deaths)  and denominator (population for crude birth and death rates) as regards the inclusion or exclusion of armed forces, refugees, displaced persons and other special groups is particularly difficult where vital rates are concerned.   It should also be noted that crude rates are particularly affected by the age-sex structure of the population. Infant mortality rates, and to a much lesser extent crude birth rates and crude death rates, are affected by the variation in the definition of a live birth and tabulation procedures.   NOTES  1 Principles and Recommendations for a Vital Statistics System Revision 3, Sales No. E.13.XVII.10, United Nations, New York, 2014.  87', 'concept': '  Rates calculated on the basis of registered vital statistics which are considered unreliable (estimated to be less than 90 per cent complete) are not calculated. Estimated rates, prepared by individual countries or areas, are presented whenever applicable.  The designation of vital statistics as being either reliable or unreliable is discussed in general in section 4.2 of the Technical Notes. The technical notes for tables 9, 15 and 18 provide specific information on reliability of statistics on live births, infant deaths, and deaths, respectively.  86   The values shown for life expectancy in this table come from official life tables.  It is assumed that, if necessary, the basic data (population and deaths classified by age and sex) have been adjusted for deficiencies before their use in constructing the life tables.  ', 'periodicity': '', 'topic': 'Table 4 - Demographic Yearbook 2021  Table 4 presents, for each country or area of the world, basic vital statistics for the period 2017 - 2021: live births, crude birth rate, deaths, crude death rate, rate of natural increase, infant deaths, infant mortality rate, life expectancy at birth by sex and total fertility rate.  ', 'created': '', 'last_modified': '', 'TriggerTalend': False, 'SavePathForJsonOutput': ''}}\n"
     ]
    },
    {
     "name": "stderr",
     "output_type": "stream",
     "text": [
      "INFO:root:Conversion successful - Table 5 - Estimates of mid-year population 2012-2021 \n"
     ]
    },
    {
     "name": "stdout",
     "output_type": "stream",
     "text": [
      "{'JobPath': 'c:\\\\Users\\\\10235555\\\\Documents\\\\DataportalCrawlers\\\\UN_Data\\\\test_demobook\\\\Table 5 - Estimates of mid-year population 2012-2021.xlsx', 'JsonDetails': {'organisation': 'un-agencies', 'source': 'UNSTATS', 'source_description': 'The Demographic Yearbook 2021 is the seventy-second issue in a series published by the United Nations since 1948. It contains tables on a wide range of demographic statistics, including a world summary of selected demographic statistics, statistics on the size, distribution and trends in national populations,fertility, foetal mortality, infant and maternal mortality, general mortality, nuptiality and divorce. Data are shown by urban/rural residence, as available. The volume provides Technical Notes, a synoptic table, a historical index and a listing of the issues of the Demographic Yearbook published to date. This issue of Demographic Yearbook contains data as available including reference year 2021.', 'source_url': 'https://unstats.un.org/unsd/demographic-social/products/dyb/dyb_2021/', 'table': 'Table 5 - Estimates of mid-year population 2012-2021', 'description': '  Mid-year estimates of the total population are those provided by national statistical offices.  They refer to the de facto or de jure population on 1 July of the reference year. Exceptions to this are footnoted accordingly. The data are presented in thousands, rounded by the Statistics Division of the United Nations Department of Economic and Social Affairs.    For some countries or areas the figures presented in this table and the figures used to calculate rates in subsequent tables are not the same, as these countries have provided a reference population for vital events that is different than the total population.  Unless otherwise indicated, all estimates relate to the population within present geographical boundaries. Major exceptions to this principle are explained in footnotes.    ', 'JobType': 'JSON', 'CleanPush': True, 'Server': 'str', 'UseJsonFormatForSQL': False, 'CleanReplace': True, 'MergeSchema': False, 'tags': [{'name': 'POPULATION'}], 'additional_data_sources': [{'name': ''}], 'limitations': '  Statistics on estimates of the mid-year total population are subject to the same qualifications as have been set forth for population statistics in general in section 3 of the Technical Notes.  International comparability of mid-year population estimates is also affected by the fact that some of these estimates refer to the de jure, and not the de facto, population. These are indicated in the column titled “Code”. The difference between the de facto and the de jure population is discussed in section 3.1.1 of the Technical Notes.  ', 'concept': ' Reliable mid-year population estimates are those that are based on a complete census (or on a sample survey) and have been adjusted on a basis of a continuous population register or on the balance of births, deaths and migration.  Reliable mid-year estimates appear in roman type. Mid-year estimates that are not calculated on this basis are considered less reliable and are shown in italics.  ', 'periodicity': '', 'topic': 'Table 5 - Demographic Yearbook 2021 ,  Table 5 presents national estimates of mid-year population for all available years between 2012 and 2021.    ', 'created': '', 'last_modified': '', 'TriggerTalend': False, 'SavePathForJsonOutput': ''}}\n"
     ]
    },
    {
     "name": "stderr",
     "output_type": "stream",
     "text": [
      "INFO:root:Conversion successful - Table 6 - Total and urban population by sex 2012-2021 \n"
     ]
    },
    {
     "name": "stdout",
     "output_type": "stream",
     "text": [
      "{'JobPath': 'c:\\\\Users\\\\10235555\\\\Documents\\\\DataportalCrawlers\\\\UN_Data\\\\test_demobook\\\\Table 6 - Total and urban population by sex 2012-2021.xlsx', 'JsonDetails': {'organisation': 'un-agencies', 'source': 'UNSTATS', 'source_description': 'The Demographic Yearbook 2021 is the seventy-second issue in a series published by the United Nations since 1948. It contains tables on a wide range of demographic statistics, including a world summary of selected demographic statistics, statistics on the size, distribution and trends in national populations,fertility, foetal mortality, infant and maternal mortality, general mortality, nuptiality and divorce. Data are shown by urban/rural residence, as available. The volume provides Technical Notes, a synoptic table, a historical index and a listing of the issues of the Demographic Yearbook published to date. This issue of Demographic Yearbook contains data as available including reference year 2021.', 'source_url': 'https://unstats.un.org/unsd/demographic-social/products/dyb/dyb_2021/', 'table': 'Table 6 - Total and urban population by sex 2012-2021', 'description': \"  Data are from nation-wide population censuses or are estimates, some of which are based on sample surveys of population carried out among all segments of the population. This characteristic of the data is indicated in the column “Code”. The codes used are explained at the end of the table.  Urban is defined according to the national census definition. The definitions for each country, as available, are provided as part of this technical note.   Percentage computation  Urban percentages are the number of persons residing in an area defined as ''urban'' per 100 total population. They are calculated by the Statistics Division of the United Nations Department of Economic and Social Affairs. In very few cases the data for total population have been revised whereas the data for the urban and rural population have not been revised. These data are footnoted accordingly. In these cases, particular caution should be used in interpreting the figures for the percentages urban.  \", 'JobType': 'JSON', 'CleanPush': True, 'Server': 'str', 'UseJsonFormatForSQL': False, 'CleanReplace': True, 'MergeSchema': False, 'tags': [{'name': 'POPULATION'}], 'additional_data_sources': [{'name': ''}], 'limitations': '  Statistics on urban population by sex are subject to the same qualifications as have been set forth for population statistics in general, as discussed in section 3 of the Technical Notes.  The  basic  limitations  imposed  by  variations  in  the  definition  of  the  total  population  and  in  the  degree  of under-enumeration are perhaps more important in relation to urban/rural than to any other distributions. The classification by urban and rural is affected by variations in defining usual residence for purposes of sub-national tabulations.   Likewise, the geographical differentials in the degree of under-enumeration in censuses affect the comparability of these categories throughout the table. The distinction between de facto and de jure population is also very important with respect to urban/rural distributions. The difference between the de facto and the de jure population is discussed at length in section 3.1.1 of the Technical Notes.      A most important and specific limitation, however, lies in the national differences in the definition of urban.  Because the distinction between urban and rural areas is made in so many different ways, the definitions have been included at the end of this table. The definitions are necessarily brief and, where the classification of urban involves administrative civil divisions, they are often given in the terminology of the particular country or area.  As a result of variations in terminology, it may appear that differences between countries or areas are greater than they actually are. On the other hand, similar or identical terms (for example, town, village, district) as used in different countries or areas may have quite different meanings.    The definition of urban/rural areas is based on both qualitative and quantitative criteria that may include any combination of the following  size of population, population density, distance between built-up areas, predominant type of economic activity, conformity to legal or administrative status and urban characteristics such as specific services and facilities1.   Although statistics classified by urban/rural areas are widely available, no international standard definition appears to be possible at this time since the meaning differs from one country or area to another. The urban/rural classification of population used here is reported according to the national definition.     ', 'concept': '  Estimates that are believed to be less reliable are set in italics rather than in roman type.  Classification in terms of reliability is based on the method of construction of the total population estimate discussed in the technical notes for table 3.  ', 'periodicity': '', 'topic': 'Table 6 - Demographic Yearbook 2021      ,Table 6 presents total population by sex for as many years as possible between 2012 and 2021, as well as urban population as available.   ', 'created': '', 'last_modified': '', 'TriggerTalend': False, 'SavePathForJsonOutput': ''}}\n"
     ]
    },
    {
     "name": "stderr",
     "output_type": "stream",
     "text": [
      "INFO:root:Conversion successful - Table 7 - Population by age, sex and urban or rural residence latest available year, 2012-2021 \n"
     ]
    },
    {
     "name": "stdout",
     "output_type": "stream",
     "text": [
      "{'JobPath': 'c:\\\\Users\\\\10235555\\\\Documents\\\\DataportalCrawlers\\\\UN_Data\\\\test_demobook\\\\Table 7 - Population by age, sex and urban or rural residence latest available year, 2012-2021.xlsx', 'JsonDetails': {'organisation': 'un-agencies', 'source': 'UNSTATS', 'source_description': 'The Demographic Yearbook 2021 is the seventy-second issue in a series published by the United Nations since 1948. It contains tables on a wide range of demographic statistics, including a world summary of selected demographic statistics, statistics on the size, distribution and trends in national populations,fertility, foetal mortality, infant and maternal mortality, general mortality, nuptiality and divorce. Data are shown by urban/rural residence, as available. The volume provides Technical Notes, a synoptic table, a historical index and a listing of the issues of the Demographic Yearbook published to date. This issue of Demographic Yearbook contains data as available including reference year 2021.', 'source_url': 'https://unstats.un.org/unsd/demographic-social/products/dyb/dyb_2021/', 'table': 'Table 7 - Population by age, sex and urban or rural residence latest available year, 2012-2021', 'description': '  Data in this table are either population census figures or estimates, some of which are based on sample surveys. The source of data is indicated by the ‘code’ explained at the end of the table.  The reference date of the census or estimate appears in the left-most column of the table. In general, the estimates refer to mid-year, i.e. 1 July.  Age is defined as age at last birthday, that is, the difference between the date of birth and the reference date of the age distribution expressed in completed solar years.  The age classification used in this table is the following  under 1 year, 1-4 years, 5-year groups through 95-99 years, and 100 years or over.  Statistics  are  presented  for  one  year,  the  most  recent  available.  However,  if  more  complete disaggregation is available for an earlier year, both are displayed.  The urban/rural classification of population is that provided by each country or area; it is presumed to be based on the national census definitions of urban population that have been set forth at the end of the technical notes to table 6.    ', 'JobType': 'JSON', 'CleanPush': True, 'Server': 'str', 'UseJsonFormatForSQL': False, 'CleanReplace': True, 'MergeSchema': False, 'tags': [{'name': 'POPULATION'}], 'additional_data_sources': [{'name': ''}], 'limitations': '  Statistics on population by age and sex are subject to the same qualifications as have been set forth for population statistics in general and age distributions in particular, as discussed in sections 3 and 3.1.3, respectively, of the Technical Notes.  Comparability of population data classified by age and sex is limited by variations in the definition of total population, discussed in detail in section 3 of the Technical Notes, and by the accuracy of the original enumeration.  Both factors are more important in relation to certain age groups than to others. For example, under-enumeration is known to be more prevalent among infants and young children than among older persons. Similarly, the exclusion from the total population of certain groups that tend to be of selected ages (such as the armed forces) can markedly affect the age structure and its comparability with that for other countries or areas.  Consideration should be given to the implications of these basic limitations in using the data.  In addition to these general qualifications are the special problems of comparability that arise in relation to age statistics in particular. Age distributions of population are known to suffer from certain deficiencies that have their origin in irregularities in age reporting. Although some of the irregularities tend to be obscured or eliminated when data are tabulated in five-year age groups rather than by single years, precision still continues to be affected, though the degree of distortion is not always readily seen.  Another factor limiting comparability is the age classification employed by the various countries or areas. Age may be based on the year of birth rather than the age at last birthday, in other words, calculated using the day, month and year of birth. Distributions based only on the year of birth are footnoted when known.  The absence of data in the unknown age group does not necessarily indicate completely accurate reporting and tabulation of the age item. The unknowns may have been eliminated by assigning ages to them before tabulation, or by proportionately distributing the unknown category across the age groups after tabulation.    As noted in connection with table 5, intercensal estimates of total population are usually revised to accord with the results of a census of population if inexplicable discontinuities appear to exist.  Intercensal age-sex distributions, however, are less likely to be revised in this way.  When it is known that a total population estimate for a given year has been revised and the corresponding age distribution has not been revised, a note is provided.  Distributions of this type should be used with caution when studying trends over a period of years, though their utility for studying age structure for the specified year is probably unimpaired.     178    The comparability of data by urban/rural residence is affected by the national definitions of urban and rural used in tabulating these data.  When known, the definitions of urban used in national population censuses are presented at the end of the technical notes for table 6.  As discussed in detail in the technical notes for table 6, these definitions vary considerably from one country or area to another.  ', 'concept': '  Estimates which are believed to be less reliable are set in italics rather than in roman type.    ', 'periodicity': '', 'topic': ' Table 7 - Demographic Yearbook 2021         Table 7 presents population by age, sex and urban/rural residence for the latest available year between 2012 and 2021.    ', 'created': '', 'last_modified': '', 'TriggerTalend': False, 'SavePathForJsonOutput': ''}}\n"
     ]
    },
    {
     "name": "stderr",
     "output_type": "stream",
     "text": [
      "INFO:root:Conversion successful - Table 8 - Population of capital cities and cities of 100 000 or more inhabitants latest available year, 2002-2021 \n"
     ]
    },
    {
     "name": "stdout",
     "output_type": "stream",
     "text": [
      "{'JobPath': 'c:\\\\Users\\\\10235555\\\\Documents\\\\DataportalCrawlers\\\\UN_Data\\\\test_demobook\\\\Table 8 - Population of capital cities and cities of 100 000 or more inhabitants latest available year, 2002-2021.xlsx', 'JsonDetails': {'organisation': 'un-agencies', 'source': 'UNSTATS', 'source_description': 'The Demographic Yearbook 2021 is the seventy-second issue in a series published by the United Nations since 1948. It contains tables on a wide range of demographic statistics, including a world summary of selected demographic statistics, statistics on the size, distribution and trends in national populations,fertility, foetal mortality, infant and maternal mortality, general mortality, nuptiality and divorce. Data are shown by urban/rural residence, as available. The volume provides Technical Notes, a synoptic table, a historical index and a listing of the issues of the Demographic Yearbook published to date. This issue of Demographic Yearbook contains data as available including reference year 2021.', 'source_url': 'https://unstats.un.org/unsd/demographic-social/products/dyb/dyb_2021/', 'table': 'Table 8 - Population of capital cities and cities of 100 000 or more inhabitants latest available year, 2002-2021', 'description': '  Since the way in which cities are delimited differs from one country or area to another, the table not only presents data for the so-called city proper, but also for the urban agglomeration, if available.  City proper is defined as a locality with legally fixed boundaries and an administratively recognized urban status, usually characterized by some form of local government.  Urban agglomeration has been defined as comprising the city or town proper and also the suburban fringe or densely settled territory lying outside of, but adjacent to, the city boundaries.  For some countries or areas, however, the data relate to entire administrative divisions known, for example, as shi or municipalities (municipios) which are composed of a populated centre and adjoining territory, some of which may contain other, often separate urban localities or may be distinctively rural in character.  For this group of countries or areas the type of civil division is given in a footnote.    The surface area of the city or urban agglomeration is presented, when available.   City names are presented in the original language of the country or area in which the cities are located. In cases where the original names are not in the Roman alphabet, they have been romanized. Cities are listed in English alphabetical order.        Capital cities are shown in the table regardless of their population size. The names of the capital cities are printed in capital letters. The designation of any specific city as a capital city is as reported by the country or area.            The table also covers cities whose urban agglomeration’s population exceeds 100 000; that is, while the urban agglomeration should have a population of 100 000 or more to be included in the table, the city proper may be of a smaller population size.        The reference date of each population figure appears in the left-most column of the table. Estimates based on results of sample surveys and city censuses or from other sources are explained by the ‘code’ also appearing in the left-most column of the table. The codes are explained at the end of the table.  ', 'JobType': 'JSON', 'CleanPush': True, 'Server': 'str', 'UseJsonFormatForSQL': False, 'CleanReplace': True, 'MergeSchema': False, 'tags': [{'name': 'POPULATION'}], 'additional_data_sources': [{'name': ''}], 'limitations': ' Statistics on the population of capital cities and cities of 100 000 or more inhabitants are subject to the same qualifications as have been set forth for population statistics in general as discussed in section 3 of the Technical Notes.    International comparability of data on city population is limited by variations in national concepts and definitions.  Although an effort is made to reduce the sources of non-comparability somewhat by presenting the data for both city proper and urban agglomeration, many serious problems of comparability remain.    Data presented in the \"city proper\" column for some countries represent an urban administrative area legally distinguished from surrounding rural territory, while for other countries these data represent a commune or an equally small administrative unit. In still other countries, the administrative units may be relatively extensive and thereby include considerable territories beyond the urban centre itself.    City data are also especially affected by whether the data refer to de facto or de jure population, as well as variations among countries in how each of these concepts is applied. With reference to the total population,    280 the difference between the de facto and de jure population is discussed at length in section 3.1.1 of the Technical Notes.    Data on city populations based on intercensal estimates present additional problems comparability is impaired by the different methods used in making the estimates, and by the loss of precision in applying to selected segments of the population methods best suited for the whole population.  For example, it is far more difficult to apply the component method of estimating population growth to cities than it is to the entire country.        Births and deaths occurring in the cities do not all originate in the population present in or resident of that area. Therefore, the use of natural increase to estimate the probable size of the city population is a potential source of error. Internal migration is another component of population change that cannot be measured with accuracy in many areas.   Because of these factors, estimates in this table may be less valuable in general and in particular limited for purposes of international comparison.  City data, even when set in Roman type, are often not as reliable as estimates for the total population of the country or area.  Furthermore, because the sources of these data include censuses (national or city), surveys and estimates, the years to which they refer vary widely. In addition, because city boundaries may alter over time, comparisons covering different years should be carried out with caution.  ', 'concept': '  Specific information is generally not available on the reliability of the estimates of the population of cities or urban agglomerations presented in this table.    In the absence of such quality assessment, data from population censuses, sample surveys and city censuses are considered reliable and, therefore, set in Roman type.  Other estimates are considered reliable if they are based on a complete census (or a sample survey), and have been adjusted by a continuous population register or adjusted on the basis of the calculated balance of births, deaths, and migration.  ', 'periodicity': '', 'topic': 'Table 8 - Demographic Yearbook 2021        Table 8 presents population of capital cities and cities of 100 000 or more inhabitants for the latest available year between 2002 and 2021.   ', 'created': '', 'last_modified': '', 'TriggerTalend': False, 'SavePathForJsonOutput': ''}}\n"
     ]
    },
    {
     "name": "stderr",
     "output_type": "stream",
     "text": [
      "INFO:root:Conversion successful - Table 9 - Live births and crude birth rates, by urban or rural residence 2017-2021 \n"
     ]
    },
    {
     "name": "stdout",
     "output_type": "stream",
     "text": [
      "{'JobPath': 'c:\\\\Users\\\\10235555\\\\Documents\\\\DataportalCrawlers\\\\UN_Data\\\\test_demobook\\\\Table 9 - Live births and crude birth rates, by urban or rural residence 2017-2021.xlsx', 'JsonDetails': {'organisation': 'un-agencies', 'source': 'UNSTATS', 'source_description': 'The Demographic Yearbook 2021 is the seventy-second issue in a series published by the United Nations since 1948. It contains tables on a wide range of demographic statistics, including a world summary of selected demographic statistics, statistics on the size, distribution and trends in national populations,fertility, foetal mortality, infant and maternal mortality, general mortality, nuptiality and divorce. Data are shown by urban/rural residence, as available. The volume provides Technical Notes, a synoptic table, a historical index and a listing of the issues of the Demographic Yearbook published to date. This issue of Demographic Yearbook contains data as available including reference year 2021.', 'source_url': 'https://unstats.un.org/unsd/demographic-social/products/dyb/dyb_2021/', 'table': 'Table 9 - Live births and crude birth rates, by urban or rural residence 2017-2021', 'description': ' Live birth is defined as the complete expulsion or extraction from its mother of a product of conception, irrespective of the duration of pregnancy, which after such separation, breathes or shows any other evidence of life such as beating of the heart, pulsation of the umbilical cord, or definite movements of voluntary muscles, whether or not the umbilical cord has been cut or the placenta is attached; each product of such a birth is considered live-born1.   Statistics on the number of live births are obtained from civil registers unless otherwise noted. For those countries or areas where civil registration statistics on live births are considered reliable the birth rates shown have been calculated on the basis of registered live births.    For certain countries, there is a discrepancy between the total number of live births shown in this table and those shown in subsequent tables for the same year. Usually this discrepancy arises because the total number of live births occurring in a given year is revised but not the remaining tabulations.   Rate computation Crude  birth rates are the annual number of live births per 1 000 mid-year population.   Rates by urban/rural residence are the annual number of live births, in the appropriate urban or rural category, per 1 000 corresponding mid-year population. Rates are calculated only for data considered complete, that is, coded with a “C” and for estimates and live births statistics for the 12 month period prior to the census date, coded with a “|”. These rates are calculated by the Statistics Division of the United Nations based on the appropriate reference population (for example total population, nationals only, etc.) if known and available. If the reference population is not known or unavailable, the total population is used to calculate the rates. Therefore, if the population that is used to calculate the rates is different from the correct reference population, the rates presented might under- or overstate the true situation in a country or area.  Rates presented in this table are limited to those countries or areas having a minimum number of 30 live births in a given year.    ', 'JobType': 'JSON', 'CleanPush': True, 'Server': 'str', 'UseJsonFormatForSQL': False, 'CleanReplace': True, 'MergeSchema': False, 'tags': [{'name': 'FERTILITY'}], 'additional_data_sources': [{'name': ''}], 'limitations': ' Statistics on live births are subject to the same qualifications as have been set forth for vital statistics in general and birth statistics in particular as discussed in section 4 of the Technical Notes.  The reliability of data, an indication of which is described above, is an important factor in considering the limitations.  In addition, some live births are tabulated by date of registration and not by date of occurrence; these have been indicated by a plus sign “+”.  Whenever the lag between the date of occurrence and date of registration is prolonged and, therefore, a large proportion of the live birth registrations are delayed, birth statistics for any given year may be seriously affected.   Another factor that limits international comparability is the practice of some countries or areas not to include in live birth statistics infants who were born alive but died before the registration of the birth or within     355 the first 24 hours of life, thus underestimating the total number of life births.  Statistics of this type are footnoted.  In addition, it should be noted that rates are affected also by the quality and limitations of the population estimates that are used in their computation.  The problems of under-enumeration or over-enumeration and, to some extent, the differences in definition of total population have been discussed in section 3 of the Technical Notes dealing with population data in general, and specific information pertaining to individual countries or areas is given in the footnotes to table 3.    The rates estimated from the results of sample surveys are subject to possibilities of considerable error as a result of omissions in reporting of births, or as a result of erroneous reporting of births that occurred outside the reference period.  However, rates estimated from sample surveys have the advantage of the availability of a built-in and strictly corresponding population base.  It should be emphasized that crude birth rates - like crude death, marriage and divorce rates - may be seriously affected by the age-sex structure of the populations to which they relate.  Nevertheless, they do provide a simple measure of the level of and changes in fertility.  The urban/rural classification of birth may refer to the residence of mother or the place of delivery, according to the national practice and it is provided by each country or area. In addition, the comparability of data by urban/rural residence is affected by the national definition of urban and rural used in tabulating these data.  It is assumed, in the absence of specific information to the contrary, that the definitions of urban and rural used in connection with the national population census were also used in the compilation of the vital statistics for each country or area.  However, it cannot be ruled out that, for a given country or area, different definitions  of urban  and rural  are  used for the  vital  statistics  data  and the  population census  data respectively.  When known, the definitions of urban used in national population census are presented at the end of the technical notes to table 6.  As discussed in detail in the technical notes to table 6, these definitions vary considerably from one area or country to another. Urban/rural differentials in vital rates may also be affected by whether the vital events have been tabulated in terms of place of occurrence or place of usual residence.  This problem is discussed in more detail in section 4.1.4.1 of the Technical notes.  ', 'concept': ' Each country or area has been asked to indicate the estimated completeness of the live births recorded in its civil register.  These national assessments are indicated by the quality codes “C” and “U” that appear in the first column of this table.    “C” indicates that the data are estimated to be virtually complete, that is, representing at least 90 per cent of the live births occurring each year, whereas “U” indicates that data are estimated to be incomplete, that is, representing less than 90 per cent of the live births occurring each year.  A third code “...” indicates that no information was provided regarding completeness.  Data from civil registers that are reported as incomplete or of unknown completeness (coded “U” or “...”)  are considered unreliable.  They appear in italics in this table and rates are not calculated for these data.  These quality codes apply only to data from civil registers. If data from other sources are presented, the symbol “|” is shown instead of the quality code.  For more information about the quality of vital statistics data in general, and the information available on the basis of the completeness estimates in particular, see section 4.2 of the Technical Notes.   ', 'periodicity': '', 'topic': 'Table 9 - Demographic Yearbook 2021   Table 9 presents live births and crude birth rates by urban/rural residence for as many years as possible between 2017 and 2021.      ', 'created': '', 'last_modified': '', 'TriggerTalend': False, 'SavePathForJsonOutput': ''}}\n"
     ]
    },
    {
     "name": "stderr",
     "output_type": "stream",
     "text": [
      "INFO:root:Conversion successful - Table 10 - Live births by age of mother and sex of child, general and age-specific fertility rates latest available year, 2012-2021 \n"
     ]
    },
    {
     "name": "stdout",
     "output_type": "stream",
     "text": [
      "{'JobPath': 'c:\\\\Users\\\\10235555\\\\Documents\\\\DataportalCrawlers\\\\UN_Data\\\\test_demobook\\\\Table 10 - Live births by age of mother and sex of child, general and age-specific fertility rates latest available year, 2012-2021.xlsx', 'JsonDetails': {'organisation': 'un-agencies', 'source': 'UNSTATS', 'source_description': 'The Demographic Yearbook 2021 is the seventy-second issue in a series published by the United Nations since 1948. It contains tables on a wide range of demographic statistics, including a world summary of selected demographic statistics, statistics on the size, distribution and trends in national populations,fertility, foetal mortality, infant and maternal mortality, general mortality, nuptiality and divorce. Data are shown by urban/rural residence, as available. The volume provides Technical Notes, a synoptic table, a historical index and a listing of the issues of the Demographic Yearbook published to date. This issue of Demographic Yearbook contains data as available including reference year 2021.', 'source_url': 'https://unstats.un.org/unsd/demographic-social/products/dyb/dyb_2021/', 'table': 'Table 10 - Live births by age of mother and sex of child, general and age-specific fertility rates latest available year, 2012-2021', 'description': ' Age is defined as age at last birthday, that is, the difference between the date of birth and the date of the occurrence of the event, expressed in completed solar years. The age classification used in this table is the following under 15 years, 5-year age groups through 45-49 years, and 50 years and over. A different classification may appear as provided by the reporting country or area.  Rate computation Age-specific fertility rates are the annual number of births to women in each age group per 1 000 female population in the same age group. These rates are calculated by the Statistics Division of the United Nations.  Since relatively few births occur to women below 15 or above 50 years of age, age-specific fertility rates for women under 20 years of age and for those 45 years of age or over are computed on the female population aged 15-19 and 45-49, respectively. Similarly, the rate for women of \"All ages\" is based on all live births irrespective of age of mother and is computed on the female population aged 15-49 years. This rate for \"All ages\" is known as the general fertility rate. The age-specific fertility rates for age groups of women below 15 or 50 and above years of age are not calculated.  Births to mothers of unknown age are distributed proportionately across the age groups, by the Statistics Division of the United Nations, in accordance with the distribution of births by age of mother prior to the calculation of the rates.   The population used in computing the rates is the estimated or enumerated distribution of females by age. First priority was given to the estimated population and second priority to the enumerated population, i.e. to census returns of the year to which the births referred.  Rates presented in this table are limited to those for countries or areas having at least a total of 100 live births in a given year.   ', 'JobType': 'JSON', 'CleanPush': True, 'Server': 'str', 'UseJsonFormatForSQL': False, 'CleanReplace': True, 'MergeSchema': False, 'tags': [{'name': 'FERTILITY'}], 'additional_data_sources': [{'name': ''}], 'limitations': ' Statistics on live births by age of mother are subject to the same qualifications as have been set forth for vital statistics in general and birth statistics in particular as discussed in section 4 of the Technical Notes. These include differences in the completeness of registration, the method used to determine age of mother and the quality of the reported information relating to age of mother.   The reliability of the data described above, is an important factor in considering the limitations. In addition, some live births are tabulated by date of registration and not by date of occurrence; these are indicated in the table by a plus sign “+”.  Whenever the lag between the date of occurrence and date of registration is prolonged and, therefore, a large proportion of the live birth registrations are delayed, birth statistics for any given year may be seriously affected. For example, the age of the mother will almost always refer to the date of registration rather than to the date of birth of the child. Hence, in those countries or areas where registration of births is delayed, possibly for years, statistics on births by age of mother should be used with caution.   Another factor which limits international comparability is the practice of some countries or areas of not including in live birth statistics infants who were born alive but died before the registration of the birth or within the first 24 hours of life, thus underestimating the total number of live births. Statistics of this type are footnoted.  Because these statistics are classified according to age, they are subject to the limitations with respect to accuracy of age reporting similar to those already discussed in connection with section 3.1.3 of the Technical Notes.  The factors influencing the accuracy of reporting may be somewhat dissimilar in vital    370 statistics (because of the differences in the method of taking a census and registering a birth) but, in general, the same errors can be observed. The absence of frequencies in the unknown age group does not necessarily indicate completely accurate reporting and tabulation of the age item.  It is often an indication that the unknowns have been eliminated by assigning ages to them before tabulation, or by proportionate distribution after tabulation.  On the other hand, large frequencies in the unknown age category may indicate that a large proportion of  the  births  are  born  outside  of  wedlock, the records for  which  tend  to  be  incomplete  so far as characteristics of the parents are concerned.    Another limitation of age reporting may result from calculating age of mother at birth of child (or at time of registration) from year of birth rather than from day, month and year of birth. Information on this factor is given in footnotes when known.    In few countries, data by age refer to deliveries rather than to live births causing under-enumeration in the event of a multiple birth.  This practice leads to lack of strict comparability, both among countries or areas relying on this practice and between data shown in this table and table 9.  Rates shown in this table are subject to the same limitations that affect the corresponding statistics on live births. In cases of rates based on births tabulated by date of registration and not by date of occurrence; the effect of including delayed registration on the distribution of births by age of mother may be noted in the age-specific fertility rates for women at older ages. In some cases, high age-specific rates for women aged 45 years and over may reflect age of mother at registration of birth and not fertility at these older ages.  ', 'concept': ' Data from civil registers of live births which are reported as incomplete (less than 90 per cent completeness) or of unknown completeness are considered unreliable and are set in italics rather than in roman type.  Rates are not computed if the data on live births from civil registers are reported as incomplete (less than 90 per cent completeness) or of unknown completeness. Table 9 and the technical notes for that table provide more detailed information on the completeness of live-birth registration.  For more information about the quality of vital statistics data in general, see section 4.2 of the Technical Notes.   ', 'periodicity': '', 'topic': 'Table 10 - Demographic Yearbook 2021 ,  Table 10 presents live births by age of mother and sex of the child, general fertility rate, and age-specific fertility rates for the latest available year between 2012 and 2021.   ', 'created': '', 'last_modified': '', 'TriggerTalend': False, 'SavePathForJsonOutput': ''}}\n"
     ]
    },
    {
     "name": "stderr",
     "output_type": "stream",
     "text": [
      "INFO:root:Conversion successful - Table 11 - Live births and live birth rates by age of father latest available year, 2012-2021 \n"
     ]
    },
    {
     "name": "stdout",
     "output_type": "stream",
     "text": [
      "{'JobPath': 'c:\\\\Users\\\\10235555\\\\Documents\\\\DataportalCrawlers\\\\UN_Data\\\\test_demobook\\\\Table 11 - Live births and live birth rates by age of father latest available year, 2012-2021.xlsx', 'JsonDetails': {'organisation': 'un-agencies', 'source': 'UNSTATS', 'source_description': 'The Demographic Yearbook 2021 is the seventy-second issue in a series published by the United Nations since 1948. It contains tables on a wide range of demographic statistics, including a world summary of selected demographic statistics, statistics on the size, distribution and trends in national populations,fertility, foetal mortality, infant and maternal mortality, general mortality, nuptiality and divorce. Data are shown by urban/rural residence, as available. The volume provides Technical Notes, a synoptic table, a historical index and a listing of the issues of the Demographic Yearbook published to date. This issue of Demographic Yearbook contains data as available including reference year 2021.', 'source_url': 'https://unstats.un.org/unsd/demographic-social/products/dyb/dyb_2021/', 'table': 'Table 11 - Live births and live birth rates by age of father latest available year, 2012-2021', 'description': ' Age is defined as age at last birthday, that is, the difference between the date of birth and the date of the occurrence of the event, expressed in completed solar years. The age classification used in this table is the following under 20 years, 5-year age groups through 60-64 years, 65 years and over, and age unknown. A different classification may appear as provided by reporting country or area.  Rate computation Live-birth rates specific to age of father are the annual number of births to a man in each age group per 1 000 male population in the same age group. These rates are calculated by the Statistics Division of the United Nations.  Since relatively few births occur to men below 15 or above 59 years of age, birth rates for men under 20 years of age and for those 55 years of age or over are computed on the male population aged 15-19 and 55-59, respectively. Similarly, the rate for men of \"All ages\" is based on all live births irrespective of age of father, and it is computed on the male population aged 15-59 years.   Births to fathers of unknown age are distributed proportionately across the age groups, by the Statistics Division of the United Nations, in accordance with the distribution of births by age of father prior to the calculation of the rates.   The population used in computing the rates is the estimated or enumerated distribution of males by age. First priority is given to the estimated population and second priority to the enumerated population, i.e. to census returns of the year to which the births refer.  Rates presented in this table are limited to those for countries or areas having at least a total of 100 live births in a given year.   ', 'JobType': 'JSON', 'CleanPush': True, 'Server': 'str', 'UseJsonFormatForSQL': False, 'CleanReplace': True, 'MergeSchema': False, 'tags': [{'name': 'FERTILITY'}], 'additional_data_sources': [{'name': ''}], 'limitations': ' Statistics on live births by age of father are subject to the same qualifications as have been set forth for vital statistics in general and birth statistics in particular as discussed in section 4 of the Technical Notes. These include differences in the completeness of registration, the method used to determine age of father and the quality of the reported information relating to age of father.   The reliability of the data described above, is an important factor in considering the limitations. In addition, some live births are tabulated by date of registration and not by date of occurrence; these are indicated in the table by a plus sign “+”.  Whenever the lag between the date of occurrence and date of registration is prolonged and, therefore, a large proportion of the live-birth registrations are delayed, birth statistics for any given year may be seriously affected. For example, the age of the father will almost always refer to the date of registration rather than to the date of birth of the child. Hence, in those countries or areas where registration of births is delayed, possibly for years, statistics on births by age of father should be used with caution.   Another factor which limits international comparability is the practice of some countries or areas of not including in live birth statistics infants who were born alive but died before the registration of the birth or within the first 24 hours of life, thus underestimating the total number of live births. Statistics of this type are footnoted.  Because these statistics are classified according to age, they are subject to the limitations with respect to accuracy of age reporting similar to those already discussed in connection with section 3.1.3 of the Technical Notes.  The factors influencing the accuracy of reporting may be somewhat dissimilar in vital statistics (because of the differences in the method of taking a census and registering a birth) but, in     392 general, the same errors can be observed. The absence of frequencies in the unknown age group does not necessarily indicate completely accurate reporting and tabulation of the age item. It is often an indication that the unknowns have been eliminated by assigning ages to them before tabulation, or by proportionate distribution after tabulation.  On the other hand, large frequencies in the unknown age category may indicate that a large proportion of  the  births  are  born  outside  of  wedlock, the records for  which  tend  to  be  incomplete  so far as characteristics of the parents are concerned.    Another limitation of age reporting may result from calculating age of father at birth of child (or at time of registration) from year of birth rather than from day, month and year of birth. Information on this factor is given in footnotes when known.    In few countries, data by age refer to deliveries rather than to live births causing under-enumeration in the event of a multiple birth. This practice leads to lack of strict comparability, both among countries or areas relying on this practice and between data shown in this table and table 9.  Rates shown in this table are subject to the same limitations that affect the corresponding statistics on live births. In cases of rates based on births tabulated by date of registration and not by date of occurrence; the effect of including delayed registration on the distribution of births by age of father may be noted in the age-specific fertility rates for men at older ages. In some cases, high age-specific rates for men aged 55 years and over may reflect age of father at registration of birth and not fertility at these older ages.  ', 'concept': ' Data from civil registers of live births which are reported as incomplete (less than 90 per cent completeness) or of unknown completeness are considered unreliable and are set in italics rather than in roman type.  Rates are not computed if the data on live births from civil registers are reported as incomplete (less than 90 per cent completeness) or of unknown completeness. Table 9 and the technical notes for that table provide more detailed information on the completeness of birth registration. For more information about the quality of vital statistics data in general, see section 4.2 of the Technical Notes.   ', 'periodicity': '', 'topic': 'Table 11 - Demographic Yearbook 2021 ,  Table 11 presents live births by age of father and live birth rates by age of father for the latest available year between 2012 and 2021.   ', 'created': '', 'last_modified': '', 'TriggerTalend': False, 'SavePathForJsonOutput': ''}}\n"
     ]
    },
    {
     "name": "stderr",
     "output_type": "stream",
     "text": [
      "INFO:root:Conversion successful - Table 12 - Late foetal deaths and late foetal death ratios, by urban or rural residence 2017-2021 \n"
     ]
    },
    {
     "name": "stdout",
     "output_type": "stream",
     "text": [
      "{'JobPath': 'c:\\\\Users\\\\10235555\\\\Documents\\\\DataportalCrawlers\\\\UN_Data\\\\test_demobook\\\\Table 12 - Late foetal deaths and late foetal death ratios, by urban or rural residence 2017-2021.xlsx', 'JsonDetails': {'organisation': 'un-agencies', 'source': 'UNSTATS', 'source_description': 'The Demographic Yearbook 2021 is the seventy-second issue in a series published by the United Nations since 1948. It contains tables on a wide range of demographic statistics, including a world summary of selected demographic statistics, statistics on the size, distribution and trends in national populations,fertility, foetal mortality, infant and maternal mortality, general mortality, nuptiality and divorce. Data are shown by urban/rural residence, as available. The volume provides Technical Notes, a synoptic table, a historical index and a listing of the issues of the Demographic Yearbook published to date. This issue of Demographic Yearbook contains data as available including reference year 2021.', 'source_url': 'https://unstats.un.org/unsd/demographic-social/products/dyb/dyb_2021/', 'table': 'Table 12 - Late foetal deaths and late foetal death ratios, by urban or rural residence 2017-2021', 'description': ' Late foetal deaths are foetal deaths1 of 28 or more completed weeks of gestation.   Statistics on the number of late foetal deaths are obtained from civil registers unless otherwise noted.  The urban/rural classification of late foetal deaths is as provided by each country or area; it is presumed to be based on the national census definitions of urban population that have been set forth at the end of the technical notes for table 6.  Ratio computation Late foetal-death ratios are the annual number of late foetal deaths per 1 000 live births (as shown in table 9) in the same year. The live-birth base was adopted because it is assumed to be more comparable from one country or area to another than the sum of live births and foetal deaths.  Ratios by urban/rural residence are the annual number of late foetal deaths, in the appropriate urban or rural category, per 1 000 corresponding live births (as shown in table 9).  These ratios are calculated by the United Nations Statistics Division.  Ratios presented in this table are limited to those for countries or areas and urban/rural areas having at least a total of 30 late foetal deaths in a given year.  ', 'JobType': 'JSON', 'CleanPush': True, 'Server': 'str', 'UseJsonFormatForSQL': False, 'CleanReplace': True, 'MergeSchema': False, 'tags': [{'name': 'FOETAL MORTALITY'}], 'additional_data_sources': [{'name': ''}], 'limitations': ' Statistics on late foetal deaths are subject to the same qualifications as have been set forth for vital statistics in general and foetal-death statistics in particular as discussed in section 4 of the Technical Notes.  The reliability of the data is a very important factor. Of all vital statistics, the registration of foetal deaths is probably the most incomplete.  Variation in the definition of foetal deaths, and in particular late foetal deaths, also limits international comparability.  The criterion of 28 or more completed weeks of gestation to distinguish late foetal deaths is not universally used; some countries or areas use different durations of gestation or other criteria such as size of the foetus. In addition, the difficulty of accurately determining gestational age further reduces comparability. However, to promote comparability, late foetal deaths shown in this table are restricted to those of at least 28 or more completed weeks of gestation. Wherever this is not possible, a footnote is provided.    Late foetal-death ratios are subject to the limitations of the data on live births with which they have been calculated. These have been set forth in the technical notes for table 9.  It must be pointed out that when late foetal deaths and live births are both under registered, the resulting ratios may be of reasonable magnitude. For the countries or areas where live-birth registration is poorest, the late foetal-death ratios may be the largest, effectively masking the completeness of the base    408 data.  For this reason, possible variations in birth-registration completeness as well as the reported completeness of late foetal deaths must always be borne in mind in evaluating late foetal-death ratios.  Finally, it may be noted that the counting of live-born infants as late foetal deaths, because they died before the registration of the birth or within the first 24 hours of life, has the effect of inflating the late foetal-death ratios unduly by decreasing the birth denominator and increasing the foetal-death numerator. This factor should not be overlooked in using data from this table.  The comparability of data by urban/rural residence is affected by the national definitions of urban and rural used in tabulating these data. It is assumed, in the absence of specific information to the contrary, that the definitions of urban and rural used in connection with the national population census were also used in the compilation of the vital statistics for each country or area.  However, it cannot be excluded that, for a given country or area, different definitions of urban and rural are used for the vital statistics data and the population census data respectively.  When known, the definitions of urban used in national population censuses are presented at the end of the technical notes for table 6.  As discussed in detail in the technical notes for table 6, these definitions vary considerably from one country or area to another.  Urban/rural differentials in late foetal death ratios may also be affected by whether the late foetal deaths and live births have been tabulated in terms of place of occurrence or place of usual residence. This problem is discussed in more detail in section 4.1.4.1 of the Introduction.  ', 'concept': ' Each country or area is asked to indicate the estimated completeness of the late foetal deaths recorded in its civil register. These national assessments are indicated by the quality codes “C”, “U” and “…” that appear in the first column of this table.  “C” indicates that the data are estimated to be virtually complete, that is, representing at least 90 per cent of the late foetal deaths occurring each year, while “U” indicates that data are estimated to be incomplete, that is, representing less than 90 per cent of the late foetal deaths occurring each year. The code “...” indicates that no information was provided regarding completeness.  Data from civil registers which are reported as incomplete or of unknown completeness (coded “U” or “...”) are considered unreliable. They appear in italics in this table. Ratios are not computed for data so coded.   For more information about the quality of vital statistics data in general, see section 4.2 of the Technical Notes.   ', 'periodicity': '', 'topic': 'Table 12 - Demographic Yearbook 2021       Table 12 presents late foetal deaths and late foetal-death ratios by urban/rural residence for as many years as possible between 2017 and 2021.  ', 'created': '', 'last_modified': '', 'TriggerTalend': False, 'SavePathForJsonOutput': ''}}\n"
     ]
    },
    {
     "name": "stderr",
     "output_type": "stream",
     "text": [
      "INFO:root:Conversion successful - Table 13 - Legally induced abortions 2012-2021 \n"
     ]
    },
    {
     "name": "stdout",
     "output_type": "stream",
     "text": [
      "{'JobPath': 'c:\\\\Users\\\\10235555\\\\Documents\\\\DataportalCrawlers\\\\UN_Data\\\\test_demobook\\\\Table 13 - Legally induced abortions 2012-2021.xlsx', 'JsonDetails': {'organisation': 'un-agencies', 'source': 'UNSTATS', 'source_description': 'The Demographic Yearbook 2021 is the seventy-second issue in a series published by the United Nations since 1948. It contains tables on a wide range of demographic statistics, including a world summary of selected demographic statistics, statistics on the size, distribution and trends in national populations,fertility, foetal mortality, infant and maternal mortality, general mortality, nuptiality and divorce. Data are shown by urban/rural residence, as available. The volume provides Technical Notes, a synoptic table, a historical index and a listing of the issues of the Demographic Yearbook published to date. This issue of Demographic Yearbook contains data as available including reference year 2021.', 'source_url': 'https://unstats.un.org/unsd/demographic-social/products/dyb/dyb_2021/', 'table': 'Table 13 - Legally induced abortions 2012-2021', 'description': ' There are two major categories of abortion spontaneous and induced.  Induced abortions are those initiated by deliberate action undertaken with the intention of terminating pregnancy; all other abortions are considered spontaneous.   The induction of abortion is subject to governmental regulation in most, if not all, countries or areas.  This regulation varies from complete prohibition in some countries or areas to abortion on request, with services  provided  by  governmental  health  authorities,  in  others.  More  generally,  governments  have attempted to  define the  conditions under  which  a  pregnancy may  lawfully  be  terminated  and  have established procedures for authorizing abortion in individual cases.   Information on abortion policies is collected by the United Nations Population Division and published in the Abortion Policies and Reproductive Health around the World1.   ', 'JobType': 'JSON', 'CleanPush': True, 'Server': 'str', 'UseJsonFormatForSQL': False, 'CleanReplace': True, 'MergeSchema': False, 'tags': [{'name': 'FOETAL MORTALITY'}], 'additional_data_sources': [{'name': ''}], 'limitations': ' With regard to the collection of information on abortions, a variety of sources are used, but hospital records are the most common source of information. This implies that most cases that have no contact with hospitals are missed.  Data from other sources are probably also incomplete.  The data in the present table are limited to legally induced abortions, which, by their nature, might be assumed to be more complete than data on all induced abortions.  ', 'concept': ' Unlike data on live births and foetal deaths, which are generally collected through systems of vital registration, data on abortion are collected from a variety of sources.  Because of this, the quality specification on the completeness of civil registers, which is presented for other tables, does not appear here.    ', 'periodicity': '', 'topic': 'Table 13 - Demographic Yearbook 2021  Table 13 presents legally induced abortions for as many years as available between 2012 and 2021.  ', 'created': '', 'last_modified': '', 'TriggerTalend': False, 'SavePathForJsonOutput': ''}}\n"
     ]
    },
    {
     "name": "stderr",
     "output_type": "stream",
     "text": [
      "INFO:root:Conversion successful - Table 14 - Legally induced abortions by age and number of previous live births of women latest available year, 2012-2021 \n"
     ]
    },
    {
     "name": "stdout",
     "output_type": "stream",
     "text": [
      "{'JobPath': 'c:\\\\Users\\\\10235555\\\\Documents\\\\DataportalCrawlers\\\\UN_Data\\\\test_demobook\\\\Table 14 - Legally induced abortions by age and number of previous live births of women latest available year, 2012-2021.xlsx', 'JsonDetails': {'organisation': 'un-agencies', 'source': 'UNSTATS', 'source_description': 'The Demographic Yearbook 2021 is the seventy-second issue in a series published by the United Nations since 1948. It contains tables on a wide range of demographic statistics, including a world summary of selected demographic statistics, statistics on the size, distribution and trends in national populations,fertility, foetal mortality, infant and maternal mortality, general mortality, nuptiality and divorce. Data are shown by urban/rural residence, as available. The volume provides Technical Notes, a synoptic table, a historical index and a listing of the issues of the Demographic Yearbook published to date. This issue of Demographic Yearbook contains data as available including reference year 2021.', 'source_url': 'https://unstats.un.org/unsd/demographic-social/products/dyb/dyb_2021/', 'table': 'Table 14 - Legally induced abortions by age and number of previous live births of women latest available year, 2012-2021', 'description': ' Age is defined as age at last birthday, that is, the difference between the date of birth and the date of the occurrence of the event, expressed in complete solar years. The age classification used in this table is the following under 15 years, 5-year age groups through 45-49 years and 50 years and over.  Except where otherwise indicated, eight categories are used in classifying the number of previous live births 0 through 5, 6 or more live births, and, if required, number of live births unknown.    Information on abortion policies is collected by the United Nations Population Division and published in the Abortion Policies and Reproductive Health around the World1.   ', 'JobType': 'JSON', 'CleanPush': True, 'Server': 'str', 'UseJsonFormatForSQL': False, 'CleanReplace': True, 'MergeSchema': False, 'tags': [{'name': 'FOETAL MORTALITY'}], 'additional_data_sources': [{'name': ''}], 'limitations': ' With regard to the collection of information on abortions, a variety of sources are used, but hospital records are the most common source of information.  This implies that most cases that have no contact with hospitals are missed.  Data from other sources are probably also incomplete.  The data in the present table are limited to legally induced abortions, which, by their nature, might be assumed to be more complete than data on all induced abortions.   In addition, deficiencies in the reporting of age and number of previous live births of the woman, differences in the method used for obtaining the age of the woman, and the proportion of abortions for which age or previous live births of the woman are unknown must all be taken into account in using these data.  ', 'concept': ' Unlike data on live births and foetal deaths, which are generally collected through systems of vital registration, data on abortion are collected from a variety of sources.  Because of this, the quality specification on the completeness of civil registers, which is presented for other tables, does not appear here.  ', 'periodicity': '', 'topic': 'Table 14 - Demographic Yearbook 2021    Table 14 presents legally induced abortions by age and number of previous live births of women for the latest available year between 2012 and 2021.  ', 'created': '', 'last_modified': '', 'TriggerTalend': False, 'SavePathForJsonOutput': ''}}\n"
     ]
    },
    {
     "name": "stderr",
     "output_type": "stream",
     "text": [
      "INFO:root:Conversion successful - Table 15 - Infant deaths and infant mortality rates, by urban or rural residence 2017-2021 \n"
     ]
    },
    {
     "name": "stdout",
     "output_type": "stream",
     "text": [
      "{'JobPath': 'c:\\\\Users\\\\10235555\\\\Documents\\\\DataportalCrawlers\\\\UN_Data\\\\test_demobook\\\\Table 15 - Infant deaths and infant mortality rates, by urban or rural residence 2017-2021.xlsx', 'JsonDetails': {'organisation': 'un-agencies', 'source': 'UNSTATS', 'source_description': 'The Demographic Yearbook 2021 is the seventy-second issue in a series published by the United Nations since 1948. It contains tables on a wide range of demographic statistics, including a world summary of selected demographic statistics, statistics on the size, distribution and trends in national populations,fertility, foetal mortality, infant and maternal mortality, general mortality, nuptiality and divorce. Data are shown by urban/rural residence, as available. The volume provides Technical Notes, a synoptic table, a historical index and a listing of the issues of the Demographic Yearbook published to date. This issue of Demographic Yearbook contains data as available including reference year 2021.', 'source_url': 'https://unstats.un.org/unsd/demographic-social/products/dyb/dyb_2021/', 'table': 'Table 15 - Infant deaths and infant mortality rates, by urban or rural residence 2017-2021', 'description': ' Infant deaths are deaths of live-born infants under one year of age.    Statistics on the number of infant deaths are obtained from civil registers unless otherwise noted.  Infant mortality rates are, in most instances, calculated from data on registered infant deaths and registered live births for a country or area where civil registration is considered reliable (that is, with an estimated completeness of 90 per cent or more).     The urban/rural classification of infant deaths is that provided by each reporting country or area; it is presumed to be based on the national census definitions of urban population that have been set forth at the end of the technical notes of table 6.    Rate computation Infant mortality rates are the annual number of deaths of infants under one year of age per 1 000 live births (as shown in table 9) in the same year.  Rates by urban/rural residence are the annual number of infant deaths, in the appropriate urban or rural category, per 1 000 corresponding live births (as shown in table 9). These rates have been calculated by the United Nations Statistics Division.  Rates presented in this table have been limited to those countries or areas having at least a total of 30 infant deaths in a given year and for which the quality code is represented by a “C” or a symbol “|”.  ', 'JobType': 'JSON', 'CleanPush': True, 'Server': 'str', 'UseJsonFormatForSQL': False, 'CleanReplace': True, 'MergeSchema': False, 'tags': [{'name': 'INFANT AND MATERNAL MORTALITY'}], 'additional_data_sources': [{'name': ''}], 'limitations': '  Statistics on infant deaths are subject to the same qualifications as have been set forth for vital statistics and particularly for death statistics discussed in section 4 of the Technical Notes.    The reliability of the data, an indication of which is described above, is an important factor in considering the limitations. In addition, some infant deaths are tabulated by date of registration and not by date of occurrence; these have been indicated by a plus sign “+”. Whenever the lag between the date of occurrence and date of registration is prolonged and, therefore, a large proportion of the infant-death registrations are delayed, infant-death statistics for any given year may be seriously affected.    Another factor that limits international comparability is the practice of some countries or areas not to include in infant-death statistics infants who were born alive but died before the registration of the birth or within the first 24 hours of life, thus underestimating the total number of infant deaths. Statistics of this type are footnoted.    The method of reckoning age at death for infants may also introduce non-comparability. If year alone, rather than completed minutes, hours, days and months elapsed since birth, is used to calculate age at time of death, many of the infants who died during the eleventh month of life and some of those who died at younger ages will be classified as having completed one year of age and thus be excluded.  The effect would be to underestimate the number of infant deaths.  Information on this factor is given in footnotes when known.  Reckoning of infant age is further discussed in the technical notes for table 16.    In addition, infant mortality rates are subject to the limitations of the data on live births that have been used as denominators for these rates. These have been set forth in the technical notes for table 9.    435    Because the two components of the infant mortality rate, infant deaths in the numerator and live births in the denominator, are both obtained from systems of civil registration, the limitations which affect live birth statistics are very similar to those which have been mentioned above in connection with the infant death statistics. It is important to consider the reliability of the data (the completeness of registration) and the method of tabulation (by date of occurrence or by date of registration) of live birth statistics as well as infant death statistics, both of which are used to calculate infant mortality rates. The quality code and use of italics to indicate unreliable data presented in this table refer only to infant deaths.  Similarly, the indication of the basis of tabulation (the use of the symbol “+” to indicate data tabulated by date of registration) presented in this table also refers only to infant deaths. Table 9 provides the corresponding information for live births.  If the registration of infant deaths is more complete than the registration of live births, then infant mortality rates would be biased upwards.  If, however, the registration of live births is more complete than registration of infant deaths, infant mortality rates would be biased downwards.    Infant mortality rates may be seriously affected by the practice of some countries or areas of not considering infants that were born alive but died before the registration of the birth or within the first 24 hours of life as live birth and subsequently infant death.  Although this practice results in both the number of infant deaths in the numerator and the number of live births in the denominator being underestimated, its impact is greater on the numerator of the infant mortality rate. As a result, this practice causes infant mortality rates to be biased downwards.  Infant mortality rates will also be underestimated if the method of reckoning age at death results in an underestimation of the number of infant deaths. This point has been discussed above.    Because of all these factors care should be taken in comparing infant mortality rates.           With respect to the method of calculating infant mortality rates used in this table, it should be noted that no adjustment was made to take account of the fact that a proportion of the infant deaths that occur during a given year are deaths of infants that were born during the preceding year and hence are not taken from the universe of births used to compute the rates.  However, unless the number of live births or infant deaths is changing rapidly, the error involved is insignificant.    The comparability of data by urban/rural residence is affected by the national definitions of urban and rural used in tabulating these data.  It is assumed, in the absence of specific information to the contrary, that the definitions of urban and rural used in connection with the national population census were also used in the compilation of the vital statistics for each country or area. However, it cannot be denied that, for some countries or areas, different definitions of urban and rural may be used for the vital statistics data and the population census data respectively. When known, the definitions of urban used in national population censuses are presented at the end of the technical notes for table 6. As discussed in detail in the technical notes for table 6, these definitions vary considerably from one country or area to another.    Urban/rural differentials in infant mortality rates may also be affected by whether the infant deaths and live births have been tabulated in terms of place of occurrence or place of usual residence. This problem is discussed in more detail in section 4.1.4.1 of the Technical Notes.          ', 'concept': ' Each country or area has been asked to indicate the estimated completeness of the infant deaths recorded in its civil register. These national assessments are indicated by the quality codes “C”, “U” and “|” that appear in the first column of this table.    “C” indicates that the data are estimated to be virtually complete, that is, representing at least 90 per cent of the infant deaths occurring each year, while “U” indicates that data are estimated to be incomplete that is, representing less than 90 per cent of the infant deaths occurring each year. The code “|” indicates that the source of data is not civil registration, but it is still considered reliable. The code “…” indicates that no information was provided regarding completeness.    Data from civil registers that are reported as incomplete or of unknown completeness (coded “U” or “...”) are considered unreliable. They appear in italics in this table; rates are not computed for data so coded.     ', 'periodicity': '', 'topic': 'Table 15 - Demographic Yearbook 2021       Table 15 presents infant deaths and infant mortality rates by urban/rural residence for as many years as possible between 2017 and 2021.  ', 'created': '', 'last_modified': '', 'TriggerTalend': False, 'SavePathForJsonOutput': ''}}\n"
     ]
    },
    {
     "name": "stderr",
     "output_type": "stream",
     "text": [
      "INFO:root:Conversion successful - Table 16 - Infant deaths and infant mortality rates by age and sex, latest available year 2012-2021 \n"
     ]
    },
    {
     "name": "stdout",
     "output_type": "stream",
     "text": [
      "{'JobPath': 'c:\\\\Users\\\\10235555\\\\Documents\\\\DataportalCrawlers\\\\UN_Data\\\\test_demobook\\\\Table 16 - Infant deaths and infant mortality rates by age and sex, latest available year 2012-2021.xlsx', 'JsonDetails': {'organisation': 'un-agencies', 'source': 'UNSTATS', 'source_description': 'The Demographic Yearbook 2021 is the seventy-second issue in a series published by the United Nations since 1948. It contains tables on a wide range of demographic statistics, including a world summary of selected demographic statistics, statistics on the size, distribution and trends in national populations,fertility, foetal mortality, infant and maternal mortality, general mortality, nuptiality and divorce. Data are shown by urban/rural residence, as available. The volume provides Technical Notes, a synoptic table, a historical index and a listing of the issues of the Demographic Yearbook published to date. This issue of Demographic Yearbook contains data as available including reference year 2021.', 'source_url': 'https://unstats.un.org/unsd/demographic-social/products/dyb/dyb_2021/', 'table': 'Table 16 - Infant deaths and infant mortality rates by age and sex, latest available year 2012-2021', 'description': ' Age is defined as hours, days and months of life completed, based on the difference between the hour, day, month and year of birth and the hour, day, month and year of death. The age classification used in this table is as follows Main categories are “under 1 day”, “1-6 days”, “7-27 days” and “28 days – 11 months”.  Additional subcategories are shown within “7-27 days” and “28 days to 11 months” wherever available.  Rate computation Infant mortality rates by age and sex are the annual number of infant deaths that occurred in a specific age-sex group per 1 000 live births of the corresponding sex. These rates have been calculated by the United Nations Statistics Division. The denominator for all these rates, regardless of age of infant at death, is the total number of live births by sex.  Infant deaths of unknown age are included only in the rate for under one year of age. Infant deaths of unknown sex are included in the rate for the total and, hence, these rates, should agree with the infant mortality rates shown in table 15. Discrepancies are explained in footnotes.  Rates presented in this table have been limited to those countries or areas having at least a total of 100 deaths in a given year.  Moreover, rates specific for individual sub-categories based on 30 or fewer infant deaths are identified by the symbol “♦”.  ', 'JobType': 'JSON', 'CleanPush': True, 'Server': 'str', 'UseJsonFormatForSQL': False, 'CleanReplace': True, 'MergeSchema': False, 'tags': [{'name': 'INFANT AND MATERNAL MORTALITY'}], 'additional_data_sources': [{'name': ''}], 'limitations': ' Statistics on infant deaths by age and sex are subject to the same qualifications as have been set forth for vital statistics and particularly for death statistics discussed in section 4 of the Technical Notes.  The reliability of the data, an indication of which is described above, is an important factor in considering the limitations. In addition, some infant deaths are tabulated by date of registration and not by date of occurrence; these have been indicated by a plus sign “+”. Whenever the lag between the date of occurrence and date of registration is prolonged and, therefore, a large proportion of the infant-death registrations are delayed, infant-death statistics for any given year may be seriously affected.  Another factor that limits international comparability is the practice of some countries or areas of not including in infant-death statistics infants who were born alive but died before the registration of the birth or within the first 24 hours of life, thus underestimating the total number of infant deaths. Statistics of this type are footnoted. In this table, this practice may contribute to the lack of comparability among deaths under one year, under 28 days, under one week and under one day.  Variation in the method of reckoning age at the time of death may also introduce non-comparability.  Although it is to some degree a limiting factor throughout the age span, it is an especially important consideration with respect to deaths at ages under one day, under one week (early neonatal deaths) and under 28 days (neonatal deaths). As noted above, the recommended method of reckoning infant age at death is to calculate duration of life in minutes, hours and days, as appropriate.  This gives age in completed units of time. In some countries or areas, however, infant age is calculated to the nearest day only, that is, age at death for an infant is the difference between the day, month and year of birth and the day, month and year of death. The result of this procedure is to classify as deaths at age one day, many deaths of infants that occurred before the infants had completed 24 hours of life. The under-one-day class is thus understated while the frequency in the 1-6-day age group is inflated.  A special limitation on comparability of neonatal (under 28 days) deaths is the variation in the classification of infant age used. Some countries or areas continue to report infant age in calendar, rather than lunar month (4-week or 28-day) periods. This failure to tabulate infant deaths under 4 weeks of age in terms of completed days introduces another source of variation between countries or areas. Deaths 449 classified as occurring under one month usually connote deaths within any one calendar month; these frequencies are not strictly comparable with those referring to deaths within 4 weeks or 27 completed days.    In addition, infant mortality rates by age and sex are subject to the limitations of the data on live births with which they have been calculated. These have been set forth in the technical notes for table 9. These limitations have also been discussed in the technical notes for table 15.  In addition, it should be noted that infant mortality rates by age are affected by the problems related to the practice of excluding infants who were born alive but died before the registration of the birth or within the first 24 hours of life from both infant-death and live-birth statistics and the problems related to the reckoning of infant age at death. These factors, which have been described above, may affect certain age groups more than others. In so far as the numbers of infant deaths for the various age groups are underestimated or overestimated,  the  corresponding  rates  for  the  various  age  groups  will  also  be  underestimated  or overestimated. The youngest age groups are more likely to be underestimated than other age groups; the youngest age group (under one day) is likely to be the most seriously affected.  ', 'concept': ' Data from civil registers of infant deaths which are reported as incomplete (less than 90 percent completeness) or of unknown completeness are considered unreliable and are set in italics rather than in roman type. Rates on these data are not computed. Table 15 and its technical notes provide more detailed information on the completeness of infant death registration. For more information about the quality of vital statistics, and the information available on their completeness, see section 4.2 of the Technical Notes.  ', 'periodicity': '', 'topic': 'Table 16 - Demographic Yearbook 2021      Table 16 presents infant deaths and infant mortality rates by age and sex for latest available year between 2012 and 2021.  ', 'created': '', 'last_modified': '', 'TriggerTalend': False, 'SavePathForJsonOutput': ''}}\n"
     ]
    },
    {
     "name": "stderr",
     "output_type": "stream",
     "text": [
      "INFO:root:Conversion successful - Table 17 - Maternal deaths and maternal mortality ratios 2011-2020 \n"
     ]
    },
    {
     "name": "stdout",
     "output_type": "stream",
     "text": [
      "{'JobPath': 'c:\\\\Users\\\\10235555\\\\Documents\\\\DataportalCrawlers\\\\UN_Data\\\\test_demobook\\\\Table 17 - Maternal deaths and maternal mortality ratios 2011-2020.xlsx', 'JsonDetails': {'organisation': 'un-agencies', 'source': 'UNSTATS', 'source_description': 'The Demographic Yearbook 2021 is the seventy-second issue in a series published by the United Nations since 1948. It contains tables on a wide range of demographic statistics, including a world summary of selected demographic statistics, statistics on the size, distribution and trends in national populations,fertility, foetal mortality, infant and maternal mortality, general mortality, nuptiality and divorce. Data are shown by urban/rural residence, as available. The volume provides Technical Notes, a synoptic table, a historical index and a listing of the issues of the Demographic Yearbook published to date. This issue of Demographic Yearbook contains data as available including reference year 2021.', 'source_url': 'https://unstats.un.org/unsd/demographic-social/products/dyb/dyb_2021/', 'table': 'Table 17 - Maternal deaths and maternal mortality ratios 2011-2020', 'description': ' Maternal deaths are defined for the purposes of the Demographic Yearbook as those caused by deliveries and complications of pregnancy, childbirth and the puerperium, within 42 days of termination of pregnancy. They are usually defined as deaths coded “38-41” for ICD-9 Basic Tabulation List or as deaths coded “A34”, “O00-O95”, “O98-O99” for ICD-10, respectively. However, data for ICD-10 shown in this table include deaths due to \"O96\" and \"O97\" which refer to deaths from any obstetric cause occurring more than 42 days but less than one year after delivery and death from sequelae of direct obstetric causes occurring one year or more after delivery.     For further information on the definition of maternal mortality from the tenth revisions of the International Statistical Classification of Diseases and Related Health Problems1, see also section 4.3 of the Technical Notes.  Statistics on maternal death presented in this table are provided by the World Health Organisation. They are limited to countries or areas that meet the criterion that cause-of-death statistics are either classified by or convertible to the ninth or tenth revisions mentioned above. Data that are classified by the tenth revision are set in bold in the table.    Ratios computation Maternal mortality ratios are the annual number of maternal deaths per 100 000 live births (table 9) in the same year. These ratios have been calculated by the Statistics Division of the United Nations Department of Economic and Social Affairs. If maternal mortality data are considered incomplete, or if live birth data for the year are not available, no ratio has been calculated. Ratios based on 30 or fewer maternal deaths are identified by the symbol “♦”.       ', 'JobType': 'JSON', 'CleanPush': True, 'Server': 'str', 'UseJsonFormatForSQL': False, 'CleanReplace': True, 'MergeSchema': False, 'tags': [{'name': 'INFANT AND MATERNAL MORTALITY'}], 'additional_data_sources': [{'name': ''}], 'limitations': ' Statistics on maternal deaths are subject to the same qualifications that have been set forth for vital statistics in general and death statistics in particular as discussed in section 4 of the Technical Notes.  The reliability of the data, an indication of which is described above, is an important factor in considering the limitations.  In addition, maternal-death statistics are subject to all the qualifications relating to cause-of-death statistics. These have been set forth in section 4 of the Technical Notes.     Maternal mortality ratios are subject to the limitations of the data on live births with which they have been calculated. These have been set forth in the technical notes for table 9. Specific information pertaining to individual countries or areas is given in the footnotes to table 9.  The calculation of the maternal mortality ratios based on the total number of live births approximates the risk of dying from complications of pregnancy, childbirth or puerperium. Ideally this rate should be based on the number of women exposed to the risk of pregnancy, in other words, the number of women conceiving.  Since it is impossible to know how many women have conceived, the total number of live births is used in calculating this rate.    ', 'concept': ' Countries and areas that have incomplete (less than 90 per cent completeness) or of unknown completeness of cause of deaths data coverage are considered to provide unreliable data, which are set in italics rather than in roman type.  Ratios on these data are not computed. Information on completeness is normally provided by the World Health Organisation. When this is not the case, information on completeness is set to coincide with that of table 18. The reliability of data for the completeness of cause of death provided by the World Health Organisation2 may differ from the reliability of data for the total number of reported deaths. Therefore, there are cases when the quality code in table 18 does not correspond with the typeface used in this table.     Territorial composition, as set in Section 2.2 of “Technical Notes on the Statistical Tables”, including or excluding certain population of a country, refers only to the denominator.    ', 'periodicity': '', 'topic': 'Table 17 - Demographic Yearbook 2021  Table 17 presents maternal deaths and maternal mortality ratios for as many years available between 2011 and 2020.  ', 'created': '', 'last_modified': '', 'TriggerTalend': False, 'SavePathForJsonOutput': ''}}\n"
     ]
    },
    {
     "name": "stderr",
     "output_type": "stream",
     "text": [
      "INFO:root:Conversion successful - Table 18 - Deaths and crude death rates, by urban or rural residence 2017-2021 \n"
     ]
    },
    {
     "name": "stdout",
     "output_type": "stream",
     "text": [
      "{'JobPath': 'c:\\\\Users\\\\10235555\\\\Documents\\\\DataportalCrawlers\\\\UN_Data\\\\test_demobook\\\\Table 18 - Deaths and crude death rates, by urban or rural residence 2017-2021.xlsx', 'JsonDetails': {'organisation': 'un-agencies', 'source': 'UNSTATS', 'source_description': 'The Demographic Yearbook 2021 is the seventy-second issue in a series published by the United Nations since 1948. It contains tables on a wide range of demographic statistics, including a world summary of selected demographic statistics, statistics on the size, distribution and trends in national populations,fertility, foetal mortality, infant and maternal mortality, general mortality, nuptiality and divorce. Data are shown by urban/rural residence, as available. The volume provides Technical Notes, a synoptic table, a historical index and a listing of the issues of the Demographic Yearbook published to date. This issue of Demographic Yearbook contains data as available including reference year 2021.', 'source_url': 'https://unstats.un.org/unsd/demographic-social/products/dyb/dyb_2021/', 'table': 'Table 18 - Deaths and crude death rates, by urban or rural residence 2017-2021', 'description': '  Death is defined as the permanent disappearance of all evidence of life at any time after live birth has taken place (post-natal cessation of vital functions without capability of resuscitation).    Statistics on the number of deaths are obtained from civil registers unless otherwise noted.  For those countries  or  areas  where  civil  registration  statistics  on  deaths  are  considered  reliable  (estimated completeness of 90 per cent or more), the death rates shown have been calculated on the basis of registered deaths.    The urban/rural classification of deaths is that provided by each country or area; it is presumed to be based on the national census definitions of urban population that have been set forth at the end of the technical notes for table 6.  For certain countries, there is a discrepancy between the total number of deaths shown in this table and those shown in subsequent tables for the same year. Usually this discrepancy arises because the total number of deaths occurring in a given year is revised although the remaining tabulations are not.   Rate computation  Crude death rates are the annual number of deaths per 1 000 mid-year population.  Rates by urban/rural residence are the annual number of deaths, in the appropriate urban or rural category, per 1 000 corresponding mid-year population. These rates are calculated by the Statistics Division of the United Nations based on the appropriate reference population (for example total population, nationals only etc.) if known and available. If the reference population is not known or unavailable, the total population is used to calculate the rates. Therefore, if the population that is used to calculate the rates is different from the correct reference population, the rates presented might under- or overstate the true situation in a country or area.  Rates presented in this table are limited to those countries or areas with a minimum number of 30 deaths in a given year.   ', 'JobType': 'JSON', 'CleanPush': True, 'Server': 'str', 'UseJsonFormatForSQL': False, 'CleanReplace': True, 'MergeSchema': False, 'tags': [{'name': 'GENERAL MORTALITY'}], 'additional_data_sources': [{'name': ''}], 'limitations': '  Statistics on deaths are subject to the same qualifications as have been set forth for vital statistics and particularly for death statistics discussed in section 4 of the Technical Notes.  The reliability of the data, an indication of which is described above, is an important factor in considering the limitations. In addition, some deaths are tabulated by date of registration and not by date of occurrence; these have been indicated with a plus sign “+”.  Whenever the lag between the date of occurrence and date of registration is prolonged and, therefore, a large proportion of the death registrations are delayed, death statistics for any given year may be seriously affected. However, delays in the registration of deaths are less common and shorter than in the registration of live births.  International comparability in mortality statistics may also be affected by the exclusion of deaths of infants who were born alive but died before the registration of the birth or within the first 24 hours of life.  Statistics of this type are footnoted.  495 In addition, it should be noted that rates are affected also by the quality and limitations of the population estimates that are used in their computation.  The problems of under-enumeration or over-enumeration and, to some extent, the differences in definition of total population have been discussed in section 3 of the Technical  Notes  dealing  generally  with  population  data.  Specific  information  pertaining  to  individual countries or areas is given in the footnotes to table 3.    It should be emphasized that crude death rates -- like other crude rates, such as of birth, marriage and divorce -- may be seriously affected by the age-sex structure of the populations to which they relate.  Nevertheless, they do provide a simple measure of the level and changes in mortality.  The comparability of data by urban/rural residence is affected by the national definitions of urban and rural used in tabulating these data.  It is assumed, in the absence of specific information to the contrary, that the definitions of urban and rural used in connection with the national population census were also used in the compilation of the vital statistics for each country or area.  However, it cannot be excluded that, for a given country or area, different definitions of urban and rural are used for the vital statistics data and the population census data respectively.  When known, the definitions of urban used in national population censuses are presented at the end of the technical notes for table 6.  As discussed in detail in the technical notes for table 6, these definitions vary considerably from one country or area to another.  ', 'concept': '  Each country or area has been asked to indicate the estimated completeness of the deaths recorded in its civil register.  These national assessments are indicated by the quality codes “C”, “U” and “|” that appear in the first column of this table. “C” indicates that the data are estimated to be virtually complete, that is, representing at least 90 per cent of the deaths occurring each year, while “U” indicates that data are estimated to be incomplete that is, representing less than 90 per cent of the deaths occurring each year.  The code “|” indicates that the source of data is different than civil registration and is explained by a footnote.  The  code  “...”  indicates  that  no  information  was  provided  regarding  completeness  or  no assessment has been done in the country.  Data from civil registers that are reported as incomplete or of unknown completeness (code “U” or “...”) are considered unreliable. They appear in italics in this table; rates based on these data are not computed.  ', 'periodicity': '', 'topic': 'Table 18 - Demographic Yearbook 2021       Table 18 presents deaths and crude death rates by urban/rural residence for as many years as possible between 2017 and 2021.  ', 'created': '', 'last_modified': '', 'TriggerTalend': False, 'SavePathForJsonOutput': ''}}\n"
     ]
    },
    {
     "name": "stderr",
     "output_type": "stream",
     "text": [
      "INFO:root:Conversion successful - Table 19 -  Deaths by age and sex, age-specific death rates by sex latest available year, 2012 - 2021 \n"
     ]
    },
    {
     "name": "stdout",
     "output_type": "stream",
     "text": [
      "{'JobPath': 'c:\\\\Users\\\\10235555\\\\Documents\\\\DataportalCrawlers\\\\UN_Data\\\\test_demobook\\\\Table 19 -  Deaths by age and sex, age-specific death rates by sex latest available year, 2012 - 2021.xlsx', 'JsonDetails': {'organisation': 'un-agencies', 'source': 'UNSTATS', 'source_description': 'The Demographic Yearbook 2021 is the seventy-second issue in a series published by the United Nations since 1948. It contains tables on a wide range of demographic statistics, including a world summary of selected demographic statistics, statistics on the size, distribution and trends in national populations,fertility, foetal mortality, infant and maternal mortality, general mortality, nuptiality and divorce. Data are shown by urban/rural residence, as available. The volume provides Technical Notes, a synoptic table, a historical index and a listing of the issues of the Demographic Yearbook published to date. This issue of Demographic Yearbook contains data as available including reference year 2021.', 'source_url': 'https://unstats.un.org/unsd/demographic-social/products/dyb/dyb_2021/', 'table': 'Table 19 -  Deaths by age and sex, age-specific death rates by sex latest available year, 2012 - 2021', 'description': '  Age is defined as age at last birthday, that is, the difference between the date of birth and the date of the occurrence of the event, expressed in completed solar years. The age classification used in this table is the following  under 1 year, 1-4 years, 5-year age groups through 95-99 years, and 100 years or over.  Rate computation Age-specific death rates by sex are the annual number of deaths in each age-sex group per 1 000 population in the same age-sex group. These rates are calculated by the United Nations Statistics Division.    Deaths at unknown age and the population of unknown age are excluded from age-specific rate calculations but are part of the death rate for all ages combined.  Death rates for infants under one year of age in this table differ from the infant mortality rates shown elsewhere, because the latter are computed per 1 000 live births rather than per 1 000 population.  The population used in computing the rates is the estimated or the enumerated population by age and sex reported to United Nations Statistics Division.  First priority is given to an estimate and second priority to census returns of the year to which the deaths refer.   Rates presented in this table have been limited to those countries or areas having at least a total of 100 deaths in a given year.  Moreover, rates specific for individual sub-categories that are based on 30 or fewer deaths are identified by the symbol “♦”.  ', 'JobType': 'JSON', 'CleanPush': True, 'Server': 'str', 'UseJsonFormatForSQL': False, 'CleanReplace': True, 'MergeSchema': False, 'tags': [{'name': 'GENERAL MORTALITY'}], 'additional_data_sources': [{'name': ''}], 'limitations': '  Statistics on deaths by age and sex are subject to the same qualifications as are set forth for vital statistics and particularly for death statistics discussed in section 4 of the Technical Notes.    The reliability of the data is an important factor in considering the limitations. In addition, some deaths are tabulated by date of registration and not by date of occurrence; these have been indicated by a plus sign “+”.  Whenever the lag between the date of occurrence and date of registration is prolonged and, therefore, a large proportion of the death registrations are delayed, death statistics for any given year may be seriously affected. However, delays in the registration of deaths are less common and shorter than in the registration of live births.      International comparability in mortality statistics may also be affected by the exclusion of deaths of infants who were born alive but died before the registration of the birth or within the first 24 hours of life.  Statistics of this type are footnoted.  Because these statistics are classified according to age, they are subject to the limitations with respect to accuracy of age reporting similar to those already discussed in connection with section 3.1.3 of the Technical Notes.  The factors influencing the accuracy of reporting may be somewhat dissimilar in vital statistics (because of the differences in the method of taking a census and registering a death) but, in general, the same errors can be observed.  The absence of data in the unknown age group does not necessarily indicate completely accurate reporting and tabulation of the age item.  It is often an indication that the unknowns have been eliminated by assigning ages to them before tabulation, or by proportionate distribution after tabulation.     510   International comparability of statistics on deaths by age is also affected by the use of different methods to determine age at death. If age is obtained from an item that simply requests age at death in completed years or is derived from information on year of birth and death rather than from information on complete date (day, month and year) of birth and death, the number of deaths classified in the under-one-year age group will tend to be reduced and the number of deaths in the next age group will tend to be somewhat increased. A similar bias may affect other age groups but its impact is usually negligible.  Information on this factor is given in the footnotes when known.    ', 'concept': '  Data from civil registers of deaths that are reported as incomplete (less than 90 per cent completeness) or of unknown completeness are considered unreliable and are set in italics rather than in roman type.  Table 18 and the technical notes for that table provide more detailed information on the completeness of death registration.  For more information about the quality of vital statistics data in general and the information available on the basis of the completeness estimates in particular, see section 4.2 of the Technical Notes.  Rates are not computed if data from civil registers of deaths are reported as incomplete (less than 90 per cent completeness) or of unknown completeness, and therefore deemed unreliable.    ', 'periodicity': '', 'topic': 'Table 19 - Demographic Yearbook 2021       Table 19 presents deaths by age and sex and age-specific death rates by sex for the latest available year between 2012 and 2021.      ', 'created': '', 'last_modified': '', 'TriggerTalend': False, 'SavePathForJsonOutput': ''}}\n"
     ]
    },
    {
     "name": "stderr",
     "output_type": "stream",
     "text": [
      "INFO:root:Conversion successful - Table 20 - Death and death rates by cause and sex 2016 - 2020 \n"
     ]
    },
    {
     "name": "stdout",
     "output_type": "stream",
     "text": [
      "{'JobPath': 'c:\\\\Users\\\\10235555\\\\Documents\\\\DataportalCrawlers\\\\UN_Data\\\\test_demobook\\\\Table 20 - Death and death rates by cause and sex 2016 - 2020.xlsx', 'JsonDetails': {'organisation': 'un-agencies', 'source': 'UNSTATS', 'source_description': 'The Demographic Yearbook 2021 is the seventy-second issue in a series published by the United Nations since 1948. It contains tables on a wide range of demographic statistics, including a world summary of selected demographic statistics, statistics on the size, distribution and trends in national populations,fertility, foetal mortality, infant and maternal mortality, general mortality, nuptiality and divorce. Data are shown by urban/rural residence, as available. The volume provides Technical Notes, a synoptic table, a historical index and a listing of the issues of the Demographic Yearbook published to date. This issue of Demographic Yearbook contains data as available including reference year 2021.', 'source_url': 'https://unstats.un.org/unsd/demographic-social/products/dyb/dyb_2021/', 'table': 'Table 20 - Death and death rates by cause and sex 2016 - 2020', 'description': '  Causes of death are all those diseases, morbid conditions or injuries which either resulted in or contributed to death and the circumstances of the accident or violence which produced any such injuries.1  The underlying cause of death, rather than direct or intermediate antecedent cause, is the one recommended as the main cause for tabulation of mortality statistics.  It is defined as (a) the disease or injury which initiated the train of events leading directly to death, or (b) the circumstances of the accident or violence which produced the fatal injury.1   Statistics on deaths by cause presented in this table are provided by the World Health Organisation. They are limited to countries or areas that meet the criterion that cause-of-death statistics are classified to the ninth or tenth revisions of the International Classification of Diseases (ICD-9 or ICD-10).  Data that are classified by the tenth revision are set in bold in the table.  Rate computation Rates are the annual number of deaths in each cause group by sex reported for the year per 100 000 corresponding mid-year population.  For certain causes, the population that more nearly approximates the population at risk is used as denominator, as specified below  -  rates for malignant neoplasm of female breast and malignant neoplasm of cervix uteri are computed per 100 000 female population 15 years and over;  -  rates for hyperplasia of prostate are computed per 100 000 male population 50 years and over; and  -  rates for direct and indirect obstetric causes, and rates for conditions originating in the perinatal period are computed per 100 000 total live births in the same year.       Rates presented in this table have been limited to those countries or areas having a total of at least 1 000 deaths from all causes in a given year.  In certain cases, death rates by cause have not been calculated because the population data needed for the denominator are not available (no data on population at risk are available). Moreover, rates based on 30 or fewer deaths shown in this table are identified by the symbol (♦).  ', 'JobType': 'JSON', 'CleanPush': True, 'Server': 'str', 'UseJsonFormatForSQL': False, 'CleanReplace': True, 'MergeSchema': False, 'tags': [{'name': 'GENERAL MORTALITY'}], 'additional_data_sources': [{'name': ''}], 'limitations': '  Statistics on deaths by cause are subject to the same qualifications as have been set forth for vital statistics in general and death statistics in particular as discussed in section 4 of the Technical Notes.  In considering cause-of-death statistics it is important to take account of the differences among countries or areas in the quality, availability, and efficiency of medical services, certification procedures, and coding practices. When a death is registered and reported for statistical purposes, the cause of death if available will be stated in the death registration form.  This statement of cause may have several sources  (1) If the death has been followed by an autopsy, presumably the \"true\" cause will have been discovered; (2) If an autopsy is not performed but the decedent was treated prior to death by a medical attendant, the reported cause of death will reflect the opinion of that physician based on observation of the patient while he or she was alive; and (3) If, on the other hand, the decedent has died without medical attendance, the body  NOTES  1 International Statistical Classification of Diseases and Related Health Problems, Tenth Revision, Volume 2, World Health Organization, Geneva, 1992    573 may be examined  (without autopsy) by a physician who, aided by the questioning of persons who saw the patient before death, may come to a decision as to the probable cause of death.  These three possible sources of information on cause of death constitute in general three degrees of decreasing accuracy in reporting.  Serious difficulties of comparability may stem also from differences in the form of death certificate being used, an increasing tendency to enter more than one cause of death on the certificate and diversity in the principles by which the primary or underlying cause is selected for statistical use when more than one is entered.  Differences in terminology used to identify the same disease also result in lack of comparability in statistics.  These differences may arise in the same language in various parts of one country or area, but they are particularly troublesome between different languages.     Coding problems, and problems in interpretation of rules, arise constantly in using the various revisions of the International Statistical Classification of Diseases and Related Health Problems.  Lack of uniformity between countries or areas in these interpretations and in adapting rules to national needs, results in a lack of comparability that can be observed in the statistics. It is particularly evident in causes that are coded differently according to the age of the decedent, such as pneumonia, diarrhoeal diseases and others.  Changing interpretations and new rules can also introduce disparities into the time series for one country or area.  Hence, large increases or decreases in deaths reported from specified diseases should be examined carefully for possible explanations in terms of coding practice, before they are accepted as changes in mortality.  Further limitations of statistics by cause of death result from the periodic revision of the International Classification of Diseases. Data might not be comparable among countries or areas if different revisions of the Classification were used. Similarly, comparison over time for one country or area is not appropriate if different revisions were applied in the country. For a correspondence between ICD-10 and ICD-9, please see table 20-1 below.   In  addition  to  the  qualifications  explained  in  footnotes,  particular  care  must  be  taken  in  using distributions with relatively large numbers of deaths attributed to ill-defined causes.  Large frequencies in this category may indicate that cause of death among whole segments of the population has been undiagnosed, and the distribution of known causes in such cases is likely to be quite unrepresentative of the situation as a whole.  The possibility of error being introduced by the exclusion of deaths of infants who were born alive but died before the registration of the birth or within the first 24 hours of life should not be overlooked.  These infant deaths are incorrectly classified as late foetal deaths.  In several countries or areas, tabulation procedures have been devised to separate these pseudo-late-foetal deaths from true late foetal deaths and to incorporate them into the total deaths, but even in these cases there is no way of knowing the cause of death.  In addition, it should be noted that rates are affected also by the quality and limitations of the population at risk that are used in their computation.  The problems of under-enumeration or over-enumeration and, to some extent, the differences in definition of population and live births have been discussed in section 3 of the Technical Notes dealing with population data in general and section 4 with vital statistics, respectively, Specific information pertaining to individual countries or areas is given in the footnotes to table 3 on total population and to table 9 on live births.  ', 'concept': '  Countries and areas that have incomplete (less than 90 per cent completeness) or of unknown completeness of cause of deaths data coverage are considered unreliable and are set in italics rather than in roman type.  Rates on these data are not computed. Information on completeness is normally provided by the World Health Organisation, when this is not the case, information on completeness is set to coincide with that of Table 18. Similarly, the reliability of data for the completeness of cause of death is provided by the World Health Organisation and it may differ from the reliability of data for the total number of reported deaths. Therefore, there are cases when the quality code in table 18 does not correspond with the typeface used in this table.   Territorial composition as set in Section 2.2 of “Technical Notes on the Statistical Tables”, including or excluding certain population of a country refers only to the denominator.  ', 'periodicity': '', 'topic': 'Table 20 – Demographic Yearbook 2021  Table 20 presents deaths and death rates by cause and sex for the two latest available years between 2016 and 2020.   ', 'created': '', 'last_modified': '', 'TriggerTalend': False, 'SavePathForJsonOutput': ''}}\n"
     ]
    },
    {
     "name": "stderr",
     "output_type": "stream",
     "text": [
      "INFO:root:Conversion successful - Table 21 - Probability of dying in the five year interval following specified age (5qx), by sex latest available year, 2002 - 2021 \n"
     ]
    },
    {
     "name": "stdout",
     "output_type": "stream",
     "text": [
      "{'JobPath': 'c:\\\\Users\\\\10235555\\\\Documents\\\\DataportalCrawlers\\\\UN_Data\\\\test_demobook\\\\Table 21 - Probability of dying in the five year interval following specified age (5qx), by sex latest available year, 2002 - 2021.xlsx', 'JsonDetails': {'organisation': 'un-agencies', 'source': 'UNSTATS', 'source_description': 'The Demographic Yearbook 2021 is the seventy-second issue in a series published by the United Nations since 1948. It contains tables on a wide range of demographic statistics, including a world summary of selected demographic statistics, statistics on the size, distribution and trends in national populations,fertility, foetal mortality, infant and maternal mortality, general mortality, nuptiality and divorce. Data are shown by urban/rural residence, as available. The volume provides Technical Notes, a synoptic table, a historical index and a listing of the issues of the Demographic Yearbook published to date. This issue of Demographic Yearbook contains data as available including reference year 2021.', 'source_url': 'https://unstats.un.org/unsd/demographic-social/products/dyb/dyb_2021/', 'table': 'Table 21 - Probability of dying in the five year interval following specified age (5qx), by sex latest available year, 2002 - 2021', 'description': ' table is a statistical device for summarizing the mortality experience of a population, from which the probability of dying, survivorship and expectation of life can be calculated. It is based on the assumption that the theoretical cohort is subject, throughout its existence, to the age-specific mortality rates observed at a particular time. Thus, levels of mortality prevailing at the time a life table is constructed are assumed to remain unchanged into the future until all members of the cohort have died. ', 'JobType': 'JSON', 'CleanPush': True, 'Server': 'str', 'UseJsonFormatForSQL': False, 'CleanReplace': True, 'MergeSchema': False, 'tags': [{'name': 'GENERAL MORTALITY'}], 'additional_data_sources': [{'name': ''}], 'limitations': '  The life tables’ probabilities of dying are subject to the same qualifications as have been set forth for population statistics in general and death statistics in particular, as discussed in sections 3 and 4, respectively, of the Technical Notes.  They must be interpreted strictly using the underlying assumption that surviving cohorts are subjected to the same age-specific mortality rates of the period to which the life table refers. ', 'concept': '  The values shown in this table are derived from official complete life tables.  It is assumed that, if necessary, the basic data (population and deaths classified by age and sex) have been adjusted for deficiencies before their use in constructing the complete life tables. ', 'periodicity': '', 'topic': 'Table 21 - Demographic Yearbook 2021   Table 21 presents the life tables’ probabilities of dying in the five year interval following specified ages ( 5qx ), for each sex, for the latest available year between 2002 and 2021. The probabilities are multiplied by a thousand, that is, the values presented in the table are 1000*5qx. Male and female probabilities of dying are shown separately for selected ages beginning at birth and proceeding at every fifth age thereafter up to age 100. The values presented in the table are derived by the United Nations Statistics Division from the official complete life tables reported by the countries or areas.   Data  are  shown  with  one  decimal  regardless  of  the  number  of  digits  provided  in  the  original computation.  ', 'created': '', 'last_modified': '', 'TriggerTalend': False, 'SavePathForJsonOutput': ''}}\n"
     ]
    },
    {
     "name": "stderr",
     "output_type": "stream",
     "text": [
      "INFO:root:Conversion successful - Table 22 - Life expectancy at specified ages for each sex latest available year, 2002-2021 \n"
     ]
    },
    {
     "name": "stdout",
     "output_type": "stream",
     "text": [
      "{'JobPath': 'c:\\\\Users\\\\10235555\\\\Documents\\\\DataportalCrawlers\\\\UN_Data\\\\test_demobook\\\\Table 22 - Life expectancy at specified ages for each sex latest available year, 2002-2021.xlsx', 'JsonDetails': {'organisation': 'un-agencies', 'source': 'UNSTATS', 'source_description': 'The Demographic Yearbook 2021 is the seventy-second issue in a series published by the United Nations since 1948. It contains tables on a wide range of demographic statistics, including a world summary of selected demographic statistics, statistics on the size, distribution and trends in national populations,fertility, foetal mortality, infant and maternal mortality, general mortality, nuptiality and divorce. Data are shown by urban/rural residence, as available. The volume provides Technical Notes, a synoptic table, a historical index and a listing of the issues of the Demographic Yearbook published to date. This issue of Demographic Yearbook contains data as available including reference year 2021.', 'source_url': 'https://unstats.un.org/unsd/demographic-social/products/dyb/dyb_2021/', 'table': 'Table 22 - Life expectancy at specified ages for each sex latest available year, 2002-2021', 'description': '  Life expectancy at age x, ex, is defined as the average number of years of life remaining to persons who have reached age x if they continue to be subject to the mortality conditions of the period indicated in the life table.  Male and female life expectancy values are shown separately at selected ages beginning at birth and proceeding at every fifth age thereafter up to age 100.  The table shows life expectancy derived from a complete or abridged life table as reported by the country or area.    Data  are  shown  with  one  decimal  regardless  of  the  number  of  digits  provided  in  the  original computation.   The life table is a statistical device for summarizing the mortality experience of a population, from which the probability of dying, survivorship and life expectancy can be calculated. It is based on the assumption that the theoretical cohort is subject, throughout its existence, to the age-specific mortality rates observed at a particular time period. Thus, levels of mortality prevailing at the time a life table is constructed are assumed to remain unchanged into the future until all members of the cohort have died.  ', 'JobType': 'JSON', 'CleanPush': True, 'Server': 'str', 'UseJsonFormatForSQL': False, 'CleanReplace': True, 'MergeSchema': False, 'tags': [{'name': 'GENERAL MORTALITY'}], 'additional_data_sources': [{'name': ''}], 'limitations': '  Life expectancy values are subject to the same qualifications as have been set forth for population  statistics  in  general and  death  statistics  in  particular,  as discussed  in  sections  3  and  4, respectively, of the Technical Notes.  They must be interpreted strictly using the underlying assumption that surviving cohorts are subjected to the same age-specific mortality rates of the period to which the life table refers.  ', 'concept': '  The values shown in this table come from official life tables.  It is assumed that, if necessary, the basic data (population and deaths classified by age and sex) have been adjusted for deficiencies before their use in constructing the life tables.  ', 'periodicity': '', 'topic': 'Table 22 - Demographic Yearbook 2021 ,         Table 22 presents life expectancy at specified ages for each sex, for the latest available year between 2002 and 2021.  ', 'created': '', 'last_modified': '', 'TriggerTalend': False, 'SavePathForJsonOutput': ''}}\n"
     ]
    },
    {
     "name": "stderr",
     "output_type": "stream",
     "text": [
      "INFO:root:Conversion successful - Table 23 - Marriages and crude marriage rates, by urban or rural residence 2017-2021 \n"
     ]
    },
    {
     "name": "stdout",
     "output_type": "stream",
     "text": [
      "{'JobPath': 'c:\\\\Users\\\\10235555\\\\Documents\\\\DataportalCrawlers\\\\UN_Data\\\\test_demobook\\\\Table 23 - Marriages and crude marriage rates, by urban or rural residence 2017-2021.xlsx', 'JsonDetails': {'organisation': 'un-agencies', 'source': 'UNSTATS', 'source_description': 'The Demographic Yearbook 2021 is the seventy-second issue in a series published by the United Nations since 1948. It contains tables on a wide range of demographic statistics, including a world summary of selected demographic statistics, statistics on the size, distribution and trends in national populations,fertility, foetal mortality, infant and maternal mortality, general mortality, nuptiality and divorce. Data are shown by urban/rural residence, as available. The volume provides Technical Notes, a synoptic table, a historical index and a listing of the issues of the Demographic Yearbook published to date. This issue of Demographic Yearbook contains data as available including reference year 2021.', 'source_url': 'https://unstats.un.org/unsd/demographic-social/products/dyb/dyb_2021/', 'table': 'Table 23 - Marriages and crude marriage rates, by urban or rural residence 2017-2021', 'description': '  Marriage is defined as the act, ceremony or process by which the legal relationship of spouses is constituted.  The legality of the union may be established by civil, religious or other means as recognized by the laws of each country1.    Marriage statistics in this table, therefore, include both first marriages and remarriages after divorce, widowhood or annulment.  They do not, unless otherwise noted, include resumption of marriage ties after legal separation.  These statistics refer to the number of marriages performed, and not to the number of persons marrying.  Statistics shown are obtained from civil registers of marriage.  Exceptions, such as data from church registers, are identified in footnotes.    The urban/rural classification of marriages is that provided by each country or area; it is presumed to be based on the national census definitions of urban population which have been set forth at the end of the notes for table 6.  For certain countries, there is a discrepancy between the total number of marriages shown in this table and those shown in subsequent tables for the same year. Usually this discrepancy arises because the total number of marriages occurring in a given year is revised although the remaining tabulations are not.   Rate computation  Crude marriage rates are the annual number of marriages per 1 000 mid-year population. Rates by urban/rural residence are the annual number of marriages, in the appropriate urban or rural category, per 1 000 corresponding mid-year population.  Rates presented in this table have been limited to those for countries or areas having at least a total of 30 marriages in a given year.  These rates are calculated by the Statistics Division of the United Nations based on the appropriate reference population (for example total population, nationals only, etc.) if known and available. If the reference population is not known or unavailable the total population is used to calculate the rates. Therefore, if the population that is used to calculate the rates is different from the correct reference population, the rates presented might under- or overstate the true situation in a country or area.  ', 'JobType': 'JSON', 'CleanPush': True, 'Server': 'str', 'UseJsonFormatForSQL': False, 'CleanReplace': True, 'MergeSchema': False, 'tags': [{'name': 'NUPTIALITY'}], 'additional_data_sources': [{'name': ''}], 'limitations': '  Statistics on marriages are subject to the same qualifications that have been set forth for vital statistics in general and marriage statistics in particular as discussed in section 4 of the Technical Notes.    The fact that marriage is a legal event, unlike birth and death that are biological events, has implications for international comparability of data.  Marriage has been defined, for statistical purposes, in terms of the laws of individual countries or areas.  These laws vary throughout the world.  In addition, comparability is further limited because some countries or areas compile statistics only for civil marriages although religious marriages may also be legally recognized; in other countries or areas, the only available records are church registers and, therefore, the statistics may not reflect marriages that are civil marriages only.         768 Because in many countries or areas marriage is a civil legal contract which, to establish its legality, must be celebrated before a civil officer, it follows that for these countries or areas registration would tend to be almost automatic at the time of, or immediately following, the marriage ceremony.  This factor should be kept in mind when considering the reliability of data, described above. For this reason the practice of tabulating data by date of registration does not generally pose serious problems of comparability as it does in the case of birth and death statistics.  As indicators of family formation, the statistics on the number of marriages presented in this table are bound to be deficient to the extent that they do not include either customary unions, which are not registered even though they are considered legal and binding under customary law, or consensual unions (also known as extra-legal or de facto unions).   In general, lower marriage rates over a period of years are an indication of higher incidence of customary or consensual unions.      In addition, rates are affected also by the quality and limitations of the population estimates that are used in their computation. The problems of under-enumeration or over-enumeration and, to some extent, the differences in definition of total population have been discussed in section 3 of the Technical Notes dealing with population data in general, and specific information pertaining to individual countries or areas is given in the footnotes to table 3.    Strict correspondence between the numerator of the rate and the denominator is not always obtained; for example, marriages among civilian and military segments of the population may be related to civilian population.  The effect of this may be to increase the rates, but, in most cases, this effect is negligible.  It should be emphasized that crude marriage rates like crude birth, death and divorce rates, may be seriously affected by the age-sex-marital structure of the population to which they relate. Crude marriage rates do, however, provide a simple measure of the level and changes in marriage.  The comparability of data by urban/rural residence is affected by the national definitions of urban and rural used in tabulating these data.  It is assumed, in the absence of specific information to the contrary, that the definitions of urban and rural used in connection with the national population census were also used in the compilation of the vital statistics for each country or area.  However, it cannot be excluded that, for a given country or area, different definitions of urban and rural are used for the vital statistics data and the population census data respectively.  When known, the definitions of urban in national population censuses are presented at the end of the technical notes for table 6.  As discussed in detail in the notes, these definitions vary considerably from one country or area to another.  In addition to problems of comparability, marriage rates classified by urban/rural residence are also subject to certain special types of bias.  If, when calculating marriage rates, different definitions of urban are used in connection with the vital events and the population data, and if this results in a net difference between the numerator and denominator of the rate in the population at risk, then the marriage rates would be biased.  Urban/rural differentials in marriage rates may also be affected by whether the vital events have been tabulated in terms of place of occurrence or place of usual residence.  This problem is discussed in more detail in section 4.1.4.1 of the Technical Notes.  ', 'concept': '  Each country or area has been asked to indicate the estimated completeness of the number of marriages recorded in its civil register.  These national assessments are indicated by the quality codes “C” and “U” that appear in the first column of this table.       “C” indicates that the data are estimated to be virtually complete, that is, representing at least 90 per cent of the marriages occurring each year, while “U” indicates that data are estimated to be incomplete, that is representing less than 90 per cent of the marriages occurring each year. The code “...” indicates that no information was provided regarding completeness.    Data from civil registers which are reported as incomplete or of unknown completeness (coded “U” or “...” ) are considered unreliable. They appear in italics in this table; rates are not computed for these data.     These quality codes apply only to data from civil registers. For more information about the quality of vital statistics data in general, see section 4.2 of the Technical Notes.  ', 'periodicity': '', 'topic': 'Table 23 - Demographic Yearbook 2021      Table 23 presents the number of marriages and crude marriage rates by urban/rural residence for every year with available data between 2017 and 2021.  ', 'created': '', 'last_modified': '', 'TriggerTalend': False, 'SavePathForJsonOutput': ''}}\n"
     ]
    },
    {
     "name": "stderr",
     "output_type": "stream",
     "text": [
      "INFO:root:Conversion successful - Table 24 - Marriages by age of groom and by age of bride latest available year, 2012-2021 \n"
     ]
    },
    {
     "name": "stdout",
     "output_type": "stream",
     "text": [
      "{'JobPath': 'c:\\\\Users\\\\10235555\\\\Documents\\\\DataportalCrawlers\\\\UN_Data\\\\test_demobook\\\\Table 24 - Marriages by age of groom and by age of bride latest available year, 2012-2021.xlsx', 'JsonDetails': {'organisation': 'un-agencies', 'source': 'UNSTATS', 'source_description': 'The Demographic Yearbook 2021 is the seventy-second issue in a series published by the United Nations since 1948. It contains tables on a wide range of demographic statistics, including a world summary of selected demographic statistics, statistics on the size, distribution and trends in national populations,fertility, foetal mortality, infant and maternal mortality, general mortality, nuptiality and divorce. Data are shown by urban/rural residence, as available. The volume provides Technical Notes, a synoptic table, a historical index and a listing of the issues of the Demographic Yearbook published to date. This issue of Demographic Yearbook contains data as available including reference year 2021.', 'source_url': 'https://unstats.un.org/unsd/demographic-social/products/dyb/dyb_2021/', 'table': 'Table 24 - Marriages by age of groom and by age of bride latest available year, 2012-2021', 'description': '  Marriage is defined as the act, ceremony or process by which the legal relationship of spouses is constituted.  The legality of the union may be established by civil, religious or other means as recognized by the laws of each country1.    Marriage statistics in this table, therefore, include both first marriages and remarriages after divorce, widowhood or annulment.  They do not, unless otherwise noted, include resumption of marriage ties after legal separation.  These statistics refer to the number of marriages performed, and not to the number of persons marrying.    Age is defined as age at last birthday, that is, the difference between the date of birth and the date of the occurrence of the event, expressed in completed solar years.  The age classification used for brides in this table is the following under 15 years, 5-year age groups through 90-94, and 95 years and over, depending on the availability of data. Age classification for grooms is restricted to under 15 years, 5-year age groups from 15 to 59, and 60 years and over.    In an effort to provide interpretation of these statistics, countries or areas providing data on marriages by age of groom and bride have been requested to specify \"the minimum legal age at which marriage can take place with and without parental consent\".  This information is presented in the table 24-1 below.   ', 'JobType': 'JSON', 'CleanPush': True, 'Server': 'str', 'UseJsonFormatForSQL': False, 'CleanReplace': True, 'MergeSchema': False, 'tags': [{'name': 'NUPTIALITY'}], 'additional_data_sources': [{'name': ''}], 'limitations': ' Statistics on marriages by age of groom and age of bride are subject to the same qualifications as have been set forth for vital statistics in general and marriage statistics in particular as discussed in Section 4 of the Technical Notes.  The fact that marriage is a legal event, unlike birth and death that are biological events, has implications for international comparability of data.  Marriage has been defined, for statistical purposes, in terms of the laws of individual countries or areas.  These laws vary throughout the world.  In addition, comparability is further limited because some countries or areas compile statistics only for civil marriages although religious marriages may also be legally recognized; in other countries or areas, the only available records are church registers and, therefore, the statistics may not reflect marriages that are civil marriages only.  Because in many countries or areas marriage is a civil legal contract which, to establish its legality, must be celebrated before a civil officer, it follows that for these countries or areas registration would tend to be almost automatic at the time of, or immediately following, the marriage ceremony.  This factor should be kept in mind when considering the reliability of data, described above.        Because these statistics are classified according to age, they are subject to the limitations with respect to accuracy of age reporting similar to those already discussed in connection with Section 3.1.3 of the Technical Notes.   It is probable that biases are less pronounced in marriage statistics, because information is obtained from the persons concerned and since marriage is a legal act, the participants are likely to give correct information.  However, in some countries or areas, there appears to be a concentration of marriages at the legal minimum age for marriage and at the age at which valid marriage may be contracted without parental consent, indicating perhaps an overstatement in some cases to comply with the law.  Aside from the possibility of age misreporting, it should be noted that marriage patterns at younger ages, that is, for ages up to 24 years, are influenced to a large extent by laws regarding the minimum age for marriage.  Factors that may influence age reporting, particularly at older ages include an inclination to understate the age of the bride in order that it may be equal to or less than that of the groom.     782 The absence of data in the unknown age group does not necessarily indicate completely accurate reporting and tabulation of the age item.  It is sometimes an indication that the unknowns have been eliminated by assigning ages to them before tabulation, or by proportionate distribution after tabulation.  Another age-reporting factor that must be kept in mind in using these data is the variation that may result from calculating age at marriage from year of birth rather than from day, month and year of birth.  Information on this factor is given in footnotes when known.  ', 'concept': ' Data from civil registers of marriages that are reported as incomplete (less than 90 per cent completeness) or of unknown completeness are considered unreliable and are set in italics rather than in roman type.  Table 22 and the technical notes for that table provide more detailed information on the completeness of marriage registration. For more information about the quality of vital statistics data in general, see Section 4.2 of the Technical Notes.  ', 'periodicity': '', 'topic': 'Table 24 - Demographic Yearbook 2021     Table 24 presents the marriages cross-classified by age of groom and age of bride for the latest available year between 2012 and 2021.  ', 'created': '', 'last_modified': '', 'TriggerTalend': False, 'SavePathForJsonOutput': ''}}\n"
     ]
    },
    {
     "name": "stderr",
     "output_type": "stream",
     "text": [
      "INFO:root:Conversion successful - Table 25 - Divorces and crude divorce rates, by urban or rural residence 2017-2021 \n"
     ]
    },
    {
     "name": "stdout",
     "output_type": "stream",
     "text": [
      "{'JobPath': 'c:\\\\Users\\\\10235555\\\\Documents\\\\DataportalCrawlers\\\\UN_Data\\\\test_demobook\\\\Table 25 - Divorces and crude divorce rates, by urban or rural residence 2017-2021.xlsx', 'JsonDetails': {'organisation': 'un-agencies', 'source': 'UNSTATS', 'source_description': 'The Demographic Yearbook 2021 is the seventy-second issue in a series published by the United Nations since 1948. It contains tables on a wide range of demographic statistics, including a world summary of selected demographic statistics, statistics on the size, distribution and trends in national populations,fertility, foetal mortality, infant and maternal mortality, general mortality, nuptiality and divorce. Data are shown by urban/rural residence, as available. The volume provides Technical Notes, a synoptic table, a historical index and a listing of the issues of the Demographic Yearbook published to date. This issue of Demographic Yearbook contains data as available including reference year 2021.', 'source_url': 'https://unstats.un.org/unsd/demographic-social/products/dyb/dyb_2021/', 'table': 'Table 25 - Divorces and crude divorce rates, by urban or rural residence 2017-2021', 'description': '  Divorce is defined as a final legal dissolution of a marriage, that is, the separation of husband and wife which confers on the parties the right to remarriage under civil, religious and/or other provisions, according to the laws of each country1.  Unless otherwise noted, divorce statistics exclude legal separations that do not allow remarriage. These statistics refer to the number of divorces granted, and not to the number of persons divorcing.  Divorce statistics are obtained from court records and/or civil registers according to national practice.  The actual compilation of these statistics may be the responsibility of the civil registrar, the national statistical office or other government offices.    The urban/rural classification of divorces is that provided by each country or area; it is presumed to be based on the national census definitions of urban population, which have been set forth at the end of the technical notes for table 6.  Rate computation  Crude divorce rates by urban/rural residence are the annual number of divorces per 1 000 mid-year population.  Rates presented in this table have been limited to those countries or areas having at least a total of 30 divorces in a given year.  These rates are calculated by the Statistics Division of the United Nations based on the appropriate reference population (for example total population, nationals only etc.) if known and available. If the reference population is not known or unavailable, the total population is used to calculate the rates. Therefore, if the population that is used to calculate the rates is different from the correct reference population, the rates presented might under- or overstate the true situation in a country or area.  ', 'JobType': 'JSON', 'CleanPush': True, 'Server': 'str', 'UseJsonFormatForSQL': False, 'CleanReplace': True, 'MergeSchema': False, 'tags': [{'name': 'DIVORCE'}], 'additional_data_sources': [{'name': ''}], 'limitations': '  Statistics on divorces are subject to the same qualifications as have been set forth for vital statistics in general and divorce statistics in particular as discussed in section 4 of the Technical Notes.  Divorce, like marriage, is a legal event, and this has implications for international comparability of data.  Divorce has been defined, for statistical purposes, in terms of the laws of individual countries or areas.  The laws pertaining to divorce vary considerably from one country or area to another.  This variation in the legal provision for divorce also affects the incidence of divorce, which is relatively low in countries or areas where divorce decrees are difficult to obtain.  Since divorces are granted by courts and statistics on divorce refer to the actual divorce decree, effective as of the date of the decree, marked year-to-year fluctuations may reflect court delays and clearances rather than trends in the incidence of divorce.  The comparability of divorce statistics may also be affected by tabulation procedures.  In some countries or areas annulments and/or legal separations may be included.  This practice is more common for countries or areas in which the number of divorces is small.  Information on this practice is given in the footnotes when known.  The registration of a divorce in many countries or areas is the responsibility solely of the court or the authority which granted it. Since the registration recording such cases is part of the records of the court proceedings, divorces are likely to be registered soon after the decree is granted. For this reason the    828 practice of tabulating data by date of registration does not generally pose serious problems of comparability as it does in the case of birth and death statistics.  As noted briefly above, the incidence of divorce is affected by the relative ease or difficulty of obtaining a divorce according to the laws of individual countries or areas.  The incidence of divorce is also affected by the ability of individuals to meet financial and other costs of the court procedures.  Connected with this aspect is the influence of certain religious faiths on the incidence of divorce.  For all these reasons, divorce statistics are not strictly comparable as measures of family dissolution by legal means.  Furthermore, family dissolution by other than legal means, such as separation, is not measured in statistics for divorce.  For certain countries or areas there is or was no legal provision for divorce in the sense used here, and therefore no data for these countries or areas appear in this table.  In addition, it should be noted that rates are affected also by the quality and limitations of the population estimates that are used in their computation.  The problems of under-enumeration or over-enumeration, and to some extent, the differences in definition of total population, have been discussed in section 3 of the Technical Notes dealing with population data in general, and specific information pertaining to individual countries or areas is given in the footnotes to table 3.    As will be seen from the footnotes, strict correspondence between the numerator of the rate and the denominator is not always obtained; for example, divorces among civilian plus military segments of the population may be related to civilian population only.  The effect of this may be to increase the rates but, in most cases, the effect is negligible.  As  mentioned  above,  data  for  some  countries  or  areas  may  include  annulments  and/or  legal separations.  This practice affects the comparability of the crude divorce rates.  For example, inclusion of annulments in the numerator of the rates produces a negligible effect on the rates, but inclusion of legal separations may have a measurable effect on the level.  It should be emphasized that crude divorce rates like crude birth, death and marriage rates may be seriously affected by age-sex structure of the populations to which they relate.  Like crude marriage rates, they are also affected by the existing distribution of the population by marital status.  Nevertheless, crude divorce rates provide a simple measure of the level and changes in divorces.  The comparability of data by urban/rural residence is affected by the national definitions of urban and rural used in tabulating these data.  It is assumed, in the absence of specific information to the contrary, that the definitions of urban and rural used in connection with the national population census were also used in the compilation of the vital statistics for each country or area.  However, it cannot be excluded that, for a given country or area, different definitions of urban and rural are used for the vital statistics data and the population census data respectively.  When known, the definitions of urban in national population censuses are presented at the end of the technical notes for table 6.  As discussed in detail in the notes, these definitions vary considerably from one country or area to another.  In addition to problems of comparability, divorce rates classified by urban/rural residence are also subject to certain special types of bias.  If, when calculating divorce rates, different definitions of urban are used in connection with the vital events and the population data, and if this results in a net difference between the numerator and denominator of the rate in the population at risk, then the divorce rates would be biased.  Urban/rural differentials in divorce rates may also be affected by whether the vital events have been tabulated in terms of place of occurrence or place of usual residence.  This problem is discussed in more detail in section 4.1.4.1 of the Technical Notes.  ', 'concept': '  Each country or area has been asked to indicate the estimated completeness of the divorces recorded in its civil register.  These national assessments are indicated by the quality codes “C” and “U” that appear in the first column of this table.  “C” indicates that the data are estimated to be virtually complete, that is, representing at least 90 per cent of the divorces that occur each year, while “U” indicates that data are estimated to be incomplete, that is, representing less than 90 per cent of the divorces occurring each year.  The code “...” indicates that no information was provided regarding completeness.  Data from civil registers that are reported as incomplete or of unknown completeness (coded “U” or “...”) are considered unreliable.  They appear in italics in this table and the rates were not computed on data so coded. These quality codes apply only to data from civil registers.  For more information about the quality of vital statistics data in general, see section 4.2 of the Technical Notes.  ', 'periodicity': '', 'topic': 'Table 25 - Demographic Yearbook 2021  Table 25 presents the number of divorces and crude divorce rates for as many years as possible between 2017 and 2021.  ', 'created': '', 'last_modified': '', 'TriggerTalend': False, 'SavePathForJsonOutput': ''}}\n"
     ]
    }
   ],
   "source": [
    "for i in index:\n",
    "    url = \"https://unstats.un.org\"\n",
    "    parent_node = soup.find(class_ = 'sub1')\n",
    "    child_node = parent_node.find_all('li')[i]\n",
    "    files = child_node.find('ul',{'class':'leaf'})\n",
    "    #top =child_node.find_all(\"li\")[files.index(files)].text\n",
    "    tags = child_node.text.partition('\\r')[0]\n",
    "    table = files.find_all('li')\n",
    "    for t in table:\n",
    "        title = t.text.partition('\\n')[0].replace('/', ' or ').replace('\\t',' ').replace(':','')\n",
    "        link_xls = t.find_all('a')[1]['href']\n",
    "        link_xls = str(url) + link_xls\n",
    "        link_pdf = t.find_all('a')[2]['href']\n",
    "        link_pdf = str(url) + link_pdf\n",
    "        conten = []\n",
    "        urllib.request.urlretrieve(link_xls,f\"{base_path}\\\\{title}.xls\")\n",
    "        try:\n",
    "            urllib.request.urlretrieve(link_pdf,f\"{base_path}\\\\{title}.pdf\")\n",
    "        except:\n",
    "            pass\n",
    "\n",
    "\n",
    "        BodyDict = {\n",
    "            \"JobPath\":\"\", #* Point to downloaded data for conversion #\n",
    "            \"JsonDetails\":{\n",
    "                    ## Required\n",
    "                    \"organisation\": \"un-agencies\",\n",
    "                    \"source\": \"UNSTATS\",\n",
    "                    \"source_description\" : \"The Demographic Yearbook 2021 is the seventy-second issue in a series published by the United Nations since 1948. It contains tables on a wide range of demographic statistics, including a world summary of selected demographic statistics, statistics on the size, distribution and trends in national populations,fertility, foetal mortality, infant and maternal mortality, general mortality, nuptiality and divorce. Data are shown by urban/rural residence, as available. The volume provides Technical Notes, a synoptic table, a historical index and a listing of the issues of the Demographic Yearbook published to date. This issue of Demographic Yearbook contains data as available including reference year 2021.\",\n",
    "                    \"source_url\" : \"https://unstats.un.org/unsd/demographic-social/products/dyb/dyb_2021/\",\n",
    "                    \"table\" : title,\n",
    "                    \"description\" : \"\",\n",
    "                    ## Optional\n",
    "                    \"JobType\": \"JSON\",\n",
    "                    \"CleanPush\": True,\n",
    "                    \"Server\": \"str\",\n",
    "                    \"UseJsonFormatForSQL\":  False,\n",
    "                    \"CleanReplace\":True,\n",
    "                    \"MergeSchema\": False,\n",
    "                    \"tags\": [{\n",
    "                        \"name\": tags\n",
    "                    }],\n",
    "                    \"additional_data_sources\": [{\n",
    "                        \"name\": \"\"\n",
    "                    }],\n",
    "                    \"limitations\":\"\",\n",
    "                    \"concept\":  \"\",\n",
    "                    \"periodicity\":  \"\",\n",
    "                    \"topic\":  \"\",\n",
    "                    \"created\": \"\",                       #* this should follow the following formats %Y-%m-%dT%H:%M:%S\" or \"%Y-%m-%d\"\n",
    "                    \"last_modified\": \"\",                #* \"\"               \"\"                  \"\"              \"\"\n",
    "                    \"TriggerTalend\" :  False,    #* initialise to True for production\n",
    "                    \"SavePathForJsonOutput\": \"\" #* initialise as empty string for production.\n",
    "                }\n",
    "            }\n",
    "        if title.startswith('Table 3a'):\n",
    "            colum = []\n",
    "            df = pd.read_excel(f'{base_path}\\\\{title}.xls')\n",
    "            title = 'Table 3a - Whipple s Index by sex and urban or rural residence, 1985-2021'\n",
    "            df.iloc[2:4] = df.iloc[2:4].fillna(method='ffill', axis=1)\n",
    "            df.iloc[2:4] = df.iloc[2:4].fillna('')\n",
    "            df.columns = df.iloc[2:4].apply(lambda x: ' - '.join(map(str,[y for y in x if y])), axis=0)\n",
    "            df = df.iloc[4:]\n",
    "            df = df.loc[:,~df.columns.duplicated()].copy()\n",
    "            list = df.columns.to_list()\n",
    "            for col in list:\n",
    "                colum.append(unidecode(col.replace('\\n',' \\n ')))\n",
    "            df.columns = colum\n",
    "            df.iloc[:,0] = df.iloc[:,0].str.encode('ascii', 'ignore').str.decode('ascii')\n",
    "            df.to_excel(f'{base_path}\\\\{title}.xlsx',index=False)\n",
    "\n",
    "            try:\n",
    "                BodyDict[\"JobPath\"] = f\"{base_path}\\\\{title}.xlsx\"\n",
    "                BodyDict[\"JsonDetails\"][\"table\"] = title\n",
    "                BodyDict[\"JsonDetails\"][\"description\"] = title\n",
    "                #TriggerInferShemaToJsonAPIClass = TriggerInferShemaToJsonAPI(BodyDict=BodyDict)\n",
    "                #TriggerInferShemaToJsonAPIClass.TriggerAPI()\n",
    "                logging.info(f\"Conversion successful - {title} \")\n",
    "                print(BodyDict)\n",
    "            except  Exception as err:\n",
    "                print(err)\n",
    "\n",
    "        elif title == 'Table 1 - Population, rate of increase, birth and death rates, surface area and density for the world, major areas and regions selected years':\n",
    "\n",
    "            colum = []\n",
    "            df = pd.read_excel(f'{base_path}\\\\{title}.xls')\n",
    "            df.iloc[2:4] = df.iloc[2:4].fillna(method='ffill', axis=1)\n",
    "            df.iloc[2:4] = df.iloc[2:4].fillna('')\n",
    "            df.columns = df.iloc[2:4].apply(lambda x: ' - '.join(map(str,[y for y in x if y])), axis=0)\n",
    "            df = df.iloc[4:]\n",
    "            df = df.loc[:,~df.columns.duplicated()].copy()\n",
    "            list = df.columns.to_list()\n",
    "            for col in list:\n",
    "                colum.append(unidecode(col.replace('\\n',' \\n ')))\n",
    "            df.columns = colum\n",
    "            df.iloc[:,0] = df.iloc[:,0].str.encode('ascii', 'ignore').str.decode('ascii')\n",
    "            df.to_excel(f'{base_path}\\\\{title}.xlsx',index=False)\n",
    "            with pdfplumber.open(f\"{base_path}\\\\{title}.pdf\") as pdf:\n",
    "\n",
    "                text = pdf.pages[0:2]\n",
    "                for te in text:\n",
    "                    content = te.extract_text()\n",
    "                    conten.append(content)\n",
    "            content_all = ' '.join([str(elem) for elem in conten])\n",
    "            meta_topic = content_all.split('Description of variables')[0].replace('\\n \\n \\n',',').replace('\\n','')\n",
    "            meta_descript =content_all.split('Description of variables')[1]\n",
    "            meta_description = meta_descript.split('Reliability of data')[0].replace('\\n','').replace('\\n \\n','').replace(':','')\n",
    "            concept = meta_descript.split('Reliability of data')[1].split('Limitations')[0].replace('\\n','').replace('\\n \\n','').replace(':','')\n",
    "            limitations = meta_descript.split('Limitations')[1].split('Composition of major areas and regions')[0].replace('\\n','').replace('\\n \\n','').replace(':','')\n",
    "\n",
    "            try:\n",
    "                BodyDict[\"JobPath\"] = f\"{base_path}\\\\{title}.xlsx\"\n",
    "                BodyDict[\"JsonDetails\"][\"table\"] = title\n",
    "                BodyDict[\"JsonDetails\"][\"description\"] = meta_description\n",
    "                BodyDict[\"JsonDetails\"][\"limitations\"] = limitations\n",
    "                BodyDict[\"JsonDetails\"][\"concept\"] = concept\n",
    "                BodyDict[\"JsonDetails\"][\"topic\"] = meta_topic\n",
    "                #TriggerInferShemaToJsonAPIClass = TriggerInferShemaToJsonAPI(BodyDict=BodyDict)\n",
    "                #TriggerInferShemaToJsonAPIClass.TriggerAPI()\n",
    "                logging.info(f\"Conversion successful - {title} \")\n",
    "                print(BodyDict)\n",
    "            except  Exception as err:\n",
    "                print(err)\n",
    "\n",
    "        elif title =='Table 2 - Estimates of population and its percentage distribution, by age and sex and sex ratio for all ages for the world, major areas and regions 2021':\n",
    "            colum = []\n",
    "            df = pd.read_excel(f'{base_path}\\\\{title}.xls')\n",
    "            df.iloc[2:5] = df.iloc[2:5].fillna(method='ffill', axis=1)\n",
    "            df.iloc[2:5] = df.iloc[2:5].fillna('')\n",
    "            df.columns = df.iloc[2:5].apply(lambda x: ' - '.join(map(str,[y for y in x if y])), axis=0)\n",
    "            df = df.iloc[5:]\n",
    "            df = df.loc[:,~df.columns.duplicated()].copy()\n",
    "            df.rename(columns={df.columns[13]: df.columns[13].replace(' - Female \\n Féminin - 65+','')},inplace=True)\n",
    "            list = df.columns.to_list()\n",
    "            for col in list:\n",
    "                colum.append(unidecode(col.replace('\\n',' \\n ')))\n",
    "            df.columns = colum\n",
    "            df.iloc[:,0] = df.iloc[:,0].str.encode('ascii', 'ignore').str.decode('ascii')\n",
    "            df.to_excel(f'{base_path}\\\\{title}.xlsx',index=False)\n",
    "            with pdfplumber.open(f\"{base_path}\\\\{title}.pdf\") as pdf:\n",
    "\n",
    "                text = pdf.pages[0:2]\n",
    "                for te in text:\n",
    "                    content = te.extract_text()\n",
    "                    conten.append(content)\n",
    "            content_all = ' '.join([str(elem) for elem in conten])\n",
    "            meta_topic = content_all.split('Description of  variables')[0].replace('\\n \\n \\n',',').replace('\\n','')\n",
    "            meta_descript =content_all.split('Description of  variables')[1]\n",
    "            meta_description = meta_descript.split('Reliability of data')[0].replace('\\n','').replace('\\n \\n','').replace(':','')\n",
    "            concept = meta_descript.split('Reliability of data')[1].split('Limitations')[0].replace('\\n','').replace('\\n \\n','').replace(':','')\n",
    "            limitations = meta_descript.split('Limitations')[1].split('1 United Nations,')[0].replace('\\n','').replace('\\n \\n','').replace(':','')\n",
    "\n",
    "            try:\n",
    "                BodyDict[\"JobPath\"] = f\"{base_path}\\\\{title}.xlsx\"\n",
    "                BodyDict[\"JsonDetails\"][\"table\"] = title\n",
    "                BodyDict[\"JsonDetails\"][\"description\"] = meta_description\n",
    "                BodyDict[\"JsonDetails\"][\"limitations\"] = limitations\n",
    "                BodyDict[\"JsonDetails\"][\"concept\"] = concept\n",
    "                BodyDict[\"JsonDetails\"][\"topic\"] = meta_topic\n",
    "                #TriggerInferShemaToJsonAPIClass = TriggerInferShemaToJsonAPI(BodyDict=BodyDict)\n",
    "                #TriggerInferShemaToJsonAPIClass.TriggerAPI()\n",
    "                logging.info(f\"Conversion successful - {title} \")\n",
    "                print(BodyDict)\n",
    "            except  Exception as err:\n",
    "                print(err)\n",
    "\n",
    "        elif title == 'Table 21 - Probability of dying in the five year interval following specified age (5qx), by sex latest available year, 2002 - 2021':\n",
    "\n",
    "            colum = []\n",
    "            df = pd.read_excel(f'{base_path}\\\\{title}.xls')\n",
    "            df.iloc[2:4] = df.iloc[2:4].fillna(method='ffill', axis=1)\n",
    "            df.iloc[2:4] = df.iloc[2:4].fillna('')\n",
    "            df.columns = df.iloc[2:4].apply(lambda x: ' - '.join(map(str,[y for y in x if y])), axis=0)\n",
    "            df = df.iloc[4:]\n",
    "            df = df.loc[:,~df.columns.duplicated()].copy()\n",
    "            list = df.columns.to_list()\n",
    "            for col in list:\n",
    "                colum.append(unidecode(col.replace('\\n',' \\n ')))\n",
    "            df.columns = colum\n",
    "            df.iloc[:,0] = df.iloc[:,0].str.encode('ascii', 'ignore').str.decode('ascii')\n",
    "            df.to_excel(f'{base_path}\\\\{title}.xlsx',index=False)\n",
    "            with pdfplumber.open(f\"{base_path}\\\\{title}.pdf\") as pdf:\n",
    "\n",
    "                text = pdf.pages[0:2]\n",
    "                for te in text:\n",
    "                    content = te.extract_text()\n",
    "                    conten.append(content)\n",
    "            content_all = ' '.join([str(elem) for elem in conten])\n",
    "\n",
    "            meta_topic = content_all.partition('\\nThe life')[0].replace('\\n','')\n",
    "            meta_description = content_all.partition('\\nThe life')[2].split('Reliability of data')[0].replace('\\n','').replace('\\n \\n','').replace(':','')\n",
    "            concept =  content_all.partition('\\nThe life')[2].split('Reliability of data')[1].split('Limitations')[0].replace('\\n','').replace('\\n \\n','').replace(':','')\n",
    "            limitations = content_all.partition('\\nThe life')[2].split('Reliability of data')[1].split('Limitations')[1].split('Earlier data')[0].replace('\\n','').replace('\\n \\n','').replace(':','')\n",
    "\n",
    "            try:\n",
    "                BodyDict[\"JobPath\"] = f\"{base_path}\\\\{title}.xlsx\"\n",
    "                BodyDict[\"JsonDetails\"][\"table\"] = title\n",
    "                BodyDict[\"JsonDetails\"][\"description\"] = meta_description\n",
    "                BodyDict[\"JsonDetails\"][\"limitations\"] = limitations\n",
    "                BodyDict[\"JsonDetails\"][\"concept\"] = concept\n",
    "                BodyDict[\"JsonDetails\"][\"topic\"] = meta_topic\n",
    "                #TriggerInferShemaToJsonAPIClass = TriggerInferShemaToJsonAPI(BodyDict=BodyDict)\n",
    "                #TriggerInferShemaToJsonAPIClass.TriggerAPI()\n",
    "                logging.info(f\"Conversion successful - {title} \")\n",
    "                print(BodyDict)\n",
    "            except  Exception as err:\n",
    "                print(err)\n",
    "\n",
    "        elif title == 'Table 3 - Population by sex, annual rate of population increase, surface area and density':\n",
    "            colum = []\n",
    "            df = pd.read_excel(f'{base_path}\\\\{title}.xls')\n",
    "            df.iloc[2:4] = df.iloc[2:4].fillna(method='ffill', axis=1)\n",
    "            df.iloc[2:4] = df.iloc[2:4].fillna('')\n",
    "            df.columns = df.iloc[2:4].apply(lambda x: ' - '.join(map(str,[y for y in x if y])), axis=0)\n",
    "            df = df.iloc[4:]\n",
    "            df = df.loc[:,~df.columns.duplicated()].copy()\n",
    "            list = df.columns.to_list()\n",
    "            for col in list:\n",
    "                colum.append(unidecode(col.replace('\\n',' \\n ')))\n",
    "            df.columns = colum\n",
    "            df.iloc[:,0] = df.iloc[:,0].str.encode('ascii', 'ignore').str.decode('ascii')\n",
    "            df.rename(columns={df.columns[5]: df.columns[5].replace(' - Female \\n Feminin','')},inplace=True)\n",
    "            df.rename(columns={df.columns[10]: df.columns[10].replace(' \\n 2021','')},inplace=True)\n",
    "            df.to_excel(f'{base_path}\\\\{title}.xlsx',index=False)\n",
    "            with pdfplumber.open(f\"{base_path}\\\\{title}.pdf\") as pdf:\n",
    "\n",
    "                text = pdf.pages[0:2]\n",
    "                for te in text:\n",
    "                    content = te.extract_text()\n",
    "                    conten.append(content)\n",
    "            content_all = ' '.join([str(elem) for elem in conten])\n",
    "            meta_topic = content_all.split('Description of variables')[0].replace('\\n \\n \\n',',').replace('\\n','')\n",
    "            meta_descript =content_all.split('Description of variables')[1]\n",
    "            meta_description = meta_descript.split('Reliability of data')[0].replace('\\n','').replace('\\n \\n','').replace(':','')\n",
    "            concept = meta_descript.split('Reliability of data')[1].split('Limitations')[0].replace('\\n','').replace('\\n \\n','').replace(':','')\n",
    "            limitations = meta_descript.split('Limitations')[1].split('Earlier data')[0].replace('\\n','').replace('\\n \\n','').replace(':','')\n",
    "\n",
    "            try:\n",
    "                BodyDict[\"JobPath\"] = f\"{base_path}\\\\{title}.xlsx\"\n",
    "                BodyDict[\"JsonDetails\"][\"table\"] = title\n",
    "                BodyDict[\"JsonDetails\"][\"description\"] = meta_description\n",
    "                BodyDict[\"JsonDetails\"][\"limitations\"] = limitations\n",
    "                BodyDict[\"JsonDetails\"][\"concept\"] = concept\n",
    "                BodyDict[\"JsonDetails\"][\"topic\"] = meta_topic\n",
    "                #TriggerInferShemaToJsonAPIClass = TriggerInferShemaToJsonAPI(BodyDict=BodyDict)\n",
    "                #TriggerInferShemaToJsonAPIClass.TriggerAPI()\n",
    "                logging.info(f\"Conversion successful - {title} \")\n",
    "                print(BodyDict)\n",
    "            except  Exception as err:\n",
    "                print(err)\n",
    "\n",
    "        elif title == 'Table 4 - Vital statistics summary and life expectancy at birth 2017-2021':\n",
    "            colum = []\n",
    "            df = pd.read_excel(f'{base_path}\\\\{title}.xls')\n",
    "            df.iloc[2:4] = df.iloc[2:4].fillna(method='ffill', axis=1)\n",
    "            df.iloc[2:4] = df.iloc[2:4].fillna('')\n",
    "            df.columns = df.iloc[2:4].apply(lambda x: ' - '.join(map(str,[y for y in x if y])), axis=0)\n",
    "            df = df.iloc[4:]\n",
    "            df = df.loc[:,~df.columns.duplicated()].copy()\n",
    "            list = df.columns.to_list()\n",
    "            for col in list:\n",
    "                colum.append(unidecode(col.replace('\\n',' \\n ')))\n",
    "            df.columns = colum\n",
    "            df.iloc[:,0] = df.iloc[:,0].str.encode('ascii', 'ignore').str.decode('ascii')\n",
    "            df.rename(columns={df.columns[7]: df.columns[7].replace(' - Crude death rate \\n Taux brut de mortalite','')},inplace=True)\n",
    "            df.rename(columns={df.columns[13]: df.columns[13].replace(' - Femaleb \\n Femininb','')},inplace=True)\n",
    "            df.to_excel(f'{base_path}\\\\{title}.xlsx',index=False)\n",
    "            with pdfplumber.open(f\"{base_path}\\\\{title}.pdf\") as pdf:\n",
    "\n",
    "                text = pdf.pages[0:2]\n",
    "                for te in text:\n",
    "                    content = te.extract_text()\n",
    "                    conten.append(content)\n",
    "            content_all = ' '.join([str(elem) for elem in conten])\n",
    "            meta_topic = content_all.split('Description of variables')[0].replace('\\n \\n \\n',',').replace('\\n','')\n",
    "            meta_descript =content_all.split('Description of variables')[1]\n",
    "            meta_description = meta_descript.split('Reliability of data')[0].replace('\\n','').replace('\\n \\n','').replace(':','')\n",
    "            concept = meta_descript.split('Reliability of data')[1].split('Limitations')[0].replace('\\n','').replace('\\n \\n','').replace(':','')\n",
    "            limitations = meta_descript.split('Limitations')[1].split('Earlier data')[0].replace('\\n','').replace('\\n \\n','').replace(':','')\n",
    "\n",
    "            try:\n",
    "                BodyDict[\"JobPath\"] = f\"{base_path}\\\\{title}.xlsx\"\n",
    "                BodyDict[\"JsonDetails\"][\"table\"] = title\n",
    "                BodyDict[\"JsonDetails\"][\"description\"] = meta_description\n",
    "                BodyDict[\"JsonDetails\"][\"limitations\"] = limitations\n",
    "                BodyDict[\"JsonDetails\"][\"concept\"] = concept\n",
    "                BodyDict[\"JsonDetails\"][\"topic\"] = meta_topic\n",
    "                #TriggerInferShemaToJsonAPIClass = TriggerInferShemaToJsonAPI(BodyDict=BodyDict)\n",
    "                #TriggerInferShemaToJsonAPIClass.TriggerAPI()\n",
    "                logging.info(f\"Conversion successful - {title} \")\n",
    "                print(BodyDict)\n",
    "            except  Exception as err:\n",
    "                print(err)\n",
    "\n",
    "\n",
    "        elif title == 'Table 10 - Live births by age of mother and sex of child, general and age-specific fertility rates latest available year, 2012-2021':\n",
    "            colum = []\n",
    "            df = pd.read_excel(f'{base_path}\\\\{title}.xls')\n",
    "            df.iloc[2:4] = df.iloc[2:4].fillna(method='ffill', axis=1)\n",
    "            df.iloc[2:4] = df.iloc[2:4].fillna('')\n",
    "            df.columns = df.iloc[2:4].apply(lambda x: ' - '.join(map(str,[y for y in x if y])), axis=0)\n",
    "            df = df.iloc[4:]\n",
    "            df = df.loc[:,~df.columns.duplicated()].copy()\n",
    "            list = df.columns.to_list()\n",
    "            for col in list:\n",
    "                colum.append(unidecode(col.replace('\\n',' \\n ')))\n",
    "            df.columns = colum\n",
    "            df.iloc[:,0] = df.iloc[:,0].str.encode('ascii', 'ignore').str.decode('ascii')\n",
    "            df.rename(columns={df.columns[4]: df.columns[4].replace(' - Female \\n Feminin','')},inplace=True)\n",
    "            df.to_excel(f'{base_path}\\\\{title}.xlsx',index=False)\n",
    "            with pdfplumber.open(f\"{base_path}\\\\{title}.pdf\") as pdf:\n",
    "\n",
    "                text = pdf.pages[0:2]\n",
    "                for te in text:\n",
    "                    content = te.extract_text()\n",
    "                    conten.append(content)\n",
    "            content_all = ' '.join([str(elem) for elem in conten])\n",
    "            meta_topic = content_all.split('Description of variables')[0].replace('\\n \\n \\n',',').replace('\\n','')\n",
    "            meta_descript =content_all.split('Description of variables')[1]\n",
    "            meta_description = meta_descript.split('Reliability of data')[0].replace('\\n','').replace('\\n \\n','').replace(':','')\n",
    "            concept = meta_descript.split('Reliability of data')[1].split('Limitations')[0].replace('\\n','').replace('\\n \\n','').replace(':','')\n",
    "            limitations = meta_descript.split('Limitations')[1].split('Earlier data')[0].replace('\\n','').replace('\\n \\n','').replace(':','')\n",
    "\n",
    "            try:\n",
    "                BodyDict[\"JobPath\"] = f\"{base_path}\\\\{title}.xlsx\"\n",
    "                BodyDict[\"JsonDetails\"][\"table\"] = title\n",
    "                BodyDict[\"JsonDetails\"][\"description\"] = meta_description\n",
    "                BodyDict[\"JsonDetails\"][\"limitations\"] = limitations\n",
    "                BodyDict[\"JsonDetails\"][\"concept\"] = concept\n",
    "                BodyDict[\"JsonDetails\"][\"topic\"] = meta_topic\n",
    "                #TriggerInferShemaToJsonAPIClass = TriggerInferShemaToJsonAPI(BodyDict=BodyDict)\n",
    "                #TriggerInferShemaToJsonAPIClass.TriggerAPI()\n",
    "                logging.info(f\"Conversion successful - {title} \")\n",
    "                print(BodyDict)\n",
    "            except  Exception as err:\n",
    "                print(err)\n",
    "\n",
    "        elif title == 'Table 11 - Live births and live birth rates by age of father latest available year, 2012-2021':\n",
    "            colum = []\n",
    "            df = pd.read_excel(f'{base_path}\\\\{title}.xls')\n",
    "            df.iloc[2:4] = df.iloc[2:4].fillna(method='ffill', axis=1)\n",
    "            df.iloc[2:4] = df.iloc[2:4].fillna('')\n",
    "            df.columns = df.iloc[2:4].apply(lambda x: ' - '.join(map(str,[y for y in x if y])), axis=0)\n",
    "            df = df.iloc[4:]\n",
    "            df = df.loc[:,~df.columns.duplicated()].copy()\n",
    "            list = df.columns.to_list()\n",
    "            for col in list:\n",
    "                colum.append(unidecode(col.replace('\\n',' \\n ')))\n",
    "            df.columns = colum\n",
    "            df.iloc[:,0] = df.iloc[:,0].str.encode('ascii', 'ignore').str.decode('ascii')\n",
    "            df.rename(columns={df.columns[2]: df.columns[2].replace(' - Both sexes \\n Les deux sexes','')},inplace=True)\n",
    "            df.to_excel(f'{base_path}\\\\{title}.xlsx',index=False)\n",
    "            with pdfplumber.open(f\"{base_path}\\\\{title}.pdf\") as pdf:\n",
    "\n",
    "                text = pdf.pages[0:2]\n",
    "                for te in text:\n",
    "                    content = te.extract_text()\n",
    "                    conten.append(content)\n",
    "            content_all = ' '.join([str(elem) for elem in conten])\n",
    "            meta_topic = content_all.split('Description of variables')[0].replace('\\n \\n \\n',',').replace('\\n','')\n",
    "            meta_descript =content_all.split('Description of variables')[1]\n",
    "            meta_description = meta_descript.split('Reliability of data')[0].replace('\\n','').replace('\\n \\n','').replace(':','')\n",
    "            concept = meta_descript.split('Reliability of data')[1].split('Limitations')[0].replace('\\n','').replace('\\n \\n','').replace(':','')\n",
    "            limitations = meta_descript.split('Limitations')[1].split('Earlier data')[0].replace('\\n','').replace('\\n \\n','').replace(':','')\n",
    "\n",
    "            try:\n",
    "                BodyDict[\"JobPath\"] = f\"{base_path}\\\\{title}.xlsx\"\n",
    "                BodyDict[\"JsonDetails\"][\"table\"] = title\n",
    "                BodyDict[\"JsonDetails\"][\"description\"] = meta_description\n",
    "                BodyDict[\"JsonDetails\"][\"limitations\"] = limitations\n",
    "                BodyDict[\"JsonDetails\"][\"concept\"] = concept\n",
    "                BodyDict[\"JsonDetails\"][\"topic\"] = meta_topic\n",
    "                #TriggerInferShemaToJsonAPIClass = TriggerInferShemaToJsonAPI(BodyDict=BodyDict)\n",
    "                #TriggerInferShemaToJsonAPIClass.TriggerAPI()\n",
    "                logging.info(f\"Conversion successful - {title} \")\n",
    "                print(BodyDict)\n",
    "            except  Exception as err:\n",
    "                print(err)\n",
    "\n",
    "        elif title == 'Table 20 - Death and death rates by cause and sex 2016 - 2020':\n",
    "            colum = []\n",
    "            df = pd.read_excel(f'{base_path}\\\\{title}.xls')\n",
    "            df.iloc[2:6] = df.iloc[2:6].fillna(method='ffill', axis=1)\n",
    "            df.iloc[2:6] = df.iloc[2:6].fillna('')\n",
    "            df.columns = df.iloc[2:6].apply(lambda x: ' - '.join(map(str,[y for y in x if y])), axis=0)\n",
    "            df = df.iloc[7:]\n",
    "            df = df.loc[:,~df.columns.duplicated()].copy()\n",
    "            list = df.columns.to_list()\n",
    "            for col in list:\n",
    "                colum.append(unidecode(col.replace('\\n',' \\n ')))\n",
    "            df.columns = colum\n",
    "            df.iloc[:,0] = df.iloc[:,0].str.encode('ascii', 'ignore').str.decode('ascii')\n",
    "            df.to_excel(f'{base_path}\\\\{title}.xlsx',index=False)\n",
    "            with pdfplumber.open(f\"{base_path}\\\\{title}.pdf\") as pdf:\n",
    "\n",
    "                text = pdf.pages[0:2]\n",
    "                for te in text:\n",
    "                    content = te.extract_text()\n",
    "                    conten.append(content)\n",
    "            content_all = ' '.join([str(elem) for elem in conten])\n",
    "            meta_topic = content_all.split('Description of variables')[0].replace('\\n \\n \\n',',').replace('\\n','')\n",
    "            meta_descript =content_all.split('Description of variables')[1]\n",
    "            meta_description = meta_descript.split('Reliability of data')[0].replace('\\n','').replace('\\n \\n','').replace(':','')\n",
    "            concept = meta_descript.split('Reliability of data')[1].split('Limitations')[0].replace('\\n','').replace('\\n \\n','').replace(':','')\n",
    "            limitations = meta_descript.split('Limitations')[1].split('Earlier data')[0].replace('\\n','').replace('\\n \\n','').replace(':','')\n",
    "\n",
    "            try:\n",
    "                BodyDict[\"JobPath\"] = f\"{base_path}\\\\{title}.xlsx\"\n",
    "                BodyDict[\"JsonDetails\"][\"table\"] = title\n",
    "                BodyDict[\"JsonDetails\"][\"description\"] = meta_description\n",
    "                BodyDict[\"JsonDetails\"][\"limitations\"] = limitations\n",
    "                BodyDict[\"JsonDetails\"][\"concept\"] = concept\n",
    "                BodyDict[\"JsonDetails\"][\"topic\"] = meta_topic\n",
    "                #TriggerInferShemaToJsonAPIClass = TriggerInferShemaToJsonAPI(BodyDict=BodyDict)\n",
    "                #TriggerInferShemaToJsonAPIClass.TriggerAPI()\n",
    "                logging.info(f\"Conversion successful - {title} \")\n",
    "                print(BodyDict)\n",
    "            except  Exception as err:\n",
    "                print(err)\n",
    "\n",
    "\n",
    "        elif title == 'Table 6 - Total and urban population by sex 2012-2021':\n",
    "            colum = []\n",
    "            df = pd.read_excel(f'{base_path}\\\\{title}.xls')\n",
    "            df.iloc[2:5] = df.iloc[2:5].fillna(method='ffill', axis=1)\n",
    "            df.iloc[2:5] = df.iloc[2:5].fillna('')\n",
    "            df.columns = df.iloc[2:5].apply(lambda x: ' - '.join(map(str,[y for y in x if y])), axis=0)\n",
    "            df = df.iloc[5:]\n",
    "            df = df.loc[:,~df.columns.duplicated()].copy()\n",
    "            df.rename(columns={df.columns[5]: df.columns[5].replace(' - Percent P.100','')},inplace=True)\n",
    "            df.rename(columns={df.columns[8]: df.columns[8].replace(' - Percent P.100',' ')},inplace=True)\n",
    "            list = df.columns.to_list()\n",
    "            for col in list:\n",
    "                colum.append(unidecode(col.replace('\\n',' \\n ')))\n",
    "            df.columns = colum\n",
    "            df.iloc[:,0] = df.iloc[:,0].str.encode('ascii', 'ignore').str.decode('ascii')\n",
    "            df.to_excel(f'{base_path}\\\\{title}.xlsx',index=False)\n",
    "            with pdfplumber.open(f\"{base_path}\\\\{title}.pdf\") as pdf:\n",
    "\n",
    "                text = pdf.pages[0:2]\n",
    "                for te in text:\n",
    "                    content = te.extract_text()\n",
    "                    conten.append(content)\n",
    "            content_all = ' '.join([str(elem) for elem in conten])\n",
    "            meta_topic = content_all.split('Description of variables')[0].replace('\\n \\n \\n',',').replace('\\n','')\n",
    "            meta_descript =content_all.split('Description of variables')[1]\n",
    "            meta_description = meta_descript.split('Reliability of data')[0].replace('\\n','').replace('\\n \\n','').replace(':','')\n",
    "            concept = meta_descript.split('Reliability of data')[1].split('Limitations')[0].replace('\\n','').replace('\\n \\n','').replace(':','')\n",
    "            limitations = meta_descript.split('Limitations')[1].split('Earlier data')[0].replace('\\n','').replace('\\n \\n','').replace(':','')\n",
    "\n",
    "            try:\n",
    "                BodyDict[\"JobPath\"] = f\"{base_path}\\\\{title}.xlsx\"\n",
    "                BodyDict[\"JsonDetails\"][\"table\"] = title\n",
    "                BodyDict[\"JsonDetails\"][\"description\"] = meta_description\n",
    "                BodyDict[\"JsonDetails\"][\"limitations\"] = limitations\n",
    "                BodyDict[\"JsonDetails\"][\"concept\"] = concept\n",
    "                BodyDict[\"JsonDetails\"][\"topic\"] = meta_topic\n",
    "                #TriggerInferShemaToJsonAPIClass = TriggerInferShemaToJsonAPI(BodyDict=BodyDict)\n",
    "                #TriggerInferShemaToJsonAPIClass.TriggerAPI()\n",
    "                logging.info(f\"Conversion successful - {title} \")\n",
    "                print(BodyDict)\n",
    "            except  Exception as err:\n",
    "                print(err)\n",
    "\n",
    "        elif title == 'Table 8 - Population of capital cities and cities of 100 000 or more inhabitants latest available year, 2002-2021':\n",
    "            colum = []\n",
    "            df = pd.read_excel(f'{base_path}\\\\{title}.xls')\n",
    "            df.iloc[2:5] = df.iloc[2:5].fillna(method='ffill', axis=1)\n",
    "            df.iloc[2:5] = df.iloc[2:5].fillna('')\n",
    "            df.columns = df.iloc[2:5].apply(lambda x: ' - '.join(map(str,[y for y in x if y])), axis=0)\n",
    "            df = df.iloc[5:]\n",
    "            df = df.loc[:,~df.columns.duplicated()].copy()\n",
    "            list = df.columns.to_list()\n",
    "            for col in list:\n",
    "                colum.append(unidecode(col.replace('\\n',' \\n ')))\n",
    "            df.columns = colum\n",
    "            df.rename(columns={df.columns[4]: df.columns[4].replace('- Population',' ')},inplace=True)\n",
    "            df.rename(columns={df.columns[8]: df.columns[8].replace('- Population',' ')},inplace=True)\n",
    "            df.iloc[:,0] = df.iloc[:,0].str.encode('ascii', 'ignore').str.decode('ascii')\n",
    "            df.to_excel(f'{base_path}\\\\{title}.xlsx',index=False)\n",
    "            with pdfplumber.open(f\"{base_path}\\\\{title}.pdf\") as pdf:\n",
    "\n",
    "                text = pdf.pages[0:2]\n",
    "                for te in text:\n",
    "                    content = te.extract_text()\n",
    "                    conten.append(content)\n",
    "            content_all = ' '.join([str(elem) for elem in conten])\n",
    "            meta_topic = content_all.split('Description of variables')[0].replace('\\n \\n \\n',',').replace('\\n','')\n",
    "            meta_descript =content_all.split('Description of variables')[1]\n",
    "            meta_description = meta_descript.split('Reliability of data')[0].replace('\\n','').replace('\\n \\n','').replace(':','')\n",
    "            concept = meta_descript.split('Reliability of data')[1].split('Limitations')[0].replace('\\n','').replace('\\n \\n','').replace(':','')\n",
    "            limitations = meta_descript.split('Limitations')[1].split('Earlier data')[0].replace('\\n','').replace('\\n \\n','').replace(':','')\n",
    "\n",
    "            try:\n",
    "                BodyDict[\"JobPath\"] = f\"{base_path}\\\\{title}.xlsx\"\n",
    "                BodyDict[\"JsonDetails\"][\"table\"] = title\n",
    "                BodyDict[\"JsonDetails\"][\"description\"] = meta_description\n",
    "                BodyDict[\"JsonDetails\"][\"limitations\"] = limitations\n",
    "                BodyDict[\"JsonDetails\"][\"concept\"] = concept\n",
    "                BodyDict[\"JsonDetails\"][\"topic\"] = meta_topic\n",
    "                #TriggerInferShemaToJsonAPIClass = TriggerInferShemaToJsonAPI(BodyDict=BodyDict)\n",
    "                #TriggerInferShemaToJsonAPIClass.TriggerAPI()\n",
    "                logging.info(f\"Conversion successful - {title} \")\n",
    "                print(BodyDict)\n",
    "            except  Exception as err:\n",
    "                print(err)\n",
    "\n",
    "        elif title == 'Table 17 - Maternal deaths and maternal mortality ratios 2011-2020':\n",
    "            df = pd.read_excel(f'{base_path}\\\\{title}.xls')\n",
    "            df.columns = df.iloc[2]\n",
    "            df = df[4:]\n",
    "            df = df.loc[:, df.columns.notna()]\n",
    "            df.iloc[:,0] = df.iloc[:,0].str.encode('ascii', 'ignore').str.decode('ascii')\n",
    "            df.to_excel(f'{base_path}\\\\{title}.xlsx',index=False)\n",
    "            with pdfplumber.open(f\"{base_path}\\\\{title}.pdf\") as pdf:\n",
    "\n",
    "                text = pdf.pages[0:2]\n",
    "                for te in text:\n",
    "                    content = te.extract_text()\n",
    "                    conten.append(content)\n",
    "            content_all = ' '.join([str(elem) for elem in conten])\n",
    "            meta_topic = content_all.split('Description of variables')[0].replace('\\n \\n \\n',',').replace('\\n','')\n",
    "            meta_descript =content_all.split('Description of variables')[1]\n",
    "            meta_description = meta_descript.split('Reliability of data')[0].replace('\\n','').replace('\\n \\n','').replace(':','')\n",
    "            concept = meta_descript.split('Reliability of data')[1].split('Limitations')[0].replace('\\n','').replace('\\n \\n','').replace(':','')\n",
    "            limitations = meta_descript.split('Limitations')[1].split('Earlier data')[0].replace('\\n','').replace('\\n \\n','').replace(':','')\n",
    "\n",
    "            try:\n",
    "                BodyDict[\"JobPath\"] = f\"{base_path}\\\\{title}.xlsx\"\n",
    "                BodyDict[\"JsonDetails\"][\"table\"] = title\n",
    "                BodyDict[\"JsonDetails\"][\"description\"] = meta_description\n",
    "                BodyDict[\"JsonDetails\"][\"limitations\"] = limitations\n",
    "                BodyDict[\"JsonDetails\"][\"concept\"] = concept\n",
    "                BodyDict[\"JsonDetails\"][\"topic\"] = meta_topic\n",
    "                #TriggerInferShemaToJsonAPIClass = TriggerInferShemaToJsonAPI(BodyDict=BodyDict)\n",
    "                #TriggerInferShemaToJsonAPIClass.TriggerAPI()\n",
    "                logging.info(f\"Conversion successful - {title} \")\n",
    "                print(BodyDict)\n",
    "            except  Exception as err:\n",
    "                print(err)\n",
    "\n",
    "        else: \n",
    "            colum = []\n",
    "            df = pd.read_excel(f'{base_path}\\\\{title}.xls')\n",
    "            df.iloc[2:4] = df.iloc[2:4].fillna(method='ffill', axis=1)\n",
    "            df.iloc[2:4] = df.iloc[2:4].fillna('')\n",
    "            df.columns = df.iloc[2:4].apply(lambda x: ' - '.join(map(str,[y for y in x if y])), axis=0)\n",
    "            df = df.iloc[4:]\n",
    "            df = df.loc[:,~df.columns.duplicated()].copy()\n",
    "            list = df.columns.to_list()\n",
    "            for col in list:\n",
    "                colum.append(unidecode(col.replace('\\n',' \\n ')))\n",
    "            df.columns = colum\n",
    "            df.iloc[:,0] = df.iloc[:,0].str.encode('ascii', 'ignore').str.decode('ascii')\n",
    "            df.to_excel(f'{base_path}\\\\{title}.xlsx',index=False)\n",
    "            with pdfplumber.open(f\"{base_path}\\\\{title}.pdf\") as pdf:\n",
    "\n",
    "                text = pdf.pages[0:2]\n",
    "                for te in text:\n",
    "                    content = te.extract_text()\n",
    "                    conten.append(content)\n",
    "            content_all = ' '.join([str(elem) for elem in conten])\n",
    "            meta_topic = content_all.split('Description of variables')[0].replace('\\n \\n \\n',',').replace('\\n','')\n",
    "            meta_descript =content_all.split('Description of variables')[1]\n",
    "            meta_description = meta_descript.split('Reliability of data')[0].replace('\\n','').replace('\\n \\n','').replace(':','')\n",
    "            concept = meta_descript.split('Reliability of data')[1].split('Limitations')[0].replace('\\n','').replace('\\n \\n','').replace(':','')\n",
    "            limitations = meta_descript.split('Limitations')[1].split('Earlier data')[0].replace('\\n','').replace('\\n \\n','').replace(':','')\n",
    "\n",
    "            try:\n",
    "                BodyDict[\"JobPath\"] = f\"{base_path}\\\\{title}.xlsx\"\n",
    "                BodyDict[\"JsonDetails\"][\"table\"] = title\n",
    "                BodyDict[\"JsonDetails\"][\"description\"] = meta_description\n",
    "                BodyDict[\"JsonDetails\"][\"limitations\"] = limitations\n",
    "                BodyDict[\"JsonDetails\"][\"concept\"] = concept\n",
    "                BodyDict[\"JsonDetails\"][\"topic\"] = meta_topic\n",
    "                #TriggerInferShemaToJsonAPIClass = TriggerInferShemaToJsonAPI(BodyDict=BodyDict)\n",
    "                #TriggerInferShemaToJsonAPIClass.TriggerAPI()\n",
    "                logging.info(f\"Conversion successful - {title} \")\n",
    "                print(BodyDict)\n",
    "            except  Exception as err:\n",
    "                print(err)\n",
    "\n",
    "            # if title.startswith('Table 3a'):\n",
    "            #     title = 'Table 3a - Whipple s Index by sex and urban or rural residence, 1985-2021'\n",
    "\n",
    "            #     try:\n",
    "            #         BodyDict[\"JobPath\"] = f\"{base_path}\\\\{title}.xlsx\"\n",
    "            #         BodyDict[\"JsonDetails\"][\"table\"] = title\n",
    "            #         BodyDict[\"JsonDetails\"][\"description\"] = title\n",
    "            #         #TriggerInferShemaToJsonAPIClass = TriggerInferShemaToJsonAPI(BodyDict=BodyDict)\n",
    "            #         #TriggerInferShemaToJsonAPIClass.TriggerAPI()\n",
    "            #         #logging.info(f\"Conversion successful - {title} \")\n",
    "            #         #print(BodyDict)\n",
    "            #     except  Exception as err:\n",
    "            #         print(err)\n",
    "\n",
    "\n",
    "            # else:\n",
    "            #     with pdfplumber.open(f\"{base_path}\\\\{title}.pdf\") as pdf:\n",
    "\n",
    "            #         text = pdf.pages[0:2]\n",
    "            #         for te in text:\n",
    "            #             content = te.extract_text()\n",
    "            #             conten.append(content)\n",
    "            #     content_all = ' '.join([str(elem) for elem in conten])\n",
    "            #     meta_topic = content_all.split('Description of variables')[0].replace('\\n \\n \\n',',').replace('\\n','')\n",
    "            #     meta_descript =content_all.split('Description of variables')[1]\n",
    "            #     meta_description = meta_descript.split('Reliability of data')[0].replace('\\n','').replace('\\n \\n','').replace(':','')\n",
    "            #     concept = meta_descript.split('Reliability of data')[1].split('Limitations')[0].replace('\\n','').replace('\\n \\n','').replace(':','')\n",
    "            #     limitations = meta_descript.split('Limitations')[1].split('Earlier data')[0].replace('\\n','').replace('\\n \\n','').replace(':','')\n",
    "\n",
    "            #     try:\n",
    "            #         BodyDict[\"JobPath\"] = f\"{base_path}\\\\{title}.xlsx\"\n",
    "            #         BodyDict[\"JsonDetails\"][\"table\"] = title\n",
    "            #         BodyDict[\"JsonDetails\"][\"description\"] = meta_description\n",
    "            #         BodyDict[\"JsonDetails\"][\"limitations\"] = limitations\n",
    "            #         BodyDict[\"JsonDetails\"][\"concept\"] = concept\n",
    "            #         BodyDict[\"JsonDetails\"][\"topic\"] = meta_topic\n",
    "            #         #TriggerInferShemaToJsonAPIClass = TriggerInferShemaToJsonAPI(BodyDict=BodyDict)\n",
    "            #         #TriggerInferShemaToJsonAPIClass.TriggerAPI()\n",
    "            #         #logging.info(f\"Conversion successful - {title} \")\n",
    "            #         #print(BodyDict)\n",
    "            #     except  Exception as err:\n",
    "            #         print(err)"
   ]
  },
  {
   "cell_type": "code",
   "execution_count": 122,
   "metadata": {},
   "outputs": [
    {
     "name": "stdout",
     "output_type": "stream",
     "text": [
      "Table 3a no meta data\n",
      "SOURCE UnitedNations,DepartmentofEconomicandSocialAffairs,PopulationDivision (2019).2019RevisionofWorldPopulationProspects\n"
     ]
    },
    {
     "name": "stderr",
     "output_type": "stream",
     "text": [
      "WARNING:tabula.io:Got stderr: Dec 27, 2022 3:30:33 PM org.apache.pdfbox.pdmodel.graphics.color.PDICCBased fallbackToAlternateColorSpace\n",
      "WARNING: Can't read embedded ICC profile (Invalid ICC Profile Data), using alternate color space: DeviceRGB\n",
      "Dec 27, 2022 3:30:33 PM org.apache.pdfbox.pdmodel.graphics.color.PDICCBased fallbackToAlternateColorSpace\n",
      "WARNING: Can't read embedded ICC profile (Invalid ICC Profile Data), using alternate color space: DeviceRGB\n",
      "Dec 27, 2022 3:30:34 PM org.apache.pdfbox.pdmodel.graphics.color.PDICCBased fallbackToAlternateColorSpace\n",
      "WARNING: Can't read embedded ICC profile (Invalid ICC Profile Data), using alternate color space: DeviceRGB\n",
      "Dec 27, 2022 3:30:34 PM org.apache.pdfbox.pdmodel.graphics.color.PDICCBased fallbackToAlternateColorSpace\n",
      "WARNING: Can't read embedded ICC profile (Invalid ICC Profile Data), using alternate color space: DeviceRGB\n",
      "Dec 27, 2022 3:30:34 PM org.apache.pdfbox.pdmodel.graphics.color.PDICCBased fallbackToAlternateColorSpace\n",
      "WARNING: Can't read embedded ICC profile (Invalid ICC Profile Data), using alternate color space: DeviceRGB\n",
      "Dec 27, 2022 3:30:35 PM org.apache.pdfbox.pdmodel.graphics.color.PDICCBased fallbackToAlternateColorSpace\n",
      "WARNING: Can't read embedded ICC profile (Invalid ICC Profile Data), using alternate color space: DeviceRGB\n",
      "\n",
      "INFO:root:Conversion successful - I - Annual mid-year population, United Nations estimates  2012 - 2021 \n"
     ]
    },
    {
     "name": "stdout",
     "output_type": "stream",
     "text": [
      "{'JobPath': 'c:\\\\Users\\\\10235555\\\\Documents\\\\DataportalCrawlers\\\\UN_Data\\\\UNStat_demogrphic_yearbook\\\\I - Annual mid-year population, United Nations estimates  2012 - 2021.csv', 'JsonDetails': {'organisation': 'un-agencies', 'source': 'UNSTATS', 'source_description': 'The Demographic Yearbook 2021 is the seventy-second issue in a series published by the United Nations since 1948. It contains tables on a wide range of demographic statistics, including a world summary of selected demographic statistics, statistics on the size, distribution and trends in national populations,fertility, foetal mortality, infant and maternal mortality, general mortality, nuptiality and divorce. Data are shown by urban/rural residence, as available. The volume provides Technical Notes, a synoptic table, a historical index and a listing of the issues of the Demographic Yearbook published to date. This issue of Demographic Yearbook contains data as available including reference year 2021.', 'source_url': 'https://unstats.un.org/unsd/demographic-social/products/dyb/dyb_2021/', 'table': 'I - Annual mid-year population, United Nations estimates  2012 - 2021', 'description': 'I - Annual mid-year population, United Nations estimates  2012 - 2021', 'JobType': 'JSON', 'CleanPush': True, 'Server': 'str', 'UseJsonFormatForSQL': False, 'CleanReplace': True, 'MergeSchema': False, 'tags': [{'name': ''}], 'additional_data_sources': 'SOURCE UnitedNations,DepartmentofEconomicandSocialAffairs,PopulationDivision (2019).2019RevisionofWorldPopulationProspects', 'limitations': '', 'concept': '', 'periodicity': '', 'topic': 'ANNEX', 'created': '', 'last_modified': '', 'TriggerTalend': False, 'SavePathForJsonOutput': ''}}\n"
     ]
    },
    {
     "name": "stderr",
     "output_type": "stream",
     "text": [
      "WARNING:tabula.io:Got stderr: Dec 27, 2022 3:30:36 PM org.apache.pdfbox.pdmodel.graphics.color.PDICCBased fallbackToAlternateColorSpace\n",
      "WARNING: Can't read embedded ICC profile (Invalid ICC Profile Data), using alternate color space: DeviceRGB\n",
      "Dec 27, 2022 3:30:37 PM org.apache.pdfbox.pdmodel.graphics.color.PDICCBased fallbackToAlternateColorSpace\n",
      "WARNING: Can't read embedded ICC profile (Invalid ICC Profile Data), using alternate color space: DeviceRGB\n",
      "Dec 27, 2022 3:30:37 PM org.apache.pdfbox.pdmodel.graphics.color.PDICCBased fallbackToAlternateColorSpace\n",
      "WARNING: Can't read embedded ICC profile (Invalid ICC Profile Data), using alternate color space: DeviceRGB\n",
      "Dec 27, 2022 3:30:38 PM org.apache.pdfbox.pdmodel.graphics.color.PDICCBased fallbackToAlternateColorSpace\n",
      "WARNING: Can't read embedded ICC profile (Invalid ICC Profile Data), using alternate color space: DeviceRGB\n",
      "Dec 27, 2022 3:30:38 PM org.apache.pdfbox.pdmodel.graphics.color.PDICCBased fallbackToAlternateColorSpace\n",
      "WARNING: Can't read embedded ICC profile (Invalid ICC Profile Data), using alternate color space: DeviceRGB\n",
      "\n",
      "INFO:root:Conversion successful - II -  Vital statistics summary, United Nations medium variant projections  2020 - 2025 \n"
     ]
    },
    {
     "name": "stdout",
     "output_type": "stream",
     "text": [
      "{'JobPath': 'c:\\\\Users\\\\10235555\\\\Documents\\\\DataportalCrawlers\\\\UN_Data\\\\UNStat_demogrphic_yearbook\\\\II -  Vital statistics summary, United Nations medium variant projections  2020 - 2025.csv', 'JsonDetails': {'organisation': 'un-agencies', 'source': 'UNSTATS', 'source_description': 'The Demographic Yearbook 2021 is the seventy-second issue in a series published by the United Nations since 1948. It contains tables on a wide range of demographic statistics, including a world summary of selected demographic statistics, statistics on the size, distribution and trends in national populations,fertility, foetal mortality, infant and maternal mortality, general mortality, nuptiality and divorce. Data are shown by urban/rural residence, as available. The volume provides Technical Notes, a synoptic table, a historical index and a listing of the issues of the Demographic Yearbook published to date. This issue of Demographic Yearbook contains data as available including reference year 2021.', 'source_url': 'https://unstats.un.org/unsd/demographic-social/products/dyb/dyb_2021/', 'table': 'II -  Vital statistics summary, United Nations medium variant projections  2020 - 2025', 'description': 'II -  Vital statistics summary, United Nations medium variant projections  2020 - 2025', 'JobType': 'JSON', 'CleanPush': True, 'Server': 'str', 'UseJsonFormatForSQL': False, 'CleanReplace': True, 'MergeSchema': False, 'tags': [{'name': ''}], 'additional_data_sources': 'SOURCE UnitedNations,DepartmentofEconomicandSocialAffairs,PopulationDivision (2019).2019RevisionofWorldPopulationProspects-', 'limitations': '', 'concept': '', 'periodicity': '', 'topic': 'ANNEX', 'created': '', 'last_modified': '', 'TriggerTalend': False, 'SavePathForJsonOutput': ''}}\n"
     ]
    }
   ],
   "source": [
    "for i in index:\n",
    "    url = \"https://unstats.un.org\"\n",
    "    parent_node = soup.find(class_ = 'sub1')\n",
    "    child_node = parent_node.find_all('li')[i]\n",
    "    files = child_node.find('ul',{'class':'leaf'})\n",
    "    #top =child_node.find_all(\"li\")[files.index(files)].text\n",
    "    tags = child_node.text.partition('\\r')[0]\n",
    "    table = files.find_all('li')\n",
    "    for t in table:\n",
    "        if len(t.find_all('a')) > 1:\n",
    "            title = t.text.partition('\\n')[0].replace('/', ' or ').replace('\\t',' ').replace(':','')\n",
    "            link_xls = t.find_all('a')[1]['href']\n",
    "            link_xls = str(url) + link_xls\n",
    "            link_pdf = t.find_all('a')[2]['href']\n",
    "            link_pdf = str(url) + link_pdf\n",
    "            conten = []\n",
    "            urllib.request.urlretrieve(link_xls,f\"{base_path}\\\\{title}.xls\")\n",
    "            try:\n",
    "                urllib.request.urlretrieve(link_pdf,f\"{base_path}\\\\{title}.pdf\")\n",
    "            except:\n",
    "                pass\n",
    "\n",
    "\n",
    "            BodyDict = {\n",
    "                \"JobPath\":\"\", #* Point to downloaded data for conversion #\n",
    "                \"JsonDetails\":{\n",
    "                        ## Required\n",
    "                        \"organisation\": \"un-agencies\",\n",
    "                        \"source\": \"UNSTATS\",\n",
    "                        \"source_description\" : \"The Demographic Yearbook 2021 is the seventy-second issue in a series published by the United Nations since 1948. It contains tables on a wide range of demographic statistics, including a world summary of selected demographic statistics, statistics on the size, distribution and trends in national populations,fertility, foetal mortality, infant and maternal mortality, general mortality, nuptiality and divorce. Data are shown by urban/rural residence, as available. The volume provides Technical Notes, a synoptic table, a historical index and a listing of the issues of the Demographic Yearbook published to date. This issue of Demographic Yearbook contains data as available including reference year 2021.\",\n",
    "                        \"source_url\" : \"https://unstats.un.org/unsd/demographic-social/products/dyb/dyb_2021/\",\n",
    "                        \"table\" : title,\n",
    "                        \"description\" : \"\",\n",
    "                        ## Optional\n",
    "                        \"JobType\": \"JSON\",\n",
    "                        \"CleanPush\": True,\n",
    "                        \"Server\": \"str\",\n",
    "                        \"UseJsonFormatForSQL\":  False,\n",
    "                        \"CleanReplace\":True,\n",
    "                        \"MergeSchema\": False,\n",
    "                        \"tags\": [{\n",
    "                            \"name\": tags\n",
    "                        }],\n",
    "                        \"additional_data_sources\": [{\n",
    "                            \"name\": \"\"\n",
    "                        }],\n",
    "                        \"limitations\":\"\",\n",
    "                        \"concept\":  \"\",\n",
    "                        \"periodicity\":  \"\",\n",
    "                        \"topic\":  \"\",\n",
    "                        \"created\": \"\",                       #* this should follow the following formats %Y-%m-%dT%H:%M:%S\" or \"%Y-%m-%d\"\n",
    "                        \"last_modified\": \"\",                #* \"\"               \"\"                  \"\"              \"\"\n",
    "                        \"TriggerTalend\" :  False,    #* initialise to True for production\n",
    "                        \"SavePathForJsonOutput\": \"\" #* initialise as empty string for production.\n",
    "                    }\n",
    "                }\n",
    "\n",
    "            if title == 'Table 1 - Population, rate of increase, birth and death rates, surface area and density for the world, major areas and regions selected years':\n",
    "                with pdfplumber.open(f\"{base_path}\\\\{title}.pdf\") as pdf:\n",
    "\n",
    "                    text = pdf.pages[0:2]\n",
    "                    for te in text:\n",
    "                        content = te.extract_text()\n",
    "                        conten.append(content)\n",
    "                content_all = ' '.join([str(elem) for elem in conten])\n",
    "                meta_topic = content_all.split('Description of variables')[0].replace('\\n \\n \\n',',').replace('\\n','')\n",
    "                meta_descript =content_all.split('Description of variables')[1]\n",
    "                meta_description = meta_descript.split('Reliability of data')[0].replace('\\n','').replace('\\n \\n','').replace(':','')\n",
    "                concept = meta_descript.split('Reliability of data')[1].split('Limitations')[0].replace('\\n','').replace('\\n \\n','').replace(':','')\n",
    "                limitations = meta_descript.split('Limitations')[1].split('Composition of major areas and regions')[0].replace('\\n','').replace('\\n \\n','').replace(':','')\n",
    "\n",
    "                try:\n",
    "                    BodyDict[\"JobPath\"] = f\"{base_path}\\\\{title}.xlsx\"\n",
    "                    BodyDict[\"JsonDetails\"][\"table\"] = title\n",
    "                    BodyDict[\"JsonDetails\"][\"description\"] = meta_description\n",
    "                    BodyDict[\"JsonDetails\"][\"limitations\"] = limitations\n",
    "                    BodyDict[\"JsonDetails\"][\"concept\"] = concept\n",
    "                    BodyDict[\"JsonDetails\"][\"topic\"] = meta_topic\n",
    "                    #TriggerInferShemaToJsonAPIClass = TriggerInferShemaToJsonAPI(BodyDict=BodyDict)\n",
    "                    #TriggerInferShemaToJsonAPIClass.TriggerAPI()\n",
    "                    #logging.info(f\"Conversion successful - {title} \")\n",
    "                    #print(BodyDict)\n",
    "                except  Exception as err:\n",
    "                    print(err)\n",
    "\n",
    "            elif title =='Table 2 - Estimates of population and its percentage distribution, by age and sex and sex ratio for all ages for the world, major areas and regions 2021':\n",
    "                with pdfplumber.open(f\"{base_path}\\\\{title}.pdf\") as pdf:\n",
    "\n",
    "                    text = pdf.pages[0:2]\n",
    "                    for te in text:\n",
    "                        content = te.extract_text()\n",
    "                        conten.append(content)\n",
    "                content_all = ' '.join([str(elem) for elem in conten])\n",
    "                meta_topic = content_all.split('Description of  variables')[0].replace('\\n \\n \\n',',').replace('\\n','')\n",
    "                meta_descript =content_all.split('Description of  variables')[1]\n",
    "                meta_description = meta_descript.split('Reliability of data')[0].replace('\\n','').replace('\\n \\n','').replace(':','')\n",
    "                concept = meta_descript.split('Reliability of data')[1].split('Limitations')[0].replace('\\n','').replace('\\n \\n','').replace(':','')\n",
    "                limitations = meta_descript.split('Limitations')[1].split('1 United Nations,')[0].replace('\\n','').replace('\\n \\n','').replace(':','')\n",
    "\n",
    "                try:\n",
    "                    BodyDict[\"JobPath\"] = f\"{base_path}\\\\{title}.xlsx\"\n",
    "                    BodyDict[\"JsonDetails\"][\"table\"] = title\n",
    "                    BodyDict[\"JsonDetails\"][\"description\"] = meta_description\n",
    "                    BodyDict[\"JsonDetails\"][\"limitations\"] = limitations\n",
    "                    BodyDict[\"JsonDetails\"][\"concept\"] = concept\n",
    "                    BodyDict[\"JsonDetails\"][\"topic\"] = meta_topic\n",
    "                    #TriggerInferShemaToJsonAPIClass = TriggerInferShemaToJsonAPI(BodyDict=BodyDict)\n",
    "                    #TriggerInferShemaToJsonAPIClass.TriggerAPI()\n",
    "                    #logging.info(f\"Conversion successful - {title} \")\n",
    "                    #print(BodyDict)\n",
    "                except  Exception as err:\n",
    "                    print(err)\n",
    "\n",
    "            elif title == 'Table 21 - Probability of dying in the five year interval following specified age (5qx), by sex latest available year, 2002 - 2021':\n",
    "                with pdfplumber.open(f\"{base_path}\\\\{title}.pdf\") as pdf:\n",
    "\n",
    "                    text = pdf.pages[0:2]\n",
    "                    for te in text:\n",
    "                        content = te.extract_text()\n",
    "                        conten.append(content)\n",
    "                content_all = ' '.join([str(elem) for elem in conten])\n",
    "\n",
    "                meta_topic = content_all.partition('\\nThe life')[0].replace('\\n','')\n",
    "                meta_description = content_all.partition('\\nThe life')[2].split('Reliability of data')[0].replace('\\n','').replace('\\n \\n','').replace(':','')\n",
    "                concept =  content_all.partition('\\nThe life')[2].split('Reliability of data')[1].split('Limitations')[0].replace('\\n','').replace('\\n \\n','').replace(':','')\n",
    "                limitations = content_all.partition('\\nThe life')[2].split('Reliability of data')[1].split('Limitations')[1].split('Earlier data')[0].replace('\\n','').replace('\\n \\n','').replace(':','')\n",
    "\n",
    "                try:\n",
    "                    BodyDict[\"JobPath\"] = f\"{base_path}\\\\{title}.xlsx\"\n",
    "                    BodyDict[\"JsonDetails\"][\"table\"] = title\n",
    "                    BodyDict[\"JsonDetails\"][\"description\"] = meta_description\n",
    "                    BodyDict[\"JsonDetails\"][\"limitations\"] = limitations\n",
    "                    BodyDict[\"JsonDetails\"][\"concept\"] = concept\n",
    "                    BodyDict[\"JsonDetails\"][\"topic\"] = meta_topic\n",
    "                    #TriggerInferShemaToJsonAPIClass = TriggerInferShemaToJsonAPI(BodyDict=BodyDict)\n",
    "                    #TriggerInferShemaToJsonAPIClass.TriggerAPI()\n",
    "                    #logging.info(f\"Conversion successful - {title} \")\n",
    "                    #print(BodyDict)\n",
    "                except  Exception as err:\n",
    "                    print(err)\n",
    "\n",
    "            else: \n",
    "                if title.startswith('Table 3a'):\n",
    "                    print('Table 3a no meta data')\n",
    "\n",
    "                    try:\n",
    "                        BodyDict[\"JobPath\"] = f\"{base_path}\\\\{title}.xlsx\"\n",
    "                        BodyDict[\"JsonDetails\"][\"table\"] = title\n",
    "                        BodyDict[\"JsonDetails\"][\"description\"] = title\n",
    "                        #TriggerInferShemaToJsonAPIClass = TriggerInferShemaToJsonAPI(BodyDict=BodyDict)\n",
    "                        #TriggerInferShemaToJsonAPIClass.TriggerAPI()\n",
    "                        #logging.info(f\"Conversion successful - {title} \")\n",
    "                        #print(BodyDict)\n",
    "                    except  Exception as err:\n",
    "                        print(err)\n",
    "\n",
    "\n",
    "                else:\n",
    "                    with pdfplumber.open(f\"{base_path}\\\\{title}.pdf\") as pdf:\n",
    "\n",
    "                        text = pdf.pages[0:2]\n",
    "                        for te in text:\n",
    "                            content = te.extract_text()\n",
    "                            conten.append(content)\n",
    "                    content_all = ' '.join([str(elem) for elem in conten])\n",
    "                    meta_topic = content_all.split('Description of variables')[0].replace('\\n \\n \\n',',').replace('\\n','')\n",
    "                    meta_descript =content_all.split('Description of variables')[1]\n",
    "                    meta_description = meta_descript.split('Reliability of data')[0].replace('\\n','').replace('\\n \\n','').replace(':','')\n",
    "                    concept = meta_descript.split('Reliability of data')[1].split('Limitations')[0].replace('\\n','').replace('\\n \\n','').replace(':','')\n",
    "                    limitations = meta_descript.split('Limitations')[1].split('Earlier data')[0].replace('\\n','').replace('\\n \\n','').replace(':','')\n",
    "\n",
    "                    try:\n",
    "                        BodyDict[\"JobPath\"] = f\"{base_path}\\\\{title}.xlsx\"\n",
    "                        BodyDict[\"JsonDetails\"][\"table\"] = title\n",
    "                        BodyDict[\"JsonDetails\"][\"description\"] = meta_description\n",
    "                        BodyDict[\"JsonDetails\"][\"limitations\"] = limitations\n",
    "                        BodyDict[\"JsonDetails\"][\"concept\"] = concept\n",
    "                        BodyDict[\"JsonDetails\"][\"topic\"] = meta_topic\n",
    "                        #TriggerInferShemaToJsonAPIClass = TriggerInferShemaToJsonAPI(BodyDict=BodyDict)\n",
    "                        #TriggerInferShemaToJsonAPIClass.TriggerAPI()\n",
    "                        #logging.info(f\"Conversion successful - {title} \")\n",
    "                        #print(BodyDict)\n",
    "                    except  Exception as err:\n",
    "                        print(err)\n",
    "\n",
    "\n",
    "        elif len(t.find_all('a')) == 1:\n",
    "            title = t.text.partition('\\n')[0].replace('/', ' or ').replace('\\t',' ').replace('\\r','').replace(':',' ')\n",
    "            link_pdf = t.find('a')['href']\n",
    "            link_pdf = str(url) + link_pdf\n",
    "            urllib.request.urlretrieve(link_pdf,f\"{base_path}\\\\{title.replace(':',' ')}.pdf\")\n",
    "            BodyDict = {\n",
    "                \"JobPath\":\"\", #* Point to downloaded data for conversion #\n",
    "                \"JsonDetails\":{\n",
    "                        ## Required\n",
    "                        \"organisation\": \"un-agencies\",\n",
    "                        \"source\": \"UNSTATS\",\n",
    "                        \"source_description\" : \"The Demographic Yearbook 2021 is the seventy-second issue in a series published by the United Nations since 1948. It contains tables on a wide range of demographic statistics, including a world summary of selected demographic statistics, statistics on the size, distribution and trends in national populations,fertility, foetal mortality, infant and maternal mortality, general mortality, nuptiality and divorce. Data are shown by urban/rural residence, as available. The volume provides Technical Notes, a synoptic table, a historical index and a listing of the issues of the Demographic Yearbook published to date. This issue of Demographic Yearbook contains data as available including reference year 2021.\",\n",
    "                        \"source_url\" : \"https://unstats.un.org/unsd/demographic-social/products/dyb/dyb_2021/\",\n",
    "                        \"table\" : title,\n",
    "                        \"description\" : \"\",\n",
    "                        ## Optional\n",
    "                        \"JobType\": \"JSON\",\n",
    "                        \"CleanPush\": True,\n",
    "                        \"Server\": \"str\",\n",
    "                        \"UseJsonFormatForSQL\":  False,\n",
    "                        \"CleanReplace\":True,\n",
    "                        \"MergeSchema\": False,\n",
    "                        \"tags\": [{\n",
    "                            \"name\": ''\n",
    "                        }],\n",
    "                        \"additional_data_sources\": [{\n",
    "                            \"name\": \"\"\n",
    "                        }],\n",
    "                        \"limitations\":\"\",\n",
    "                        \"concept\":  \"\",\n",
    "                        \"periodicity\":  \"\",\n",
    "                        \"topic\":  tags,\n",
    "                        \"created\": \"\",                       #* this should follow the following formats %Y-%m-%dT%H:%M:%S\" or \"%Y-%m-%d\"\n",
    "                        \"last_modified\": \"\",                #* \"\"               \"\"                  \"\"              \"\"\n",
    "                        \"TriggerTalend\" :  False,    #* initialise to True for production\n",
    "                        \"SavePathForJsonOutput\": \"\" #* initialise as empty string for production.\n",
    "                    }\n",
    "                }\n",
    "            if title == 'I - Annual mid-year population, United Nations estimates  2012 - 2021':\n",
    "                with pdfplumber.open(f\"{base_path}\\\\{title}.pdf\") as pdf:\n",
    "\n",
    "                    text_source = pdf.pages[-1]\n",
    "                    content_pdf = text_source.extract_text()\n",
    "\n",
    "                source = content_pdf.split('-OrganisationdesNations\\nUnies,')[0].replace('\\n',' ')\n",
    "                print(source)\n",
    "                dfs_1= tabula.read_pdf(f\"{base_path}\\\\{title}.pdf\", pages='all', encoding='latin-1')\n",
    "\n",
    "                with open(f'{base_path}\\\\{title}.csv','w') as f:\n",
    "                    headerList =['Continent and country or area','2012','2013','2014','2015','2016','2017','2018','2019','2020','2021']\n",
    "                    dw = csv.DictWriter(f, delimiter=',',\n",
    "                                        fieldnames=headerList)\n",
    "                    dw.writeheader()\n",
    "                    writer = csv.writer(f) \n",
    "                    writer.writerow(['Population estimates in thousands'])\n",
    "                    for df in dfs_1:\n",
    "                        df.to_csv(f,index=False)\n",
    "                        f.write(\"\\n\")\n",
    "\n",
    "                try:\n",
    "                    BodyDict[\"JobPath\"] = f\"{base_path}\\\\{title}.csv\"\n",
    "                    BodyDict[\"JsonDetails\"][\"table\"] = title\n",
    "                    BodyDict[\"JsonDetails\"][\"description\"] = title\n",
    "                    BodyDict[\"JsonDetails\"]['additional_data_sources'] = source\n",
    "                    #TriggerInferShemaToJsonAPIClass = TriggerInferShemaToJsonAPI(BodyDict=BodyDict)\n",
    "                    #TriggerInferShemaToJsonAPIClass.TriggerAPI()\n",
    "                    logging.info(f\"Conversion successful - {title} \")\n",
    "                    print(BodyDict)\n",
    "                except  Exception as err:\n",
    "                    print(err)\n",
    "            elif title == 'II -  Vital statistics summary, United Nations medium variant projections  2020 - 2025':\n",
    "                with pdfplumber.open(f\"{base_path}\\\\{title}.pdf\") as pdf:\n",
    "\n",
    "                    text_source = pdf.pages[-1]\n",
    "                    content_pdf = text_source.extract_text()\n",
    "                source = content_pdf.split('27.8 5.0 19.1 69.4 72.8 3.62 22.8\\n')[1].split('OrganisationdesNations\\nUnies,')[0].replace('\\n',' ')\n",
    "\n",
    "                dfs_2 = tabula.read_pdf(f\"{base_path}\\\\{title}.pdf\", pages='all', encoding='latin-1')\n",
    "\n",
    "                with open(f'{base_path}\\\\{title}.csv','w',encoding=\"utf-8\") as f:\n",
    "                    headerList_2 =['Continent and country or area','Crude birth rate - Taux','Crude death rate','Infant mortality rate','Male - Life expectancy at birth','Female - Life expectancy at birth','Total fertility rate','Natural increase']\n",
    "                    dw_2 = csv.DictWriter(f, delimiter=',',\n",
    "                                        fieldnames=headerList_2)\n",
    "                    dw_2.writeheader()\n",
    "                    for df in dfs_2:\n",
    "                        df.to_csv(f,index=False)\n",
    "                        f.write(\"\\n\")\n",
    "                try:\n",
    "                    BodyDict[\"JobPath\"] = f\"{base_path}\\\\{title}.csv\"\n",
    "                    BodyDict[\"JsonDetails\"][\"table\"] = title\n",
    "                    BodyDict[\"JsonDetails\"][\"description\"] = title\n",
    "                    BodyDict[\"JsonDetails\"]['additional_data_sources'] = source\n",
    "                    #TriggerInferShemaToJsonAPIClass = TriggerInferShemaToJsonAPI(BodyDict=BodyDict)\n",
    "                    #TriggerInferShemaToJsonAPIClass.TriggerAPI()\n",
    "                    logging.info(f\"Conversion successful - {title} \")\n",
    "                    print(BodyDict)\n",
    "                except  Exception as err:\n",
    "                    print(err)"
   ]
  },
  {
   "cell_type": "code",
   "execution_count": 121,
   "metadata": {},
   "outputs": [
    {
     "name": "stdout",
     "output_type": "stream",
     "text": [
      "SOURCE UnitedNations,DepartmentofEconomicandSocialAffairs,PopulationDivision (2019).2019RevisionofWorldPopulationProspects\n"
     ]
    },
    {
     "name": "stderr",
     "output_type": "stream",
     "text": [
      "WARNING:tabula.io:Got stderr: Dec 27, 2022 3:28:57 PM org.apache.pdfbox.pdmodel.graphics.color.PDICCBased fallbackToAlternateColorSpace\n",
      "WARNING: Can't read embedded ICC profile (Invalid ICC Profile Data), using alternate color space: DeviceRGB\n",
      "Dec 27, 2022 3:28:58 PM org.apache.pdfbox.pdmodel.graphics.color.PDICCBased fallbackToAlternateColorSpace\n",
      "WARNING: Can't read embedded ICC profile (Invalid ICC Profile Data), using alternate color space: DeviceRGB\n",
      "Dec 27, 2022 3:28:59 PM org.apache.pdfbox.pdmodel.graphics.color.PDICCBased fallbackToAlternateColorSpace\n",
      "WARNING: Can't read embedded ICC profile (Invalid ICC Profile Data), using alternate color space: DeviceRGB\n",
      "Dec 27, 2022 3:29:00 PM org.apache.pdfbox.pdmodel.graphics.color.PDICCBased fallbackToAlternateColorSpace\n",
      "WARNING: Can't read embedded ICC profile (Invalid ICC Profile Data), using alternate color space: DeviceRGB\n",
      "Dec 27, 2022 3:29:00 PM org.apache.pdfbox.pdmodel.graphics.color.PDICCBased fallbackToAlternateColorSpace\n",
      "WARNING: Can't read embedded ICC profile (Invalid ICC Profile Data), using alternate color space: DeviceRGB\n",
      "Dec 27, 2022 3:29:00 PM org.apache.pdfbox.pdmodel.graphics.color.PDICCBased fallbackToAlternateColorSpace\n",
      "WARNING: Can't read embedded ICC profile (Invalid ICC Profile Data), using alternate color space: DeviceRGB\n",
      "\n",
      "INFO:root:Conversion successful - I - Annual mid-year population, United Nations estimates  2012 - 2021 \n"
     ]
    },
    {
     "name": "stdout",
     "output_type": "stream",
     "text": [
      "{'JobPath': 'c:\\\\Users\\\\10235555\\\\Documents\\\\DataportalCrawlers\\\\UN_Data\\\\UNStat_demogrphic_yearbook\\\\I - Annual mid-year population, United Nations estimates  2012 - 2021.csv', 'JsonDetails': {'organisation': 'un-agencies', 'source': 'UNSTATS', 'source_description': 'The Demographic Yearbook 2021 is the seventy-second issue in a series published by the United Nations since 1948. It contains tables on a wide range of demographic statistics, including a world summary of selected demographic statistics, statistics on the size, distribution and trends in national populations,fertility, foetal mortality, infant and maternal mortality, general mortality, nuptiality and divorce. Data are shown by urban/rural residence, as available. The volume provides Technical Notes, a synoptic table, a historical index and a listing of the issues of the Demographic Yearbook published to date. This issue of Demographic Yearbook contains data as available including reference year 2021.', 'source_url': 'https://unstats.un.org/unsd/demographic-social/products/dyb/dyb_2021/', 'table': 'I - Annual mid-year population, United Nations estimates  2012 - 2021', 'description': 'I - Annual mid-year population, United Nations estimates  2012 - 2021', 'JobType': 'JSON', 'CleanPush': True, 'Server': 'str', 'UseJsonFormatForSQL': False, 'CleanReplace': True, 'MergeSchema': False, 'tags': [{'name': ''}], 'additional_data_sources': 'SOURCE UnitedNations,DepartmentofEconomicandSocialAffairs,PopulationDivision (2019).2019RevisionofWorldPopulationProspects', 'limitations': '', 'concept': '', 'periodicity': '', 'topic': 'ANNEX', 'created': '', 'last_modified': '', 'TriggerTalend': False, 'SavePathForJsonOutput': ''}}\n"
     ]
    },
    {
     "name": "stderr",
     "output_type": "stream",
     "text": [
      "WARNING:tabula.io:Got stderr: Dec 27, 2022 3:29:01 PM org.apache.pdfbox.pdmodel.graphics.color.PDICCBased fallbackToAlternateColorSpace\n",
      "WARNING: Can't read embedded ICC profile (Invalid ICC Profile Data), using alternate color space: DeviceRGB\n",
      "Dec 27, 2022 3:29:02 PM org.apache.pdfbox.pdmodel.graphics.color.PDICCBased fallbackToAlternateColorSpace\n",
      "WARNING: Can't read embedded ICC profile (Invalid ICC Profile Data), using alternate color space: DeviceRGB\n",
      "Dec 27, 2022 3:29:02 PM org.apache.pdfbox.pdmodel.graphics.color.PDICCBased fallbackToAlternateColorSpace\n",
      "WARNING: Can't read embedded ICC profile (Invalid ICC Profile Data), using alternate color space: DeviceRGB\n",
      "Dec 27, 2022 3:29:03 PM org.apache.pdfbox.pdmodel.graphics.color.PDICCBased fallbackToAlternateColorSpace\n",
      "WARNING: Can't read embedded ICC profile (Invalid ICC Profile Data), using alternate color space: DeviceRGB\n",
      "Dec 27, 2022 3:29:03 PM org.apache.pdfbox.pdmodel.graphics.color.PDICCBased fallbackToAlternateColorSpace\n",
      "WARNING: Can't read embedded ICC profile (Invalid ICC Profile Data), using alternate color space: DeviceRGB\n",
      "\n",
      "INFO:root:Conversion successful - II -  Vital statistics summary, United Nations medium variant projections  2020 - 2025 \n"
     ]
    },
    {
     "name": "stdout",
     "output_type": "stream",
     "text": [
      "{'JobPath': 'c:\\\\Users\\\\10235555\\\\Documents\\\\DataportalCrawlers\\\\UN_Data\\\\UNStat_demogrphic_yearbook\\\\II -  Vital statistics summary, United Nations medium variant projections  2020 - 2025.csv', 'JsonDetails': {'organisation': 'un-agencies', 'source': 'UNSTATS', 'source_description': 'The Demographic Yearbook 2021 is the seventy-second issue in a series published by the United Nations since 1948. It contains tables on a wide range of demographic statistics, including a world summary of selected demographic statistics, statistics on the size, distribution and trends in national populations,fertility, foetal mortality, infant and maternal mortality, general mortality, nuptiality and divorce. Data are shown by urban/rural residence, as available. The volume provides Technical Notes, a synoptic table, a historical index and a listing of the issues of the Demographic Yearbook published to date. This issue of Demographic Yearbook contains data as available including reference year 2021.', 'source_url': 'https://unstats.un.org/unsd/demographic-social/products/dyb/dyb_2021/', 'table': 'II -  Vital statistics summary, United Nations medium variant projections  2020 - 2025', 'description': 'II -  Vital statistics summary, United Nations medium variant projections  2020 - 2025', 'JobType': 'JSON', 'CleanPush': True, 'Server': 'str', 'UseJsonFormatForSQL': False, 'CleanReplace': True, 'MergeSchema': False, 'tags': [{'name': ''}], 'additional_data_sources': [{'name': ''}], 'limitations': '', 'concept': '', 'periodicity': '', 'topic': 'ANNEX', 'created': '', 'last_modified': '', 'TriggerTalend': False, 'SavePathForJsonOutput': ''}}\n"
     ]
    }
   ],
   "source": [
    "url = \"https://unstats.un.org\"\n",
    "parent_node = soup.find(class_ = 'sub1')\n",
    "child_node = parent_node.find_all('li')[34]\n",
    "files = child_node.find('ul',{'class':'leaf'})\n",
    "tags = child_node.text.partition('\\r')[0]\n",
    "table = files.find_all('li')\n",
    "for t in table:\n",
    "    title = t.text.partition('\\n')[0].replace('/', ' or ').replace('\\t',' ').replace('\\r','').replace(':',' ')\n",
    "    link_pdf = t.find('a')['href']\n",
    "    link_pdf = str(url) + link_pdf\n",
    "    #urllib.request.urlretrieve(link_pdf,f\"{base_path}\\\\{title}.pdf\")\n",
    "    BodyDict = {\n",
    "        \"JobPath\":\"\", #* Point to downloaded data for conversion #\n",
    "        \"JsonDetails\":{\n",
    "                ## Required\n",
    "                \"organisation\": \"un-agencies\",\n",
    "                \"source\": \"UNSTATS\",\n",
    "                \"source_description\" : \"The Demographic Yearbook 2021 is the seventy-second issue in a series published by the United Nations since 1948. It contains tables on a wide range of demographic statistics, including a world summary of selected demographic statistics, statistics on the size, distribution and trends in national populations,fertility, foetal mortality, infant and maternal mortality, general mortality, nuptiality and divorce. Data are shown by urban/rural residence, as available. The volume provides Technical Notes, a synoptic table, a historical index and a listing of the issues of the Demographic Yearbook published to date. This issue of Demographic Yearbook contains data as available including reference year 2021.\",\n",
    "                \"source_url\" : \"https://unstats.un.org/unsd/demographic-social/products/dyb/dyb_2021/\",\n",
    "                \"table\" : title,\n",
    "                \"description\" : \"\",\n",
    "                ## Optional\n",
    "                \"JobType\": \"JSON\",\n",
    "                \"CleanPush\": True,\n",
    "                \"Server\": \"str\",\n",
    "                \"UseJsonFormatForSQL\":  False,\n",
    "                \"CleanReplace\":True,\n",
    "                \"MergeSchema\": False,\n",
    "                \"tags\": [{\n",
    "                    \"name\": ''\n",
    "                }],\n",
    "                \"additional_data_sources\": [{\n",
    "                    \"name\": \"\"\n",
    "                }],\n",
    "                \"limitations\":\"\",\n",
    "                \"concept\":  \"\",\n",
    "                \"periodicity\":  \"\",\n",
    "                \"topic\":  tags,\n",
    "                \"created\": \"\",                       #* this should follow the following formats %Y-%m-%dT%H:%M:%S\" or \"%Y-%m-%d\"\n",
    "                \"last_modified\": \"\",                #* \"\"               \"\"                  \"\"              \"\"\n",
    "                \"TriggerTalend\" :  False,    #* initialise to True for production\n",
    "                \"SavePathForJsonOutput\": \"\" #* initialise as empty string for production.\n",
    "            }\n",
    "        }\n",
    "    #print(BodyDict)\n",
    "\n",
    "    if title == 'I - Annual mid-year population, United Nations estimates  2012 - 2021':\n",
    "        with pdfplumber.open(f\"{base_path}\\\\{title}.pdf\") as pdf:\n",
    "\n",
    "            text_source = pdf.pages[-1]\n",
    "            content_pdf = text_source.extract_text()\n",
    "\n",
    "        source = content_pdf.split('-OrganisationdesNations\\nUnies,')[0].replace('\\n',' ')\n",
    "        print(source)\n",
    "        dfs_1= tabula.read_pdf(f\"{base_path}\\\\{title}.pdf\", pages='all', encoding='latin-1')\n",
    "\n",
    "        with open(f'{base_path}\\\\{title}.csv','w') as f:\n",
    "            headerList =['Continent and country or area','2012','2013','2014','2015','2016','2017','2018','2019','2020','2021']\n",
    "            dw = csv.DictWriter(f, delimiter=',',\n",
    "                                fieldnames=headerList)\n",
    "            dw.writeheader()\n",
    "            writer = csv.writer(f) \n",
    "            writer.writerow(['Population estimates in thousands'])\n",
    "            for df in dfs_1:\n",
    "                df.to_csv(f,index=False)\n",
    "                f.write(\"\\n\")\n",
    "\n",
    "        try:\n",
    "            BodyDict[\"JobPath\"] = f\"{base_path}\\\\{title}.csv\"\n",
    "            BodyDict[\"JsonDetails\"][\"table\"] = title\n",
    "            BodyDict[\"JsonDetails\"][\"description\"] = title\n",
    "            BodyDict[\"JsonDetails\"][\"additional_data_sources\"]= source\n",
    "            #TriggerInferShemaToJsonAPIClass = TriggerInferShemaToJsonAPI(BodyDict=BodyDict)\n",
    "            #TriggerInferShemaToJsonAPIClass.TriggerAPI()\n",
    "            logging.info(f\"Conversion successful - {title} \")\n",
    "            print(BodyDict)\n",
    "        except  Exception as err:\n",
    "            print(err)\n",
    "    elif title == 'II -  Vital statistics summary, United Nations medium variant projections  2020 - 2025':\n",
    "        with pdfplumber.open(f\"{base_path}\\\\{title}.pdf\") as pdf:\n",
    "\n",
    "            text_source = pdf.pages[-1]\n",
    "            content_pdf = text_source.extract_text()\n",
    "        source_2 = content_pdf.split('27.8 5.0 19.1 69.4 72.8 3.62 22.8\\n')[1].split('OrganisationdesNations\\nUnies,')[0].replace('\\n',' ')\n",
    "\n",
    "        dfs_2 = tabula.read_pdf(f\"{base_path}\\\\{title}.pdf\", pages='all', encoding='latin-1')\n",
    "\n",
    "        with open(f'{base_path}\\\\{title}.csv','w',encoding=\"utf-8\") as f:\n",
    "            headerList_2 =['Continent and country or area','Crude birth rate - Taux','Crude death rate','Infant mortality rate','Male - Life expectancy at birth','Female - Life expectancy at birth','Total fertility rate','Natural increase']\n",
    "            dw_2 = csv.DictWriter(f, delimiter=',',\n",
    "                                fieldnames=headerList_2)\n",
    "            dw_2.writeheader()\n",
    "            for df in dfs_2:\n",
    "                df.to_csv(f,index=False)\n",
    "                f.write(\"\\n\")\n",
    "        try:\n",
    "            BodyDict[\"JobPath\"] = f\"{base_path}\\\\{title}.csv\"\n",
    "            BodyDict[\"JsonDetails\"][\"table\"] = title\n",
    "            BodyDict[\"JsonDetails\"][\"description\"] = title\n",
    "            #BodyDict[\"JsonDetails\"]['additional_data_sources']['name'] = source_2\n",
    "            #TriggerInferShemaToJsonAPIClass = TriggerInferShemaToJsonAPI(BodyDict=BodyDict)\n",
    "            #TriggerInferShemaToJsonAPIClass.TriggerAPI()\n",
    "            logging.info(f\"Conversion successful - {title} \")\n",
    "            print(BodyDict)\n",
    "        except  Exception as err:\n",
    "            print(err)"
   ]
  },
  {
   "cell_type": "code",
   "execution_count": 67,
   "metadata": {},
   "outputs": [
    {
     "ename": "FileNotFoundError",
     "evalue": "[Errno 2] No such file or directory: 'c:\\\\Users\\\\10235555\\\\Documents\\\\DataportalCrawlers\\\\UN_Data\\\\UNStat_demogrphic_yearbook\\\\Table10.pdf'",
     "output_type": "error",
     "traceback": [
      "\u001b[1;31m---------------------------------------------------------------------------\u001b[0m",
      "\u001b[1;31mFileNotFoundError\u001b[0m                         Traceback (most recent call last)",
      "Cell \u001b[1;32mIn [67], line 23\u001b[0m\n\u001b[0;32m     21\u001b[0m     \u001b[39mpass\u001b[39;00m\n\u001b[0;32m     22\u001b[0m \u001b[39mimport\u001b[39;00m \u001b[39mpdfplumber\u001b[39;00m\n\u001b[1;32m---> 23\u001b[0m \u001b[39mwith\u001b[39;00m pdfplumber\u001b[39m.\u001b[39;49mopen(\u001b[39mf\u001b[39;49m\u001b[39m\"\u001b[39;49m\u001b[39m{\u001b[39;49;00mbase_path\u001b[39m}\u001b[39;49;00m\u001b[39m\\\\\u001b[39;49;00m\u001b[39mTable10.pdf\u001b[39;49m\u001b[39m\"\u001b[39;49m) \u001b[39mas\u001b[39;00m pdf:\n\u001b[0;32m     25\u001b[0m     text \u001b[39m=\u001b[39m pdf\u001b[39m.\u001b[39mpages[\u001b[39m0\u001b[39m:\u001b[39m2\u001b[39m] \u001b[39m#and pdf.pages[1]\u001b[39;00m\n\u001b[0;32m     26\u001b[0m     \u001b[39mfor\u001b[39;00m t \u001b[39min\u001b[39;00m text:\n",
      "File \u001b[1;32mc:\\Users\\10235555\\AppData\\Local\\Programs\\Python\\Python311\\Lib\\site-packages\\pdfplumber\\pdf.py:71\u001b[0m, in \u001b[0;36mPDF.open\u001b[1;34m(cls, path_or_fp, pages, laparams, password, strict_metadata)\u001b[0m\n\u001b[0;32m     60\u001b[0m \u001b[39m@classmethod\u001b[39m\n\u001b[0;32m     61\u001b[0m \u001b[39mdef\u001b[39;00m \u001b[39mopen\u001b[39m(\n\u001b[0;32m     62\u001b[0m     \u001b[39mcls\u001b[39m,\n\u001b[1;32m   (...)\u001b[0m\n\u001b[0;32m     67\u001b[0m     strict_metadata: \u001b[39mbool\u001b[39m \u001b[39m=\u001b[39m \u001b[39mFalse\u001b[39;00m,\n\u001b[0;32m     68\u001b[0m ) \u001b[39m-\u001b[39m\u001b[39m>\u001b[39m \u001b[39m\"\u001b[39m\u001b[39mPDF\u001b[39m\u001b[39m\"\u001b[39m:\n\u001b[0;32m     70\u001b[0m     \u001b[39mif\u001b[39;00m \u001b[39misinstance\u001b[39m(path_or_fp, (\u001b[39mstr\u001b[39m, pathlib\u001b[39m.\u001b[39mPath)):\n\u001b[1;32m---> 71\u001b[0m         stream \u001b[39m=\u001b[39m \u001b[39mopen\u001b[39m(path_or_fp, \u001b[39m\"\u001b[39m\u001b[39mrb\u001b[39m\u001b[39m\"\u001b[39m)\n\u001b[0;32m     72\u001b[0m         stream_is_external \u001b[39m=\u001b[39m \u001b[39mFalse\u001b[39;00m\n\u001b[0;32m     73\u001b[0m     \u001b[39melse\u001b[39;00m:\n",
      "\u001b[1;31mFileNotFoundError\u001b[0m: [Errno 2] No such file or directory: 'c:\\\\Users\\\\10235555\\\\Documents\\\\DataportalCrawlers\\\\UN_Data\\\\UNStat_demogrphic_yearbook\\\\Table10.pdf'"
     ]
    }
   ],
   "source": [
    "\n",
    "url = \"https://unstats.un.org\"\n",
    "parent_node = soup.find(class_ = 'sub1')\n",
    "child_node = parent_node.find_all('li')[0]\n",
    "files = child_node.find('ul',{'class':'leaf'})\n",
    "#top =child_node.find_all(\"li\")[files.index(files)].text\n",
    "top = child_node.text.partition('\\r')[0]\n",
    "table = files.find_all('li')\n",
    "for t in table:\n",
    "    title = t.text.partition('\\n')[0].replace('/', ' or ')\n",
    "    #print(title)\n",
    "    link_xls = t.find_all('a')[1]['href']\n",
    "    link_xls = str(url) + link_xls\n",
    "    link_pdf = t.find_all('a')[2]['href']\n",
    "    link_pdf = str(url) + link_pdf\n",
    "    #urllib.request.urlretrieve(link_xls,f\"{base_path}\\\\{title.replace(':','')}.xls\")\n",
    "    #pdf = requests.get(link_pdf)\n",
    "    #print(pdf.content)\n",
    "    try:\n",
    "        urllib.request.urlretrieve(link_pdf,f\"{base_path}\\\\{title.replace(':','')}.pdf\")\n",
    "    except:\n",
    "        pass\n",
    "    import pdfplumber\n",
    "    with pdfplumber.open(f\"{base_path}\\\\Table10.pdf\") as pdf:\n",
    "\n",
    "        text = pdf.pages[0:2] #and pdf.pages[1]\n",
    "        for t in text:\n",
    "            content = t.extract_text()\n",
    "            conten.append(content)\n",
    "    content_all = ' '.join([str(elem) for elem in conten])\n",
    "    meta_topic = content_all.split('Description of variables')[0].replace('\\n \\n \\n',',').replace('\\n','')\n",
    "    meta_descript =content_all.split('Description of variables')[1]\n",
    "    meta_description = meta_descript.split('Reliability of data')[0].replace('\\n','').replace('\\n \\n','').replace(':','')\n",
    "    concept = meta_descript.split('Reliability of data')[1].split('Limitations')[0].replace('\\n','').replace('\\n \\n','').replace(':','')\n",
    "    if 'Earlier data' not in content_all:\n",
    "        limitations = meta_descript.split('Limitations')[1].split('Earlier data')[0].replace('\\n','').replace('\\n \\n','').replace(':','')\n",
    "    else :\n",
    "        limitations = meta_descript.split('Limitations')[1].split('Earlier data')[0].replace('\\n','').replace('\\n \\n','').replace(':','')\n",
    "    if 'Description of variables' not in content_all:\n",
    "        meta_topic = content_all.partition('\\nThe life')[0].replace('\\n','')\n",
    "        meta_description = content_all.partition('\\nThe life')[2].split('Reliability of data')[0].replace('\\n','').replace('\\n \\n','').replace(':','')\n",
    "        meta_description=f'The life{meta_description}'\n",
    "        concept =  content_all.partition('\\nThe life')[2].split('Reliability of data')[1].split('Limitations')[0].replace('\\n','').replace('\\n \\n','').replace(':','')\n",
    "        limitations = content_all.partition('\\nThe life')[2].split('Reliability of data')[1].split('Limitations')[1].split('Earlier data')[0].replace('\\n','').replace('\\n \\n','').replace(':','')\n",
    "    "
   ]
  },
  {
   "cell_type": "code",
   "execution_count": 267,
   "metadata": {},
   "outputs": [
    {
     "data": {
      "text/plain": [
       "' The estimated orders of magnitude of population and land area are subject to all the basic limitations set forth in connection with table 3, and to the same qualifications set forth for population and surface area statistics in sections 3 and 2.4 of the Technical Notes, respectively. Likewise, rates of population increase and population density are affected by the limitations of the original figures. However, it may be noted that, in compiling data for regional and major areas totals, errors in the components may tend to compensate each other and the resulting aggregates may be more reliable than the quality of the individual components would imply. Because of their estimated character, many of the birth and death rates shown should also be considered only as orders of magnitude, and not as measures of the true level of fertility or mortality.    In interpreting the population densities, one should consider that some of the regions include large segments of land that are uninhabitable or barely habitable, and density values calculated as described make no allowance for this, nor for differences in patterns of land settlement. 40  '"
      ]
     },
     "execution_count": 267,
     "metadata": {},
     "output_type": "execute_result"
    }
   ],
   "source": [
    "\n",
    "colm = []\n",
    "import pdfplumber\n",
    "with pdfplumber.open(f\"{base_path}\\\\Table 1 - Population, rate of increase, birth and death rates, surface area and density for the world, major areas and regions selected years.pdf\") as pdf:\n",
    "\n",
    "    text = pdf.pages[0:2] #and pdf.pages[1]\n",
    "    for t in text:\n",
    "\n",
    "        clean_text = t.filter(lambda obj: obj[\"object_type\"] == \"char\" and \"Bold\" in obj[\"fontname\"])\n",
    "\n",
    "        col=clean_text.extract_text()#.split(\"\\n\")#[2:]\n",
    "        colm.append(col)\n",
    "        content = t.extract_text()\n",
    "        conten.append(content)\n",
    "content_all = ' '.join([str(elem) for elem in conten])\n",
    "meta_topic = content_all.split('Description of variables')[0].replace('\\n \\n \\n',',').replace('\\n','')\n",
    "meta_descript =content_all.split('Description of variables')[1]\n",
    "meta_description = meta_descript.split('Reliability of data')[0].replace('\\n','').replace('\\n \\n','').replace(':','')\n",
    "concept = meta_descript.split('Reliability of data')[1].split('Limitations')[0].replace('\\n','').replace('\\n \\n','').replace(':','')\n",
    "limitations = meta_descript.split('Limitations')[1].split('Composition of major areas and regions')[0].replace('\\n','').replace('\\n \\n','').replace(':','')\n",
    "limitations"
   ]
  },
  {
   "cell_type": "code",
   "execution_count": 265,
   "metadata": {},
   "outputs": [
    {
     "data": {
      "text/plain": [
       "['Table 1 – Demographic Yearbook 2021 \\nDescription of variables\\nComputation\\nReliability of data\\nLimitations',\n",
       " ' \\nComposition of major areas and regions \\n \\nAFRICA \\n \\nEastern Africa \\nASIA \\n \\nEastern Asia \\nEUROPE \\n \\nEastern Europe \\nMiddle Africa \\nSouth-Central Asia \\nNorthern Europe           \\nNorthern Africa \\nSouth-Eastern Asia  \\nSouthern Africa \\n \\nSouthern Europe \\nWestern Africa \\n \\nWestern Asia ']"
      ]
     },
     "execution_count": 265,
     "metadata": {},
     "output_type": "execute_result"
    }
   ],
   "source": [
    "colm"
   ]
  },
  {
   "cell_type": "code",
   "execution_count": 42,
   "metadata": {},
   "outputs": [
    {
     "data": {
      "text/plain": [
       "' The data presented in this table are from the same series of estimates, prepared by the Population Division of the United Nations, presented in table 1. The estimated orders of magnitude of population are subject to all the basic limitations set forth for population statistics in section 3 of the Technical Notes. In brief, because they are estimates, these distributions by broad age groups and sex should be considered only as orders of magnitude. However, in compiling data for regional and major areas’ totals, errors in the components tend to compensate each other and the resulting aggregates may be somewhat more reliable than the quality of the individual components would imply.  In addition, data in this table are limited by factors affecting data by age. These factors are described in the technical notes for table 7. Because the age groups presented in this table are broad, these problems are minimized.    '"
      ]
     },
     "execution_count": 42,
     "metadata": {},
     "output_type": "execute_result"
    }
   ],
   "source": [
    "with pdfplumber.open(f\"{base_path}\\\\Table 2 - Estimates of population and its percentage distribution, by age and sex and sex ratio for all ages for the world, major areas and regions 2021.pdf\") as pdf:\n",
    "\n",
    "    text = pdf.pages[0:2]\n",
    "    for te in text:\n",
    "        content = te.extract_text()\n",
    "        conten.append(content)\n",
    "content_all = ' '.join([str(elem) for elem in conten])\n",
    "meta_topic = content_all.split('Description of  variables')[0].replace('\\n \\n \\n',',').replace('\\n','')\n",
    "meta_descript =content_all.split('Description of  variables')[1]\n",
    "meta_description = meta_descript.split('Reliability of data')[0].replace('\\n','').replace('\\n \\n','').replace(':','')\n",
    "concept = meta_descript.split('Reliability of data')[1].split('Limitations')[0].replace('\\n','').replace('\\n \\n','').replace(':','')\n",
    "limitations = meta_descript.split('Limitations')[1].split('1 United Nations,')[0].replace('\\n','').replace('\\n \\n','').replace(':','')\n",
    "limitations"
   ]
  },
  {
   "cell_type": "code",
   "execution_count": null,
   "metadata": {},
   "outputs": [],
   "source": [
    "# I - Annual mid-year population, United Nations estimates: 2012 - 2021\n",
    "# II -  Vital statistics summary, United Nations medium variant projections: 2020 - 2025\n",
    "# Historical index\n",
    "# Supplemental Index of Datasets Published Online"
   ]
  },
  {
   "cell_type": "code",
   "execution_count": 59,
   "metadata": {},
   "outputs": [
    {
     "name": "stdout",
     "output_type": "stream",
     "text": [
      "I - Annual mid-year population, United Nations estimates: 2012 - 2021\n",
      "II -  Vital statistics summary, United Nations medium variant projections: 2020 - 2025\n"
     ]
    }
   ],
   "source": [
    "PDF_path='c:\\\\Users\\\\10235555\\\\Documents\\\\DataportalCrawlers\\\\UN_Data\\\\pdf files UNStat_demographicYearbook'\n",
    "\n",
    "\n",
    "url = \"https://unstats.un.org\"\n",
    "parent_node1 = soup.find(class_ = 'sub1')\n",
    "child_node1 = parent_node1.find_all('li')[34]\n",
    "files1 = child_node1.find('ul',{'class':'leaf'})\n",
    "#top =child_node.find_all(\"li\")[files.index(files)].text\n",
    "tags1 = child_node1.text.partition('\\r')[0]\n",
    "table1 = files1.find_all('li')\n",
    "#print(table)\n",
    "for t in table1:\n",
    "    title = t.text.partition('\\n')[0].replace('/', ' or ').replace('\\t',' ').replace('\\r','')\n",
    "    print(title)\n",
    "    link_pdf = t.find('a')['href']\n",
    "    link_pdf = str(url) + link_pdf \n",
    "    urllib.request.urlretrieve(link_pdf,f\"{base_path}\\\\{title.replace(':',' ')}.pdf\")\n",
    "\n",
    "#extract_table\n",
    "\n"
   ]
  },
  {
   "cell_type": "code",
   "execution_count": 55,
   "metadata": {},
   "outputs": [
    {
     "data": {
      "text/plain": [
       "'SOURCE UnitedNations,DepartmentofEconomicandSocialAffairs,PopulationDivision (2019).2019RevisionofWorldPopulationProspects'"
      ]
     },
     "execution_count": 55,
     "metadata": {},
     "output_type": "execute_result"
    }
   ],
   "source": [
    "PDF_path='c:\\\\Users\\\\10235555\\\\Documents\\\\DataportalCrawlers\\\\UN_Data\\\\pdf files UNStat_demographicYearbook'\n",
    "import pdfplumber\n",
    "with pdfplumber.open(f\"{PDF_path}\\\\I - Annual mid-year population, United Nations estimates  2012 - 2021.pdf\") as pdf:\n",
    "\n",
    "    text_source = pdf.pages[-1]\n",
    "    content_pdf = text_source.extract_text()\n",
    "\n",
    "content_pdf.split('-OrganisationdesNations\\nUnies,')[0].replace('\\n',' ')\n"
   ]
  },
  {
   "cell_type": "code",
   "execution_count": 54,
   "metadata": {},
   "outputs": [
    {
     "data": {
      "text/plain": [
       "'SOURCE UnitedNations,DepartmentofEconomicandSocialAffairs,PopulationDivision (2019).2019RevisionofWorldPopulationProspects-'"
      ]
     },
     "execution_count": 54,
     "metadata": {},
     "output_type": "execute_result"
    }
   ],
   "source": [
    "PDF_path='c:\\\\Users\\\\10235555\\\\Documents\\\\DataportalCrawlers\\\\UN_Data\\\\pdf files UNStat_demographicYearbook'\n",
    "import pdfplumber\n",
    "with pdfplumber.open(f\"{PDF_path}\\\\II -  Vital statistics summary, United Nations medium variant projections  2020 - 2025.pdf\") as pdf:\n",
    "\n",
    "    text_source = pdf.pages[-1]\n",
    "    content_pdf = text_source.extract_text()\n",
    "content_pdf.split('27.8 5.0 19.1 69.4 72.8 3.62 22.8\\n')[1].split('OrganisationdesNations\\nUnies,')[0].replace('\\n',' ')"
   ]
  },
  {
   "cell_type": "code",
   "execution_count": 76,
   "metadata": {},
   "outputs": [
    {
     "name": "stderr",
     "output_type": "stream",
     "text": [
      "2022-12-23T11:40:31 - INFO - Processing page-1\n",
      "INFO:camelot:Processing page-1\n"
     ]
    },
    {
     "name": "stdout",
     "output_type": "stream",
     "text": [
      "Total tables extracted: 0\n"
     ]
    }
   ],
   "source": [
    "import camelot\n",
    "\n",
    "# PDF file to extract tables from\n",
    "file = f\"{PDF_path}\\\\I - Annual mid-year population, United Nations estimates  2012 - 2021.pdf\"\n",
    "tables = camelot.read_pdf(file)\n",
    "print(\"Total tables extracted:\", tables.n)"
   ]
  },
  {
   "cell_type": "code",
   "execution_count": 6,
   "metadata": {},
   "outputs": [
    {
     "name": "stderr",
     "output_type": "stream",
     "text": [
      "Got stderr: Dec 23, 2022 1:25:51 PM org.apache.pdfbox.pdmodel.graphics.color.PDICCBased fallbackToAlternateColorSpace\n",
      "WARNING: Can't read embedded ICC profile (Invalid ICC Profile Data), using alternate color space: DeviceRGB\n",
      "Dec 23, 2022 1:25:52 PM org.apache.pdfbox.pdmodel.graphics.color.PDICCBased fallbackToAlternateColorSpace\n",
      "WARNING: Can't read embedded ICC profile (Invalid ICC Profile Data), using alternate color space: DeviceRGB\n",
      "Dec 23, 2022 1:25:52 PM org.apache.pdfbox.pdmodel.graphics.color.PDICCBased fallbackToAlternateColorSpace\n",
      "WARNING: Can't read embedded ICC profile (Invalid ICC Profile Data), using alternate color space: DeviceRGB\n",
      "Dec 23, 2022 1:25:52 PM org.apache.pdfbox.pdmodel.graphics.color.PDICCBased fallbackToAlternateColorSpace\n",
      "WARNING: Can't read embedded ICC profile (Invalid ICC Profile Data), using alternate color space: DeviceRGB\n",
      "Dec 23, 2022 1:25:53 PM org.apache.pdfbox.pdmodel.graphics.color.PDICCBased fallbackToAlternateColorSpace\n",
      "WARNING: Can't read embedded ICC profile (Invalid ICC Profile Data), using alternate color space: DeviceRGB\n",
      "Dec 23, 2022 1:25:53 PM org.apache.pdfbox.pdmodel.graphics.color.PDICCBased fallbackToAlternateColorSpace\n",
      "WARNING: Can't read embedded ICC profile (Invalid ICC Profile Data), using alternate color space: DeviceRGB\n",
      "\n"
     ]
    }
   ],
   "source": [
    "import tabula\n",
    "import csv\n",
    "import pandas as pd\n",
    "PDF_path='c:\\\\Users\\\\10235555\\\\Documents\\\\DataportalCrawlers\\\\UN_Data\\\\pdf files UNStat_demographicYearbook'\n",
    "dfs = tabula.read_pdf(f\"{PDF_path}\\\\I - Annual mid-year population, United Nations estimates  2012 - 2021.pdf\", pages='all', encoding='latin-1')\n",
    "\n",
    "#for i in range(len(dfs)):\n",
    "# for df in dfs:\n",
    "#     print(type(df))\n",
    "#     df.to_csv(\"tablefrompdf.csv\")\n",
    "with open('all_dfs.csv','w') as f:\n",
    "    for df in dfs:\n",
    "        # f.write('Population estimates (in thousands)')\n",
    "        # f.write(\"\\n\")\n",
    "        # f.write(\"\\n\")\n",
    "        #headers =['Continent and country or area','2012','2013','2014','2015','2016','2017','2018','2019','2020','2021']\n",
    "        df.to_csv(f,index=False)\n",
    "        f.write(\"\\n\")\n",
    "ddf = pd.read_csv('all_dfs.csv')\n",
    "with  open('all_dfs.csv','w') as add:\n",
    "    add.write('Population estimates (in thousands)')\n",
    "    add.write(\"\\n\")\n",
    "    headers= ['Continent and country or area','2012','2013','2014','2015','2016','2017','2018','2019','2020','2021']\n",
    "    writer = csv.writer(add)\n",
    "    writer.writerow(headers)"
   ]
  },
  {
   "cell_type": "code",
   "execution_count": 1,
   "metadata": {},
   "outputs": [
    {
     "name": "stderr",
     "output_type": "stream",
     "text": [
      "Got stderr: Dec 27, 2022 9:03:21 AM org.apache.pdfbox.pdmodel.graphics.color.PDICCBased fallbackToAlternateColorSpace\n",
      "WARNING: Can't read embedded ICC profile (Invalid ICC Profile Data), using alternate color space: DeviceRGB\n",
      "Dec 27, 2022 9:03:23 AM org.apache.pdfbox.pdmodel.graphics.color.PDICCBased fallbackToAlternateColorSpace\n",
      "WARNING: Can't read embedded ICC profile (Invalid ICC Profile Data), using alternate color space: DeviceRGB\n",
      "Dec 27, 2022 9:03:23 AM org.apache.pdfbox.pdmodel.graphics.color.PDICCBased fallbackToAlternateColorSpace\n",
      "WARNING: Can't read embedded ICC profile (Invalid ICC Profile Data), using alternate color space: DeviceRGB\n",
      "Dec 27, 2022 9:03:24 AM org.apache.pdfbox.pdmodel.graphics.color.PDICCBased fallbackToAlternateColorSpace\n",
      "WARNING: Can't read embedded ICC profile (Invalid ICC Profile Data), using alternate color space: DeviceRGB\n",
      "Dec 27, 2022 9:03:24 AM org.apache.pdfbox.pdmodel.graphics.color.PDICCBased fallbackToAlternateColorSpace\n",
      "WARNING: Can't read embedded ICC profile (Invalid ICC Profile Data), using alternate color space: DeviceRGB\n",
      "\n"
     ]
    }
   ],
   "source": [
    "import tabula \n",
    "import csv\n",
    "import pandas as pd\n",
    "PDF_path=PDF_path='c:\\\\Users\\\\10235555\\\\Documents\\\\DataportalCrawlers\\\\UN_Data\\\\pdf files UNStat_demographicYearbook'\n",
    "dfs = tabula.read_pdf(f\"{PDF_path}\\\\II -  Vital statistics summary, United Nations medium variant projections  2020 - 2025.pdf\", pages='all', encoding='latin-1')\n",
    "\n",
    "with open(f'{PDF_path}\\\\all_dfs.csv','w',encoding=\"utf-8\") as f:\n",
    "    headerList =['Continent and country or area','Crude birth rate - Taux','Crude death rate','Infant mortality rate','Male - Life expectancy at birth','Female - Life expectancy at birth','Total fertility rate','Natural increase']\n",
    "    dw = csv.DictWriter(f, delimiter=',',\n",
    "                        fieldnames=headerList)\n",
    "    dw.writeheader()\n",
    "    for df in dfs:\n",
    "        df.to_csv(f,index=False)\n",
    "        f.write(\"\\n\")"
   ]
  },
  {
   "cell_type": "code",
   "execution_count": 3,
   "metadata": {},
   "outputs": [
    {
     "name": "stderr",
     "output_type": "stream",
     "text": [
      "Got stderr: Dec 27, 2022 9:06:01 AM org.apache.pdfbox.pdmodel.graphics.color.PDICCBased fallbackToAlternateColorSpace\n",
      "WARNING: Can't read embedded ICC profile (Invalid ICC Profile Data), using alternate color space: DeviceRGB\n",
      "Dec 27, 2022 9:06:02 AM org.apache.pdfbox.pdmodel.graphics.color.PDICCBased fallbackToAlternateColorSpace\n",
      "WARNING: Can't read embedded ICC profile (Invalid ICC Profile Data), using alternate color space: DeviceRGB\n",
      "Dec 27, 2022 9:06:03 AM org.apache.pdfbox.pdmodel.graphics.color.PDICCBased fallbackToAlternateColorSpace\n",
      "WARNING: Can't read embedded ICC profile (Invalid ICC Profile Data), using alternate color space: DeviceRGB\n",
      "Dec 27, 2022 9:06:03 AM org.apache.pdfbox.pdmodel.graphics.color.PDICCBased fallbackToAlternateColorSpace\n",
      "WARNING: Can't read embedded ICC profile (Invalid ICC Profile Data), using alternate color space: DeviceRGB\n",
      "Dec 27, 2022 9:06:04 AM org.apache.pdfbox.pdmodel.graphics.color.PDICCBased fallbackToAlternateColorSpace\n",
      "WARNING: Can't read embedded ICC profile (Invalid ICC Profile Data), using alternate color space: DeviceRGB\n",
      "Dec 27, 2022 9:06:04 AM org.apache.pdfbox.pdmodel.graphics.color.PDICCBased fallbackToAlternateColorSpace\n",
      "WARNING: Can't read embedded ICC profile (Invalid ICC Profile Data), using alternate color space: DeviceRGB\n",
      "\n"
     ]
    }
   ],
   "source": [
    "import tabula \n",
    "import csv\n",
    "import pandas as pd\n",
    "PDF_path= 'c:\\\\Users\\\\10235555\\\\Documents\\\\DataportalCrawlers\\\\UN_Data\\\\pdf files UNStat_demographicYearbook'\n",
    "dfs = tabula.read_pdf(f\"{PDF_path}\\\\I - Annual mid-year population, United Nations estimates  2012 - 2021.pdf\", pages='all', encoding='latin-1')\n",
    "\n",
    "#for i in range(len(dfs)):\n",
    "# for df in dfs:\n",
    "#     print(type(df))\n",
    "#     df.to_csv(\"tablefrompdf.csv\")\n",
    "with open(f'{PDF_path}\\\\all_1_dfs.csv','w') as f:\n",
    "    headerList =['Continent and country or area','2012','2013','2014','2015','2016','2017','2018','2019','2020','2021']\n",
    "    dw = csv.DictWriter(f, delimiter=',',\n",
    "                        fieldnames=headerList)\n",
    "    dw.writeheader()\n",
    "    writer = csv.writer(f) \n",
    "    writer.writerow(['Population estimates in thousands'])\n",
    "    for df in dfs:\n",
    "        df.to_csv(f,index=False)\n",
    "        f.write(\"\\n\")"
   ]
  }
 ],
 "metadata": {
  "kernelspec": {
   "display_name": "Python 3",
   "language": "python",
   "name": "python3"
  },
  "language_info": {
   "codemirror_mode": {
    "name": "ipython",
    "version": 3
   },
   "file_extension": ".py",
   "mimetype": "text/x-python",
   "name": "python",
   "nbconvert_exporter": "python",
   "pygments_lexer": "ipython3",
   "version": "3.11.0 (main, Oct 24 2022, 18:26:48) [MSC v.1933 64 bit (AMD64)]"
  },
  "orig_nbformat": 4,
  "vscode": {
   "interpreter": {
    "hash": "69e035e7e91c91f4a781d2e2d4ddd23f591a0aa5fdf41d28e15c78aec28956a8"
   }
  }
 },
 "nbformat": 4,
 "nbformat_minor": 2
}
