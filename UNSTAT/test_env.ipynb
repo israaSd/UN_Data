{
 "cells": [
  {
   "cell_type": "code",
   "execution_count": 4,
   "metadata": {},
   "outputs": [
    {
     "name": "stderr",
     "output_type": "stream",
     "text": [
      "Exception ignored in: <function ZipFile.__del__ at 0x0000024CC0BD2020>\n",
      "Traceback (most recent call last):\n",
      "  File \"c:\\Users\\10235555\\AppData\\Local\\Programs\\Python\\Python311\\Lib\\zipfile.py\", line 1870, in __del__\n",
      "    self.close()\n",
      "  File \"c:\\Users\\10235555\\AppData\\Local\\Programs\\Python\\Python311\\Lib\\zipfile.py\", line 1887, in close\n",
      "    self.fp.seek(self.start_dir)\n",
      "ValueError: I/O operation on closed file.\n"
     ]
    }
   ],
   "source": [
    "import pandas as pd\n",
    "df = pd.read_excel('\\\\\\\\10.30.31.77\\\\data_collection_dump\\\\RawData\\\\UNStat_Env\\\\SO2 emissions XLS.xlsx')\n",
    "#with open(\"C:\\\\Users\\\\10235555\\\\Documents\\\\DataportalCrawlers\\\\UN_Data\\\\test_excel.xlsx\",'w',encoding='utf-8') as f :\n",
    "df.to_excel('test_excel.xlsx',index = False)"
   ]
  },
  {
   "cell_type": "code",
   "execution_count": 66,
   "metadata": {},
   "outputs": [],
   "source": [
    "import pandas as pd\n",
    "df = pd.read_excel('C:\\\\Users\\\\10235555\\\\Documents\\\\DataportalCrawlers\\\\UN_Data\\\\downloadfolder\\\\Meteorological disasters XLS.xlsx')\n",
    "#with open(\"C:\\\\Users\\\\10235555\\\\Documents\\\\DataportalCrawlers\\\\UN_Data\\\\test_excel.xlsx\",'w',encoding='utf-8') as f :\n",
    "#df.to_excel('test_excel.xlsx',index = False)\n",
    "header2 = df.loc[0, :].values.tolist()\n",
    "df.columns = [df.columns[i-1] if 'Unnamed' in df.columns[i] else df.columns[i] for i in range(len(df.columns)) ]\n",
    "df.columns = [df.columns[i-2] if 'Unnamed' in df.columns[i] else df.columns[i] for i in range(len(df.columns)) ]\n",
    "df.columns = zip(['' if 'Unnamed' in df.columns[i] else df.columns[i] for i in range(len(df.columns)) ],header2)\n",
    "df = df.iloc[1:].reset_index(drop=True)\n",
    "df.columns = [' '.join(df.columns[i]) for i in range(len(df.columns))]\n",
    "df.rename(columns={df.columns[0]: 'CountryID'},inplace=True)\n",
    "df.to_excel('Meteorological disasters_mergeHeaders.xlsx',index=False)"
   ]
  },
  {
   "cell_type": "code",
   "execution_count": 38,
   "metadata": {},
   "outputs": [
    {
     "ename": "ValueError",
     "evalue": "all the input arrays must have same number of dimensions, but the array at index 0 has 2 dimension(s) and the array at index 1 has 1 dimension(s)",
     "output_type": "error",
     "traceback": [
      "\u001b[1;31m---------------------------------------------------------------------------\u001b[0m",
      "\u001b[1;31mValueError\u001b[0m                                Traceback (most recent call last)",
      "Cell \u001b[1;32mIn [38], line 4\u001b[0m\n\u001b[0;32m      2\u001b[0m \u001b[39mimport\u001b[39;00m \u001b[39mnumpy\u001b[39;00m \u001b[39mas\u001b[39;00m \u001b[39mnp\u001b[39;00m\n\u001b[0;32m      3\u001b[0m df \u001b[39m=\u001b[39m pd\u001b[39m.\u001b[39mread_excel(\u001b[39m'\u001b[39m\u001b[39mC:\u001b[39m\u001b[39m\\\\\u001b[39;00m\u001b[39mUsers\u001b[39m\u001b[39m\\\\\u001b[39;00m\u001b[39m10235555\u001b[39m\u001b[39m\\\\\u001b[39;00m\u001b[39mDocuments\u001b[39m\u001b[39m\\\\\u001b[39;00m\u001b[39mDataportalCrawlers\u001b[39m\u001b[39m\\\\\u001b[39;00m\u001b[39mUN_Data\u001b[39m\u001b[39m\\\\\u001b[39;00m\u001b[39mdownloadfolder\u001b[39m\u001b[39m\\\\\u001b[39;00m\u001b[39mMeteorological disasters XLS.xlsx\u001b[39m\u001b[39m'\u001b[39m)\n\u001b[1;32m----> 4\u001b[0m df\u001b[39m.\u001b[39mcolumns \u001b[39m=\u001b[39m np\u001b[39m.\u001b[39;49mconcatenate([df\u001b[39m.\u001b[39;49miloc[\u001b[39m0\u001b[39;49m:\u001b[39m2\u001b[39;49m,:], df\u001b[39m.\u001b[39;49mcolumns[\u001b[39m2\u001b[39;49m:]])\n\u001b[0;32m      5\u001b[0m df \u001b[39m=\u001b[39m df\u001b[39m.\u001b[39miloc[\u001b[39m1\u001b[39m:]\u001b[39m.\u001b[39mreset_index(drop\u001b[39m=\u001b[39m\u001b[39mTrue\u001b[39;00m)\n\u001b[0;32m      6\u001b[0m df\n",
      "File \u001b[1;32m<__array_function__ internals>:180\u001b[0m, in \u001b[0;36mconcatenate\u001b[1;34m(*args, **kwargs)\u001b[0m\n",
      "\u001b[1;31mValueError\u001b[0m: all the input arrays must have same number of dimensions, but the array at index 0 has 2 dimension(s) and the array at index 1 has 1 dimension(s)"
     ]
    }
   ],
   "source": [
    "# import pandas as pd\n",
    "# import numpy as np\n",
    "# df = pd.read_excel('C:\\\\Users\\\\10235555\\\\Documents\\\\DataportalCrawlers\\\\UN_Data\\\\downloadfolder\\\\Meteorological disasters XLS.xlsx', header = [0,1])\n",
    "# df.columns = np.concatenate([df.iloc[0:2,:], df.columns[:]])\n",
    "# df = df.iloc[1:].reset_index(drop=True)\n",
    "# df\n",
    "# # df.columns = [df.columns[i-1] if 'Unnamed' in df.columns[i] else df.columns[i] for i in range(len(df.columns)) ]\n",
    "# # df.columns = [df.columns[i-2] if 'Unnamed' in df.columns[i] else df.columns[i] for i in range(len(df.columns)) ]\n",
    "# #df.to_excel('Meteorological disasters.xlsx',index=False)"
   ]
  },
  {
   "cell_type": "code",
   "execution_count": 43,
   "metadata": {},
   "outputs": [
    {
     "name": "stdout",
     "output_type": "stream",
     "text": [
      "[]\n"
     ]
    },
    {
     "name": "stderr",
     "output_type": "stream",
     "text": [
      "C:\\Users\\10235555\\AppData\\Local\\Temp\\ipykernel_27476\\223150041.py:3: DeprecationWarning: Call to deprecated function get_sheet_by_name (Use wb[sheetname]).\n",
      "  sheet = wb.get_sheet_by_name('Sheet1')\n"
     ]
    }
   ],
   "source": [
    "\n",
    "\n",
    "# import openpyxl\n",
    "# wb = openpyxl.load_workbook('C:\\\\Users\\\\10235555\\\\Documents\\\\DataportalCrawlers\\\\UN_Data\\\\downloadfolder\\\\Meteorological disasters XLS.xlsx')\n",
    "# sheet = wb.get_sheet_by_name('Sheet1')\n",
    "# all_data=[]\n",
    "# print(sheet.merged_cells.ranges)"
   ]
  }
 ],
 "metadata": {
  "kernelspec": {
   "display_name": "Python 3",
   "language": "python",
   "name": "python3"
  },
  "language_info": {
   "codemirror_mode": {
    "name": "ipython",
    "version": 3
   },
   "file_extension": ".py",
   "mimetype": "text/x-python",
   "name": "python",
   "nbconvert_exporter": "python",
   "pygments_lexer": "ipython3",
   "version": "3.11.0"
  },
  "orig_nbformat": 4,
  "vscode": {
   "interpreter": {
    "hash": "69e035e7e91c91f4a781d2e2d4ddd23f591a0aa5fdf41d28e15c78aec28956a8"
   }
  }
 },
 "nbformat": 4,
 "nbformat_minor": 2
}
