{
 "cells": [
  {
   "cell_type": "code",
   "execution_count": 157,
   "metadata": {},
   "outputs": [],
   "source": [
    "base_path = \"C:\\\\Users\\\\10235555\\\\Documents\\\\Dataportal Data\\\\UNAIDS_FS\"\n",
    "import urllib.request\n",
    "import logging\n",
    "import pandas as pd\n",
    "from selenium.webdriver.support.ui import Select\n",
    "from re import search\n",
    "from selenium import webdriver\n",
    "from selenium.webdriver.common.keys import Keys\n",
    "from selenium.webdriver.common.by import By\n",
    "from selenium.webdriver.support.ui import WebDriverWait\n",
    "from selenium.common.exceptions import ElementNotInteractableException, NoSuchElementException\n",
    "from selenium.common.exceptions import ElementClickInterceptedException\n",
    "from selenium.webdriver.support import expected_conditions as EC\n",
    "from selenium.webdriver.chrome.service import Service\n",
    "from webdriver_manager.chrome import ChromeDriverManager\n",
    "from webdriver_manager.firefox import GeckoDriverManager\n",
    "from selenium.webdriver.firefox.options import Options\n",
    "from bs4 import BeautifulSoup\n",
    "import requests\n",
    "import shutil\n",
    "import time\n",
    "import os\n",
    "from pyshadow.main import Shadow\n",
    "from py7zr import unpack_7zarchive\n",
    "from RequestInferSchemaToJsonAPI.main import TriggerInferShemaToJsonAPI"
   ]
  },
  {
   "cell_type": "code",
   "execution_count": 158,
   "metadata": {},
   "outputs": [
    {
     "name": "stderr",
     "output_type": "stream",
     "text": [
      "INFO:WDM:====== WebDriver manager ======\n",
      "INFO:WDM:Get LATEST chromedriver version for google-chrome 113.0.5672\n",
      "INFO:WDM:Driver [C:\\Users\\10235555\\.wdm\\drivers\\chromedriver\\win32\\113.0.5672\\chromedriver.exe] found in cache\n"
     ]
    }
   ],
   "source": [
    "# logging.basicConfig(handlers=[logging.FileHandler(\"\\\\\\\\10.30.31.77\\\\data_collection_dump\\\\TACFolder\\\\ScraperLogs\\\\UNAIDS_out.log\"),\n",
    "#                             logging.StreamHandler()], level=logging.INFO)\n",
    "chrome_options = webdriver.ChromeOptions()\n",
    "base_path = \"C:\\\\Users\\\\10235555\\\\Documents\\\\Dataportal Data\\\\UNAIDS_FS\" # local, gets current working directory\n",
    "prefs = {'download.default_directory' : base_path}#, \"profile.content_settings.exceptions.automatic_downloads.*.setting\" : 1}\n",
    "chrome_options.add_experimental_option('prefs', prefs)\n",
    "#chrome_options.add_argument('--user-agent=\"Mozilla/5.0 (Windows Phone 10.0; Android 4.2.1; Microsoft; Lumia 640 XL LTE) AppleWebKit/537.36 (KHTML, like Gecko) Chrome/42.0.2311.135 Mobile Safari/537.36 Edge/12.10166\"')\n",
    "driver = webdriver.Chrome(service=Service(ChromeDriverManager().install()), options=chrome_options)\n",
    "driver.maximize_window()"
   ]
  },
  {
   "cell_type": "code",
   "execution_count": 159,
   "metadata": {},
   "outputs": [],
   "source": [
    "driver.get('https://aidsinfo.unaids.org/?did=5fbeb5cb94831556e11c4517&r=world&t=null&tb=q&bt=undefined&ts=0,0&qla=G&qls=All%20Countries')"
   ]
  },
  {
   "cell_type": "code",
   "execution_count": 38,
   "metadata": {},
   "outputs": [],
   "source": [
    "# resources = driver.find_element(By.CLASS_NAME,'list-group.panel').find_elements(By.CSS_SELECTOR,'a[data-parent=\"#MainMenu\"]')[19:23]\n",
    "# for resource in resources:\n",
    "#     print(resource.text)\n",
    "# len(resources)\n",
    "\n",
    "#resource 1\n",
    "fs_type = driver.find_element(By.CLASS_NAME,'factsheet-type').text\n",
    "content = driver.find_element(By.CLASS_NAME,'quicklinks-content-table.col-xs-12.col-md-11')\n",
    "rows = content.find_elements(By.CLASS_NAME,'row')\n",
    "for row in rows:\n",
    "    group = row.find_element(By.CLASS_NAME,'col-md-12.col-sm-12').find_element(By.TAG_NAME,'label')\n",
    "    title = group.text + ' - ' + fs_type\n",
    "    table = row.find_element(By.CLASS_NAME,'table.quicklinks-data-table')\n",
    "    rows = table.find_elements(By.TAG_NAME,'tr')\n",
    "    l = []\n",
    "    for tr in rows:\n",
    "        cells = tr.find_elements(By.TAG_NAME,'td')\n",
    "        cells_text = [cell.text for cell in cells]\n",
    "        l.append(cells_text)\n",
    "    df = pd.DataFrame(l,columns=[\"categorie\", \"value\"]) \n",
    "    df.to_csv(f'C:\\\\Users\\\\10235555\\\\Documents\\\\Dataportal Data\\\\UNAIDS_FS\\\\{title}.csv',index = False)"
   ]
  },
  {
   "cell_type": "code",
   "execution_count": 144,
   "metadata": {},
   "outputs": [],
   "source": [
    "# resource 2\n",
    "from selenium import webdriver\n",
    "resources = driver.find_element(By.CLASS_NAME,'list-group.panel').find_elements(By.CSS_SELECTOR,'a[data-parent=\"#MainMenu\"]')[19:23]\n",
    "resource_2 = resources[1].click()\n",
    "time.sleep(1)\n",
    "dialog = driver.find_element(By.CLASS_NAME,'modal.fade.in').find_element(By.CLASS_NAME,'modal-dialog')\n",
    "webdriver.ActionChains(driver).move_to_element(dialog).perform()\n",
    "list_region = dialog.find_element(By.CLASS_NAME,'popup-content')\n",
    "regions = list_region.find_elements(By.TAG_NAME,'li')\n",
    "for j in range(len(regions)):\n",
    "    regions[j].click()\n",
    "    view_data = dialog.find_element(By.ID,'btnViewqlData')\n",
    "    view_data.click()\n",
    "    time.sleep(2)\n",
    "    fs_type = driver.find_element(By.CLASS_NAME,'ql-selected-area-wrapper').find_element(By.TAG_NAME,'label').text\n",
    "    content = driver.find_element(By.CLASS_NAME,'quicklinks-content-table.col-xs-12.col-md-11')\n",
    "    rows = content.find_elements(By.CLASS_NAME,'row')\n",
    "    for row in rows:\n",
    "        group = row.find_element(By.CLASS_NAME,'col-md-12.col-sm-12').find_element(By.TAG_NAME,'label')\n",
    "        title = group.text + ' - ' + fs_type + ' 2021'\n",
    "        table = row.find_element(By.CLASS_NAME,'table.quicklinks-data-table')\n",
    "        rows = table.find_elements(By.TAG_NAME,'tr')\n",
    "        l = []\n",
    "        for tr in rows:\n",
    "            cells = tr.find_elements(By.TAG_NAME,'td')\n",
    "            cells_text = [cell.text for cell in cells]\n",
    "            l.append(cells_text)\n",
    "        df = pd.DataFrame(l,columns=[\"categorie\", \"value\"]) \n",
    "        df.to_csv(f'C:\\\\Users\\\\10235555\\\\Documents\\\\Dataportal Data\\\\UNAIDS_FS\\\\{title}.csv',index = False)\n",
    "    resources = driver.find_element(By.CLASS_NAME,'list-group.panel').find_elements(By.CSS_SELECTOR,'a[data-parent=\"#MainMenu\"]')[19:23]\n",
    "    resource_2 = resources[1].click()\n",
    "    time.sleep(1)\n",
    "    dialog = driver.find_element(By.CLASS_NAME,'modal.fade.in').find_element(By.CLASS_NAME,'modal-dialog')\n",
    "    webdriver.ActionChains(driver).move_to_element(dialog).perform()\n",
    "    list_region = dialog.find_element(By.CLASS_NAME,'popup-content')\n",
    "    regions = list_region.find_elements(By.TAG_NAME,'li')\n",
    "close = dialog.find_element(By.CLASS_NAME,'close.qlarealist')\n",
    "close.click()"
   ]
  },
  {
   "cell_type": "code",
   "execution_count": 145,
   "metadata": {},
   "outputs": [],
   "source": [
    "# resource 3\n",
    "resources = driver.find_element(By.CLASS_NAME,'list-group.panel').find_elements(By.CSS_SELECTOR,'a[data-parent=\"#MainMenu\"]')[19:23]\n",
    "resource_2 = resources[2].click()"
   ]
  },
  {
   "cell_type": "code",
   "execution_count": 156,
   "metadata": {},
   "outputs": [
    {
     "ename": "NoSuchWindowException",
     "evalue": "Message: no such window: target window already closed\nfrom unknown error: web view not found\n  (Session info: chrome=113.0.5672.127)\nStacktrace:\nBacktrace:\n\tGetHandleVerifier [0x00A38893+48451]\n\t(No symbol) [0x009CB8A1]\n\t(No symbol) [0x008D5058]\n\t(No symbol) [0x008BD073]\n\t(No symbol) [0x0091DEBB]\n\t(No symbol) [0x0092BFD3]\n\t(No symbol) [0x0091A0B6]\n\t(No symbol) [0x008F7E08]\n\t(No symbol) [0x008F8F2D]\n\tGetHandleVerifier [0x00C98E3A+2540266]\n\tGetHandleVerifier [0x00CD8959+2801161]\n\tGetHandleVerifier [0x00CD295C+2776588]\n\tGetHandleVerifier [0x00AC2280+612144]\n\t(No symbol) [0x009D4F6C]\n\t(No symbol) [0x009D11D8]\n\t(No symbol) [0x009D12BB]\n\t(No symbol) [0x009C4857]\n\tBaseThreadInitThunk [0x76720099+25]\n\tRtlGetAppContainerNamedObjectPath [0x77657B6E+286]\n\tRtlGetAppContainerNamedObjectPath [0x77657B3E+238]\n",
     "output_type": "error",
     "traceback": [
      "\u001b[1;31m---------------------------------------------------------------------------\u001b[0m",
      "\u001b[1;31mNoSuchWindowException\u001b[0m                     Traceback (most recent call last)",
      "\u001b[1;32mc:\\Users\\10235555\\Documents\\DataportalCrawlers\\UN_Data\\UNAIDS_factSheets.ipynb Cell 7\u001b[0m in \u001b[0;36m2\n\u001b[0;32m     <a href='vscode-notebook-cell:/c%3A/Users/10235555/Documents/DataportalCrawlers/UN_Data/UNAIDS_factSheets.ipynb#X23sZmlsZQ%3D%3D?line=21'>22</a>\u001b[0m l \u001b[39m=\u001b[39m []\n\u001b[0;32m     <a href='vscode-notebook-cell:/c%3A/Users/10235555/Documents/DataportalCrawlers/UN_Data/UNAIDS_factSheets.ipynb#X23sZmlsZQ%3D%3D?line=22'>23</a>\u001b[0m \u001b[39mfor\u001b[39;00m tr \u001b[39min\u001b[39;00m rows:\n\u001b[1;32m---> <a href='vscode-notebook-cell:/c%3A/Users/10235555/Documents/DataportalCrawlers/UN_Data/UNAIDS_factSheets.ipynb#X23sZmlsZQ%3D%3D?line=23'>24</a>\u001b[0m     cells \u001b[39m=\u001b[39m tr\u001b[39m.\u001b[39;49mfind_elements(By\u001b[39m.\u001b[39;49mTAG_NAME,\u001b[39m'\u001b[39;49m\u001b[39mtd\u001b[39;49m\u001b[39m'\u001b[39;49m)\n\u001b[0;32m     <a href='vscode-notebook-cell:/c%3A/Users/10235555/Documents/DataportalCrawlers/UN_Data/UNAIDS_factSheets.ipynb#X23sZmlsZQ%3D%3D?line=24'>25</a>\u001b[0m     cells_text \u001b[39m=\u001b[39m [cell\u001b[39m.\u001b[39mtext \u001b[39mfor\u001b[39;00m cell \u001b[39min\u001b[39;00m cells]\n\u001b[0;32m     <a href='vscode-notebook-cell:/c%3A/Users/10235555/Documents/DataportalCrawlers/UN_Data/UNAIDS_factSheets.ipynb#X23sZmlsZQ%3D%3D?line=25'>26</a>\u001b[0m     l\u001b[39m.\u001b[39mappend(cells_text)\n",
      "File \u001b[1;32mc:\\Users\\10235555\\AppData\\Local\\Programs\\Python\\Python311\\Lib\\site-packages\\selenium\\webdriver\\remote\\webelement.py:456\u001b[0m, in \u001b[0;36mWebElement.find_elements\u001b[1;34m(self, by, value)\u001b[0m\n\u001b[0;32m    453\u001b[0m     by \u001b[39m=\u001b[39m By\u001b[39m.\u001b[39mCSS_SELECTOR\n\u001b[0;32m    454\u001b[0m     value \u001b[39m=\u001b[39m \u001b[39mf\u001b[39m\u001b[39m'\u001b[39m\u001b[39m[name=\u001b[39m\u001b[39m\"\u001b[39m\u001b[39m{\u001b[39;00mvalue\u001b[39m}\u001b[39;00m\u001b[39m\"\u001b[39m\u001b[39m]\u001b[39m\u001b[39m'\u001b[39m\n\u001b[1;32m--> 456\u001b[0m \u001b[39mreturn\u001b[39;00m \u001b[39mself\u001b[39;49m\u001b[39m.\u001b[39;49m_execute(Command\u001b[39m.\u001b[39;49mFIND_CHILD_ELEMENTS, {\u001b[39m\"\u001b[39;49m\u001b[39musing\u001b[39;49m\u001b[39m\"\u001b[39;49m: by, \u001b[39m\"\u001b[39;49m\u001b[39mvalue\u001b[39;49m\u001b[39m\"\u001b[39;49m: value})[\u001b[39m\"\u001b[39m\u001b[39mvalue\u001b[39m\u001b[39m\"\u001b[39m]\n",
      "File \u001b[1;32mc:\\Users\\10235555\\AppData\\Local\\Programs\\Python\\Python311\\Lib\\site-packages\\selenium\\webdriver\\remote\\webelement.py:410\u001b[0m, in \u001b[0;36mWebElement._execute\u001b[1;34m(self, command, params)\u001b[0m\n\u001b[0;32m    408\u001b[0m     params \u001b[39m=\u001b[39m {}\n\u001b[0;32m    409\u001b[0m params[\u001b[39m\"\u001b[39m\u001b[39mid\u001b[39m\u001b[39m\"\u001b[39m] \u001b[39m=\u001b[39m \u001b[39mself\u001b[39m\u001b[39m.\u001b[39m_id\n\u001b[1;32m--> 410\u001b[0m \u001b[39mreturn\u001b[39;00m \u001b[39mself\u001b[39;49m\u001b[39m.\u001b[39;49m_parent\u001b[39m.\u001b[39;49mexecute(command, params)\n",
      "File \u001b[1;32mc:\\Users\\10235555\\AppData\\Local\\Programs\\Python\\Python311\\Lib\\site-packages\\selenium\\webdriver\\remote\\webdriver.py:444\u001b[0m, in \u001b[0;36mWebDriver.execute\u001b[1;34m(self, driver_command, params)\u001b[0m\n\u001b[0;32m    442\u001b[0m response \u001b[39m=\u001b[39m \u001b[39mself\u001b[39m\u001b[39m.\u001b[39mcommand_executor\u001b[39m.\u001b[39mexecute(driver_command, params)\n\u001b[0;32m    443\u001b[0m \u001b[39mif\u001b[39;00m response:\n\u001b[1;32m--> 444\u001b[0m     \u001b[39mself\u001b[39;49m\u001b[39m.\u001b[39;49merror_handler\u001b[39m.\u001b[39;49mcheck_response(response)\n\u001b[0;32m    445\u001b[0m     response[\u001b[39m\"\u001b[39m\u001b[39mvalue\u001b[39m\u001b[39m\"\u001b[39m] \u001b[39m=\u001b[39m \u001b[39mself\u001b[39m\u001b[39m.\u001b[39m_unwrap_value(response\u001b[39m.\u001b[39mget(\u001b[39m\"\u001b[39m\u001b[39mvalue\u001b[39m\u001b[39m\"\u001b[39m, \u001b[39mNone\u001b[39;00m))\n\u001b[0;32m    446\u001b[0m     \u001b[39mreturn\u001b[39;00m response\n",
      "File \u001b[1;32mc:\\Users\\10235555\\AppData\\Local\\Programs\\Python\\Python311\\Lib\\site-packages\\selenium\\webdriver\\remote\\errorhandler.py:249\u001b[0m, in \u001b[0;36mErrorHandler.check_response\u001b[1;34m(self, response)\u001b[0m\n\u001b[0;32m    247\u001b[0m         alert_text \u001b[39m=\u001b[39m value[\u001b[39m\"\u001b[39m\u001b[39malert\u001b[39m\u001b[39m\"\u001b[39m]\u001b[39m.\u001b[39mget(\u001b[39m\"\u001b[39m\u001b[39mtext\u001b[39m\u001b[39m\"\u001b[39m)\n\u001b[0;32m    248\u001b[0m     \u001b[39mraise\u001b[39;00m exception_class(message, screen, stacktrace, alert_text)  \u001b[39m# type: ignore[call-arg]  # mypy is not smart enough here\u001b[39;00m\n\u001b[1;32m--> 249\u001b[0m \u001b[39mraise\u001b[39;00m exception_class(message, screen, stacktrace)\n",
      "\u001b[1;31mNoSuchWindowException\u001b[0m: Message: no such window: target window already closed\nfrom unknown error: web view not found\n  (Session info: chrome=113.0.5672.127)\nStacktrace:\nBacktrace:\n\tGetHandleVerifier [0x00A38893+48451]\n\t(No symbol) [0x009CB8A1]\n\t(No symbol) [0x008D5058]\n\t(No symbol) [0x008BD073]\n\t(No symbol) [0x0091DEBB]\n\t(No symbol) [0x0092BFD3]\n\t(No symbol) [0x0091A0B6]\n\t(No symbol) [0x008F7E08]\n\t(No symbol) [0x008F8F2D]\n\tGetHandleVerifier [0x00C98E3A+2540266]\n\tGetHandleVerifier [0x00CD8959+2801161]\n\tGetHandleVerifier [0x00CD295C+2776588]\n\tGetHandleVerifier [0x00AC2280+612144]\n\t(No symbol) [0x009D4F6C]\n\t(No symbol) [0x009D11D8]\n\t(No symbol) [0x009D12BB]\n\t(No symbol) [0x009C4857]\n\tBaseThreadInitThunk [0x76720099+25]\n\tRtlGetAppContainerNamedObjectPath [0x77657B6E+286]\n\tRtlGetAppContainerNamedObjectPath [0x77657B3E+238]\n"
     ]
    }
   ],
   "source": [
    "# resource 3\n",
    "resources = driver.find_element(By.CLASS_NAME,'list-group.panel').find_elements(By.CSS_SELECTOR,'a[data-parent=\"#MainMenu\"]')[19:23]\n",
    "resource_3 = resources[2].click()\n",
    "time.sleep(1)\n",
    "dialog = driver.find_element(By.CLASS_NAME,'modal.fade.in').find_element(By.CLASS_NAME,'modal-dialog.national')\n",
    "webdriver.ActionChains(driver).move_to_element(dialog).perform()\n",
    "cont = dialog.find_element(By.CLASS_NAME,'popup-content')\n",
    "countries = cont.find_elements(By.TAG_NAME,'li')\n",
    "for j in range(len(countries)):\n",
    "    countries[j].click()\n",
    "    view_data = dialog.find_element(By.ID,'btnViewqlData')\n",
    "    view_data.click()\n",
    "    time.sleep(2)\n",
    "    fs_type = driver.find_element(By.CLASS_NAME,'ql-selected-area-wrapper').find_element(By.TAG_NAME,'label').text\n",
    "    content = driver.find_element(By.CLASS_NAME,'quicklinks-content-table.col-xs-12.col-md-11')\n",
    "    rows = content.find_elements(By.CLASS_NAME,'row')\n",
    "    for row in rows:\n",
    "        group = row.find_element(By.CLASS_NAME,'col-md-12.col-sm-12').find_element(By.TAG_NAME,'label')\n",
    "        title = group.text + ' - ' + fs_type + ' 2021'\n",
    "        table = row.find_element(By.CLASS_NAME,'table.quicklinks-data-table')\n",
    "        rows = table.find_elements(By.TAG_NAME,'tr')\n",
    "        l = []\n",
    "        for tr in rows:\n",
    "            cells = tr.find_elements(By.TAG_NAME,'td')\n",
    "            cells_text = [cell.text for cell in cells]\n",
    "            l.append(cells_text)\n",
    "        if len(l[0]) == 2:\n",
    "            df = pd.DataFrame(l,columns=[\"categorie\", \"value\"]) \n",
    "        elif len(l[0]) == 3:\n",
    "            df = pd.DataFrame(l,columns=[\"categorie\", \"value\", \"Source\"]) \n",
    "        # df.to_csv(f'C:\\\\Users\\\\10235555\\\\Documents\\\\Dataportal Data\\\\UNAIDS_FS\\\\{title}.csv',index = False)\n",
    "    resources = driver.find_element(By.CLASS_NAME,'list-group.panel').find_elements(By.CSS_SELECTOR,'a[data-parent=\"#MainMenu\"]')[19:23]\n",
    "    resource_3 = resources[2].click()\n",
    "    time.sleep(1)\n",
    "    dialog = driver.find_element(By.CLASS_NAME,'modal.fade.in').find_element(By.CLASS_NAME,'modal-dialog')\n",
    "    webdriver.ActionChains(driver).move_to_element(dialog).perform()\n",
    "    cont = dialog.find_element(By.CLASS_NAME,'popup-content')\n",
    "    countries = cont.find_elements(By.TAG_NAME,'li')\n",
    "close = dialog.find_element(By.CLASS_NAME,'close.qlarealist')\n",
    "close.click()"
   ]
  },
  {
   "cell_type": "code",
   "execution_count": 185,
   "metadata": {},
   "outputs": [],
   "source": [
    "# resource 4\n",
    "resources = driver.find_element(By.CLASS_NAME,'list-group.panel').find_elements(By.CSS_SELECTOR,'a[data-parent=\"#MainMenu\"]')[19:23]\n",
    "resource_4 = resources[3].click()\n",
    "time.sleep(1)\n",
    "dialog = driver.find_element(By.CLASS_NAME,'modal.fade.in').find_element(By.CLASS_NAME,'modal-dialog.national')\n",
    "webdriver.ActionChains(driver).move_to_element(dialog).perform()\n",
    "cont = dialog.find_element(By.CLASS_NAME,'popup-content')\n",
    "countries = cont.find_elements(By.TAG_NAME,'li')\n",
    "for j in range(len(countries)):\n",
    "    countries[j].click()\n",
    "    view_data = dialog.find_element(By.ID,'btnViewqlData')\n",
    "    view_data.click()\n",
    "    time.sleep(2)\n",
    "    infos = driver.find_element(By.CLASS_NAME,'factsheet-type.country-brief-type').find_elements(By.TAG_NAME,'tr')\n",
    "    title = infos[0].text.replace(':',' ')\n",
    "    content = driver.find_element(By.CLASS_NAME,'quicklinks-content-table.col-xs-12.col-md-11')\n",
    "    table = content.find_element(By.CLASS_NAME,'table.country-brief-content-table')\n",
    "    rows = table.find_elements(By.TAG_NAME,'tr')\n",
    "    l = []\n",
    "    for tr in rows[1:]:\n",
    "        cells = tr.find_elements(By.TAG_NAME,'td')\n",
    "        cells_text = [cell.text for cell in cells]\n",
    "        l.append(cells_text[:-1])\n",
    "    df = pd.DataFrame(l,columns=[\"Indicator\", \"2010\", \"2021\"]) \n",
    "    df['2021'] = df['2021'].str.replace('\\n', ' ')\n",
    "    df['2010'] = df['2010'].str.replace('\\n', ' ')\n",
    "    df.to_csv(f'C:\\\\Users\\\\10235555\\\\Documents\\\\Dataportal Data\\\\UNAIDS_FS\\\\{title}.csv',index = False)\n",
    "    resources = driver.find_element(By.CLASS_NAME,'list-group.panel').find_elements(By.CSS_SELECTOR,'a[data-parent=\"#MainMenu\"]')[19:23]\n",
    "    resource_4 = resources[3].click()\n",
    "    time.sleep(1)\n",
    "    dialog = driver.find_element(By.CLASS_NAME,'modal.fade.in').find_element(By.CLASS_NAME,'modal-dialog')\n",
    "    webdriver.ActionChains(driver).move_to_element(dialog).perform()\n",
    "    cont = dialog.find_element(By.CLASS_NAME,'popup-content')\n",
    "    countries = cont.find_elements(By.TAG_NAME,'li')\n",
    "close = dialog.find_element(By.CLASS_NAME,'close.qlarealist')\n",
    "close.click()"
   ]
  },
  {
   "cell_type": "code",
   "execution_count": 192,
   "metadata": {},
   "outputs": [
    {
     "data": {
      "text/plain": [
       "'_2022Aug02'"
      ]
     },
     "execution_count": 192,
     "metadata": {},
     "output_type": "execute_result"
    }
   ],
   "source": [
    "from datetime import date\n",
    "import datetime\n",
    "# _2023Feb07\n",
    "today = str(date.today())\n",
    "datetime.datetime.strptime(\"2022-8-02\", \"%Y-%m-%d\").strftime('_%Y%b%d')\n"
   ]
  },
  {
   "cell_type": "code",
   "execution_count": 195,
   "metadata": {},
   "outputs": [
    {
     "name": "stderr",
     "output_type": "stream",
     "text": [
      "--- Logging error ---\n",
      "Traceback (most recent call last):\n",
      "  File \"c:\\Users\\10235555\\AppData\\Local\\Programs\\Python\\Python311\\Lib\\logging\\__init__.py\", line 1114, in emit\n",
      "    self.flush()\n",
      "  File \"c:\\Users\\10235555\\AppData\\Local\\Programs\\Python\\Python311\\Lib\\logging\\__init__.py\", line 1094, in flush\n",
      "    self.stream.flush()\n",
      "OSError: [Errno 22] Invalid argument\n",
      "Call stack:\n",
      "  File \"<frozen runpy>\", line 198, in _run_module_as_main\n",
      "  File \"<frozen runpy>\", line 88, in _run_code\n",
      "  File \"C:\\Users\\10235555\\AppData\\Roaming\\Python\\Python311\\site-packages\\ipykernel_launcher.py\", line 17, in <module>\n",
      "    app.launch_new_instance()\n",
      "  File \"C:\\Users\\10235555\\AppData\\Roaming\\Python\\Python311\\site-packages\\traitlets\\config\\application.py\", line 982, in launch_instance\n",
      "    app.start()\n",
      "  File \"C:\\Users\\10235555\\AppData\\Roaming\\Python\\Python311\\site-packages\\ipykernel\\kernelapp.py\", line 712, in start\n",
      "    self.io_loop.start()\n",
      "  File \"C:\\Users\\10235555\\AppData\\Roaming\\Python\\Python311\\site-packages\\tornado\\platform\\asyncio.py\", line 215, in start\n",
      "    self.asyncio_loop.run_forever()\n",
      "  File \"c:\\Users\\10235555\\AppData\\Local\\Programs\\Python\\Python311\\Lib\\asyncio\\base_events.py\", line 604, in run_forever\n",
      "    self._run_once()\n",
      "  File \"c:\\Users\\10235555\\AppData\\Local\\Programs\\Python\\Python311\\Lib\\asyncio\\base_events.py\", line 1909, in _run_once\n",
      "    handle._run()\n",
      "  File \"c:\\Users\\10235555\\AppData\\Local\\Programs\\Python\\Python311\\Lib\\asyncio\\events.py\", line 80, in _run\n",
      "    self._context.run(self._callback, *self._args)\n",
      "  File \"C:\\Users\\10235555\\AppData\\Roaming\\Python\\Python311\\site-packages\\ipykernel\\kernelbase.py\", line 510, in dispatch_queue\n",
      "    await self.process_one()\n",
      "  File \"C:\\Users\\10235555\\AppData\\Roaming\\Python\\Python311\\site-packages\\ipykernel\\kernelbase.py\", line 499, in process_one\n",
      "    await dispatch(*args)\n",
      "  File \"C:\\Users\\10235555\\AppData\\Roaming\\Python\\Python311\\site-packages\\ipykernel\\kernelbase.py\", line 406, in dispatch_shell\n",
      "    await result\n",
      "  File \"C:\\Users\\10235555\\AppData\\Roaming\\Python\\Python311\\site-packages\\ipykernel\\kernelbase.py\", line 730, in execute_request\n",
      "    reply_content = await reply_content\n",
      "  File \"C:\\Users\\10235555\\AppData\\Roaming\\Python\\Python311\\site-packages\\ipykernel\\ipkernel.py\", line 383, in do_execute\n",
      "    res = shell.run_cell(\n",
      "  File \"C:\\Users\\10235555\\AppData\\Roaming\\Python\\Python311\\site-packages\\ipykernel\\zmqshell.py\", line 528, in run_cell\n",
      "    return super().run_cell(*args, **kwargs)\n",
      "  File \"C:\\Users\\10235555\\AppData\\Roaming\\Python\\Python311\\site-packages\\IPython\\core\\interactiveshell.py\", line 2940, in run_cell\n",
      "    result = self._run_cell(\n",
      "  File \"C:\\Users\\10235555\\AppData\\Roaming\\Python\\Python311\\site-packages\\IPython\\core\\interactiveshell.py\", line 2995, in _run_cell\n",
      "    return runner(coro)\n",
      "  File \"C:\\Users\\10235555\\AppData\\Roaming\\Python\\Python311\\site-packages\\IPython\\core\\async_helpers.py\", line 129, in _pseudo_sync_runner\n",
      "    coro.send(None)\n",
      "  File \"C:\\Users\\10235555\\AppData\\Roaming\\Python\\Python311\\site-packages\\IPython\\core\\interactiveshell.py\", line 3194, in run_cell_async\n",
      "    has_raised = await self.run_ast_nodes(code_ast.body, cell_name,\n",
      "  File \"C:\\Users\\10235555\\AppData\\Roaming\\Python\\Python311\\site-packages\\IPython\\core\\interactiveshell.py\", line 3373, in run_ast_nodes\n",
      "    if await self.run_code(code, result, async_=asy):\n",
      "  File \"C:\\Users\\10235555\\AppData\\Roaming\\Python\\Python311\\site-packages\\IPython\\core\\interactiveshell.py\", line 3433, in run_code\n",
      "    exec(code_obj, self.user_global_ns, self.user_ns)\n",
      "  File \"C:\\Users\\10235555\\AppData\\Local\\Temp\\ipykernel_15928\\3762251030.py\", line 32, in <module>\n",
      "    driver = webdriver.Chrome(service=Service(ChromeDriverManager().install()), options=chrome_options)\n",
      "  File \"c:\\Users\\10235555\\AppData\\Local\\Programs\\Python\\Python311\\Lib\\site-packages\\webdriver_manager\\chrome.py\", line 23, in __init__\n",
      "    super().__init__(\n",
      "  File \"c:\\Users\\10235555\\AppData\\Local\\Programs\\Python\\Python311\\Lib\\site-packages\\webdriver_manager\\core\\manager.py\", line 16, in __init__\n",
      "    log(\"====== WebDriver manager ======\")\n",
      "  File \"c:\\Users\\10235555\\AppData\\Local\\Programs\\Python\\Python311\\Lib\\site-packages\\webdriver_manager\\core\\logger.py\", line 11, in log\n",
      "    __logger.log(wdm_log_level(), text)\n",
      "Message: '====== WebDriver manager ======'\n",
      "Arguments: ()\n",
      "INFO:WDM:====== WebDriver manager ======\n",
      "--- Logging error ---\n",
      "Traceback (most recent call last):\n",
      "  File \"c:\\Users\\10235555\\AppData\\Local\\Programs\\Python\\Python311\\Lib\\logging\\__init__.py\", line 1114, in emit\n",
      "    self.flush()\n",
      "  File \"c:\\Users\\10235555\\AppData\\Local\\Programs\\Python\\Python311\\Lib\\logging\\__init__.py\", line 1094, in flush\n",
      "    self.stream.flush()\n",
      "OSError: [Errno 22] Invalid argument\n",
      "Call stack:\n",
      "  File \"<frozen runpy>\", line 198, in _run_module_as_main\n",
      "  File \"<frozen runpy>\", line 88, in _run_code\n",
      "  File \"C:\\Users\\10235555\\AppData\\Roaming\\Python\\Python311\\site-packages\\ipykernel_launcher.py\", line 17, in <module>\n",
      "    app.launch_new_instance()\n",
      "  File \"C:\\Users\\10235555\\AppData\\Roaming\\Python\\Python311\\site-packages\\traitlets\\config\\application.py\", line 982, in launch_instance\n",
      "    app.start()\n",
      "  File \"C:\\Users\\10235555\\AppData\\Roaming\\Python\\Python311\\site-packages\\ipykernel\\kernelapp.py\", line 712, in start\n",
      "    self.io_loop.start()\n",
      "  File \"C:\\Users\\10235555\\AppData\\Roaming\\Python\\Python311\\site-packages\\tornado\\platform\\asyncio.py\", line 215, in start\n",
      "    self.asyncio_loop.run_forever()\n",
      "  File \"c:\\Users\\10235555\\AppData\\Local\\Programs\\Python\\Python311\\Lib\\asyncio\\base_events.py\", line 604, in run_forever\n",
      "    self._run_once()\n",
      "  File \"c:\\Users\\10235555\\AppData\\Local\\Programs\\Python\\Python311\\Lib\\asyncio\\base_events.py\", line 1909, in _run_once\n",
      "    handle._run()\n",
      "  File \"c:\\Users\\10235555\\AppData\\Local\\Programs\\Python\\Python311\\Lib\\asyncio\\events.py\", line 80, in _run\n",
      "    self._context.run(self._callback, *self._args)\n",
      "  File \"C:\\Users\\10235555\\AppData\\Roaming\\Python\\Python311\\site-packages\\ipykernel\\kernelbase.py\", line 510, in dispatch_queue\n",
      "    await self.process_one()\n",
      "  File \"C:\\Users\\10235555\\AppData\\Roaming\\Python\\Python311\\site-packages\\ipykernel\\kernelbase.py\", line 499, in process_one\n",
      "    await dispatch(*args)\n",
      "  File \"C:\\Users\\10235555\\AppData\\Roaming\\Python\\Python311\\site-packages\\ipykernel\\kernelbase.py\", line 406, in dispatch_shell\n",
      "    await result\n",
      "  File \"C:\\Users\\10235555\\AppData\\Roaming\\Python\\Python311\\site-packages\\ipykernel\\kernelbase.py\", line 730, in execute_request\n",
      "    reply_content = await reply_content\n",
      "  File \"C:\\Users\\10235555\\AppData\\Roaming\\Python\\Python311\\site-packages\\ipykernel\\ipkernel.py\", line 383, in do_execute\n",
      "    res = shell.run_cell(\n",
      "  File \"C:\\Users\\10235555\\AppData\\Roaming\\Python\\Python311\\site-packages\\ipykernel\\zmqshell.py\", line 528, in run_cell\n",
      "    return super().run_cell(*args, **kwargs)\n",
      "  File \"C:\\Users\\10235555\\AppData\\Roaming\\Python\\Python311\\site-packages\\IPython\\core\\interactiveshell.py\", line 2940, in run_cell\n",
      "    result = self._run_cell(\n",
      "  File \"C:\\Users\\10235555\\AppData\\Roaming\\Python\\Python311\\site-packages\\IPython\\core\\interactiveshell.py\", line 2995, in _run_cell\n",
      "    return runner(coro)\n",
      "  File \"C:\\Users\\10235555\\AppData\\Roaming\\Python\\Python311\\site-packages\\IPython\\core\\async_helpers.py\", line 129, in _pseudo_sync_runner\n",
      "    coro.send(None)\n",
      "  File \"C:\\Users\\10235555\\AppData\\Roaming\\Python\\Python311\\site-packages\\IPython\\core\\interactiveshell.py\", line 3194, in run_cell_async\n",
      "    has_raised = await self.run_ast_nodes(code_ast.body, cell_name,\n",
      "  File \"C:\\Users\\10235555\\AppData\\Roaming\\Python\\Python311\\site-packages\\IPython\\core\\interactiveshell.py\", line 3373, in run_ast_nodes\n",
      "    if await self.run_code(code, result, async_=asy):\n",
      "  File \"C:\\Users\\10235555\\AppData\\Roaming\\Python\\Python311\\site-packages\\IPython\\core\\interactiveshell.py\", line 3433, in run_code\n",
      "    exec(code_obj, self.user_global_ns, self.user_ns)\n",
      "  File \"C:\\Users\\10235555\\AppData\\Local\\Temp\\ipykernel_15928\\3762251030.py\", line 32, in <module>\n",
      "    driver = webdriver.Chrome(service=Service(ChromeDriverManager().install()), options=chrome_options)\n",
      "  File \"c:\\Users\\10235555\\AppData\\Local\\Programs\\Python\\Python311\\Lib\\site-packages\\webdriver_manager\\chrome.py\", line 39, in install\n",
      "    driver_path = self._get_driver_path(self.driver)\n",
      "  File \"c:\\Users\\10235555\\AppData\\Local\\Programs\\Python\\Python311\\Lib\\site-packages\\webdriver_manager\\core\\manager.py\", line 26, in _get_driver_path\n",
      "    binary_path = self.driver_cache.find_driver(driver)\n",
      "  File \"c:\\Users\\10235555\\AppData\\Local\\Programs\\Python\\Python311\\Lib\\site-packages\\webdriver_manager\\core\\driver_cache.py\", line 96, in find_driver\n",
      "    driver_version = driver.get_version()\n",
      "  File \"c:\\Users\\10235555\\AppData\\Local\\Programs\\Python\\Python311\\Lib\\site-packages\\webdriver_manager\\core\\driver.py\", line 45, in get_version\n",
      "    return self.get_latest_release_version()\n",
      "  File \"c:\\Users\\10235555\\AppData\\Local\\Programs\\Python\\Python311\\Lib\\site-packages\\webdriver_manager\\drivers\\chrome.py\", line 54, in get_latest_release_version\n",
      "    log(f\"Get LATEST {self._name} version for {self.get_browser_type()} {browser_version}\")\n",
      "  File \"c:\\Users\\10235555\\AppData\\Local\\Programs\\Python\\Python311\\Lib\\site-packages\\webdriver_manager\\core\\logger.py\", line 11, in log\n",
      "    __logger.log(wdm_log_level(), text)\n",
      "Message: 'Get LATEST chromedriver version for google-chrome 113.0.5672'\n",
      "Arguments: ()\n",
      "INFO:WDM:Get LATEST chromedriver version for google-chrome 113.0.5672\n",
      "--- Logging error ---\n",
      "Traceback (most recent call last):\n",
      "  File \"c:\\Users\\10235555\\AppData\\Local\\Programs\\Python\\Python311\\Lib\\logging\\__init__.py\", line 1114, in emit\n",
      "    self.flush()\n",
      "  File \"c:\\Users\\10235555\\AppData\\Local\\Programs\\Python\\Python311\\Lib\\logging\\__init__.py\", line 1094, in flush\n",
      "    self.stream.flush()\n",
      "OSError: [Errno 22] Invalid argument\n",
      "Call stack:\n",
      "  File \"<frozen runpy>\", line 198, in _run_module_as_main\n",
      "  File \"<frozen runpy>\", line 88, in _run_code\n",
      "  File \"C:\\Users\\10235555\\AppData\\Roaming\\Python\\Python311\\site-packages\\ipykernel_launcher.py\", line 17, in <module>\n",
      "    app.launch_new_instance()\n",
      "  File \"C:\\Users\\10235555\\AppData\\Roaming\\Python\\Python311\\site-packages\\traitlets\\config\\application.py\", line 982, in launch_instance\n",
      "    app.start()\n",
      "  File \"C:\\Users\\10235555\\AppData\\Roaming\\Python\\Python311\\site-packages\\ipykernel\\kernelapp.py\", line 712, in start\n",
      "    self.io_loop.start()\n",
      "  File \"C:\\Users\\10235555\\AppData\\Roaming\\Python\\Python311\\site-packages\\tornado\\platform\\asyncio.py\", line 215, in start\n",
      "    self.asyncio_loop.run_forever()\n",
      "  File \"c:\\Users\\10235555\\AppData\\Local\\Programs\\Python\\Python311\\Lib\\asyncio\\base_events.py\", line 604, in run_forever\n",
      "    self._run_once()\n",
      "  File \"c:\\Users\\10235555\\AppData\\Local\\Programs\\Python\\Python311\\Lib\\asyncio\\base_events.py\", line 1909, in _run_once\n",
      "    handle._run()\n",
      "  File \"c:\\Users\\10235555\\AppData\\Local\\Programs\\Python\\Python311\\Lib\\asyncio\\events.py\", line 80, in _run\n",
      "    self._context.run(self._callback, *self._args)\n",
      "  File \"C:\\Users\\10235555\\AppData\\Roaming\\Python\\Python311\\site-packages\\ipykernel\\kernelbase.py\", line 510, in dispatch_queue\n",
      "    await self.process_one()\n",
      "  File \"C:\\Users\\10235555\\AppData\\Roaming\\Python\\Python311\\site-packages\\ipykernel\\kernelbase.py\", line 499, in process_one\n",
      "    await dispatch(*args)\n",
      "  File \"C:\\Users\\10235555\\AppData\\Roaming\\Python\\Python311\\site-packages\\ipykernel\\kernelbase.py\", line 406, in dispatch_shell\n",
      "    await result\n",
      "  File \"C:\\Users\\10235555\\AppData\\Roaming\\Python\\Python311\\site-packages\\ipykernel\\kernelbase.py\", line 730, in execute_request\n",
      "    reply_content = await reply_content\n",
      "  File \"C:\\Users\\10235555\\AppData\\Roaming\\Python\\Python311\\site-packages\\ipykernel\\ipkernel.py\", line 383, in do_execute\n",
      "    res = shell.run_cell(\n",
      "  File \"C:\\Users\\10235555\\AppData\\Roaming\\Python\\Python311\\site-packages\\ipykernel\\zmqshell.py\", line 528, in run_cell\n",
      "    return super().run_cell(*args, **kwargs)\n",
      "  File \"C:\\Users\\10235555\\AppData\\Roaming\\Python\\Python311\\site-packages\\IPython\\core\\interactiveshell.py\", line 2940, in run_cell\n",
      "    result = self._run_cell(\n",
      "  File \"C:\\Users\\10235555\\AppData\\Roaming\\Python\\Python311\\site-packages\\IPython\\core\\interactiveshell.py\", line 2995, in _run_cell\n",
      "    return runner(coro)\n",
      "  File \"C:\\Users\\10235555\\AppData\\Roaming\\Python\\Python311\\site-packages\\IPython\\core\\async_helpers.py\", line 129, in _pseudo_sync_runner\n",
      "    coro.send(None)\n",
      "  File \"C:\\Users\\10235555\\AppData\\Roaming\\Python\\Python311\\site-packages\\IPython\\core\\interactiveshell.py\", line 3194, in run_cell_async\n",
      "    has_raised = await self.run_ast_nodes(code_ast.body, cell_name,\n",
      "  File \"C:\\Users\\10235555\\AppData\\Roaming\\Python\\Python311\\site-packages\\IPython\\core\\interactiveshell.py\", line 3373, in run_ast_nodes\n",
      "    if await self.run_code(code, result, async_=asy):\n",
      "  File \"C:\\Users\\10235555\\AppData\\Roaming\\Python\\Python311\\site-packages\\IPython\\core\\interactiveshell.py\", line 3433, in run_code\n",
      "    exec(code_obj, self.user_global_ns, self.user_ns)\n",
      "  File \"C:\\Users\\10235555\\AppData\\Local\\Temp\\ipykernel_15928\\3762251030.py\", line 32, in <module>\n",
      "    driver = webdriver.Chrome(service=Service(ChromeDriverManager().install()), options=chrome_options)\n",
      "  File \"c:\\Users\\10235555\\AppData\\Local\\Programs\\Python\\Python311\\Lib\\site-packages\\webdriver_manager\\chrome.py\", line 39, in install\n",
      "    driver_path = self._get_driver_path(self.driver)\n",
      "  File \"c:\\Users\\10235555\\AppData\\Local\\Programs\\Python\\Python311\\Lib\\site-packages\\webdriver_manager\\core\\manager.py\", line 26, in _get_driver_path\n",
      "    binary_path = self.driver_cache.find_driver(driver)\n",
      "  File \"c:\\Users\\10235555\\AppData\\Local\\Programs\\Python\\Python311\\Lib\\site-packages\\webdriver_manager\\core\\driver_cache.py\", line 123, in find_driver\n",
      "    log(f\"Driver [{path}] found in cache\")\n",
      "  File \"c:\\Users\\10235555\\AppData\\Local\\Programs\\Python\\Python311\\Lib\\site-packages\\webdriver_manager\\core\\logger.py\", line 11, in log\n",
      "    __logger.log(wdm_log_level(), text)\n",
      "Message: 'Driver [C:\\\\Users\\\\10235555\\\\.wdm\\\\drivers\\\\chromedriver\\\\win32\\\\113.0.5672\\\\chromedriver.exe] found in cache'\n",
      "Arguments: ()\n",
      "INFO:WDM:Driver [C:\\Users\\10235555\\.wdm\\drivers\\chromedriver\\win32\\113.0.5672\\chromedriver.exe] found in cache\n"
     ]
    }
   ],
   "source": [
    "from selenium import webdriver\n",
    "from selenium.webdriver.common.keys import Keys\n",
    "from selenium.webdriver.common.by import By\n",
    "from selenium.webdriver.support.ui import WebDriverWait\n",
    "from selenium.common.exceptions import ElementNotInteractableException, NoSuchElementException\n",
    "from selenium.common.exceptions import ElementClickInterceptedException\n",
    "from selenium.webdriver.support import expected_conditions as EC\n",
    "from selenium.webdriver.chrome.service import Service\n",
    "from webdriver_manager.chrome import ChromeDriverManager\n",
    "from webdriver_manager.firefox import GeckoDriverManager\n",
    "from selenium.webdriver.firefox.options import Options\n",
    "from selenium.common.exceptions import TimeoutException\n",
    "from bs4 import BeautifulSoup\n",
    "import shutil\n",
    "import logging\n",
    "import time\n",
    "import os\n",
    "import pandas as pd\n",
    "from pyshadow.main import Shadow\n",
    "from py7zr import unpack_7zarchive\n",
    "from RequestInferSchemaToJsonAPI.main import TriggerInferShemaToJsonAPI\n",
    "base_path = '\\\\\\\\10.30.31.77\\\\data_collection_dump\\\\RawData\\\\EIU'\n",
    "\n",
    "\n",
    "logging.basicConfig(handlers=[logging.FileHandler(\"//10.30.31.77/data_collection_dump/TACFolder/ScraperLogs/EIU_out.log\"),\n",
    "                                    logging.StreamHandler()], level=logging.INFO)\n",
    "chrome_options = webdriver.ChromeOptions()\n",
    "base_path = \"\\\\\\\\10.30.31.77\\\\data_collection_dump\\\\RawData\\\\EIU\" # local, gets current working directory\n",
    "prefs = {'download.default_directory' : base_path}#, \"profile.content_settings.exceptions.automatic_downloads.*.setting\" : 1}\n",
    "chrome_options.add_experimental_option('prefs', prefs)\n",
    "#chrome_options.add_argument('--user-agent=\"Mozilla/5.0 (Windows Phone 10.0; Android 4.2.1; Microsoft; Lumia 640 XL LTE) AppleWebKit/537.36 (KHTML, like Gecko) Chrome/42.0.2311.135 Mobile Safari/537.36 Edge/12.10166\"')\n",
    "driver = webdriver.Chrome(service=Service(ChromeDriverManager().install()), options=chrome_options)\n",
    "driver.maximize_window()\n",
    "\n",
    "driver.get('https://viewpoint.eiu.com/data')\n",
    "time.sleep(4)\n"
   ]
  },
  {
   "cell_type": "code",
   "execution_count": 196,
   "metadata": {},
   "outputs": [],
   "source": [
    "#sp_message_iframe_802788\n",
    "iframe = driver.find_element(By.ID,'sp_message_iframe_802788') #/html/body/iframe\n",
    "driver.switch_to.frame(iframe)\n",
    "\n",
    "driver.find_element(By.CLASS_NAME,'message-component.message-button.no-children.focusable.teg-button.start-focus.sp_choice_type_11').click()"
   ]
  },
  {
   "cell_type": "code",
   "execution_count": 176,
   "metadata": {},
   "outputs": [],
   "source": [
    "\n",
    "infos = driver.find_element(By.CLASS_NAME,'factsheet-type.country-brief-type').find_elements(By.TAG_NAME,'tr')\n",
    "title = infos[0].text.replace(':',' ')\n",
    "content = driver.find_element(By.CLASS_NAME,'quicklinks-content-table.col-xs-12.col-md-11')\n",
    "table = content.find_element(By.CLASS_NAME,'table.country-brief-content-table')\n",
    "rows = table.find_elements(By.TAG_NAME,'tr')\n",
    "l = []\n",
    "for tr in rows[1:]:\n",
    "    cells = tr.find_elements(By.TAG_NAME,'td')\n",
    "    cells_text = [cell.text for cell in cells]\n",
    "    l.append(cells_text[:-1])\n",
    "df = pd.DataFrame(l,columns=[\"Indicator\", \"2010\", \"2021\"]) \n",
    "df['2021'] = df['2021'].str.replace('\\n', ' ')\n",
    "df['2010'] = df['2010'].str.replace('\\n', ' ')"
   ]
  },
  {
   "cell_type": "code",
   "execution_count": 184,
   "metadata": {},
   "outputs": [
    {
     "data": {
      "text/plain": [
       "'22 May 2023'"
      ]
     },
     "execution_count": 184,
     "metadata": {},
     "output_type": "execute_result"
    }
   ],
   "source": [
    "infos = driver.find_element(By.CLASS_NAME,'factsheet-type.country-brief-type').find_elements(By.TAG_NAME,'tr')\n",
    "title = infos[0].text.replace(':',' ')"
   ]
  },
  {
   "cell_type": "code",
   "execution_count": 130,
   "metadata": {},
   "outputs": [],
   "source": [
    "\n",
    "fs_type = driver.find_element(By.CLASS_NAME,'ql-selected-area-wrapper').find_element(By.TAG_NAME,'label').text\n",
    "content = driver.find_element(By.CLASS_NAME,'quicklinks-content-table.col-xs-12.col-md-11')\n",
    "rows = content.find_elements(By.CLASS_NAME,'row')\n",
    "for row in rows:\n",
    "    group = row.find_element(By.CLASS_NAME,'col-md-12.col-sm-12').find_element(By.TAG_NAME,'label')\n",
    "    title = group.text + ' - ' + fs_type + ' 2021'\n",
    "    table = row.find_element(By.CLASS_NAME,'table.quicklinks-data-table')\n",
    "    rows = table.find_elements(By.TAG_NAME,'tr')\n",
    "    l = []\n",
    "    for tr in rows:\n",
    "        cells = tr.find_elements(By.TAG_NAME,'td')\n",
    "        cells_text = [cell.text for cell in cells]\n",
    "        l.append(cells_text)\n",
    "    df = pd.DataFrame(l,columns=[\"categorie\", \"value\"]) \n",
    "    df.to_csv(f'C:\\\\Users\\\\10235555\\\\Documents\\\\Dataportal Data\\\\UNAIDS_FS\\\\{title}.csv',index = False)"
   ]
  },
  {
   "cell_type": "code",
   "execution_count": 128,
   "metadata": {},
   "outputs": [],
   "source": [
    "view_data = dialog.find_element(By.ID,'btnViewqlData')\n",
    "view_data.click()"
   ]
  },
  {
   "cell_type": "code",
   "execution_count": 113,
   "metadata": {},
   "outputs": [
    {
     "data": {
      "text/plain": [
       "'<div class=\"modal-content\"><div class=\"modal-body\"><button type=\"button\" data-dismiss=\"modal\" aria-hidden=\"true\" class=\"close qlarealist\">X</button><div class=\"popup-title\">Regional</div><div class=\"popup-heading\">Choose Region</div><div class=\"popup-content\"><div class=\"popup-continents\"><ul class=\"popup-regions\"><li><a name=\"regional\" value=\"UNAESA\">Africa - Eastern and Southern</a><span class=\"popup-img\"></span></li><li><a name=\"regional\" value=\"UNAWCA\">Africa - West and Central</a><span class=\"popup-img\"></span></li><li><a name=\"regional\" value=\"UNAAP\">Asia and Pacific</a><span class=\"popup-img\"></span></li><li><a name=\"regional\" value=\"UNACAR\">Caribbean</a><span class=\"popup-img\"></span></li><li class=\"\"><a name=\"regional\" value=\"UNAEECA\">Eastern Europe and Central Asia</a><span class=\"popup-img\"></span></li><li><a name=\"regional\" value=\"UNALA\">Latin America</a><span class=\"popup-img\"></span></li><li><a name=\"regional\" value=\"UNAMENA\">Middle East and North Africa</a><span class=\"popup-img\"></span></li><li><a name=\"regional\" value=\"UNAWCENA\">Western and central Europe and North America</a><span class=\"popup-img\"></span></li></ul></div></div><div class=\"footer-btn is-disabled\"><button id=\"btnViewqlData\" type=\"submit\" class=\"is-disabled\">View Data</button></div></div></div>'"
      ]
     },
     "execution_count": 113,
     "metadata": {},
     "output_type": "execute_result"
    }
   ],
   "source": [
    "driver.find_element(By.CLASS_NAME,'modal.fade.in').find_element(By.CLASS_NAME,'modal-dialog').get_attribute('innerHTML')"
   ]
  },
  {
   "cell_type": "code",
   "execution_count": 240,
   "metadata": {},
   "outputs": [
    {
     "ename": "ElementClickInterceptedException",
     "evalue": "Message: element click intercepted: Element is not clickable at point (379, 712)\n  (Session info: chrome=113.0.5672.127)\nStacktrace:\nBacktrace:\n\tGetHandleVerifier [0x00A38893+48451]\n\t(No symbol) [0x009CB8A1]\n\t(No symbol) [0x008D5058]\n\t(No symbol) [0x00904BA4]\n\t(No symbol) [0x009036E8]\n\t(No symbol) [0x00901EEB]\n\t(No symbol) [0x009012FE]\n\t(No symbol) [0x008F9AAC]\n\t(No symbol) [0x0091A2BC]\n\t(No symbol) [0x008F9586]\n\t(No symbol) [0x0091A614]\n\t(No symbol) [0x0092C482]\n\t(No symbol) [0x0091A0B6]\n\t(No symbol) [0x008F7E08]\n\t(No symbol) [0x008F8F2D]\n\tGetHandleVerifier [0x00C98E3A+2540266]\n\tGetHandleVerifier [0x00CD8959+2801161]\n\tGetHandleVerifier [0x00CD295C+2776588]\n\tGetHandleVerifier [0x00AC2280+612144]\n\t(No symbol) [0x009D4F6C]\n\t(No symbol) [0x009D11D8]\n\t(No symbol) [0x009D12BB]\n\t(No symbol) [0x009C4857]\n\tBaseThreadInitThunk [0x76720099+25]\n\tRtlGetAppContainerNamedObjectPath [0x77657B6E+286]\n\tRtlGetAppContainerNamedObjectPath [0x77657B3E+238]\n",
     "output_type": "error",
     "traceback": [
      "\u001b[1;31m---------------------------------------------------------------------------\u001b[0m",
      "\u001b[1;31mElementClickInterceptedException\u001b[0m          Traceback (most recent call last)",
      "\u001b[1;32mc:\\Users\\10235555\\Documents\\DataportalCrawlers\\UN_Data\\UNAIDS_factSheets.ipynb Cell 18\u001b[0m in \u001b[0;36m6\n\u001b[0;32m      <a href='vscode-notebook-cell:/c%3A/Users/10235555/Documents/DataportalCrawlers/UN_Data/UNAIDS_factSheets.ipynb#X44sZmlsZQ%3D%3D?line=3'>4</a>\u001b[0m top_more \u001b[39m=\u001b[39m top\u001b[39m.\u001b[39mfind_element(By\u001b[39m.\u001b[39mTAG_NAME,\u001b[39m'\u001b[39m\u001b[39mdiv\u001b[39m\u001b[39m'\u001b[39m)\n\u001b[0;32m      <a href='vscode-notebook-cell:/c%3A/Users/10235555/Documents/DataportalCrawlers/UN_Data/UNAIDS_factSheets.ipynb#X44sZmlsZQ%3D%3D?line=4'>5</a>\u001b[0m top_name \u001b[39m=\u001b[39m top_more\u001b[39m.\u001b[39mfind_element(By\u001b[39m.\u001b[39mTAG_NAME,\u001b[39m'\u001b[39m\u001b[39ma\u001b[39m\u001b[39m'\u001b[39m)\u001b[39m.\u001b[39mtext\n\u001b[1;32m----> <a href='vscode-notebook-cell:/c%3A/Users/10235555/Documents/DataportalCrawlers/UN_Data/UNAIDS_factSheets.ipynb#X44sZmlsZQ%3D%3D?line=5'>6</a>\u001b[0m top_more\u001b[39m.\u001b[39;49mclick()\n\u001b[0;32m      <a href='vscode-notebook-cell:/c%3A/Users/10235555/Documents/DataportalCrawlers/UN_Data/UNAIDS_factSheets.ipynb#X44sZmlsZQ%3D%3D?line=6'>7</a>\u001b[0m time\u001b[39m.\u001b[39msleep(\u001b[39m1\u001b[39m)\n\u001b[0;32m      <a href='vscode-notebook-cell:/c%3A/Users/10235555/Documents/DataportalCrawlers/UN_Data/UNAIDS_factSheets.ipynb#X44sZmlsZQ%3D%3D?line=7'>8</a>\u001b[0m headers \u001b[39m=\u001b[39m top\u001b[39m.\u001b[39mfind_element(By\u001b[39m.\u001b[39mTAG_NAME,\u001b[39m'\u001b[39m\u001b[39mul\u001b[39m\u001b[39m'\u001b[39m)\u001b[39m.\u001b[39mfind_elements(By\u001b[39m.\u001b[39mTAG_NAME,\u001b[39m'\u001b[39m\u001b[39mli\u001b[39m\u001b[39m'\u001b[39m)\n",
      "File \u001b[1;32mc:\\Users\\10235555\\AppData\\Local\\Programs\\Python\\Python311\\Lib\\site-packages\\selenium\\webdriver\\remote\\webelement.py:93\u001b[0m, in \u001b[0;36mWebElement.click\u001b[1;34m(self)\u001b[0m\n\u001b[0;32m     91\u001b[0m \u001b[39mdef\u001b[39;00m \u001b[39mclick\u001b[39m(\u001b[39mself\u001b[39m) \u001b[39m-\u001b[39m\u001b[39m>\u001b[39m \u001b[39mNone\u001b[39;00m:\n\u001b[0;32m     92\u001b[0m     \u001b[39m\"\"\"Clicks the element.\"\"\"\u001b[39;00m\n\u001b[1;32m---> 93\u001b[0m     \u001b[39mself\u001b[39;49m\u001b[39m.\u001b[39;49m_execute(Command\u001b[39m.\u001b[39;49mCLICK_ELEMENT)\n",
      "File \u001b[1;32mc:\\Users\\10235555\\AppData\\Local\\Programs\\Python\\Python311\\Lib\\site-packages\\selenium\\webdriver\\remote\\webelement.py:410\u001b[0m, in \u001b[0;36mWebElement._execute\u001b[1;34m(self, command, params)\u001b[0m\n\u001b[0;32m    408\u001b[0m     params \u001b[39m=\u001b[39m {}\n\u001b[0;32m    409\u001b[0m params[\u001b[39m\"\u001b[39m\u001b[39mid\u001b[39m\u001b[39m\"\u001b[39m] \u001b[39m=\u001b[39m \u001b[39mself\u001b[39m\u001b[39m.\u001b[39m_id\n\u001b[1;32m--> 410\u001b[0m \u001b[39mreturn\u001b[39;00m \u001b[39mself\u001b[39;49m\u001b[39m.\u001b[39;49m_parent\u001b[39m.\u001b[39;49mexecute(command, params)\n",
      "File \u001b[1;32mc:\\Users\\10235555\\AppData\\Local\\Programs\\Python\\Python311\\Lib\\site-packages\\selenium\\webdriver\\remote\\webdriver.py:444\u001b[0m, in \u001b[0;36mWebDriver.execute\u001b[1;34m(self, driver_command, params)\u001b[0m\n\u001b[0;32m    442\u001b[0m response \u001b[39m=\u001b[39m \u001b[39mself\u001b[39m\u001b[39m.\u001b[39mcommand_executor\u001b[39m.\u001b[39mexecute(driver_command, params)\n\u001b[0;32m    443\u001b[0m \u001b[39mif\u001b[39;00m response:\n\u001b[1;32m--> 444\u001b[0m     \u001b[39mself\u001b[39;49m\u001b[39m.\u001b[39;49merror_handler\u001b[39m.\u001b[39;49mcheck_response(response)\n\u001b[0;32m    445\u001b[0m     response[\u001b[39m\"\u001b[39m\u001b[39mvalue\u001b[39m\u001b[39m\"\u001b[39m] \u001b[39m=\u001b[39m \u001b[39mself\u001b[39m\u001b[39m.\u001b[39m_unwrap_value(response\u001b[39m.\u001b[39mget(\u001b[39m\"\u001b[39m\u001b[39mvalue\u001b[39m\u001b[39m\"\u001b[39m, \u001b[39mNone\u001b[39;00m))\n\u001b[0;32m    446\u001b[0m     \u001b[39mreturn\u001b[39;00m response\n",
      "File \u001b[1;32mc:\\Users\\10235555\\AppData\\Local\\Programs\\Python\\Python311\\Lib\\site-packages\\selenium\\webdriver\\remote\\errorhandler.py:249\u001b[0m, in \u001b[0;36mErrorHandler.check_response\u001b[1;34m(self, response)\u001b[0m\n\u001b[0;32m    247\u001b[0m         alert_text \u001b[39m=\u001b[39m value[\u001b[39m\"\u001b[39m\u001b[39malert\u001b[39m\u001b[39m\"\u001b[39m]\u001b[39m.\u001b[39mget(\u001b[39m\"\u001b[39m\u001b[39mtext\u001b[39m\u001b[39m\"\u001b[39m)\n\u001b[0;32m    248\u001b[0m     \u001b[39mraise\u001b[39;00m exception_class(message, screen, stacktrace, alert_text)  \u001b[39m# type: ignore[call-arg]  # mypy is not smart enough here\u001b[39;00m\n\u001b[1;32m--> 249\u001b[0m \u001b[39mraise\u001b[39;00m exception_class(message, screen, stacktrace)\n",
      "\u001b[1;31mElementClickInterceptedException\u001b[0m: Message: element click intercepted: Element is not clickable at point (379, 712)\n  (Session info: chrome=113.0.5672.127)\nStacktrace:\nBacktrace:\n\tGetHandleVerifier [0x00A38893+48451]\n\t(No symbol) [0x009CB8A1]\n\t(No symbol) [0x008D5058]\n\t(No symbol) [0x00904BA4]\n\t(No symbol) [0x009036E8]\n\t(No symbol) [0x00901EEB]\n\t(No symbol) [0x009012FE]\n\t(No symbol) [0x008F9AAC]\n\t(No symbol) [0x0091A2BC]\n\t(No symbol) [0x008F9586]\n\t(No symbol) [0x0091A614]\n\t(No symbol) [0x0092C482]\n\t(No symbol) [0x0091A0B6]\n\t(No symbol) [0x008F7E08]\n\t(No symbol) [0x008F8F2D]\n\tGetHandleVerifier [0x00C98E3A+2540266]\n\tGetHandleVerifier [0x00CD8959+2801161]\n\tGetHandleVerifier [0x00CD295C+2776588]\n\tGetHandleVerifier [0x00AC2280+612144]\n\t(No symbol) [0x009D4F6C]\n\t(No symbol) [0x009D11D8]\n\t(No symbol) [0x009D12BB]\n\t(No symbol) [0x009C4857]\n\tBaseThreadInitThunk [0x76720099+25]\n\tRtlGetAppContainerNamedObjectPath [0x77657B6E+286]\n\tRtlGetAppContainerNamedObjectPath [0x77657B3E+238]\n"
     ]
    }
   ],
   "source": [
    "content = driver.find_element(By.CLASS_NAME,'tree')\n",
    "tops = content.find_element(By.TAG_NAME,'ul').find_elements(By.TAG_NAME,'li')\n",
    "for top in tops:\n",
    "    top_more = top.find_element(By.TAG_NAME,'div')\n",
    "    top_name = top_more.find_element(By.TAG_NAME,'a').text\n",
    "    top_more.click()\n",
    "    time.sleep(1)\n",
    "    headers = top.find_element(By.TAG_NAME,'ul').find_elements(By.TAG_NAME,'li')"
   ]
  },
  {
   "cell_type": "code",
   "execution_count": 32,
   "metadata": {},
   "outputs": [],
   "source": [
    "path = '//10.30.31.77/data_collection_dump/TestData/UNAIDS_FS/unaids_Data'\n",
    "import os\n",
    "uniq = []\n",
    "dup = []\n",
    "for file in os.listdir(path):\n",
    "    if file not in uniq:\n",
    "        # file = file.split('CKAN_')[1].split('_')[0]\n",
    "        uniq.append(file)\n",
    "    elif file in uniq:\n",
    "        dup.append(file)"
   ]
  },
  {
   "cell_type": "code",
   "execution_count": 36,
   "metadata": {},
   "outputs": [
    {
     "data": {
      "text/plain": [
       "[]"
      ]
     },
     "execution_count": 36,
     "metadata": {},
     "output_type": "execute_result"
    }
   ],
   "source": [
    "dup"
   ]
  },
  {
   "cell_type": "code",
   "execution_count": 20,
   "metadata": {},
   "outputs": [],
   "source": [
    "path_data = '//10.30.31.77/data_collection_dump/RawData/UNAIDS_FS'\n",
    "data_l = []\n",
    "for data in os.listdir(path_data):\n",
    "    data = data.replace('(','').replace(')','').replace('-','').split('.')[0].replace('  ',' ')\n",
    "    data_l.append(data)"
   ]
  }
 ],
 "metadata": {
  "kernelspec": {
   "display_name": "Python 3",
   "language": "python",
   "name": "python3"
  },
  "language_info": {
   "codemirror_mode": {
    "name": "ipython",
    "version": 3
   },
   "file_extension": ".py",
   "mimetype": "text/x-python",
   "name": "python",
   "nbconvert_exporter": "python",
   "pygments_lexer": "ipython3",
   "version": "3.11.0"
  },
  "orig_nbformat": 4
 },
 "nbformat": 4,
 "nbformat_minor": 2
}
