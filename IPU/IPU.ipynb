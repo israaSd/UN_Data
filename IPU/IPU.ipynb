{
 "cells": [
  {
   "cell_type": "code",
   "execution_count": 78,
   "metadata": {},
   "outputs": [
    {
     "name": "stderr",
     "output_type": "stream",
     "text": [
      "INFO:WDM:====== WebDriver manager ======\n",
      "INFO:WDM:Get LATEST chromedriver version for google-chrome 109.0.5414\n",
      "INFO:WDM:Driver [C:\\Users\\10235555\\.wdm\\drivers\\chromedriver\\win32\\109.0.5414\\chromedriver.exe] found in cache\n"
     ]
    }
   ],
   "source": [
    "from bs4 import BeautifulSoup\n",
    "import requests\n",
    "import os\n",
    "import wget\n",
    "import time\n",
    "base_path = \"C:\\\\Users\\\\10235555\\\\Documents\\\\Dataportal Data\\\\IPU\"\n",
    "import urllib.request\n",
    "import logging\n",
    "import pandas as pd\n",
    "from selenium.webdriver.support.ui import Select\n",
    "from re import search\n",
    "logging.basicConfig(handlers=[logging.FileHandler(\"C:\\\\Users\\\\10235555\\\\Documents\\\\Dataportal Data\\\\IPU_out.log\"),\n",
    "                            logging.StreamHandler()], level=logging.INFO)\n",
    "\n",
    "from selenium import webdriver\n",
    "from selenium.webdriver.common.keys import Keys\n",
    "from selenium.webdriver.common.by import By\n",
    "from selenium.webdriver.support.ui import WebDriverWait\n",
    "from selenium.common.exceptions import ElementNotInteractableException, NoSuchElementException\n",
    "from selenium.common.exceptions import ElementClickInterceptedException\n",
    "from selenium.webdriver.support import expected_conditions as EC\n",
    "from selenium.webdriver.chrome.service import Service\n",
    "from webdriver_manager.chrome import ChromeDriverManager\n",
    "from webdriver_manager.firefox import GeckoDriverManager\n",
    "from selenium.webdriver.firefox.options import Options\n",
    "from bs4 import BeautifulSoup\n",
    "import shutil\n",
    "import time\n",
    "import os\n",
    "from pyshadow.main import Shadow\n",
    "from py7zr import unpack_7zarchive\n",
    "from RequestInferSchemaToJsonAPI.main import TriggerInferShemaToJsonAPI\n",
    "\n",
    "chrome_options = webdriver.ChromeOptions()\n",
    "base_path = \"C:\\\\Users\\\\10235555\\\\Documents\\\\Dataportal Data\\\\IPU\" # local, gets current working directory\n",
    "prefs = {'download.default_directory' : base_path}#, \"profile.content_settings.exceptions.automatic_downloads.*.setting\" : 1}\n",
    "chrome_options.add_experimental_option('prefs', prefs)\n",
    "#chrome_options.add_argument('--user-agent=\"Mozilla/5.0 (Windows Phone 10.0; Android 4.2.1; Microsoft; Lumia 640 XL LTE) AppleWebKit/537.36 (KHTML, like Gecko) Chrome/42.0.2311.135 Mobile Safari/537.36 Edge/12.10166\"')\n",
    "driver = webdriver.Chrome(service=Service(ChromeDriverManager().install()), options=chrome_options)\n",
    "driver.maximize_window()"
   ]
  },
  {
   "cell_type": "code",
   "execution_count": 2,
   "metadata": {},
   "outputs": [],
   "source": [
    "arab_countries = ['Algeria', 'Bahrain', 'Comoros', 'Djibouti', 'Egypt', 'Iraq', 'Jordan', 'Kuwait', 'Lebanon', 'Libya', 'Mauritania', 'Morocco', 'Oman', 'Qatar', 'Saudi Arabia', 'Somalia' , 'Syria' , 'Tunisia', 'United Arab Emirates', 'Yemen']"
   ]
  },
  {
   "cell_type": "code",
   "execution_count": 65,
   "metadata": {},
   "outputs": [
    {
     "ename": "StaleElementReferenceException",
     "evalue": "Message: stale element reference: element is not attached to the page document\n  (Session info: chrome=109.0.5414.121)\nStacktrace:\nBacktrace:\n\t(No symbol) [0x005E6643]\n\t(No symbol) [0x0057BE21]\n\t(No symbol) [0x0047DA9D]\n\t(No symbol) [0x004809E4]\n\t(No symbol) [0x004808AD]\n\t(No symbol) [0x00480B30]\n\t(No symbol) [0x004AC7C0]\n\t(No symbol) [0x004CFD7C]\n\t(No symbol) [0x004A641F]\n\t(No symbol) [0x004D00D4]\n\t(No symbol) [0x004E6B09]\n\t(No symbol) [0x004CFB76]\n\t(No symbol) [0x004A49C1]\n\t(No symbol) [0x004A5E5D]\n\tGetHandleVerifier [0x0085A142+2497106]\n\tGetHandleVerifier [0x008885D3+2686691]\n\tGetHandleVerifier [0x0088BB9C+2700460]\n\tGetHandleVerifier [0x00693B10+635936]\n\t(No symbol) [0x00584A1F]\n\t(No symbol) [0x0058A418]\n\t(No symbol) [0x0058A505]\n\t(No symbol) [0x0059508B]\n\tBaseThreadInitThunk [0x772400F9+25]\n\tRtlGetAppContainerNamedObjectPath [0x77D17BBE+286]\n\tRtlGetAppContainerNamedObjectPath [0x77D17B8E+238]\n",
     "output_type": "error",
     "traceback": [
      "\u001b[1;31m---------------------------------------------------------------------------\u001b[0m",
      "\u001b[1;31mStaleElementReferenceException\u001b[0m            Traceback (most recent call last)",
      "Cell \u001b[1;32mIn [65], line 16\u001b[0m\n\u001b[0;32m     14\u001b[0m input_select \u001b[39m=\u001b[39m option_list_div\u001b[39m.\u001b[39mfind_element(By\u001b[39m.\u001b[39mTAG_NAME,\u001b[39m'\u001b[39m\u001b[39minput\u001b[39m\u001b[39m'\u001b[39m)\n\u001b[0;32m     15\u001b[0m input_select\u001b[39m.\u001b[39mclear() \n\u001b[1;32m---> 16\u001b[0m \u001b[39mif\u001b[39;00m arab_countries[\u001b[39m0\u001b[39m] \u001b[39min\u001b[39;00m li_option\u001b[39m.\u001b[39;49mtext:\n\u001b[0;32m     17\u001b[0m     \u001b[39m# print(li_option.text)\u001b[39;00m\n\u001b[0;32m     18\u001b[0m     time\u001b[39m.\u001b[39msleep(\u001b[39m2\u001b[39m)\n\u001b[0;32m     19\u001b[0m     input_select\u001b[39m.\u001b[39msend_keys(li_option\u001b[39m.\u001b[39mtext)\n",
      "File \u001b[1;32mc:\\Users\\10235555\\AppData\\Local\\Programs\\Python\\Python311\\Lib\\site-packages\\selenium\\webdriver\\remote\\webelement.py:89\u001b[0m, in \u001b[0;36mWebElement.text\u001b[1;34m(self)\u001b[0m\n\u001b[0;32m     86\u001b[0m \u001b[39m@property\u001b[39m\n\u001b[0;32m     87\u001b[0m \u001b[39mdef\u001b[39;00m \u001b[39mtext\u001b[39m(\u001b[39mself\u001b[39m) \u001b[39m-\u001b[39m\u001b[39m>\u001b[39m \u001b[39mstr\u001b[39m:\n\u001b[0;32m     88\u001b[0m     \u001b[39m\"\"\"The text of the element.\"\"\"\u001b[39;00m\n\u001b[1;32m---> 89\u001b[0m     \u001b[39mreturn\u001b[39;00m \u001b[39mself\u001b[39;49m\u001b[39m.\u001b[39;49m_execute(Command\u001b[39m.\u001b[39;49mGET_ELEMENT_TEXT)[\u001b[39m\"\u001b[39m\u001b[39mvalue\u001b[39m\u001b[39m\"\u001b[39m]\n",
      "File \u001b[1;32mc:\\Users\\10235555\\AppData\\Local\\Programs\\Python\\Python311\\Lib\\site-packages\\selenium\\webdriver\\remote\\webelement.py:410\u001b[0m, in \u001b[0;36mWebElement._execute\u001b[1;34m(self, command, params)\u001b[0m\n\u001b[0;32m    408\u001b[0m     params \u001b[39m=\u001b[39m {}\n\u001b[0;32m    409\u001b[0m params[\u001b[39m\"\u001b[39m\u001b[39mid\u001b[39m\u001b[39m\"\u001b[39m] \u001b[39m=\u001b[39m \u001b[39mself\u001b[39m\u001b[39m.\u001b[39m_id\n\u001b[1;32m--> 410\u001b[0m \u001b[39mreturn\u001b[39;00m \u001b[39mself\u001b[39;49m\u001b[39m.\u001b[39;49m_parent\u001b[39m.\u001b[39;49mexecute(command, params)\n",
      "File \u001b[1;32mc:\\Users\\10235555\\AppData\\Local\\Programs\\Python\\Python311\\Lib\\site-packages\\selenium\\webdriver\\remote\\webdriver.py:444\u001b[0m, in \u001b[0;36mWebDriver.execute\u001b[1;34m(self, driver_command, params)\u001b[0m\n\u001b[0;32m    442\u001b[0m response \u001b[39m=\u001b[39m \u001b[39mself\u001b[39m\u001b[39m.\u001b[39mcommand_executor\u001b[39m.\u001b[39mexecute(driver_command, params)\n\u001b[0;32m    443\u001b[0m \u001b[39mif\u001b[39;00m response:\n\u001b[1;32m--> 444\u001b[0m     \u001b[39mself\u001b[39;49m\u001b[39m.\u001b[39;49merror_handler\u001b[39m.\u001b[39;49mcheck_response(response)\n\u001b[0;32m    445\u001b[0m     response[\u001b[39m\"\u001b[39m\u001b[39mvalue\u001b[39m\u001b[39m\"\u001b[39m] \u001b[39m=\u001b[39m \u001b[39mself\u001b[39m\u001b[39m.\u001b[39m_unwrap_value(response\u001b[39m.\u001b[39mget(\u001b[39m\"\u001b[39m\u001b[39mvalue\u001b[39m\u001b[39m\"\u001b[39m, \u001b[39mNone\u001b[39;00m))\n\u001b[0;32m    446\u001b[0m     \u001b[39mreturn\u001b[39;00m response\n",
      "File \u001b[1;32mc:\\Users\\10235555\\AppData\\Local\\Programs\\Python\\Python311\\Lib\\site-packages\\selenium\\webdriver\\remote\\errorhandler.py:249\u001b[0m, in \u001b[0;36mErrorHandler.check_response\u001b[1;34m(self, response)\u001b[0m\n\u001b[0;32m    247\u001b[0m         alert_text \u001b[39m=\u001b[39m value[\u001b[39m\"\u001b[39m\u001b[39malert\u001b[39m\u001b[39m\"\u001b[39m]\u001b[39m.\u001b[39mget(\u001b[39m\"\u001b[39m\u001b[39mtext\u001b[39m\u001b[39m\"\u001b[39m)\n\u001b[0;32m    248\u001b[0m     \u001b[39mraise\u001b[39;00m exception_class(message, screen, stacktrace, alert_text)  \u001b[39m# type: ignore[call-arg]  # mypy is not smart enough here\u001b[39;00m\n\u001b[1;32m--> 249\u001b[0m \u001b[39mraise\u001b[39;00m exception_class(message, screen, stacktrace)\n",
      "\u001b[1;31mStaleElementReferenceException\u001b[0m: Message: stale element reference: element is not attached to the page document\n  (Session info: chrome=109.0.5414.121)\nStacktrace:\nBacktrace:\n\t(No symbol) [0x005E6643]\n\t(No symbol) [0x0057BE21]\n\t(No symbol) [0x0047DA9D]\n\t(No symbol) [0x004809E4]\n\t(No symbol) [0x004808AD]\n\t(No symbol) [0x00480B30]\n\t(No symbol) [0x004AC7C0]\n\t(No symbol) [0x004CFD7C]\n\t(No symbol) [0x004A641F]\n\t(No symbol) [0x004D00D4]\n\t(No symbol) [0x004E6B09]\n\t(No symbol) [0x004CFB76]\n\t(No symbol) [0x004A49C1]\n\t(No symbol) [0x004A5E5D]\n\tGetHandleVerifier [0x0085A142+2497106]\n\tGetHandleVerifier [0x008885D3+2686691]\n\tGetHandleVerifier [0x0088BB9C+2700460]\n\tGetHandleVerifier [0x00693B10+635936]\n\t(No symbol) [0x00584A1F]\n\t(No symbol) [0x0058A418]\n\t(No symbol) [0x0058A505]\n\t(No symbol) [0x0059508B]\n\tBaseThreadInitThunk [0x772400F9+25]\n\tRtlGetAppContainerNamedObjectPath [0x77D17BBE+286]\n\tRtlGetAppContainerNamedObjectPath [0x77D17B8E+238]\n"
     ]
    }
   ],
   "source": [
    "from selenium.webdriver.support.ui import Select\n",
    "\n",
    "url = 'https://data.ipu.org/'\n",
    "driver.get(url)\n",
    "arab_countries = ['Algeria', 'Bahrain', 'Comoros', 'Djibouti', 'Egypt', 'Iraq', 'Jordan', 'Kuwait', 'Lebanon', 'Libya', 'Mauritania', 'Morocco', 'Oman', 'Qatar', 'Saudi Arabia', 'Somalia' , 'Syria' , 'Tunisia', 'United Arab Emirates', 'Yemen']\n",
    "flex_parent = driver.find_element(By.CLASS_NAME,'cc-menu')\n",
    "flex_parent.click()\n",
    "div_click = flex_parent.find_element(By.CLASS_NAME,'chosen-container.chosen-container-single.chosen-enable.form-select.chosen-processed.chosen-container-active.chosen-with-drop')\n",
    "option_list_div = flex_parent.find_element(By.CLASS_NAME,'chosen-drop')\n",
    "option_list_ul = option_list_div.find_element(By.TAG_NAME,'ul')\n",
    "option_list_li = option_list_ul.find_elements(By.TAG_NAME,'li')\n",
    "for li_option in option_list_li:\n",
    "    time.sleep(2)\n",
    "    input_select = option_list_div.find_element(By.TAG_NAME,'input')\n",
    "    input_select.clear() \n",
    "    if arab_countries[0] in li_option.text:\n",
    "        # print(li_option.text)\n",
    "        time.sleep(2)\n",
    "        input_select.send_keys(li_option.text)\n",
    "        input_select.send_keys(Keys.ENTER)\n",
    "        time.sleep(2)\n",
    "        driver.get(url)\n",
    "        arab_countries = ['Algeria', 'Bahrain', 'Comoros', 'Djibouti', 'Egypt', 'Iraq', 'Jordan', 'Kuwait', 'Lebanon', 'Libya', 'Mauritania', 'Morocco', 'Oman', 'Qatar', 'Saudi Arabia', 'Somalia' , 'Syria' , 'Tunisia', 'United Arab Emirates', 'Yemen']\n",
    "        flex_parent = driver.find_element(By.CLASS_NAME,'cc-menu')\n",
    "        flex_parent.click()\n",
    "        div_click = flex_parent.find_element(By.CLASS_NAME,'chosen-container.chosen-container-single.chosen-enable.form-select.chosen-processed.chosen-container-active.chosen-with-drop')\n",
    "        option_list_div = flex_parent.find_element(By.CLASS_NAME,'chosen-drop')\n",
    "        option_list_ul = option_list_div.find_element(By.TAG_NAME,'ul')\n",
    "        option_list_li = option_list_ul.find_elements(By.TAG_NAME,'li')\n",
    "\n",
    "        # flex_parent = driver.find_element(By.CLASS_NAME,'cc-menu')\n",
    "        # flex_parent.click()\n",
    "        # div_click = flex_parent.find_element(By.CLASS_NAME,'chosen-container.chosen-container-single.chosen-enable.form-select.chosen-processed.chosen-container-active.chosen-with-drop')\n",
    "        # option_list_div = flex_parent.find_element(By.CLASS_NAME,'chosen-drop')\n",
    "        # option_list_ul = option_list_div.find_element(By.TAG_NAME,'ul')\n",
    "        # option_list_li = option_list_ul.find_elements(By.TAG_NAME,'li')\n",
    "        # driver.refresh()\n",
    "        # time.sleep(2)\n",
    "        # flex_parent.click()\n",
    "        # continue\n",
    "        # option_list_ul.click()\n",
    "    else:\n",
    "        pass\n",
    "    "
   ]
  },
  {
   "cell_type": "code",
   "execution_count": 97,
   "metadata": {},
   "outputs": [
    {
     "name": "stdout",
     "output_type": "stream",
     "text": [
      "7.86%\n"
     ]
    }
   ],
   "source": [
    "from selenium.webdriver.support.ui import Select\n",
    "url = 'https://data.ipu.org/'\n",
    "driver.get(url)\n",
    "flex_parent = driver.find_element(By.CLASS_NAME,'cc-menu')\n",
    "flex_parent.click()\n",
    "div_click = flex_parent.find_element(By.CLASS_NAME,'chosen-container.chosen-container-single.chosen-enable.form-select.chosen-processed.chosen-container-active.chosen-with-drop')\n",
    "# div_select = flex_parent.find_element(By.CLASS_NAME,'form-item.form-type-select.form-item-country-and-chamber-select')\n",
    "# select_element = div_select.find_element(By.CLASS_NAME,'chosen-enable.form-select.chosen-processed')\n",
    "# select_element.is_displayed()\n",
    "# select = Select(select_element)\n",
    "# option_list = select.options\n",
    "option_list_div = flex_parent.find_element(By.CLASS_NAME,'chosen-drop')\n",
    "option_list_ul = option_list_div.find_element(By.TAG_NAME,'ul')\n",
    "option_list_li = option_list_ul.find_elements(By.TAG_NAME,'li')\n",
    "for li_option in option_list_li:\n",
    "    input_select = option_list_div.find_element(By.TAG_NAME,'input')\n",
    "    input_select.clear()\n",
    "    if f'{arab_countries[0]} - N' in li_option.text:\n",
    "        input_select.send_keys(li_option.text)\n",
    "        input_select.send_keys(Keys.ENTER)\n",
    "        time.sleep(2)\n",
    "        div = driver.find_element(By.CLASS_NAME,'chamber__info-inner')\n",
    "        div_member = div.find_element(By.CLASS_NAME,'panel-pane.pane-panels-mini.pane-members.country-heading')\n",
    "        statutory_row = div.find_element(By.CLASS_NAME,'panel-pane.pane-entity-field.pane-node-field-statutory-members-number')\n",
    "        label_statutory = statutory_row.find_element(By.CLASS_NAME,'field-label').text\n",
    "        value_statutory = statutory_row.find_element(By.CLASS_NAME,'field-items').text\n",
    "        men_row = div_member.find_element(By.CLASS_NAME,'panel-pane.pane-entity-field.pane-node-field-current-men-number')\n",
    "        label_men = men_row.find_element(By.CLASS_NAME,'field-label').text\n",
    "        value_men = men_row.find_element(By.CLASS_NAME,'field-items').text\n",
    "        women_row = div_member.find_element(By.CLASS_NAME,'panel-pane.pane-entity-field.pane-node-field-current-women-number')\n",
    "        label_women = women_row.find_element(By.CLASS_NAME,'field-label').text\n",
    "        value_women = women_row.find_element(By.CLASS_NAME,'field-items').text\n",
    "        percen_women_row = div_member.find_element(By.CLASS_NAME,'panel-pane.pane-ipu-country-node-property-pane.field')\n",
    "        label_percen_women = percen_women_row.find_element(By.CLASS_NAME,'field-label').text\n",
    "        value_percen_women = percen_women_row.find_element(By.CLASS_NAME,'field-items').text\n",
    "        driver.back()\n",
    "        flex_parent.click()\n",
    "        break\n",
    "    # if f'{arab_countries[0]} - N' in option: f'{arab_countries[0]} - N' in \n",
    "        # print(option)\n",
    "    # if li_option.text.startswith(f'{arab_countries[0]} - N'):\n",
    "    # time.sleep(3)\n",
    "    \n",
    "    # div_member = driver.find_element(By.CLASS_NAME,'chamber__info-inner')\n",
    "    # h4 = div_member.find_elements(By.TAG_NAME,'h4')\n",
    "    # print(h4[4].text)\n",
    "    # \n",
    "    # flex_parent.click()\n",
    "    \n",
    "    # input_select.send_keys(Keys.RETURN)\n",
    "    # time.sleep(2)\n",
    "    # flex_parent.click()\n",
    "    # else:\n",
    "    #     pass\n",
    "    # time.sleep(2)\n",
    "    # driver.get(url)\n",
    "    # time.sleep(4)\n",
    "    # flex_parent.click()\n",
    "        # flex_parent.click()\n",
    "#         select.select_by_visible_text(option)\n",
    "# for option in option_list:\n",
    "#     print(option.text)\n",
    "# select.select_by_visible_text(f'{arab_countries[0]} - {}')"
   ]
  },
  {
   "cell_type": "code",
   "execution_count": null,
   "metadata": {},
   "outputs": [],
   "source": [
    "div_click = flex_parent.find_element(By.CLASS_NAME,'chosen-container.chosen-container-single.chosen-enable.form-select.chosen-processed.chosen-container-active.chosen-with-drop')\n",
    "#chosen-container chosen-container-single chosen-enable form-select chosen-processed\n",
    "# driver.execute_script(\"document.getElementByTAGNAME('select').style.display = 'block';\")"
   ]
  },
  {
   "cell_type": "code",
   "execution_count": 9,
   "metadata": {},
   "outputs": [
    {
     "name": "stdout",
     "output_type": "stream",
     "text": [
      "https://data.ipu.org/api/historical.csv?entity_id=3&field_name=field_ipu_membership&view_mode=_custom&chamber_id=13314\n"
     ]
    }
   ],
   "source": [
    "from selenium.webdriver.support.ui import Select\n",
    "from selenium.webdriver.common.action_chains import ActionChains\n",
    "from selenium.webdriver.common.keys import Keys\n",
    "options = []\n",
    "labels_statutory = []\n",
    "values_statutory = []\n",
    "labels_men = []\n",
    "values_men = []\n",
    "labels_women = []\n",
    "values_women = []\n",
    "labels_percen_women = []\n",
    "values_percen_women = []\n",
    "years = []\n",
    "nb_statutory = []\n",
    "url = 'https://data.ipu.org/'\n",
    "driver.get(url)\n",
    "flex_parent = driver.find_element(By.CLASS_NAME,'cc-menu')\n",
    "flex_parent.click()                                \n",
    "div_select = flex_parent.find_element(By.CLASS_NAME,'form-item.form-type-select.form-item-country-and-chamber-select')\n",
    "select_element = div_select.find_element(By.CLASS_NAME,'chosen-enable.form-select.chosen-processed')\n",
    "driver.execute_script(\"arguments[0].style.display = 'block';\", select_element)\n",
    "select_element.is_displayed()\n",
    "select = Select(select_element)\n",
    "option_list = select.options\n",
    "time.sleep(1)\n",
    "select.select_by_visible_text(\"Algeria - National People's Assembly\")\n",
    "time.sleep(1)\n",
    "div = driver.find_element(By.CLASS_NAME,'chamber__info-inner')\n",
    "div_member = div.find_element(By.CLASS_NAME,'panel-pane.pane-panels-mini.pane-members.country-heading')\n",
    "statutory_row = div.find_element(By.CLASS_NAME,'panel-pane.pane-entity-field.pane-node-field-statutory-members-number')\n",
    "label_statutory = statutory_row.find_element(By.CLASS_NAME,'field-label').text\n",
    "value_statutory = statutory_row.find_element(By.CLASS_NAME,'field-items').text\n",
    "values_statutory = statutory_row.find_element(By.CLASS_NAME,'field-items').find_element(By.CLASS_NAME,'info-pop-up.jquery-once-1-processed')\n",
    "values_statutory.click()\n",
    "div_download = driver.find_element(By.CLASS_NAME,'country__export-block')\n",
    "link = div_download.find_element(By.TAG_NAME,'a').get_attribute('href')\n",
    "print(link)\n",
    "# urllib.request.urlretrieve(link,f\"{base_path}\\\\Algeria - National People's Assembly statutory.csv\")\n",
    "# df_statutory = pd\n",
    "# table_statut =  driver.find_element(By.ID,'field_statutory_members_number-historical').find_element(By.TAG_NAME,'table')\n",
    "# rows_statut = table_statut.find_elements(By.TAG_NAME,'tr')\n",
    "# for row in rows_statut:\n",
    "#     cells_statut = row.find_elements(By.TAG_NAME,'td')\n",
    "#     cells_text_statut = [cell.text for cell in cells_statut]\n",
    "#     if len(cells_text_statut[1:])>1:\n",
    "#         year = cells_text_statut[0]\n",
    "#         value_statutory = cells_text_statut[1]\n",
    "#         years.append(year)\n",
    "#         nb_statutory.append(value_statutory)   \n",
    "# div_close = driver.find_element(By.CLASS_NAME,'ui-dialog.ui-widget.ui-widget-content.ui-corner-all.ui-front.ui-draggable.ui-resizable')\n",
    "close_button = driver.find_element(By.CLASS_NAME,'ui-button.ui-widget.ui-state-default.ui-corner-all.ui-button-icon-only.ui-dialog-titlebar-close')\n",
    "close_button.click()\n",
    "    # for cell in cells:  info-pop-up jquery-once-1-processed"
   ]
  },
  {
   "cell_type": "code",
   "execution_count": 70,
   "metadata": {},
   "outputs": [
    {
     "data": {
      "text/plain": [
       "'\\\\\\\\10.30.31.77\\\\data_collection_dump\\\\RawData\\\\WFP'"
      ]
     },
     "execution_count": 70,
     "metadata": {},
     "output_type": "execute_result"
    }
   ],
   "source": []
  },
  {
   "cell_type": "code",
   "execution_count": 33,
   "metadata": {},
   "outputs": [],
   "source": [
    "years = []\n",
    "values_statutory = []\n",
    "table =  driver.find_element(By.ID,'field_statutory_members_number-historical').find_element(By.TAG_NAME,'table')\n",
    "rows = table.find_elements(By.TAG_NAME,'tr')\n",
    "for row in rows:\n",
    "    cells = row.find_elements(By.TAG_NAME,'td')\n",
    "    cells_text = [cell.text for cell in cells]\n",
    "    if len(cells_text[1:])>1:\n",
    "        year = cells_text[0]\n",
    "        value_statutory = cells_text[1]\n",
    "        years.append(year)\n",
    "        values_statutory.append(value_statutory)\n"
   ]
  },
  {
   "cell_type": "code",
   "execution_count": 131,
   "metadata": {},
   "outputs": [
    {
     "data": {
      "text/plain": [
       "[\"Algeria - National People's Assembly\",\n",
       " 'Algeria - Council of the Nation',\n",
       " 'Bahrain - Council of Representatives',\n",
       " 'Bahrain - Shura Council',\n",
       " 'Comoros - Assembly of the Union',\n",
       " 'Djibouti - National Assembly',\n",
       " 'Egypt - House of Representatives',\n",
       " 'Egypt - Senate',\n",
       " 'Iraq - Council of Representatives of Iraq',\n",
       " 'Jordan - House of Representatives',\n",
       " 'Jordan - Senate',\n",
       " 'Kuwait - National Assembly',\n",
       " 'Lebanon - National Assembly',\n",
       " 'Libya - House of Representatives',\n",
       " 'Mauritania - National Assembly',\n",
       " 'Mauritania - Senate',\n",
       " 'Morocco - House of Representatives',\n",
       " 'Morocco - House of Councillors',\n",
       " 'Oman - Shura Council',\n",
       " 'Oman - State Council',\n",
       " 'Qatar - Shura Council',\n",
       " 'Saudi Arabia - Shura Council',\n",
       " 'Somalia - House of the People',\n",
       " 'Somalia - Upper House',\n",
       " \"Syrian Arab Republic - People's Assembly\",\n",
       " \"Tunisia - Assembly of People's Representatives\",\n",
       " 'United Arab Emirates - Federal National Council',\n",
       " 'Yemen - House of Representatives',\n",
       " 'Yemen - Shura Council']"
      ]
     },
     "execution_count": 131,
     "metadata": {},
     "output_type": "execute_result"
    }
   ],
   "source": [
    "options"
   ]
  },
  {
   "cell_type": "code",
   "execution_count": 79,
   "metadata": {},
   "outputs": [],
   "source": [
    "from selenium.webdriver.support.ui import Select\n",
    "from selenium.webdriver.common.action_chains import ActionChains\n",
    "from selenium.webdriver.common.keys import Keys\n",
    "options = []\n",
    "labels_statutory = []\n",
    "values_statutory = []\n",
    "labels_men = []\n",
    "values_men = []\n",
    "labels_women = []\n",
    "values_women = []\n",
    "labels_percen_women = []\n",
    "values_percen_women = []\n",
    "years_statutory = []\n",
    "years_men = []\n",
    "years_women = []\n",
    "years_percentage_women = []\n",
    "nb_statutory = []\n",
    "nb_men = []\n",
    "nb_women = []\n",
    "nb_percentage_women = []\n",
    "options_data = []\n",
    "arab_countries = ['Algeria', 'Bahrain', 'Comoros', 'Djibouti', 'Egypt', 'Iraq', 'Jordan', 'Kuwait', 'Lebanon', 'Libya', 'Mauritania', 'Morocco', 'Oman', 'Qatar', 'Saudi Arabia', 'Somalia' , 'Syria' , 'Tunisia', 'United Arab Emirates', 'Yemen']\n",
    "url = 'https://data.ipu.org/'\n",
    "driver.get(url)\n",
    "flex_parent = driver.find_element(By.CLASS_NAME,'cc-menu')\n",
    "flex_parent.click()                                \n",
    "div_select = flex_parent.find_element(By.CLASS_NAME,'form-item.form-type-select.form-item-country-and-chamber-select')\n",
    "select_element = div_select.find_element(By.CLASS_NAME,'chosen-enable.form-select.chosen-processed')\n",
    "driver.execute_script(\"arguments[0].style.display = 'block';\", select_element)\n",
    "select_element.is_displayed()\n",
    "select = Select(select_element)\n",
    "option_list = select.options\n",
    "for option in option_list:\n",
    "    for i in arab_countries:\n",
    "        if i in option.text:\n",
    "            options.append(option.text)\n",
    "for i in options:\n",
    "    time.sleep(2)\n",
    "    select.select_by_visible_text(i)\n",
    "    time.sleep(4)\n",
    "    try:\n",
    "        div = driver.find_element(By.CLASS_NAME,'chamber__info-inner')\n",
    "        div_member = div.find_element(By.CLASS_NAME,'panel-pane.pane-panels-mini.pane-members.country-heading')\n",
    "        statutory_row = div.find_element(By.CLASS_NAME,'panel-pane.pane-entity-field.pane-node-field-statutory-members-number')\n",
    "        \n",
    "        try:\n",
    "            his_statutory = statutory_row.find_element(By.CLASS_NAME,'field-items').find_element(By.CLASS_NAME,'info-pop-up.jquery-once-1-processed')\n",
    "            his_statutory.click()\n",
    "            time.sleep(4)\n",
    "            table_statut =  driver.find_element(By.ID,'field_statutory_members_number-historical').find_element(By.TAG_NAME,'section')\n",
    "            rows_statut = table_statut.find_elements(By.TAG_NAME,'tr')\n",
    "            for row in rows_statut[1:]:\n",
    "                cells_statut = row.find_elements(By.TAG_NAME,'td')\n",
    "                cells_text_statut = [cell.text for cell in cells_statut]\n",
    "                time.sleep(2)\n",
    "                if len(cells_text_statut)>1:\n",
    "                    time.sleep(1)\n",
    "                    year_statutory = cells_text_statut[0] + ' ' + i\n",
    "                    nbs_statutory = cells_text_statut[1] + ' ' + i\n",
    "                    years_statutory.append(year_statutory) \n",
    "                    nb_statutory.append(nbs_statutory)\n",
    "            time.sleep(2)\n",
    "            div_hist_st = driver.find_element(By.CSS_SELECTOR,'[aria-describedby=\"field_statutory_members_number-historical\"]')\n",
    "            close_button = div_hist_st.find_element(By.TAG_NAME,'button')\n",
    "            close_button.click()\n",
    "        except:\n",
    "            pass\n",
    "       \n",
    "        label_statutory = statutory_row.find_element(By.CLASS_NAME,'field-label').text\n",
    "        value_statutory = statutory_row.find_element(By.CLASS_NAME,'field-items').text\n",
    "        time.sleep(2)\n",
    "        men_row = div_member.find_element(By.CLASS_NAME,'panel-pane.pane-entity-field.pane-node-field-current-men-number')\n",
    "        try:                                                                                      \n",
    "            his_men = men_row.find_element(By.CLASS_NAME,'field-items').find_element(By.CLASS_NAME,'info-pop-up.jquery-once-1-processed')\n",
    "            his_men.click()\n",
    "            time.sleep(4)\n",
    "            table_men =  driver.find_element(By.ID,'field_current_men_number-historical').find_element(By.TAG_NAME,'section')\n",
    "            rows_men = table_men.find_elements(By.TAG_NAME,'tr')\n",
    "            for row in rows_men[1:]:\n",
    "                cells_men = row.find_elements(By.TAG_NAME,'td')\n",
    "                cells_text_men = [cell.text for cell in cells_men]\n",
    "                time.sleep(2)\n",
    "                if len(cells_text_men)>1:\n",
    "                    time.sleep(1)\n",
    "                    year_men = cells_text_men[0] + ' ' + i\n",
    "                    nbs_men= cells_text_men[1] + ' ' + i\n",
    "                    years_men.append(year_men)\n",
    "                    nb_men.append(nbs_men)\n",
    "            time.sleep(2)\n",
    "            div_hist_men = driver.find_element(By.CSS_SELECTOR,'[aria-describedby=\"field_current_men_number-historical\"]')\n",
    "            close_button_men = div_hist_men.find_element(By.TAG_NAME,'button')      \n",
    "            close_button_men.click() \n",
    "            time.sleep(2)\n",
    "        except:\n",
    "            pass\n",
    "        label_men = men_row.find_element(By.CLASS_NAME,'field-label').text\n",
    "        value_men = men_row.find_element(By.CLASS_NAME,'field-items').text\n",
    "        time.sleep(2)\n",
    "        women_row = div_member.find_element(By.CLASS_NAME,'panel-pane.pane-entity-field.pane-node-field-current-women-number')\n",
    "        try:\n",
    "            his_women = women_row.find_element(By.CLASS_NAME,'field-items').find_element(By.CLASS_NAME,'info-pop-up.jquery-once-1-processed')\n",
    "            his_women.click()\n",
    "            time.sleep(4)\n",
    "            table_women =  driver.find_element(By.ID,'field_current_women_number-historical').find_element(By.TAG_NAME,'section')\n",
    "            rows_women = table_women.find_elements(By.TAG_NAME,'tr')\n",
    "            for row in rows_women[1:]:\n",
    "                cells_women = row.find_elements(By.TAG_NAME,'td')\n",
    "                cells_text_women = [cell.text for cell in cells_women]\n",
    "                time.sleep(2)\n",
    "                if len(cells_text_women)>1:\n",
    "                    time.sleep(1)\n",
    "                    year_women = cells_text_women[0] + ' ' + i\n",
    "                    nbs_women = cells_text_women[1] + ' ' + i\n",
    "                    years_women.append(year_women)\n",
    "                    nb_women.append(nbs_women)\n",
    "            time.sleep(2)\n",
    "            div_hist_women = driver.find_element(By.CSS_SELECTOR,'[aria-describedby=\"field_current_women_number-historical\"]')\n",
    "            close_button_women = div_hist_women.find_element(By.TAG_NAME,'button')   \n",
    "            close_button_women.click()\n",
    "            time.sleep(2)\n",
    "        except:\n",
    "            pass\n",
    "        label_women = women_row.find_element(By.CLASS_NAME,'field-label').text\n",
    "        value_women = women_row.find_element(By.CLASS_NAME,'field-items').text\n",
    "        time.sleep(2)\n",
    "        percen_women_row = div_member.find_element(By.CLASS_NAME,'panel-pane.pane-ipu-country-node-property-pane.field')\n",
    "        try:\n",
    "            his_percentage_women = percen_women_row.find_element(By.CLASS_NAME,'field-items').find_element(By.CLASS_NAME,'info-pop-up.jquery-once-1-processed')\n",
    "            his_percentage_women.click()\n",
    "            time.sleep(4)\n",
    "            table_percentage_women =  driver.find_element(By.ID,'current_women_percent-historical').find_element(By.TAG_NAME,'section')\n",
    "            rows_percentage_women = table_percentage_women.find_elements(By.TAG_NAME,'tr')\n",
    "            for row in rows_percentage_women[1:]:\n",
    "                cells_percentage_women = row.find_elements(By.TAG_NAME,'td')\n",
    "                cells_text_percentage_women = [cell.text for cell in cells_percentage_women]\n",
    "                time.sleep(2)\n",
    "                if len(cells_text_percentage_women)>1:\n",
    "                    time.sleep(1)\n",
    "                    year_percentage_women = cells_text_percentage_women[0] + ' ' + i\n",
    "                    nbs_percentage_women = cells_text_percentage_women[1] + ' ' + i\n",
    "                    years_percentage_women.append(year_percentage_women)\n",
    "                    nb_percentage_women.append(nbs_percentage_women)\n",
    "            time.sleep(1)\n",
    "            div_hist_perc = driver.find_element(By.CSS_SELECTOR,'[aria-describedby=\"current_women_percent-historical\"]')\n",
    "            close_button_perc = div_hist_perc.find_element(By.TAG_NAME,'button')  \n",
    "            close_button_perc.click() \n",
    "            time.sleep(2)\n",
    "        except:\n",
    "            pass\n",
    "        label_percen_women = percen_women_row.find_element(By.CLASS_NAME,'field-label').text\n",
    "        value_percen_women = percen_women_row.find_element(By.CLASS_NAME,'field-items').text\n",
    "        labels_statutory.append(label_statutory)\n",
    "        values_statutory.append(value_statutory)\n",
    "        labels_men.append(label_men)\n",
    "        values_men.append(value_men)\n",
    "        labels_women.append(label_women)\n",
    "        values_women.append(value_women)\n",
    "        labels_percen_women.append(label_percen_women)\n",
    "        values_percen_women.append(value_percen_women)\n",
    "        options_data.append(i)\n",
    "        # time.sleep(5)\n",
    "    except:\n",
    "        pass\n",
    "    time.sleep(4)\n",
    "    driver.back()\n",
    "    flex_parent = driver.find_element(By.CLASS_NAME,'cc-menu')\n",
    "    flex_parent.click()   \n",
    "    time.sleep(4)                             \n",
    "    div_select = flex_parent.find_element(By.CLASS_NAME,'form-item.form-type-select.form-item-country-and-chamber-select')\n",
    "    select_element = div_select.find_element(By.CLASS_NAME,'chosen-enable.form-select.chosen-processed')\n",
    "    driver.execute_script(\"arguments[0].style.display = 'block';\", select_element)\n",
    "    select_element.is_displayed()\n",
    "    select = Select(select_element)\n",
    "    # select.select_by_visible_text(option.text)\n",
    "        # time.sleep(2)\n",
    "        # driver.get(url)\n",
    "        # flex_parent = driver.find_element(By.CLASS_NAME,'cc-menu')\n",
    "        # flex_parent.click()                                \n",
    "        # div_select = flex_parent.find_element(By.CLASS_NAME,'form-item.form-type-select.form-item-country-and-chamber-select')\n",
    "        # select_element = div_select.find_element(By.CLASS_NAME,'chosen-enable.form-select.chosen-processed')\n",
    "        # driver.execute_script(\"arguments[0].style.display = 'block';\", select_element)\n",
    "        # select_element.is_displayed()\n",
    "    # else:\n",
    "    #     print(option.text)\n",
    "        # time.sleep(2)\n",
    "        # driver.back()\n",
    "        # time.sleep(4)\n",
    "        # # driver.get(url)\n",
    "        # arab_countries = ['Algeria', 'Bahrain', 'Comoros', 'Djibouti', 'Egypt', 'Iraq', 'Jordan', 'Kuwait', 'Lebanon', 'Libya', 'Mauritania', 'Morocco', 'Oman', 'Qatar', 'Saudi Arabia', 'Somalia' , 'Syria' , 'Tunisia', 'United Arab Emirates', 'Yemen']\n",
    "        # flex_parent = driver.find_element(By.CLASS_NAME,'cc-menu')\n",
    "        # flex_parent.click()\n",
    "        # div_click = flex_parent.find_element(By.CLASS_NAME,'chosen-container.chosen-container-single.chosen-enable.form-select.chosen-processed.chosen-container-active.chosen-with-drop')\n",
    "        # option_list_div = flex_parent.find_element(By.CLASS_NAME,'chosen-drop')\n",
    "        # option_list_ul = option_list_div.find_element(By.TAG_NAME,'ul')\n",
    "        # option_list_li = option_list_ul.find_elements(By.TAG_NAME,'li')\n",
    "        "
   ]
  },
  {
   "cell_type": "code",
   "execution_count": 100,
   "metadata": {},
   "outputs": [],
   "source": [
    "years_m = []\n",
    "countries_m = []\n",
    "chambers_m = [] \n",
    "for y_m in years_men:\n",
    "    year_m = y_m.split(' ')[0]\n",
    "    years_m.append(year_m)\n",
    "    country_m = y_m.split(' ')[1]\n",
    "    countries_m.append(country_m)\n",
    "    chamber_w = y_m.split(' - ')[1]\n",
    "    chambers_m.append(chamber_w)"
   ]
  },
  {
   "cell_type": "code",
   "execution_count": 101,
   "metadata": {},
   "outputs": [],
   "source": [
    "years_w = []\n",
    "countries_w = []\n",
    "chambers_w = [] \n",
    "for y_w in years_women:\n",
    "    year_w = y_w.split(' ')[0]\n",
    "    years_w.append(year_w)\n",
    "    country_w = y_w.split(' ')[1]\n",
    "    countries_w.append(country_w)\n",
    "    chamber_w = y_w.split(' - ')[1]\n",
    "    chambers_w.append(chamber_w)"
   ]
  },
  {
   "cell_type": "code",
   "execution_count": 102,
   "metadata": {},
   "outputs": [],
   "source": [
    "nbs_m = []\n",
    "for n_m in nb_men:\n",
    "    nb_m = n_m.split(' ')[0]\n",
    "    nbs_m.append(nb_m)"
   ]
  },
  {
   "cell_type": "code",
   "execution_count": 103,
   "metadata": {},
   "outputs": [],
   "source": [
    "nbs_w = []\n",
    "for n_w in nb_women:\n",
    "    nb_w = n_w.split(' ')[0]\n",
    "    nbs_w.append(nb_w)"
   ]
  },
  {
   "cell_type": "code",
   "execution_count": 112,
   "metadata": {},
   "outputs": [],
   "source": [
    "men = {'country men'  : countries_m , 'year men' : years_m , 'chambers men' : chambers_m , 'nomber of men' : nbs_m}"
   ]
  },
  {
   "cell_type": "code",
   "execution_count": 113,
   "metadata": {},
   "outputs": [],
   "source": [
    "women = {'country women'  : countries_w , 'year women' : years_w , 'chambers women' : chambers_w , 'nomber of women' : nbs_w}"
   ]
  },
  {
   "cell_type": "code",
   "execution_count": 114,
   "metadata": {},
   "outputs": [],
   "source": [
    "women_men = {'country men'  : countries_m , 'year men' : years_m , 'chambers men' : chambers_m , 'nomber of men' : nbs_m , 'country women'  : countries_w , 'year women' : years_w , 'chambers women' : chambers_w , 'nomber of women' : nbs_w }"
   ]
  },
  {
   "cell_type": "code",
   "execution_count": 116,
   "metadata": {},
   "outputs": [],
   "source": [
    "women_men_df = pd.DataFrame(dict([ (k,pd.Series(v)) for k,v in women_men.items() ]))\n",
    "women_men_df.to_csv('test_women_men.csv')"
   ]
  },
  {
   "cell_type": "code",
   "execution_count": 130,
   "metadata": {},
   "outputs": [
    {
     "name": "stdout",
     "output_type": "stream",
     "text": [
      "2022-11 Bahrain - Shura Council\n",
      "2014-12 Bahrain - Shura Council\n",
      "2010-11 Bahrain - Shura Council\n",
      "2006-01 Bahrain - Shura Council\n",
      "2002-10 Bahrain - Shura Council\n",
      "2020-01 Comoros - Assembly of the Union\n",
      "2016-12 Comoros - Assembly of the Union\n",
      "2011-01 Comoros - Assembly of the Union\n",
      "2010-01 Comoros - Assembly of the Union\n",
      "2009-12 Comoros - Assembly of the Union\n",
      "2008-01 Comoros - Assembly of the Union\n",
      "2003-01 Comoros - Assembly of the Union\n",
      "1996-12 Comoros - Assembly of the Union\n",
      "1993-12 Comoros - Assembly of the Union\n",
      "1978-01 Comoros - Assembly of the Union\n",
      "2022-05 Lebanon - National Assembly\n",
      "2019-04 Lebanon - National Assembly\n",
      "2019-02 Lebanon - National Assembly\n",
      "2018-06 Lebanon - National Assembly\n",
      "2009-06 Lebanon - National Assembly\n",
      "2005-05 Lebanon - National Assembly\n",
      "1992-01 Lebanon - National Assembly\n",
      "1947-01 Lebanon - National Assembly\n",
      "2021-12 Libya - House of Representatives\n",
      "2014-08 Libya - House of Representatives\n",
      "2012-07 Libya - House of Representatives\n",
      "2006-03 Libya - House of Representatives\n",
      "1952-01 Libya - House of Representatives\n",
      "2018-09 Mauritania - National Assembly\n",
      "2013-11 Mauritania - National Assembly\n",
      "2011-01 Mauritania - National Assembly\n",
      "2010-01 Mauritania - National Assembly\n",
      "2006-11 Mauritania - National Assembly\n",
      "1998-01 Mauritania - National Assembly\n",
      "1997-01 Mauritania - National Assembly\n",
      "1996-01 Mauritania - National Assembly\n",
      "1992-01 Mauritania - National Assembly\n",
      "1975-01 Mauritania - National Assembly\n",
      "1965-01 Mauritania - National Assembly\n",
      "2019-10 Oman - Shura Council\n",
      "2011-10 Oman - Shura Council\n",
      "2007-10 Oman - Shura Council\n",
      "2003-10 Oman - Shura Council\n",
      "2021-10 Qatar - Shura Council\n",
      "2017-11 Qatar - Shura Council\n",
      "2005-06 Qatar - Shura Council\n",
      "2021-10 Somalia - Upper House\n",
      "2021-09 Somalia - Upper House\n",
      "2021-07 Somalia - Upper House\n",
      "2017-02 Somalia - Upper House\n",
      "2016-01 Somalia - Upper House\n",
      "2022-12 Syrian Arab Republic - People's Assembly\n",
      "2020-07 Syrian Arab Republic - People's Assembly\n",
      "2019-12 Syrian Arab Republic - People's Assembly\n",
      "2016-04 Syrian Arab Republic - People's Assembly\n",
      "2014-12 Syrian Arab Republic - People's Assembly\n",
      "2012-05 Syrian Arab Republic - People's Assembly\n",
      "2007-04 Syrian Arab Republic - People's Assembly\n",
      "2003-03 Syrian Arab Republic - People's Assembly\n",
      "1998-01 Syrian Arab Republic - People's Assembly\n",
      "1994-01 Syrian Arab Republic - People's Assembly\n",
      "1990-01 Syrian Arab Republic - People's Assembly\n",
      "1986-01 Syrian Arab Republic - People's Assembly\n",
      "1981-01 Syrian Arab Republic - People's Assembly\n",
      "1977-01 Syrian Arab Republic - People's Assembly\n",
      "1973-01 Syrian Arab Republic - People's Assembly\n",
      "1961-01 Syrian Arab Republic - People's Assembly\n",
      "1960-01 Syrian Arab Republic - People's Assembly\n",
      "1947-01 Syrian Arab Republic - People's Assembly\n",
      "2019-11 United Arab Emirates - Federal National Council\n",
      "2019-10 United Arab Emirates - Federal National Council\n",
      "2017-07 United Arab Emirates - Federal National Council\n",
      "2016-12 United Arab Emirates - Federal National Council\n",
      "2015-11 United Arab Emirates - Federal National Council\n",
      "2012-01 United Arab Emirates - Federal National Council\n",
      "2006-12 United Arab Emirates - Federal National Council\n",
      "1971-01 United Arab Emirates - Federal National Council\n",
      "2021-05 Yemen - House of Representatives\n",
      "2018-12 Yemen - House of Representatives\n",
      "2015-02 Yemen - House of Representatives\n",
      "2003-04 Yemen - House of Representatives\n",
      "1993-04 Yemen - House of Representatives\n",
      "1990-05 Yemen - House of Representatives\n",
      "2021-10 Yemen - Shura Council\n",
      "2018-12 Yemen - Shura Council\n",
      "2001-04 Yemen - Shura Council\n"
     ]
    }
   ],
   "source": [
    "for year_wom in years_women:\n",
    "    for year_m in years_men:\n",
    "        if year_m == year_men :\n",
    "            print(year_wom)"
   ]
  },
  {
   "cell_type": "code",
   "execution_count": 154,
   "metadata": {},
   "outputs": [],
   "source": [
    "code_countries = ['DZA' , 'DZA' , 'BHR' , 'BHR' , 'COM' , 'EGY' , 'EGY' , 'IRQ' , 'JOR' , 'JOR' , 'KWT' , 'LBN' , 'LBY' , 'MRT' , 'MAR' , 'MAR' , 'OMN' , 'OMN' , ' QAT' , 'SOM' , 'SOM' , 'SYR' , 'TUN' , 'ARE' , 'YEM' , 'YEM']"
   ]
  },
  {
   "cell_type": "code",
   "execution_count": null,
   "metadata": {},
   "outputs": [],
   "source": [
    "list = [countries, chamber_type , code_countries , values_statutory , values_men , values_women , values_percen_women ]"
   ]
  },
  {
   "cell_type": "code",
   "execution_count": 155,
   "metadata": {},
   "outputs": [
    {
     "data": {
      "text/plain": [
       "26"
      ]
     },
     "execution_count": 155,
     "metadata": {},
     "output_type": "execute_result"
    }
   ],
   "source": [
    "len(code_countries)"
   ]
  },
  {
   "cell_type": "code",
   "execution_count": 159,
   "metadata": {},
   "outputs": [],
   "source": [
    "chamber_type = []\n",
    "countries = []\n",
    "for j in options_data :\n",
    "    chamber = j.split('- ')[1]\n",
    "    country = j.split('- ')[0]\n",
    "    chamber_type.append(chamber)\n",
    "    countries.append(country)"
   ]
  },
  {
   "cell_type": "code",
   "execution_count": 160,
   "metadata": {},
   "outputs": [
    {
     "data": {
      "text/plain": [
       "['Algeria ',\n",
       " 'Algeria ',\n",
       " 'Bahrain ',\n",
       " 'Bahrain ',\n",
       " 'Comoros ',\n",
       " 'Egypt ',\n",
       " 'Egypt ',\n",
       " 'Iraq ',\n",
       " 'Jordan ',\n",
       " 'Jordan ',\n",
       " 'Kuwait ',\n",
       " 'Lebanon ',\n",
       " 'Libya ',\n",
       " 'Mauritania ',\n",
       " 'Morocco ',\n",
       " 'Morocco ',\n",
       " 'Oman ',\n",
       " 'Oman ',\n",
       " 'Qatar ',\n",
       " 'Somalia ',\n",
       " 'Somalia ',\n",
       " 'Syrian Arab Republic ',\n",
       " 'Tunisia ',\n",
       " 'United Arab Emirates ',\n",
       " 'Yemen ',\n",
       " 'Yemen ']"
      ]
     },
     "execution_count": 160,
     "metadata": {},
     "output_type": "execute_result"
    }
   ],
   "source": [
    "countries"
   ]
  },
  {
   "cell_type": "code",
   "execution_count": 135,
   "metadata": {},
   "outputs": [
    {
     "data": {
      "text/plain": [
       "['407',\n",
       " '174',\n",
       " '40',\n",
       " '40',\n",
       " '24',\n",
       " '596',\n",
       " '300',\n",
       " '329',\n",
       " '130',\n",
       " '65',\n",
       " '65',\n",
       " '128',\n",
       " '200',\n",
       " '157',\n",
       " '395',\n",
       " '120',\n",
       " '86',\n",
       " '86',\n",
       " '45',\n",
       " '275',\n",
       " '54',\n",
       " '250',\n",
       " '161',\n",
       " '40',\n",
       " '301',\n",
       " '111']"
      ]
     },
     "execution_count": 135,
     "metadata": {},
     "output_type": "execute_result"
    }
   ],
   "source": [
    "countries, chamber_type , code_countries , values_statutory , values_men , values_women , values_percen_women "
   ]
  },
  {
   "cell_type": "code",
   "execution_count": 164,
   "metadata": {},
   "outputs": [],
   "source": [
    "base_path = 'C:\\\\Users\\\\10235555\\\\Documents\\\\Dataportal Data\\\\IPU'"
   ]
  },
  {
   "cell_type": "code",
   "execution_count": 166,
   "metadata": {},
   "outputs": [],
   "source": [
    "import csv\n",
    "from itertools import zip_longest\n",
    "\n",
    "list = [countries, chamber_type , code_countries , values_statutory , values_men , values_women , values_percen_women ]\n",
    "exported = zip_longest(*list)\n",
    "with open(f'{base_path}\\\\chambers_country.csv','w',newline='') as f:\n",
    "     wr = csv.writer(f)\n",
    "     wr.writerow(['country' , 'chamber name' , 'code of country' , 'Statutory number of members' , 'number of men' , 'number of women' , 'percentage of women'])  # header\n",
    "     wr.writerows(exported)"
   ]
  },
  {
   "cell_type": "code",
   "execution_count": 144,
   "metadata": {},
   "outputs": [
    {
     "data": {
      "text/plain": [
       "repeat(0, 10)"
      ]
     },
     "execution_count": 144,
     "metadata": {},
     "output_type": "execute_result"
    }
   ],
   "source": [
    "\n",
    "import itertools \n",
    "itertools.repeat(0, 10)"
   ]
  },
  {
   "cell_type": "code",
   "execution_count": 152,
   "metadata": {},
   "outputs": [
    {
     "data": {
      "text/plain": [
       "['Algeria',\n",
       " 'Bahrain',\n",
       " 'Comoros',\n",
       " 'Djibouti',\n",
       " 'Egypt',\n",
       " 'Iraq',\n",
       " 'Jordan',\n",
       " 'Kuwait',\n",
       " 'Lebanon',\n",
       " 'Libya',\n",
       " 'Mauritania',\n",
       " 'Morocco',\n",
       " 'Oman',\n",
       " 'Qatar',\n",
       " 'Saudi Arabia',\n",
       " 'Somalia',\n",
       " 'Syria',\n",
       " 'Tunisia',\n",
       " 'United Arab Emirates',\n",
       " 'Yemen']"
      ]
     },
     "execution_count": 152,
     "metadata": {},
     "output_type": "execute_result"
    }
   ],
   "source": [
    "arab_countries"
   ]
  },
  {
   "cell_type": "code",
   "execution_count": 140,
   "metadata": {},
   "outputs": [
    {
     "data": {
      "text/plain": [
       "[\"2022-12 Algeria - National People's Assembly\",\n",
       " \"2021-06 Algeria - National People's Assembly\",\n",
       " \"2020-12 Algeria - National People's Assembly\",\n",
       " '2022-12 Algeria - Council of the Nation',\n",
       " '2022-02 Algeria - Council of the Nation',\n",
       " '2020-06 Algeria - Council of the Nation',\n",
       " '2018-12 Algeria - Council of the Nation',\n",
       " '2022-11 Bahrain - Council of Representatives',\n",
       " '2018-11 Bahrain - Council of Representatives',\n",
       " '2022-12 Egypt - House of Representatives',\n",
       " '2021-06 Egypt - House of Representatives',\n",
       " '2020-10 Egypt - House of Representatives',\n",
       " '2019-12 Egypt - House of Representatives',\n",
       " '2022-12 Egypt - Senate',\n",
       " '2020-10 Egypt - Senate',\n",
       " '2021-10 Iraq - Council of Representatives of Iraq',\n",
       " '2019-12 Iraq - Council of Representatives of Iraq',\n",
       " '2018-05 Iraq - Council of Representatives of Iraq',\n",
       " '2021-12 Jordan - House of Representatives',\n",
       " '2020-11 Jordan - House of Representatives',\n",
       " '2022-10 Jordan - Senate',\n",
       " '2021-12 Jordan - Senate',\n",
       " '2020-12 Jordan - Senate',\n",
       " '2020-09 Jordan - Senate',\n",
       " '2022-10 Kuwait - National Assembly',\n",
       " '2022-09 Kuwait - National Assembly',\n",
       " '2021-12 Kuwait - National Assembly',\n",
       " '2020-12 Kuwait - National Assembly',\n",
       " '2019-12 Kuwait - National Assembly',\n",
       " '2018-12 Kuwait - National Assembly',\n",
       " '2022-12 Morocco - House of Representatives',\n",
       " '2021-12 Morocco - House of Representatives',\n",
       " '2021-09 Morocco - House of Representatives',\n",
       " '2022-12 Morocco - House of Councillors',\n",
       " '2021-10 Morocco - House of Councillors',\n",
       " '2021-12 Oman - State Council',\n",
       " '2019-11 Oman - State Council',\n",
       " '2022-05 Somalia - House of the People',\n",
       " '2022-04 Somalia - House of the People',\n",
       " '2021-11 Somalia - House of the People',\n",
       " '2017-02 Somalia - House of the People',\n",
       " '2017-01 Somalia - House of the People',\n",
       " '2021-11 Somalia - Upper House',\n",
       " '2021-10 Somalia - Upper House',\n",
       " '2021-09 Somalia - Upper House',\n",
       " '2021-07 Somalia - Upper House',\n",
       " \"2022-12 Syrian Arab Republic - People's Assembly\",\n",
       " \"2020-07 Syrian Arab Republic - People's Assembly\",\n",
       " \"2019-12 Syrian Arab Republic - People's Assembly\",\n",
       " \"2020-12 Tunisia - Assembly of People's Representatives\",\n",
       " \"2019-12 Tunisia - Assembly of People's Representatives\",\n",
       " \"2019-10 Tunisia - Assembly of People's Representatives\",\n",
       " \"2018-12 Tunisia - Assembly of People's Representatives\",\n",
       " '2019-11 United Arab Emirates - Federal National Council',\n",
       " '2019-10 United Arab Emirates - Federal National Council',\n",
       " '2022-12 Yemen - House of Representatives',\n",
       " '2021-05 Yemen - House of Representatives',\n",
       " '2018-12 Yemen - House of Representatives',\n",
       " '2017-01 Yemen - House of Representatives',\n",
       " '2021-10 Yemen - Shura Council',\n",
       " '2018-12 Yemen - Shura Council']"
      ]
     },
     "execution_count": 140,
     "metadata": {},
     "output_type": "execute_result"
    }
   ],
   "source": [
    "years_men"
   ]
  },
  {
   "cell_type": "code",
   "execution_count": 76,
   "metadata": {},
   "outputs": [
    {
     "name": "stderr",
     "output_type": "stream",
     "text": [
      "INFO:WDM:====== WebDriver manager ======\n",
      "INFO:WDM:Get LATEST chromedriver version for google-chrome 109.0.5414\n",
      "INFO:WDM:Driver [C:\\Users\\10235555\\.wdm\\drivers\\chromedriver\\win32\\109.0.5414\\chromedriver.exe] found in cache\n"
     ]
    }
   ],
   "source": [
    "from bs4 import BeautifulSoup\n",
    "import requests\n",
    "import os\n",
    "import wget\n",
    "import time\n",
    "base_path = \"C:\\\\Users\\\\10235555\\\\Documents\\\\Dataportal Data\\\\IPU\"\n",
    "import urllib.request\n",
    "import logging\n",
    "import pandas as pd\n",
    "from selenium.webdriver.support.ui import Select\n",
    "from re import search\n",
    "logging.basicConfig(handlers=[logging.FileHandler(\"C:\\\\Users\\\\10235555\\\\Documents\\\\Dataportal Data\\\\IPU_out.log\"),\n",
    "                            logging.StreamHandler()], level=logging.INFO)\n",
    "\n",
    "from selenium import webdriver\n",
    "from selenium.webdriver.common.keys import Keys\n",
    "from selenium.webdriver.common.by import By\n",
    "from selenium.webdriver.support.ui import WebDriverWait\n",
    "from selenium.common.exceptions import ElementNotInteractableException, NoSuchElementException\n",
    "from selenium.common.exceptions import ElementClickInterceptedException\n",
    "from selenium.webdriver.support import expected_conditions as EC\n",
    "from selenium.webdriver.chrome.service import Service\n",
    "from webdriver_manager.chrome import ChromeDriverManager\n",
    "from webdriver_manager.firefox import GeckoDriverManager\n",
    "from selenium.webdriver.firefox.options import Options\n",
    "from bs4 import BeautifulSoup\n",
    "import shutil\n",
    "import time\n",
    "import os\n",
    "from pyshadow.main import Shadow\n",
    "from py7zr import unpack_7zarchive\n",
    "from RequestInferSchemaToJsonAPI.main import TriggerInferShemaToJsonAPI\n",
    "\n",
    "chrome_options = webdriver.ChromeOptions()\n",
    "base_path = \"C:\\\\Users\\\\10235555\\\\Documents\\\\Dataportal Data\\\\IPU\" # local, gets current working directory\n",
    "prefs = {'download.default_directory' : base_path}#, \"profile.content_settings.exceptions.automatic_downloads.*.setting\" : 1}\n",
    "chrome_options.add_experimental_option('prefs', prefs)\n",
    "#chrome_options.add_argument('--user-agent=\"Mozilla/5.0 (Windows Phone 10.0; Android 4.2.1; Microsoft; Lumia 640 XL LTE) AppleWebKit/537.36 (KHTML, like Gecko) Chrome/42.0.2311.135 Mobile Safari/537.36 Edge/12.10166\"')\n",
    "driver = webdriver.Chrome(service=Service(ChromeDriverManager().install()), options=chrome_options)\n",
    "driver.maximize_window()"
   ]
  },
  {
   "cell_type": "code",
   "execution_count": 77,
   "metadata": {},
   "outputs": [
    {
     "name": "stdout",
     "output_type": "stream",
     "text": [
      "['2022-12', '375', '375']\n",
      "['2021-06', '374', '374']\n",
      "['2020-12', '342', '342']\n"
     ]
    }
   ],
   "source": [
    "from selenium.webdriver.support.ui import Select\n",
    "from selenium.webdriver.common.action_chains import ActionChains\n",
    "from selenium.webdriver.common.keys import Keys\n",
    "options = []\n",
    "labels_statutory = []\n",
    "values_statutory = []\n",
    "labels_men = []\n",
    "values_men = []\n",
    "labels_women = []\n",
    "values_women = []\n",
    "labels_percen_women = []\n",
    "values_percen_women = []\n",
    "years_statutory = []\n",
    "years_men = []\n",
    "years_women = []\n",
    "years_percentage_women = []\n",
    "nb_statutory = []\n",
    "nb_men = []\n",
    "nb_women = []\n",
    "nb_percentage_women = []\n",
    "options_data = []\n",
    "arab_countries = ['Algeria', 'Bahrain', 'Comoros', 'Djibouti', 'Egypt', 'Iraq', 'Jordan', 'Kuwait', 'Lebanon', 'Libya', 'Mauritania', 'Morocco', 'Oman', 'Qatar', 'Saudi Arabia', 'Somalia' , 'Syria' , 'Tunisia', 'United Arab Emirates', 'Yemen']\n",
    "url = 'https://data.ipu.org/'\n",
    "driver.get(url)\n",
    "flex_parent = driver.find_element(By.CLASS_NAME,'cc-menu')\n",
    "flex_parent.click()                                \n",
    "div_select = flex_parent.find_element(By.CLASS_NAME,'form-item.form-type-select.form-item-country-and-chamber-select')\n",
    "select_element = div_select.find_element(By.CLASS_NAME,'chosen-enable.form-select.chosen-processed')\n",
    "driver.execute_script(\"arguments[0].style.display = 'block';\", select_element)\n",
    "select_element.is_displayed()\n",
    "select = Select(select_element)\n",
    "option_list = select.options\n",
    "time.sleep(1)\n",
    "select.select_by_visible_text(\"Algeria - National People's Assembly\")\n",
    "time.sleep(1)\n",
    "try:\n",
    "    div = driver.find_element(By.CLASS_NAME,'chamber__info-inner')\n",
    "    div_member = div.find_element(By.CLASS_NAME,'panel-pane.pane-panels-mini.pane-members.country-heading')\n",
    "    statutory_row = div.find_element(By.CLASS_NAME,'panel-pane.pane-entity-field.pane-node-field-statutory-members-number')\n",
    "    # try:\n",
    "    his_statutory = statutory_row.find_element(By.CLASS_NAME,'field-items').find_element(By.CLASS_NAME,'info-pop-up.jquery-once-1-processed')\n",
    "    his_statutory.click()\n",
    "    time.sleep(4)\n",
    "    section_statut =  driver.find_element(By.ID,'field_statutory_members_number-historical').find_element(By.TAG_NAME,'section')\n",
    "    # table_statut = section_statut.find_elements(By.TAG_NAME,'table')\n",
    "    # print(table_statut.text)\n",
    "    rows_statut = section_statut.find_elements(By.TAG_NAME,'tr')\n",
    "    for row in rows_statut[1:]:\n",
    "        cells_statut = row.find_elements(By.TAG_NAME,'td')\n",
    "        cells_text_statut = [cell.text for cell in cells_statut]\n",
    "        time.sleep(2)\n",
    "        if len(cells_text_statut)>1:\n",
    "            time.sleep(1)\n",
    "            year_statutory = cells_text_statut[0] \n",
    "            nbs_statutory = cells_text_statut[1]  \n",
    "            years_statutory.append(year_statutory) \n",
    "            nb_statutory.append(nbs_statutory)\n",
    "    time.sleep(2)\n",
    "    close_button = driver.find_element(By.CLASS_NAME,'ui-button.ui-widget.ui-state-default.ui-corner-all.ui-button-icon-only.ui-dialog-titlebar-close')\n",
    "    close_button.click()\n",
    "    # except:\n",
    "    #     pass\n",
    "    \n",
    "    label_statutory = statutory_row.find_element(By.CLASS_NAME,'field-label').text\n",
    "    value_statutory = statutory_row.find_element(By.CLASS_NAME,'field-items').text\n",
    "    time.sleep(2)\n",
    "    men_row = div_member.find_element(By.CLASS_NAME,'panel-pane.pane-entity-field.pane-node-field-current-men-number')\n",
    "    try:                                                                                      \n",
    "        his_men = men_row.find_element(By.CLASS_NAME,'field-items').find_element(By.CLASS_NAME,'info-pop-up.jquery-once-1-processed')\n",
    "        his_men.click()\n",
    "        time.sleep(4)\n",
    "        section_men =  driver.find_element(By.ID,'field_current_men_number-historical').find_element(By.TAG_NAME,'section')\n",
    "        rows_men = section_men.find_elements(By.TAG_NAME,'tr')\n",
    "        for row in rows_men[1:]:\n",
    "            cells_men = row.find_elements(By.TAG_NAME,'td')\n",
    "            cells_text_men = [cell.text for cell in cells_men]\n",
    "            time.sleep(2)\n",
    "            if len(cells_text_men)>1:\n",
    "                print(cells_text_men)\n",
    "                time.sleep(1)\n",
    "                year_men = cells_text_men[0] \n",
    "                nbs_men= cells_text_men[1] \n",
    "                years_men.append(year_men)\n",
    "                nb_men.append(nbs_men)\n",
    "        time.sleep(3)\n",
    "        close_button = driver.find_element(By.CLASS_NAME,'ui-button.ui-widget.ui-state-default.ui-corner-all.ui-button-icon-only.ui-dialog-titlebar-close')      \n",
    "        close_button.click() \n",
    "        time.sleep(4)\n",
    "    except:\n",
    "        pass\n",
    "    label_men = men_row.find_element(By.CLASS_NAME,'field-label').text\n",
    "    value_men = men_row.find_element(By.CLASS_NAME,'field-items').text\n",
    "    # time.sleep(2)\n",
    "    # women_row = div_member.find_element(By.CLASS_NAME,'panel-pane.pane-entity-field.pane-node-field-current-women-number')\n",
    "    # try:\n",
    "    #     his_women = women_row.find_element(By.CLASS_NAME,'field-items').find_element(By.CLASS_NAME,'info-pop-up.jquery-once-1-processed')\n",
    "    #     his_women.click()\n",
    "    #     time.sleep(2)\n",
    "    #     table_women =  driver.find_element(By.ID,'field_current_women_number-historical').find_element(By.TAG_NAME,'section')\n",
    "    #     rows_women = table_women.find_elements(By.TAG_NAME,'tr')\n",
    "    #     for row in rows_women[1:]:\n",
    "    #         cells_women = row.find_elements(By.TAG_NAME,'td')\n",
    "    #         cells_text_women = [cell.text for cell in cells_women]\n",
    "    #         time.sleep(2)\n",
    "    #         if len(cells_text_women)>1:\n",
    "    #             time.sleep(1)\n",
    "    #             year_women = cells_text_women[0] \n",
    "    #             nbs_women = cells_text_women[1] \n",
    "    #             years_women.append(year_women)\n",
    "    #             nb_women.append(nbs_women)\n",
    "    #     time.sleep(2)\n",
    "    #     close_button = driver.find_element(By.CLASS_NAME,'ui-button.ui-widget.ui-state-default.ui-corner-all.ui-button-icon-only.ui-dialog-titlebar-close')   \n",
    "    #     close_button.click() \n",
    "    #     time.sleep(2)\n",
    "    # except:\n",
    "    #     pass\n",
    "    # label_women = women_row.find_element(By.CLASS_NAME,'field-label').text\n",
    "    # value_women = women_row.find_element(By.CLASS_NAME,'field-items').text\n",
    "    # time.sleep(2)\n",
    "    # percen_women_row = div_member.find_element(By.CLASS_NAME,'panel-pane.pane-ipu-country-node-property-pane.field')\n",
    "    # try:\n",
    "    #     his_percentage_women = percen_women_row.find_element(By.CLASS_NAME,'field-items').find_element(By.CLASS_NAME,'info-pop-up.jquery-once-1-processed')\n",
    "    #     his_percentage_women.click()\n",
    "    #     time.sleep(2)\n",
    "    #     table_percentage_women =  driver.find_element(By.ID,'current_women_percent-historical').find_element(By.TAG_NAME,'section')\n",
    "    #     rows_percentage_women = table_percentage_women.find_elements(By.TAG_NAME,'tr')\n",
    "    #     for row in rows_percentage_women[1:]:\n",
    "    #         cells_percentage_women = row.find_elements(By.TAG_NAME,'td')\n",
    "    #         cells_text_percentage_women = [cell.text for cell in cells_percentage_women]\n",
    "    #         time.sleep(2)\n",
    "    #         if len(cells_text_percentage_women)>1:\n",
    "    #             time.sleep(1)\n",
    "    #             year_percentage_women = cells_text_percentage_women[0]\n",
    "    #             nbs_percentage_women = cells_text_percentage_women[1] \n",
    "    #             years_percentage_women.append(year_percentage_women)\n",
    "    #             nb_percentage_women.append(nbs_percentage_women)\n",
    "    #     time.sleep(1)\n",
    "    #     close_button = driver.find_element(By.CLASS_NAME,'ui-button.ui-widget.ui-state-default.ui-corner-all.ui-button-icon-only.ui-dialog-titlebar-close')  \n",
    "    #     close_button.click() \n",
    "    #     time.sleep(2)\n",
    "    # except:\n",
    "    #     pass\n",
    "    # label_percen_women = percen_women_row.find_element(By.CLASS_NAME,'field-label').text\n",
    "    # value_percen_women = percen_women_row.find_element(By.CLASS_NAME,'field-items').text\n",
    "    # labels_statutory.append(label_statutory)\n",
    "    # values_statutory.append(value_statutory)\n",
    "    # labels_men.append(label_men)\n",
    "    # values_men.append(value_men)\n",
    "    # labels_women.append(label_women)\n",
    "    # values_women.append(value_women)\n",
    "    # labels_percen_women.append(label_percen_women)\n",
    "    # values_percen_women.append(value_percen_women)\n",
    "    # options_data.append(i)\n",
    "    # time.sleep(5)\n",
    "except:\n",
    "    pass\n",
    "time.sleep(8)\n",
    "driver.back()\n",
    "flex_parent = driver.find_element(By.CLASS_NAME,'cc-menu')\n",
    "flex_parent.click()   \n",
    "time.sleep(4)                             \n",
    "div_select = flex_parent.find_element(By.CLASS_NAME,'form-item.form-type-select.form-item-country-and-chamber-select')\n",
    "select_element = div_select.find_element(By.CLASS_NAME,'chosen-enable.form-select.chosen-processed')\n",
    "driver.execute_script(\"arguments[0].style.display = 'block';\", select_element)\n",
    "select_element.is_displayed()\n",
    "select = Select(select_element)"
   ]
  },
  {
   "cell_type": "code",
   "execution_count": 61,
   "metadata": {},
   "outputs": [
    {
     "data": {
      "text/plain": [
       "['407 ', '462 ']"
      ]
     },
     "execution_count": 61,
     "metadata": {},
     "output_type": "execute_result"
    }
   ],
   "source": [
    "nb_statutory"
   ]
  },
  {
   "cell_type": "code",
   "execution_count": 4,
   "metadata": {},
   "outputs": [
    {
     "data": {
      "text/plain": [
       "[]"
      ]
     },
     "execution_count": 4,
     "metadata": {},
     "output_type": "execute_result"
    }
   ],
   "source": [
    "nb_men"
   ]
  },
  {
   "cell_type": "code",
   "execution_count": 17,
   "metadata": {},
   "outputs": [
    {
     "data": {
      "text/plain": [
       "[]"
      ]
     },
     "execution_count": 17,
     "metadata": {},
     "output_type": "execute_result"
    }
   ],
   "source": [
    "nb_women"
   ]
  }
 ],
 "metadata": {
  "kernelspec": {
   "display_name": "Python 3",
   "language": "python",
   "name": "python3"
  },
  "language_info": {
   "codemirror_mode": {
    "name": "ipython",
    "version": 3
   },
   "file_extension": ".py",
   "mimetype": "text/x-python",
   "name": "python",
   "nbconvert_exporter": "python",
   "pygments_lexer": "ipython3",
   "version": "3.11.0"
  },
  "orig_nbformat": 4,
  "vscode": {
   "interpreter": {
    "hash": "69e035e7e91c91f4a781d2e2d4ddd23f591a0aa5fdf41d28e15c78aec28956a8"
   }
  }
 },
 "nbformat": 4,
 "nbformat_minor": 2
}
